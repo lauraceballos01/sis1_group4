{
 "cells": [
  {
   "cell_type": "markdown",
   "metadata": {
    "id": "EuCJXTMr_3eA"
   },
   "source": [
    "# **Intro to SiS1 Labs**\n",
    "\n",
    "The goal of the labs of Signal and Systems 1 is to gain knowledge on the course’s topics by solving a specific signal processing problem. By the end of the course, you should be able to imitate, by synthesis, the sound produced by a plucked string instrument using the knowledge acquired in the theory and seminar classes. This will be a cumulative process, in each lab new techniques will be applied in order to improve the synthesis. First let's show what we will achieve by the end of the course. For each lab we need to import some auxiliary functions needed to load the audio files and listen to them:\n"
   ]
  },
  {
   "cell_type": "code",
   "execution_count": 13,
   "metadata": {},
   "outputs": [
    {
     "name": "stdout",
     "output_type": "stream",
     "text": [
      "Defaulting to user installation because normal site-packages is not writeable\n",
      "Collecting util\n",
      "  Downloading util-0.0.1-py3-none-any.whl (897 bytes)\n",
      "Installing collected packages: util\n",
      "Successfully installed util-0.0.1\n",
      "\u001b[33mWARNING: You are using pip version 21.2.4; however, version 25.2 is available.\n",
      "You should consider upgrading via the '/Library/Developer/CommandLineTools/usr/bin/python3 -m pip install --upgrade pip' command.\u001b[0m\n"
     ]
    }
   ],
   "source": [
    "!python3 -m pip install util"
   ]
  },
  {
   "cell_type": "code",
   "execution_count": 14,
   "metadata": {
    "id": "ypTWnizY5Ui_"
   },
   "outputs": [],
   "source": [
    "from util import load_audio, save_audio, plot_signals\n",
    "from IPython.display import Audio"
   ]
  },
  {
   "cell_type": "code",
   "execution_count": 9,
   "metadata": {},
   "outputs": [
    {
     "name": "stdout",
     "output_type": "stream",
     "text": [
      "Defaulting to user installation because normal site-packages is not writeable\n",
      "Requirement already satisfied: matplotlib in /Users/agusciaponi/Library/Python/3.9/lib/python/site-packages (3.9.4)\n",
      "Requirement already satisfied: numpy in /Users/agusciaponi/Library/Python/3.9/lib/python/site-packages (2.0.2)\n",
      "Requirement already satisfied: scipy in /Users/agusciaponi/Library/Python/3.9/lib/python/site-packages (1.13.1)\n",
      "Requirement already satisfied: ipython in /Users/agusciaponi/Library/Python/3.9/lib/python/site-packages (8.18.1)\n",
      "Requirement already satisfied: soundfile in /Users/agusciaponi/Library/Python/3.9/lib/python/site-packages (0.13.1)\n",
      "Requirement already satisfied: librosa in /Users/agusciaponi/Library/Python/3.9/lib/python/site-packages (0.11.0)\n",
      "Requirement already satisfied: plotly in /Users/agusciaponi/Library/Python/3.9/lib/python/site-packages (6.3.1)\n",
      "Requirement already satisfied: cycler>=0.10 in /Users/agusciaponi/Library/Python/3.9/lib/python/site-packages (from matplotlib) (0.12.1)\n",
      "Requirement already satisfied: kiwisolver>=1.3.1 in /Users/agusciaponi/Library/Python/3.9/lib/python/site-packages (from matplotlib) (1.4.7)\n",
      "Requirement already satisfied: pillow>=8 in /Users/agusciaponi/Library/Python/3.9/lib/python/site-packages (from matplotlib) (11.3.0)\n",
      "Requirement already satisfied: python-dateutil>=2.7 in /Users/agusciaponi/Library/Python/3.9/lib/python/site-packages (from matplotlib) (2.9.0.post0)\n",
      "Requirement already satisfied: contourpy>=1.0.1 in /Users/agusciaponi/Library/Python/3.9/lib/python/site-packages (from matplotlib) (1.3.0)\n",
      "Requirement already satisfied: fonttools>=4.22.0 in /Users/agusciaponi/Library/Python/3.9/lib/python/site-packages (from matplotlib) (4.60.1)\n",
      "Requirement already satisfied: pyparsing>=2.3.1 in /Users/agusciaponi/Library/Python/3.9/lib/python/site-packages (from matplotlib) (3.2.5)\n",
      "Requirement already satisfied: packaging>=20.0 in /Users/agusciaponi/Library/Python/3.9/lib/python/site-packages (from matplotlib) (25.0)\n",
      "Requirement already satisfied: importlib-resources>=3.2.0 in /Users/agusciaponi/Library/Python/3.9/lib/python/site-packages (from matplotlib) (6.5.2)\n",
      "Requirement already satisfied: matplotlib-inline in /Users/agusciaponi/Library/Python/3.9/lib/python/site-packages (from ipython) (0.1.7)\n",
      "Requirement already satisfied: decorator in /Users/agusciaponi/Library/Python/3.9/lib/python/site-packages (from ipython) (5.2.1)\n",
      "Requirement already satisfied: stack-data in /Users/agusciaponi/Library/Python/3.9/lib/python/site-packages (from ipython) (0.6.3)\n",
      "Requirement already satisfied: pexpect>4.3 in /Users/agusciaponi/Library/Python/3.9/lib/python/site-packages (from ipython) (4.9.0)\n",
      "Requirement already satisfied: exceptiongroup in /Users/agusciaponi/Library/Python/3.9/lib/python/site-packages (from ipython) (1.3.0)\n",
      "Requirement already satisfied: typing-extensions in /Users/agusciaponi/Library/Python/3.9/lib/python/site-packages (from ipython) (4.15.0)\n",
      "Requirement already satisfied: jedi>=0.16 in /Users/agusciaponi/Library/Python/3.9/lib/python/site-packages (from ipython) (0.19.2)\n",
      "Requirement already satisfied: pygments>=2.4.0 in /Users/agusciaponi/Library/Python/3.9/lib/python/site-packages (from ipython) (2.19.2)\n",
      "Requirement already satisfied: prompt-toolkit<3.1.0,>=3.0.41 in /Users/agusciaponi/Library/Python/3.9/lib/python/site-packages (from ipython) (3.0.52)\n",
      "Requirement already satisfied: traitlets>=5 in /Users/agusciaponi/Library/Python/3.9/lib/python/site-packages (from ipython) (5.14.3)\n",
      "Requirement already satisfied: cffi>=1.0 in /Users/agusciaponi/Library/Python/3.9/lib/python/site-packages (from soundfile) (2.0.0)\n",
      "Requirement already satisfied: audioread>=2.1.9 in /Users/agusciaponi/Library/Python/3.9/lib/python/site-packages (from librosa) (3.0.1)\n",
      "Requirement already satisfied: pooch>=1.1 in /Users/agusciaponi/Library/Python/3.9/lib/python/site-packages (from librosa) (1.8.2)\n",
      "Requirement already satisfied: numba>=0.51.0 in /Users/agusciaponi/Library/Python/3.9/lib/python/site-packages (from librosa) (0.60.0)\n",
      "Requirement already satisfied: soxr>=0.3.2 in /Users/agusciaponi/Library/Python/3.9/lib/python/site-packages (from librosa) (1.0.0)\n",
      "Requirement already satisfied: msgpack>=1.0 in /Users/agusciaponi/Library/Python/3.9/lib/python/site-packages (from librosa) (1.1.1)\n",
      "Requirement already satisfied: joblib>=1.0 in /Users/agusciaponi/Library/Python/3.9/lib/python/site-packages (from librosa) (1.5.2)\n",
      "Requirement already satisfied: scikit-learn>=1.1.0 in /Users/agusciaponi/Library/Python/3.9/lib/python/site-packages (from librosa) (1.6.1)\n",
      "Requirement already satisfied: lazy_loader>=0.1 in /Users/agusciaponi/Library/Python/3.9/lib/python/site-packages (from librosa) (0.4)\n",
      "Requirement already satisfied: narwhals>=1.15.1 in /Users/agusciaponi/Library/Python/3.9/lib/python/site-packages (from plotly) (2.7.0)\n",
      "Requirement already satisfied: pycparser in /Users/agusciaponi/Library/Python/3.9/lib/python/site-packages (from cffi>=1.0->soundfile) (2.23)\n",
      "Requirement already satisfied: zipp>=3.1.0 in /Users/agusciaponi/Library/Python/3.9/lib/python/site-packages (from importlib-resources>=3.2.0->matplotlib) (3.23.0)\n",
      "Requirement already satisfied: parso<0.9.0,>=0.8.4 in /Users/agusciaponi/Library/Python/3.9/lib/python/site-packages (from jedi>=0.16->ipython) (0.8.5)\n",
      "Requirement already satisfied: llvmlite<0.44,>=0.43.0dev0 in /Users/agusciaponi/Library/Python/3.9/lib/python/site-packages (from numba>=0.51.0->librosa) (0.43.0)\n",
      "Requirement already satisfied: ptyprocess>=0.5 in /Users/agusciaponi/Library/Python/3.9/lib/python/site-packages (from pexpect>4.3->ipython) (0.7.0)\n",
      "Requirement already satisfied: platformdirs>=2.5.0 in /Users/agusciaponi/Library/Python/3.9/lib/python/site-packages (from pooch>=1.1->librosa) (4.4.0)\n",
      "Requirement already satisfied: requests>=2.19.0 in /Users/agusciaponi/Library/Python/3.9/lib/python/site-packages (from pooch>=1.1->librosa) (2.32.5)\n",
      "Requirement already satisfied: wcwidth in /Users/agusciaponi/Library/Python/3.9/lib/python/site-packages (from prompt-toolkit<3.1.0,>=3.0.41->ipython) (0.2.14)\n",
      "Requirement already satisfied: six>=1.5 in /Library/Developer/CommandLineTools/Library/Frameworks/Python3.framework/Versions/3.9/lib/python3.9/site-packages (from python-dateutil>=2.7->matplotlib) (1.15.0)\n",
      "Requirement already satisfied: certifi>=2017.4.17 in /Users/agusciaponi/Library/Python/3.9/lib/python/site-packages (from requests>=2.19.0->pooch>=1.1->librosa) (2025.10.5)\n",
      "Requirement already satisfied: idna<4,>=2.5 in /Users/agusciaponi/Library/Python/3.9/lib/python/site-packages (from requests>=2.19.0->pooch>=1.1->librosa) (3.10)\n",
      "Requirement already satisfied: urllib3<3,>=1.21.1 in /Users/agusciaponi/Library/Python/3.9/lib/python/site-packages (from requests>=2.19.0->pooch>=1.1->librosa) (2.5.0)\n",
      "Requirement already satisfied: charset_normalizer<4,>=2 in /Users/agusciaponi/Library/Python/3.9/lib/python/site-packages (from requests>=2.19.0->pooch>=1.1->librosa) (3.4.3)\n",
      "Requirement already satisfied: threadpoolctl>=3.1.0 in /Users/agusciaponi/Library/Python/3.9/lib/python/site-packages (from scikit-learn>=1.1.0->librosa) (3.6.0)\n",
      "Requirement already satisfied: asttokens>=2.1.0 in /Users/agusciaponi/Library/Python/3.9/lib/python/site-packages (from stack-data->ipython) (3.0.0)\n",
      "Requirement already satisfied: pure-eval in /Users/agusciaponi/Library/Python/3.9/lib/python/site-packages (from stack-data->ipython) (0.2.3)\n",
      "Requirement already satisfied: executing>=1.2.0 in /Users/agusciaponi/Library/Python/3.9/lib/python/site-packages (from stack-data->ipython) (2.2.1)\n",
      "\u001b[33mWARNING: You are using pip version 21.2.4; however, version 25.2 is available.\n",
      "You should consider upgrading via the '/Library/Developer/CommandLineTools/usr/bin/python3 -m pip install --upgrade pip' command.\u001b[0m\n"
     ]
    }
   ],
   "source": [
    "!pip3 install matplotlib numpy scipy ipython soundfile librosa plotly"
   ]
  },
  {
   "cell_type": "markdown",
   "metadata": {
    "id": "3kyuMhzf5829"
   },
   "source": [
    "**Reference signal**\n",
    "\n",
    "Now let's load and listen to a reference signal like the one you will use:"
   ]
  },
  {
   "cell_type": "code",
   "execution_count": 15,
   "metadata": {
    "colab": {
     "base_uri": "https://localhost:8080/",
     "height": 250
    },
    "executionInfo": {
     "elapsed": 418,
     "status": "error",
     "timestamp": 1696423237923,
     "user": {
      "displayName": "ANDREA SOFIA VALLEJO BUDZISZEWSKI",
      "userId": "02468494066114694594"
     },
     "user_tz": -120
    },
    "id": "IaEhbheD5_3g",
    "outputId": "61442be1-550d-46d1-9d2c-c0306615ca86"
   },
   "outputs": [
    {
     "data": {
      "text/html": [
       "\n",
       "                <audio  controls=\"controls\" >\n",
       "                    <source src=\"data:audio/wav;base64,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\" type=\"audio/wav\" />\n",
       "                    Your browser does not support the audio element.\n",
       "                </audio>\n",
       "              "
      ],
      "text/plain": [
       "<IPython.lib.display.Audio object>"
      ]
     },
     "execution_count": 15,
     "metadata": {},
     "output_type": "execute_result"
    }
   ],
   "source": [
    "reference, fs = load_audio('sis1_group4ukelele.wav')\n",
    "Audio(reference, rate=fs)"
   ]
  },
  {
   "cell_type": "markdown",
   "metadata": {
    "id": "37nq4EIj6CVE"
   },
   "source": [
    "**Synthesis**\n",
    "\n",
    "Now we can load and listen to a synthesised signal like the one you will obtain and that tries to imitate the reference signal. This is an audio signal created from scratch only using the knowledge gained during the course."
   ]
  },
  {
   "cell_type": "code",
   "execution_count": 16,
   "metadata": {
    "colab": {
     "base_uri": "https://localhost:8080/",
     "height": 75
    },
    "executionInfo": {
     "elapsed": 1309,
     "status": "ok",
     "timestamp": 1633618374262,
     "user": {
      "displayName": "Nazif Can Tamer",
      "photoUrl": "https://lh3.googleusercontent.com/a-/AOh14GiTM52Gnv7dDaQrVpXTeAaRuek-M7AQlYrKekdg=s64",
      "userId": "07707576080257448155"
     },
     "user_tz": -120
    },
    "id": "Kpyugi4h6Fx2",
    "outputId": "eb439335-4004-47b8-cb6b-871f6627ce0a"
   },
   "outputs": [
    {
     "data": {
      "text/html": [
       "\n",
       "                <audio  controls=\"controls\" >\n",
       "                    <source src=\"data:audio/wav;base64,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\" type=\"audio/wav\" />\n",
       "                    Your browser does not support the audio element.\n",
       "                </audio>\n",
       "              "
      ],
      "text/plain": [
       "<IPython.lib.display.Audio object>"
      ]
     },
     "execution_count": 16,
     "metadata": {},
     "output_type": "execute_result"
    }
   ],
   "source": [
    "synthesis, fs = load_audio('sis1_group4ukelele.wav')\n",
    "Audio(synthesis, rate=fs)"
   ]
  },
  {
   "cell_type": "markdown",
   "metadata": {
    "id": "TleTywiG6TNv"
   },
   "source": [
    "---"
   ]
  },
  {
   "cell_type": "markdown",
   "metadata": {
    "id": "lOuLJ9tG5HmQ"
   },
   "source": [
    "## **Lab 1**\n",
    "In this lab you will choose your reference sound to be used for all the labs and start imitating it with a single sinusoid."
   ]
  },
  {
   "cell_type": "markdown",
   "metadata": {
    "id": "wedbHQgYD8Gd"
   },
   "source": [
    "## **Exercises**\n",
    "\n",
    "**1. Choose a reference sound**\n",
    "\n",
    "1.1. Find a recording of a single plucked string sound. Be creative, do not choose “guitar” by default, nor copy a sound from another group. You should use [Freesound](https://freesound.org/) to find the recordings (Freesound is a huge collaborative database of audio snippets released under Creative Commons licenses created and maintained by researchers of the Music Technology Group of the UPF). Try to find a sound with the best possible quality. The ideal sound format should be: uncompress (such as.wav, .aiff, but no .mp3), mono (one channel) and with a sampling rate of  44100Hz. The sound file should also contain a single note. You can start by downloading a sound from freesound and modify it with Audacity to the right format and content."
   ]
  },
  {
   "cell_type": "markdown",
   "metadata": {
    "id": "nQzeA7FHIq_4"
   },
   "source": [
    "[Put here the freesound link to the selected sound recording]"
   ]
  },
  {
   "cell_type": "markdown",
   "metadata": {},
   "source": [
    "LINK TO SOUND: https://freesound.org/people/aberrian/sounds/257368/"
   ]
  },
  {
   "cell_type": "markdown",
   "metadata": {
    "id": "CzY_zhNNI3jP"
   },
   "source": [
    "1.2. Create a github repository and upload your edited audio file there:\n",
    "\n",
    "1) Sing up to github using your UPF gmail account: https://github.com/\n",
    "\n",
    "2) Create a repository called **sis1_groupX** where X is your group number: https://docs.github.com/en/get-started/quickstart/create-a-repo\n",
    "\n",
    "3) Upload your edited audio file to the repository\n"
   ]
  },
  {
   "cell_type": "markdown",
   "metadata": {
    "id": "ZOToMiLUtlPn"
   },
   "source": [
    "1.3. Now you can clone your repository and access the audio file locally. Change the following code (user name and file name) to clone the repository and load the audio file."
   ]
  },
  {
   "cell_type": "code",
   "execution_count": 17,
   "metadata": {
    "id": "ubEXBkaptkt8"
   },
   "outputs": [],
   "source": [
    "filepath = \"sis1_group4ukelele.wav\"\n",
    "ref, fs = load_audio(filepath)"
   ]
  },
  {
   "cell_type": "markdown",
   "metadata": {
    "id": "bSUaYNjIKNvk"
   },
   "source": [
    "Note that `load_audio` function returns two variables: the audio signal (as a one dimensional array of floating point numbers), and the sampling rate (as a integer number). Now we can plot the audio signal:"
   ]
  },
  {
   "cell_type": "code",
   "execution_count": 22,
   "metadata": {
    "id": "b8Rc6jowKd9m"
   },
   "outputs": [
    {
     "ename": "ValueError",
     "evalue": "Mime type rendering requires nbformat>=4.2.0 but it is not installed",
     "output_type": "error",
     "traceback": [
      "\u001b[0;31m---------------------------------------------------------------------------\u001b[0m",
      "\u001b[0;31mValueError\u001b[0m                                Traceback (most recent call last)",
      "Cell \u001b[0;32mIn[22], line 1\u001b[0m\n\u001b[0;32m----> 1\u001b[0m \u001b[43mplot_signals\u001b[49m\u001b[43m(\u001b[49m\u001b[43mref\u001b[49m\u001b[43m,\u001b[49m\u001b[43m \u001b[49m\u001b[43mfs\u001b[49m\u001b[43m)\u001b[49m\n",
      "File \u001b[0;32m~/Desktop/SS LABS/sis1_group4/util.py:71\u001b[0m, in \u001b[0;36mplot_signals\u001b[0;34m(y, sr, t_start, t_end, name, mode)\u001b[0m\n\u001b[1;32m     61\u001b[0m \u001b[38;5;28;01mfor\u001b[39;00m j \u001b[38;5;129;01min\u001b[39;00m \u001b[38;5;28mrange\u001b[39m(\u001b[38;5;28mlen\u001b[39m(y)):\n\u001b[1;32m     62\u001b[0m     data_plot\u001b[38;5;241m.\u001b[39mappend(\n\u001b[1;32m     63\u001b[0m         go\u001b[38;5;241m.\u001b[39mScatter(\n\u001b[1;32m     64\u001b[0m             x\u001b[38;5;241m=\u001b[39mt[samples_start:samples_end],\n\u001b[0;32m   (...)\u001b[0m\n\u001b[1;32m     69\u001b[0m         )\n\u001b[1;32m     70\u001b[0m     )\n\u001b[0;32m---> 71\u001b[0m \u001b[43miplot\u001b[49m\u001b[43m(\u001b[49m\u001b[43mdata_plot\u001b[49m\u001b[43m)\u001b[49m\n",
      "File \u001b[0;32m~/Library/Python/3.9/lib/python/site-packages/plotly/offline/offline.py:386\u001b[0m, in \u001b[0;36miplot\u001b[0;34m(figure_or_data, show_link, link_text, validate, image, filename, image_width, image_height, config, auto_play, animation_opts)\u001b[0m\n\u001b[1;32m    381\u001b[0m post_script \u001b[38;5;241m=\u001b[39m build_save_image_post_script(\n\u001b[1;32m    382\u001b[0m     image, filename, image_height, image_width, \u001b[38;5;124m\"\u001b[39m\u001b[38;5;124miplot\u001b[39m\u001b[38;5;124m\"\u001b[39m\n\u001b[1;32m    383\u001b[0m )\n\u001b[1;32m    385\u001b[0m \u001b[38;5;66;03m# Show figure\u001b[39;00m\n\u001b[0;32m--> 386\u001b[0m \u001b[43mpio\u001b[49m\u001b[38;5;241;43m.\u001b[39;49m\u001b[43mshow\u001b[49m\u001b[43m(\u001b[49m\n\u001b[1;32m    387\u001b[0m \u001b[43m    \u001b[49m\u001b[43mfigure\u001b[49m\u001b[43m,\u001b[49m\n\u001b[1;32m    388\u001b[0m \u001b[43m    \u001b[49m\u001b[43mvalidate\u001b[49m\u001b[38;5;241;43m=\u001b[39;49m\u001b[43mvalidate\u001b[49m\u001b[43m,\u001b[49m\n\u001b[1;32m    389\u001b[0m \u001b[43m    \u001b[49m\u001b[43mconfig\u001b[49m\u001b[38;5;241;43m=\u001b[39;49m\u001b[43mconfig\u001b[49m\u001b[43m,\u001b[49m\n\u001b[1;32m    390\u001b[0m \u001b[43m    \u001b[49m\u001b[43mauto_play\u001b[49m\u001b[38;5;241;43m=\u001b[39;49m\u001b[43mauto_play\u001b[49m\u001b[43m,\u001b[49m\n\u001b[1;32m    391\u001b[0m \u001b[43m    \u001b[49m\u001b[43mpost_script\u001b[49m\u001b[38;5;241;43m=\u001b[39;49m\u001b[43mpost_script\u001b[49m\u001b[43m,\u001b[49m\n\u001b[1;32m    392\u001b[0m \u001b[43m    \u001b[49m\u001b[43manimation_opts\u001b[49m\u001b[38;5;241;43m=\u001b[39;49m\u001b[43manimation_opts\u001b[49m\u001b[43m,\u001b[49m\n\u001b[1;32m    393\u001b[0m \u001b[43m\u001b[49m\u001b[43m)\u001b[49m\n",
      "File \u001b[0;32m~/Library/Python/3.9/lib/python/site-packages/plotly/io/_renderers.py:415\u001b[0m, in \u001b[0;36mshow\u001b[0;34m(fig, renderer, validate, **kwargs)\u001b[0m\n\u001b[1;32m    410\u001b[0m     \u001b[38;5;28;01mraise\u001b[39;00m \u001b[38;5;167;01mValueError\u001b[39;00m(\n\u001b[1;32m    411\u001b[0m         \u001b[38;5;124m\"\u001b[39m\u001b[38;5;124mMime type rendering requires ipython but it is not installed\u001b[39m\u001b[38;5;124m\"\u001b[39m\n\u001b[1;32m    412\u001b[0m     )\n\u001b[1;32m    414\u001b[0m \u001b[38;5;28;01mif\u001b[39;00m \u001b[38;5;129;01mnot\u001b[39;00m nbformat \u001b[38;5;129;01mor\u001b[39;00m Version(nbformat\u001b[38;5;241m.\u001b[39m__version__) \u001b[38;5;241m<\u001b[39m Version(\u001b[38;5;124m\"\u001b[39m\u001b[38;5;124m4.2.0\u001b[39m\u001b[38;5;124m\"\u001b[39m):\n\u001b[0;32m--> 415\u001b[0m     \u001b[38;5;28;01mraise\u001b[39;00m \u001b[38;5;167;01mValueError\u001b[39;00m(\n\u001b[1;32m    416\u001b[0m         \u001b[38;5;124m\"\u001b[39m\u001b[38;5;124mMime type rendering requires nbformat>=4.2.0 but it is not installed\u001b[39m\u001b[38;5;124m\"\u001b[39m\n\u001b[1;32m    417\u001b[0m     )\n\u001b[1;32m    419\u001b[0m display_jupyter_version_warnings()\n\u001b[1;32m    421\u001b[0m ipython_display\u001b[38;5;241m.\u001b[39mdisplay(bundle, raw\u001b[38;5;241m=\u001b[39m\u001b[38;5;28;01mTrue\u001b[39;00m)\n",
      "\u001b[0;31mValueError\u001b[0m: Mime type rendering requires nbformat>=4.2.0 but it is not installed"
     ]
    }
   ],
   "source": [
    "plot_signals(ref, fs)"
   ]
  },
  {
   "cell_type": "markdown",
   "metadata": {
    "id": "OpC2ektLLOEz"
   },
   "source": [
    "You can use the zoom in tool to see more details."
   ]
  },
  {
   "cell_type": "markdown",
   "metadata": {
    "id": "oRaDBnzlL3Eo"
   },
   "source": [
    "You can also use Audio widget to listen the audio signal:"
   ]
  },
  {
   "cell_type": "code",
   "execution_count": 12,
   "metadata": {
    "id": "tASfGZQ8Lucl"
   },
   "outputs": [
    {
     "data": {
      "text/html": [
       "\n",
       "                <audio  controls=\"controls\" >\n",
       "                    <source src=\"data:audio/wav;base64,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\" type=\"audio/wav\" />\n",
       "                    Your browser does not support the audio element.\n",
       "                </audio>\n",
       "              "
      ],
      "text/plain": [
       "<IPython.lib.display.Audio object>"
      ]
     },
     "execution_count": 12,
     "metadata": {},
     "output_type": "execute_result"
    }
   ],
   "source": [
    "Audio(ref, rate=fs)"
   ]
  },
  {
   "cell_type": "markdown",
   "metadata": {
    "id": "L57v5vMrN9Ot"
   },
   "source": [
    "\n",
    "\n",
    "---\n",
    "\n"
   ]
  },
  {
   "cell_type": "markdown",
   "metadata": {
    "id": "E4qrE8MyNEJn"
   },
   "source": [
    "**2. Measure the signal period and fundamental frequency**\n",
    "\n",
    "2.1. Measure the period length, in seconds, and the fundamental frequency, in Hz, of the sound you choose. You can use Audacity to measure the period by zooming into a stable portion of the sound. Then compute its inverse to find the fundamental frequency. Find the closest note (note name) of the measured frequency (use google)."
   ]
  },
  {
   "cell_type": "markdown",
   "metadata": {
    "id": "ee6QZQuSN2VK"
   },
   "source": [
    "Using audacity, we zoomed into the note and got a period of 0.00221 seconds, we can compute the frequency of the note as 1/T which results in 452 Hertz which corresponds to in between a A4 note and a A#4 one."
   ]
  },
  {
   "cell_type": "markdown",
   "metadata": {
    "id": "rqa9yRtdOBL0"
   },
   "source": [
    "2.2. Calculate the period from the frequency value using Python:\n"
   ]
  },
  {
   "cell_type": "code",
   "execution_count": 13,
   "metadata": {
    "id": "7FfR2poWOImk"
   },
   "outputs": [
    {
     "name": "stdout",
     "output_type": "stream",
     "text": [
      "The period is 0.0022123893805309734 seconds\n"
     ]
    }
   ],
   "source": [
    "f=452.0\n",
    "T=1/f\n",
    "print(\"The period is\",T, \"seconds\")"
   ]
  },
  {
   "cell_type": "markdown",
   "metadata": {
    "id": "SW5G_Ch0OSC-"
   },
   "source": [
    "2.3. Plot three periods of the signal using the `plot_signals` function and selecting `t_start` and `t_end` arguments accordingly. Try to get the first periods of the audio signal but avoiding the attack section."
   ]
  },
  {
   "cell_type": "code",
   "execution_count": 40,
   "metadata": {
    "id": "sMKb9-CMNQLJ"
   },
   "outputs": [
    {
     "data": {
      "application/vnd.plotly.v1+json": {
       "config": {
        "linkText": "Export to plot.ly",
        "plotlyServerURL": "https://plot.ly",
        "showLink": false
       },
       "data": [
        {
         "line": {
          "color": "#1f77b4",
          "shape": "linear"
         },
         "mode": "lines",
         "name": "audio signal 0",
         "type": "scatter",
         "x": [
          0.1000040361640297,
          0.10002487033823054,
          0.10004570451243139,
          0.10006653868663222,
          0.10008737286083307,
          0.1001082070350339,
          0.10012904120923474,
          0.10014987538343557,
          0.10017070955763642,
          0.10019154373183725,
          0.1002123779060381,
          0.10023321208023894,
          0.10025404625443977,
          0.10027488042864062,
          0.10029571460284145,
          0.1003165487770423,
          0.10033738295124313,
          0.10035821712544397,
          0.10037905129964482,
          0.10039988547384565,
          0.1004207196480465,
          0.10044155382224733,
          0.10046238799644817,
          0.100483222170649,
          0.10050405634484985,
          0.1005248905190507,
          0.10054572469325153,
          0.10056655886745237,
          0.1005873930416532,
          0.10060822721585405,
          0.10062906139005488,
          0.10064989556425573,
          0.10067072973845657,
          0.1006915639126574,
          0.10071239808685825,
          0.10073323226105908,
          0.10075406643525993,
          0.10077490060946076,
          0.1007957347836616,
          0.10081656895786244,
          0.10083740313206328,
          0.10085823730626413,
          0.10087907148046496,
          0.1008999056546658,
          0.10092073982886664,
          0.10094157400306748,
          0.10096240817726831,
          0.10098324235146916,
          0.10100407652567,
          0.10102491069987084,
          0.10104574487407168,
          0.10106657904827251,
          0.10108741322247336,
          0.10110824739667419,
          0.10112908157087504,
          0.10114991574507588,
          0.10117074991927671,
          0.10119158409347756,
          0.10121241826767839,
          0.10123325244187924,
          0.10125408661608007,
          0.10127492079028091,
          0.10129575496448175,
          0.10131658913868259,
          0.10133742331288344,
          0.10135825748708427,
          0.10137909166128511,
          0.10139992583548595,
          0.10142076000968679,
          0.10144159418388762,
          0.10146242835808847,
          0.10148326253228931,
          0.10150409670649015,
          0.10152493088069099,
          0.10154576505489182,
          0.10156659922909267,
          0.1015874334032935,
          0.10160826757749435,
          0.10162910175169519,
          0.10164993592589602,
          0.10167077010009687,
          0.1016916042742977,
          0.10171243844849855,
          0.10173327262269938,
          0.10175410679690022,
          0.10177494097110107,
          0.1017957751453019,
          0.10181660931950275,
          0.10183744349370358,
          0.10185827766790442,
          0.10187911184210525,
          0.1018999460163061,
          0.10192078019050693,
          0.10194161436470778,
          0.10196244853890862,
          0.10198328271310945,
          0.1020041168873103,
          0.10202495106151113,
          0.10204578523571198,
          0.10206661940991281,
          0.10208745358411365,
          0.1021082877583145,
          0.10212912193251533,
          0.10214995610671618,
          0.10217079028091701,
          0.10219162445511785,
          0.10221245862931869,
          0.10223329280351953,
          0.10225412697772038,
          0.10227496115192121,
          0.10229579532612205,
          0.10231662950032289,
          0.10233746367452373,
          0.10235829784872456,
          0.10237913202292541,
          0.10239996619712624,
          0.10242080037132709,
          0.10244163454552793,
          0.10246246871972876,
          0.10248330289392961,
          0.10250413706813044,
          0.10252497124233129,
          0.10254580541653212,
          0.10256663959073296,
          0.10258747376493381,
          0.10260830793913464,
          0.10262914211333549,
          0.10264997628753632,
          0.10267081046173716,
          0.102691644635938,
          0.10271247881013884,
          0.10273331298433969,
          0.10275414715854052,
          0.10277498133274136,
          0.1027958155069422,
          0.10281664968114304,
          0.10283748385534387,
          0.10285831802954472,
          0.10287915220374556,
          0.1028999863779464,
          0.10292082055214724,
          0.10294165472634807,
          0.10296248890054892,
          0.10298332307474975,
          0.1030041572489506,
          0.10302499142315143,
          0.10304582559735227,
          0.10306665977155312,
          0.10308749394575395,
          0.1031083281199548,
          0.10312916229415563,
          0.10314999646835647,
          0.1031708306425573,
          0.10319166481675815,
          0.103212498990959,
          0.10323333316515983,
          0.10325416733936067,
          0.1032750015135615,
          0.10329583568776235,
          0.10331666986196318,
          0.10333750403616403,
          0.10335833821036487,
          0.1033791723845657,
          0.10340000655876655,
          0.10342084073296738,
          0.10344167490716823,
          0.10346250908136906,
          0.1034833432555699,
          0.10350417742977074,
          0.10352501160397158,
          0.10354584577817243,
          0.10356667995237326,
          0.1035875141265741,
          0.10360834830077494,
          0.10362918247497578,
          0.10365001664917661,
          0.10367085082337746,
          0.1036916849975783,
          0.10371251917177914,
          0.10373335334597998,
          0.10375418752018081,
          0.10377502169438166,
          0.10379585586858249,
          0.10381669004278334,
          0.10383752421698418,
          0.10385835839118501,
          0.10387919256538586,
          0.10390002673958669,
          0.10392086091378754,
          0.10394169508798837,
          0.10396252926218921,
          0.10398336343639004,
          0.10400419761059089,
          0.10402503178479174,
          0.10404586595899257,
          0.10406670013319341,
          0.10408753430739424,
          0.10410836848159509,
          0.10412920265579592,
          0.10415003682999677,
          0.10417087100419761,
          0.10419170517839844,
          0.10421253935259929,
          0.10423337352680012,
          0.10425420770100097,
          0.1042750418752018,
          0.10429587604940264,
          0.10431671022360349,
          0.10433754439780432,
          0.10435837857200517,
          0.104379212746206,
          0.10440004692040684,
          0.10442088109460768,
          0.10444171526880852,
          0.10446254944300937,
          0.1044833836172102,
          0.10450421779141104,
          0.10452505196561188,
          0.10454588613981272,
          0.10456672031401355,
          0.1045875544882144,
          0.10460838866241523,
          0.10462922283661608,
          0.10465005701081692,
          0.10467089118501775,
          0.1046917253592186,
          0.10471255953341943,
          0.10473339370762028,
          0.10475422788182111,
          0.10477506205602195,
          0.1047958962302228,
          0.10481673040442363,
          0.10483756457862448,
          0.10485839875282531,
          0.10487923292702615,
          0.10490006710122698,
          0.10492090127542783,
          0.10494173544962868,
          0.10496256962382951,
          0.10498340379803035,
          0.10500423797223118,
          0.10502507214643203,
          0.10504590632063286,
          0.10506674049483371,
          0.10508757466903454,
          0.10510840884323538,
          0.10512924301743623,
          0.10515007719163706,
          0.10517091136583791,
          0.10519174554003874,
          0.10521257971423958,
          0.10523341388844042,
          0.10525424806264126,
          0.10527508223684211,
          0.10529591641104294,
          0.10531675058524378,
          0.10533758475944462,
          0.10535841893364546,
          0.1053792531078463,
          0.10540008728204714,
          0.10542092145624798,
          0.10544175563044882,
          0.10546258980464966,
          0.1054834239788505,
          0.10550425815305134,
          0.10552509232725217,
          0.10554592650145302,
          0.10556676067565386,
          0.1055875948498547,
          0.10560842902405554,
          0.10562926319825637,
          0.10565009737245722,
          0.10567093154665805,
          0.1056917657208589,
          0.10571259989505973,
          0.10573343406926057,
          0.10575426824346142,
          0.10577510241766225,
          0.1057959365918631,
          0.10581677076606393,
          0.10583760494026477,
          0.1058584391144656,
          0.10587927328866645,
          0.1059001074628673,
          0.10592094163706813,
          0.10594177581126897,
          0.1059626099854698,
          0.10598344415967065,
          0.10600427833387148,
          0.10602511250807233,
          0.10604594668227317,
          0.106066780856474,
          0.10608761503067485,
          0.10610844920487568,
          0.10612928337907652,
          0.10615011755327736,
          0.1061709517274782,
          0.10619178590167903,
          0.10621262007587988,
          0.10623345425008072,
          0.10625428842428156,
          0.1062751225984824,
          0.10629595677268323,
          0.10631679094688408,
          0.10633762512108491,
          0.10635845929528576,
          0.1063792934694866,
          0.10640012764368743,
          0.10642096181788828,
          0.10644179599208911,
          0.10646263016628996,
          0.10648346434049079,
          0.10650429851469163,
          0.10652513268889248,
          0.10654596686309331,
          0.10656680103729416,
          0.10658763521149499,
          0.10660846938569583
         ],
         "y": [
          -0.25537699898569943,
          -0.23864168366282348,
          -0.22805864056437378,
          -0.21680385311930542,
          -0.2089443846592224,
          -0.2058696194538391,
          -0.2018086357960022,
          -0.19810730656474,
          -0.19094425877421264,
          -0.1772868080982483,
          -0.15738386353342895,
          -0.13293034275858764,
          -0.10468680104105833,
          -0.07266229828684691,
          -0.042371694649151595,
          -0.010523740852764878,
          0.022699530517169202,
          0.053894694243975846,
          0.08579605380208132,
          0.11645847121388551,
          0.14345675269276734,
          0.16356640616566773,
          0.17654424468190308,
          0.18173664370686646,
          0.1787201718440735,
          0.171779807006427,
          0.1622968272319519,
          0.15536540309102173,
          0.15389757910878296,
          0.1540389613261902,
          0.15771454135090943,
          0.16649716654927368,
          0.17729752818257447,
          0.19278209963948365,
          0.21199017325551148,
          0.2316407517543518,
          0.2532097653499329,
          0.2722539261928284,
          0.28758960524708865,
          0.30109053412587283,
          0.31140547553212283,
          0.31968277255208133,
          0.3264200047603333,
          0.33326309481770633,
          0.34114187518269656,
          0.35094195166737674,
          0.36497085848958133,
          0.3787285641780579,
          0.3881493167033875,
          0.3936482028117859,
          0.3958437995067322,
          0.39467411795765994,
          0.3873296336284363,
          0.3756740645518982,
          0.36041670600087283,
          0.33866494456441043,
          0.31440537730366824,
          0.28783279219777225,
          0.2582012967220032,
          0.22950547495991822,
          0.20102601805836792,
          0.17127137938649292,
          0.1412617520442688,
          0.11418026248128053,
          0.09227972785145876,
          0.07623105803639528,
          0.06770652094990846,
          0.06563490191609499,
          0.06717377463490602,
          0.06838672915608522,
          0.06615262786061403,
          0.05893665114552614,
          0.04337006369740602,
          0.022324855720111097,
          -0.0015923424610412452,
          -0.030344431007794177,
          -0.06183201512186888,
          -0.09717327793925169,
          -0.1349744244465149,
          -0.17081720074503784,
          -0.20665258606760864,
          -0.24089926918833618,
          -0.2724090262302673,
          -0.30328029831736447,
          -0.33036274155466916,
          -0.35321826180308225,
          -0.37486511906473996,
          -0.39212912758677365,
          -0.4028087302097595,
          -0.40916330059855344,
          -0.41003376683085324,
          -0.4045838757404602,
          -0.392838899696759,
          -0.3765526457676208,
          -0.3637215538868225,
          -0.35365707119791867,
          -0.3444082184681213,
          -0.341250125969342,
          -0.3373002453693664,
          -0.33243209561198117,
          -0.3292666121372497,
          -0.32038444718211057,
          -0.3099057122120178,
          -0.2966916008838928,
          -0.27828163346140744,
          -0.2611205025562561,
          -0.24576610764353637,
          -0.23256677826731567,
          -0.22120589455454712,
          -0.21302825650065307,
          -0.20939094265787964,
          -0.20680588921397094,
          -0.2050587578663147,
          -0.20012063225596313,
          -0.1877877159961975,
          -0.17155057629435425,
          -0.1510140343555725,
          -0.12578875264017944,
          -0.0998137637028015,
          -0.07150954445689085,
          -0.03994292458384398,
          -0.00988156040995482,
          0.02172702113301393,
          0.056714470779010026,
          0.08922022143513796,
          0.12031644145161745,
          0.1480814770808899,
          0.16647988120228882,
          0.17629247466237183,
          0.17846029559285279,
          0.17357617179066773,
          0.16664450923115845,
          0.1605275229564392,
          0.1540885523906433,
          0.15142935076863404,
          0.15292590418965454,
          0.1551983908763611,
          0.16295450488240357,
          0.17607980528981323,
          0.19121485510975952,
          0.2092300013652527,
          0.22902768412739868,
          0.24951070109517212,
          0.26830011168629764,
          0.28350466052205203,
          0.29402523795277713,
          0.3017447547069275,
          0.3100846366039002,
          0.31713765422017215,
          0.3246828869929993,
          0.33574705878407596,
          0.34868508139760135,
          0.36141770640523074,
          0.3730331019511902,
          0.3826478079906189,
          0.3901837424388611,
          0.3950609521022522,
          0.39205055991322635,
          0.3837006644359314,
          0.37162845889241336,
          0.3531182364574158,
          0.33285373011738895,
          0.3096893385997498,
          0.28409176627308963,
          0.2570297078242981,
          0.22693854132802124,
          0.1964210824123108,
          0.16346007147938843,
          0.13298803130299683,
          0.10794418612630007,
          0.08588248053700563,
          0.07487600604207155,
          0.072542484199115,
          0.07198088923604128,
          0.073899324332782,
          0.073022540008136,
          0.06775408545643923,
          0.0587856129756653,
          0.0437254265895569,
          0.02357023516804811,
          -0.001347724998883042,
          -0.0295087738880432,
          -0.05997521122782591,
          -0.09449357231943968,
          -0.13006002148478393,
          -0.16618282040446167,
          -0.20248455246775512,
          -0.2355714484104431,
          -0.26747042378275754,
          -0.29674596031992795,
          -0.32234436711161496,
          -0.3482860966572082,
          -0.3718469782718933,
          -0.389082853401593,
          -0.40161794861643674,
          -0.40761417588084103,
          -0.40333873471110226,
          -0.3952851935276306,
          -0.3863278075107849,
          -0.3726350708851135,
          -0.35949176987498166,
          -0.35005194386332394,
          -0.3436966582187927,
          -0.340643231476239,
          -0.33800453385203244,
          -0.33453423222391965,
          -0.32837301930277707,
          -0.3186717673191345,
          -0.30537027558176877,
          -0.2896381064304626,
          -0.2752248688587463,
          -0.2581657811054504,
          -0.24018305977671509,
          -0.22729427059977417,
          -0.2186017676243103,
          -0.215907280052594,
          -0.21529847821085815,
          -0.212719385231427,
          -0.20845145424692993,
          -0.2007010622867859,
          -0.18848103722422485,
          -0.1707591458210266,
          -0.15014344891398315,
          -0.12810439308970337,
          -0.1030953570255554,
          -0.07856399258463743,
          -0.05122894486277464,
          -0.015891258324078356,
          0.020020778571673597,
          0.055470521842547624,
          0.09089201251179811,
          0.1198512868037903,
          0.14100151816517945,
          0.1548185900798523,
          0.16375761786610718,
          0.1676592187038147,
          0.16453271666676636,
          0.15819888869435425,
          0.15168827334553833,
          0.1464661912074768,
          0.14461582461506958,
          0.14537614146382447,
          0.14943688670308228,
          0.1582006768336975,
          0.17077713767201538,
          0.18625837126881714,
          0.20589154521138306,
          0.2276281670680725,
          0.24580543795735474,
          0.2622380808940613,
          0.2756615237346375,
          0.2842820242992127,
          0.29290383616597293,
          0.3025618151775086,
          0.31468849936635135,
          0.3260453299632752,
          0.3371596888652527,
          0.3512646512141907,
          0.36210363665730594,
          0.3738205985179627,
          0.3873228386989319,
          0.39376192847401736,
          0.3956066922298157,
          0.3941023902049744,
          0.38474911013753055,
          0.3706317500224793,
          0.3553416089168274,
          0.3365115479579651,
          0.3163935498347962,
          0.29286235133320926,
          0.2619946555247986,
          0.2296491221538269,
          0.1956534937968933,
          0.16176539221913452,
          0.13389616767079468,
          0.10992961684376833,
          0.0917894200435364,
          0.08284085551411745,
          0.07872873107106325,
          0.07735925475270387,
          0.07854693690449831,
          0.07608037749440309,
          0.07026367942006227,
          0.06147783557088014,
          0.044915850555011,
          0.024598296081134046,
          -0.0001168890842712257,
          -0.02830917080729369,
          -0.05764300068705443,
          -0.09361631115763548,
          -0.13090521534769897,
          -0.16551441391795044,
          -0.19935554703562622,
          -0.23075825413554077,
          -0.26129228314249875,
          -0.2920708104023254,
          -0.32137102326243283,
          -0.3481871529468811,
          -0.37153286179392697,
          -0.38898271759837033,
          -0.3992434187778747,
          -0.4013589068302429,
          -0.3972007676014221,
          -0.38941520890086057,
          -0.37899202545969846,
          -0.3677943392643249,
          -0.3573297901996887,
          -0.35206026276438596,
          -0.35013980110972287,
          -0.34656471451609494,
          -0.3437184735187805,
          -0.33934706887095334,
          -0.3315576954731262,
          -0.32131725987284543,
          -0.3063409968265808,
          -0.2891995354542053,
          -0.27338403900950314,
          -0.2581098719486511
         ]
        }
       ],
       "layout": {
        "template": {
         "data": {
          "bar": [
           {
            "error_x": {
             "color": "#2a3f5f"
            },
            "error_y": {
             "color": "#2a3f5f"
            },
            "marker": {
             "line": {
              "color": "#E5ECF6",
              "width": 0.5
             },
             "pattern": {
              "fillmode": "overlay",
              "size": 10,
              "solidity": 0.2
             }
            },
            "type": "bar"
           }
          ],
          "barpolar": [
           {
            "marker": {
             "line": {
              "color": "#E5ECF6",
              "width": 0.5
             },
             "pattern": {
              "fillmode": "overlay",
              "size": 10,
              "solidity": 0.2
             }
            },
            "type": "barpolar"
           }
          ],
          "carpet": [
           {
            "aaxis": {
             "endlinecolor": "#2a3f5f",
             "gridcolor": "white",
             "linecolor": "white",
             "minorgridcolor": "white",
             "startlinecolor": "#2a3f5f"
            },
            "baxis": {
             "endlinecolor": "#2a3f5f",
             "gridcolor": "white",
             "linecolor": "white",
             "minorgridcolor": "white",
             "startlinecolor": "#2a3f5f"
            },
            "type": "carpet"
           }
          ],
          "choropleth": [
           {
            "colorbar": {
             "outlinewidth": 0,
             "ticks": ""
            },
            "type": "choropleth"
           }
          ],
          "contour": [
           {
            "colorbar": {
             "outlinewidth": 0,
             "ticks": ""
            },
            "colorscale": [
             [
              0,
              "#0d0887"
             ],
             [
              0.1111111111111111,
              "#46039f"
             ],
             [
              0.2222222222222222,
              "#7201a8"
             ],
             [
              0.3333333333333333,
              "#9c179e"
             ],
             [
              0.4444444444444444,
              "#bd3786"
             ],
             [
              0.5555555555555556,
              "#d8576b"
             ],
             [
              0.6666666666666666,
              "#ed7953"
             ],
             [
              0.7777777777777778,
              "#fb9f3a"
             ],
             [
              0.8888888888888888,
              "#fdca26"
             ],
             [
              1,
              "#f0f921"
             ]
            ],
            "type": "contour"
           }
          ],
          "contourcarpet": [
           {
            "colorbar": {
             "outlinewidth": 0,
             "ticks": ""
            },
            "type": "contourcarpet"
           }
          ],
          "heatmap": [
           {
            "colorbar": {
             "outlinewidth": 0,
             "ticks": ""
            },
            "colorscale": [
             [
              0,
              "#0d0887"
             ],
             [
              0.1111111111111111,
              "#46039f"
             ],
             [
              0.2222222222222222,
              "#7201a8"
             ],
             [
              0.3333333333333333,
              "#9c179e"
             ],
             [
              0.4444444444444444,
              "#bd3786"
             ],
             [
              0.5555555555555556,
              "#d8576b"
             ],
             [
              0.6666666666666666,
              "#ed7953"
             ],
             [
              0.7777777777777778,
              "#fb9f3a"
             ],
             [
              0.8888888888888888,
              "#fdca26"
             ],
             [
              1,
              "#f0f921"
             ]
            ],
            "type": "heatmap"
           }
          ],
          "heatmapgl": [
           {
            "colorbar": {
             "outlinewidth": 0,
             "ticks": ""
            },
            "colorscale": [
             [
              0,
              "#0d0887"
             ],
             [
              0.1111111111111111,
              "#46039f"
             ],
             [
              0.2222222222222222,
              "#7201a8"
             ],
             [
              0.3333333333333333,
              "#9c179e"
             ],
             [
              0.4444444444444444,
              "#bd3786"
             ],
             [
              0.5555555555555556,
              "#d8576b"
             ],
             [
              0.6666666666666666,
              "#ed7953"
             ],
             [
              0.7777777777777778,
              "#fb9f3a"
             ],
             [
              0.8888888888888888,
              "#fdca26"
             ],
             [
              1,
              "#f0f921"
             ]
            ],
            "type": "heatmapgl"
           }
          ],
          "histogram": [
           {
            "marker": {
             "pattern": {
              "fillmode": "overlay",
              "size": 10,
              "solidity": 0.2
             }
            },
            "type": "histogram"
           }
          ],
          "histogram2d": [
           {
            "colorbar": {
             "outlinewidth": 0,
             "ticks": ""
            },
            "colorscale": [
             [
              0,
              "#0d0887"
             ],
             [
              0.1111111111111111,
              "#46039f"
             ],
             [
              0.2222222222222222,
              "#7201a8"
             ],
             [
              0.3333333333333333,
              "#9c179e"
             ],
             [
              0.4444444444444444,
              "#bd3786"
             ],
             [
              0.5555555555555556,
              "#d8576b"
             ],
             [
              0.6666666666666666,
              "#ed7953"
             ],
             [
              0.7777777777777778,
              "#fb9f3a"
             ],
             [
              0.8888888888888888,
              "#fdca26"
             ],
             [
              1,
              "#f0f921"
             ]
            ],
            "type": "histogram2d"
           }
          ],
          "histogram2dcontour": [
           {
            "colorbar": {
             "outlinewidth": 0,
             "ticks": ""
            },
            "colorscale": [
             [
              0,
              "#0d0887"
             ],
             [
              0.1111111111111111,
              "#46039f"
             ],
             [
              0.2222222222222222,
              "#7201a8"
             ],
             [
              0.3333333333333333,
              "#9c179e"
             ],
             [
              0.4444444444444444,
              "#bd3786"
             ],
             [
              0.5555555555555556,
              "#d8576b"
             ],
             [
              0.6666666666666666,
              "#ed7953"
             ],
             [
              0.7777777777777778,
              "#fb9f3a"
             ],
             [
              0.8888888888888888,
              "#fdca26"
             ],
             [
              1,
              "#f0f921"
             ]
            ],
            "type": "histogram2dcontour"
           }
          ],
          "mesh3d": [
           {
            "colorbar": {
             "outlinewidth": 0,
             "ticks": ""
            },
            "type": "mesh3d"
           }
          ],
          "parcoords": [
           {
            "line": {
             "colorbar": {
              "outlinewidth": 0,
              "ticks": ""
             }
            },
            "type": "parcoords"
           }
          ],
          "pie": [
           {
            "automargin": true,
            "type": "pie"
           }
          ],
          "scatter": [
           {
            "fillpattern": {
             "fillmode": "overlay",
             "size": 10,
             "solidity": 0.2
            },
            "type": "scatter"
           }
          ],
          "scatter3d": [
           {
            "line": {
             "colorbar": {
              "outlinewidth": 0,
              "ticks": ""
             }
            },
            "marker": {
             "colorbar": {
              "outlinewidth": 0,
              "ticks": ""
             }
            },
            "type": "scatter3d"
           }
          ],
          "scattercarpet": [
           {
            "marker": {
             "colorbar": {
              "outlinewidth": 0,
              "ticks": ""
             }
            },
            "type": "scattercarpet"
           }
          ],
          "scattergeo": [
           {
            "marker": {
             "colorbar": {
              "outlinewidth": 0,
              "ticks": ""
             }
            },
            "type": "scattergeo"
           }
          ],
          "scattergl": [
           {
            "marker": {
             "colorbar": {
              "outlinewidth": 0,
              "ticks": ""
             }
            },
            "type": "scattergl"
           }
          ],
          "scattermapbox": [
           {
            "marker": {
             "colorbar": {
              "outlinewidth": 0,
              "ticks": ""
             }
            },
            "type": "scattermapbox"
           }
          ],
          "scatterpolar": [
           {
            "marker": {
             "colorbar": {
              "outlinewidth": 0,
              "ticks": ""
             }
            },
            "type": "scatterpolar"
           }
          ],
          "scatterpolargl": [
           {
            "marker": {
             "colorbar": {
              "outlinewidth": 0,
              "ticks": ""
             }
            },
            "type": "scatterpolargl"
           }
          ],
          "scatterternary": [
           {
            "marker": {
             "colorbar": {
              "outlinewidth": 0,
              "ticks": ""
             }
            },
            "type": "scatterternary"
           }
          ],
          "surface": [
           {
            "colorbar": {
             "outlinewidth": 0,
             "ticks": ""
            },
            "colorscale": [
             [
              0,
              "#0d0887"
             ],
             [
              0.1111111111111111,
              "#46039f"
             ],
             [
              0.2222222222222222,
              "#7201a8"
             ],
             [
              0.3333333333333333,
              "#9c179e"
             ],
             [
              0.4444444444444444,
              "#bd3786"
             ],
             [
              0.5555555555555556,
              "#d8576b"
             ],
             [
              0.6666666666666666,
              "#ed7953"
             ],
             [
              0.7777777777777778,
              "#fb9f3a"
             ],
             [
              0.8888888888888888,
              "#fdca26"
             ],
             [
              1,
              "#f0f921"
             ]
            ],
            "type": "surface"
           }
          ],
          "table": [
           {
            "cells": {
             "fill": {
              "color": "#EBF0F8"
             },
             "line": {
              "color": "white"
             }
            },
            "header": {
             "fill": {
              "color": "#C8D4E3"
             },
             "line": {
              "color": "white"
             }
            },
            "type": "table"
           }
          ]
         },
         "layout": {
          "annotationdefaults": {
           "arrowcolor": "#2a3f5f",
           "arrowhead": 0,
           "arrowwidth": 1
          },
          "autotypenumbers": "strict",
          "coloraxis": {
           "colorbar": {
            "outlinewidth": 0,
            "ticks": ""
           }
          },
          "colorscale": {
           "diverging": [
            [
             0,
             "#8e0152"
            ],
            [
             0.1,
             "#c51b7d"
            ],
            [
             0.2,
             "#de77ae"
            ],
            [
             0.3,
             "#f1b6da"
            ],
            [
             0.4,
             "#fde0ef"
            ],
            [
             0.5,
             "#f7f7f7"
            ],
            [
             0.6,
             "#e6f5d0"
            ],
            [
             0.7,
             "#b8e186"
            ],
            [
             0.8,
             "#7fbc41"
            ],
            [
             0.9,
             "#4d9221"
            ],
            [
             1,
             "#276419"
            ]
           ],
           "sequential": [
            [
             0,
             "#0d0887"
            ],
            [
             0.1111111111111111,
             "#46039f"
            ],
            [
             0.2222222222222222,
             "#7201a8"
            ],
            [
             0.3333333333333333,
             "#9c179e"
            ],
            [
             0.4444444444444444,
             "#bd3786"
            ],
            [
             0.5555555555555556,
             "#d8576b"
            ],
            [
             0.6666666666666666,
             "#ed7953"
            ],
            [
             0.7777777777777778,
             "#fb9f3a"
            ],
            [
             0.8888888888888888,
             "#fdca26"
            ],
            [
             1,
             "#f0f921"
            ]
           ],
           "sequentialminus": [
            [
             0,
             "#0d0887"
            ],
            [
             0.1111111111111111,
             "#46039f"
            ],
            [
             0.2222222222222222,
             "#7201a8"
            ],
            [
             0.3333333333333333,
             "#9c179e"
            ],
            [
             0.4444444444444444,
             "#bd3786"
            ],
            [
             0.5555555555555556,
             "#d8576b"
            ],
            [
             0.6666666666666666,
             "#ed7953"
            ],
            [
             0.7777777777777778,
             "#fb9f3a"
            ],
            [
             0.8888888888888888,
             "#fdca26"
            ],
            [
             1,
             "#f0f921"
            ]
           ]
          },
          "colorway": [
           "#636efa",
           "#EF553B",
           "#00cc96",
           "#ab63fa",
           "#FFA15A",
           "#19d3f3",
           "#FF6692",
           "#B6E880",
           "#FF97FF",
           "#FECB52"
          ],
          "font": {
           "color": "#2a3f5f"
          },
          "geo": {
           "bgcolor": "white",
           "lakecolor": "white",
           "landcolor": "#E5ECF6",
           "showlakes": true,
           "showland": true,
           "subunitcolor": "white"
          },
          "hoverlabel": {
           "align": "left"
          },
          "hovermode": "closest",
          "mapbox": {
           "style": "light"
          },
          "paper_bgcolor": "white",
          "plot_bgcolor": "#E5ECF6",
          "polar": {
           "angularaxis": {
            "gridcolor": "white",
            "linecolor": "white",
            "ticks": ""
           },
           "bgcolor": "#E5ECF6",
           "radialaxis": {
            "gridcolor": "white",
            "linecolor": "white",
            "ticks": ""
           }
          },
          "scene": {
           "xaxis": {
            "backgroundcolor": "#E5ECF6",
            "gridcolor": "white",
            "gridwidth": 2,
            "linecolor": "white",
            "showbackground": true,
            "ticks": "",
            "zerolinecolor": "white"
           },
           "yaxis": {
            "backgroundcolor": "#E5ECF6",
            "gridcolor": "white",
            "gridwidth": 2,
            "linecolor": "white",
            "showbackground": true,
            "ticks": "",
            "zerolinecolor": "white"
           },
           "zaxis": {
            "backgroundcolor": "#E5ECF6",
            "gridcolor": "white",
            "gridwidth": 2,
            "linecolor": "white",
            "showbackground": true,
            "ticks": "",
            "zerolinecolor": "white"
           }
          },
          "shapedefaults": {
           "line": {
            "color": "#2a3f5f"
           }
          },
          "ternary": {
           "aaxis": {
            "gridcolor": "white",
            "linecolor": "white",
            "ticks": ""
           },
           "baxis": {
            "gridcolor": "white",
            "linecolor": "white",
            "ticks": ""
           },
           "bgcolor": "#E5ECF6",
           "caxis": {
            "gridcolor": "white",
            "linecolor": "white",
            "ticks": ""
           }
          },
          "title": {
           "x": 0.05
          },
          "xaxis": {
           "automargin": true,
           "gridcolor": "white",
           "linecolor": "white",
           "ticks": "",
           "title": {
            "standoff": 15
           },
           "zerolinecolor": "white",
           "zerolinewidth": 2
          },
          "yaxis": {
           "automargin": true,
           "gridcolor": "white",
           "linecolor": "white",
           "ticks": "",
           "title": {
            "standoff": 15
           },
           "zerolinecolor": "white",
           "zerolinewidth": 2
          }
         }
        }
       }
      }
     },
     "metadata": {},
     "output_type": "display_data"
    }
   ],
   "source": [
    "t_start = 0.1\n",
    "t_end = t_start+3*T\n",
    "plot_signals(ref, fs, t_start=t_start, t_end=t_end)\n",
    "#fs= sampling rate\n",
    "#ref=audio signal"
   ]
  },
  {
   "cell_type": "markdown",
   "metadata": {
    "id": "jBxOf-CeOtyP"
   },
   "source": [
    "**2.4. Measure the period of the signal manually by identifying the begining and ending of a periodic cycle. Note that when you hover the mouse over one of the points in the plot, you can see the time and amplitude values. For instance, you can check the cross by zero.**"
   ]
  },
  {
   "cell_type": "markdown",
   "metadata": {
    "id": "QzqeQ8EwPZN7"
   },
   "source": [
    "We chose the peak located in t = 0,1018791 and t = 0,1040667 and we got T = 0.0021876 by subtracting one to the other (the time in a whole period). If we do the calculation (f = 1/T) we get that the fundamental frequency: \n",
    "__f0 = 457.12 Hz__."
   ]
  },
  {
   "cell_type": "markdown",
   "metadata": {
    "id": "a1QBbHmtPitr"
   },
   "source": [
    "**2.5. Do the measured (2.4) and theoretical (2.2) periods coincide? If not, explain why.**"
   ]
  },
  {
   "cell_type": "markdown",
   "metadata": {
    "id": "L-XVkTs6Rgov"
   },
   "source": [
    "Theoretically we got 0.0022123 in (2.2) by computing the period coming from the frequency measured in audacity and 0.0021876 in (2.4) by subtracting two peaks in the sinusoid and getting an estimate value of the period. We can see they are very similar and the errors probably are due to slight inaccuracies in the measuring of the exact peak's position. Below we can see a small code to interpret the error of these measurements."
   ]
  },
  {
   "cell_type": "code",
   "execution_count": 7,
   "metadata": {},
   "outputs": [
    {
     "name": "stdout",
     "output_type": "stream",
     "text": [
      "The absolut error is: 2.47e-05\n",
      "The relative error is: 0.0112 so  1.116 %\n"
     ]
    }
   ],
   "source": [
    "theoreticalT = 0.0022123\n",
    "audacityT = 0.0021876\n",
    "\n",
    "absError = theoreticalT - audacityT\n",
    "relError = absError / theoreticalT\n",
    "\n",
    "print('The absolut error is:',round(absError,8))\n",
    "print('The relative error is:',round(relError,4),'so ',round(relError*100,3),'%')"
   ]
  },
  {
   "cell_type": "markdown",
   "metadata": {
    "id": "RAZy6ampR51t"
   },
   "source": [
    "\n",
    "\n",
    "---\n",
    "\n"
   ]
  },
  {
   "cell_type": "markdown",
   "metadata": {
    "id": "6X5WbfamR8wa"
   },
   "source": [
    "**3. Generating a sinusoid**"
   ]
  },
  {
   "cell_type": "markdown",
   "metadata": {
    "id": "W7rbJNL8SJ5l"
   },
   "source": [
    "3.1. Create a sinusoid of the same duration than the reference signal and same frequency than the fundamental frequency. Plot it along with the audio signal of the reference recording. Plot the same time segment that 2.3. Note that the sampling rate should be the same for both signals. Try to find the values of Amplitude and initial Phase that make the two signal segments plotted to match as close as possible (do not attempt to imitate the whole signal). Matching the phase is a bit tricky.\n",
    "\n"
   ]
  },
  {
   "cell_type": "code",
   "execution_count": 42,
   "metadata": {},
   "outputs": [
    {
     "data": {
      "application/vnd.plotly.v1+json": {
       "config": {
        "linkText": "Export to plot.ly",
        "plotlyServerURL": "https://plot.ly",
        "showLink": false
       },
       "data": [
        {
         "line": {
          "color": "#1f77b4",
          "shape": "linear"
         },
         "mode": "lines",
         "name": "audio signal 0",
         "type": "scatter",
         "x": [
          0.1000040361640297,
          0.10002487033823054,
          0.10004570451243139,
          0.10006653868663222,
          0.10008737286083307,
          0.1001082070350339,
          0.10012904120923474,
          0.10014987538343557,
          0.10017070955763642,
          0.10019154373183725,
          0.1002123779060381,
          0.10023321208023894,
          0.10025404625443977,
          0.10027488042864062,
          0.10029571460284145,
          0.1003165487770423,
          0.10033738295124313,
          0.10035821712544397,
          0.10037905129964482,
          0.10039988547384565,
          0.1004207196480465,
          0.10044155382224733,
          0.10046238799644817,
          0.100483222170649,
          0.10050405634484985,
          0.1005248905190507,
          0.10054572469325153,
          0.10056655886745237,
          0.1005873930416532,
          0.10060822721585405,
          0.10062906139005488,
          0.10064989556425573,
          0.10067072973845657,
          0.1006915639126574,
          0.10071239808685825,
          0.10073323226105908,
          0.10075406643525993,
          0.10077490060946076,
          0.1007957347836616,
          0.10081656895786244,
          0.10083740313206328,
          0.10085823730626413,
          0.10087907148046496,
          0.1008999056546658,
          0.10092073982886664,
          0.10094157400306748,
          0.10096240817726831,
          0.10098324235146916,
          0.10100407652567,
          0.10102491069987084,
          0.10104574487407168,
          0.10106657904827251,
          0.10108741322247336,
          0.10110824739667419,
          0.10112908157087504,
          0.10114991574507588,
          0.10117074991927671,
          0.10119158409347756,
          0.10121241826767839,
          0.10123325244187924,
          0.10125408661608007,
          0.10127492079028091,
          0.10129575496448175,
          0.10131658913868259,
          0.10133742331288344,
          0.10135825748708427,
          0.10137909166128511,
          0.10139992583548595,
          0.10142076000968679,
          0.10144159418388762,
          0.10146242835808847,
          0.10148326253228931,
          0.10150409670649015,
          0.10152493088069099,
          0.10154576505489182,
          0.10156659922909267,
          0.1015874334032935,
          0.10160826757749435,
          0.10162910175169519,
          0.10164993592589602,
          0.10167077010009687,
          0.1016916042742977,
          0.10171243844849855,
          0.10173327262269938,
          0.10175410679690022,
          0.10177494097110107,
          0.1017957751453019,
          0.10181660931950275,
          0.10183744349370358,
          0.10185827766790442,
          0.10187911184210525,
          0.1018999460163061,
          0.10192078019050693,
          0.10194161436470778,
          0.10196244853890862,
          0.10198328271310945,
          0.1020041168873103,
          0.10202495106151113,
          0.10204578523571198,
          0.10206661940991281,
          0.10208745358411365,
          0.1021082877583145,
          0.10212912193251533,
          0.10214995610671618,
          0.10217079028091701,
          0.10219162445511785,
          0.10221245862931869,
          0.10223329280351953,
          0.10225412697772038,
          0.10227496115192121,
          0.10229579532612205,
          0.10231662950032289,
          0.10233746367452373,
          0.10235829784872456,
          0.10237913202292541,
          0.10239996619712624,
          0.10242080037132709,
          0.10244163454552793,
          0.10246246871972876,
          0.10248330289392961,
          0.10250413706813044,
          0.10252497124233129,
          0.10254580541653212,
          0.10256663959073296,
          0.10258747376493381,
          0.10260830793913464,
          0.10262914211333549,
          0.10264997628753632,
          0.10267081046173716,
          0.102691644635938,
          0.10271247881013884,
          0.10273331298433969,
          0.10275414715854052,
          0.10277498133274136,
          0.1027958155069422,
          0.10281664968114304,
          0.10283748385534387,
          0.10285831802954472,
          0.10287915220374556,
          0.1028999863779464,
          0.10292082055214724,
          0.10294165472634807,
          0.10296248890054892,
          0.10298332307474975,
          0.1030041572489506,
          0.10302499142315143,
          0.10304582559735227,
          0.10306665977155312,
          0.10308749394575395,
          0.1031083281199548,
          0.10312916229415563,
          0.10314999646835647,
          0.1031708306425573,
          0.10319166481675815,
          0.103212498990959,
          0.10323333316515983,
          0.10325416733936067,
          0.1032750015135615,
          0.10329583568776235,
          0.10331666986196318,
          0.10333750403616403,
          0.10335833821036487,
          0.1033791723845657,
          0.10340000655876655,
          0.10342084073296738,
          0.10344167490716823,
          0.10346250908136906,
          0.1034833432555699,
          0.10350417742977074,
          0.10352501160397158,
          0.10354584577817243,
          0.10356667995237326,
          0.1035875141265741,
          0.10360834830077494,
          0.10362918247497578,
          0.10365001664917661,
          0.10367085082337746,
          0.1036916849975783,
          0.10371251917177914,
          0.10373335334597998,
          0.10375418752018081,
          0.10377502169438166,
          0.10379585586858249,
          0.10381669004278334,
          0.10383752421698418,
          0.10385835839118501,
          0.10387919256538586,
          0.10390002673958669,
          0.10392086091378754,
          0.10394169508798837,
          0.10396252926218921,
          0.10398336343639004,
          0.10400419761059089,
          0.10402503178479174,
          0.10404586595899257,
          0.10406670013319341,
          0.10408753430739424,
          0.10410836848159509,
          0.10412920265579592,
          0.10415003682999677,
          0.10417087100419761,
          0.10419170517839844,
          0.10421253935259929,
          0.10423337352680012,
          0.10425420770100097,
          0.1042750418752018,
          0.10429587604940264,
          0.10431671022360349,
          0.10433754439780432,
          0.10435837857200517,
          0.104379212746206,
          0.10440004692040684,
          0.10442088109460768,
          0.10444171526880852,
          0.10446254944300937,
          0.1044833836172102,
          0.10450421779141104,
          0.10452505196561188,
          0.10454588613981272,
          0.10456672031401355,
          0.1045875544882144,
          0.10460838866241523,
          0.10462922283661608,
          0.10465005701081692,
          0.10467089118501775,
          0.1046917253592186,
          0.10471255953341943,
          0.10473339370762028,
          0.10475422788182111,
          0.10477506205602195,
          0.1047958962302228,
          0.10481673040442363,
          0.10483756457862448,
          0.10485839875282531,
          0.10487923292702615,
          0.10490006710122698,
          0.10492090127542783,
          0.10494173544962868,
          0.10496256962382951,
          0.10498340379803035,
          0.10500423797223118,
          0.10502507214643203,
          0.10504590632063286,
          0.10506674049483371,
          0.10508757466903454,
          0.10510840884323538,
          0.10512924301743623,
          0.10515007719163706,
          0.10517091136583791,
          0.10519174554003874,
          0.10521257971423958,
          0.10523341388844042,
          0.10525424806264126,
          0.10527508223684211,
          0.10529591641104294,
          0.10531675058524378,
          0.10533758475944462,
          0.10535841893364546,
          0.1053792531078463,
          0.10540008728204714,
          0.10542092145624798,
          0.10544175563044882,
          0.10546258980464966,
          0.1054834239788505,
          0.10550425815305134,
          0.10552509232725217,
          0.10554592650145302,
          0.10556676067565386,
          0.1055875948498547,
          0.10560842902405554,
          0.10562926319825637,
          0.10565009737245722,
          0.10567093154665805,
          0.1056917657208589,
          0.10571259989505973,
          0.10573343406926057,
          0.10575426824346142,
          0.10577510241766225,
          0.1057959365918631,
          0.10581677076606393,
          0.10583760494026477,
          0.1058584391144656,
          0.10587927328866645,
          0.1059001074628673,
          0.10592094163706813,
          0.10594177581126897,
          0.1059626099854698,
          0.10598344415967065,
          0.10600427833387148,
          0.10602511250807233,
          0.10604594668227317,
          0.106066780856474,
          0.10608761503067485,
          0.10610844920487568,
          0.10612928337907652,
          0.10615011755327736,
          0.1061709517274782,
          0.10619178590167903,
          0.10621262007587988,
          0.10623345425008072,
          0.10625428842428156,
          0.1062751225984824,
          0.10629595677268323,
          0.10631679094688408,
          0.10633762512108491,
          0.10635845929528576,
          0.1063792934694866,
          0.10640012764368743,
          0.10642096181788828,
          0.10644179599208911,
          0.10646263016628996,
          0.10648346434049079,
          0.10650429851469163,
          0.10652513268889248,
          0.10654596686309331,
          0.10656680103729416,
          0.10658763521149499,
          0.10660846938569583
         ],
         "y": [
          -0.25537699898569943,
          -0.23864168366282348,
          -0.22805864056437378,
          -0.21680385311930542,
          -0.2089443846592224,
          -0.2058696194538391,
          -0.2018086357960022,
          -0.19810730656474,
          -0.19094425877421264,
          -0.1772868080982483,
          -0.15738386353342895,
          -0.13293034275858764,
          -0.10468680104105833,
          -0.07266229828684691,
          -0.042371694649151595,
          -0.010523740852764878,
          0.022699530517169202,
          0.053894694243975846,
          0.08579605380208132,
          0.11645847121388551,
          0.14345675269276734,
          0.16356640616566773,
          0.17654424468190308,
          0.18173664370686646,
          0.1787201718440735,
          0.171779807006427,
          0.1622968272319519,
          0.15536540309102173,
          0.15389757910878296,
          0.1540389613261902,
          0.15771454135090943,
          0.16649716654927368,
          0.17729752818257447,
          0.19278209963948365,
          0.21199017325551148,
          0.2316407517543518,
          0.2532097653499329,
          0.2722539261928284,
          0.28758960524708865,
          0.30109053412587283,
          0.31140547553212283,
          0.31968277255208133,
          0.3264200047603333,
          0.33326309481770633,
          0.34114187518269656,
          0.35094195166737674,
          0.36497085848958133,
          0.3787285641780579,
          0.3881493167033875,
          0.3936482028117859,
          0.3958437995067322,
          0.39467411795765994,
          0.3873296336284363,
          0.3756740645518982,
          0.36041670600087283,
          0.33866494456441043,
          0.31440537730366824,
          0.28783279219777225,
          0.2582012967220032,
          0.22950547495991822,
          0.20102601805836792,
          0.17127137938649292,
          0.1412617520442688,
          0.11418026248128053,
          0.09227972785145876,
          0.07623105803639528,
          0.06770652094990846,
          0.06563490191609499,
          0.06717377463490602,
          0.06838672915608522,
          0.06615262786061403,
          0.05893665114552614,
          0.04337006369740602,
          0.022324855720111097,
          -0.0015923424610412452,
          -0.030344431007794177,
          -0.06183201512186888,
          -0.09717327793925169,
          -0.1349744244465149,
          -0.17081720074503784,
          -0.20665258606760864,
          -0.24089926918833618,
          -0.2724090262302673,
          -0.30328029831736447,
          -0.33036274155466916,
          -0.35321826180308225,
          -0.37486511906473996,
          -0.39212912758677365,
          -0.4028087302097595,
          -0.40916330059855344,
          -0.41003376683085324,
          -0.4045838757404602,
          -0.392838899696759,
          -0.3765526457676208,
          -0.3637215538868225,
          -0.35365707119791867,
          -0.3444082184681213,
          -0.341250125969342,
          -0.3373002453693664,
          -0.33243209561198117,
          -0.3292666121372497,
          -0.32038444718211057,
          -0.3099057122120178,
          -0.2966916008838928,
          -0.27828163346140744,
          -0.2611205025562561,
          -0.24576610764353637,
          -0.23256677826731567,
          -0.22120589455454712,
          -0.21302825650065307,
          -0.20939094265787964,
          -0.20680588921397094,
          -0.2050587578663147,
          -0.20012063225596313,
          -0.1877877159961975,
          -0.17155057629435425,
          -0.1510140343555725,
          -0.12578875264017944,
          -0.0998137637028015,
          -0.07150954445689085,
          -0.03994292458384398,
          -0.00988156040995482,
          0.02172702113301393,
          0.056714470779010026,
          0.08922022143513796,
          0.12031644145161745,
          0.1480814770808899,
          0.16647988120228882,
          0.17629247466237183,
          0.17846029559285279,
          0.17357617179066773,
          0.16664450923115845,
          0.1605275229564392,
          0.1540885523906433,
          0.15142935076863404,
          0.15292590418965454,
          0.1551983908763611,
          0.16295450488240357,
          0.17607980528981323,
          0.19121485510975952,
          0.2092300013652527,
          0.22902768412739868,
          0.24951070109517212,
          0.26830011168629764,
          0.28350466052205203,
          0.29402523795277713,
          0.3017447547069275,
          0.3100846366039002,
          0.31713765422017215,
          0.3246828869929993,
          0.33574705878407596,
          0.34868508139760135,
          0.36141770640523074,
          0.3730331019511902,
          0.3826478079906189,
          0.3901837424388611,
          0.3950609521022522,
          0.39205055991322635,
          0.3837006644359314,
          0.37162845889241336,
          0.3531182364574158,
          0.33285373011738895,
          0.3096893385997498,
          0.28409176627308963,
          0.2570297078242981,
          0.22693854132802124,
          0.1964210824123108,
          0.16346007147938843,
          0.13298803130299683,
          0.10794418612630007,
          0.08588248053700563,
          0.07487600604207155,
          0.072542484199115,
          0.07198088923604128,
          0.073899324332782,
          0.073022540008136,
          0.06775408545643923,
          0.0587856129756653,
          0.0437254265895569,
          0.02357023516804811,
          -0.001347724998883042,
          -0.0295087738880432,
          -0.05997521122782591,
          -0.09449357231943968,
          -0.13006002148478393,
          -0.16618282040446167,
          -0.20248455246775512,
          -0.2355714484104431,
          -0.26747042378275754,
          -0.29674596031992795,
          -0.32234436711161496,
          -0.3482860966572082,
          -0.3718469782718933,
          -0.389082853401593,
          -0.40161794861643674,
          -0.40761417588084103,
          -0.40333873471110226,
          -0.3952851935276306,
          -0.3863278075107849,
          -0.3726350708851135,
          -0.35949176987498166,
          -0.35005194386332394,
          -0.3436966582187927,
          -0.340643231476239,
          -0.33800453385203244,
          -0.33453423222391965,
          -0.32837301930277707,
          -0.3186717673191345,
          -0.30537027558176877,
          -0.2896381064304626,
          -0.2752248688587463,
          -0.2581657811054504,
          -0.24018305977671509,
          -0.22729427059977417,
          -0.2186017676243103,
          -0.215907280052594,
          -0.21529847821085815,
          -0.212719385231427,
          -0.20845145424692993,
          -0.2007010622867859,
          -0.18848103722422485,
          -0.1707591458210266,
          -0.15014344891398315,
          -0.12810439308970337,
          -0.1030953570255554,
          -0.07856399258463743,
          -0.05122894486277464,
          -0.015891258324078356,
          0.020020778571673597,
          0.055470521842547624,
          0.09089201251179811,
          0.1198512868037903,
          0.14100151816517945,
          0.1548185900798523,
          0.16375761786610718,
          0.1676592187038147,
          0.16453271666676636,
          0.15819888869435425,
          0.15168827334553833,
          0.1464661912074768,
          0.14461582461506958,
          0.14537614146382447,
          0.14943688670308228,
          0.1582006768336975,
          0.17077713767201538,
          0.18625837126881714,
          0.20589154521138306,
          0.2276281670680725,
          0.24580543795735474,
          0.2622380808940613,
          0.2756615237346375,
          0.2842820242992127,
          0.29290383616597293,
          0.3025618151775086,
          0.31468849936635135,
          0.3260453299632752,
          0.3371596888652527,
          0.3512646512141907,
          0.36210363665730594,
          0.3738205985179627,
          0.3873228386989319,
          0.39376192847401736,
          0.3956066922298157,
          0.3941023902049744,
          0.38474911013753055,
          0.3706317500224793,
          0.3553416089168274,
          0.3365115479579651,
          0.3163935498347962,
          0.29286235133320926,
          0.2619946555247986,
          0.2296491221538269,
          0.1956534937968933,
          0.16176539221913452,
          0.13389616767079468,
          0.10992961684376833,
          0.0917894200435364,
          0.08284085551411745,
          0.07872873107106325,
          0.07735925475270387,
          0.07854693690449831,
          0.07608037749440309,
          0.07026367942006227,
          0.06147783557088014,
          0.044915850555011,
          0.024598296081134046,
          -0.0001168890842712257,
          -0.02830917080729369,
          -0.05764300068705443,
          -0.09361631115763548,
          -0.13090521534769897,
          -0.16551441391795044,
          -0.19935554703562622,
          -0.23075825413554077,
          -0.26129228314249875,
          -0.2920708104023254,
          -0.32137102326243283,
          -0.3481871529468811,
          -0.37153286179392697,
          -0.38898271759837033,
          -0.3992434187778747,
          -0.4013589068302429,
          -0.3972007676014221,
          -0.38941520890086057,
          -0.37899202545969846,
          -0.3677943392643249,
          -0.3573297901996887,
          -0.35206026276438596,
          -0.35013980110972287,
          -0.34656471451609494,
          -0.3437184735187805,
          -0.33934706887095334,
          -0.3315576954731262,
          -0.32131725987284543,
          -0.3063409968265808,
          -0.2891995354542053,
          -0.27338403900950314,
          -0.2581098719486511
         ]
        },
        {
         "line": {
          "color": "#ff7f0e",
          "shape": "linear"
         },
         "mode": "lines",
         "name": "audio signal 1",
         "type": "scatter",
         "x": [
          0.1000040361640297,
          0.10002487033823054,
          0.10004570451243139,
          0.10006653868663222,
          0.10008737286083307,
          0.1001082070350339,
          0.10012904120923474,
          0.10014987538343557,
          0.10017070955763642,
          0.10019154373183725,
          0.1002123779060381,
          0.10023321208023894,
          0.10025404625443977,
          0.10027488042864062,
          0.10029571460284145,
          0.1003165487770423,
          0.10033738295124313,
          0.10035821712544397,
          0.10037905129964482,
          0.10039988547384565,
          0.1004207196480465,
          0.10044155382224733,
          0.10046238799644817,
          0.100483222170649,
          0.10050405634484985,
          0.1005248905190507,
          0.10054572469325153,
          0.10056655886745237,
          0.1005873930416532,
          0.10060822721585405,
          0.10062906139005488,
          0.10064989556425573,
          0.10067072973845657,
          0.1006915639126574,
          0.10071239808685825,
          0.10073323226105908,
          0.10075406643525993,
          0.10077490060946076,
          0.1007957347836616,
          0.10081656895786244,
          0.10083740313206328,
          0.10085823730626413,
          0.10087907148046496,
          0.1008999056546658,
          0.10092073982886664,
          0.10094157400306748,
          0.10096240817726831,
          0.10098324235146916,
          0.10100407652567,
          0.10102491069987084,
          0.10104574487407168,
          0.10106657904827251,
          0.10108741322247336,
          0.10110824739667419,
          0.10112908157087504,
          0.10114991574507588,
          0.10117074991927671,
          0.10119158409347756,
          0.10121241826767839,
          0.10123325244187924,
          0.10125408661608007,
          0.10127492079028091,
          0.10129575496448175,
          0.10131658913868259,
          0.10133742331288344,
          0.10135825748708427,
          0.10137909166128511,
          0.10139992583548595,
          0.10142076000968679,
          0.10144159418388762,
          0.10146242835808847,
          0.10148326253228931,
          0.10150409670649015,
          0.10152493088069099,
          0.10154576505489182,
          0.10156659922909267,
          0.1015874334032935,
          0.10160826757749435,
          0.10162910175169519,
          0.10164993592589602,
          0.10167077010009687,
          0.1016916042742977,
          0.10171243844849855,
          0.10173327262269938,
          0.10175410679690022,
          0.10177494097110107,
          0.1017957751453019,
          0.10181660931950275,
          0.10183744349370358,
          0.10185827766790442,
          0.10187911184210525,
          0.1018999460163061,
          0.10192078019050693,
          0.10194161436470778,
          0.10196244853890862,
          0.10198328271310945,
          0.1020041168873103,
          0.10202495106151113,
          0.10204578523571198,
          0.10206661940991281,
          0.10208745358411365,
          0.1021082877583145,
          0.10212912193251533,
          0.10214995610671618,
          0.10217079028091701,
          0.10219162445511785,
          0.10221245862931869,
          0.10223329280351953,
          0.10225412697772038,
          0.10227496115192121,
          0.10229579532612205,
          0.10231662950032289,
          0.10233746367452373,
          0.10235829784872456,
          0.10237913202292541,
          0.10239996619712624,
          0.10242080037132709,
          0.10244163454552793,
          0.10246246871972876,
          0.10248330289392961,
          0.10250413706813044,
          0.10252497124233129,
          0.10254580541653212,
          0.10256663959073296,
          0.10258747376493381,
          0.10260830793913464,
          0.10262914211333549,
          0.10264997628753632,
          0.10267081046173716,
          0.102691644635938,
          0.10271247881013884,
          0.10273331298433969,
          0.10275414715854052,
          0.10277498133274136,
          0.1027958155069422,
          0.10281664968114304,
          0.10283748385534387,
          0.10285831802954472,
          0.10287915220374556,
          0.1028999863779464,
          0.10292082055214724,
          0.10294165472634807,
          0.10296248890054892,
          0.10298332307474975,
          0.1030041572489506,
          0.10302499142315143,
          0.10304582559735227,
          0.10306665977155312,
          0.10308749394575395,
          0.1031083281199548,
          0.10312916229415563,
          0.10314999646835647,
          0.1031708306425573,
          0.10319166481675815,
          0.103212498990959,
          0.10323333316515983,
          0.10325416733936067,
          0.1032750015135615,
          0.10329583568776235,
          0.10331666986196318,
          0.10333750403616403,
          0.10335833821036487,
          0.1033791723845657,
          0.10340000655876655,
          0.10342084073296738,
          0.10344167490716823,
          0.10346250908136906,
          0.1034833432555699,
          0.10350417742977074,
          0.10352501160397158,
          0.10354584577817243,
          0.10356667995237326,
          0.1035875141265741,
          0.10360834830077494,
          0.10362918247497578,
          0.10365001664917661,
          0.10367085082337746,
          0.1036916849975783,
          0.10371251917177914,
          0.10373335334597998,
          0.10375418752018081,
          0.10377502169438166,
          0.10379585586858249,
          0.10381669004278334,
          0.10383752421698418,
          0.10385835839118501,
          0.10387919256538586,
          0.10390002673958669,
          0.10392086091378754,
          0.10394169508798837,
          0.10396252926218921,
          0.10398336343639004,
          0.10400419761059089,
          0.10402503178479174,
          0.10404586595899257,
          0.10406670013319341,
          0.10408753430739424,
          0.10410836848159509,
          0.10412920265579592,
          0.10415003682999677,
          0.10417087100419761,
          0.10419170517839844,
          0.10421253935259929,
          0.10423337352680012,
          0.10425420770100097,
          0.1042750418752018,
          0.10429587604940264,
          0.10431671022360349,
          0.10433754439780432,
          0.10435837857200517,
          0.104379212746206,
          0.10440004692040684,
          0.10442088109460768,
          0.10444171526880852,
          0.10446254944300937,
          0.1044833836172102,
          0.10450421779141104,
          0.10452505196561188,
          0.10454588613981272,
          0.10456672031401355,
          0.1045875544882144,
          0.10460838866241523,
          0.10462922283661608,
          0.10465005701081692,
          0.10467089118501775,
          0.1046917253592186,
          0.10471255953341943,
          0.10473339370762028,
          0.10475422788182111,
          0.10477506205602195,
          0.1047958962302228,
          0.10481673040442363,
          0.10483756457862448,
          0.10485839875282531,
          0.10487923292702615,
          0.10490006710122698,
          0.10492090127542783,
          0.10494173544962868,
          0.10496256962382951,
          0.10498340379803035,
          0.10500423797223118,
          0.10502507214643203,
          0.10504590632063286,
          0.10506674049483371,
          0.10508757466903454,
          0.10510840884323538,
          0.10512924301743623,
          0.10515007719163706,
          0.10517091136583791,
          0.10519174554003874,
          0.10521257971423958,
          0.10523341388844042,
          0.10525424806264126,
          0.10527508223684211,
          0.10529591641104294,
          0.10531675058524378,
          0.10533758475944462,
          0.10535841893364546,
          0.1053792531078463,
          0.10540008728204714,
          0.10542092145624798,
          0.10544175563044882,
          0.10546258980464966,
          0.1054834239788505,
          0.10550425815305134,
          0.10552509232725217,
          0.10554592650145302,
          0.10556676067565386,
          0.1055875948498547,
          0.10560842902405554,
          0.10562926319825637,
          0.10565009737245722,
          0.10567093154665805,
          0.1056917657208589,
          0.10571259989505973,
          0.10573343406926057,
          0.10575426824346142,
          0.10577510241766225,
          0.1057959365918631,
          0.10581677076606393,
          0.10583760494026477,
          0.1058584391144656,
          0.10587927328866645,
          0.1059001074628673,
          0.10592094163706813,
          0.10594177581126897,
          0.1059626099854698,
          0.10598344415967065,
          0.10600427833387148,
          0.10602511250807233,
          0.10604594668227317,
          0.106066780856474,
          0.10608761503067485,
          0.10610844920487568,
          0.10612928337907652,
          0.10615011755327736,
          0.1061709517274782,
          0.10619178590167903,
          0.10621262007587988,
          0.10623345425008072,
          0.10625428842428156,
          0.1062751225984824,
          0.10629595677268323,
          0.10631679094688408,
          0.10633762512108491,
          0.10635845929528576,
          0.1063792934694866,
          0.10640012764368743,
          0.10642096181788828,
          0.10644179599208911,
          0.10646263016628996,
          0.10648346434049079,
          0.10650429851469163,
          0.10652513268889248,
          0.10654596686309331,
          0.10656680103729416,
          0.10658763521149499,
          0.10660846938569583
         ],
         "y": [
          -0.35429765735929564,
          -0.34269816455198593,
          -0.32989924353556493,
          -0.3159456899596916,
          -0.3008863406361678,
          -0.28477390261238317,
          -0.26766476869891415,
          -0.2496188200972725,
          -0.23069921681835248,
          -0.21097217662529855,
          -0.19050674327417455,
          -0.1693745448640645,
          -0.1476495431418021,
          -0.12540777463922947,
          -0.10272708454881214,
          -0.07968685426880526,
          -0.05636772357209324,
          -0.032851308370423986,
          -0.009219915062556164,
          0.01444374753460323,
          0.03805685766308178,
          0.06153677049621267,
          0.08480130739198043,
          0.10776904351440311,
          0.1303595928169639,
          0.15249388939010072,
          0.17409446418828226,
          0.19508571616834094,
          0.21539417688956852,
          0.234948767650125,
          0.25368104825915233,
          0.2715254565745064,
          0.2884195379672549,
          0.30430416391003307,
          0.31912373892434914,
          0.33282639516214463,
          0.34536417394105007,
          0.3566931935975179,
          0.36677380307076407,
          0.37557072067965386,
          0.3830531576070224,
          0.3891949256591327,
          0.3939745289231993,
          0.3973752390021253,
          0.3993851535631247,
          0.3999972379953598,
          0.39920935003076297,
          0.3970242472418793,
          0.39344957739048847,
          0.3884978516607851,
          0.38218640087078165,
          0.3745373148152332,
          0.3655773649523347,
          0.35533791070485315,
          0.34385478970349087,
          0.3311681923568636,
          0.3173225211867984,
          0.30236623542152596,
          0.2863516813906033,
          0.2693349093150044,
          0.2513754771339826,
          0.23253624205482382,
          0.21288314055557694,
          0.1924849576102129,
          0.17141308594435128,
          0.14974127616398583,
          0.12754537863152737,
          0.10490307799310271,
          0.08189362128562884,
          0.05859754057582193,
          0.03509637110153127,
          0.011472365902130601,
          -0.01219179206347605,
          -0.03581327930357158,
          -0.05930942167197411,
          -0.08259798372400026,
          -0.10559745653674318,
          -0.1282273429866921,
          -0.15040843948598956,
          -0.17206311319148304,
          -0.19311557371623544,
          -0.21349213839241707,
          -0.23312149015737896,
          -0.2519349271600998,
          -0.2698666032147136,
          -0.28685375825907944,
          -0.30283693801224276,
          -0.3177602020617812,
          -0.3315713196526908,
          -0.34422195249271514,
          -0.35566782393415286,
          -0.36586887394022166,
          -0.3747893992933029,
          -0.38239817855467373,
          -0.3886685813381075,
          -0.3935786615150196,
          -0.3971112340249714,
          -0.39925393502257445,
          -0.39999926515042133,
          -0.3993446157864843,
          -0.3972922781741836,
          -0.3938494354031301,
          -0.38902813726864954,
          -0.3828452580980132,
          -0.3753224376910854,
          -0.3664860055819568,
          -0.35636688888677753,
          -0.3450005040602211,
          -0.3324266329395129,
          -0.3186892835097683,
          -0.30383653587797277,
          -0.28792037399485876,
          -0.2709965037133115,
          -0.25312415782043857,
          -0.23436588872543818,
          -0.214787349529045,
          -0.19445706424049375,
          -0.1734461879467093,
          -0.1518282577725375,
          -0.12967893550426648,
          -0.10707574277662378,
          -0.08409778975059108,
          -0.06082549823145633,
          -0.0373403201959463,
          -0.013724452714138732,
          0.009939449736754357,
          0.033568564559283275,
          0.05708019091106963,
          0.0803920391542048,
          0.10342251886511244,
          0.1260910243975511,
          0.1483182169985852,
          0.17002630249081577,
          0.19113930354844555,
          0.2115833256144539,
          0.231286815528373,
          0.2501808119589844,
          0.26819918676602017,
          0.285278876445628,
          0.30136010284976156,
          0.3163865824071305,
          0.33030572311305295,
          0.3430688085992286,
          0.3546311686387371,
          0.36495233548991707,
          0.3739961855315977,
          0.38173106569417237,
          0.38812990424390015,
          0.39317030553278104,
          0.39683462838232586,
          0.3991100478268721,
          0.39998860000039516,
          0.3994672100096811,
          0.39754770269631684,
          0.39423679624982705,
          0.38954607869431623,
          0.38349196733089114,
          0.37609565127785316,
          0.3673830173097231,
          0.35738455925472556,
          0.34613527126769617,
          0.33367452535218517,
          0.3200459335601383,
          0.3052971953516974,
          0.2894799306492768,
          0.2726494991700476,
          0.2548648066695312,
          0.2361880987739675,
          0.21668474312355024,
          0.19642300058849443,
          0.17547378635910182,
          0.1539104217458382,
          0.13180837755789251,
          0.10924500995889411,
          0.08629928972366142,
          0.06305152584411583,
          0.039583084451367274,
          0.015976104037971575,
          -0.0076867920231548335,
          -0.03132278465690394,
          -0.0548491489488665,
          -0.07818354367898184,
          -0.10124429951202496,
          -0.1239507048366621,
          -0.1462232882524055,
          -0.16798409671599732,
          -0.18915696837360632,
          -0.20966779912383712,
          -0.22944480197880238,
          -0.24841875831528626,
          -0.26652326013695266,
          -0.28369494249920935,
          -0.29987370528381146,
          -0.3150029235464488,
          -0.3290296457016227,
          -0.3419047788507698,
          -0.35358326060517326,
          -0.36402421680238617,
          -0.37319110456387805,
          -0.3810518401935507,
          -0.38757891146916607,
          -0.39274947393394605,
          -0.3965454308511185,
          -0.3989534965416793,
          -0.3999652428836955,
          -0.3995771288103356,
          -0.39779051270345445,
          -0.39461164763930956,
          -0.39005165950308884,
          -0.38412650804878745,
          -0.37685693104081885,
          -0.3682683716727242,
          -0.3583908895171914,
          -0.34725905531884393,
          -0.33491182999820457,
          -0.3213924282902611,
          -0.30674816749474604,
          -0.2910303018678131,
          -0.274293843234343,
          -0.25659736844907854,
          -0.23800281438022766,
          -0.2185752611332744,
          -0.1983827042734009,
          -0.17749581684418703,
          -0.1559877020150735,
          -0.13393363722350377,
          -0.11141081070732878,
          -0.08849805134939384,
          -0.06527555278007176,
          -0.04182459270299778,
          -0.018227248426929434,
          0.00543389040131073,
          0.02907601085682839,
          0.05261636657811286,
          0.07597256737575059,
          0.09906286759421314,
          0.12180645221816516,
          0.14412371972121724,
          0.1659365606678524,
          0.1871686310928804,
          0.20774561970183367,
          0.22759550795730657,
          0.24664882214044961,
          0.264838876506005,
          0.282102006679348,
          0.2983777924789776,
          0.31360926938439565,
          0.32774312790940985,
          0.34072990018298177,
          0.3525241330844648,
          0.36308454732757833,
          0.37237418193600785,
          0.38036052360518446,
          0.3870156204973696,
          0.39231618007185515,
          0.3962436506078184,
          0.39878428613449385,
          0.3999291945414624,
          0.3996743687006361,
          0.39802070049103055,
          0.3949739776772276,
          0.3905448636524631,
          0.3847488601172171,
          0.37760625282396604,
          0.3691420405779481,
          0.3593858477424995,
          0.34837182055505117,
          0.3361385076169037,
          0.32272872497478056,
          0.30818940626661057,
          0.2925714384559472,
          0.2759294837297773,
          0.2583217881834379,
          0.239809977961766,
          0.22045884357049073,
          0.20033611311224586,
          0.17951221524129785,
          0.15806003266647695,
          0.1360546470648233,
          0.1135730762992482,
          0.09069400485929896,
          0.06749750846914594,
          0.04406477382598591,
          0.02047781445030719,
          -0.003180816357685636,
          -0.026828314451079256,
          -0.050381914646871556,
          -0.07375918040055972,
          -0.09687829233025866,
          -0.11965833458091307,
          -0.14201957802609605,
          -0.16388375931642218,
          -0.18517435479782218,
          -0.20581684834075534,
          -0.22573899214346582,
          -0.24487105959596686,
          -0.26314608932008693,
          -0.28050011953122156,
          -0.29687241190183167,
          -0.31220566414273365,
          -0.32644621055865414,
          -0.33954420987570544,
          -0.3514538196835761,
          -0.3621333568819964,
          -0.37154544356962926,
          -0.37965713786513056,
          -0.3864400492021843,
          -0.39187043769526975,
          -0.39592929722816667,
          -0.3986024219745042,
          -0.3998804561175401,
          -0.39975892659507917,
          -0.3982382587550024,
          -0.39532377486655895,
          -0.3910256754926764,
          -0.38535900378842536,
          -0.3783435928506841,
          -0.3700039963031454
         ]
        }
       ],
       "layout": {
        "template": {
         "data": {
          "bar": [
           {
            "error_x": {
             "color": "#2a3f5f"
            },
            "error_y": {
             "color": "#2a3f5f"
            },
            "marker": {
             "line": {
              "color": "#E5ECF6",
              "width": 0.5
             },
             "pattern": {
              "fillmode": "overlay",
              "size": 10,
              "solidity": 0.2
             }
            },
            "type": "bar"
           }
          ],
          "barpolar": [
           {
            "marker": {
             "line": {
              "color": "#E5ECF6",
              "width": 0.5
             },
             "pattern": {
              "fillmode": "overlay",
              "size": 10,
              "solidity": 0.2
             }
            },
            "type": "barpolar"
           }
          ],
          "carpet": [
           {
            "aaxis": {
             "endlinecolor": "#2a3f5f",
             "gridcolor": "white",
             "linecolor": "white",
             "minorgridcolor": "white",
             "startlinecolor": "#2a3f5f"
            },
            "baxis": {
             "endlinecolor": "#2a3f5f",
             "gridcolor": "white",
             "linecolor": "white",
             "minorgridcolor": "white",
             "startlinecolor": "#2a3f5f"
            },
            "type": "carpet"
           }
          ],
          "choropleth": [
           {
            "colorbar": {
             "outlinewidth": 0,
             "ticks": ""
            },
            "type": "choropleth"
           }
          ],
          "contour": [
           {
            "colorbar": {
             "outlinewidth": 0,
             "ticks": ""
            },
            "colorscale": [
             [
              0,
              "#0d0887"
             ],
             [
              0.1111111111111111,
              "#46039f"
             ],
             [
              0.2222222222222222,
              "#7201a8"
             ],
             [
              0.3333333333333333,
              "#9c179e"
             ],
             [
              0.4444444444444444,
              "#bd3786"
             ],
             [
              0.5555555555555556,
              "#d8576b"
             ],
             [
              0.6666666666666666,
              "#ed7953"
             ],
             [
              0.7777777777777778,
              "#fb9f3a"
             ],
             [
              0.8888888888888888,
              "#fdca26"
             ],
             [
              1,
              "#f0f921"
             ]
            ],
            "type": "contour"
           }
          ],
          "contourcarpet": [
           {
            "colorbar": {
             "outlinewidth": 0,
             "ticks": ""
            },
            "type": "contourcarpet"
           }
          ],
          "heatmap": [
           {
            "colorbar": {
             "outlinewidth": 0,
             "ticks": ""
            },
            "colorscale": [
             [
              0,
              "#0d0887"
             ],
             [
              0.1111111111111111,
              "#46039f"
             ],
             [
              0.2222222222222222,
              "#7201a8"
             ],
             [
              0.3333333333333333,
              "#9c179e"
             ],
             [
              0.4444444444444444,
              "#bd3786"
             ],
             [
              0.5555555555555556,
              "#d8576b"
             ],
             [
              0.6666666666666666,
              "#ed7953"
             ],
             [
              0.7777777777777778,
              "#fb9f3a"
             ],
             [
              0.8888888888888888,
              "#fdca26"
             ],
             [
              1,
              "#f0f921"
             ]
            ],
            "type": "heatmap"
           }
          ],
          "heatmapgl": [
           {
            "colorbar": {
             "outlinewidth": 0,
             "ticks": ""
            },
            "colorscale": [
             [
              0,
              "#0d0887"
             ],
             [
              0.1111111111111111,
              "#46039f"
             ],
             [
              0.2222222222222222,
              "#7201a8"
             ],
             [
              0.3333333333333333,
              "#9c179e"
             ],
             [
              0.4444444444444444,
              "#bd3786"
             ],
             [
              0.5555555555555556,
              "#d8576b"
             ],
             [
              0.6666666666666666,
              "#ed7953"
             ],
             [
              0.7777777777777778,
              "#fb9f3a"
             ],
             [
              0.8888888888888888,
              "#fdca26"
             ],
             [
              1,
              "#f0f921"
             ]
            ],
            "type": "heatmapgl"
           }
          ],
          "histogram": [
           {
            "marker": {
             "pattern": {
              "fillmode": "overlay",
              "size": 10,
              "solidity": 0.2
             }
            },
            "type": "histogram"
           }
          ],
          "histogram2d": [
           {
            "colorbar": {
             "outlinewidth": 0,
             "ticks": ""
            },
            "colorscale": [
             [
              0,
              "#0d0887"
             ],
             [
              0.1111111111111111,
              "#46039f"
             ],
             [
              0.2222222222222222,
              "#7201a8"
             ],
             [
              0.3333333333333333,
              "#9c179e"
             ],
             [
              0.4444444444444444,
              "#bd3786"
             ],
             [
              0.5555555555555556,
              "#d8576b"
             ],
             [
              0.6666666666666666,
              "#ed7953"
             ],
             [
              0.7777777777777778,
              "#fb9f3a"
             ],
             [
              0.8888888888888888,
              "#fdca26"
             ],
             [
              1,
              "#f0f921"
             ]
            ],
            "type": "histogram2d"
           }
          ],
          "histogram2dcontour": [
           {
            "colorbar": {
             "outlinewidth": 0,
             "ticks": ""
            },
            "colorscale": [
             [
              0,
              "#0d0887"
             ],
             [
              0.1111111111111111,
              "#46039f"
             ],
             [
              0.2222222222222222,
              "#7201a8"
             ],
             [
              0.3333333333333333,
              "#9c179e"
             ],
             [
              0.4444444444444444,
              "#bd3786"
             ],
             [
              0.5555555555555556,
              "#d8576b"
             ],
             [
              0.6666666666666666,
              "#ed7953"
             ],
             [
              0.7777777777777778,
              "#fb9f3a"
             ],
             [
              0.8888888888888888,
              "#fdca26"
             ],
             [
              1,
              "#f0f921"
             ]
            ],
            "type": "histogram2dcontour"
           }
          ],
          "mesh3d": [
           {
            "colorbar": {
             "outlinewidth": 0,
             "ticks": ""
            },
            "type": "mesh3d"
           }
          ],
          "parcoords": [
           {
            "line": {
             "colorbar": {
              "outlinewidth": 0,
              "ticks": ""
             }
            },
            "type": "parcoords"
           }
          ],
          "pie": [
           {
            "automargin": true,
            "type": "pie"
           }
          ],
          "scatter": [
           {
            "fillpattern": {
             "fillmode": "overlay",
             "size": 10,
             "solidity": 0.2
            },
            "type": "scatter"
           }
          ],
          "scatter3d": [
           {
            "line": {
             "colorbar": {
              "outlinewidth": 0,
              "ticks": ""
             }
            },
            "marker": {
             "colorbar": {
              "outlinewidth": 0,
              "ticks": ""
             }
            },
            "type": "scatter3d"
           }
          ],
          "scattercarpet": [
           {
            "marker": {
             "colorbar": {
              "outlinewidth": 0,
              "ticks": ""
             }
            },
            "type": "scattercarpet"
           }
          ],
          "scattergeo": [
           {
            "marker": {
             "colorbar": {
              "outlinewidth": 0,
              "ticks": ""
             }
            },
            "type": "scattergeo"
           }
          ],
          "scattergl": [
           {
            "marker": {
             "colorbar": {
              "outlinewidth": 0,
              "ticks": ""
             }
            },
            "type": "scattergl"
           }
          ],
          "scattermapbox": [
           {
            "marker": {
             "colorbar": {
              "outlinewidth": 0,
              "ticks": ""
             }
            },
            "type": "scattermapbox"
           }
          ],
          "scatterpolar": [
           {
            "marker": {
             "colorbar": {
              "outlinewidth": 0,
              "ticks": ""
             }
            },
            "type": "scatterpolar"
           }
          ],
          "scatterpolargl": [
           {
            "marker": {
             "colorbar": {
              "outlinewidth": 0,
              "ticks": ""
             }
            },
            "type": "scatterpolargl"
           }
          ],
          "scatterternary": [
           {
            "marker": {
             "colorbar": {
              "outlinewidth": 0,
              "ticks": ""
             }
            },
            "type": "scatterternary"
           }
          ],
          "surface": [
           {
            "colorbar": {
             "outlinewidth": 0,
             "ticks": ""
            },
            "colorscale": [
             [
              0,
              "#0d0887"
             ],
             [
              0.1111111111111111,
              "#46039f"
             ],
             [
              0.2222222222222222,
              "#7201a8"
             ],
             [
              0.3333333333333333,
              "#9c179e"
             ],
             [
              0.4444444444444444,
              "#bd3786"
             ],
             [
              0.5555555555555556,
              "#d8576b"
             ],
             [
              0.6666666666666666,
              "#ed7953"
             ],
             [
              0.7777777777777778,
              "#fb9f3a"
             ],
             [
              0.8888888888888888,
              "#fdca26"
             ],
             [
              1,
              "#f0f921"
             ]
            ],
            "type": "surface"
           }
          ],
          "table": [
           {
            "cells": {
             "fill": {
              "color": "#EBF0F8"
             },
             "line": {
              "color": "white"
             }
            },
            "header": {
             "fill": {
              "color": "#C8D4E3"
             },
             "line": {
              "color": "white"
             }
            },
            "type": "table"
           }
          ]
         },
         "layout": {
          "annotationdefaults": {
           "arrowcolor": "#2a3f5f",
           "arrowhead": 0,
           "arrowwidth": 1
          },
          "autotypenumbers": "strict",
          "coloraxis": {
           "colorbar": {
            "outlinewidth": 0,
            "ticks": ""
           }
          },
          "colorscale": {
           "diverging": [
            [
             0,
             "#8e0152"
            ],
            [
             0.1,
             "#c51b7d"
            ],
            [
             0.2,
             "#de77ae"
            ],
            [
             0.3,
             "#f1b6da"
            ],
            [
             0.4,
             "#fde0ef"
            ],
            [
             0.5,
             "#f7f7f7"
            ],
            [
             0.6,
             "#e6f5d0"
            ],
            [
             0.7,
             "#b8e186"
            ],
            [
             0.8,
             "#7fbc41"
            ],
            [
             0.9,
             "#4d9221"
            ],
            [
             1,
             "#276419"
            ]
           ],
           "sequential": [
            [
             0,
             "#0d0887"
            ],
            [
             0.1111111111111111,
             "#46039f"
            ],
            [
             0.2222222222222222,
             "#7201a8"
            ],
            [
             0.3333333333333333,
             "#9c179e"
            ],
            [
             0.4444444444444444,
             "#bd3786"
            ],
            [
             0.5555555555555556,
             "#d8576b"
            ],
            [
             0.6666666666666666,
             "#ed7953"
            ],
            [
             0.7777777777777778,
             "#fb9f3a"
            ],
            [
             0.8888888888888888,
             "#fdca26"
            ],
            [
             1,
             "#f0f921"
            ]
           ],
           "sequentialminus": [
            [
             0,
             "#0d0887"
            ],
            [
             0.1111111111111111,
             "#46039f"
            ],
            [
             0.2222222222222222,
             "#7201a8"
            ],
            [
             0.3333333333333333,
             "#9c179e"
            ],
            [
             0.4444444444444444,
             "#bd3786"
            ],
            [
             0.5555555555555556,
             "#d8576b"
            ],
            [
             0.6666666666666666,
             "#ed7953"
            ],
            [
             0.7777777777777778,
             "#fb9f3a"
            ],
            [
             0.8888888888888888,
             "#fdca26"
            ],
            [
             1,
             "#f0f921"
            ]
           ]
          },
          "colorway": [
           "#636efa",
           "#EF553B",
           "#00cc96",
           "#ab63fa",
           "#FFA15A",
           "#19d3f3",
           "#FF6692",
           "#B6E880",
           "#FF97FF",
           "#FECB52"
          ],
          "font": {
           "color": "#2a3f5f"
          },
          "geo": {
           "bgcolor": "white",
           "lakecolor": "white",
           "landcolor": "#E5ECF6",
           "showlakes": true,
           "showland": true,
           "subunitcolor": "white"
          },
          "hoverlabel": {
           "align": "left"
          },
          "hovermode": "closest",
          "mapbox": {
           "style": "light"
          },
          "paper_bgcolor": "white",
          "plot_bgcolor": "#E5ECF6",
          "polar": {
           "angularaxis": {
            "gridcolor": "white",
            "linecolor": "white",
            "ticks": ""
           },
           "bgcolor": "#E5ECF6",
           "radialaxis": {
            "gridcolor": "white",
            "linecolor": "white",
            "ticks": ""
           }
          },
          "scene": {
           "xaxis": {
            "backgroundcolor": "#E5ECF6",
            "gridcolor": "white",
            "gridwidth": 2,
            "linecolor": "white",
            "showbackground": true,
            "ticks": "",
            "zerolinecolor": "white"
           },
           "yaxis": {
            "backgroundcolor": "#E5ECF6",
            "gridcolor": "white",
            "gridwidth": 2,
            "linecolor": "white",
            "showbackground": true,
            "ticks": "",
            "zerolinecolor": "white"
           },
           "zaxis": {
            "backgroundcolor": "#E5ECF6",
            "gridcolor": "white",
            "gridwidth": 2,
            "linecolor": "white",
            "showbackground": true,
            "ticks": "",
            "zerolinecolor": "white"
           }
          },
          "shapedefaults": {
           "line": {
            "color": "#2a3f5f"
           }
          },
          "ternary": {
           "aaxis": {
            "gridcolor": "white",
            "linecolor": "white",
            "ticks": ""
           },
           "baxis": {
            "gridcolor": "white",
            "linecolor": "white",
            "ticks": ""
           },
           "bgcolor": "#E5ECF6",
           "caxis": {
            "gridcolor": "white",
            "linecolor": "white",
            "ticks": ""
           }
          },
          "title": {
           "x": 0.05
          },
          "xaxis": {
           "automargin": true,
           "gridcolor": "white",
           "linecolor": "white",
           "ticks": "",
           "title": {
            "standoff": 15
           },
           "zerolinecolor": "white",
           "zerolinewidth": 2
          },
          "yaxis": {
           "automargin": true,
           "gridcolor": "white",
           "linecolor": "white",
           "ticks": "",
           "title": {
            "standoff": 15
           },
           "zerolinecolor": "white",
           "zerolinewidth": 2
          }
         }
        }
       }
      }
     },
     "metadata": {},
     "output_type": "display_data"
    }
   ],
   "source": [
    "import numpy as np\n",
    "f0=f\n",
    "t = np.linspace(0, duration, len(ref))\n",
    "A =0.4 \n",
    "phi=5*(np.pi)/4\n",
    "sine_wave = A * np.sin(2 * np.pi * f0 * t + phi)\n",
    "plot_signals([ref, sine_wave], fs, t_start=t_start, t_end=t_end)\n",
    "#[ref,sine_wave] → to plot the two signals\n"
   ]
  },
  {
   "cell_type": "markdown",
   "metadata": {
    "id": "-XZsH78TVZYi"
   },
   "source": [
    "**3.2. What are the main differences between the two signals.**"
   ]
  },
  {
   "cell_type": "markdown",
   "metadata": {},
   "source": [
    "Audio signal 0 is the ukelele note. The waveform is distorted as seen in the blue line, since when you pluck a string of an instrument, it does not just vibrate at its main pitch, but it also vibrates in half segments, creating additional frequencies. Audio signal 1 is the signal we synthesized, it consists of one frequency, it is perfectly smooth in a recurring s shape with no wiggles or distortions."
   ]
  },
  {
   "cell_type": "markdown",
   "metadata": {
    "id": "gVWDFf-6Vudv"
   },
   "source": [
    "**3.3. Listen to the synthesized signal usign the Audio widget. Sounds natural?**"
   ]
  },
  {
   "cell_type": "code",
   "execution_count": null,
   "metadata": {
    "id": "JTu4GpMUWY-j"
   },
   "outputs": [
    {
     "data": {
      "text/html": [
       "\n",
       "                <audio  controls=\"controls\" >\n",
       "                    <source src=\"data:audio/wav;base64,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\" type=\"audio/wav\" />\n",
       "                    Your browser does not support the audio element.\n",
       "                </audio>\n",
       "              "
      ],
      "text/plain": [
       "<IPython.lib.display.Audio object>"
      ]
     },
     "execution_count": 39,
     "metadata": {},
     "output_type": "execute_result"
    }
   ],
   "source": [
    "Audio(sine_wave, rate=fs)"
   ]
  },
  {
   "cell_type": "markdown",
   "metadata": {},
   "source": [
    "No, the synthesized signal does not sound natural, it sounds unnatural , kind of like a whistle or a \"beep\" sound. Sounds cleaner and simpler"
   ]
  },
  {
   "cell_type": "markdown",
   "metadata": {
    "id": "YZQldb_QWdyq"
   },
   "source": [
    "3.4. Save the synthesized signal using the 'save_audio` function:"
   ]
  },
  {
   "cell_type": "code",
   "execution_count": 38,
   "metadata": {
    "id": "IIefvQl8WqUc"
   },
   "outputs": [],
   "source": [
    "save_audio(\"synthesized_signal.wav\", sine_wave, fs)"
   ]
  }
 ],
 "metadata": {
  "colab": {
   "provenance": []
  },
  "kernelspec": {
   "display_name": "Python 3",
   "language": "python",
   "name": "python3"
  },
  "language_info": {
   "codemirror_mode": {
    "name": "ipython",
    "version": 3
   },
   "file_extension": ".py",
   "mimetype": "text/x-python",
   "name": "python",
   "nbconvert_exporter": "python",
   "pygments_lexer": "ipython3",
   "version": "3.9.6"
  }
 },
 "nbformat": 4,
 "nbformat_minor": 0
}
