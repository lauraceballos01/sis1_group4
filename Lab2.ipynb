{
 "cells": [
  {
   "cell_type": "markdown",
   "metadata": {
    "id": "7FEkSsqqPhe2"
   },
   "source": [
    "### **Lab 2: Introduction to Complex Exponentials**\n",
    "\n",
    "The goal of this laboratory is to gain familiarity with complex numbers and their use in representing sinusoidal signals as complex exponentials.\n",
    "\n",
    "**Complex Numbers in Python**\n",
    "\n",
    "\n",
    "Python can be used to compute complex-valued formulas and also to display the results as a vector or “phasor” diagrams.\n",
    "\n",
    "Here are some of numpy package complex number functions (remember to import package):\n",
    "\n",
    "*conj ()*       Complex conjugate\n",
    "\n",
    "*abs ()*        Magnitude\n",
    "\n",
    "*angle ()*      Angle (or phase) in radians\n",
    "\n",
    "*real ()*       Real part\n",
    "\n",
    "*imag ()*       Imaginary part\n",
    "*j *        pre-defined as <math>&radic;-1</math>\n",
    "\n",
    "*x = 3 + 4j*    j sufix defines imaginary constant\n",
    "\n",
    "exp(1j<math>*</math>theta)  Function for the complex exponential\n",
    "\n",
    "Each of these functions takes a vector (or matrix) as its input argument and operates on each element of the vector.\n",
    "\n",
    "To display a complex number as a point in the complex plane you can directly use the provided function `plot_complex`. It can take a single number or a list of complex numbers as input. For instance, to display the complex number 2+1j:"
   ]
  },
  {
   "cell_type": "code",
   "execution_count": 35,
   "metadata": {},
   "outputs": [
    {
     "name": "stdout",
     "output_type": "stream",
     "text": [
      "fatal: destination path 'sis1_group4' already exists and is not an empty directory.\n"
     ]
    }
   ],
   "source": [
    "#!rmdir /s /q sis1_group4\n",
    "!git clone https://github.com/lauraceballos01/sis1_group4.git"
   ]
  },
  {
   "cell_type": "code",
   "execution_count": null,
   "metadata": {
    "colab": {
     "base_uri": "https://localhost:8080/"
    },
    "executionInfo": {
     "elapsed": 3415,
     "status": "ok",
     "timestamp": 1702317970077,
     "user": {
      "displayName": "PEDRO RAMONEDA FRANCO",
      "userId": "10653804143244385715"
     },
     "user_tz": -60
    },
    "id": "uvmioytcPgyZ",
    "outputId": "1fce312e-20b9-4609-df57-1a92ba465e41"
   },
   "outputs": [],
   "source": [
    "\n",
    "import numpy as np\n",
    "from IPython.display import Audio\n",
    "\n",
    "from sis1_group4.util import load_audio, save_audio, plot_signals, plot_complex"
   ]
  },
  {
   "cell_type": "code",
   "execution_count": 37,
   "metadata": {
    "colab": {
     "base_uri": "https://localhost:8080/",
     "height": 542
    },
    "executionInfo": {
     "elapsed": 17,
     "status": "ok",
     "timestamp": 1702317970078,
     "user": {
      "displayName": "PEDRO RAMONEDA FRANCO",
      "userId": "10653804143244385715"
     },
     "user_tz": -60
    },
    "id": "t_Yo8e9yPvT6",
    "outputId": "2c45e158-029d-4451-b750-96607dd5e655"
   },
   "outputs": [
    {
     "data": {
      "application/vnd.plotly.v1+json": {
       "config": {
        "plotlyServerURL": "https://plot.ly"
       },
       "data": [
        {
         "line": {
          "color": "rgb(150,150,150)",
          "dash": "dash",
          "shape": "linear"
         },
         "mode": "lines",
         "name": "unit circle",
         "type": "scatter",
         "x": {
          "bdata": "AAAAAAAA8D8gvWaF1v/vP318BhZa/+8/99Qhs4r+7z8MadJeaP3vP2fhCBzz++8/QuWM7ir67z+XEP3aD/jvPyjozuah9e8/VstOGOHy7z/O4592ze/vPwwTvAln7O8/pt1z2q3o7z94VG7yoeTvP537KFxD4O8/O6/3IpLb7z8mhgRTjtbvP1myT/k30e8/P1+vI4/L7z/Wjc/gk8XvP6buMUBGv+8/irktUqa47z9bg+8ntLHvP2IRedNvqu8/riqhZ9mi7z8+ZxP48JrvP//8T5m2ku8/qIqrYCqK7z9w4E5kTIHvP5jGNrsceO8/1sEzfZtu7z+V1enCyGTvPxhE0KWkWu8/cUwxQC9Q7z9e5imtaEXvP/p7qQhROu8/VaFxb+gu7z/myRX/LiPvP+D7+tUkF+8/ZYFXE8oK7z+alzLXHv7uP6QbZEIj8e4/fjWUdtfj7j+7ADuWO9buPyszoMRPyO4/YcHaJRS67j8ngdDeiKvuP9bJNRWunO4/lhKN74ON7j+JjiaVCn7uP+DGHy5Cbu4/3DJj4ype7j+9zafexE3uP5qqcEoQPe4/MIYMUg0s7j+YVpUhvBruP/jY7+UcCe4/GR3LzC/37T//DqAE9eTtP2/+sLxs0u0/ZCQJJZe/7T+MJnxudKztP6uYpcoEme0/Bnzoa0iF7T++vG6FP3HtPzKtKEvqXO0/Vn/M8UhI7T8NvNWuWzPtP4K4hLgiHu0/hAneRZ4I7T/k9KmOzvLsP9vgc8uz3Ow/cMGJNU7G7D/sg/sGnq/sP1B4mnqjmOw/4Lj4y16B7D+xj2g30GnsP0ba+/n3Uew/QmuDUdY57D8kao58ayHsPxyxabq3COw/7ygfS7vv6z/xInVvdtbrPx+x7WjpvOs/RfzFeRSj6z9GmPXk94jrP4jWLe6Tbus/bhbZ2ehT6z/+Exrt9jjrP6w0y22+Hes/N9J9oj8C6z/Gg3nSeubqPxJlu0Vwyuo/z1v1RCCu6j8xW40Zi5HqP6elnA2xdOo/xAzva5JX6j9TLwKALzrqP6a1BJaIHOo/GYzV+p3+6T/DGwP8b+DpP2yByuf+wek/uMIWDUuj6T+RAYC7VITpP8qtSkMcZek/ELVm9aFF6T8SsW4j5iXpP/UTpx/pBek/DlP9PKvl6D/pDwfPLMXoP5E/ASpupOg/OVDPom+D6D8lTfqOMWLoP+gAsES0QOg/AhbCGvge6D/JNaVo/fznP7AlcIbE2uc/6+LazE245z9vvD2VmZXnP1NrkDmocuc/kylpFHpP5z89x/uADyznP/29GNtoCOc/FkMsf4bk5j/PVz3KaMDmP0LY7BkQnOY/p4h0zHx35j8JIaZAr1LmP3tX6tWnLeY/vug/7GYI5j9knzrk7OLlP3RZAh86veU/igxS/k6X5T93yHbkK3HlP3S4TjTRSuU/ySJIUT8k5T8PZ2Cfdv3kP/T6IoN31uQ/mWWoYUKv5D92OZWg14fkP94MGaY3YOQ/FnHt2GI45D8D6FSgWRDkP3nYGWQc6OM/L4GNjKu/4z9H6oaCB5fjP4jVYa8wbuM/Pq39fCdF4z+9cbxV7BvjP5elgaR/8uI/iTix1OHI4j8McS5SE5/iP6jUWokUdeI/+g4V5+VK4j9517fYhyDiP/XVGMz69eE/3IWHLz/L4T9DGMxxVaDhP65UJgI+deE/rHhMUPlJ4T9AFmrMhx7hPw3xHufp8uA/Zdp9ESDH4D8hjAu9KpvgP1yCvVsKb+A/BNT4X79C4D9GCpE8ShbgP8btjclW098/0RKPmMZ53z+YRlXO5B/fP+nV41Oyxd4/bjsPEzBr3j9qwXr2XhDeP4Ehluk/td0/UyKb2NNZ3T8cM4uwG/7cP0QFLV8Yotw/ASQK08pF3D/aiWz7M+nbP2c0XMhUjNs/AbacKi4v2z+cxaoTwdHaP7zMuXUOdNo/j3OxQxcW2j9EKytx3LfZP3G2b/JeWdk/2K90vJ/62D9YD9rEn5vYPyut5wFgPNg/ZsOKauHc1z/tbVP2JH3XP4kocp0rHdc/lEu1WPa81j/shoYhhlzWP2Jb6PHb+9U/lpJzxPia1T9MtVSU3TnVP1OASV2L2NQ/0FeeGwN31D8+uSvMRRXUP+urU2xUs9M/GTD/+S9R0z+7rJtz2e7SP+5bGNhRjNI//rXjJpop0j9C2+hfs8bRP6f8jIOeY9E//MKsklwA0T8VtZmO7pzQP6acF3lVOdA/R9SzqCSrzz+CLgJGTOPOPx4RMNAjG84/z9siTq1SzT+rQ4rH6onMP94P20TewMs/jdRJz4n3yj91q8Vw7y3KP/nq8jMRZMk/L9slJPGZyD8qaV1Nkc/HP43YPbzzBMc/jHMLfho6xj8KOaWgB2/FP2eJfzK9o8Q/uNGeQj3Ywz96NZLgiQzDP/A2bhylQMI/Fl7HBpF0wT9x3qywT6jAP6l2RlfGt78/h9Y9E5sevj8W9P25IYW8P5hTD3Fe67o/+yW6XlVRuT8rh/upCre3PwO6enqCHLY/DmN++MCBtD90weFMyuayP17mCaGiS7E/69W1PZxgrz/FSlrhoSmsPwC4hIJe8qg/N/B1d9q6pT/kbhYXHoOiP5FzwXFjlp4/qIGXaTsmmD9ceWrG1LWRP10zMHOAioY/ip3U0zlScz/Emd1V/cJZv7fdP+bTGYC/MOA1ZB77jL8X0E7gDu6Uv7XjHExYXpu/OpU5Yi3noL+QyXvMAh+kv+6fGQ2kVqe/yuPezAiOqr9eOjS1KMWtv0pgGrj9fbC/PNNhVDwZsr/75FAFTLSzv/6mQaEoT7W/95cS/83ptr8QbTH2N4S4v9bZpV5iHrq/OVYcEUm4u7+K4/Dm51G9vwvPObo6676/eDnpsh5CwL+m+rLidQ7Bv3gCvdqg2sG/B8q8iZ2mwr8pyN/eaXLDv47M0MkDPsS/Slm9OmkJxb81+1oimNTFv+Sg7HGOn8a/NvBHG0pqx79GmtoQyTTIvxWur0UJ/8i/Xel0rQjJyb/UB4A8xZLKv8cQ1Oc8XMu/6aImpW0lzL84PuVqVe7Mv1CMOjDyts2/g6YT7UF/zr8lWiWaQkfPv2S1eBh5B9C/MenlVSdr0L+t/+8Cq87QvyUImx0DMtG/4AZcpC6V0b/AkBuWLPjRv7plOPL7WtK/LAqKuJu90r/rXmPpCiDTvww4lYVIgtO/hPJwjlPk079ZCMsFK0bUv5Gj/e3Np9S/wS/rSTsJ1b9E6gAdcmrVv+1wOWtxy9W/fU8fOTgs1r9yi8+LxYzWv3gu/GgY7da/S8/u1i9N178WGYvcCq3Xv0BRUYGoDNi/ndtgzQds2L8VvXrJJ8vYv5QcBH8HKtm/XMII+KWI2b+dlT0/AufZv2kYA2AbRdq/y+FnZvCi2r9GFitfgADbv2bevlfKXdu/jttKXs2627/1mq6BiBfcv7wGhNH6c9y/KNUhXiPQ3L/v9Z04ASzdv5j9z3KTh92/6o5TH9ni3b84wopR0T3ev/6KoB17mN6/HBuLmNXy3r81RA7Y30zfv+rWvfKYpt+//f//////37+o0QcMiizgv19a/ynqWOC/ZUfc5h+F4L+JIwLQKrHgv0eAQ3MK3eC/yh3jXr4I4b/IEZUhRjThvy3tf0qhX+G/vuA9ac+K4b9t4N0N0LXhv47F5Mii4OG/229OK0cL4r9C5Y7GvDXiv3dwkywDYOK/Ur7D7xmK4r/u+QKjALTiv4XnsNm23eK/DP6qJzwH47+Kf00hkDDjvxqQdFuyWeO/ukt9a6KC47+52kbnX6vjv9OEM2Xq0+O/BcMpfEH847/+T5XDZCTkv0I3aNNTTOS/5uIbRA505L/2J7Kuk5vkv3NRtqzjwuS/8Ck+2P3p5L/IA+vL4RDlv+q/6iKPN+W/LtP4eAVe5b9WSl9qRITlv4PM95NLquW/PJwskxrQ5b8Gl/kFsfXlv30z7YoOG+a/8X0pwTJA5r+FE2VIHWXmv8ob7MDNiea/4UChy0Ou5r8Epv4Jf9Lmv53cFh5/9ua/vteVqkMa578R3sFSzD3nv0Z6fLoYYee/2mlDhiiE579UijFb+6bnv+jE/96Qyee/gvgFuOjr57804juNAg7ovwUEOgbeL+i/H4o6y3pR6L9aLhqF2HLovyYaWd32k+i/wcYbftW06L/a2ysSdNXov2IM+UTS9ei/4fGZwu8V6b/r5cw3zDXpv/7Z+FFnVem/pC0uv8B06b/Zgicu2JPpv76QSk6tsum/jPSozz/R6b/QAAFjj+/pv9uKvrmbDeq/gLb7hWQr6r8AwIF66UjqvzrEyUoqZuq/B4f9qiaD6r/hN/hP3p/qv6Y0R+9QvOq/oMoqP37Y6r+v9Zb2ZfTqv6odNM0HEOu/69Ffe2Mr678Dgy26eEbrv5k6Z0NHYeu/aVGO0c576792I9wfD5brv07CQuoHsOu/faVt7bjJ678SWcLmIePrv1IqYZRC/Ou/d9IltRoV7L+YH6gIqi3sv5ebPE/wRey/ODH1Se1d7L9Dz6G6oHXsv7wJ0WMKjey/K7nQCCqk7L/4l65t/7rsv9LdOFeK0ey/I9n+isrn7L+RhlHPv/3sv4omROtpE+2/1tCspsgo7b8yBiXK2z3tv+s/Ch+jUu2/hn1+bx5n7b9j0GiGTXvtv2TldS8wj+2/k4wYN8ai7b/KPopqD7btv0+hy5cLye2/eQeljbrb7b9A8qYbHO7tv9KNKhIwAO6/Gy1SQvYR7r9Gwwl+biPuvy9bB5iYNO6/y4zLY3RF7r+F8KG1AVbuv4uQoWJAZu6/DFitQDB27r9kgHQm0YXuvzn8cusile6/hODxZyWk7r+Cywd12LLuv5tJmew7we6/JjhZqU/P7r8hJsmGE93uv8myOWGH6u6/IurKFav37r9an2yCfgTvvxrF3oUBEe+/u8Ox/zMd779azUbQFSnvv9Av0NimNO+/k6RR++Y/779qnqAa1krvvxGVZBp0Ve+/sE4X38Bf7782JwVOvGnvv5lVTU1mc++/4S7iw758778kZ4mZxYXvv1JQ3LZ6ju+/3hZIBd6W779F/A1v757vv26PQ9+upu+/4eLSQRyu77/ZwHqDN7XvvzLdzpEAvO+/KQU4W3fC77/0TPTOm8jvvzg7F91tzu+/UPKJdu3T779oVwuNGtnvv3Q3MBP13e+/+Wlj/Hzi77+r8eU8subvv+Aaz8mU6u+/3JcMmSTu77/kmmKhYfHvvznua9pL9O+/0wmaPOP277/+JjXBJ/nvv8BRXGIZ+++/GXgFG7j8778Ud/3mA/7vv6Yl6ML8/u+/a11ArKL/778oAVih9f/vvygBWKH1/++/a11ArKL/77+mJejC/P7vvxR3/eYD/u+/GngFG7j877/BUVxiGfvvv/8mNcEn+e+/1AmaPOP277857mvaS/Tvv+SaYqFh8e+/3JcMmSTu77/hGs/JlOrvv6vx5Tyy5u+/+Wlj/Hzi7790NzAT9d3vv2hXC40a2e+/UPKJdu3T7785Oxfdbc7vv/RM9M6byO+/KQU4W3fC778z3c6RALzvv9rAeoM3te+/4uLSQRyu779vj0Pfrqbvv0b8DW/vnu+/3xZIBd6W779TUNy2eo7vvyVniZnFhe+/4i7iw75877+aVU1NZnPvvzgnBU68ae+/sU4X38Bf778SlWQadFXvv2ueoBrWSu+/lKRR++Y/77/SL9DYpjTvv1vNRtAVKe+/vMOx/zMd778bxd6FARHvv1ufbIJ+BO+/JOrKFav37r/Lsjlhh+ruvyImyYYT3e6/KDhZqU/P7r+dSZnsO8Huv4PLB3XYsu6/heDxZyWk7r87/HLrIpXuv2aAdCbRhe6/DlitQDB27r+NkKFiQGbuv4fwobUBVu6/zYzLY3RF7r8xWweYmDTuv0nDCX5uI+6/HS1SQvYR7r/UjSoSMADuv0Hyphsc7u2/eweljbrb7b9RocuXC8ntv8w+imoPtu2/lYwYN8ai7b9m5XUvMI/tv2XQaIZNe+2/iX1+bx5n7b/uPwofo1LtvzUGJcrbPe2/2dCspsgo7b+NJkTraRPtv5SGUc+//ey/JNn+isrn7L/V3ThXitHsv/uXrm3/uuy/LrnQCCqk7L+/CdFjCo3sv0bPobqgdey/OzH1Se1d7L+amzxP8EXsv5sfqAiqLey/e9IltRoV7L9UKmGUQvzrvxVZwuYh4+u/gKVt7bjJ679RwkLqB7Drv3kj3B8Pluu/bFGO0c5767+cOmdDR2HrvweDLbp4Ruu/7tFfe2Mr67+tHTTNBxDrv7L1lvZl9Oq/pMoqP37Y6r+qNEfvULzqv+Q3+E/en+q/Cof9qiaD6r89xMlKKmbqvwPAgXrpSOq/hLb7hWQr6r/fir65mw3qv9MAAWOP7+m/kPSozz/R6b/CkEpOrbLpv92CJy7Yk+m/qC0uv8B06b8C2vhRZ1Xpv+/lzDfMNem/5fGZwu8V6b9mDPlE0vXov9vbKxJ01ei/xcYbftW06L8qGlnd9pPov18uGoXYcui/I4o6y3pR6L8JBDoG3i/ovzjiO40CDui/hvgFuOjr57/sxP/ekMnnv1iKMVv7pue/3mlDhiiE579Keny6GGHnvxXewVLMPee/wNeVqkMa57+h3BYef/bmvwmm/gl/0ua/5UChy0Ou5r/PG+zAzYnmv4kTZUgdZea/9n0pwTJA5r+BM+2KDhvmvwqX+QWx9eW/QJwskxrQ5b+HzPeTS6rlv1tKX2pEhOW/MtP4eAVe5b/rv+oijzflv8wD68vhEOW/9Sk+2P3p5L97Ubas48Lkv/snsq6Tm+S/7uIbRA505L9HN2jTU0zkvwBQlcNkJOS/CsMpfEH847/VhDNl6tPjv77aRudfq+O/vEt9a6KC478ekHRbslnjv4x/TSGQMOO/FP6qJzwH47+K57DZtt3iv/b5AqMAtOK/V77D7xmK4r9/cJMsA2Div0fljsa8NeK/3W9OK0cL4r+TxeTIouDhv2/g3Q3QteG/w+A9ac+K4b8v7X9KoV/hv80RlSFGNOG/zx3jXr4I4b9QgENzCt3gv44jAtAqseC/bkfc5h+F4L9kWv8p6ljgv7DRBwyKLOC/BAAAAAAA4L/t1r3ymKbfvz9EDtjfTN+/IBuLmNXy3r8Ji6Ade5jevzzCilHRPd6/9Y5TH9ni3b+j/c9yk4fdvwH2nTgBLN2/M9UhXiPQ3L/OBoTR+nPcvwCbroGIF9y/oNtKXs26279x3r5Xyl3bv0oWK1+AANu/1+FnZvCi2r9uGANgG0Xav6yVPT8C59m/ZMII+KWI2b+kHAR/ByrZvx29eskny9i/rNtgzQds2L9IUVGBqAzYvykZi9wKrde/V8/u1i9N17+LLvxoGO3Wv36Lz4vFjNa/gU8fOTgs1r/5cDlrccvVv0jqAB1yatW/0S/rSTsJ1b+Zo/3tzafUv2gIywUrRtS/jPJwjlPk078cOJWFSILTv/NeY+kKINO/QAqKuJu90r/GZTjy+1rSv8SQG5Ys+NG/7AZcpC6V0b8pCJsdAzLRv7n/7wKrztC/OenlVSdr0L90tXgYeQfQvzZaJZpCR8+/oqYT7UF/zr9gjDow8rbNv1g+5WpV7sy/+qImpW0lzL/vENTnPFzLv+0HgDzFksq/Zel0rQjJyb8urq9FCf/Iv06a2hDJNMi/T/BHG0pqx7/0oOxxjp/Gv1b7WiKY1MW/W1m9OmkJxb+vzNDJAz7EvzrI395pcsO/J8q8iZ2mwr+QAr3aoNrBv8/6suJ1DsG/kDnpsh5CwL8dzzm6Ouu+v7vj8ObnUb2/SlYcEUm4u78H2qVeYh66vzJtMfY3hLi/OZgS/83ptr8gp0GhKE+1vzzlUAVMtLO/XtNhVDwZsr+LYBq4/X2wv8E6NLUoxa2/beTezAiOqr9RoBkNpFanv7TJe8wCH6S/nZU5Yi3noL/74xxMWF6bv97QTuAO7pS/PeE1ZB77jL/E3z/m0xmAvy2i3VX9wlm/cJnU0zlScz9QMjBzgIqGP1Z4asbUtZE/4YCXaTsmmD9LcsFxY5aeP4FuFhceg6I/FPB1d9q6pT+dt4SCXvKoP6JKWuGhKaw/iNW1PZxgrz895gmhokuxPzPB4UzK5rI/7WJ++MCBtD/BuXp6ghy2PwqH+6kKt7c/uSW6XlVRuT9nUw9xXuu6P8Tz/bkhhbw/VtY9E5sevj+XdkZXxre/P1jerLBPqMA/DV7HBpF0wT/PNm4cpUDCP2k1kuCJDMM/l9GeQj3Ywz9XiX8yvaPEP+k4paAHb8U/fHMLfho6xj9s2D288wTHPxFpXU2Rz8c/BtslJPGZyD/h6vIzEWTJP2yrxXDvLco/dNRJz4n3yj/VD9tE3sDLP4tDisfqicw/v9siTq1SzT/+EDDQIxvOP3EuAkZM484/J9SzqCSrzz+enBd5VTnQPwG1mY7unNA/8MKsklwA0T+T/IyDnmPRPzbb6F+zxtE/+rXjJpop0j/iWxjYUYzSP7asm3PZ7tI/CTD/+S9R0z/jq1NsVLPTPy+5K8xFFdQ/yFeeGwN31D9DgEldi9jUP0S1VJTdOdU/g5JzxPia1T9WW+jx2/vVP9iGhiGGXNY/iEu1WPa81j+FKHKdKx3XP+JtU/Ykfdc/YsOKauHc1z8brecBYDzYP1EP2sSfm9g/ya90vJ/62D9qtm/yXlnZPzUrK3Hct9k/h3OxQxcW2j+pzLl1DnTaP5DFqhPB0do/7rWcKi4v2z9cNFzIVIzbP9aJbPsz6ds/9SMK08pF3D9ABS1fGKLcPw0zi7Ab/tw/SyKb2NNZ3T9yIZbpP7XdP2PBevZeEN4/XzsPEzBr3j/h1eNTssXeP4dGVc7kH98/xxKPmMZ53z+17Y3JVtPfP0EKkTxKFuA/AtT4X79C4D9Xgr1bCm/gPx6MC70qm+A/Xtp9ESDH4D8K8R7n6fLgPzkWasyHHuE/qXhMUPlJ4T+mVCYCPnXhPz8YzHFVoOE/1YWHLz/L4T/w1RjM+vXhP3fXt9iHIOI/9Q4V5+VK4j+m1FqJFHXiPwdxLlITn+I/hzix1OHI4j+RpYGkf/LiP7lxvFXsG+M/OK39fCdF4z+F1WGvMG7jP0DqhoIHl+M/K4GNjKu/4z9y2BlkHOjjP/7nVKBZEOQ/FXHt2GI45D/aDBmmN2DkP3Q5laDXh+Q/k2WoYUKv5D/y+iKDd9bkPwlnYJ92/eQ/xiJIUT8k5T9uuE400UrlP3TIduQrceU/gwxS/k6X5T9xWQIfOr3lP16fOuTs4uU/uug/7GYI5j96V+rVpy3mPwQhpkCvUuY/pYh0zHx35j8+2OwZEJzmP81XPcpowOY/EEMsf4bk5j/6vRjbaAjnPzjH+4APLOc/kClpFHpP5z9Ma5A5qHLnP2u8PZWZlec/5OLazE245z+sJXCGxNrnP8g1pWj9/Oc//RXCGvge6D/mALBEtEDoPyBN+o4xYug/N1DPom+D6D+MPwEqbqToP+YPB88sxeg/CVP9PKvl6D/yE6cf6QXpPwyxbiPmJek/DLVm9aFF6T/ErUpDHGXpP40BgLtUhOk/t8IWDUuj6T9ogcrn/sHpP8EbA/xv4Ok/FIzV+p3+6T+ktQSWiBzqP04vAoAvOuo/wgzva5JX6j+jpZwNsXTqPy5bjRmLkeo/ylv1RCCu6j8PZbtFcMrqP8CDedJ65uo/NNJ9oj8C6z+qNMttvh3rP/sTGu32OOs/bBbZ2ehT6z+E1i3uk27rP0SY9eT3iOs/QPzFeRSj6z8dse1o6bzrP+0idW921us/7CgfS7vv6z8XsWm6twjsPyFqjnxrIew/PWuDUdY57D9D2vv591HsP7CPaDfQaew/3bj4y16B7D9PeJp6o5jsP+iD+waer+w/b8GJNU7G7D/Y4HPLs9zsP+L0qY7O8uw/gAneRZ4I7T+AuIS4Ih7tPwm81a5bM+0/VH/M8UhI7T8urShL6lztP7u8boU/ce0/BXzoa0iF7T+pmKXKBJntP4smfG50rO0/YiQJJZe/7T9t/rC8bNLtP/wOoAT15O0/Fx3LzC/37T/12O/lHAnuP5dWlSG8Gu4/LYYMUg0s7j+YqnBKED3uP7rNp97ETe4/2jJj4ype7j/fxh8uQm7uP4eOJpUKfu4/lRKN74ON7j/UyTUVrpzuPyaB0N6Iq+4/XsHaJRS67j8qM6DET8juP7kAO5Y71u4/fTWUdtfj7j+iG2RCI/HuP5mXMtce/u4/ZIFXE8oK7z/f+/rVJBfvP+bJFf8uI+8/U6Fxb+gu7z/5e6kIUTrvP1zmKa1oRe8/cEwxQC9Q7z8WRNClpFrvP5TV6cLIZO8/1MEzfZtu7z+Xxja7HHjvP27gTmRMge8/p4qrYCqK7z/+/E+ZtpLvPz1nE/jwmu8/riqhZ9mi7z9hEXnTb6rvP1qD7ye0se8/ibktUqa47z+l7jFARr/vP9aNz+CTxe8/P1+vI4/L7z9Ysk/5N9HvPyaGBFOO1u8/Oq/3IpLb7z+d+yhcQ+DvP3hUbvKh5O8/pd1z2q3o7z8ME7wJZ+zvP87jn3bN7+8/VctOGOHy7z8o6M7mofXvP5cQ/doP+O8/QuWM7ir67z9n4Qgc8/vvPwtp0l5o/e8/99Qhs4r+7z99fAYWWv/vPyC9ZoXW/+8/AAAAAAAA8D8=",
          "dtype": "f8"
         },
         "y": {
          "bdata": "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",
          "dtype": "f8"
         }
        },
        {
         "marker": {
          "color": "#1f77b4"
         },
         "mode": "markers",
         "name": "z_0",
         "type": "scatter",
         "x": [
          2
         ],
         "y": [
          1
         ]
        }
       ],
       "layout": {
        "annotations": [
         {
          "arrowcolor": "#1f77b4",
          "arrowhead": 3,
          "arrowwidth": 1.5,
          "ax": 0,
          "axref": "x",
          "ay": 0,
          "ayref": "y",
          "showarrow": true,
          "text": "",
          "x": 2,
          "y": 1
         }
        ],
        "template": {
         "data": {
          "bar": [
           {
            "error_x": {
             "color": "#2a3f5f"
            },
            "error_y": {
             "color": "#2a3f5f"
            },
            "marker": {
             "line": {
              "color": "#E5ECF6",
              "width": 0.5
             },
             "pattern": {
              "fillmode": "overlay",
              "size": 10,
              "solidity": 0.2
             }
            },
            "type": "bar"
           }
          ],
          "barpolar": [
           {
            "marker": {
             "line": {
              "color": "#E5ECF6",
              "width": 0.5
             },
             "pattern": {
              "fillmode": "overlay",
              "size": 10,
              "solidity": 0.2
             }
            },
            "type": "barpolar"
           }
          ],
          "carpet": [
           {
            "aaxis": {
             "endlinecolor": "#2a3f5f",
             "gridcolor": "white",
             "linecolor": "white",
             "minorgridcolor": "white",
             "startlinecolor": "#2a3f5f"
            },
            "baxis": {
             "endlinecolor": "#2a3f5f",
             "gridcolor": "white",
             "linecolor": "white",
             "minorgridcolor": "white",
             "startlinecolor": "#2a3f5f"
            },
            "type": "carpet"
           }
          ],
          "choropleth": [
           {
            "colorbar": {
             "outlinewidth": 0,
             "ticks": ""
            },
            "type": "choropleth"
           }
          ],
          "contour": [
           {
            "colorbar": {
             "outlinewidth": 0,
             "ticks": ""
            },
            "colorscale": [
             [
              0,
              "#0d0887"
             ],
             [
              0.1111111111111111,
              "#46039f"
             ],
             [
              0.2222222222222222,
              "#7201a8"
             ],
             [
              0.3333333333333333,
              "#9c179e"
             ],
             [
              0.4444444444444444,
              "#bd3786"
             ],
             [
              0.5555555555555556,
              "#d8576b"
             ],
             [
              0.6666666666666666,
              "#ed7953"
             ],
             [
              0.7777777777777778,
              "#fb9f3a"
             ],
             [
              0.8888888888888888,
              "#fdca26"
             ],
             [
              1,
              "#f0f921"
             ]
            ],
            "type": "contour"
           }
          ],
          "contourcarpet": [
           {
            "colorbar": {
             "outlinewidth": 0,
             "ticks": ""
            },
            "type": "contourcarpet"
           }
          ],
          "heatmap": [
           {
            "colorbar": {
             "outlinewidth": 0,
             "ticks": ""
            },
            "colorscale": [
             [
              0,
              "#0d0887"
             ],
             [
              0.1111111111111111,
              "#46039f"
             ],
             [
              0.2222222222222222,
              "#7201a8"
             ],
             [
              0.3333333333333333,
              "#9c179e"
             ],
             [
              0.4444444444444444,
              "#bd3786"
             ],
             [
              0.5555555555555556,
              "#d8576b"
             ],
             [
              0.6666666666666666,
              "#ed7953"
             ],
             [
              0.7777777777777778,
              "#fb9f3a"
             ],
             [
              0.8888888888888888,
              "#fdca26"
             ],
             [
              1,
              "#f0f921"
             ]
            ],
            "type": "heatmap"
           }
          ],
          "histogram": [
           {
            "marker": {
             "pattern": {
              "fillmode": "overlay",
              "size": 10,
              "solidity": 0.2
             }
            },
            "type": "histogram"
           }
          ],
          "histogram2d": [
           {
            "colorbar": {
             "outlinewidth": 0,
             "ticks": ""
            },
            "colorscale": [
             [
              0,
              "#0d0887"
             ],
             [
              0.1111111111111111,
              "#46039f"
             ],
             [
              0.2222222222222222,
              "#7201a8"
             ],
             [
              0.3333333333333333,
              "#9c179e"
             ],
             [
              0.4444444444444444,
              "#bd3786"
             ],
             [
              0.5555555555555556,
              "#d8576b"
             ],
             [
              0.6666666666666666,
              "#ed7953"
             ],
             [
              0.7777777777777778,
              "#fb9f3a"
             ],
             [
              0.8888888888888888,
              "#fdca26"
             ],
             [
              1,
              "#f0f921"
             ]
            ],
            "type": "histogram2d"
           }
          ],
          "histogram2dcontour": [
           {
            "colorbar": {
             "outlinewidth": 0,
             "ticks": ""
            },
            "colorscale": [
             [
              0,
              "#0d0887"
             ],
             [
              0.1111111111111111,
              "#46039f"
             ],
             [
              0.2222222222222222,
              "#7201a8"
             ],
             [
              0.3333333333333333,
              "#9c179e"
             ],
             [
              0.4444444444444444,
              "#bd3786"
             ],
             [
              0.5555555555555556,
              "#d8576b"
             ],
             [
              0.6666666666666666,
              "#ed7953"
             ],
             [
              0.7777777777777778,
              "#fb9f3a"
             ],
             [
              0.8888888888888888,
              "#fdca26"
             ],
             [
              1,
              "#f0f921"
             ]
            ],
            "type": "histogram2dcontour"
           }
          ],
          "mesh3d": [
           {
            "colorbar": {
             "outlinewidth": 0,
             "ticks": ""
            },
            "type": "mesh3d"
           }
          ],
          "parcoords": [
           {
            "line": {
             "colorbar": {
              "outlinewidth": 0,
              "ticks": ""
             }
            },
            "type": "parcoords"
           }
          ],
          "pie": [
           {
            "automargin": true,
            "type": "pie"
           }
          ],
          "scatter": [
           {
            "fillpattern": {
             "fillmode": "overlay",
             "size": 10,
             "solidity": 0.2
            },
            "type": "scatter"
           }
          ],
          "scatter3d": [
           {
            "line": {
             "colorbar": {
              "outlinewidth": 0,
              "ticks": ""
             }
            },
            "marker": {
             "colorbar": {
              "outlinewidth": 0,
              "ticks": ""
             }
            },
            "type": "scatter3d"
           }
          ],
          "scattercarpet": [
           {
            "marker": {
             "colorbar": {
              "outlinewidth": 0,
              "ticks": ""
             }
            },
            "type": "scattercarpet"
           }
          ],
          "scattergeo": [
           {
            "marker": {
             "colorbar": {
              "outlinewidth": 0,
              "ticks": ""
             }
            },
            "type": "scattergeo"
           }
          ],
          "scattergl": [
           {
            "marker": {
             "colorbar": {
              "outlinewidth": 0,
              "ticks": ""
             }
            },
            "type": "scattergl"
           }
          ],
          "scattermap": [
           {
            "marker": {
             "colorbar": {
              "outlinewidth": 0,
              "ticks": ""
             }
            },
            "type": "scattermap"
           }
          ],
          "scattermapbox": [
           {
            "marker": {
             "colorbar": {
              "outlinewidth": 0,
              "ticks": ""
             }
            },
            "type": "scattermapbox"
           }
          ],
          "scatterpolar": [
           {
            "marker": {
             "colorbar": {
              "outlinewidth": 0,
              "ticks": ""
             }
            },
            "type": "scatterpolar"
           }
          ],
          "scatterpolargl": [
           {
            "marker": {
             "colorbar": {
              "outlinewidth": 0,
              "ticks": ""
             }
            },
            "type": "scatterpolargl"
           }
          ],
          "scatterternary": [
           {
            "marker": {
             "colorbar": {
              "outlinewidth": 0,
              "ticks": ""
             }
            },
            "type": "scatterternary"
           }
          ],
          "surface": [
           {
            "colorbar": {
             "outlinewidth": 0,
             "ticks": ""
            },
            "colorscale": [
             [
              0,
              "#0d0887"
             ],
             [
              0.1111111111111111,
              "#46039f"
             ],
             [
              0.2222222222222222,
              "#7201a8"
             ],
             [
              0.3333333333333333,
              "#9c179e"
             ],
             [
              0.4444444444444444,
              "#bd3786"
             ],
             [
              0.5555555555555556,
              "#d8576b"
             ],
             [
              0.6666666666666666,
              "#ed7953"
             ],
             [
              0.7777777777777778,
              "#fb9f3a"
             ],
             [
              0.8888888888888888,
              "#fdca26"
             ],
             [
              1,
              "#f0f921"
             ]
            ],
            "type": "surface"
           }
          ],
          "table": [
           {
            "cells": {
             "fill": {
              "color": "#EBF0F8"
             },
             "line": {
              "color": "white"
             }
            },
            "header": {
             "fill": {
              "color": "#C8D4E3"
             },
             "line": {
              "color": "white"
             }
            },
            "type": "table"
           }
          ]
         },
         "layout": {
          "annotationdefaults": {
           "arrowcolor": "#2a3f5f",
           "arrowhead": 0,
           "arrowwidth": 1
          },
          "autotypenumbers": "strict",
          "coloraxis": {
           "colorbar": {
            "outlinewidth": 0,
            "ticks": ""
           }
          },
          "colorscale": {
           "diverging": [
            [
             0,
             "#8e0152"
            ],
            [
             0.1,
             "#c51b7d"
            ],
            [
             0.2,
             "#de77ae"
            ],
            [
             0.3,
             "#f1b6da"
            ],
            [
             0.4,
             "#fde0ef"
            ],
            [
             0.5,
             "#f7f7f7"
            ],
            [
             0.6,
             "#e6f5d0"
            ],
            [
             0.7,
             "#b8e186"
            ],
            [
             0.8,
             "#7fbc41"
            ],
            [
             0.9,
             "#4d9221"
            ],
            [
             1,
             "#276419"
            ]
           ],
           "sequential": [
            [
             0,
             "#0d0887"
            ],
            [
             0.1111111111111111,
             "#46039f"
            ],
            [
             0.2222222222222222,
             "#7201a8"
            ],
            [
             0.3333333333333333,
             "#9c179e"
            ],
            [
             0.4444444444444444,
             "#bd3786"
            ],
            [
             0.5555555555555556,
             "#d8576b"
            ],
            [
             0.6666666666666666,
             "#ed7953"
            ],
            [
             0.7777777777777778,
             "#fb9f3a"
            ],
            [
             0.8888888888888888,
             "#fdca26"
            ],
            [
             1,
             "#f0f921"
            ]
           ],
           "sequentialminus": [
            [
             0,
             "#0d0887"
            ],
            [
             0.1111111111111111,
             "#46039f"
            ],
            [
             0.2222222222222222,
             "#7201a8"
            ],
            [
             0.3333333333333333,
             "#9c179e"
            ],
            [
             0.4444444444444444,
             "#bd3786"
            ],
            [
             0.5555555555555556,
             "#d8576b"
            ],
            [
             0.6666666666666666,
             "#ed7953"
            ],
            [
             0.7777777777777778,
             "#fb9f3a"
            ],
            [
             0.8888888888888888,
             "#fdca26"
            ],
            [
             1,
             "#f0f921"
            ]
           ]
          },
          "colorway": [
           "#636efa",
           "#EF553B",
           "#00cc96",
           "#ab63fa",
           "#FFA15A",
           "#19d3f3",
           "#FF6692",
           "#B6E880",
           "#FF97FF",
           "#FECB52"
          ],
          "font": {
           "color": "#2a3f5f"
          },
          "geo": {
           "bgcolor": "white",
           "lakecolor": "white",
           "landcolor": "#E5ECF6",
           "showlakes": true,
           "showland": true,
           "subunitcolor": "white"
          },
          "hoverlabel": {
           "align": "left"
          },
          "hovermode": "closest",
          "mapbox": {
           "style": "light"
          },
          "paper_bgcolor": "white",
          "plot_bgcolor": "#E5ECF6",
          "polar": {
           "angularaxis": {
            "gridcolor": "white",
            "linecolor": "white",
            "ticks": ""
           },
           "bgcolor": "#E5ECF6",
           "radialaxis": {
            "gridcolor": "white",
            "linecolor": "white",
            "ticks": ""
           }
          },
          "scene": {
           "xaxis": {
            "backgroundcolor": "#E5ECF6",
            "gridcolor": "white",
            "gridwidth": 2,
            "linecolor": "white",
            "showbackground": true,
            "ticks": "",
            "zerolinecolor": "white"
           },
           "yaxis": {
            "backgroundcolor": "#E5ECF6",
            "gridcolor": "white",
            "gridwidth": 2,
            "linecolor": "white",
            "showbackground": true,
            "ticks": "",
            "zerolinecolor": "white"
           },
           "zaxis": {
            "backgroundcolor": "#E5ECF6",
            "gridcolor": "white",
            "gridwidth": 2,
            "linecolor": "white",
            "showbackground": true,
            "ticks": "",
            "zerolinecolor": "white"
           }
          },
          "shapedefaults": {
           "line": {
            "color": "#2a3f5f"
           }
          },
          "ternary": {
           "aaxis": {
            "gridcolor": "white",
            "linecolor": "white",
            "ticks": ""
           },
           "baxis": {
            "gridcolor": "white",
            "linecolor": "white",
            "ticks": ""
           },
           "bgcolor": "#E5ECF6",
           "caxis": {
            "gridcolor": "white",
            "linecolor": "white",
            "ticks": ""
           }
          },
          "title": {
           "x": 0.05
          },
          "xaxis": {
           "automargin": true,
           "gridcolor": "white",
           "linecolor": "white",
           "ticks": "",
           "title": {
            "standoff": 15
           },
           "zerolinecolor": "white",
           "zerolinewidth": 2
          },
          "yaxis": {
           "automargin": true,
           "gridcolor": "white",
           "linecolor": "white",
           "ticks": "",
           "title": {
            "standoff": 15
           },
           "zerolinecolor": "white",
           "zerolinewidth": 2
          }
         }
        },
        "xaxis": {
         "title": {
          "text": "Real"
         }
        },
        "yaxis": {
         "scaleanchor": "x",
         "scaleratio": 1,
         "title": {
          "text": "Imaginary"
         }
        }
       }
      }
     },
     "metadata": {},
     "output_type": "display_data"
    }
   ],
   "source": [
    "z = 2 + 1j\n",
    "plot_complex(z)"
   ]
  },
  {
   "cell_type": "markdown",
   "metadata": {
    "id": "spPME9dPQcnu"
   },
   "source": [
    "And for displaying several complex numbers:"
   ]
  },
  {
   "cell_type": "code",
   "execution_count": 38,
   "metadata": {
    "colab": {
     "base_uri": "https://localhost:8080/",
     "height": 542
    },
    "executionInfo": {
     "elapsed": 14,
     "status": "ok",
     "timestamp": 1702317970078,
     "user": {
      "displayName": "PEDRO RAMONEDA FRANCO",
      "userId": "10653804143244385715"
     },
     "user_tz": -60
    },
    "id": "kCCRfQrhQhGU",
    "outputId": "dc3f16fe-5ec1-402e-eeab-1d019fcdbce6"
   },
   "outputs": [
    {
     "data": {
      "application/vnd.plotly.v1+json": {
       "config": {
        "plotlyServerURL": "https://plot.ly"
       },
       "data": [
        {
         "line": {
          "color": "rgb(150,150,150)",
          "dash": "dash",
          "shape": "linear"
         },
         "mode": "lines",
         "name": "unit circle",
         "type": "scatter",
         "x": {
          "bdata": "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",
          "dtype": "f8"
         },
         "y": {
          "bdata": "AAAAAAAAAABONnLm8sJ5Pw1f+IHRwok/5EINZPNRkz+dtRTxS8KZP/GmbNswGaA/GHhnAhJRoz/K8aAVwYimP+QJwb01wKk/VigHpGf3rD+p4i85JxewP+ECvelwsrE/3qpuuYxNsz9pgH9+dui0P/rjqw8qg7Y/ULo8RKMduD+sNBL03be5P3uXrvfVUbs/Xv9AKIfrvD9qJLBf7YS+P82NUjwCD8A/IgtLJ2TbwD+5j+hemqfBP4lrw9Gic8I/cJXqbns/wz9xBuklIgvEP68Ty+aU1sQ/HccjotGhxT/LNhJJ1mzGP9HaRs2gN8c/ueEIIS8CyD9hgzs3f8zIP1VSYwOPlsk/doureVxgyj/8Y+uO5SnLP7pVqzgo88s/jWkqbSK8zD//f2Mj0oTNP/uXElM1Tc4/iRO69EkVzz+R+qcBDt3PP8ad/bk/UtA/BXVUI8610D+UvcA6MRnRP9f/mv5nfNE//62ubXHf0T/SvjyHTELSP0ZH/kr4pNI/3hInuXMH0z/UOmjSvWnTP+278pfVy9M/Gwt6C7ot1D+tqDYvao/UP0Wy6AXl8NQ/WHPakilS1T9O9OLZNrPVP0OIaN8LFNY/PFljqKd01j/y8l86CdXWPyDMgZsvNdc/N86F0hmV1z+a28TmxvTXPzZUNuA1VNg/hphyx2Wz2D/1irWlVRLZP5UP4YQEcdk/Lop/b3HP2T+QWsZwmy3aPzBXmJSBi9o/BEaI5yLp2j+NU9t2fkbbPx6Ii1CTo9s/TztKg2AA3D+EhYIe5VzcP6WvWzIgudw/66C7zxAV3T+xSkkItnDdP2ISb+4OzN0/ZDldlRon3j/9QgwR2IHeP0BYP3ZG3N4/3amG2mQ23z/mz0FUMpDfP3Qnovqt6d8/HZfWcmsh4D/wbR8X1k3gP5z8BXcWeuA/qTrSHyym4D8d3DqfFtLgP8R5ZoPV/eA/XbjsWmgp4T+Qbte0zlThP9DJoyAIgOE/AHJDLhSr4T/5qx1u8tXhP9R6EHGiAOI/BsBxyCMr4j9GWhAGdlXiPzRDNbyYf+I/yKukfYup4j+CF5/dTdPiP1R24m/f/OI/RT2ryD8m4z/afbV8bk/jPyH8PSFreOM/ekMDTDWh4z8NukaTzMnjP+6yzY0w8uM/6X7i0mAa5D/ze1X6XELkP0YjfpwkauQ/HBY8UreR5D8DKfi0FLnkP9ZtpV484OQ/TTzC6S0H5T8hOVnx6C3lP8ZbAhFtVOU/u/Lj5Ll65T9cprMJz6DlP1Z6txysxuU/jc3Gu1Ds5T+YWEuFvBHmP8EqQhjvNuY/gKU8FOhb5j96dmEZp4DmP/2PbcgrpeY/9h+1wnXJ5j9ehSSqhO3mPx5EQSFYEec/Y/cqy+805z9qQpxLS1jnP6y/60Zqe+c/h+4MYkye5z9EH5FC8cDnP4ZdqI5Y4+c/IVki7YEF6D9TTW8FbSfoP1bmoH8ZSeg/WyVrBIdq6D/UQiU9tYvoPx6PytOjrOg/gVH7clLN6D+Gpf3FwO3oP5ZWvnjuDek/9LnRN9st6T8Ch3Swhk3pP8qtjJDwbOk/2SuqhhiM6T9f3wdC/qrpP5JYjHKhyek/U6nKyAHo6T8YMwP2HgbqPxVzJKz4I+o/l8zLnY5B6j+qUUZ+4F7qP+qJkQHue+o/lDdc3LaY6j/CGgfEOrXqP+SypW550eo/Yv7+knLt6j9sOI7oJQnrPwKVgyeTJOs/GPvECLo/6z/rvO5FmlrrP35OVJkzdes/NfoAvoWP6z+hk7hvkKnrP1wo+GpTw+s/E6/2bM7c6z+otKUzAfbrP3MHsn3rDuw/k2CECo0n7D9uC0Ka5T/sPzGLze30V+w/cz7Hxrpv7D/lAI7nNofsPxzLPxNpnuw/YlC6DVG17D+cmpub7svsPz+kQoJB4uw/SvDPh0n47D9QICZzBg7tP4iI6gt4I+0/5sGFGp447T85OiRoeE3tP0vCtr4GYu0/Chrz6Eh27T+telSyPortP9geHOfnne0/x8hRVESx7T9nRsTHU8TtP4LzCRAW1+0/zTmB/Irp7T8BD1FdsvvtP+FwaQOMDe4/Qt+DwBcf7j/90yNnVTDuP9o4l8pEQe4/ddv2vuVR7j8H3yYZOGLuPy8s1647cu4/nt6DVvCB7j+8sHXnVZHuPy1lwjlsoO4/Vi5NJjOv7j+8E8eGqr3uP1VVrzXSy+4/wcxTDqrZ7j9uTNHsMefuP538E65p9O4/VbbXL1EB7z84XKhQ6A3vPzox4u8uGu8/RC2y7SQm7z+uTxYryjHvP6jv3YkePe8/dwqq7CFI7z+jj+021FLvP/Gq7Uw1Xe8/TwzCE0Vn7z+PLVVxA3HvPwmWZExweu8/FxyBjIuD7z9tJA8aVYzvP0vfRt7MlO8/joM0w/Kc7z+Wh7izxqTvPwzYh5tIrO8/fAwsZ3iz7z/JmQMEVrrvP3oCQmDhwO8/4gTwahrH7z8Ux+sTAc3vP70A6UuV0u8/yCJxBNfX7z/ffOMvxtzvP75gdcFi4e8/XUMyrazl7z/u2/vno+nvP65AimdI7e8/kQFsIprw7z+2QAYQmfPvP77IlChF9u8/5iAqZZ747z8En6+/pPrvP0h35TJY/O8/4cliurj97z9irpVSxv7vPws9w/iA/+8/15UHq+j/7z9o5VVo/f/vP7lneDC//+8/smgQBC7/7z99QpbkSf7vP7xZWdQS/e8/ixeA1oj77z9V4Qfvq/nvP3sOxSJ89+8/z9tid/n07z/jXGPzI/LvPyxrH5777u8/75LGf4Dr7z8R/l6hsufvP6pcxQyS4+8/esuszB7f7z8puJ7sWNrvP2HD+nhA1e8/tqD2ftXP7z9q9J0MGMrvPwUv0jAIxO8/vmZK+6W97z++LpN88bbvPztsDsbqr+8/Zinz6ZGo7z81Zk375qDvP/7m/Q3qmO8/8wC6NpuQ7z9vZAuL+ofvPyPlTyEIf+8/GkC5EMR17z+W30xxLmzvP8uc41tHYu8/dH8p6g5Y7z9Ke502hU3vP0srkVyqQu8/8YooeH437z83rVmmASzvP4px7AQ0IO8/jzZ6shUU7z/Vim3OpgfvP1/bAXnn+u4/GCBD09ft7j8jhg3/d+DuPxkYDR/I0u4/I2S9VsjE7j/8H2nKeLbuP97KKZ/Zp+4/Vk3n+uqY7j/4llcErYnuPxA6/uIfeu4/JgUsv0Nq7j+Cmv7BGFruP5EFYBWfSe4/Pk4G5NY47j82CnNZwCfuPybs8qFbFu4/1lCd6qgE7j9QylNhqPLtP+aowTRa4O0/PIJblL7N7T87tl6w1brtPwjy0Lmfp+0/7LB/4hyU7T80u/9cTYDtPxWjrFwxbO0/iD+oFclX7T8eJdq8FEPtP+Ac74cULu0/J5lYrcgY7T90KExkMQPtP1bmwuRO7ew/Sup4ZyHX7D+otOwlqcDsP5iZXlrmqew/CyrQP9mS7D/ImgMSgnvsP3opew3hY+w/1n94b/ZL7D/TFPx1wjPsP+OLxF9FG+w/UBJObH8C7D+lutHbcOnrPzXWRO8Z0Os/q0xY6Hq26z/I8XcJlJzrPyrZyZVlgus/Oagt0e9n6z835jsAM03rP2ZKRWgvMus/VwhST+UW6z9cGiH8VPvqPyiKJ7Z+3+o/hbePxWLD6j9CnThzAafqP0wUtQhbiuo/7hRL0G9t6j9J9vIUQFDqP/arViLMMuo/3gHRRBQV6j9M1mzJGPfpPzBS5P3Z2Ok/nR+gMFi66T+Hnrawk5vpP8AX682MfOk/I+6s2ENd6T8azhYiuT3pP1nb7fvsHek/4NyguN/96D9KZ0erkd3oP2QFoScDveg/EF8UgjSc6D91Xq4PJnvoP4RTISbYWeg/0RXEG0s46D+6JJFHfxboP+zFJQF19Oc/SCLBoCzS5z8RYUN/pq/nP4rBLPbijOc/8rKcX+Jp5z/f6lAWpUbnP/55pHUrI+c/Qt+O2XX/5j93GaOehNvmP0K3DiJYt+Y/luWYwfCS5j+XfKHbTm7mP+wKIM9ySeY/kN+i+1wk5j8hEk7BDf/lP5SJ2oCF2eU/ggGVm8Sz5T/iDV1zy43lP1QdpGqaZ+U/6Hls5DFB5T91SEhEkhrlP3WGWO678+Q/cQZMR6/M5D/+al60bKXkP1AgV5v0feQ/WFSIYkdW5D+F7c1wZS7kPyWAjC1PBuQ/S0KwAAXe4z9u/qtSh7XjP6MEeIzWjOM/fBqRF/Nj4z+Mafdd3TrjP6FsLcqVEeM/ods2xxzo4j8blpfAcr7iP5OMUiKYlOI/eqjoWI1q4j/mslfRUkDiPwI6GfnoFeI/SHUhPlDr4T9rKN4OicDhPxKFNdqTleE/WguFD3Fq4T8kaaAeIT/hPyZY0HekE+E/3HrRi/vn4D9AONPLJrzgP1+WdqkmkOA/xhPNlvtj4D/Kf1cGpjfgP7HRBGsmC+A/df1hcPq83z85nkfDVWPfP45jH7dfCd8/ch4hNRmv3j9bNlUng1TeP4NKknie+d0/GNF6FGye3T9gtHrn7ELdP9LtxN4h59w/Jh9R6AuL3D9xKdnyqy7cPzzC1u0C0ts/sAaByRF12z/yDMp22RfbP1hzXOdauto/Ae6YDZdc2j930pPcjv7ZP4ShEkhDoNk/PY+JRLVB2T9FCRnH5eLYP1U7i8XVg9g/CpJRNoYk2D8EPIIQ+MTXP1ap1UssZdc/UQmk4CMF1z+xxuLH36TWP04CIvtgRNY/+AuKdKjj1T8P2tgut4LVP3Z/XyWOIdU/CaD/Uy7A1D+m4yi3mF7UP79n1kvO/NM/gC+MD9Ca0z+dklQAnzjTP7iqvRw81tI/d7/WY6hz0j9NsS3V5BDSP+5izHDyrdE/qyE2N9JK0T9IDGUphefQP+Z4x0gMhNA/m1k9l2gg0D/nPysuNnnPP4U+F5ZJsc4/1tuIbA3pzT8Zi5i4gyDNP0zEJ4KuV8w/bsDb0Y+Oyz+/MxixKcXKPxkG+il++8k/UwlSR48xyT8jrp8UX2fIP6C2C57vnMc/pOdi8ELSxj8/uBAZWwfGP5b/GSY6PMU/O6EXJuJwxD/+NzEoVaXDP1W/FzyV2cI/WDsAcqQNwj9tX57ahEHBP6IzH4c4dcA/lXFHEoNRvz9nF3flQ7i9P0INv6y3Hrw/qMTYjeKEuj+MqzqvyOq4P+1pDThuULc/sB0hUNe1tT/DlOIfCBu0P6eFUNAEgLI/h8bwitHksD/VBYvz5JKuP1DghI7XW6s/YAGEPIMkqD9hLPVT8OykP85m5ysntaE/ga/sN2D6nD8YUWn4JoqWP7DFLEqzGZA/JDhtvStSgz/jvZQ/+8JpP663lD/7wmm/lzZtvStSg7/pxCxKsxmQv1FQafgmipa/u67sN2D6nL9rZucrJ7Whvz4s9VPw7KS//QCEPIMkqL/t34SO11urv3IFi/Pkkq6/VcbwitHksL91hVDQBICyv5GU4h8IG7S/fx0hUNe1tb+8aQ04blC3v1urOq/I6ri/d8TYjeKEur8QDb+stx68vzYXd+VDuL2/g3FHEoNRv7+JMx+HOHXAv1RfntqEQcG/QDsAcqQNwr88vxc8ldnCv+U3MShVpcO/IqEXJuJwxL9+/xkmOjzFvye4EBlbB8a/jOdi8ELSxr+Htgue75zHvwuunxRfZ8i/OglSR48xyb8ABvopfvvJv6YzGLEpxcq/VcDb0Y+Oy780xCeCrlfMvwGLmLiDIM2/vtuIbA3pzb9tPheWSbHOv88/Ky42ec+/j1k9l2gg0L/aeMdIDITQvzwMZSmF59C/nyE2N9JK0b/iYsxw8q3Rv0GxLdXkENK/a7/WY6hz0r+sqr0cPNbSv5GSVACfONO/dC+MD9Ca07+zZ9ZLzvzTv5rjKLeYXtS//Z//Uy7A1L9qf18ljiHVvwTa2C63gtW/7AuKdKjj1b9CAiL7YETWv63G4sffpNa/RQmk4CMF179KqdVLLGXXv/k7ghD4xNe//5FRNoYk2L9JO4vF1YPYvzkJGcfl4ti/Mo+JRLVB2b95oRJIQ6DZv2zSk9yO/tm/9u2YDZdc2r9Nc1znWrrav+cMynbZF9u/rAaByRF1278wwtbtAtLbv2Yp2fKrLty/Gx9R6AuL3L/H7cTeIefcv1W0eufsQt2/DdF6FGye3b94SpJ4nvndv1A2VSeDVN6/Zx4hNRmv3r+DYx+3Xwnfvy6eR8NVY9+/a/1hcPq837+s0QRrJgvgv8V/VwamN+C/wRPNlvtj4L9alnapJpDgvzo408smvOC/1nrRi/vn4L8hWNB3pBPhvx5poB4hP+G/VQuFD3Fq4b8MhTXak5Xhv2Yo3g6JwOG/Q3UhPlDr4b/8ORn56BXiv+GyV9FSQOK/dajoWI1q4r+OjFIimJTivxaWl8ByvuK/nNs2xxzo4r+cbC3KlRHjv4dp913dOuO/dxqRF/Nj47+eBHiM1ozjv2n+q1KHteO/RkKwAAXe478ggIwtTwbkv4PtzXBlLuS/U1SIYkdW5L9LIFeb9H3kv/lqXrRspeS/bAZMR6/M5L9whljuu/Pkv3FISESSGuW/5Hls5DFB5b9PHaRqmmflv90NXXPLjeW/fQGVm8Sz5b+QidqAhdnlvxwSTsEN/+W/jt+i+1wk5r/nCiDPcknmv5J8odtObua/kuWYwfCS5r89tw4iWLfmv3IZo56E2+a/Pt+O2XX/5r/6eaR1KyPnv9rqUBalRue/7rKcX+Jp57+GwSz24oznvw1hQ3+mr+e/RCLBoCzS57/qxSUBdfTnv7YkkUd/Fui/zRXEG0s46L99UyEm2Fnov3Ferg8me+i/CV8UgjSc6L9hBaEnA73ov0hnR6uR3ei/3NyguN/96L9X2+377B3pvxbOFiK5Pem/Iu6s2ENd6b+8F+vNjHzpv4aetrCTm+m/lx+gMFi66b8sUuT92djpv0bWbMkY9+m/2gHRRBQV6r/wq1YizDLqv0X28hRAUOq/7BRL0G9t6r9IFLUIW4rqv0GdOHMBp+q/grePxWLD6r8niie2ft/qv1gaIfxU++q/UwhST+UW679gSkVoLzLrvzTmOwAzTeu/NKgt0e9n678n2cmVZYLrv8PxdwmUnOu/qExY6Hq267801kTvGdDrv6K60dtw6eu/ThJObH8C7L/gi8RfRRvsv9IU/HXCM+y/0394b/ZL7L93KXsN4WPsv8OaAxKCe+y/CSrQP9mS7L+TmV5a5qnsv6W07CWpwOy/Rep4ZyHX7L9T5sLkTu3sv3MoTGQxA+2/JJlYrcgY7b/fHO+HFC7tvxsl2rwUQ+2/hj+oFclX7b8So6xcMWztvzK7/1xNgO2/6bB/4hyU7b8H8tC5n6ftvze2XrDVuu2/OYJblL7N7b/iqME0WuDtv07KU2Go8u2/1VCd6qgE7r8k7PKhWxbuvzYKc1nAJ+6/O04G5NY47r+PBWAVn0nuv3+a/sEYWu6/JQUsv0Nq7r8NOv7iH3ruv/eWVwStie6/U03n+uqY7r/dyimf2afuv/sfacp4tu6/IWS9VsjE7r8ZGA0fyNLuvyGGDf934O6/FiBD09ft7r9d2wF55/ruv9SKbc6mB++/jTZ6shUU77+JcewENCDvvzWtWaYBLO+/8IooeH43779JK5FcqkLvv0h7nTaFTe+/dH8p6g5Y77/JnONbR2Lvv5bfTHEubO+/GUC5EMR1778j5U8hCH/vv21kC4v6h++/8gC6NpuQ77/95v0N6pjvvzRmTfvmoO+/ZSnz6ZGo7786bA7G6q/vv7wuk3zxtu+/vWZK+6W9778FL9IwCMTvv2r0nQwYyu+/taD2ftXP779gw/p4QNXvvym4nuxY2u+/ecuszB7f77+pXMUMkuPvvxD+XqGy5++/75LGf4Dr778rax+e++7vv+NcY/Mj8u+/zttid/n07796DsUifPfvv1XhB++r+e+/ixeA1oj777+8WVnUEv3vv3xCluRJ/u+/smgQBC7/77+5Z3gwv//vv2jlVWj9/++/15UHq+j/778LPcP4gP/vv2KulVLG/u+/4cliurj9779Jd+UyWPzvvwSfr7+k+u+/5yAqZZ7477++yJQoRfbvv7ZABhCZ8++/kQFsIprw77+uQIpnSO3vv+7b++ej6e+/XkMyrazl77+/YHXBYuHvv+B84y/G3O+/ySJxBNfX77+9AOlLldLvvxXH6xMBze+/4gTwahrH7797AkJg4cDvv8qZAwRWuu+/fAwsZ3iz778N2IebSKzvv5aHuLPGpO+/j4M0w/Kc779M30bezJTvv24kDxpVjO+/GByBjIuD778LlmRMcHrvv5AtVXEDce+/UQzCE0Vn77/zqu1MNV3vv6OP7TbUUu+/eQqq7CFI77+o792JHj3vv7BPFivKMe+/RS2y7SQm7788MeLvLhrvvzlcqFDoDe+/V7bXL1EB77+e/BOuafTuv3FM0ewx5+6/w8xTDqrZ7r9YVa810svuv74Tx4aqve6/Vy5NJjOv7r8vZcI5bKDuv7ywdedVke6/od6DVvCB7r8wLNeuO3LuvwrfJhk4Yu6/dtv2vuVR7r/dOJfKREHuv/7TI2dVMO6/Rt+DwBcf7r/kcGkDjA3uvwQPUV2y++2/0DmB/Irp7b+D8wkQFtftv2pGxMdTxO2/yMhRVESx7b/cHhzn553tv696VLI+iu2/Dhrz6Eh27b9Mwra+BmLtvzw6JGh4Te2/6MGFGp447b+MiOoLeCPtv1IgJnMGDu2/TvDPh0n47L9CpEKCQeLsv52am5vuy+y/ZFC6DVG17L8dyz8TaZ7sv+gAjuc2h+y/dT7Hxrpv7L81i83t9Ffsv3ALQprlP+y/l2CECo0n7L91B7J96w7sv660pTMB9uu/Fq/2bM7c679hKPhqU8Prv6STuG+Qqeu/N/oAvoWP67+BTlSZM3Xrv+287kWaWuu/HfvECLo/678FlYMnkyTrv3E4juglCeu/ZP7+knLt6r/psqVuedHqv8UaB8Q6teq/mTdc3LaY6r/tiZEB7nvqv6tRRn7gXuq/mszLnY5B6r8WcySs+CPqvx0zA/YeBuq/VanKyAHo6b+WWIxyocnpv2HfB0L+qum/3iuqhhiM6b/MrYyQ8GzpvweHdLCGTem/97nRN9st6b+bVr547g3pv4ql/cXA7ei/g1H7clLN6L8ij8rTo6zov9ZCJT21i+i/YCVrBIdq6L9Z5qB/GUnov1hNbwVtJ+i/I1ki7YEF6L+LXaiOWOPnv0cfkULxwOe/je4MYkye57+wv+tGanvnv3BCnEtLWOe/Z/cqy+80578fREEhWBHnv2KFJKqE7ea/+B+1wnXJ5r8CkG3IK6Xmv312YRmngOa/hqU8FOhb5r/EKkIY7zbmv55YS4W8Eea/kM3Gu1Ds5b9derccrMblv2CmswnPoOW/wfLj5Ll65b/LWwIRbVTlvyI5WfHoLeW/UjzC6S0H5b/YbaVePODkvwgp+LQUueS/HxY8UreR5L9NI36cJGrkv/Z7VfpcQuS/8H7i0mAa5L/yss2NMPLjvxS6RpPMyeO/fkMDTDWh478p/D0ha3jjv999tXxuT+O/Rz2ryD8m479ZduJv3/ziv4UXn91N0+K/zqukfYup4r83QzW8mH/iv0xaEAZ2VeK/CcBxyCMr4r/behBxogDiv/2rHW7y1eG/CHJDLhSr4b/VyaMgCIDhv5lu17TOVOG/YrjsWmgp4b/GeWaD1f3gvyLcOp8W0uC/rDrSHyym4L+j/AV3Fnrgv/JtHxfWTeC/JJfWcmsh4L98J6L6renfv/TPQVQykN+/5qmG2mQ2379QWD92RtzevwdDDBHYgd6/dTldlRon3r9tEm/uDszdv7VKSQi2cN2/96C7zxAV3b+rr1syILncv5CFgh7lXNy/VjtKg2AA3L8tiItQk6Pbv5RT23Z+Rtu/FEaI5yLp2r86V5iUgYvav6FaxnCbLdq/OIp/b3HP2b+nD+GEBHHZvwCLtaVVEtm/i5hyx2Wz2L9DVDbgNVTYv6DbxObG9Ne/Rc6F0hmV178nzIGbLzXXvwLzXzoJ1da/RFljqKd01r9UiGjfCxTWv1j04tk2s9W/aXPakilS1b9QsugF5fDUv8CoNi9qj9S/Jwt6C7ot1L/yu/KX1cvTv+A6aNK9adO/5BInuXMH079UR/5K+KTSv9q+PIdMQtK/Dq6ubXHf0b/f/5r+Z3zRv6W9wDoxGdG/D3VUI8610L/Ynf25P1LQv6f6pwEO3c+/kBO69EkVz78UmBJTNU3OvwqAYyPShM2/qGkqbSK8zL/GVas4KPPLvxpk647lKcu/hYureVxgyr91UmMDj5bJv3ODOzd/zMi/2+EIIS8CyL/l2kbNoDfHv/A2EknWbMa/M8cjotGhxb+4E8vmlNbEv4sG6SUiC8S/e5Xqbns/w7+la8PRonPCv8aP6F6ap8G/QQtLJ2TbwL/djVI8Ag/Av6sksF/thL6/gv9AKIfrvL/Dl6731VG7v9U0EvTdt7m/m7o8RKMduL8o5KsPKoO2v3uAf3526LS/EatuuYxNs7/3Ar3pcLKxv+LiLzknF7C/jSgHpGf3rL9gCsG9NcCpvwryoBXBiKa/nXhnAhJRo787p2zbMBmgv7u2FPFLwpm/jUMNZPNRk79yYfiB0cKJv0A5cubywnm/B1wUMyamsbw=",
          "dtype": "f8"
         }
        },
        {
         "marker": {
          "color": "#1f77b4"
         },
         "mode": "markers",
         "name": "z1",
         "type": "scatter",
         "x": [
          2
         ],
         "y": [
          1
         ]
        },
        {
         "marker": {
          "color": "#ff7f0e"
         },
         "mode": "markers",
         "name": "z2",
         "type": "scatter",
         "x": [
          0
         ],
         "y": [
          1
         ]
        },
        {
         "marker": {
          "color": "#2ca02c"
         },
         "mode": "markers",
         "name": "z3",
         "type": "scatter",
         "x": [
          0
         ],
         "y": [
          -0.5
         ]
        }
       ],
       "layout": {
        "annotations": [
         {
          "arrowcolor": "#1f77b4",
          "arrowhead": 3,
          "arrowwidth": 1.5,
          "ax": 0,
          "axref": "x",
          "ay": 0,
          "ayref": "y",
          "showarrow": true,
          "text": "",
          "x": 2,
          "y": 1
         },
         {
          "arrowcolor": "#ff7f0e",
          "arrowhead": 3,
          "arrowwidth": 1.5,
          "ax": 0,
          "axref": "x",
          "ay": 0,
          "ayref": "y",
          "showarrow": true,
          "text": "",
          "x": 0,
          "y": 1
         },
         {
          "arrowcolor": "#2ca02c",
          "arrowhead": 3,
          "arrowwidth": 1.5,
          "ax": 0,
          "axref": "x",
          "ay": 0,
          "ayref": "y",
          "showarrow": true,
          "text": "",
          "x": 0,
          "y": -0.5
         }
        ],
        "template": {
         "data": {
          "bar": [
           {
            "error_x": {
             "color": "#2a3f5f"
            },
            "error_y": {
             "color": "#2a3f5f"
            },
            "marker": {
             "line": {
              "color": "#E5ECF6",
              "width": 0.5
             },
             "pattern": {
              "fillmode": "overlay",
              "size": 10,
              "solidity": 0.2
             }
            },
            "type": "bar"
           }
          ],
          "barpolar": [
           {
            "marker": {
             "line": {
              "color": "#E5ECF6",
              "width": 0.5
             },
             "pattern": {
              "fillmode": "overlay",
              "size": 10,
              "solidity": 0.2
             }
            },
            "type": "barpolar"
           }
          ],
          "carpet": [
           {
            "aaxis": {
             "endlinecolor": "#2a3f5f",
             "gridcolor": "white",
             "linecolor": "white",
             "minorgridcolor": "white",
             "startlinecolor": "#2a3f5f"
            },
            "baxis": {
             "endlinecolor": "#2a3f5f",
             "gridcolor": "white",
             "linecolor": "white",
             "minorgridcolor": "white",
             "startlinecolor": "#2a3f5f"
            },
            "type": "carpet"
           }
          ],
          "choropleth": [
           {
            "colorbar": {
             "outlinewidth": 0,
             "ticks": ""
            },
            "type": "choropleth"
           }
          ],
          "contour": [
           {
            "colorbar": {
             "outlinewidth": 0,
             "ticks": ""
            },
            "colorscale": [
             [
              0,
              "#0d0887"
             ],
             [
              0.1111111111111111,
              "#46039f"
             ],
             [
              0.2222222222222222,
              "#7201a8"
             ],
             [
              0.3333333333333333,
              "#9c179e"
             ],
             [
              0.4444444444444444,
              "#bd3786"
             ],
             [
              0.5555555555555556,
              "#d8576b"
             ],
             [
              0.6666666666666666,
              "#ed7953"
             ],
             [
              0.7777777777777778,
              "#fb9f3a"
             ],
             [
              0.8888888888888888,
              "#fdca26"
             ],
             [
              1,
              "#f0f921"
             ]
            ],
            "type": "contour"
           }
          ],
          "contourcarpet": [
           {
            "colorbar": {
             "outlinewidth": 0,
             "ticks": ""
            },
            "type": "contourcarpet"
           }
          ],
          "heatmap": [
           {
            "colorbar": {
             "outlinewidth": 0,
             "ticks": ""
            },
            "colorscale": [
             [
              0,
              "#0d0887"
             ],
             [
              0.1111111111111111,
              "#46039f"
             ],
             [
              0.2222222222222222,
              "#7201a8"
             ],
             [
              0.3333333333333333,
              "#9c179e"
             ],
             [
              0.4444444444444444,
              "#bd3786"
             ],
             [
              0.5555555555555556,
              "#d8576b"
             ],
             [
              0.6666666666666666,
              "#ed7953"
             ],
             [
              0.7777777777777778,
              "#fb9f3a"
             ],
             [
              0.8888888888888888,
              "#fdca26"
             ],
             [
              1,
              "#f0f921"
             ]
            ],
            "type": "heatmap"
           }
          ],
          "histogram": [
           {
            "marker": {
             "pattern": {
              "fillmode": "overlay",
              "size": 10,
              "solidity": 0.2
             }
            },
            "type": "histogram"
           }
          ],
          "histogram2d": [
           {
            "colorbar": {
             "outlinewidth": 0,
             "ticks": ""
            },
            "colorscale": [
             [
              0,
              "#0d0887"
             ],
             [
              0.1111111111111111,
              "#46039f"
             ],
             [
              0.2222222222222222,
              "#7201a8"
             ],
             [
              0.3333333333333333,
              "#9c179e"
             ],
             [
              0.4444444444444444,
              "#bd3786"
             ],
             [
              0.5555555555555556,
              "#d8576b"
             ],
             [
              0.6666666666666666,
              "#ed7953"
             ],
             [
              0.7777777777777778,
              "#fb9f3a"
             ],
             [
              0.8888888888888888,
              "#fdca26"
             ],
             [
              1,
              "#f0f921"
             ]
            ],
            "type": "histogram2d"
           }
          ],
          "histogram2dcontour": [
           {
            "colorbar": {
             "outlinewidth": 0,
             "ticks": ""
            },
            "colorscale": [
             [
              0,
              "#0d0887"
             ],
             [
              0.1111111111111111,
              "#46039f"
             ],
             [
              0.2222222222222222,
              "#7201a8"
             ],
             [
              0.3333333333333333,
              "#9c179e"
             ],
             [
              0.4444444444444444,
              "#bd3786"
             ],
             [
              0.5555555555555556,
              "#d8576b"
             ],
             [
              0.6666666666666666,
              "#ed7953"
             ],
             [
              0.7777777777777778,
              "#fb9f3a"
             ],
             [
              0.8888888888888888,
              "#fdca26"
             ],
             [
              1,
              "#f0f921"
             ]
            ],
            "type": "histogram2dcontour"
           }
          ],
          "mesh3d": [
           {
            "colorbar": {
             "outlinewidth": 0,
             "ticks": ""
            },
            "type": "mesh3d"
           }
          ],
          "parcoords": [
           {
            "line": {
             "colorbar": {
              "outlinewidth": 0,
              "ticks": ""
             }
            },
            "type": "parcoords"
           }
          ],
          "pie": [
           {
            "automargin": true,
            "type": "pie"
           }
          ],
          "scatter": [
           {
            "fillpattern": {
             "fillmode": "overlay",
             "size": 10,
             "solidity": 0.2
            },
            "type": "scatter"
           }
          ],
          "scatter3d": [
           {
            "line": {
             "colorbar": {
              "outlinewidth": 0,
              "ticks": ""
             }
            },
            "marker": {
             "colorbar": {
              "outlinewidth": 0,
              "ticks": ""
             }
            },
            "type": "scatter3d"
           }
          ],
          "scattercarpet": [
           {
            "marker": {
             "colorbar": {
              "outlinewidth": 0,
              "ticks": ""
             }
            },
            "type": "scattercarpet"
           }
          ],
          "scattergeo": [
           {
            "marker": {
             "colorbar": {
              "outlinewidth": 0,
              "ticks": ""
             }
            },
            "type": "scattergeo"
           }
          ],
          "scattergl": [
           {
            "marker": {
             "colorbar": {
              "outlinewidth": 0,
              "ticks": ""
             }
            },
            "type": "scattergl"
           }
          ],
          "scattermap": [
           {
            "marker": {
             "colorbar": {
              "outlinewidth": 0,
              "ticks": ""
             }
            },
            "type": "scattermap"
           }
          ],
          "scattermapbox": [
           {
            "marker": {
             "colorbar": {
              "outlinewidth": 0,
              "ticks": ""
             }
            },
            "type": "scattermapbox"
           }
          ],
          "scatterpolar": [
           {
            "marker": {
             "colorbar": {
              "outlinewidth": 0,
              "ticks": ""
             }
            },
            "type": "scatterpolar"
           }
          ],
          "scatterpolargl": [
           {
            "marker": {
             "colorbar": {
              "outlinewidth": 0,
              "ticks": ""
             }
            },
            "type": "scatterpolargl"
           }
          ],
          "scatterternary": [
           {
            "marker": {
             "colorbar": {
              "outlinewidth": 0,
              "ticks": ""
             }
            },
            "type": "scatterternary"
           }
          ],
          "surface": [
           {
            "colorbar": {
             "outlinewidth": 0,
             "ticks": ""
            },
            "colorscale": [
             [
              0,
              "#0d0887"
             ],
             [
              0.1111111111111111,
              "#46039f"
             ],
             [
              0.2222222222222222,
              "#7201a8"
             ],
             [
              0.3333333333333333,
              "#9c179e"
             ],
             [
              0.4444444444444444,
              "#bd3786"
             ],
             [
              0.5555555555555556,
              "#d8576b"
             ],
             [
              0.6666666666666666,
              "#ed7953"
             ],
             [
              0.7777777777777778,
              "#fb9f3a"
             ],
             [
              0.8888888888888888,
              "#fdca26"
             ],
             [
              1,
              "#f0f921"
             ]
            ],
            "type": "surface"
           }
          ],
          "table": [
           {
            "cells": {
             "fill": {
              "color": "#EBF0F8"
             },
             "line": {
              "color": "white"
             }
            },
            "header": {
             "fill": {
              "color": "#C8D4E3"
             },
             "line": {
              "color": "white"
             }
            },
            "type": "table"
           }
          ]
         },
         "layout": {
          "annotationdefaults": {
           "arrowcolor": "#2a3f5f",
           "arrowhead": 0,
           "arrowwidth": 1
          },
          "autotypenumbers": "strict",
          "coloraxis": {
           "colorbar": {
            "outlinewidth": 0,
            "ticks": ""
           }
          },
          "colorscale": {
           "diverging": [
            [
             0,
             "#8e0152"
            ],
            [
             0.1,
             "#c51b7d"
            ],
            [
             0.2,
             "#de77ae"
            ],
            [
             0.3,
             "#f1b6da"
            ],
            [
             0.4,
             "#fde0ef"
            ],
            [
             0.5,
             "#f7f7f7"
            ],
            [
             0.6,
             "#e6f5d0"
            ],
            [
             0.7,
             "#b8e186"
            ],
            [
             0.8,
             "#7fbc41"
            ],
            [
             0.9,
             "#4d9221"
            ],
            [
             1,
             "#276419"
            ]
           ],
           "sequential": [
            [
             0,
             "#0d0887"
            ],
            [
             0.1111111111111111,
             "#46039f"
            ],
            [
             0.2222222222222222,
             "#7201a8"
            ],
            [
             0.3333333333333333,
             "#9c179e"
            ],
            [
             0.4444444444444444,
             "#bd3786"
            ],
            [
             0.5555555555555556,
             "#d8576b"
            ],
            [
             0.6666666666666666,
             "#ed7953"
            ],
            [
             0.7777777777777778,
             "#fb9f3a"
            ],
            [
             0.8888888888888888,
             "#fdca26"
            ],
            [
             1,
             "#f0f921"
            ]
           ],
           "sequentialminus": [
            [
             0,
             "#0d0887"
            ],
            [
             0.1111111111111111,
             "#46039f"
            ],
            [
             0.2222222222222222,
             "#7201a8"
            ],
            [
             0.3333333333333333,
             "#9c179e"
            ],
            [
             0.4444444444444444,
             "#bd3786"
            ],
            [
             0.5555555555555556,
             "#d8576b"
            ],
            [
             0.6666666666666666,
             "#ed7953"
            ],
            [
             0.7777777777777778,
             "#fb9f3a"
            ],
            [
             0.8888888888888888,
             "#fdca26"
            ],
            [
             1,
             "#f0f921"
            ]
           ]
          },
          "colorway": [
           "#636efa",
           "#EF553B",
           "#00cc96",
           "#ab63fa",
           "#FFA15A",
           "#19d3f3",
           "#FF6692",
           "#B6E880",
           "#FF97FF",
           "#FECB52"
          ],
          "font": {
           "color": "#2a3f5f"
          },
          "geo": {
           "bgcolor": "white",
           "lakecolor": "white",
           "landcolor": "#E5ECF6",
           "showlakes": true,
           "showland": true,
           "subunitcolor": "white"
          },
          "hoverlabel": {
           "align": "left"
          },
          "hovermode": "closest",
          "mapbox": {
           "style": "light"
          },
          "paper_bgcolor": "white",
          "plot_bgcolor": "#E5ECF6",
          "polar": {
           "angularaxis": {
            "gridcolor": "white",
            "linecolor": "white",
            "ticks": ""
           },
           "bgcolor": "#E5ECF6",
           "radialaxis": {
            "gridcolor": "white",
            "linecolor": "white",
            "ticks": ""
           }
          },
          "scene": {
           "xaxis": {
            "backgroundcolor": "#E5ECF6",
            "gridcolor": "white",
            "gridwidth": 2,
            "linecolor": "white",
            "showbackground": true,
            "ticks": "",
            "zerolinecolor": "white"
           },
           "yaxis": {
            "backgroundcolor": "#E5ECF6",
            "gridcolor": "white",
            "gridwidth": 2,
            "linecolor": "white",
            "showbackground": true,
            "ticks": "",
            "zerolinecolor": "white"
           },
           "zaxis": {
            "backgroundcolor": "#E5ECF6",
            "gridcolor": "white",
            "gridwidth": 2,
            "linecolor": "white",
            "showbackground": true,
            "ticks": "",
            "zerolinecolor": "white"
           }
          },
          "shapedefaults": {
           "line": {
            "color": "#2a3f5f"
           }
          },
          "ternary": {
           "aaxis": {
            "gridcolor": "white",
            "linecolor": "white",
            "ticks": ""
           },
           "baxis": {
            "gridcolor": "white",
            "linecolor": "white",
            "ticks": ""
           },
           "bgcolor": "#E5ECF6",
           "caxis": {
            "gridcolor": "white",
            "linecolor": "white",
            "ticks": ""
           }
          },
          "title": {
           "x": 0.05
          },
          "xaxis": {
           "automargin": true,
           "gridcolor": "white",
           "linecolor": "white",
           "ticks": "",
           "title": {
            "standoff": 15
           },
           "zerolinecolor": "white",
           "zerolinewidth": 2
          },
          "yaxis": {
           "automargin": true,
           "gridcolor": "white",
           "linecolor": "white",
           "ticks": "",
           "title": {
            "standoff": 15
           },
           "zerolinecolor": "white",
           "zerolinewidth": 2
          }
         }
        },
        "xaxis": {
         "title": {
          "text": "Real"
         }
        },
        "yaxis": {
         "scaleanchor": "x",
         "scaleratio": 1,
         "title": {
          "text": "Imaginary"
         }
        }
       }
      }
     },
     "metadata": {},
     "output_type": "display_data"
    }
   ],
   "source": [
    "z1 = 2 + 1j\n",
    "z2 = 1j\n",
    "z3 = -0.5j\n",
    "plot_complex([z1, z2, z3], name=['z1', 'z2', 'z3'])"
   ]
  },
  {
   "cell_type": "markdown",
   "metadata": {
    "id": "aOfR7uusRA13"
   },
   "source": [
    "# **Exercises**\n",
    "\n",
    "**1. Complex Numbers**\n",
    "\n",
    "To exercise your understanding of complex numbers, do the following:\n",
    "\n",
    "1.1. Define $z_1 = -1+j0.3$ and $z_2 = 0.8+j0.7$. Enter these in Python and plot them as points and vectors in the complex plane."
   ]
  },
  {
   "cell_type": "code",
   "execution_count": 39,
   "metadata": {
    "executionInfo": {
     "elapsed": 13,
     "status": "ok",
     "timestamp": 1702317970078,
     "user": {
      "displayName": "PEDRO RAMONEDA FRANCO",
      "userId": "10653804143244385715"
     },
     "user_tz": -60
    },
    "id": "oGUfC_09QFHN"
   },
   "outputs": [
    {
     "data": {
      "application/vnd.plotly.v1+json": {
       "config": {
        "plotlyServerURL": "https://plot.ly"
       },
       "data": [
        {
         "line": {
          "color": "rgb(150,150,150)",
          "dash": "dash",
          "shape": "linear"
         },
         "mode": "lines",
         "name": "unit circle",
         "type": "scatter",
         "x": {
          "bdata": "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",
          "dtype": "f8"
         },
         "y": {
          "bdata": "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",
          "dtype": "f8"
         }
        },
        {
         "marker": {
          "color": "#1f77b4"
         },
         "mode": "markers",
         "name": "z1",
         "type": "scatter",
         "x": [
          -1
         ],
         "y": [
          0.3
         ]
        },
        {
         "marker": {
          "color": "#ff7f0e"
         },
         "mode": "markers",
         "name": "z2",
         "type": "scatter",
         "x": [
          0.8
         ],
         "y": [
          0.7
         ]
        }
       ],
       "layout": {
        "annotations": [
         {
          "arrowcolor": "#1f77b4",
          "arrowhead": 3,
          "arrowwidth": 1.5,
          "ax": 0,
          "axref": "x",
          "ay": 0,
          "ayref": "y",
          "showarrow": true,
          "text": "",
          "x": -1,
          "y": 0.3
         },
         {
          "arrowcolor": "#ff7f0e",
          "arrowhead": 3,
          "arrowwidth": 1.5,
          "ax": 0,
          "axref": "x",
          "ay": 0,
          "ayref": "y",
          "showarrow": true,
          "text": "",
          "x": 0.8,
          "y": 0.7
         }
        ],
        "template": {
         "data": {
          "bar": [
           {
            "error_x": {
             "color": "#2a3f5f"
            },
            "error_y": {
             "color": "#2a3f5f"
            },
            "marker": {
             "line": {
              "color": "#E5ECF6",
              "width": 0.5
             },
             "pattern": {
              "fillmode": "overlay",
              "size": 10,
              "solidity": 0.2
             }
            },
            "type": "bar"
           }
          ],
          "barpolar": [
           {
            "marker": {
             "line": {
              "color": "#E5ECF6",
              "width": 0.5
             },
             "pattern": {
              "fillmode": "overlay",
              "size": 10,
              "solidity": 0.2
             }
            },
            "type": "barpolar"
           }
          ],
          "carpet": [
           {
            "aaxis": {
             "endlinecolor": "#2a3f5f",
             "gridcolor": "white",
             "linecolor": "white",
             "minorgridcolor": "white",
             "startlinecolor": "#2a3f5f"
            },
            "baxis": {
             "endlinecolor": "#2a3f5f",
             "gridcolor": "white",
             "linecolor": "white",
             "minorgridcolor": "white",
             "startlinecolor": "#2a3f5f"
            },
            "type": "carpet"
           }
          ],
          "choropleth": [
           {
            "colorbar": {
             "outlinewidth": 0,
             "ticks": ""
            },
            "type": "choropleth"
           }
          ],
          "contour": [
           {
            "colorbar": {
             "outlinewidth": 0,
             "ticks": ""
            },
            "colorscale": [
             [
              0,
              "#0d0887"
             ],
             [
              0.1111111111111111,
              "#46039f"
             ],
             [
              0.2222222222222222,
              "#7201a8"
             ],
             [
              0.3333333333333333,
              "#9c179e"
             ],
             [
              0.4444444444444444,
              "#bd3786"
             ],
             [
              0.5555555555555556,
              "#d8576b"
             ],
             [
              0.6666666666666666,
              "#ed7953"
             ],
             [
              0.7777777777777778,
              "#fb9f3a"
             ],
             [
              0.8888888888888888,
              "#fdca26"
             ],
             [
              1,
              "#f0f921"
             ]
            ],
            "type": "contour"
           }
          ],
          "contourcarpet": [
           {
            "colorbar": {
             "outlinewidth": 0,
             "ticks": ""
            },
            "type": "contourcarpet"
           }
          ],
          "heatmap": [
           {
            "colorbar": {
             "outlinewidth": 0,
             "ticks": ""
            },
            "colorscale": [
             [
              0,
              "#0d0887"
             ],
             [
              0.1111111111111111,
              "#46039f"
             ],
             [
              0.2222222222222222,
              "#7201a8"
             ],
             [
              0.3333333333333333,
              "#9c179e"
             ],
             [
              0.4444444444444444,
              "#bd3786"
             ],
             [
              0.5555555555555556,
              "#d8576b"
             ],
             [
              0.6666666666666666,
              "#ed7953"
             ],
             [
              0.7777777777777778,
              "#fb9f3a"
             ],
             [
              0.8888888888888888,
              "#fdca26"
             ],
             [
              1,
              "#f0f921"
             ]
            ],
            "type": "heatmap"
           }
          ],
          "histogram": [
           {
            "marker": {
             "pattern": {
              "fillmode": "overlay",
              "size": 10,
              "solidity": 0.2
             }
            },
            "type": "histogram"
           }
          ],
          "histogram2d": [
           {
            "colorbar": {
             "outlinewidth": 0,
             "ticks": ""
            },
            "colorscale": [
             [
              0,
              "#0d0887"
             ],
             [
              0.1111111111111111,
              "#46039f"
             ],
             [
              0.2222222222222222,
              "#7201a8"
             ],
             [
              0.3333333333333333,
              "#9c179e"
             ],
             [
              0.4444444444444444,
              "#bd3786"
             ],
             [
              0.5555555555555556,
              "#d8576b"
             ],
             [
              0.6666666666666666,
              "#ed7953"
             ],
             [
              0.7777777777777778,
              "#fb9f3a"
             ],
             [
              0.8888888888888888,
              "#fdca26"
             ],
             [
              1,
              "#f0f921"
             ]
            ],
            "type": "histogram2d"
           }
          ],
          "histogram2dcontour": [
           {
            "colorbar": {
             "outlinewidth": 0,
             "ticks": ""
            },
            "colorscale": [
             [
              0,
              "#0d0887"
             ],
             [
              0.1111111111111111,
              "#46039f"
             ],
             [
              0.2222222222222222,
              "#7201a8"
             ],
             [
              0.3333333333333333,
              "#9c179e"
             ],
             [
              0.4444444444444444,
              "#bd3786"
             ],
             [
              0.5555555555555556,
              "#d8576b"
             ],
             [
              0.6666666666666666,
              "#ed7953"
             ],
             [
              0.7777777777777778,
              "#fb9f3a"
             ],
             [
              0.8888888888888888,
              "#fdca26"
             ],
             [
              1,
              "#f0f921"
             ]
            ],
            "type": "histogram2dcontour"
           }
          ],
          "mesh3d": [
           {
            "colorbar": {
             "outlinewidth": 0,
             "ticks": ""
            },
            "type": "mesh3d"
           }
          ],
          "parcoords": [
           {
            "line": {
             "colorbar": {
              "outlinewidth": 0,
              "ticks": ""
             }
            },
            "type": "parcoords"
           }
          ],
          "pie": [
           {
            "automargin": true,
            "type": "pie"
           }
          ],
          "scatter": [
           {
            "fillpattern": {
             "fillmode": "overlay",
             "size": 10,
             "solidity": 0.2
            },
            "type": "scatter"
           }
          ],
          "scatter3d": [
           {
            "line": {
             "colorbar": {
              "outlinewidth": 0,
              "ticks": ""
             }
            },
            "marker": {
             "colorbar": {
              "outlinewidth": 0,
              "ticks": ""
             }
            },
            "type": "scatter3d"
           }
          ],
          "scattercarpet": [
           {
            "marker": {
             "colorbar": {
              "outlinewidth": 0,
              "ticks": ""
             }
            },
            "type": "scattercarpet"
           }
          ],
          "scattergeo": [
           {
            "marker": {
             "colorbar": {
              "outlinewidth": 0,
              "ticks": ""
             }
            },
            "type": "scattergeo"
           }
          ],
          "scattergl": [
           {
            "marker": {
             "colorbar": {
              "outlinewidth": 0,
              "ticks": ""
             }
            },
            "type": "scattergl"
           }
          ],
          "scattermap": [
           {
            "marker": {
             "colorbar": {
              "outlinewidth": 0,
              "ticks": ""
             }
            },
            "type": "scattermap"
           }
          ],
          "scattermapbox": [
           {
            "marker": {
             "colorbar": {
              "outlinewidth": 0,
              "ticks": ""
             }
            },
            "type": "scattermapbox"
           }
          ],
          "scatterpolar": [
           {
            "marker": {
             "colorbar": {
              "outlinewidth": 0,
              "ticks": ""
             }
            },
            "type": "scatterpolar"
           }
          ],
          "scatterpolargl": [
           {
            "marker": {
             "colorbar": {
              "outlinewidth": 0,
              "ticks": ""
             }
            },
            "type": "scatterpolargl"
           }
          ],
          "scatterternary": [
           {
            "marker": {
             "colorbar": {
              "outlinewidth": 0,
              "ticks": ""
             }
            },
            "type": "scatterternary"
           }
          ],
          "surface": [
           {
            "colorbar": {
             "outlinewidth": 0,
             "ticks": ""
            },
            "colorscale": [
             [
              0,
              "#0d0887"
             ],
             [
              0.1111111111111111,
              "#46039f"
             ],
             [
              0.2222222222222222,
              "#7201a8"
             ],
             [
              0.3333333333333333,
              "#9c179e"
             ],
             [
              0.4444444444444444,
              "#bd3786"
             ],
             [
              0.5555555555555556,
              "#d8576b"
             ],
             [
              0.6666666666666666,
              "#ed7953"
             ],
             [
              0.7777777777777778,
              "#fb9f3a"
             ],
             [
              0.8888888888888888,
              "#fdca26"
             ],
             [
              1,
              "#f0f921"
             ]
            ],
            "type": "surface"
           }
          ],
          "table": [
           {
            "cells": {
             "fill": {
              "color": "#EBF0F8"
             },
             "line": {
              "color": "white"
             }
            },
            "header": {
             "fill": {
              "color": "#C8D4E3"
             },
             "line": {
              "color": "white"
             }
            },
            "type": "table"
           }
          ]
         },
         "layout": {
          "annotationdefaults": {
           "arrowcolor": "#2a3f5f",
           "arrowhead": 0,
           "arrowwidth": 1
          },
          "autotypenumbers": "strict",
          "coloraxis": {
           "colorbar": {
            "outlinewidth": 0,
            "ticks": ""
           }
          },
          "colorscale": {
           "diverging": [
            [
             0,
             "#8e0152"
            ],
            [
             0.1,
             "#c51b7d"
            ],
            [
             0.2,
             "#de77ae"
            ],
            [
             0.3,
             "#f1b6da"
            ],
            [
             0.4,
             "#fde0ef"
            ],
            [
             0.5,
             "#f7f7f7"
            ],
            [
             0.6,
             "#e6f5d0"
            ],
            [
             0.7,
             "#b8e186"
            ],
            [
             0.8,
             "#7fbc41"
            ],
            [
             0.9,
             "#4d9221"
            ],
            [
             1,
             "#276419"
            ]
           ],
           "sequential": [
            [
             0,
             "#0d0887"
            ],
            [
             0.1111111111111111,
             "#46039f"
            ],
            [
             0.2222222222222222,
             "#7201a8"
            ],
            [
             0.3333333333333333,
             "#9c179e"
            ],
            [
             0.4444444444444444,
             "#bd3786"
            ],
            [
             0.5555555555555556,
             "#d8576b"
            ],
            [
             0.6666666666666666,
             "#ed7953"
            ],
            [
             0.7777777777777778,
             "#fb9f3a"
            ],
            [
             0.8888888888888888,
             "#fdca26"
            ],
            [
             1,
             "#f0f921"
            ]
           ],
           "sequentialminus": [
            [
             0,
             "#0d0887"
            ],
            [
             0.1111111111111111,
             "#46039f"
            ],
            [
             0.2222222222222222,
             "#7201a8"
            ],
            [
             0.3333333333333333,
             "#9c179e"
            ],
            [
             0.4444444444444444,
             "#bd3786"
            ],
            [
             0.5555555555555556,
             "#d8576b"
            ],
            [
             0.6666666666666666,
             "#ed7953"
            ],
            [
             0.7777777777777778,
             "#fb9f3a"
            ],
            [
             0.8888888888888888,
             "#fdca26"
            ],
            [
             1,
             "#f0f921"
            ]
           ]
          },
          "colorway": [
           "#636efa",
           "#EF553B",
           "#00cc96",
           "#ab63fa",
           "#FFA15A",
           "#19d3f3",
           "#FF6692",
           "#B6E880",
           "#FF97FF",
           "#FECB52"
          ],
          "font": {
           "color": "#2a3f5f"
          },
          "geo": {
           "bgcolor": "white",
           "lakecolor": "white",
           "landcolor": "#E5ECF6",
           "showlakes": true,
           "showland": true,
           "subunitcolor": "white"
          },
          "hoverlabel": {
           "align": "left"
          },
          "hovermode": "closest",
          "mapbox": {
           "style": "light"
          },
          "paper_bgcolor": "white",
          "plot_bgcolor": "#E5ECF6",
          "polar": {
           "angularaxis": {
            "gridcolor": "white",
            "linecolor": "white",
            "ticks": ""
           },
           "bgcolor": "#E5ECF6",
           "radialaxis": {
            "gridcolor": "white",
            "linecolor": "white",
            "ticks": ""
           }
          },
          "scene": {
           "xaxis": {
            "backgroundcolor": "#E5ECF6",
            "gridcolor": "white",
            "gridwidth": 2,
            "linecolor": "white",
            "showbackground": true,
            "ticks": "",
            "zerolinecolor": "white"
           },
           "yaxis": {
            "backgroundcolor": "#E5ECF6",
            "gridcolor": "white",
            "gridwidth": 2,
            "linecolor": "white",
            "showbackground": true,
            "ticks": "",
            "zerolinecolor": "white"
           },
           "zaxis": {
            "backgroundcolor": "#E5ECF6",
            "gridcolor": "white",
            "gridwidth": 2,
            "linecolor": "white",
            "showbackground": true,
            "ticks": "",
            "zerolinecolor": "white"
           }
          },
          "shapedefaults": {
           "line": {
            "color": "#2a3f5f"
           }
          },
          "ternary": {
           "aaxis": {
            "gridcolor": "white",
            "linecolor": "white",
            "ticks": ""
           },
           "baxis": {
            "gridcolor": "white",
            "linecolor": "white",
            "ticks": ""
           },
           "bgcolor": "#E5ECF6",
           "caxis": {
            "gridcolor": "white",
            "linecolor": "white",
            "ticks": ""
           }
          },
          "title": {
           "x": 0.05
          },
          "xaxis": {
           "automargin": true,
           "gridcolor": "white",
           "linecolor": "white",
           "ticks": "",
           "title": {
            "standoff": 15
           },
           "zerolinecolor": "white",
           "zerolinewidth": 2
          },
          "yaxis": {
           "automargin": true,
           "gridcolor": "white",
           "linecolor": "white",
           "ticks": "",
           "title": {
            "standoff": 15
           },
           "zerolinecolor": "white",
           "zerolinewidth": 2
          }
         }
        },
        "xaxis": {
         "title": {
          "text": "Real"
         }
        },
        "yaxis": {
         "scaleanchor": "x",
         "scaleratio": 1,
         "title": {
          "text": "Imaginary"
         }
        }
       }
      }
     },
     "metadata": {},
     "output_type": "display_data"
    }
   ],
   "source": [
    "z1=-1+0.3j\n",
    "z2=0.8+0.7j\n",
    "\n",
    "plot_complex([z1,z2],name=['z1','z2'])"
   ]
  },
  {
   "cell_type": "markdown",
   "metadata": {
    "id": "HI6f-fu7KD5a"
   },
   "source": [
    "1.2. Compute the conjugate z* and the inverse 1/z for both $z_1$ and $z_2$ and plot the results as vectors in the complex plane."
   ]
  },
  {
   "cell_type": "code",
   "execution_count": 40,
   "metadata": {
    "executionInfo": {
     "elapsed": 12,
     "status": "ok",
     "timestamp": 1702317970078,
     "user": {
      "displayName": "PEDRO RAMONEDA FRANCO",
      "userId": "10653804143244385715"
     },
     "user_tz": -60
    },
    "id": "Novsdl6JRX7z"
   },
   "outputs": [
    {
     "data": {
      "application/vnd.plotly.v1+json": {
       "config": {
        "plotlyServerURL": "https://plot.ly"
       },
       "data": [
        {
         "line": {
          "color": "rgb(150,150,150)",
          "dash": "dash",
          "shape": "linear"
         },
         "mode": "lines",
         "name": "unit circle",
         "type": "scatter",
         "x": {
          "bdata": "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",
          "dtype": "f8"
         },
         "y": {
          "bdata": "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",
          "dtype": "f8"
         }
        },
        {
         "marker": {
          "color": "#1f77b4"
         },
         "mode": "markers",
         "name": "z1_conjugate",
         "type": "scatter",
         "x": [
          -1
         ],
         "y": [
          -0.3
         ]
        },
        {
         "marker": {
          "color": "#ff7f0e"
         },
         "mode": "markers",
         "name": "z2_conjugate",
         "type": "scatter",
         "x": [
          0.8
         ],
         "y": [
          -0.7
         ]
        },
        {
         "marker": {
          "color": "#2ca02c"
         },
         "mode": "markers",
         "name": "z1_inverse",
         "type": "scatter",
         "x": [
          -0.9174311926605504
         ],
         "y": [
          -0.2752293577981651
         ]
        },
        {
         "marker": {
          "color": "#d62728"
         },
         "mode": "markers",
         "name": "z2_inverse",
         "type": "scatter",
         "x": [
          0.7079646017699115
         ],
         "y": [
          -0.6194690265486724
         ]
        }
       ],
       "layout": {
        "annotations": [
         {
          "arrowcolor": "#1f77b4",
          "arrowhead": 3,
          "arrowwidth": 1.5,
          "ax": 0,
          "axref": "x",
          "ay": 0,
          "ayref": "y",
          "showarrow": true,
          "text": "",
          "x": -1,
          "y": -0.3
         },
         {
          "arrowcolor": "#ff7f0e",
          "arrowhead": 3,
          "arrowwidth": 1.5,
          "ax": 0,
          "axref": "x",
          "ay": 0,
          "ayref": "y",
          "showarrow": true,
          "text": "",
          "x": 0.8,
          "y": -0.7
         },
         {
          "arrowcolor": "#2ca02c",
          "arrowhead": 3,
          "arrowwidth": 1.5,
          "ax": 0,
          "axref": "x",
          "ay": 0,
          "ayref": "y",
          "showarrow": true,
          "text": "",
          "x": -0.9174311926605504,
          "y": -0.2752293577981651
         },
         {
          "arrowcolor": "#d62728",
          "arrowhead": 3,
          "arrowwidth": 1.5,
          "ax": 0,
          "axref": "x",
          "ay": 0,
          "ayref": "y",
          "showarrow": true,
          "text": "",
          "x": 0.7079646017699115,
          "y": -0.6194690265486724
         }
        ],
        "template": {
         "data": {
          "bar": [
           {
            "error_x": {
             "color": "#2a3f5f"
            },
            "error_y": {
             "color": "#2a3f5f"
            },
            "marker": {
             "line": {
              "color": "#E5ECF6",
              "width": 0.5
             },
             "pattern": {
              "fillmode": "overlay",
              "size": 10,
              "solidity": 0.2
             }
            },
            "type": "bar"
           }
          ],
          "barpolar": [
           {
            "marker": {
             "line": {
              "color": "#E5ECF6",
              "width": 0.5
             },
             "pattern": {
              "fillmode": "overlay",
              "size": 10,
              "solidity": 0.2
             }
            },
            "type": "barpolar"
           }
          ],
          "carpet": [
           {
            "aaxis": {
             "endlinecolor": "#2a3f5f",
             "gridcolor": "white",
             "linecolor": "white",
             "minorgridcolor": "white",
             "startlinecolor": "#2a3f5f"
            },
            "baxis": {
             "endlinecolor": "#2a3f5f",
             "gridcolor": "white",
             "linecolor": "white",
             "minorgridcolor": "white",
             "startlinecolor": "#2a3f5f"
            },
            "type": "carpet"
           }
          ],
          "choropleth": [
           {
            "colorbar": {
             "outlinewidth": 0,
             "ticks": ""
            },
            "type": "choropleth"
           }
          ],
          "contour": [
           {
            "colorbar": {
             "outlinewidth": 0,
             "ticks": ""
            },
            "colorscale": [
             [
              0,
              "#0d0887"
             ],
             [
              0.1111111111111111,
              "#46039f"
             ],
             [
              0.2222222222222222,
              "#7201a8"
             ],
             [
              0.3333333333333333,
              "#9c179e"
             ],
             [
              0.4444444444444444,
              "#bd3786"
             ],
             [
              0.5555555555555556,
              "#d8576b"
             ],
             [
              0.6666666666666666,
              "#ed7953"
             ],
             [
              0.7777777777777778,
              "#fb9f3a"
             ],
             [
              0.8888888888888888,
              "#fdca26"
             ],
             [
              1,
              "#f0f921"
             ]
            ],
            "type": "contour"
           }
          ],
          "contourcarpet": [
           {
            "colorbar": {
             "outlinewidth": 0,
             "ticks": ""
            },
            "type": "contourcarpet"
           }
          ],
          "heatmap": [
           {
            "colorbar": {
             "outlinewidth": 0,
             "ticks": ""
            },
            "colorscale": [
             [
              0,
              "#0d0887"
             ],
             [
              0.1111111111111111,
              "#46039f"
             ],
             [
              0.2222222222222222,
              "#7201a8"
             ],
             [
              0.3333333333333333,
              "#9c179e"
             ],
             [
              0.4444444444444444,
              "#bd3786"
             ],
             [
              0.5555555555555556,
              "#d8576b"
             ],
             [
              0.6666666666666666,
              "#ed7953"
             ],
             [
              0.7777777777777778,
              "#fb9f3a"
             ],
             [
              0.8888888888888888,
              "#fdca26"
             ],
             [
              1,
              "#f0f921"
             ]
            ],
            "type": "heatmap"
           }
          ],
          "histogram": [
           {
            "marker": {
             "pattern": {
              "fillmode": "overlay",
              "size": 10,
              "solidity": 0.2
             }
            },
            "type": "histogram"
           }
          ],
          "histogram2d": [
           {
            "colorbar": {
             "outlinewidth": 0,
             "ticks": ""
            },
            "colorscale": [
             [
              0,
              "#0d0887"
             ],
             [
              0.1111111111111111,
              "#46039f"
             ],
             [
              0.2222222222222222,
              "#7201a8"
             ],
             [
              0.3333333333333333,
              "#9c179e"
             ],
             [
              0.4444444444444444,
              "#bd3786"
             ],
             [
              0.5555555555555556,
              "#d8576b"
             ],
             [
              0.6666666666666666,
              "#ed7953"
             ],
             [
              0.7777777777777778,
              "#fb9f3a"
             ],
             [
              0.8888888888888888,
              "#fdca26"
             ],
             [
              1,
              "#f0f921"
             ]
            ],
            "type": "histogram2d"
           }
          ],
          "histogram2dcontour": [
           {
            "colorbar": {
             "outlinewidth": 0,
             "ticks": ""
            },
            "colorscale": [
             [
              0,
              "#0d0887"
             ],
             [
              0.1111111111111111,
              "#46039f"
             ],
             [
              0.2222222222222222,
              "#7201a8"
             ],
             [
              0.3333333333333333,
              "#9c179e"
             ],
             [
              0.4444444444444444,
              "#bd3786"
             ],
             [
              0.5555555555555556,
              "#d8576b"
             ],
             [
              0.6666666666666666,
              "#ed7953"
             ],
             [
              0.7777777777777778,
              "#fb9f3a"
             ],
             [
              0.8888888888888888,
              "#fdca26"
             ],
             [
              1,
              "#f0f921"
             ]
            ],
            "type": "histogram2dcontour"
           }
          ],
          "mesh3d": [
           {
            "colorbar": {
             "outlinewidth": 0,
             "ticks": ""
            },
            "type": "mesh3d"
           }
          ],
          "parcoords": [
           {
            "line": {
             "colorbar": {
              "outlinewidth": 0,
              "ticks": ""
             }
            },
            "type": "parcoords"
           }
          ],
          "pie": [
           {
            "automargin": true,
            "type": "pie"
           }
          ],
          "scatter": [
           {
            "fillpattern": {
             "fillmode": "overlay",
             "size": 10,
             "solidity": 0.2
            },
            "type": "scatter"
           }
          ],
          "scatter3d": [
           {
            "line": {
             "colorbar": {
              "outlinewidth": 0,
              "ticks": ""
             }
            },
            "marker": {
             "colorbar": {
              "outlinewidth": 0,
              "ticks": ""
             }
            },
            "type": "scatter3d"
           }
          ],
          "scattercarpet": [
           {
            "marker": {
             "colorbar": {
              "outlinewidth": 0,
              "ticks": ""
             }
            },
            "type": "scattercarpet"
           }
          ],
          "scattergeo": [
           {
            "marker": {
             "colorbar": {
              "outlinewidth": 0,
              "ticks": ""
             }
            },
            "type": "scattergeo"
           }
          ],
          "scattergl": [
           {
            "marker": {
             "colorbar": {
              "outlinewidth": 0,
              "ticks": ""
             }
            },
            "type": "scattergl"
           }
          ],
          "scattermap": [
           {
            "marker": {
             "colorbar": {
              "outlinewidth": 0,
              "ticks": ""
             }
            },
            "type": "scattermap"
           }
          ],
          "scattermapbox": [
           {
            "marker": {
             "colorbar": {
              "outlinewidth": 0,
              "ticks": ""
             }
            },
            "type": "scattermapbox"
           }
          ],
          "scatterpolar": [
           {
            "marker": {
             "colorbar": {
              "outlinewidth": 0,
              "ticks": ""
             }
            },
            "type": "scatterpolar"
           }
          ],
          "scatterpolargl": [
           {
            "marker": {
             "colorbar": {
              "outlinewidth": 0,
              "ticks": ""
             }
            },
            "type": "scatterpolargl"
           }
          ],
          "scatterternary": [
           {
            "marker": {
             "colorbar": {
              "outlinewidth": 0,
              "ticks": ""
             }
            },
            "type": "scatterternary"
           }
          ],
          "surface": [
           {
            "colorbar": {
             "outlinewidth": 0,
             "ticks": ""
            },
            "colorscale": [
             [
              0,
              "#0d0887"
             ],
             [
              0.1111111111111111,
              "#46039f"
             ],
             [
              0.2222222222222222,
              "#7201a8"
             ],
             [
              0.3333333333333333,
              "#9c179e"
             ],
             [
              0.4444444444444444,
              "#bd3786"
             ],
             [
              0.5555555555555556,
              "#d8576b"
             ],
             [
              0.6666666666666666,
              "#ed7953"
             ],
             [
              0.7777777777777778,
              "#fb9f3a"
             ],
             [
              0.8888888888888888,
              "#fdca26"
             ],
             [
              1,
              "#f0f921"
             ]
            ],
            "type": "surface"
           }
          ],
          "table": [
           {
            "cells": {
             "fill": {
              "color": "#EBF0F8"
             },
             "line": {
              "color": "white"
             }
            },
            "header": {
             "fill": {
              "color": "#C8D4E3"
             },
             "line": {
              "color": "white"
             }
            },
            "type": "table"
           }
          ]
         },
         "layout": {
          "annotationdefaults": {
           "arrowcolor": "#2a3f5f",
           "arrowhead": 0,
           "arrowwidth": 1
          },
          "autotypenumbers": "strict",
          "coloraxis": {
           "colorbar": {
            "outlinewidth": 0,
            "ticks": ""
           }
          },
          "colorscale": {
           "diverging": [
            [
             0,
             "#8e0152"
            ],
            [
             0.1,
             "#c51b7d"
            ],
            [
             0.2,
             "#de77ae"
            ],
            [
             0.3,
             "#f1b6da"
            ],
            [
             0.4,
             "#fde0ef"
            ],
            [
             0.5,
             "#f7f7f7"
            ],
            [
             0.6,
             "#e6f5d0"
            ],
            [
             0.7,
             "#b8e186"
            ],
            [
             0.8,
             "#7fbc41"
            ],
            [
             0.9,
             "#4d9221"
            ],
            [
             1,
             "#276419"
            ]
           ],
           "sequential": [
            [
             0,
             "#0d0887"
            ],
            [
             0.1111111111111111,
             "#46039f"
            ],
            [
             0.2222222222222222,
             "#7201a8"
            ],
            [
             0.3333333333333333,
             "#9c179e"
            ],
            [
             0.4444444444444444,
             "#bd3786"
            ],
            [
             0.5555555555555556,
             "#d8576b"
            ],
            [
             0.6666666666666666,
             "#ed7953"
            ],
            [
             0.7777777777777778,
             "#fb9f3a"
            ],
            [
             0.8888888888888888,
             "#fdca26"
            ],
            [
             1,
             "#f0f921"
            ]
           ],
           "sequentialminus": [
            [
             0,
             "#0d0887"
            ],
            [
             0.1111111111111111,
             "#46039f"
            ],
            [
             0.2222222222222222,
             "#7201a8"
            ],
            [
             0.3333333333333333,
             "#9c179e"
            ],
            [
             0.4444444444444444,
             "#bd3786"
            ],
            [
             0.5555555555555556,
             "#d8576b"
            ],
            [
             0.6666666666666666,
             "#ed7953"
            ],
            [
             0.7777777777777778,
             "#fb9f3a"
            ],
            [
             0.8888888888888888,
             "#fdca26"
            ],
            [
             1,
             "#f0f921"
            ]
           ]
          },
          "colorway": [
           "#636efa",
           "#EF553B",
           "#00cc96",
           "#ab63fa",
           "#FFA15A",
           "#19d3f3",
           "#FF6692",
           "#B6E880",
           "#FF97FF",
           "#FECB52"
          ],
          "font": {
           "color": "#2a3f5f"
          },
          "geo": {
           "bgcolor": "white",
           "lakecolor": "white",
           "landcolor": "#E5ECF6",
           "showlakes": true,
           "showland": true,
           "subunitcolor": "white"
          },
          "hoverlabel": {
           "align": "left"
          },
          "hovermode": "closest",
          "mapbox": {
           "style": "light"
          },
          "paper_bgcolor": "white",
          "plot_bgcolor": "#E5ECF6",
          "polar": {
           "angularaxis": {
            "gridcolor": "white",
            "linecolor": "white",
            "ticks": ""
           },
           "bgcolor": "#E5ECF6",
           "radialaxis": {
            "gridcolor": "white",
            "linecolor": "white",
            "ticks": ""
           }
          },
          "scene": {
           "xaxis": {
            "backgroundcolor": "#E5ECF6",
            "gridcolor": "white",
            "gridwidth": 2,
            "linecolor": "white",
            "showbackground": true,
            "ticks": "",
            "zerolinecolor": "white"
           },
           "yaxis": {
            "backgroundcolor": "#E5ECF6",
            "gridcolor": "white",
            "gridwidth": 2,
            "linecolor": "white",
            "showbackground": true,
            "ticks": "",
            "zerolinecolor": "white"
           },
           "zaxis": {
            "backgroundcolor": "#E5ECF6",
            "gridcolor": "white",
            "gridwidth": 2,
            "linecolor": "white",
            "showbackground": true,
            "ticks": "",
            "zerolinecolor": "white"
           }
          },
          "shapedefaults": {
           "line": {
            "color": "#2a3f5f"
           }
          },
          "ternary": {
           "aaxis": {
            "gridcolor": "white",
            "linecolor": "white",
            "ticks": ""
           },
           "baxis": {
            "gridcolor": "white",
            "linecolor": "white",
            "ticks": ""
           },
           "bgcolor": "#E5ECF6",
           "caxis": {
            "gridcolor": "white",
            "linecolor": "white",
            "ticks": ""
           }
          },
          "title": {
           "x": 0.05
          },
          "xaxis": {
           "automargin": true,
           "gridcolor": "white",
           "linecolor": "white",
           "ticks": "",
           "title": {
            "standoff": 15
           },
           "zerolinecolor": "white",
           "zerolinewidth": 2
          },
          "yaxis": {
           "automargin": true,
           "gridcolor": "white",
           "linecolor": "white",
           "ticks": "",
           "title": {
            "standoff": 15
           },
           "zerolinecolor": "white",
           "zerolinewidth": 2
          }
         }
        },
        "xaxis": {
         "title": {
          "text": "Real"
         }
        },
        "yaxis": {
         "scaleanchor": "x",
         "scaleratio": 1,
         "title": {
          "text": "Imaginary"
         }
        }
       }
      }
     },
     "metadata": {},
     "output_type": "display_data"
    }
   ],
   "source": [
    "z1_conj=np.conj(z1)\n",
    "z2_conj=np.conj(z2)\n",
    "z1_inverse=1/z1\n",
    "z2_inverse=1/z2\n",
    "plot_complex([z1_conj,z2_conj,z1_inverse,z2_inverse],name=['z1_conjugate','z2_conjugate','z1_inverse','z2_inverse'])\n"
   ]
  },
  {
   "cell_type": "markdown",
   "metadata": {
    "id": "gjPVdnvuKD06"
   },
   "source": [
    "**2. Complex Exponentials**\n",
    "\n",
    "Now let's work with complex exponentials. In python is very easy to work with these type of signals:"
   ]
  },
  {
   "cell_type": "code",
   "execution_count": 41,
   "metadata": {
    "executionInfo": {
     "elapsed": 12,
     "status": "ok",
     "timestamp": 1702317970079,
     "user": {
      "displayName": "PEDRO RAMONEDA FRANCO",
      "userId": "10653804143244385715"
     },
     "user_tz": -60
    },
    "id": "kjkqiEqriy6R"
   },
   "outputs": [],
   "source": [
    "A = 0.4\n",
    "f0 = 457.12\n",
    "fs = 44100\n",
    "phi = np.pi/2\n",
    "t = np.arange(0, .1, 1.0/fs)\n",
    "x1 = A * np.exp(1j*(2*f0*np.pi*t + phi))"
   ]
  },
  {
   "cell_type": "markdown",
   "metadata": {
    "id": "uUmIGLWyi9Wg"
   },
   "source": [
    "Now we can plot the real and imaginary part of this signal:\n"
   ]
  },
  {
   "cell_type": "code",
   "execution_count": 42,
   "metadata": {
    "colab": {
     "base_uri": "https://localhost:8080/",
     "height": 542
    },
    "executionInfo": {
     "elapsed": 1589,
     "status": "ok",
     "timestamp": 1702317971655,
     "user": {
      "displayName": "PEDRO RAMONEDA FRANCO",
      "userId": "10653804143244385715"
     },
     "user_tz": -60
    },
    "id": "3qRWzLQ4i86e",
    "outputId": "74ecce8b-bb7c-4a29-ee26-1b8a35492cfb"
   },
   "outputs": [
    {
     "data": {
      "application/vnd.plotly.v1+json": {
       "config": {
        "linkText": "Export to plot.ly",
        "plotlyServerURL": "https://plot.ly",
        "showLink": false
       },
       "data": [
        {
         "line": {
          "color": "#1f77b4",
          "shape": "linear"
         },
         "mode": "lines",
         "name": "real part",
         "type": "scatter",
         "x": {
          "bdata": "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",
          "dtype": "f8"
         },
         "y": {
          "bdata": "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",
          "dtype": "f8"
         }
        },
        {
         "line": {
          "color": "#ff7f0e",
          "shape": "linear"
         },
         "mode": "lines",
         "name": "imag part",
         "type": "scatter",
         "x": {
          "bdata": "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",
          "dtype": "f8"
         },
         "y": {
          "bdata": "mpmZmZmZ2T/6Kf6itIvZP8RqQNQUYtk/B9g+XOcc2T/fBpZSd7zYPx5vHWYtQdg/RE1Fa4+r1z8G9tDKP/zWP9xMi9H8M9Y/rru04Z9T1T805wqHHFzUP/1Eam5/TtM/E4woQu0r0j9RlWRsofXQP+8JSYHZWc8/j8prHGimzD+oKbk53dPJPwzu6SpJ5cY/EDKHsNrdwz+nwYCF28DAPxQo9ZpZI7s/8GRi04antD8UycHhkCqsP0dheRkCz50/NARc3TdEaT/9mffJYYGXvxjcZ1njCKm/+lAke/Qas7/qxQ4pupy5v8I2YEJZAcC/ImsvxfUiw79cTfh2zC/Gv2xGOr6NJMm/1WkCJgT+y7/oQZzZF7nOv7j1DABpqdC/tD0H+i/k0b9rQ/4piwvTv3amEvQ5HtS/vaNJLRIb1b9bSjZfAQHWv2hH5/ENz9a/dOLVOliE17/rELBvGyDYv6AU9nuuodi/U8SDuIQI2b9UQz6ELlTZvz9tQL1ZhNm/zWwCGtKY2b/sthtigZHZv8zNYYZvbtm/NJ1JmMIv2b9dy5SgvtXYv4jZd1XFYNi/pD6JsFXR179anuxkCyjXvyu6TzaeZda/H5NwMeGK1b+GQwXHwZjUv/w//slGkNO/BcY6Uo9y0r8XKeWE0UDRv0SMkoey+M+/ICElig1Nzb/FjvEpmoHKv5Cs9AVhmce/+S+z+ImXxL8sDU2rWH/Bvyg0wxRSqLy/HTw6Qdcytr/9QZRrh0qvv7tGwuhoDaK/ahDpcsfygr/5L6wgUzKRPyiBU6Gv5aU//ztkXTiNsT/DpzyHixS4P6ocexW7gb4/ssyRl+Zmwj/omL/29XjFPzAY0GO2c8g/ap5p5+tTyz8KWxFadxbOP7dC0+MsXNA/pLH011ub0T9gOUMQbsfSPyPlo9Id39M/KBaehTvh1D8bGer5rszVPywLlZp4oNY//elvgrJb1z/kppx1kf3XP2xaKr5lhdg/CR/R6pvy2D+niP5uvUTZPzz9hCNxe9k/pD5ip3uW2T/eGDSgv5XZP0U9Fdo9edk/eLS/RhVB2T+A1/Xbgu3YP1pGVlHhftg/XrDivaj11z8VU6QVblLXPy2w+4fildY/1f1Kv9LA1T/zGMwCJtTUP80hgzvd0NM/i0de3RG40j/jerG19IrRP92qWaDMStA/GmbdSerxzT+VPAr7uS3LP+F7MhEJTMg/sGanT/hPxT9AptgaxTzCPxehDOiLK74/Bexgs828tz/qKmYhSzSxP3qXWmg3MqU/nbMlm1mTjz9R9iPjcMSFv+gcE6AmwaK/EslOYtX8r78QEPmV5Yq2v4zANS3o/ry/lOO8mripwb+qKe3L0MDEv9xxse5hwce//Naxuymoyr9ipVTpAXLNv7jje8vxDdC/i94IS3VR0b8biNRGLILSv4YPXfrLntO/jtIncB+m1L90QyHRCJfVv8di5JqCcNa/+P6Yu6Ax17/blTSSkdnXv8CuB9KeZ9i/waqgSC7b2L94PS2FwjPZvwndpGD7cNm/hFooZpaS2b/AViUbb5jZvx1F7yZ/gtm/igCjWd5Q2b9ueE2SwgPZv4iEcYR/m9i/4lksXYYY2L8bQVtIZXvXv0TpR9bGxNa/tdyCQnH11b8gErWcRQ7VvwQuUtQ+ENS/P6U0qHD80r9Jb0t7BtTRv/Mwng9CmNC/b0sRUvSUzr+Ez1AyMtjLv9DzIWw2/ci/a/3hehoHxr+HidFLFfnCv9eOloHvrL+/CPibLVJFub87H4RoRsKyvxzq9Iu7Vai/Qyvn0P8Ylr8PudSD0EVyP+KZ+KHyNp8/AEY1fEfdrD98xZdM4P+0PyIp51hRers/NGU1U3frwD8vZY4saAfEP4T4SDqbDcc/XerZF8j6yT81SZ+KwcvMP83KovR4fc8/i78Q04AG0T/kUR8FyjvSP6u3t1VIXdM/VKsshsFp1D+30QUpEmDVP6nkV94uP9Y/+9kAdiUG1z9a+Yz2HbTXPyyCp4dbSNg/emUYPz3C2D//jnDPPiHZP1Eipxf5ZNk/JMcLkyKN2T9kgBSpj5nZP1RtsNwyitk/UBbs2hxf2T9oYNdofBjZP+XNwDCettg/CCj9buw52D9o55V+7qLXPw2JW0ZI8tY/dU37hrko1j9AgtkKHUfVPwxIkrhnTtQ/p6Eiiac/0z/tXtpiAhzSP4f+VNq05NA/mqyntSE2zz9sDt1u+IDMPyjYT03erMk//UEaVOW8xj8O4jPHPbTDP0t7Y7UylsA/MCU3ykzMuj9hUkZQHU+0PxhvHWjEd6s/slFNa/pmnD/l8aIodvlbPyzyYIKx6Zi/L/svtve7qb9sitC3k3Ozv4C5CUEO9Lm/F6xCVi4swL/oAGJix0zDv5frizhtWMa/WRwsitFLyb8gORtdwCPMv318tIUj3c6/nDRIAIO60L+EwiCUS/TRv0KNy+GWGtO/826KdCUs1L/eYT5azifVv4AZvWWADNa/s2VZV0PZ1r+qelzqOI3Xv+GdS8adJ9i/hE30Usqn2L8kuFhuMw3Zv1oItwNrV9m/PZQHgyCG2b/YOnA4IZnZvykCToNYkNm/ZjeZ7M9r2b9cw4scryvZv+3ulK870Ni/q1LJ6thZ2L+T9iBQB8nXv2mb+BJkHte/6Jhtbaha1r8vjE3XqH7Vv3wXdB9Ui9S/ig2RaLKB078XbHAK5GLSv0ti+1ggMNG/FUOMpGjVz790qzJqAijNv4w3/wL2Wsq/s2/uyU1xx79OufwnM27EvzEuiSXrVMG/7/B4u6VRvL949puvt9q1v3i4dyghmK6/u4XMLJ1Zob/LxuxLDyGAv5usQBnsmpI/qp5W2RaZpj/ZSEj4F+axP1+rKqg2bLg/RGF0ktLXvj9vEyjK+ZDCP36OT/HiocU/25eZuVCbyD9vcEWbCHrLP0VKGw3tOs4/yuISc4Bt0D+bRSNOtavRP/AyEK671tI/xJ99+07t0z/0/7nRQO7UPxuu/UZ62NU/J3wtG/2q1j9Fx9fL5GTXP1Z5QIxnBdg/s7ZuINeL2D8NcE6aoffYP+iKGPhRSNk/DK5Vo5B92T800vHPI5fZPxlj+brvlNk/TNa7yPZ22T+gATOCWT3ZP7gCsnFW6Ng/vA0C30l42D+71DZrre3XP3RCp4wXSdc/O9yZ6zqL1j8jElag5bTVP6gDbVMAx9Q/NI8sQY3C0z+f0U4hp6jSP6tdFvR/etE/Q0wktl850D/Fa+H4Rc3NPyca0PNyB8s/xy+Q4EgkyD+0j9sb6ibFP87Vs3SVEsI/AI8VTUXVvT/QqLlw/WS3P2XgW4lQ27A/xcLIua5+pD8g4wRw9MGMP1/eOWwJloi/PjIsx9V0o79nBBlBhVewv5y+d2ni4ra/MAqUwWdVvb+d/fDSCtTBv8g8nYEH6sS/6GoUZVDpx7/qiE6apM7KvwT/Dmvfls2/CRi0230f0L9nr3qeC2LRvzr1Hdy6kdK/zP1m7kGt0795wnoQbbPUv5Zb76wfo9W/alC2klV71r+aqIwPJDvXvyspvu664de/qjEnW2Vu2L/f5H+jiuDYv2KJG+CuN9m/7DZoeXNz2b/N0JyOl5PZvxTYJTz4l9m/UaOEwZCA2b+I33eGek3ZvyHBZ//s/ti/LNQzcT2V2L+6w6OU3hDYv3KR3xlgcte/tmp2DG661r8na50Y0OnVv2QDcbJoAdW/2U0kIDQC1L8PJCloR+3Sv2s2eiTPw9G/1ZNNPA6H0L9NpiMLuXDOv4qzZJ9Kssu/oMhvssvVyL940eJjV97Fv7IVzRYmz8K/el+g5RNXv7+P15CS1u24v8KzzMSJabK/DZL12ICip7/DWAivjLCUv7DLieh26Xc/by+ldmVPoD+YXrGs54+tP1BmS3cpWLU/LMmEwDPRuz8XNWv9BRbBP34zBRvmMMQ/wgjoYts1xz+trXnJniHKP4zXdpwE8cw/HHIL9P+gzz+7XD8BUxfRPxhnbZ+YS9I/fuaPMwJs0z9tLV+rVnfUPwCKItdzbNU/EYWvpE9K1j9pvztA+Q/XPxPoxxmavNc/AgYIznZP2D9RRMzx78fYP3xzDb+CJdk/j2fhosln2T/YG72rfI7ZP6bsjNdxmdk/kyFOQZ2I2T+qSPgtEVzZP4ReqPj9E9k/YEoj3rGw2D8wqOinmDLYP0URMjc7mtc/zeRd8D7o1j+32WYHZR3WP947K66JOtU/tHtnJaNA1D89hWexwDDTP7UIkXMJDNI/t1UGKrvT0D9cF3utURLPP+oNBZ9yW8w/QPXlcMuFyT9nGzfVb5TGPwS45JCRisM/b939A31rwD/t3EUqK3W6P+YP6wek9rM/IrofmuLEqj/C/wav3P6aP7aw+nWbqTU/Sq9Y4u1Rmr9n8T0X+G6qv/yRt9kjzLO/Fb28MU5Lur9H/S/b9lbAvyYb8AKKdsO/QmMQoPyAxr8++nmxAXPJvz3VTbpmScy/fHRcOhcBz78iTAgDkMvQv1/oFT1ZBNK/cI3tw5Mp07/UYOpKATrUvxywrxl6NNW/avQpTe4X1r9n5bD+ZuPWvyI9ClAHlte/3UEqWw0v2L9+0q0E063Yv4x/KbDOEdm/A/aJ1ZNa2b+TleN204fZv8tQMXZcmdm/RMOlyhuP2b/EnVSVHGnZv5r6HRWIJ9m/ZLfoeaXK2L//bVyX2VLYv3ftbnemwNe/bgE8zaoU17+lwsBIoU/Wv6htNcxfctW/zLvhg9Z91L9LwmfhDnPTv4BXoHsqU9K/aMRB1GEf0b9l+EsJBrLPv7goQabgAs2/dFTcZD00yr8oS71ZKEnHv/iZ43nMRMS/L4djKnAqwb/8yaRk4/q7vzFVjCWHgrW/BU+BI6Plrb8Vl8/3w6Wgv2VbPD2Vnnq/p+JMn3YDlD+8QxSFbEynP58bD63pPrI/vEoX0s7DuD+VMx4c0i2/P6hd75H+usI/tKKPH7/KxT9cTc7z18LIP/9dBfkPoMs/rVerRktfzj9WN6RAx37QPwsYiwsBvNE/yxLjqvrl0j+iEwurcPvTPyFyA901+9Q/KyxdnTTk1T8BN5oBcLXWP+3At+oEbtc/OmC4+yoN2D84kSJzNZLYP0psh+aT/Ng/jARG39JL2T8jReFXnH/ZPzw/YBm4l9k//4xT+AuU2T+4jD3xm3TZP8SdPiSKOdk/9BEKsBbj2D9ACUxsn3HYP0/Fy4Of5dc/IAi57q4/1z/InrXNgYDWP9MpTqbnqNU/72C2gcq51D/UWb3uLbTTP2iVDegtmdI/PKrqn/1p0T/RKrsy5ifQP7B6kYOKqM0/d2p07xbhyj+ARsfwdfzHP5eFPXvL/cQ/UZDlxVfowT+NuJSH5369P7hedwMbDbc/Bodd2kiCsD/bqQchFsujPx97JPB48Ik/dFHU3Y5ni7+v/4XSdSikvzMCbiCTsLC/CCtjd806t78dAbOO0Ku9vwNODDNP/sG/IIPC+S0Txb8zlhtKLBHIvzAw5qcK9cq/graz8qW7zb9Kr9Fm/TDQvxc6WXKUctG//HgCBjuh0r86YeGaqLvTv7uEqZ2qwNS/o553uyWv1b+ZyF0VF4bWv+uCZFmVRNe/IYfPv9Hp17/geJPrGHXYv3TOCK3T5di/nJgIpoc72b+WBMHO13XZvyxpsdqElNm/Pz9gfW2X2b8ucYCOjn7Zv73DXg0DStm/dqCTAwT62L8MERlH6I7Yv+ggCBwkCdi/DPdjtkhp1788pnucA7DWv7XNjeod3tW/6X96eHv01L90Z3DiGfTTvwGkoXUP3tK/ajIrAoqz0b9/zXaTzXXQv3rQ9SBmTM6/DCmtik2My7/Aeb+vTa7IvzTnoVGDtcW/rTqyRiilwr+9mYnzHwG/vw0n3JtHlri/Eh7m1L4Qsr9+7pbLM++mvysqQXwJSJO/jCvFuwqNfT9ecwDyRAOhPy31gOhwQq4/2+TuDmKwtT9YO1aOACi8P4QzFmOHQME/YGizW1RaxD+krIWFCV7HP0WxbzBhSMo/KiADNTEWzT+Ef+xjbsTPP8OQ4OkXKNE/CYHMBFlb0j8Pa4P8rHrTP9pVFuzbhNQ/Ao5t4sR41T81CO4bX1XWP88S4CG7Gdc/12BfzgPF1z/UQ7ozf1bYP+rrRGaPzdg/3prFJ7Mp2T8ntb9zhmrZP1pnBezCj9k/AgYaJUCZ2T+NPRLS84bZP/Nxws/xWNk/uCovD2wP2T8N81ZfsqrYP5qGkBYyK9g/+FTbm3WR1z8gMaPQI97WP3hBmlv/EdY/TNNt1eUt1T9/bjvYzjLUP+RCy/LKIdM/ebOzgAL80T+PJKdotMLQPziBkoRp7s4/ZfIGytY1zD/2+9LCpF7JPyBXq83oa8Y/WNj1LdZgwz9TM3qSukDAP98yyv70Hbo/z10EPxuesz+Fv7AC7BGqP2UkSvyplpk/pqw5oqwkUb8ATSPSFbqbv9/ukfHjIau/IegTnKQktL99YWe3eaK6v/8/76+ygcC/xC1shj2gw7+guQaOeqnGvy+ntRUemsm/fc1dIPduzL+EP6nb8iTPvxOxD/uP3NC/Ym1v6FgU0r+C08DEgTjTv0F/b2zNR9S/7bPGYRVB1b/A0JwMSyPWv9ouDuB47da//JAIZcOe17/szoUoajbYv8okc4zIs9i/R2FielYW2b+M+kL3qF3Zv8Owgpdyidm/C64X04OZ2b946xg5y43Zv/fYrIJVZtm/J7s5hU0j2b8QveYD/MTYv0suoGDHS9i/cqr0LDO4179ozEOb3wrXv8512dCIRNa/rmyyGQZm1b9SAcj+SHDUv7hr4D9cZNO/D3sAsmJD0r8I57gDlg7Rv3rpS9GKjs+/NRImW6jdzL/iTJptcA3KvzjwjdTwIMe/OPiNDlYbxL+BzNja5//Av6empVMLpLu/45yG50Uqtb/NnEvnDTOtvwBO56q745+/HubrNvf6dL+Eq9ia8WuVP+tiShmw/6c/p0nANq2Xsj+0lv3AUxu5Pw3xsG+5g78/NMBGzvTkwj+UO8VhivPFPwVhvPNL6sg/baMh4wHGyz+q4YPqkYPOP6jUHD8BkNA/pLKEAz/M0T+AE+X6KvXSP7wGU9aCCdQ/aqdqnRoI1T+/Lu3z3e/VP6QavkXRv9Y/Csj51xJ31z//D/292xTYPwHtU7GAmNg/nMOky3IB2T+rfc4hQE/ZP9wWkT+Ugdk/tF86gziY2T8sc/NYFJPZP9J/blUtctk/tu7XL6c12T9qexGbw93YP6FSYf7hatg/UqHiDX/d1z9M/idDNDbXP2Kfoja3ddY/di+D2tic1T+zQuqXhKzUP1+YXk+/pdM/BpGePaaJ0j+XOwDGbVnRPxcTsCNgFtA//JlzBriDzT/0rMALprrKPxNixGCQ1Mc/Hnu7jZzUxD/b8DovDL7BP+DsmtpyKL0/HarYrya1tj/ec41ZNCmwPwdQjSluF6M/u4HES+kehz/Po6sH/ziOv2q5pDYG3KS/MTr/CZQJsb9/BXZ7ppK3v41FeVEiAr6/SYc8moUowr8Es2gURDzFvx5d0371OMi/YoKnxlsby7/QK7RjVeDNv7wtPl9wQtC/FpjNuQ+D0b8gsni4rLDSv4htnfT/ydO/LAZsDdjN1L/M22PzGrvVvzefgBrHkNa/onfLkfRN17/NpCD/1fHXv1BWGH65e9i/abwgYQnr2L9et/fTTD/Zv+DH014oeNm/LN+tSV6V2b+ASUDfzpbZv7H4cY94fNm/e9II8XdG2b8NK6GiB/XYv3cbDAuAiNi/JMdZ+VYB2L/6uPckH2DXv0Iqbo6Hpda/oBNpwVrS1b9IO9v4fefUv9rsKSbw5dO/AXNv3MjO0r/XuAAhN6PRv3aEfyKAZNC/D6O8r/snzr+19qkRO2bLv6e3u4K8hsi/hYzTY56Mxb83eRz8G3vCv3XiEO4Tq76/67V7jaU+uL8Eh8Pd5bexv5VbFO/UO6a/3x+EUHffkb8zl0bOQ5iBP/AIYTcXt6E/4L4ApeL0rj9MuQDPiQi2P+x39H63frw/DbI0Y/tqwT8I/GzOsoPEP6Bw7oIlhsc/r/SiLg9vyj+sQGY3RzvNPzyFwijE588/lM3uf8840T8wXQEpC2vSP82VLqVIidM/mGPSPVGS1D8TclZBBYXVP5C5fDtdYNY/tShaE2sj1z83+8oNW83XP40tSLN0Xdg/EZYkmBvT2D9IRFgG0C3ZP3bXIYgvbdk/A1LnUvWQ2T/GY+KR+pjZP7QdR5A2hdk/IU23wr5V2T+IPPivxgrZPwkiBLmfpNg/kfGzwLgj2D8UeGGznYjXPwJmBO/209Y/YSpvjIgG1j/iAHKKMSHVPzVDy9vqJNQ/er/rWMYS0z8Ba7SW7evRP1gbcKOgsdA/PN3PVmnKzj/k/hYNJRDMPwzLfWFqN8k/w2/vXFBDxj8hMM++CzfDPwivDILrFcA/1wJ9i6rGuT8VB1I6g0WzPxSxyCzhXqk/uL/KamMumD9ARANp2dljv6wpFTooIp2/YBE8urrUq7+w/Su6FX20vxUSWY6Q+bq/eWRRs2GswL/+aHTM4cnDv+SD/eLm0ca/R0CAmCbByb8FwR9ycZTMv/Ckwk22SM+/3vgq24Lt0L/p7MCJSiTSv/J8rdhgR9O/u/9izolV1L/4W7kooE3Vv7n2QpuWLta/5Hef83j31r/UFY8ibafXv86rpii0Pdi/cKej5aq52L/ywX7JyhrZv/pNfWaqYNm/XIqi4/2K2b+gwQRPl5nZv3DVrM9mjNm/oBPKtnpj2b8wqCdw/x7ZvwiL9FE/v9i/JkESTKJE2L/CB0J3ra/XvzzjqoQCAde/82RVDl851r8FrVvJm1nVvxQUrZqrYtS/j9Fkj5pV07/F1tG5jDPSv2m1a/S8/dC/UHEZGPdqz79EXsilWbjMv59VWjuP5sm/yRybWaf4xr8IMy4G0PHDv4sM8FdS1cC/LE3ryx1Nu78nChM69NG0v0Q/g/5hgKy/n97VotZ7nr8Q59PLka5uvznb9/Nb1JY/oAHFCuGyqD8CaG5QYvCyP2yK5zDFcrk/SsR3SojZvz8Gm5he3A7DP0jjQphEHMY/pOnAmqwRyT+lJSM83uvLP0qYedzAp84/KEEcYS6h0D+tT3Mpb9zRP2fVSpJMBNM/h0tocoUX1D9cgewI7xTVP5+En0F2+9U/YbeJ3yDK1j+E7pWMDoDXP9u9Fc15HNg/FZ4f1rie2D8cN95FPgbZPzS/CL2ZUtk/ktfdWHiD2T85fBwNpZjZP69emd0Iktk/XCgy96pv2T8gkAOosDHZPwq36jZd2Ng/GMF9mhFk2D/R8MoPTNXXP5GEUJGnLNc/wRbCLttq1j9CHVJGuZDVPzw6V6Aun9Q/IENFbkGX0z+r+RAuEHrSP+9rM3PQSNE/e4+els0E0D8ltB+ezl7NP3CVjmYglMo/6pqCT5isxz/IS1BzXavEP1Hdi9Gyk8E/DMVKiefRvD99DSq6IF22P2/gL5gmoK8/Kq/bXrdjoj+kdzSzR02EP5tZxNwrhZC/xLUYaIaPpb/rm6+4h2KxvywCeTFt6re/MlvfxlxYvr8BN7rnrVLCv6w3qLFJZcW/R6xW5KtgyL9wdtHYl0HLvy2rk6HtBM6/B9xst9ZT0L9HaAtofZPRvzR6gucPwNK/DT148EfY0798t4ZV9drUv4/1akv/xtW/az3SmWWb1r8teHqxQVfXv6vid6bH+de/T1uQDUeC2L/TBry7K/DYvyVp+2b+Qtm/3lzUJ2V62b8MW+naI5bZv4ciQWIcltm/VeP3xU562b/ZcDY02ULZv+CEb+D379i/uaIGwgSC2L8Eiqcyd/nXvyY8uGzjVte/LDRy6vma1r8Ve1GmhsbVvxCLqT1w2tS/XFhQ9rbX07/uPm+oc7/Sv+XLp43WktG/F0zX9iVT0L8dPL/TeQPOvziB61ETQMu/aBIeShhfyL9IJjm6qGPFv/CSslcBUcK/kIoHGPBUvr+6IXyr8Oa3v1b8YiT/XrG/ZwO3zmSIpb/cXc9D13aQv3X//JT0aYQ/8yIku9tqoj+/qJ9XPKevP/F0DHOgYLY/5HEJT1jVvD+mZs/cYZXBP9UtElMBrcQ/YPn8Oy+uxz+YUAqmqJXKPxDi04ZGYM0/e56Ok4AF0D+b3W62eUnRP7vK2/+uetI/+XQ5ItWX0z/f9R+Wtp/UPxy9Weo0kdU/b1vS+klr1j/sQyQNCS3XP+ijkNGf1dc/+WFKR1dk2D94cRyDlNjYPx7bk1fZMdk/Ou723cRv2T/87XTfE5LZP9QMHB6hmNk/6oJGfWWD2T/M3VIJeFLZPwQon94NBtk/8RDi73me2D9YqiCsLBzYP052ooSzf9c/bEVoU7jJ1j80icyiAPvVP5pBFddsFNU/g0rgOvcW1D9qanLvsgPTP+cSEMLK29E/jQSk53+g0D+YxSdAUabOPxx4eoVd6ss/1Y1caxwQyT9UZYmiphrGPxhc5GMyDcM/cqLm5x/Wvz/84yYUTG+5P2Grnz7c7LI/D4Zvo8KrqD9BOkwSCsaWPwKKuRZNIW+/9FqTAiSKnr+X1lzme4esv1RnUu921bS/50nxcpJQu789TjHEA9fAv5vQsrR288O/1AORf0H6xr9yVIobG+jJvyxxeZLVucy/rTTjdGFsz7+g4zCWaP7QvwjpqBQuNNK/qD4n9DBW079DUhpmNmPUv8BnymQaWtW/ywdX8NA51r/myKAxZwHXv9ep44EEsNe/PtnjVetE2L9Aoq0Ler/Yv9kmCZorH9m/4nPjIJhj2b/2LBBadYzZv0lq6emWmdm/hkR2j+6K2b83yeMzjGDZv2yNP9mdGtm/aJyGaG+52L9w+j5faj3Yv5ws9VwVp9e/2BEakRP31r+4r98JJC7Wv8E51eQgTdW/OnMjYv5U1L8lbWrbyUbTv+BtYJ+oI9K/E2Nvs9bs0L808lT5SkfPv8VtIKP0ksy/XVhN7Jm/yb9ZgC0ITNDGvy3JAoE6yMO/HZW6wq+qwL8dMPYQG/a6v8acxmGSebS/cnLm85/Nq79KnuLu2ROdv/8siVYdZ2O/k0DLkrQ8mD+Pj17O/mWpPypEN7UISbM//0bu3SLKuT/3a+g0nxfAP9SzWiK1OMM/JGBoo+1Exj/AA0jK+TjJP4iIo+akEcw/WI9zANjLzj89AEyZTrLQP6flxHCR7NE/NWZUZV8T0z/HyWl0eCXUP96PkhWzIdU/6TZzff0G1j90VfvGXtTWP1BskgH4iNc/YCQYIwUk2D8aTbHc3aTYP4ybelH2Ctk/H9Vart9V2T/4nE+iSIXZP1JMsrb9mNk/ZAQVh+mQ2T8cV3vYFG3ZPzVR1Y+mLdk/JDvHh+PS2D8e5etFLl3YP+Wf4o8Gzdc/JPmc4Agj1z9pyYK+7V/WP3j1JPOIhNU/aVBYpciR1D9NK7JWtIjTP9cxf8VratI/ggxrtCU40T90u1cyXebPP29+P2fOOc0/hPfHHYZtyj8IaAvcjYTHPz1iA0wOgsQ/DfG6zUtpwT/PbNjWRXu8P2q9xWYJBbY/tQlm7svtrj/jNYBM8q+hP5ru0VaWe4E/MkijYcvtkb8H537b9UKmv59WbOdtu7G/+AhDVSFCuL+K3++rf66+v8XayPrHfMK/EkumsT6Oxb+4Cs9bT4jIv69bs8C+Z8u/WIfnj24pzr/Qz9phMGXQv9DYUHDdo9G/l/Ash2TP0r++11qDgObTv3eUymsC6NS/nOhQutLS1b8QpxOL8qXWv6SDOLF8YNe/YhGqr6YB2L+I3OSUwYjYv68M3rg69di/lGo1XJxG2b86+wUojnzZv0Zyyo3Vltm/KGTtBlaV2b+/OMAzEXjZv6VBt9kmP9m/uN7swNTq2L8bIRFxdnvYvyS3Ds6E8de/4P3QlJVN179pqLm4WpDWv3BrdqKhutW/MWAIUVLN1L/FI+9dbsnTv+MNieUPsNK/+g/YVGiC0b9gmvcdv0HQvx/pVqng3s2/wK8SadYZy7/g5a4kYTfIvy4YoXSiOsW/D2wmetgmwr8EaFG0tP69v3+q+Dkpj7e/cjzN7QoGsb/ihNX149Skv2SRV9xUHI6/GnOcgZU7hz/TorHxkR6jP5Or77q+LLA/oO2qtqW4tj/tSlC74iu9P+OJ+a66v8E/kpiPyT/WxD/FGZqRJtbHPyyNrHgtvMo/akuRBi+FzT84z8+hEhfQP5vtb4AWWtE/17M2fUSK0j/c31doUqbTP9USmOoLrdQ/1u8A1FOd1T/fLnNRJXbWP1WaxgeVNtc/BKJEE9Ld1z8oMWjqJmvYP7Kk7CL63dg/o/lVGM812T84bj1zRnLZPwy4z5Aek9k/bncMyjOY2T+UkXmagIHZP2RuIKYdT9k/sJrOnkEB2T/Q1bYIQZjYPw4As96NFNg/NXyKFrd21z9LVcMFaL/WP/iZpqdn79U/ttBBxZcH1T/J+k8A9AjUP4gxFMKQ9NI/1V1OD5rL0T9ivI9CUo/QP+VkoVwhgs4/HJCHUIDEyz+Ao/T+uujIP8KjDL7r8cU/n420PUrjwj8wlesSUIC/P/L5n9zZF7k/FobEkCaUsj/Hc7zxkPinP3uUoAqfXZU/7OcITFQ0db8lfhQUCPKfv++FJesmOq2/9Bnm9scttb84x58hf6e7v0Pxc8GYAcG/31vdHvwcxL8NPGtEiiLHv0f7k4D7Dsq/rN9hZCPfzL+QWlg19I/Pv9lmAh9BD9G/lNTQfANE0r8Fba0L8mTTv/wp9yjTcNS/gW9JDIRm1b/yBSED+kTWv1QEXJJDC9e/bG5afIm417/39aKqD0zYvz9GDvo1xdi/ojib6Hgj2b98PS8kcmbZvxYKqPnYjdm/iPbFo4KZ2b/MY5l5YonZv2HEQPyJXdm/HlzowygW2b+yVyBMjLPYv3VQwZ8fNti/7oi65Gqe178NA0jIEu3Wv9DcMMzXIta/eP3PdZVA1b+B6MlfQUfUv95fci/qN9O/Az0Db7YT0r+wYuNN49vQv/++sZCGI8+/EPA3cHltzL+k3LOekJjJvziim//ep8a/UEFWn5Wew78i2lM8AIDAvwczV2YDn7q/PONCoyAhtL/vlkRSyBqrv3KDl6bGq5u/54dNoDM/UL8KeIFf+qSZP093ANkIGao//xNEIKChsz+nRjqEbCG6P1PGlsVtQsA/wUwO+X5iwz9SzqJjhW3GP2HqzGMzYMk/akdNxVU3zD+nWWs61+/OPzScX9phw9A/OjDyzKX80T9dTE1oYyLTP+CGgtFbM9Q/8BlzuWYu1T+8j3SecxLWPxn7HvSK3tY/lKUDMM+R1z8EiCi6fSvYP5h7Q8Dvqtg/LN3P6poP2T83EDrzEVnZPzHffRoFh9k/v/a2f0KZ2T9phEVWto/ZP0szTPtqatk/MjJw6ogp2T95eeeRVs3YPyoEBQY4Vtg/jPmVlK7E1z+Qs4U4WBnXP37/YO7uVNY/Mbty6kd41T+R/FSxUoTUP6Ty8RMYetM/G8AOELla0j9/WZiWbSfRP/jIDXIGw88/32KOfrcUzT/fqmZP10bKP0iHdiVxXMc/VZ7oN69YxD9uXrVE1z7BP9BziQaOJLw/GWkT+uCstT/ggzxAWTuuP0d2E34f/KA/J0YNzq5TfT+WImr6XFaTv7Q/gQVU9qa/QxwtUUYUsr/qb7miwpm4vxi9x72KBL+//v+2stOmwr9PDpX0IrfFvwi1dMbfr8i/3O+sYNCNy78HLFcS2E3Ov2L4DlF9dtC/27DmxS+00b9zg5CLqt7Sv7U+OqKp9NO/PiwVRv/01L9c1OY2ld7Vv1aCE+ZtsNa/1avaiaVp17/IdpoUcwnYvxz2DQ8pj9i/PDaZVDb62L/0s9awJkrZv503u12jftm/BijHYXOX2b/TFd/Ne5TZv3VdiNq/ddm/6SJq5GA72b/MchZInuXYvwTYQh3VdNi/ZBC70X/p179cjnukNUTXvywNhAGqhda/lGwUv6uu1b+kPic9JMDUv2i/HWgWu9O/LzOwn52g0r/VwlOD7HHRv/u8Y6VLMNC//w/vTDC6zb+12tB0hPPKv/8+RTGXD8i/+armsosRxb839DSEofzBvxSU5AViqL2/k/cafU83t7/BeRV/Ca2wv5Ns0+9SIaS/hV5Yz+NKi7+wEshjJA2KPzuAfE850qM/7z+qutKFsD+7fYJVmRC3P9CGlYBWgr0/w+/QuAXqwT/RU94Rbv/EPyzsvGQL/sc/vX2giJ3iyj9ofPWZAKrNPz/5fzGYKNA/JZcL0aVq0T+KJ/iUy5nSPzl9SWzAtNM/ojDgMFG61D9sjOL0YanVP6z58DbvgNY/MFzX+w5A1z/0m4nM8eXXP4CgV5fjcdg/21Fkc0zj2D9Ra4tFsTnZP8giA0a0dNk/HZgoZhWU2T8HiQiWspfZP2/QWOmHf9k/ao66m69L2T/uWED0YfzYP7heVwj1kdg/QcxVXtwM2D+g4RNwqG3XPxDZFw4GtdY/w9r+o73j1T8cn+5esvrUP1Tn+zbh+tM/uXuR3F/l0j/IwgGLW7vRP+wkisEXftA/rGBWyNldzj8gTaWLjZ7LP8GH2jpGwcg/vOoZzx/JxT9YdspsU7nCP23MysdnKr8/Er3PKFTAuD+CQaN1YjuyP62U1aJMRac/9IOnayP1kz+3AXiV8dd6v1/dkKvprKC/P5HYPbvsrb+tklKMCIa1v93D5FZW/ru/BGYIiiAswb+oBLbqcUbEvzQLRBLBSse/V+hsqcc1yr/qW+HKWgTNv7x2gnNus8+/creKaAwg0b+UHO21ylPSv70FyxOkc9O/FYVnDGB+1L+V65IV3XLVv2hZ9soRUNa/oesoDg4V17+xzVUL/MDXv6hCWCEhU9i/brBRrN7K2L++xd2xsifZv/LKKW44adm/OPtVwSiP2b+mJKp8WpnZv2LFSY/Ch9m/Ax03EnRa2b8PKZgzoBHZv7gMVAGWrdi/JNdCE8Iu2L+Zz0wVrpXXv8Y6+TEA49a/StIOXnoX1r/RugmG+TPVvxiAS550OdS/8msJl/so078IMRw1tgPSv09b8dDiytC/Ign2+an/zr9V0Ckq6EfMv73y3XBzccm/9M5JX2B/xr/UDH+B4XTDv89d4eVDVcC/HIOvD9dHur8XwzVDn8izvw/hfaTbZ6q/yjmQ4Z1Dmr/118cogD85PyClV0IsDZs/D2Gjn/7Lqj+5sMlMKPqzP+WPA+CheLo/RVUJti9twD/zQEDCOYzDP/S3bLkLlsY/aA7aSFmHyT+Ax9u68FzMP1UabW6+E88/BrEUF2jU0D8PuX4xrAzSP4+OjI9YMdM/Y63pfi9B1D90I7HqCTvVP00ivZvYHdY/UHIOX6Xo1j+zLgwRlJrXP+G7eYzjMtg/voYffO6w2D9oAUMOLBTZP1wIK4kwXNk/6XkPwK2I2T+jEfVnc5nZP1lpGUxvjtk/Ezm2Ya1n2T/4YQa7VyXZP37bmlm2x9g/nhQx4C5P2D+8ol8kRLzXP5z/kKCVD9c/g3/mxt5J1j/Ka7819mvVP3Yewc7MdtQ//ABdsWxr0z+fRvAZ+ErSP6fytiaoFtE/1E/QB5efzz9FbdkAiu/MPy96dBkUIMo/KOTpSkI0xz/yQCBXQC/EP0vYcldVFME/dJK0W8DNuz8PBoi4p1S1Pw0URRjPiK0/YaY4fz9IoD9cxY0oGrB3P4FAG4/fvpS/MhXXWqCpp7+vTfSwEG2yv3Yu0NVQ8bi/AlqWuX1av78MWN7u0NDCv3ygs1r238W/QK+OBV3XyL+Fei6bzLPLv00znAwqcs6/XCaad72H0L8uWyBcdMTRv6f30Ojh7dK/OXEXQsMC1L9rqVDa6wHVv7D/CrhG6tW/Vx2uote61r+SG0Q0vHLXv4zSOs8sEdi/d48Sd32V2L+P+A6LHv/Yv0F7H2KdTdm/9QRWx6SA2b+I7WRW/ZfZvy2sv7eNk9m/qxEdvFpz2b88LD1XhzfZv2qB+HlU4Ni/VMzByyBu2L9nyOZDaOHXv9SK/6LDOte/PYQezed61r+yIXUFpaLVvwg1QgzmstS/5or/H6+s078uR+PiHJHSv6Ow5yVjYdG/Os+omsse0L/6GQXbaJXNv+iv55Idzcq/hsTGjrrnx78X9PGUZOjEvxEQppZc0sG/DULJT/hRvb9I5Bq5Y9+2v2syWR37U7C/fNsgSLJto79RD9mQXXmIvyjBMAuf3ow/VU0DSdGFpD/VqtPl2d6wPz0rRwt7aLc/+EG3W7PYvT+7HH7ZQhTCP4cCBAyMKMU/4+tqlt0lyD/cEA24+AjLP61BaSS7zs0/N/UDNRE60D8z6mWbJ3vRP/JiETtEqdI/1s3ZIh/D0z80PapehsfUP7EdokNftdU/KAzroqeL1j+fuPrhdknXP96bEPf+7dc/dW7dSI142D+6mWFwi+jYPwwvMNx/Pdk/Ly9lVA532T8c4r9e+JTZPwCWdIIdl9k/kSdsa3t92T8LEMvsLUjZP0I7veJu99g/bG6n85WL2D8VbQIxGAXYP1EkR5iHZNc/iMt1dJKq1j8CA+SgAtjVPxhMH6687dQ/CrjR6b7s0z+YHLZKINbSP5dzx0EPq9E/mR30cdBs0D/UxXKfejnOPyB0S1SFeMs/hr2xPb6ZyD+wN1/1QqDFP1cmvBFOj8I/1eA5SWfUvj/ny6w8u2i4P5K1KTKQ4rE/QnzvQfaRpj+Ks01NmIySPwiWVAO9PYC/BKkrWsJgob+SE8pTOJ+uv/AaEGs43rW/KCFRzxdVvL+GBuj8mlbBv5PoCvjXb8S/z0LhyeVyx7/giPR3f1zKv2qhEal7Kc2/Qu/UE9DWz7/YUr9lyjDRv88wvbODY9K/M7gWAUeC07+MteUF3YvUvzM7EHclf9W/oNg5Pxhb1r8IJW2dxh7XvwB/Rihcyde/KaeGtB9a2L/A7RIedNDYvxXFiPLYK9m/h42r/Opr2b9iQhWwZJDZv58itXQemdm/SGHK0Q6G2b/CNix4SlfZv4Mp1CsEDdm/8+/CjIyn2L/lu3u/USfYv1zxdPXejNe/xA8A1tvY1r/8z0zICwzWv8UFTR9NJ9W/NIFfKJgr1L8l6Mcd/hnTv7McGP6n89G/VR/NSdW50L/lxvpQtdvOv6wfIu5AIsy/CBgrgUJKyb8r+alG0FbGv8ty30ceS8O/J5aS4HoqwL+IVbBQlvC5v/ZFWYYOcLO/5c6Cddq0qb+T/Hi3YNuYvy877M3u3lw/LGWaI0l1nD+fsU+X336rPzPJCPagUrQ/cOyRrcLPuj+HSwzl5JfAP1AZiV3ltcM/HCtOhYC+xj/MKwlba67JP/J2G6p1gsw/tJ2XgI03zz9w9TJCYeXQPz3j+JGkHNI/gbx0zz5A0z/oluJx807UP/h2fJ+cR9U/r9BzbCwp1j9aT/H/rfLWP+3S3J1Go9c/AyZNlDY62D8TrJ0L2rbYP6gqSLipGNk/HJ7BbTtf2T9HrbqRQorZP7OiRm+Qmdk/o6eOaRSN2T/kN9oN3GTZP9Q72QQTIdk/m78/4wLC2D8AuubZEkjYP+KVyEXHs9c/YBVTIMEF1z/ChqpQvT7WPy32m96TX9U/IPQcCDdp1D9uflc6slzTP/93X+8oO9I/YM7McdUF0T96gSMPD3zPPzgy/wpGysw/+AULmjz5yT+sgJlrAQzHP3XM1snBBcQ/2Xb1JsbpwD/KfsEZ3Xa7P3GgpeZd/LQ/msMjAS7WrD+cajq3pSifP4SLHx5zDHI/iI/EB1Inlr8Kn0VQ2lyov5kuz8HMxbK/6gyKqstIub+Y1p1cWLC/v1vVo46/+sK/HDhOxLgIxr+44nL6xv7Iv0DcuFKz2cu/uH+CYmSWzr8PGRfI8JjQv2juWyar1NG/DnMdkwr90r8QeP9XzRDUv4PZcx7IDtW/ZeKoNOf11b/OdM24L8XWvzcbZqnAe9e/b2KL2dMY2L/MXgjIvpvYv4LYb1jzA9m/cjZfbQBR2b+YtUdjkoLZv4uiOGtzmNm/mAhIxYuS2b+ab1ra4XDZv96rLTWaM9m/OU6uWvfa2L9IwsKBWWfYv4x82io+2de/KJiylz8x179Hw+MjFHDWvwRA736NltW/BNahyJel1L+Cy8OQOJ7Tv6QdLLuNgdK/nSprScxQ0b8br10LPw3Qv4pcKHCKcM2/7R8p4aGmyr+GoSdcy7/Hv2u/tzotv8S/0nZM0gmowb+NgxnVd/u8v2NQPjJmh7a/j9p/G8D1r78AHjqKArqiv6TeIVHEp4W/clCXRwOwjz/EcdBSWTmlPy78SffTN7E/B+q6k0rAtz89Y6UJ+S6+P/dlNPBxPsI/qPQSmJlRxT9cCbgHnU3IP/BrKek+L8s/WkhniV7zzT/3WcqefUvQP5F3rdKbi9E/r9l+Y6640j+IM+CAbtHTP22ltGmr1NQ/rD3wtkvB1T/4SQ6NTpbWPzzk4rLMUtc/aRWZjPn11z9MF835I3/YP6ue0RW37dg/63lP2TpB2T9iEJCcVHnZPz1W5XnHldk/YGHEj3SW2T8E30oiW3vZP00GC5yYRNk/0Codbmjy2D9gmJnPI4XYP8HBwFxB/dc/DuM6llRb1z942fpADaDWP+v8cac2zNU/Nx3kvLbg1D/LIcsjjd7TP7tNWRjSxtI/J1RHQLWa0T/OdjhhfFvQP0fuNP4DFc4/L3ACyGdSyz/1siwmI3LIP9Wol1BVd8U/O/0qTTplwj/iLwHaTn6+P4arPFwPEbg/6L5QC7CJsT8+xkxajt6lP7bDi8f+I5E/YstVn3QPg7+74DKKjRSiv08zYKKdUa+/cfCjTlc2tr9FpoZHw6u8vyaJFvkHgcG/wl+2Ji6ZxL+ZwBZM+JrHv1QVGs4ig8q/SOgd4oVOzb+lSdb6GPrPv+8KoAl7QdG/S48Lai5z0r/+7jLI2pDTvzxn+ApKmdS/Ka03J12L1b8zzltXDWbWv5FCnDhtKNe/FY2rzKnR17+8tb9eC2HYv7L9+0r21di/B1ljp+sv2b8LSZzNiW7Zvy2L8MSMkdm/Eo4VjM6Y2b+glG1CR4TZv8q+lDANVNm/WrAwsFQI2b8uFx3zb6HYv9vAMqrOH9i/GBgKjP2D178/pjy8pc7Wv1dnyxOMANa/pjpxS5Aa1b8HZMkIrB3Uv4+7Uc/xCtO/nLFu1ovj0b9yoLTFuqjQv12gq7Got86/JPpd2YP8y79tIQru/SLJvzCnO9UuLsa/aXnlEkwhw79QnUGbSv+/v8m2Gm1Bmbm/1mFzsW4Xs79f11NQxQGpv+D2DUAQc5e/XzIzk/O2aT8csqbrT92dP4cMHjWrMaw/NRtO1wmrtD+fFz2pzia7P0DBdTGNwsA/fCqNqoHfwz9B19yn4+bGPwpmA3xp1ck/iNfpdeSnzD+AaRxVRFvPPwlHjE5N9tA/zvP54Y4s0j+w+XMcFk/TP6nTvJ+nXNQ/casRzh5U1T//0cwHbzTWP/j2/M6k/NY/UJm0z+ar1z8MxPLLdkHYPykMJWqyvNg/UZpi5RMd2T/o/KCeMmLZPxgfRY7Di9k/VB+VlZmZ2T+xnLKvpYvZP/9Q6AH3Ydk/hkQ5y7oc2T8hdUMzPLzYP+A/q/jjQNg/wxxo/zer1z+DFm6/2vvWP1DEUZSKM9Y/STSm7iBT1T/MEvVnkVvUP4RHUbroTdM/ow6jnEsr0j8pMuqE9fTQPxCfnqNuWM8/WLjvueukzD/nrlPvUNLJPwxcx6au48Y/APJEsDPcwz8LoUnUKb/APzquKITkH7s/bRz7yAOktD9YXo6FdiOsP4Lt8D20wJ0/dr2WH3zRaD/UkoBMs4+Xv0hWoFoBEKm/YyXWPnoes78U5PjcMqC5v4GaGTINA8C/X753cZ8kw78JQL4RajHGv7wyhoYdJsm/SK3daYT/y78dTej3hrrOv0WGKjUXqtC/uzgCGNTk0b8XhrB+JAzTvzhtC9nHHtS/WjWCCJQb1b9uKrmjdgHWv6A5aSB2z9a/OxdA4rKE17/g55otaCDYv7HtE/3sodi/EG37uLQI2b8HnfTPT1TZv7D8EDBshNm/mJXmn9WY2b+CeED3dZHZvzPqKzdVbtm/+CRIgZkv2b9sHWLuhtXYv7A4iUR/YNi/XzDtjAHR17/kXPiJqSfXv+MOPA4vZda/aInmNGWK1b+0Lpt8OZjUvxSjpcWyj9O/5rufNPBx0r9b/L/6J0DRv/TnRQpM98+/1wX6KJVLzb99Qnd9EYDKv2JoarjJl8e/XnE5xOWVxL9BpgVYqX3Bv/oiAdngpLy/u+HYLFcvtr98FvYqcUOvv+Aqp0FEBqK/VMmJQBrWgr/p42Z0p0CRP3jLeuHQ7KU/t3H1qcCQsT/szK2qBxi4P0XSYUcnhb4/cAQy3JJowj9jOSqWlnrFP8bGxplJdcg/DQM9/m9Vyz8PPHys6hfOP9GHS2HdXNA/p1kbagKc0T/aQEgCCsjSP4T7P3uu39M/xV7KR8Dh1D9GnopFJ83VPyAtFe3joNY/Xh1QZxBc1z8I6vCG4f3XP6HYCKWnhdg/aIiwX8/y2D/+uAM64kTZPx+evxyHe9k/zCH4toKW2T9tHHu+t5XZP5Sdmw8nedk/1MJCrO9A2T8PH0eaTu3YP1E9L6Geftg/8SSn51f11z8v1xNxD1LXPwxZ0nt2ldY/6t/RwFnA1T9h91mVoNPUP27c7e9L0NM/nKNdUXW30j9L7jOTTYrRPxvoy5wbStA/gm/tAHbwzT9VQGMENSzLP2esDBN1Ssg/+2WLAFdOxT8rh8M/GDvCP7Wy+7weKL4/oJ2Ty1C5tz+u/BtGwjCxPzynPXcVK6U/zPvK5K92jz9+HVFuHeGFvzw0CbBKyKK/wMOJT/UBsL/ShqDyZI62v/UvOHxYAr2/tBiiXWerwb+3EJ9WdMLEv5iExnn4wse/Ja7cjbGpyr/gAENZeXPNvyIfkIakDtC/Ow83Rx5S0b+Hy63MyoLSv67WzV1fn9O/C6wyEaem1L+ihowchJfVv+T/2QrxcNa/kcY32AEy17/tWRLy5NnXvyKwoxrkZ9i/0NbFLmXb2L9P0UPN6jPZv5MV894Ucdm/WOsB/6CS2b8YdAnDapjZv3AgleJrgtm/Aqr0PbxQ2b+LK1HEkQPZv812ITlAm9i/kDk92TgY2L+UoPHfCXvXv7nonOxdxNa/5nR4Sfv01b/tdloUww3Vv5jLWEqwD9S/TlBWt9b70r/ucaLKYdPRv/Hl71GTl9C/x9cGOISTzr+wdCsJsdbLv5Im+dWl+8i/V9aLKnwFxr9zxQoDa/fCv5cnnpyGqb+/12C/qNhBub9eyFUJwL6yv+jkAMCcTqi/E0Qak60Klr8Xvs3jLX9yP9Wu6oI/RZ8//Yk37mDkrD9GnPKrYgO1P7/9bI/Ffbs/D9MleijtwD+3q/yIDgnEP+wfvAE1D8c/NFqBjVP8yT+ioDUBPc3MPyXaP9Difs8/j7P8LiwH0T/vGyYVazzSPzwEBGveXdM/EDLU/Utq1D9dLbpskGDVP3S7CWWgP9Y/16R0xIkG1z+zyOCfdLTXPyEvyS2kSNg/8q4rk3fC2D8MtCSSaiHZP9OcexkWZdk/qduDtDCN2T+obNnajpnZP1cOoh8jitk/d/UfQP5e2T/PJ4YRTxjZPw45Ik5ittg/apYSQqI52D+4zONXlqLXP4QFkoXi8dY/JVCOmkYo1j/p4ohvnUbVP/td4vjbTdQ/aebFPBA/0z/DwwwuYBvSP6CmKW0I5NA/5eXr4LU0zz/VX6wqe3/MPzyDhzdRq8k/mlzDG0q7xj+Pcq8qlrLDPyTvhYCAlMA/tSVz3tbIuj+yBSSkmUu0PywgTDCpcKs/ZyAWqqtYnD83A5J6/RNbP1Upd0UC+Ji/72fJ7hTDqb/84yzjGHezv5rFPSmG97m/00vfxuEtwL/Pz9V2cE7Dv0BqaiMKWsa/rZU8i2BNyb9UTj/DPyXMv+RKvrCR3s6/yiaDsTC70L8TyYYk7/TRvxU00J8vG9O/bYJgurIs1L/I5ouOTyjVv0/EQfz0DNa/NNiG0arZ1r9Epd/Xko3Xv2arhsXpJ9i/3ZtoEQio2L8oYwCpYg3ZvwirTYeLV9m/Ue9BLDKG2b9OhCL0I5nZv+60gE5MkNm/y0uM1LRr2b/WTKg+hSvZv48vTTkD0Ni/uGVnGZJZ2L+3SYRwssjXvwp8QoEBHte/iDKdlDha1r/Bw8swLH7Vv2W/jzLLitS/zAfsyR2B07+jUV5bRGLSvytk0kZ2L9G/kMNFKwHUz7/dAS0iiSbNv09BxIVsWcq/ZACgwrVvx7/k84RRjmzEv3S8uUg7U8G/P1W9njNOvL/b00vtNte1v88ci/MJka6/W1D7+XdSob90AXWPYQSAvzO4XN8/qZI/RP6laTegpj/Lr8i4n+mxP0Mu/guyb7g/dKUA0j3bvj+fM8B8pZLCP/a8deaCo8U/mE7ILeOcyD/0rZ/Zi3vLP6LQRnFfPM4/TrAJbzBu0D8nQPNUW6zRP8SXgAtX19I/fGboBt/t0z+P7cLuxO7UP5sOPObx2NU/eM/Humer1j+EsxD4QWXXPy5u9N+2Bdg/w7WBRRiM2D+EhglK1PfYPxSUdvt1SNk/igw/06V92T+E32YVKpfZP0FmKw/nlNk/1GcUNd922T/n00kgMz3ZPxQaMWsh6Ng/2IZ4bQZ42D9vaNrXW+3XP4TPBDC4SNc/4UY1Lc6K1j/75jn2a7TVP2dVqkF6xtQ/75pLWfvB0z8xBbEBCqjSP61rSkfYedE/PggtMq440D9QA//D0MvNP9VbFyftBcs/G6shI7QiyD+sjQ8lSCXFP+dtPQroEMI/HMcWNdfRvT+EaNTOf2G3PwemmSfH17A/MHofJIx3pD94XNLLSaWMP6Qt4z+1soi/DTccQPl7o79Rw7dfD1uwv9expRJh5ra/oN4pKtdYvb8Ga6MJudXBv00RuGeq68S/98ngM+bqx79XbkuZK9DKv5Rlz/FVmM2/M+avFzAg0L/G9ZgRtGLRv5yZhM9YktK/7GmhttSt07/0/zMO9LPUvxEKn02ao9W/r7Q/UcN71r/VKs90hDvXv6ikFpIN4te/aYvh4qlu2L9baTjFwODYv6StD2HWN9m/7GC2Loxz2b+d43JdoZPZvxRR3hnzl9m/qCiys3yA2b+OM9+iV03ZvyEh6Gu7/ti/O9ydY/2U2L83BH9SkBDYv5sVH/gDcte/XIIcbwS61r8HG09yWenVv2CT+YPlANW/a3rp96QB1L+Ii5DhrOzSv2OqQOcpw9G/2ATR+16G0L+dOR0ASG/Ovx2F6ZrIsMu/d2KFVzrUyL804DRmuNzFvzWD1Dh7zcK/gDjUB6pTv7+CdX5HXOq4v92v3dICZrK/rP+oT2Gbp79kA3fIOaKUv36sBKHTIng/ZTPzaItWoD9wVdY3AJetPzjAWy+rW7U/xeWZHKfUuz97tgaethfBP4fOk9iLMsQ/XDmdc3Q3xz+QOktxKSPKP2/Q/i5/8sw/yjNZ1miizz+KgmrW/RfRP7GBLB85TNI/9j+qr5ds0z82yJCB4HfUP6BFzHHxbNU/vIV5e8BK1j8ncKnYXBDXP4jvvAfwvNc/LqE9tL5P2D/thjaCKcjYPy0AMLutJdk/8EMT3OVn2T+8VlsDio7ZP5jfGz9wmdk/fimJuoyI2T+W5M/K8VvZP3e2LtvPE9k/YDNnOHWw2D/cTb+7TTLYP7V/71Ximdc/FMB8etjn1j/1pB9s8RzWPzuc+2oJOtU/bAGKxRZA1D96iTzNKDDTPwdF+a9mC9I/eOyvNw7T0D93fMji5BDPPzLVR3r0Wcw/wB/vkD2EyT+2Nuvp05LGPw4LZ1npiMM/wA7LTMppwD9kSDpstHG6P2lgyLwf87M/RDY1jMa9qj9wRT0TjfCaPze+X7y2EzI/RFre2j1gmr9tF7KBFHaqv/OpAmqoz7O//zmJS8VOur8nuF3LqVjAv6xQRX4yeMO/4cnG2ZiCxr+yKhnqj3TJv7wEkUHlSsy/568HcYQCz7/Sv9kvPczQv5L2Zz/8BNK/6fzN6isq07/BDTDxjTrUvzjUrab6NNW/fOFVNWIY1r8YfjnEzePWv06IYINglte/yoJ6m1gv2L85pEgAEK7Yv0qA3CT9Edm/PqLnkLNa2b9YBXpW5IfZv5Obr2demdm/weHvyw6P2b8TtIW0AGnZvzwIeXBdJ9m/hL63P2zK2L8+M74FklLYvyaKE9xQwNe/II8QhUcU179Re4q/ME/WvwKxHHzicdW/+HPt9Ex91L+DvOmoeXLTv3QskzuKUtK/ywWZOrce0b9IwSKVnbDPv8johXhmAc2/NUISGLMyyr9eieeZj0fHvyuZtAInQ8S/PmRbxb8owb+3n5xpcPe7vwXGBbgFf7W/DdLH/4rerb9OrtQ+np6gv132pdw4ZXq/3jCqzMkRlD+p6QJgjFOnP2HqwN5wQrI/Lv+Yc0nHuD+KYKhmPDG/P55IM7GpvMI/PF8uaV7MxT/jhfykacTIP3jAuV2Socs/cOZ3u7xgzj/o5ZC6dn/QPwd5g4amvNE/Ei9Gc5Xm0j81r9QYAPzTP1RtglS5+9Q/pITcj6vk1T9G8Pvt2bXWP3IMAV5hbtc/3GyOkXkN2D+SejfWdZLYP7PT9tDF/Ng/e+/gGvZL2T+V7Wi+sH/ZPwOYr5S9l9k/iEt3ggKU2T9dnnqUg3TZPy4CB/tiOdk/GCbg5ODi2D8UY5Q5W3HYP6rQjTNN5dc/cqtO2k4/1z+jPGpdFIDWP/tq7VBtqNU/uEELzEO51D9bAwJrm7PTPy+jTDWQmNI/q4ZSaVVp0T8JPuQuNCfQPzRt3mMUp80/EpnYTZDfyj9oV0p14PrHPx0QBt4o/MQ/81FbzanmwT/g8FGFeHu9P1gXMKqcCbc/TlHi9L5+sD+bbVzs8sOjP7S6XHTN04k/gE624zmEi78u4+SumC+kvxiEibwctLC/oN1gaks+t794WzEOP6+9v8XiPdz8/8G/av0AOtAUxb8fJGRbwRLIvxWEhdKQ9sq/VVIjjxu9zb8MqCojrzHQv2nI5Fs8c9G/eNh7Ztih0r/kdnPHOrzTv8NSqPcwwdS/w34MsZ+v1b+CuyUihIbWvzvl/wb1RNe/7Y5ipiPq17+T8zayXHXYv0WiKgoJ5ti/IKC7X6472b8t8Pu673XZvz5gfN+NlNm/dxDxkGeX2b8UM0W3eX7Zv/HZ9mHfSdm/0Cy3qtH52L8P7G53p47Yv1CH6hvVCNi/4CqU2+to178i2cRLma/Wv3K3V5em3dW/eBhMpPfz1L9ITWMcivPTvynGxll03dK/tmfhOOSy0b9lELTQHXXQv9z7ESb0Ss6/feYHrMqKy7/UJEuRu6zIvyBv3qfjs8W/e1LT1Hyjwr/ERZAftf2+v1lOR43Mkri/0JLzUjcNsr8123mKE+imv6DxCvi1OZO/B6E2oGbGfT+YdpZgagqhP5wMRoeISa4/uKn7HOOztT/dqEwNcyu8PybVDHw3QsE/ftgaeflbxD/0Qj/eoV/HPyLoOAnrSco/eMBW4qoXzT/ttdJL1sXPP8I/xjfCKNE/5UnH8/hb0j91vffeQXvTP9L8ZiBlhdQ/nCCr00F51T8ik3hCz1XWP3hS+gMeGtc/bOayAFnF1z9Q+MtZxlbYP3J02TLIzdg/NC41Xd0p2T/ZCDnkoWrZPz9sv3nPj9k/zDx0wj2Z2T+zgaOB4obZPzMqVqTRWNk/TOKwKz0P2T/Qcaz2dKrYPzGRYmvmKtg/ClFNAByR1z8i/PmlvN3WP8qa0hGLEdY/c8zC6mQt1T+1ZJ3YQTLUP3r4R3cyIdM/vSvQLl/70T+n96vxBsLQP/pVBMX77M4/xezlxVc0zD9MmuIZFl3JP3BPqjBMasY/zlnIXC1fwz+3tkNaBz/AP5ehJ3F9Gro/rGKcV5aasz/CSTIkzwqqPwnQCpFZiJk/G93DniUKUr/KNPv0ZMibv9otW4j/KKu/5m6SjigotL/ieRsA8KW6v91WXB5lg8C/QSlZZ+Whw7+u61QVFqvGv21TroSrm8m/jQyXx3RwzL/tTtocXybPv7Ms8aI83dC/je4uXPsU0r+85AZUGTnTv9ONt3JZSNS/gKQRR5VB1b/g/hVGviPWv8gfovDe7da/srjs3Ruf17/i07CptDbYvyMfBcUEtNi/w6T8KIQW2b9SDE/qx13ZvwMbaK2Cidm/1ndg+oSZ2b/ojIRwvY3Zvx2XMdk4Ztm/S2r0GSIj2b/g+vgFwsTYv7M4/Q5/S9i/XQod1ty3178jH/CcewrXvwSxlJcXRNa/tQtkIIhl1b+Rmy7Ovm/UvwxF/W3GY9O/PK904cFC0r804RTj6g3RvyrjV2Mhjc+/SOfaSC3czL8lT3NS5QvKv1hBbl1XH8e/fwDv968ZxL/cvefuNv7AvyWZ/nyXoLu/hYSC0cMmtb9djEfa9CutvzLAtzdv1Z+/YyY5G5rBdL+HjVckRHqVPxoFUDnPBqg/jiLm1jObsj8X4nmdzR65P+cdksIih78/EMrqWJ/mwj/nCpr+KPXFP7YusuDc68g/IB4EbYPHyz+3lNJuAoXOPz8hdzawkNA/2Pkk8uPM0T+ItsItxfXSP1oXDKYRCtQ/T5r5bp0I1T+XIVE5VPDVP0j5lH46wNY/k6gLkm531z+sLriVKRXYP1bBOFLAmNg/ZLmh8KMB2T9J7oqVYk/ZP6gxp9yngdk/QsJfND2Y2T+xRRAZCpPZP4D8oi8Uctk/+U1wP3812T8vUmgLjd3YP9uCsAqdatg/wg8DASzd1z8fU0B30zXXP1lrxRRJddY/HNw82l2c1T8ETr8+/avUP+6lOjAspdM/f+40+AeJ0j9dhR4GxVjRPwO4g6CtFdA/Z20S/UCCzT9XH3GWHrnKPxDocyj60sc/wKJdS/nSxD/RveqpXbzBPyK4vvACJb0/zNfloaextj+BthjzqSWwP28Ha1tKEKM/OMeqDj0Chz+3XYMpqVWOvzff53Ao46S/H0XYIB0Nsb+jTo21I5a3v6r4NeWPBb6/NJ+ftDIqwr+0Coat5T3Fv0iOXdGJOsi/rEy6G+Ecy7+A37AUyuHNv9FNapshQ9C/9wpEGbeD0b9NloqFSbHSv1arFYWRytO/gxFIw13O1L+gOX89lLvVvyFzMnUzkda/xm11h1NO178+n64oJ/LXv/tQcIP8e9i/fG+C+T3r2L8akEvGcj/Zv4bh6IE/eNm/oblmhGaV2b+BDK4oyJbZvysm3u5ifNm/Yl3tfVNG2b/k+46E1PTYv4MdgHk+iNi/KKyAOwcB2L9xt2CRwV/Xv3EHrYocpda/t9+nweLR1b+FOlx/+ebUv0oxusJf5dO/bcLKKy3O0r/LbCfMkKLRv9UU/93PY9C/ELMaxogmzr9vCgdat2TLv7609aEphci/k1M9D/6Kxb+TKaP3b3nCv4+zkSaop76/xVIYvik7uL87DYvOXbSxvxhUr/uzNKa/POPIOSPRkb/dfzVA8bSBP4Zxshw8vqE/DBXkUfn7rj+VVFEwCgy2P4LxHh4pgrw/ves286pswT9iQWZKV4XEP7BSbyK9h8c/t/0xN5hwyj9kQ2D+vzzNP7q3KRUr6c8/d8cKRnk50T+Wo7uGqmvSP35Die3cidM/GIvXz9mS1D/X1caIgYXVP9q4cLHMYNY/rC7UPs0j1z9Y1jqEr83XP2i7/hi7Xdg/PEm3oFPT2D9oF/R0+S3ZP/tTzS9Kbdk/dGGzFgGR2T+auAll95jZPwIQPHYkhdk/yBwgz51V2T/EvJkGlwrZPwLmmo1hpNg/TCO8Vmwj2D/yls1dQ4jXP1A94w+P09Y/MF+BlBMG1j8Frq/4ryDVPxgn2jxdJNQ/wY6GRi0S0z/28AO3SevRPwndVqjysNA/9ySCo/rIzj8HmLsqpQ7MPxFvyfDaNck/vKx5D7NBxj8wwDtVYjXDP+94JMo3FMA/cqX0MDLDuT+NU2C5/UGzP/5MPIPDV6k/dEUzOxIgmD9LFkJ1lUxkv/TVInx2MJ2/BHzVd9Xbq78NGyMMmYC0v9WGRAMG/bq/+H+snhOuwL93BLARicvDv4Tzo7aB08a/ksmdPLPCyb+XsCY47pXMv/2sXpghSs+/eGmW/S7u0L83vG9u7CTSv3iA48/3R9O/5LNANBVW1L8ZyO1lH07Vv/XrryUJL9a/A3/vTt731r/HZrzgxKfXvx6acur9Pdi/uQb+Wua52L/jztyx9xrZv7y8H5HIYNm/b3HKLw2L2b8iJResl5nZv9ytRD1YjNm/W7u4RF1j2b8ksGM+0x7Zv+AHd5AEv9i/97iiOllE2L8wNjFlVq/Xv8CgfNCdANe/BA5aJe041r+0eTknHVnVv8Le2cggYtS/xuCQJARV07+dSkRZ6zLSv55KUU0R/dC/V0NzsYxpz7+IoxOw3bbMvww6CVMD5cm/MnlvLA33xr+ICmdRKfDDvxM9Zuag08C/JaxTHKlJu7+IyEp+cc60v7CRtw1Ieay/nxOHOYltnr9FB0131jtuv3ghec6t4pY/bvVZav+5qD9+ZUtc6POyP1hqq0U+drk/bcUJo/Dcvz80ilFThhDDP9jOC4fiHcY/C/tGwjwTyT/PWQjqXu3LPwRELG8wqc4/qk1c1dyh0D/ZaTuLE93RP6tBKy/mBNM/vuuhoxMY1D9v1iU0cRXVP6o6jNnr+9U/+QWEZInK1j9PKSmNaYDXPyx8eebGHNg/pfSitPee2D+5kUKlbgbZP+f0y2i7Utk/vClzLIuD2T/TQxT0qJjZP7E6t9P9kdk/MJdxCJFv2T+/7YrwhzHZP3Su7OIl2Ng/elIJ5stj2D+qP4pG+NTXP6S1Ng5GLNc/SJaoW2xq1j9TuIWbPZDVP5aJFaSmntQ/nPIqtK2W0z/2jHlWcXnSP5wtiyonSNE/8GWnlBoE0D9HoDOsVl3NP9BEux6Ykso/TAWaWwGrxz9vohGNuanEP1oHxMADksE/FGyAunbOvD/Ku0L6oFm2P4D50s4Qma8/mqXN/JJcoj+dxQzLmjCEP0foiXCAk5C/xv21+qeWpb8PW4dHEGaxv/ND9K/p7be/vfEwbMlbvr8tmgFyWlTCvxclYKLqZsW/xYfodj9iyL+CYylXHEPLvygQ/GVhBs6/noLicodU0L+Ox+o8JJTRv8MgsyCswNK/6pll5NjY07+mK9hmetvUv+Chrul3x9W/V84ZQtGb1r96Renun1fXv7vJwRIY+te/08poUYmC2L/YwTSPX/DYv6Ob0pEjQ9m/Ja2xgXt62b8CtYlLK5bZv9QNkeEUltm/lkccXDh62b+NvoP5s0LZv1NMT/3D79i/7rXLbsKB2L9Q2VC3JvnXvxGvoiCFVte/gdT5M46a1r9QWGL6DcbVv87PQB/r2dS/VRnu9SXX07+EoHlj177Sv+smwK0vktG/5woiMXVS0L/9N3/8BQLOvyD+d8KOPsu/ozs/qIRdyL+YdRO8B2LFv3c368FUT8K/+pKqX4NRvr9luP4ddOO3v4+aoop2W7G/+ymTLkOBpb+Td6+lgmiQv6JDXXChhoQ/kMGkEQByoj+kFyANUq6vP8rS6CQgZLY/Wlq7C8nYvD8PGY7iEJfBP1rDViylrsQ/m6AIIcavxz/Q+S3dMJfKP8CyT2a+Yc0/nlp3izMG0D/vTD30IkrRPy3O2ctNe9I/qlkH0GiY0z9YkW+FPqDUP4twnIewkdU/xEDZv7hr1j8b1bGBai3XP90+24vz1dc/Lh9v7Jxk2D98zIHHy9jYP+vBO/8BMtk/peC/vN5v2T8p5UnZHpLZP+D2EiedmNk/xDGtmVKD2T8xW6pNVlLZP6xzhW/dBdk/9mDqATue2D90WZqD3xvYP5LdTnVYf9c//tAfwE/J1j8gbRP9ivrVP3lAoJ7qE9U/dRUK/WgW1D+jMKJGGQPTP9bnEVUm29E/XM/zaNGf0D/dQTea4aTOP+/IDsbc6Ms/KGQaNIwOyT9H19+lCBnGP15SNWOIC8M/b3JXe7fSvz/Yjmrv0mu5PyNJ4CZW6bI/Q8BbNKSkqD9ww3opuLeWPx+72VcIlG+/b+i6WHGYnr9QIELFlY6sv5THB5752LS/nIlkEQdUu78GfCkrtdjAv1hf9Fwd9cO/KqxQntv7xr//u5jzpunJv69lJnZRu8y/YBvQx8ttz7+lnqAyFP/Qvw9OyWnPNNK/RPnXUsdW078bbiErwWPUvw6ChfmYWtW/AtNey0I61r8SMl7XywHXv0MBFoVbsNe/c2oXWDRF2L8QO6K9tL/Yvy0eCLxXH9m/9dIEg7Vj2b/Qr27cg4zZvzwfxXyWmdm/qKRFM9+K2b8IOFP5bWDZvzk/H+FwGtm/MPim4zO52L88nTuOID3Yv73G7o+9pte/Z21fJ6721r9mO4ZxsS3Wv/KJQZqhTNW/vjqC73JU1L+rfxrYMkbTv4NxTq8GI9K/Q95jhirs0L8oBhab30XPv68uKct3kcy/pI0FOA2+yb8eaTQmsc7Gv+6tWy+TxsO/15rozP2owL9d+ByLpfK6v9QY9AIPdrS/GNLWJIXGq7/Nqo+aiwWdv/U4+D1h9GK/vFkwswVLmD/or/tnHG2pPxjvDiqOTLM/WFpHKJvNuT97JbfiUhnAP2bF3X9eOsM/z/vj4opGxj8VmicriTrJP4K+YLckE8w/MMlsoEbNzj9vVeqJ/LLQP8ctNUU17dE/yVLAa/gT0z+ajrUGBibUP40yEZo0ItU/RF+NZ3IH1j/g6seXxtTWP3NXYEhSidc/eqPofVEk2D8yVKL4G6XYPyDLIOslC9k/ZaoKkgBW2T8eiFWsWoXZP0BxedMAmdk/UHw8s92Q2T9T29kg+mzZP2NLaxF9Ldk/JEqfb6vS2D+E+OnQ51zYP/regQqyzNc/nb6cpqYi1z8ZC4M6fl/WP9OGMp4MhNU/LHxpBkCR1D9xMxQCIIjTP0pTNVzMadI/Pbl/43s30T+Kzekx9uTPP5hy7I1VOM0/QoKhBP1ryj/Gt8Yt9oLHPyL2KcNpgMQ/sDHKMpxnwT+k5csl1He8Pwx7ofeIAbY/YjUWLrXmrj/vNxJczaihP3uM4NnoXoE/1tkhbR/8kb/gvOzAFkqmv4pfhOv1vrG/tjhtFZ1FuL+MnC1g67G+v4rHp/NzfsK/TQ21+N6Pxb84MC8t4onIv1C9ImdCacu/KuyaZuEqzr/ivxCc4GXQv12XF7qDpNG/eAoDLADQ0r9nxEzaEOfTv9kcKtiG6NS/9jlfrErT1b/pW52AXabWv//5IjbaYNe/zHFxXvYB2L8VTAoXA4nYv9mQRcdt9di/Nhpzv8BG2b/nJpq4o3zZv7iETDTcltm/OEslvE2V2b9fO64A+nfZv8o6itcAP9m/POfmGKDq2L9IxlpcM3vYv5nveJUz8de/pB6GkDZN179FsN1P7o/Wv2cOt0ooutW/q0kdjszM1L+c+wrB3MjTv+Pbuwxzr9K/u6Zj6sCB0b/nypbXDUHQv7eNmeVr3c2/Uk/8AlEYy7/Op/DCzDXIv6K9L84AOcW/c9NdVCslwr89dL8NR/u9v2pUFvGri7e/XmZDzIECsb9agHyuwc2kvxL/j6eq/42/GMIpsEFYhz8Lt9WztSWjP79CPhdJMLA/AItbtiS8tj8Qu92SUi+9P64DJilpwcE/R3jZ/uLXxD/pjfS6vNfHP39FNN20vco/ZAlr/aWGzT/YtOIaxRfQP+dmbTW/WtE/JiX9tuKK0j8cTiZ75abTP9WTyDaTrdQ/iPa1xs6d1T9y9zZlk3bWP8gIHMX1Ntc/pfcoESXe1z+tCMXOa2vYP9O8+aIw3tg/SGLq+PY12T/dvw+JX3LZPxIRpcAok9k/5QrWCC+Y2T/xp2DtbIHZP2fLgCL7Ttk/2k0fahAB2T/Mj2FYAZjYP1sX2vc/FNg/SOK9TVt21z+8yqS+/r7WPxWIfVTx7tU/6D5/5hQH1T91IAMkZQjUP8BAUIP289I/Uy+CFfXK0T9/D9BAo47QP2+RK8WwgM4/2l02tf7Cyz+udFsCKufIP9jEcBNN8MU/rLk0p5/hwj/XF0Os5ny/P3AeYvBfFLk/Sfbz5J+Qsj/oa6jCcfGnP7zAs3NMT5U/5vd9WrFtdb/ncZ05KgCgv5gF0+U/Qa2/+N2f/0kxtb+g4evm8qq7v2aiuKJJA8G/GqjcKKIexL9spQWtIyTHv/rdX4uGEMq/XdmNZJ7gzL+ixXyPXZHPv88q8TTsD9G/n4nlQaRE0r+sGWTRh2XTv/fpu0xdcdS/bewo+AFn1b8hPWsua0XWv7OnOIKnC9e/XDtOxN+417/EeAXtV0zYv3yEb+hvxdi/FtUYRKQj2b+su7i9jmbZv4DkMbLmjdm/rVFrbIGZ2b8vOaxTUonZv6tzSPlqXdm/gaOOBfsV2b9xygwEULPYv65vYw/VNdi/X7wCXRKe178+vE+prOzWvwlH0oRkIta/C6ktgxVA1b9I9cZMtUbUv3G6G5RSN9O/tpDq7xMT0r9td2ybNtvQv7I/9DsaIs+/F+klt/trzL+IcKkfA5fJvw4oFGpDpsa/F+cXsu2cw78ArorDTX7Av2wF7AyNm7q/cnsgpJwdtL8MaXWqrBOrv7hlXHJ3nZu/YOaQMnWzTr/CSay6SrOZPzI/H6clIKo/FGxa+ySlsz+ixXYB5CS6P+TnmPMgRMA/dTIRvidkwz9ENJDyIW/GPyTpz/zBYck/+HC4t9Q4zD/ga47mRPHOP9sn1UYPxNA/v26LE0n90T+05c3X+yLTP3qBcsToM9Q/eHfSlucu1T+dYWHa5xLWP5g5bRDy3tY/sCbGvCiS1z+gfSpWySvYPyD4cRktq9g/6uqSvskP2T/g+rwOMlnZPz1h5loWh9k/Rw5L0kSZ2T9Yx3+4qY/ZP9mL3npPatk/XgE1pV4p2T/bLsG1Hc3YP4hPrNDwVdg/JMtWU1nE1z95VOtH9RjXPxac0bl+VNY/fc+668p31T8IHCNwyYPUP8SBQyWDedM/czmOFRla0j+Tz+09wybRP5UDN3aewc8/df/4vj0TzT/iUB5mTUXKP2ZTEr7YWsc/XQC7DQpXxD8/3uogJz3BP8Vo53UbIbw/xFBq3l+ptT9c73qOQTSuP0y60QT69KA/n9cg11IafT9IYoFysGSTv/eLNjh0/aa/a3PHx80Xsr/aEt6hPZ24vz2aSX71B7+/qhzhGH+owr8xYLeQwrjFv3hYatVxsci/MsMGLlOPy78XmjX6SU/Ov7xZfAktd9C/4K4ThNW00b+yM5ObRd/Sv8ylwFs59dO//PMbDYP11L/dpWJ8DN/Vv0RMjCjYsNa/Qyz4VQJq179ecKEFwgnYvz6HTc9pj9i/cN7HnWj62L90n15MSkrZv+N/9SS4ftm/7cglPnmX2b8FaQW5cpTZv2sCUt6nddm/dUvgGjo72b8GoFPbaOXYv5EmRUeRdNi/M0Ql3C3p179UJUXo1UPXv4+rmOY8hda/+g7juzGu1b/HqiHWnb/Uv3K/KC+EutO/MziFMwCg0r+hl9SORHHRv6wJ4d6ZL9C/tdTVnbq4zb/H/kU5/vHKv+6c4RACDsi/gPdtZekPxb+7XbjP8/rBv4wmx3PzpL2/QFqJe9Ezt78jCoHYf6mwvztfzwYwGqS/XXtLuDgui79vaD7PzymKP+G0uHdc2aM/zFvHlVyJsD8LXlCgFxS3Px9KU3DFhb0/+egcprPrwT8Q9+ehEAHFP+LJKtGg/8c/+ldcGSTkyj+c/QmndqvNPydxMitKKdA/dRi1/E1r0T9gKAw8aZrSP9E/puNStdM/Q4eI2de61D8Hbao83KnVP5cqHJlcgdY/6ImpAW9A1z+1OscNRObXP18Tt7onctg/KNXuLoLj2D9jXu1e2DnZP9BYy5LMdNk/8Gn2yx6U2T8cd6gKrZfZP8iVz3Jzf9k/EJg+UIxL2T9YqSH6L/zYPy/31ZW0kdg/e8lmuY0M2D9rixXuS23XP4H3dBOctNY/+bXBo0bj1T/EHUTaLvrUP5FXp7xR+tM/oJlRCMXk0j94rOcEtrrRP1zmQj1ofdA/rHZ5QGhczj90BZoVC53LP36zIXq0v8g/CrrNd4DHxT/fFsVBqLfCPz0+r2n9Jr8/KGzDd9m8uD9te3442zeyPx8USbksPqc/fIC+MdDmkz9yAkflTRF7vyFGFloPtKC/72HLTtPzrb9mZlfsiYm1vzB1W0DJAby/iHdJ5NAtwb89VCtVF0jEv5dJe8NZTMe/1ILD5VE3yr+sDWbm1AXNvyLMxdPWtM+/OKlz97Yg0b9CSXnqalTSv6tYE0A5dNO/R6V+jul+1L9cAzVYWnPVvzAcK0aCUNa/JS7XR3EV17/TD8iXUcHXv3aasaNoU9i/7Jfy1hfL2L9HXLhG3SfZv+0yBT9Uadm/kYUAsDWP2b/CFxp7WJnZvwuarJ+xh9m/USHvRlRa2b+WiyivcRHZvylmO/ZYrdi/LFrEw3Yu2L+gWyjTVJXXv+6dEl6Z4ta/mp8EaAYX1r/RHLzreDPVv9KXU+vnONS/hschZGMo078AA3snEwPSv94jlZk1ytC/zODUrzz+zr9nbiWRaUbMv3mQRSjlb8m/EY9zF8R9xr+ApvL5OHPDv0JicuuQU8C/7aBi5V9Eur9WVn6mGsWzv40edCm/YKq/R3GJ2E01mr+nVabTZNU8PwSrKs17G5s/J+O9nBrTqj8iKWOLrP2zP+JOco0YfLo/P/HsYuJuwD/XIXnt4Y3DP7yKi5anl8Y/Be7KGOeIyT+1i8vNbl7MP4QUniUrFc8/b8ja/hTV0D/cIsLpTg3SPxt1q2fwMdM/MGoQ0rtB1D+CKo0gijvVP0FbIilMHtY/eUiOxgvp1j9DvH3j7JrXP49xcmkuM9g/jtVbEiux2D/AkP4bWhTZP88ZaNxPXNk/UC3NNr6I2T8NTlTwdJnZP29DcORhjtk/VsGRGJFn2T8H2RqvLCXZP5Reorl8x9g/pOO46uZO2D+QOoQn7rvXP5RPqfkxD9c//Jce4m1J1j80EqONeGvVP9DGtutCdtQ/fL4RKddq0z9fUrWOV0rSP6B50Ub9FdE/Oj6oES6ezz9sCCdcD+7MP0QbPGGJHso/PEujK6kyxz+EeuWMmi3EPx8nHqykEsE/olcq7kzKuz8cvRLzJVG1P9W3k3q2ga0/8dSvghlBoD8eWiJhvXZ3P2lFq2gyzZS/l1FL1b+wp797YVOXl3Cyv2BkOxHL9Li/Xxe1g+ddv78qxgfBe9LCv5XJpkqV4cW/rZfhUO7YyL89YEaOTrXLvyhshgSbc86/H4W2rWyI0L8+5DKOGcXRv0jVh2N87tK/37fCXVID1L/cXJj7bgLVv+2zl1C96tW/S3nDMUG71r/+lkxHGHPXvw8YRAJ7Edi/9fk5db2V2L/ot90OUP/Yvwz81TXATdm/WEcmxbiA2b/Tj5toApjZv9R429iDk9m/3/jU9kFz2b+HonTGXzfZv5tPokge4Ni/KnGxNNxt2L90nJCRFeHXv5rvJy9jOte/bHJ4AHp61r8/gjBXKqLVvwKCigFfstS/TD9rSxys07/EwNTjfpDSv5st4Ke6YNG/70KOVBke0L9gKrJB8pPNv2JeF4OWy8q/8Ff4sCTmx7+FvLahwebEvwgpw1Su0MG/YpbK1IhOvb9MOZAB5du2v4tqefRwULC/IG38wo5mo78zs8mtsVyIvzwETZ1J+4w/RNbM0fOMpD8L5v88Y+KwP8zVe574a7c/7Mr6YCHcvT8su5s48BXCP7ZjiPUtKsU/EGCxRHInyD9FxM1zfgrLP5gPlkYw0M0/L8zLrsI60D9j3Tg9z3vRP7eH+E7hqdI/6yhT/rDD0z/Y12FjDMjUP2DjHeDYtdU/orQoUxSM1j/ZFP8v1knXP66kZ3tQ7tc/zZMKq9B42D+Tzj9nwOjYPzJQQS6mPdk/IWsQ2CV32T+M4H76AJXZP+os7ywXl9k/y3+CK2Z92T++Lo7ZCUjZP/j3VSM899g/4fArv1SL2D8cYjrOyATYP/znXl0qZNc/LN+gxieq1j9XMu/zitfVP+L68oM47dQ/pNzk0S7s0z+khXLhhNXSP+v+3y9pqtE/vZitayBs0D8tuU0oCDjOP90vsgQCd8s/zzsRuiuYyD9gOqXyop7FP9XxfFOijcI/TzVS9vvQvj8QpoXJP2W4P78UbmYI37E/CNpyo9WKpj98Uoh7RH6SP0Zio7VqWoC/9HgWgudnob+vAoB1T6auvw8npx+54bW/UtBE2olYvL+LvdXOSljBv3b/rsF8ccS/c/t3wn10x798uaPkCF7Kvwhtyd70Ks2//FYfeTfYz7/DAB5tdDHRv/xsRFcjZNK/stp8k9uC07+gbuTlZYzUv+mpExCif9W/ys4BCohb1r8m+p8gKR/Xv4PI9Piwyde/vUyfdmZa2L/vGceErNDYv+hEn8ACLNm/rUXDBAZs2b/TcdbUcJDZv3088agbmdm/9VuKGP2F2b9+QK3kKVfZvyTGcuHUDNm/SZbUvk6n2L/7HBexBSfYv4slKfmEjNe/VPd6TXTY1r+QDPEjlwvWv3D7t93LJtW/yuXf1Qor1L85dcVTZRnTv/cKbWIE89G/Kx0Sjie50L9lnJESR9rOv6B5VHbBIMy/QQU6cLNIyb97FcVNM1XGv8urTid1ScO/S5LPZccowL8vsDJYHu25v6MwyE6JbLO/EhvELL2tqb99x8PkD82Yv6qnJWpnxF0/jNz40peDnD/wteC9+oWrP+hUapUkVrQ/0GWCiDjTuj9D1n8Pl5nAP92Tru2Mt8M/W5derxvAxj/XALNg+K/JP8AhZ9zyg8w/QEe7Qfk4zz+MVcOkDebQP0weaLtGHdI/2ge8D9ZA0z8kH9Mkf0/UP8CYcS0cSNU/MLX3Sp8p1j/7N1OyE/PWP6ZzuLWeo9c/qHkCsoA62D/1wLjeFbfYP3542P/WGNk/P4Og+Flf2T9EycA+UorZP1XTby2Rmdk/gIEMOAaN2T+l5hT8vmTZP2bIXjLnINk/yM+hf8jB2D+N7YYkykfYP1m5k41ws9c/zXZrw1wF1z+2xQG8Sz7WPxXCfI0VX9U/gTelg6xo1D8sh+MYHFzTPzXA5tOHOtI/NxYxCyoF0T8QcMIfpXrPP6zUVYLKyMw/zCgVFLH3yT/INa6VZwrHP7dk1mAbBMQ/CZBm9RTowD/VE/3RaHO7P7RGHXrb+LQ/ZzwFfRTPrD8crbTCWBqfP0UmwLIV03E/5+utN6Q1lr/SyvAM+WOov3DdNRVTybK/j42IH0VMub9/7bItwbO/v+8hgctp/MK/qgXQBlcKxr/PduuAVwDJvzUjY2o028u/kgBaadSXzr8oZ1p7n5nQv+a608tP1dG/w4gQeKT90r85fWDVWxHUvzyllplKD9W/amHqH1321b95ai2UmMXWv0cSEgMcfNe/+zpaTiEZ2L/U8eUD/pvYv0Q8uBYkBNm/5EApeSJR2b/Na56XpYLZvxxWQ7N3mNm/6/hgHIGS2b841RNMyHDZvz0pRd1xM9m/lNLuZMDa2L85ANUpFGfYv9wnBLzq2Ne/P7CEbN4w178qRNilpW/WvyWj9iUSltW/HuGgGhCl1L8HOQIhpZ3Tv6a9tCnvgNK/CSdeQiNQ0b+wuDVGjAzQvwicvu0Sb82/iAND/hmlyr+8kinCNL7Hv+lU/6KJvcS/HltRBFumwb9YkORzB/i8v6Veccfmg7a/svCoyqrur7+pb4Bu3rKivzmmU7gXi4W/DN0W6qzMjz8Y9Zw2e0ClP0dWxsdcO7E/2IWgbMfDtz+16cQhZjK+P1k/1r8eQMI/lIzN2TpTxT+Q1Jz2ME/IP4JUwM7DMMs/j6OKv9L0zT9+vx2YLkzQP6awJ+pCjNE/FSm/40q50j9J5ATA/9HTPy5zE8ow1dQ/5HnBp8TB1T9VBAqLupbWP0tsz0grU9c/oDrKU0r21z8xm5OaZn/YPyhk2kfr7dg/TwfyY2BB2T/HDwxXa3nZPw/SjkvPldk/PIwecG2W2T9HShEZRXvZP1Q9KcFzRNk/5LuU6TTy2D9Pp1bZ4YTYP+VTXTzx/Nc/CSaxovZa1z94uUbgoZ/WP5hvIk6+y9U/Ap2c7THg1D9v3rVu/N3TP9uuiho2xtI/aHUTow6a0T8PW3vZy1rQP2Jr55iQE84/1PMHoONQyz88Fd3gj3DIP2DrsqO0dcU/whv+/I1jwj+4HvWU4nq+PyzurimTDbg/Cxe8syeGsT/31WgMbdelP8wGCmmqFZE/ThLHxSEsg78BuPYlshuiv4yrV8+zWK+/xeIUVdc5tr9gYkpxNK+8v2aSYUG3gsG/2HtCTtKaxL/4JdCKj5zHv59b8GmrhMq/9eXjMP5Pzb93sBBkf/vPv3Vt8IgkQtG/q+URfM1z0r9UgUPAbpHTvwRvdEjSmdS/p7A7FtmL1b/oKGBxfGbWvxkrBwXPKNe/XgFU4f3R178kt2BgUWHYv/Cil+0t1ti/wkuVrhQw2b/TU9sMpG7Zv7Txvh+Ykdm/hfof9sqY2b+keJi/NITZv+gZ+NTrU9m/AEACoCQI2b/8CIliMaHYv8gPI92BH9i/PdTc1aKD17/Fdml/Pc7Wvx+meMEWANa/dCL5Yg4a1b/D0i8XHh3Uvy4fq25YCtO/o8c4refi0b+5vCGGDKjQv4XZFoA5ts6/etbwgwP7y79zQfYVbiHJv2/PiCyRLMa/Fm6aWqIfw7/iz7en4vu/v1DQHanIlbm/3XPE4egTs79MiGY/p/qovw4wyK6+ZJe/Cg74QK8paj+Mb3S0neudP3rroH/FOKw/jSK91IyutD83af+uQyq7P+sYKNg+xMA/zldWnijhwz8Ulp8dfujGP7XnMbb11sk/qmZpxmCpzD8wShgfr1zPP4QRYSv59tA/bBQXfDAt0j/MNm7ErE/TPzysCrIyXdQ/iNu8s51U1T/wLxY34TTWPzr68csJ/dY/GOW1LD6s1z+zJysqwEHYP3Jy8HntvNg/a32kZkAd2T8T/glhUGLZP3N3h3HSi9k/gbCHiZmZ2T/0e2K0lovZP9G4mCfZYdk/ve1RMo4c2T9oaS0MAbzYP5hNnIOaQNg/WSMdjOCq1z+aeNSsdfvWP4VcIFAYM9Y/uzzm9KFS1T8rgXtCBlvUP1QwKQBSTdM/Na5p8akq0j9xUx2YSfTQP+CZHbwDV88/OhV2Tm+jzD8Kc9OcxNDJPz+idRsU4sY/z+/GqYzawz8q6NAdeL3AP9jA2GRvHLs/JlgZuICgtD98CIYgXBysPyjcEVlmsp0/+wIHWsBeaD/Xb6THBJ6Xv8sQ+1MfF6m/8cKH/P8hs78Y+9eIq6O5vxNwzBzBBMC/3+u9F0kmw78H/oylBzPGv2hs7UatJ8m/Yk3vpAQBzL9UTo8M9rvOvz0bDWXFqtC/Em9fMHjl0b+nU2jNvQzTv0aLs7dVH9S/DcYa3RUc1b/V4lPh6wHWv0Jcwkfez9a/CJpIgg2F17++LfPjtCDYv9iOdnYroti/hJuXseQI2b+gwbcTcVTZv0I935p+hNm/WAfCHdmY2b+N016EapHZv5ym+t86btm/YP1eYnAv2b92BWQ0T9XYv+/o8ys5YNi/73zXYa3Q17+wnL+nRyfXvyDvIN+/ZNa/zbaZMemJ1b9QU7orsZfUvzRGKbsej9O/GKM6EVFx0r8XuzBrfj/Rv6DN8ILl9c+/1AydvhxKzb/qq6vIiH7Kv6t0eGMylse/vqdJiUGUxL9M3ED/+XvBv8iDQZRvoby/pvaAEdcrtr9a4ofgWjyvvybM45Qf/6G/zARBCG25gr8aWrfC+06RPwxpwBry86U/MkYD8UiUsT8eAo/Ggxu4P69BtG+TiL4/Yx8LGz9qwj9/B9cuN3zFP0hAEMjcdsg/FyV8DPRWyz+/G3X1XRnOP+gNodmNXdA/Ehi79qic0T9nM2jupcjSP0Q4nx0/4NM/as1oA0Xi1D/wZlOKn83VP40dezhPodY/1V/bRG5c1z+Qcr2QMf7XP4b+NITphdg/qVa7zALz2D+oixr9BkXZP7i6+g2de9k/oAiGvomW2T9UY7rUr5XZP4M4Iz0Qedk/rLDYCcpA2T+phcVQGu3YPwERWOlbftg/UIzmCQf11z/KjTHFsFHXP4pmkmgKldY/lAqFu+C/1T+oal4hG9PUPxWRIJ66z9M/5x19v9i20j9fBzVrponRP6VKIZRqSdA/WtyXrgHvzT+n8zQFsCrLP7QXRw3hSMg/h3e/qrVMxT9gkfVeaznCPyqxc4ixJL4/XBxU3NO1tz89kWxlOS2xPxXLe3/zI6U/KCiQJAZajz9QR6Dyyf2FvwIjGrpuz6K/N+rl6H8FsL+FlzNI5JG2v5C7H8LIBb2/C477Ghatwb8878zaF8TEv8hYZv2OxMe/JSmpVzmryr+F+fK/8HTNv2UpmjxXD9C/lYf1PcdS0b8ctrdMaYPSvwnzFbvyn9O/NTjCqy6n1L+04jBh/5fVv9N3xHNfcda/PNCO7WIy179jrnNKONrXv4WwllspaNi/W8EdDZzb2L/gWnENEzTZv0YRRVUucdm/xLfUj6uS2b/u++RiZpjZv49NOZZYgtm/uz1UGppQ2b/kAHvuYAPZvz9JGOYAm9i/yxm+TesX2L9CVilwrnrXv0yTzPv0w9a/TtCJSYX01b/UMWSFQA3VvxJ9E7ohD9S/r6OCwDz70r8XKWEUvdLRv5hvDI/kltC/0pljFBSSzr+yRknXL9XLv6P2+DcV+si/wEJM090Dxr8sClC0wPXCv0Syta0dpr+/gV/1G18+ub84RkWkObuyv7fSa+x9R6i/xkBiTlv8lb8lafg9i7hyP80mDFqMU58/XFAoV3rrrD97CLUE5Qa1P8TkUb05gbs/IDnGm9nuwD8gHCHftArEP3J28sHOEMc/iNkA+979yT94wsFuuM7MP7g++qFMgM8/O3WQhdcH0T8uo3MfDD3SP8M0PHp0XtM/oFwTb9Zq1D9a4bipDmHVP/vnv+QRQNY/4lauC+4G1z/86MNBy7TXP0uqS8zsSNg/7Il537HC2D9onfVMliHZPyCeVxMzZdk/y+D2zT6N2T+8Z5UEjpnZPz6Vj1oTitk/HUVdnd9e2T8wj1SyIRjZP2wAwmMmttg/7IiNDVg52D8jnsYpPqLXPwnklL188dY/GPwsp9Mn1j90wYrNHUbVP08F0zJQTdQ/9bpe6ng+0z+DRZDzvRrSP7oisfpb49A/iLtkAkozzz9Y4ond/X3MP9WpsBnEqck/7vtJ3K65xj8tUfyH7rDDP/YrdEbOksA/YAZH6mDFuj90AaPxFUi0P5wG3u+Naas/J1b531xKnD/MwgHEhC5aP1optwBTBpm/pN5MHzLKqb8sOG0Innqzvx1kSwn++rm/3+xnMpUvwL+MWzqFGVDDv/z0RAenW8a/mgZchO9Oyb/A5o0gvybMv/++F9L/386/e8B9Xd670L8b/EmvkvXRv2mt1VfIG9O/vI/h+T8t1L+EbDW80CjVvyus2otpDda/YkeIRBLa1r9iVP697I3Xv+fMLL01KNi/3McfyEWo2L/YG8vbkQ3Zv+QU8AKsV9m/9Gx5zUOG2b8j/sunJpnZv45erRFAkNm/+9KEtJlr2b9Vbt5YWyvZv7XAO7vKz9i/dPZgQEtZ2L8Zk3CJXcjXv+flSuieHde/p8jItMhZ1r/MB4uDr33VvxTYOD9CitS/89UnJYmA0782E4empGHSv/CNRC/MLtG/wOABqJnSz79AGgHRDyXNv9AgRADjV8q/yHT2sx1ux788HKR06WrEv+03emaLUcG/D2EfecFKvL+eyiAkttO1v4x5BrXyia6/dUG6wVJLob8cYOybZ89/v0ZinZ+Tt5I/HWfb8lenpj8P06lzJ+2xP4A/Jmgtc7g/VJ3dB6nevj/2AYQpUZTCP85B0dQipcU/cGA9mnWeyD+is1kPD33LP8Lm9MvRPc4/6U/YZeBu0D8KMDdWAa3RP5QZB2Py19I/S94RDG/u0z+U6jkFSe/UP2//nn5p2dU/oKREU9Kr1j9WzPEcn2XXP1UyHiwGBtg/vFbgYlmM2D+Mbu7xBvjYPyAg5faZSNk/hzwo+7p92T/4u9NSMJfZP1LuVVvelNk/ROtumcd22T8SsnS2DD3ZP6vw3lzs59g/3u1A9MJ32D/ocPs8Cu3XPwl+E8xYSNc/k269Z2GK1j+Uwk1F8rPVP7BcYin0xdQ/AR83a2nB0z8sLzjcbKfSP19JApUwedE/bWEeqfw30D/yfcKFW8rNPwdN41FnBMs/ntofXh8hyD/mfKAnpiPFPwJpG5o6D8I/Sv67E2nOvT8+g5glAl63PzQgjsA91LA/hq4JiGlwpD/YL6Ien4iMPxf6ywthz4i/g6vushyDo78MWzR5mV6wv/ujo7Tf6ba/2LGJiUZcvb9y1Lw6Z9fBv//xQUdN7cS/BmYr+3vsx7844t2PstHKv1jURW/Mmc2//v+bTuIg0L/yTkJ/XGPRvzwDF732ktK/Y6GueGeu079Gw20Fe7TUv5kGhOcUpNW/j466CDF81r8488bS5DvXv8Qh8C1g4te/JsTwYu5u2L/A/SHf9uDYv5SMGdr9N9m/uIcH3KRz2b984UEkq5PZvx9aju/tl9m/OpvenWiA2b9BglW3NE3ZvxkokNCJ/ti/nLtQTr2U2L9nrMwIQhDYv8PEAs+ncde/HIWgypq51r+BNCDF4ujVv3uC6k5iANW/biNnyRUB1L/VXQdVEuzSvyvqc6SEwtG/3a8ktq+F0L/0X4nr1m3OvzdnvY1Gr8u/g/nP9KjSyL9MUaphGdvFv+Qk9VTQy8K/tPQyIEBQv78MHZr04ea4v09YKNt7YrK/K6PzvkGUp7/w0Gvb5pOUv4QG7FEwXHg/DXsgVrFdoD+yyLG5GJ6tPxb/t+AsX7U/ws7ybxrYuz/70kQ5ZxnBPwWMy48xNMQ/PfgIfQ05xz+Kp+gQtCTKP0fgcLj588w/0iK5rtGjzz/KLTimqBjRP2djLZnZTNI/SN6rJS1t0z9yxFVRanjUP8J2vAVvbdU/vF1ESzFL1j9E8tlpwBDXPwWePu5Fvdc/+M/RkgZQ2D+UkdkKY8jYP8/6ba/YJdk/R8VLDQJo2T/JFfRSl47ZP/jqoZ5umdk/4JbAK3yI2T8F5rFf0lvZP8AX1rWhE9k/zFTrijiw2D9wxP3HAjLYP1SVRG2Jmdc/iCRr/XHn1j/Ep+fJfRzWP/RrIiGJOdU/s2lRX4o/1D+cygvjkC/TP3Wit+bDCtI/eK0RQGHS0D8AvFUOeA/PPySVpEx2WMw/8An2qK+CyT9mh4n3N5HGP8e/xxtBh8M//3JxkBdowD9S6+GlPW66Py22Ymub77M/T/vldaq2qj9S7/5uPeKaP4ifMPqj+yw/hKEcy41umr9ECtjjMH2qv6bpFfQs07O/R+wTXTxSur97Bmq2XFrAvzwnfvPaecO/P4FsDDWExr/sBrsaHnbJv5Ln8r9jTMy/jUn3nfEDz79ngGVX6szQv4coEjyfBdK/q4qqC8Qq078MWhyRGjvUvxb/Ay17NdW/YHWSFtYY1r/m5JKCNOTWvyeVT6+5lte/VIIz1KMv2L/0biT0TK7Yv/AcsZErEtm/5BdQRNNa2b9yDw0u9YfZv2MEJVFgmdm/uFo0xQGP2b+JFr3L5GjZv0P87sMyJ9m/iNe+/TLK2L91qH1sSlLYv1m+Qzn7v9e/ULOmNeQT179Ip1MvwE7Wv5PdSCVlcdW/sNmKX8N81L+kIlFq5HHTv9PMxfXpUdK/L7CQmwwe0b9CRAcXNa/Pv0wUsEHs/8y/6i4Pwygxyr+IRMPS9kXHv8yDKYWBQcS/2YXwWg8nwb8nXM1l/fO7v10CwEOEe7W/hFuu0nLXrb+HaKKAeJegv2cNxnPcK3q/J+G68xwglD+bR58zrFqnPxiRtwr4RbI/Xb9TDcTKuD+9P2inpjS/P9uvlcpUvsI/cZ31q/3NxT+5smRO+8XIPxX6wbkUo8s/fJm7Ji5izj8E+08vJoDQP3Oy6vtLvdE/+KC6NTDn0j/4jFiAj/zTP2Nna8U8/NQ/zL58eyLl1T+R4zzTQ7bWPyKn78m9btc/c9nXH8gN2D+LBpYxtpLYP5l/jrP3/Ng/HkSLThlM2T9Mw+8cxX/ZP66R9gfDl9k/ntaTBPmT2T8kX7ova3TZP3+k5Mk7Odk/sp/mEavi2D/0wzD/FnHYP4vYz9v65Nc/RGSYvu4+1z8S9Q7mpn/WP1h2wPTyp9U/V/3eD7241D/apxfhCLPTP3CCtXzyl9I/32BDLa1o0T/9aPslgibQP4rJ3Dqepc0/UoPNowneyj8roUbySvnHP8p4ODqG+sQ/r7oyz/vkwT/IQc55CXi9P2G+rUkeBrc/J7k5CjV7sD80CH2xz7yjP/qtefAht4k/EGb14OSgi79x2u2Euzakv4fnZlOmt7C/fPkSVslBt78Xkl6ErbK9v68tyX+qAcK/1pehc3IWxb/Yah5lVhTIvx9drvQW+Mq/V289IpG+zb94cG7aYDLQv5g59j/kc9G/FB8cwXWi0r9Z09PtzLzTv1F/I0u3wdS/XefSnxmw1b9JxNsn8YbWv8yWTa1URde/rQ10hXXq1784My1xoHXYv7bde18+5ti/ni2DEdU72b/cGDmfB3bZvyr4P9yWlNm/jJ15nGGX2b/ugwnYZH7Zv4QBn667Sdm/xOoDSp/52L+8mw+gZo7Yv+jCQRSGCNi/0WRr+Y5o17/QPO/zLq/WvzC3RD0v3dW/eB+KyXPz1L+AHRNQ+vLTv88aADjZ3NK//4QJaj6y0b93+MYIbnTQvzQgrCGCSc6/GKC9xEeJy78lMRhrKavIvxkpS/dDssW/484aXdGhwr+d0txBSvq+v+H9+3ZRj7i/e5ZWy68Jsr8PQCxC8+Cmv7n5y21iK5O/N59Pe8L/fT+zTdPJjxGhPySciRygUK4/VKY4JGS3tT8irWuD5S68P4O+mI/nQ8E/a2sekJ5dxD+qxqIvOmHHP5DQwdl0S8o/EM6IhiQZzT8I/L8pPsfPP2cxSYBsKdE/8un+3Jhc0j+ouk671nvTP5fGRk7uhdQ/nEsrvr551T/kfQBiP1bWP61U1N6AGtc/hG+QK67F1z9ACzp4DVfYP9AApfcAztg/pN6+igcq2T/cJbhMvWrZP0aPc//bj9k/25vFVzuZ2T8HsTEp0YbZP/xC9XCxWNk/iBJVQA4P2T8FC0SGN6rYP16/nriaKtg/u7VZXcKQ1z9IfCN0Vd3WPybAHcEWEdY/Iy5y+eMs1T93lajStDHUP+ecw/WZINM/gMtH17v60T9nS251WcHQP59JwfuN684/7azquNgyzD9NQfxoh1vJP4U3oIyvaMY/LlWGhYRdwz/H1/McVD3AP2KkU9sFF7o/oDoNahGXsz8MX4c9sgOqP2Tkxx0Jepk/GV+llZ7vUr/H0RoPtNabvw0jnhYbMKu/wFi9eqwrtL/EYXJAZqm6v9aYmocXhcC/ZbAcQo2jw7+duoWVsazGv8Bjnes4ncm/+jLjZfJxzL8cekRUyyfPv6+eh0Xp3dC/lo5Byp0V0r86ZUTdsDnTv7XnoXLlSNS/iqawJRVC1b+UQpx4MSTWv2i1A/pE7ta/K+RmT3Sf179fSEIj/zbYv5gz1vVAtNi/Kxi3z7EW2b/w72TV5l3Zv3idSbuSidm/jFOgGYaZ2b/E8uqfr43Zv/iAvSccZtm/vlPLpvYi2b8PEkUAiMTYv8krurU2S9i/tajTd4a3178+G2GXFwrXvy/aUlemQ9a/LXReIApl1b8pJCuXNG/UvxYoBJYwY9O/qaMtCyFC0r+2iha9Pw3Rvzq5fOu3i8+/CNaALbLazL90eh8vWgrKv36wDN+9Hce/vfkA2wkYxL9CSaH9hfzAvwisq50jnbu/iOLatEEjtb9XfhvE2yStv1p2iroix5+/T/0C+TyIdL9/oBinloiVP+Eey1HuDag/GAA1cbqesj9mxBNyRyK5Pz8JjguMir8/3yWg3Unowj9oj4qUx/bFP8CS1cVt7cg/EIsu7gTJyz83Co3pcobOP55rnihfkdA/4v4u24jN0T8T6axaX/bSPyAAe2+gCtQ/m4DuOSAJ1T+kTdJ3yvDVP2zQR7CjwNY/OAHARMp31z/QQ+RldxXYP/o+Zev/mNg/o2zFDdUB2T+YtVUBhU/ZP+Dbu3G7gdk/nZ183UGY2T/FMibR/5LZPxXs2gH7cdk/1CMfR1c12T/3OfFzVt3YP0TXVQ9Yatg/JAem7Njc1z+otw+kcjXXP/+02+vadNY/shsu0+Kb1T+AXhffdavUP+I17AqZpNM/Cv35rGmI0j+1AMtAHFjRP9/2Shj7FNA/Rzhu6smAzT+tXb4Yl7fKP/Ioqehj0cc/uZR2AlbRxD+4egkfr7rBP8rCvP2SIb0/IpPTjCiutj8QipKHHyKwP9fyTIcmCaM/UmBYypDlhj8Eo9VBU3KOv6y2nKRK6qS/mj1XMqYQsb8Maj3ooJm3v8Jshm/9CL6/citPyd8rwr+jm/g/hz/Fv+35TBwePMi/6JNKaGYey79Nkky8PuPNv//De9LSQ9C/2zM7c16E0b9lib5M5rHSvwyvVw8jy9O/E1iccuPO1L/MXsiADbzVv9MBz8ifkda/ncLOdbJO17/0jLhKePLXvwr8GIE/fNi//+cRinLr2L8wwLKwmD/Zv5V+/5xWeNm/B/EXt26V2b9avRNqwZbZv2SKSkZNfNm/BxfjAi9G2b/Qj6deofTYvxv3QOD8h9i/SNkedrcA2L80nHP2Y1/Xv/Je0H+xpNa/6XINu2rR1b/wu03/dObUv+zQC1nP5NO/kw4/dZHN0r/vJsVx6qHRv1W4WZQfY9C/hy4C0xUlzr+6EcuZM2PLv26DfbmWg8i/pCHks12Jxb/HbF3tw3fCvx9mc1U8pL6/",
          "dtype": "f8"
         }
        }
       ],
       "layout": {
        "template": {
         "data": {
          "bar": [
           {
            "error_x": {
             "color": "#2a3f5f"
            },
            "error_y": {
             "color": "#2a3f5f"
            },
            "marker": {
             "line": {
              "color": "#E5ECF6",
              "width": 0.5
             },
             "pattern": {
              "fillmode": "overlay",
              "size": 10,
              "solidity": 0.2
             }
            },
            "type": "bar"
           }
          ],
          "barpolar": [
           {
            "marker": {
             "line": {
              "color": "#E5ECF6",
              "width": 0.5
             },
             "pattern": {
              "fillmode": "overlay",
              "size": 10,
              "solidity": 0.2
             }
            },
            "type": "barpolar"
           }
          ],
          "carpet": [
           {
            "aaxis": {
             "endlinecolor": "#2a3f5f",
             "gridcolor": "white",
             "linecolor": "white",
             "minorgridcolor": "white",
             "startlinecolor": "#2a3f5f"
            },
            "baxis": {
             "endlinecolor": "#2a3f5f",
             "gridcolor": "white",
             "linecolor": "white",
             "minorgridcolor": "white",
             "startlinecolor": "#2a3f5f"
            },
            "type": "carpet"
           }
          ],
          "choropleth": [
           {
            "colorbar": {
             "outlinewidth": 0,
             "ticks": ""
            },
            "type": "choropleth"
           }
          ],
          "contour": [
           {
            "colorbar": {
             "outlinewidth": 0,
             "ticks": ""
            },
            "colorscale": [
             [
              0,
              "#0d0887"
             ],
             [
              0.1111111111111111,
              "#46039f"
             ],
             [
              0.2222222222222222,
              "#7201a8"
             ],
             [
              0.3333333333333333,
              "#9c179e"
             ],
             [
              0.4444444444444444,
              "#bd3786"
             ],
             [
              0.5555555555555556,
              "#d8576b"
             ],
             [
              0.6666666666666666,
              "#ed7953"
             ],
             [
              0.7777777777777778,
              "#fb9f3a"
             ],
             [
              0.8888888888888888,
              "#fdca26"
             ],
             [
              1,
              "#f0f921"
             ]
            ],
            "type": "contour"
           }
          ],
          "contourcarpet": [
           {
            "colorbar": {
             "outlinewidth": 0,
             "ticks": ""
            },
            "type": "contourcarpet"
           }
          ],
          "heatmap": [
           {
            "colorbar": {
             "outlinewidth": 0,
             "ticks": ""
            },
            "colorscale": [
             [
              0,
              "#0d0887"
             ],
             [
              0.1111111111111111,
              "#46039f"
             ],
             [
              0.2222222222222222,
              "#7201a8"
             ],
             [
              0.3333333333333333,
              "#9c179e"
             ],
             [
              0.4444444444444444,
              "#bd3786"
             ],
             [
              0.5555555555555556,
              "#d8576b"
             ],
             [
              0.6666666666666666,
              "#ed7953"
             ],
             [
              0.7777777777777778,
              "#fb9f3a"
             ],
             [
              0.8888888888888888,
              "#fdca26"
             ],
             [
              1,
              "#f0f921"
             ]
            ],
            "type": "heatmap"
           }
          ],
          "histogram": [
           {
            "marker": {
             "pattern": {
              "fillmode": "overlay",
              "size": 10,
              "solidity": 0.2
             }
            },
            "type": "histogram"
           }
          ],
          "histogram2d": [
           {
            "colorbar": {
             "outlinewidth": 0,
             "ticks": ""
            },
            "colorscale": [
             [
              0,
              "#0d0887"
             ],
             [
              0.1111111111111111,
              "#46039f"
             ],
             [
              0.2222222222222222,
              "#7201a8"
             ],
             [
              0.3333333333333333,
              "#9c179e"
             ],
             [
              0.4444444444444444,
              "#bd3786"
             ],
             [
              0.5555555555555556,
              "#d8576b"
             ],
             [
              0.6666666666666666,
              "#ed7953"
             ],
             [
              0.7777777777777778,
              "#fb9f3a"
             ],
             [
              0.8888888888888888,
              "#fdca26"
             ],
             [
              1,
              "#f0f921"
             ]
            ],
            "type": "histogram2d"
           }
          ],
          "histogram2dcontour": [
           {
            "colorbar": {
             "outlinewidth": 0,
             "ticks": ""
            },
            "colorscale": [
             [
              0,
              "#0d0887"
             ],
             [
              0.1111111111111111,
              "#46039f"
             ],
             [
              0.2222222222222222,
              "#7201a8"
             ],
             [
              0.3333333333333333,
              "#9c179e"
             ],
             [
              0.4444444444444444,
              "#bd3786"
             ],
             [
              0.5555555555555556,
              "#d8576b"
             ],
             [
              0.6666666666666666,
              "#ed7953"
             ],
             [
              0.7777777777777778,
              "#fb9f3a"
             ],
             [
              0.8888888888888888,
              "#fdca26"
             ],
             [
              1,
              "#f0f921"
             ]
            ],
            "type": "histogram2dcontour"
           }
          ],
          "mesh3d": [
           {
            "colorbar": {
             "outlinewidth": 0,
             "ticks": ""
            },
            "type": "mesh3d"
           }
          ],
          "parcoords": [
           {
            "line": {
             "colorbar": {
              "outlinewidth": 0,
              "ticks": ""
             }
            },
            "type": "parcoords"
           }
          ],
          "pie": [
           {
            "automargin": true,
            "type": "pie"
           }
          ],
          "scatter": [
           {
            "fillpattern": {
             "fillmode": "overlay",
             "size": 10,
             "solidity": 0.2
            },
            "type": "scatter"
           }
          ],
          "scatter3d": [
           {
            "line": {
             "colorbar": {
              "outlinewidth": 0,
              "ticks": ""
             }
            },
            "marker": {
             "colorbar": {
              "outlinewidth": 0,
              "ticks": ""
             }
            },
            "type": "scatter3d"
           }
          ],
          "scattercarpet": [
           {
            "marker": {
             "colorbar": {
              "outlinewidth": 0,
              "ticks": ""
             }
            },
            "type": "scattercarpet"
           }
          ],
          "scattergeo": [
           {
            "marker": {
             "colorbar": {
              "outlinewidth": 0,
              "ticks": ""
             }
            },
            "type": "scattergeo"
           }
          ],
          "scattergl": [
           {
            "marker": {
             "colorbar": {
              "outlinewidth": 0,
              "ticks": ""
             }
            },
            "type": "scattergl"
           }
          ],
          "scattermap": [
           {
            "marker": {
             "colorbar": {
              "outlinewidth": 0,
              "ticks": ""
             }
            },
            "type": "scattermap"
           }
          ],
          "scattermapbox": [
           {
            "marker": {
             "colorbar": {
              "outlinewidth": 0,
              "ticks": ""
             }
            },
            "type": "scattermapbox"
           }
          ],
          "scatterpolar": [
           {
            "marker": {
             "colorbar": {
              "outlinewidth": 0,
              "ticks": ""
             }
            },
            "type": "scatterpolar"
           }
          ],
          "scatterpolargl": [
           {
            "marker": {
             "colorbar": {
              "outlinewidth": 0,
              "ticks": ""
             }
            },
            "type": "scatterpolargl"
           }
          ],
          "scatterternary": [
           {
            "marker": {
             "colorbar": {
              "outlinewidth": 0,
              "ticks": ""
             }
            },
            "type": "scatterternary"
           }
          ],
          "surface": [
           {
            "colorbar": {
             "outlinewidth": 0,
             "ticks": ""
            },
            "colorscale": [
             [
              0,
              "#0d0887"
             ],
             [
              0.1111111111111111,
              "#46039f"
             ],
             [
              0.2222222222222222,
              "#7201a8"
             ],
             [
              0.3333333333333333,
              "#9c179e"
             ],
             [
              0.4444444444444444,
              "#bd3786"
             ],
             [
              0.5555555555555556,
              "#d8576b"
             ],
             [
              0.6666666666666666,
              "#ed7953"
             ],
             [
              0.7777777777777778,
              "#fb9f3a"
             ],
             [
              0.8888888888888888,
              "#fdca26"
             ],
             [
              1,
              "#f0f921"
             ]
            ],
            "type": "surface"
           }
          ],
          "table": [
           {
            "cells": {
             "fill": {
              "color": "#EBF0F8"
             },
             "line": {
              "color": "white"
             }
            },
            "header": {
             "fill": {
              "color": "#C8D4E3"
             },
             "line": {
              "color": "white"
             }
            },
            "type": "table"
           }
          ]
         },
         "layout": {
          "annotationdefaults": {
           "arrowcolor": "#2a3f5f",
           "arrowhead": 0,
           "arrowwidth": 1
          },
          "autotypenumbers": "strict",
          "coloraxis": {
           "colorbar": {
            "outlinewidth": 0,
            "ticks": ""
           }
          },
          "colorscale": {
           "diverging": [
            [
             0,
             "#8e0152"
            ],
            [
             0.1,
             "#c51b7d"
            ],
            [
             0.2,
             "#de77ae"
            ],
            [
             0.3,
             "#f1b6da"
            ],
            [
             0.4,
             "#fde0ef"
            ],
            [
             0.5,
             "#f7f7f7"
            ],
            [
             0.6,
             "#e6f5d0"
            ],
            [
             0.7,
             "#b8e186"
            ],
            [
             0.8,
             "#7fbc41"
            ],
            [
             0.9,
             "#4d9221"
            ],
            [
             1,
             "#276419"
            ]
           ],
           "sequential": [
            [
             0,
             "#0d0887"
            ],
            [
             0.1111111111111111,
             "#46039f"
            ],
            [
             0.2222222222222222,
             "#7201a8"
            ],
            [
             0.3333333333333333,
             "#9c179e"
            ],
            [
             0.4444444444444444,
             "#bd3786"
            ],
            [
             0.5555555555555556,
             "#d8576b"
            ],
            [
             0.6666666666666666,
             "#ed7953"
            ],
            [
             0.7777777777777778,
             "#fb9f3a"
            ],
            [
             0.8888888888888888,
             "#fdca26"
            ],
            [
             1,
             "#f0f921"
            ]
           ],
           "sequentialminus": [
            [
             0,
             "#0d0887"
            ],
            [
             0.1111111111111111,
             "#46039f"
            ],
            [
             0.2222222222222222,
             "#7201a8"
            ],
            [
             0.3333333333333333,
             "#9c179e"
            ],
            [
             0.4444444444444444,
             "#bd3786"
            ],
            [
             0.5555555555555556,
             "#d8576b"
            ],
            [
             0.6666666666666666,
             "#ed7953"
            ],
            [
             0.7777777777777778,
             "#fb9f3a"
            ],
            [
             0.8888888888888888,
             "#fdca26"
            ],
            [
             1,
             "#f0f921"
            ]
           ]
          },
          "colorway": [
           "#636efa",
           "#EF553B",
           "#00cc96",
           "#ab63fa",
           "#FFA15A",
           "#19d3f3",
           "#FF6692",
           "#B6E880",
           "#FF97FF",
           "#FECB52"
          ],
          "font": {
           "color": "#2a3f5f"
          },
          "geo": {
           "bgcolor": "white",
           "lakecolor": "white",
           "landcolor": "#E5ECF6",
           "showlakes": true,
           "showland": true,
           "subunitcolor": "white"
          },
          "hoverlabel": {
           "align": "left"
          },
          "hovermode": "closest",
          "mapbox": {
           "style": "light"
          },
          "paper_bgcolor": "white",
          "plot_bgcolor": "#E5ECF6",
          "polar": {
           "angularaxis": {
            "gridcolor": "white",
            "linecolor": "white",
            "ticks": ""
           },
           "bgcolor": "#E5ECF6",
           "radialaxis": {
            "gridcolor": "white",
            "linecolor": "white",
            "ticks": ""
           }
          },
          "scene": {
           "xaxis": {
            "backgroundcolor": "#E5ECF6",
            "gridcolor": "white",
            "gridwidth": 2,
            "linecolor": "white",
            "showbackground": true,
            "ticks": "",
            "zerolinecolor": "white"
           },
           "yaxis": {
            "backgroundcolor": "#E5ECF6",
            "gridcolor": "white",
            "gridwidth": 2,
            "linecolor": "white",
            "showbackground": true,
            "ticks": "",
            "zerolinecolor": "white"
           },
           "zaxis": {
            "backgroundcolor": "#E5ECF6",
            "gridcolor": "white",
            "gridwidth": 2,
            "linecolor": "white",
            "showbackground": true,
            "ticks": "",
            "zerolinecolor": "white"
           }
          },
          "shapedefaults": {
           "line": {
            "color": "#2a3f5f"
           }
          },
          "ternary": {
           "aaxis": {
            "gridcolor": "white",
            "linecolor": "white",
            "ticks": ""
           },
           "baxis": {
            "gridcolor": "white",
            "linecolor": "white",
            "ticks": ""
           },
           "bgcolor": "#E5ECF6",
           "caxis": {
            "gridcolor": "white",
            "linecolor": "white",
            "ticks": ""
           }
          },
          "title": {
           "x": 0.05
          },
          "xaxis": {
           "automargin": true,
           "gridcolor": "white",
           "linecolor": "white",
           "ticks": "",
           "title": {
            "standoff": 15
           },
           "zerolinecolor": "white",
           "zerolinewidth": 2
          },
          "yaxis": {
           "automargin": true,
           "gridcolor": "white",
           "linecolor": "white",
           "ticks": "",
           "title": {
            "standoff": 15
           },
           "zerolinecolor": "white",
           "zerolinewidth": 2
          }
         }
        }
       }
      }
     },
     "metadata": {},
     "output_type": "display_data"
    }
   ],
   "source": [
    "plot_signals([np.real(x1), np.imag(x1)], fs, name=['real part', 'imag part'])"
   ]
  },
  {
   "cell_type": "markdown",
   "metadata": {
    "id": "WbmSTmpIkU9B"
   },
   "source": [
    "2.1. Define a complex exponential with the same parameters that those from Lab 1 (Ex 3.1) and plot the real part."
   ]
  },
  {
   "cell_type": "code",
   "execution_count": 43,
   "metadata": {
    "executionInfo": {
     "elapsed": 14,
     "status": "ok",
     "timestamp": 1702317971656,
     "user": {
      "displayName": "PEDRO RAMONEDA FRANCO",
      "userId": "10653804143244385715"
     },
     "user_tz": -60
    },
    "id": "o3o5lc6WkTId"
   },
   "outputs": [
    {
     "data": {
      "application/vnd.plotly.v1+json": {
       "config": {
        "linkText": "Export to plot.ly",
        "plotlyServerURL": "https://plot.ly",
        "showLink": false
       },
       "data": [
        {
         "line": {
          "color": "#1f77b4",
          "shape": "linear"
         },
         "mode": "lines",
         "name": "real part",
         "type": "scatter",
         "x": {
          "bdata": "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",
          "dtype": "f8"
         },
         "y": {
          "bdata": "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",
          "dtype": "f8"
         }
        }
       ],
       "layout": {
        "template": {
         "data": {
          "bar": [
           {
            "error_x": {
             "color": "#2a3f5f"
            },
            "error_y": {
             "color": "#2a3f5f"
            },
            "marker": {
             "line": {
              "color": "#E5ECF6",
              "width": 0.5
             },
             "pattern": {
              "fillmode": "overlay",
              "size": 10,
              "solidity": 0.2
             }
            },
            "type": "bar"
           }
          ],
          "barpolar": [
           {
            "marker": {
             "line": {
              "color": "#E5ECF6",
              "width": 0.5
             },
             "pattern": {
              "fillmode": "overlay",
              "size": 10,
              "solidity": 0.2
             }
            },
            "type": "barpolar"
           }
          ],
          "carpet": [
           {
            "aaxis": {
             "endlinecolor": "#2a3f5f",
             "gridcolor": "white",
             "linecolor": "white",
             "minorgridcolor": "white",
             "startlinecolor": "#2a3f5f"
            },
            "baxis": {
             "endlinecolor": "#2a3f5f",
             "gridcolor": "white",
             "linecolor": "white",
             "minorgridcolor": "white",
             "startlinecolor": "#2a3f5f"
            },
            "type": "carpet"
           }
          ],
          "choropleth": [
           {
            "colorbar": {
             "outlinewidth": 0,
             "ticks": ""
            },
            "type": "choropleth"
           }
          ],
          "contour": [
           {
            "colorbar": {
             "outlinewidth": 0,
             "ticks": ""
            },
            "colorscale": [
             [
              0,
              "#0d0887"
             ],
             [
              0.1111111111111111,
              "#46039f"
             ],
             [
              0.2222222222222222,
              "#7201a8"
             ],
             [
              0.3333333333333333,
              "#9c179e"
             ],
             [
              0.4444444444444444,
              "#bd3786"
             ],
             [
              0.5555555555555556,
              "#d8576b"
             ],
             [
              0.6666666666666666,
              "#ed7953"
             ],
             [
              0.7777777777777778,
              "#fb9f3a"
             ],
             [
              0.8888888888888888,
              "#fdca26"
             ],
             [
              1,
              "#f0f921"
             ]
            ],
            "type": "contour"
           }
          ],
          "contourcarpet": [
           {
            "colorbar": {
             "outlinewidth": 0,
             "ticks": ""
            },
            "type": "contourcarpet"
           }
          ],
          "heatmap": [
           {
            "colorbar": {
             "outlinewidth": 0,
             "ticks": ""
            },
            "colorscale": [
             [
              0,
              "#0d0887"
             ],
             [
              0.1111111111111111,
              "#46039f"
             ],
             [
              0.2222222222222222,
              "#7201a8"
             ],
             [
              0.3333333333333333,
              "#9c179e"
             ],
             [
              0.4444444444444444,
              "#bd3786"
             ],
             [
              0.5555555555555556,
              "#d8576b"
             ],
             [
              0.6666666666666666,
              "#ed7953"
             ],
             [
              0.7777777777777778,
              "#fb9f3a"
             ],
             [
              0.8888888888888888,
              "#fdca26"
             ],
             [
              1,
              "#f0f921"
             ]
            ],
            "type": "heatmap"
           }
          ],
          "histogram": [
           {
            "marker": {
             "pattern": {
              "fillmode": "overlay",
              "size": 10,
              "solidity": 0.2
             }
            },
            "type": "histogram"
           }
          ],
          "histogram2d": [
           {
            "colorbar": {
             "outlinewidth": 0,
             "ticks": ""
            },
            "colorscale": [
             [
              0,
              "#0d0887"
             ],
             [
              0.1111111111111111,
              "#46039f"
             ],
             [
              0.2222222222222222,
              "#7201a8"
             ],
             [
              0.3333333333333333,
              "#9c179e"
             ],
             [
              0.4444444444444444,
              "#bd3786"
             ],
             [
              0.5555555555555556,
              "#d8576b"
             ],
             [
              0.6666666666666666,
              "#ed7953"
             ],
             [
              0.7777777777777778,
              "#fb9f3a"
             ],
             [
              0.8888888888888888,
              "#fdca26"
             ],
             [
              1,
              "#f0f921"
             ]
            ],
            "type": "histogram2d"
           }
          ],
          "histogram2dcontour": [
           {
            "colorbar": {
             "outlinewidth": 0,
             "ticks": ""
            },
            "colorscale": [
             [
              0,
              "#0d0887"
             ],
             [
              0.1111111111111111,
              "#46039f"
             ],
             [
              0.2222222222222222,
              "#7201a8"
             ],
             [
              0.3333333333333333,
              "#9c179e"
             ],
             [
              0.4444444444444444,
              "#bd3786"
             ],
             [
              0.5555555555555556,
              "#d8576b"
             ],
             [
              0.6666666666666666,
              "#ed7953"
             ],
             [
              0.7777777777777778,
              "#fb9f3a"
             ],
             [
              0.8888888888888888,
              "#fdca26"
             ],
             [
              1,
              "#f0f921"
             ]
            ],
            "type": "histogram2dcontour"
           }
          ],
          "mesh3d": [
           {
            "colorbar": {
             "outlinewidth": 0,
             "ticks": ""
            },
            "type": "mesh3d"
           }
          ],
          "parcoords": [
           {
            "line": {
             "colorbar": {
              "outlinewidth": 0,
              "ticks": ""
             }
            },
            "type": "parcoords"
           }
          ],
          "pie": [
           {
            "automargin": true,
            "type": "pie"
           }
          ],
          "scatter": [
           {
            "fillpattern": {
             "fillmode": "overlay",
             "size": 10,
             "solidity": 0.2
            },
            "type": "scatter"
           }
          ],
          "scatter3d": [
           {
            "line": {
             "colorbar": {
              "outlinewidth": 0,
              "ticks": ""
             }
            },
            "marker": {
             "colorbar": {
              "outlinewidth": 0,
              "ticks": ""
             }
            },
            "type": "scatter3d"
           }
          ],
          "scattercarpet": [
           {
            "marker": {
             "colorbar": {
              "outlinewidth": 0,
              "ticks": ""
             }
            },
            "type": "scattercarpet"
           }
          ],
          "scattergeo": [
           {
            "marker": {
             "colorbar": {
              "outlinewidth": 0,
              "ticks": ""
             }
            },
            "type": "scattergeo"
           }
          ],
          "scattergl": [
           {
            "marker": {
             "colorbar": {
              "outlinewidth": 0,
              "ticks": ""
             }
            },
            "type": "scattergl"
           }
          ],
          "scattermap": [
           {
            "marker": {
             "colorbar": {
              "outlinewidth": 0,
              "ticks": ""
             }
            },
            "type": "scattermap"
           }
          ],
          "scattermapbox": [
           {
            "marker": {
             "colorbar": {
              "outlinewidth": 0,
              "ticks": ""
             }
            },
            "type": "scattermapbox"
           }
          ],
          "scatterpolar": [
           {
            "marker": {
             "colorbar": {
              "outlinewidth": 0,
              "ticks": ""
             }
            },
            "type": "scatterpolar"
           }
          ],
          "scatterpolargl": [
           {
            "marker": {
             "colorbar": {
              "outlinewidth": 0,
              "ticks": ""
             }
            },
            "type": "scatterpolargl"
           }
          ],
          "scatterternary": [
           {
            "marker": {
             "colorbar": {
              "outlinewidth": 0,
              "ticks": ""
             }
            },
            "type": "scatterternary"
           }
          ],
          "surface": [
           {
            "colorbar": {
             "outlinewidth": 0,
             "ticks": ""
            },
            "colorscale": [
             [
              0,
              "#0d0887"
             ],
             [
              0.1111111111111111,
              "#46039f"
             ],
             [
              0.2222222222222222,
              "#7201a8"
             ],
             [
              0.3333333333333333,
              "#9c179e"
             ],
             [
              0.4444444444444444,
              "#bd3786"
             ],
             [
              0.5555555555555556,
              "#d8576b"
             ],
             [
              0.6666666666666666,
              "#ed7953"
             ],
             [
              0.7777777777777778,
              "#fb9f3a"
             ],
             [
              0.8888888888888888,
              "#fdca26"
             ],
             [
              1,
              "#f0f921"
             ]
            ],
            "type": "surface"
           }
          ],
          "table": [
           {
            "cells": {
             "fill": {
              "color": "#EBF0F8"
             },
             "line": {
              "color": "white"
             }
            },
            "header": {
             "fill": {
              "color": "#C8D4E3"
             },
             "line": {
              "color": "white"
             }
            },
            "type": "table"
           }
          ]
         },
         "layout": {
          "annotationdefaults": {
           "arrowcolor": "#2a3f5f",
           "arrowhead": 0,
           "arrowwidth": 1
          },
          "autotypenumbers": "strict",
          "coloraxis": {
           "colorbar": {
            "outlinewidth": 0,
            "ticks": ""
           }
          },
          "colorscale": {
           "diverging": [
            [
             0,
             "#8e0152"
            ],
            [
             0.1,
             "#c51b7d"
            ],
            [
             0.2,
             "#de77ae"
            ],
            [
             0.3,
             "#f1b6da"
            ],
            [
             0.4,
             "#fde0ef"
            ],
            [
             0.5,
             "#f7f7f7"
            ],
            [
             0.6,
             "#e6f5d0"
            ],
            [
             0.7,
             "#b8e186"
            ],
            [
             0.8,
             "#7fbc41"
            ],
            [
             0.9,
             "#4d9221"
            ],
            [
             1,
             "#276419"
            ]
           ],
           "sequential": [
            [
             0,
             "#0d0887"
            ],
            [
             0.1111111111111111,
             "#46039f"
            ],
            [
             0.2222222222222222,
             "#7201a8"
            ],
            [
             0.3333333333333333,
             "#9c179e"
            ],
            [
             0.4444444444444444,
             "#bd3786"
            ],
            [
             0.5555555555555556,
             "#d8576b"
            ],
            [
             0.6666666666666666,
             "#ed7953"
            ],
            [
             0.7777777777777778,
             "#fb9f3a"
            ],
            [
             0.8888888888888888,
             "#fdca26"
            ],
            [
             1,
             "#f0f921"
            ]
           ],
           "sequentialminus": [
            [
             0,
             "#0d0887"
            ],
            [
             0.1111111111111111,
             "#46039f"
            ],
            [
             0.2222222222222222,
             "#7201a8"
            ],
            [
             0.3333333333333333,
             "#9c179e"
            ],
            [
             0.4444444444444444,
             "#bd3786"
            ],
            [
             0.5555555555555556,
             "#d8576b"
            ],
            [
             0.6666666666666666,
             "#ed7953"
            ],
            [
             0.7777777777777778,
             "#fb9f3a"
            ],
            [
             0.8888888888888888,
             "#fdca26"
            ],
            [
             1,
             "#f0f921"
            ]
           ]
          },
          "colorway": [
           "#636efa",
           "#EF553B",
           "#00cc96",
           "#ab63fa",
           "#FFA15A",
           "#19d3f3",
           "#FF6692",
           "#B6E880",
           "#FF97FF",
           "#FECB52"
          ],
          "font": {
           "color": "#2a3f5f"
          },
          "geo": {
           "bgcolor": "white",
           "lakecolor": "white",
           "landcolor": "#E5ECF6",
           "showlakes": true,
           "showland": true,
           "subunitcolor": "white"
          },
          "hoverlabel": {
           "align": "left"
          },
          "hovermode": "closest",
          "mapbox": {
           "style": "light"
          },
          "paper_bgcolor": "white",
          "plot_bgcolor": "#E5ECF6",
          "polar": {
           "angularaxis": {
            "gridcolor": "white",
            "linecolor": "white",
            "ticks": ""
           },
           "bgcolor": "#E5ECF6",
           "radialaxis": {
            "gridcolor": "white",
            "linecolor": "white",
            "ticks": ""
           }
          },
          "scene": {
           "xaxis": {
            "backgroundcolor": "#E5ECF6",
            "gridcolor": "white",
            "gridwidth": 2,
            "linecolor": "white",
            "showbackground": true,
            "ticks": "",
            "zerolinecolor": "white"
           },
           "yaxis": {
            "backgroundcolor": "#E5ECF6",
            "gridcolor": "white",
            "gridwidth": 2,
            "linecolor": "white",
            "showbackground": true,
            "ticks": "",
            "zerolinecolor": "white"
           },
           "zaxis": {
            "backgroundcolor": "#E5ECF6",
            "gridcolor": "white",
            "gridwidth": 2,
            "linecolor": "white",
            "showbackground": true,
            "ticks": "",
            "zerolinecolor": "white"
           }
          },
          "shapedefaults": {
           "line": {
            "color": "#2a3f5f"
           }
          },
          "ternary": {
           "aaxis": {
            "gridcolor": "white",
            "linecolor": "white",
            "ticks": ""
           },
           "baxis": {
            "gridcolor": "white",
            "linecolor": "white",
            "ticks": ""
           },
           "bgcolor": "#E5ECF6",
           "caxis": {
            "gridcolor": "white",
            "linecolor": "white",
            "ticks": ""
           }
          },
          "title": {
           "x": 0.05
          },
          "xaxis": {
           "automargin": true,
           "gridcolor": "white",
           "linecolor": "white",
           "ticks": "",
           "title": {
            "standoff": 15
           },
           "zerolinecolor": "white",
           "zerolinewidth": 2
          },
          "yaxis": {
           "automargin": true,
           "gridcolor": "white",
           "linecolor": "white",
           "ticks": "",
           "title": {
            "standoff": 15
           },
           "zerolinecolor": "white",
           "zerolinewidth": 2
          }
         }
        }
       }
      }
     },
     "metadata": {},
     "output_type": "display_data"
    }
   ],
   "source": [
    "A = 0.4\n",
    "f0 = 457.12\n",
    "phi=5*(np.pi)/4\n",
    "X = A * np.exp(1j*(2 * np.pi * f0 * t + phi))\n",
    "plot_signals([np.real(X)],fs, name=['real part'])\n"
   ]
  },
  {
   "cell_type": "markdown",
   "metadata": {
    "id": "bU3RpE-gxOtj"
   },
   "source": [
    "**3. Harmonic signals**\n",
    "\n",
    "Now, we will work with harmonic signals. Until now, we have been working with simple sinusoids signals but most musical instruments sounds are harmonic. This means that they are formed by a sinusoid of the fundamental frequency plus sinusoids with frequencies multiples of it. For instance, we can define the following signal formed by the fundamental frequency plus the second and the third harmonic (note that each wave has a different phase).\n",
    "\n"
   ]
  },
  {
   "cell_type": "markdown",
   "metadata": {
    "id": "33AJ43U-yuv6"
   },
   "source": [
    "3.1. Load your reference audio signal and plot some periods (5-10) where the amplitude is stable. For instance see Ex. 2.3 from Lab 1."
   ]
  },
  {
   "cell_type": "code",
   "execution_count": 44,
   "metadata": {
    "executionInfo": {
     "elapsed": 13,
     "status": "ok",
     "timestamp": 1702317971657,
     "user": {
      "displayName": "PEDRO RAMONEDA FRANCO",
      "userId": "10653804143244385715"
     },
     "user_tz": -60
    },
    "id": "KRd70D8Ayt26"
   },
   "outputs": [
    {
     "data": {
      "text/html": [
       "\n",
       "                <audio  controls=\"controls\" >\n",
       "                    <source src=\"data:audio/wav;base64,UklGRrbBAABXQVZFZm10IBAAAAABAAEAgLsAAAB3AQACABAAZGF0YZLBAABcAGEAjQBiAFgAaABQAJwAoAAyAEoATwA/AE8ACwAqAD4A4f/w/w0AFQA/ACIA+f8QADYALgAHAAIABQAGAO7/yP/3//r/zv/d/9j/1//a/9f/2f/V/+T/mv+Y/wkA3/8AABUAtP///wwAAADs/8H/JgDr/67/1/+h/7L/3/8HAAUA2//5/ycAUgBeAHgAfABlAJIAiQCPALkAtAAFASEB5wAZAUwBPgE7AUsBMwEXAUABQgE8AUkBAwG/AMgACAEDAeMA3QCBAJEA5QDkAAsBEwEyASYBqQD7ADAB5AAVARsBCgHwAL0A0wAIASQB2gDIAOEAsgC2AIkAWQCNAI4AhQC0AJ8AjgDwAAwB3gDrAN4AuQC7ALcAuwC7AJwAeABAADcAFwDY/wcA1f97/6n/i/9X/07/bv8FABgAaP93/9v/Zv8z/2r/q/8QAFMAjABWAOoA+gH/ACwARwFUAoMC3QG+AQ0DZwMWA9kDWASLBL0EaATEA3QD6QPVBEcFJATbA8ME2gLxAFECIQOaAS0AfQB8AOb9/Pu9+037E/wa/Gv6wvZL8bbw+vLn8Zrun+kI6I3rp+pr5W3iIOFr4Vzk+eny6u3jBuIf5enkkuap6EnmdObl60Hth+su70Tzr/Ms953+IQNLBLoEsQXyBloI5A5wGU8ijiRoImUnnTDMMmkuAyrgKIIrtS6FL44xLzXFNzM6kT1IO9w2lz8eRw0+pjlXPiI1JicvKLAp7yRjJgkrJCqqJeshaR2dEyAMCg3vCCgLrBozFx0NKxOtETMHOgRFBjwE4/2J+434Q+5c5BvfoNy72u7and1w2rTVXNUO0ULJwL9uufC6GLVprGCyFLQOqsGrHa/4pUOkmKW0nYGbCZ0OnMKcV5rYl+iYY6Dcr5u5zsGM0OjVb9ip6bL1BO8J8v8ITxDlAWH8fAEZC9QTXRMzGDclgCyqMMA3JTdQL5w0akA1P7M6ED8SQWM+uUEDQgk7/jpxPAQ0OjH2NCst/CM1JaIlNh2+IGw1LTQ/Jqos7jDTK9UuLzLyMXM18Dl8PptDmESbQz5EbkSqQw1CPzyoMXAojSWRIWoUtgzWD+kK5QRlC2QMagRbA2X+TO4h5WnfU9Xb1WbaJ9PHzGXK5L5NshyzVroZtCynLqr6qTqeuqQjrXGeCJRAmzChgKGongWctKg1vHjAq8Hwz3Hhku3v887wQ+eu4TfiOuFS4Gfoy/Hk96UBlQlaCUwJrw2oCiUGuAxpDnkPeR9gKCMmRTCmPRg6mi+0LX4w7zFPMxoymy3BLG0x9zR8NbU1xTOJMVAyajDwLIou0C82MV0900uvTRFNc1NUVrBVJliJVlVR0U6dSbtCcz5gN/Mt9ChfKL4iYRgQFxMW0gkMBd4Iuf7s7ibqaOXD3qjfHd580m3Gh8Ahv6u8grKLpbui2ag5qcifLZgClzuV9Y8EiAGALoCTiSiQlJL5mpClBa8hwF/Rf9d52/3dddi01FPWg9UN2C7kG+5L71zz9P5MBD7+AfuX/oIA/QCjAmUGVA9CGgEhbyQAJakhkiBAI14iECAKIiwjkCNOKfUtjSv2J5YnxineK8EpEyP+HhQjaSqgMQ49QEjvSbtKClMyVqhSRlVHWBJUClHJUIBLT0J0POs4jDOQLiIqQCO5G2oX3heNGOgR1QW//oL/Xv789V/tPOk45wjkm9tBz7DK5863zXHGKsF9vOS4FbiUs7Op16AImoyUVpTNmC6bV5xLpBGxZbqgwz7TfOG55Cjg/Nvs2wXdUty63ebkceyt7zDza/cg+Mf4P/u7+hb4Nfm6/g8GPw8mGDwcAh0cHhYgyiLYIh8fFx4DI+0nQSheKDQpeCbKJMUnHSi3ItIc+hgCF18ZDyFDKtox9DjyP7lEWUivTJlQUFODVQBXbFfnVRpOWUTbQ2pEQjrGLmIppCdkKPUlgx5HGnwbMRuZFHYKVAO5AYoAnvu19MXtMugN4+Ddp9qf1qzP9skMyHrF2r7vt+yy+K1qp+OfwJtUm/GY55UjmvWk3K+wusXGntBa1RfYaNmm1UHSbtTP1ybbXt/o4sLm+uuq8Yr2n/eh9CXylvSc+tn+pwIQCXsPsRaSHfMeAhwcGS8anB49ISkiAyP0IVMhXCStJqMmDibtIeQcsRlcFAISkxcHHYUggCmtM4k2BjgvP6ZJBFNRVqFRPkz8TMNOCEzeRbE9TDeFM1cu2CbBHjQatBhyFDEP9Ap8BMr+ffxP+Un0O+5v53vjpeHC3BnWN9FCzInFD8GOwQvB/rsqtlOvI6jvozaeWJQ+jaaLjIx4keebXqjetPbBVs4513Pbftse2vzbfuCt4ejf3uDe5djtMfbc+fb2WPNZ9bv5/fuS/bz/YgNbCgsTZRr6H4QhFR/0H18keyV0JUwohClRKbAtcjOLNVM1EjPFLyIsdCWHHFsXVRtVJeQrSy1NL0408zzNR7lOVVAkUl9Vw1UbVGZTgFEqTTJHxT6XNdIu7yiVI3ggRBv6ExkQbgwhB1QEUQI7/pz5APaN8bvriOef4qbaONWS1DHVvtQj0lnOi8rHxY/AybuAtQKsuqB2l/iTaZQUlZuZcaT2seW+GsgNzTDRD9fd3BnfwN3I22rdtuNB6bPs7vAi8hfwrfHj9GH02vMj95f8lAIQCWsQ0xYxGmQbOhxAHj0h4yNEJTgnWyxUMBgwjDAvNLk4oDopNdspSyIeIRghbCGnIv0jESfTKncubTUdPvNEmkr7TmdQrlC/U9ZWzlVYUyhPDEa+O2o0PC9AKpkk3B6pGIISzQ6XDB8IhQAk+Vb0GvEL7dzmYeAR227W+NIa0XHPJszGx27EI8KTv7C6c7IyqmqjeZvzknmLuYWUht+O+ZYBnc+lP7DeuPHBKssl0EjQhdD71PXYsNpv3mbipuRi5gro3OmS68Xsi+3e7030Lvgu+5P/SgZ6DQ4TkxWfFBYWLB63JswpRCiXJ3AsLzO9NnQ4ADn8NfkwKC2MKZcmTSbQJuwm5SdkKjgukjO7OpRCJkmTTexQLlRSV+VZjlpHV3JQYEgkQKo69Da6LysoLyOvHvIabRboEFoLVwUHAdb9ivnL9J7vV+ou5jjjfuBN3KLXUdV+1HHSqM75ysrIlMVdvyS3TKy5nyGWIZIokrSTFpZymzilmrBPutfBZcgnzVfP5tIK2GvaXNsY3qThQOXr6ZXtGu6Z7tfxx/XK9xX30va0/NUFRQtzDTIP1hKPGBIe3SGPIxUlvycqK2Qv3TP8N6w6PDu4Oac1pjE/L9crfCiwJjEkgyHeIS8lwymkMDI4Tj1FQsBIW1CzVppY/Fd0VQFRQ028SAxC1zv1NqcyyS5uKjcleB94GckUIhJhDjAHHABc/F/5qvSY73TrJec846rg8d0s2yDY3tSg1LDVhNFcx368qLLWp+idNJeAkp6PUJAKlb6cVKbtr5e3hr2nwtDHwMzuzrzPr9On2QLect+J3xfi6uZd6pXq/+jJ6YbuyvMg94z6vf42ApcGrQsyDxgSpxS+Fs0Z0R3aISgmmCvRMOkzXTU3NXoyPC78Kr4ofiUpId4dpBxIHTggEyR2J4krCzFBObNCUElKTT5QJ1JaUjxR+k5rSXJBWjtEODo1JjA0Ktwk7R92GikV1BHGDhUJ7gKu/mP57fEa7CzpmObu4kzeUdqH2J3Xq9Zx1mvV7NEGzC7Dh7gVrjKkB5v8krWOWpAgleeZ0p+EqHOylbpNvq+/XsRFzEbTVNg425rcL+D85EXnsegD6mLqw+sJ79vyLfb1+GL8hQAQBG0HdwuOD18ShxPxE4EWcBwoItQnVy9xNPY1DzfaN4Q44zcXNEAvVCo8JmwlvSW9JJUkNCULJccn0C5ENu88/0L5SJhP11OjU41RTU+TS0ZG80CWO0c21jAnK/AmwiPVH0Ib5heGFVAQPQjJAAP7+/bk897v/+sQ6YvlKeLr32nfxt9P3rrbbdm+1unRichxvHixA6hooJ6afpUJlOOYVaEQqWitE7EUt+y8VcKuyAjO49Jd2LPbPN313vnf5eGG5XDof+qY7GHvNPPt9k/6x/2gAG4DbQeICy8O9g6mD2cSaBfLHsYlxCmgLe4xvjRqN1Q5VTg4NUAwmCtaKngqOiipIxch4SC8IJcioCZuLE003DuZQpBJ5E4ZUchR61AtTdpHjEIiPrc6eTYLMEIpaiUlJGgiox6jGIEReQqYAxr+uPrR9nrx4+vm5i7kdOK539vchdoe2pXb99ra1TDPx8kGw5y5gK5SomqZt5UdlAmV45j7nOehc6hvrx+24rtzwY3Hec0k0nTVm9cJ2Ynbu94t4TjjS+Xt5+rqA+6q8a30FfcD+/H/8AMhBmoHmgk9DDkPHBSuGdsdgiE2JlQsbTLNNdk1WTUZNso1KTOdMAwuiCryJ7QlziL6IEUhQyTjKZswCDcRPYtC/0dGTQBPS01pS4xJ80b3Qlw9uTfNMvYtJSrYJw8lGyCWGcMSJg20CfkEav2x9gPySe5r6qvlfODR3AzcXtwA3CLbjNrh2ULY7NRrzQvCWrZArGukUZ7qmX+Ybpm/nJCi96drrOWxcrgqv3LFfMsT0ZLUMtd020nfaeHe4/rm8Okt7PLtIvDK8sH2gvvT/+MEVggYCGUJBg4wEukUehYcGDEcayJUKTMw5DT2NnQ5qTvTO8471Tq9N+Q0AzMGMM8rXSjyJrQn9ygGK5YvBTXoOtRBx0fHSxZP21ARUE5PPE74SR9DqDtWNqczzTAqLT4ojCJ3Hn8aSxVRD7MI9AJg/r/5QfSk7RDnbOMh4qvf69z62svZbdri23XbN9dx0C/I7r2NswirVqSonqiax5kkmxidqJ+Go9aoHq9DtbC6z8BJx6fLN8+L08/W4Nh3283ew+G44+bkeua96gPxSfY0+jb9pf/PAnIGrgmhDJsOFxD7EqgXuB0BJJopGi8rNCE3ozh5OnE7vDvSO9Q5fzYOM2sv/CtzKZ4nfCZXJ9QpEC79NEE8rkENRq1KXE9QUk1S505QSRFE/T9tPOM40zQDMCYs3ikTJtEfyhlaFK0OaQkFBCb9QfY88WLsTOco443fsdxO203bO9sV23Xam9dV0zrNSsScuXSvhKf/oNObeJhOlpiV+5bgmoSgdqZKrAiy07icv8bEm8ltzcHQmtRD1//YYdo23GnfFuPl533tEfHB8633uvs2/zsCEAXIB1YK0AxfD+ESJBiDHrokeyrrLisykjWTOKU7uD69P+4+AT3SOUg24jK6LuApeiayJoAqeS8ENMw4WD7lRBFMhlFnU7hS/VBZTltLkUciQnM9ojrxN6k0lTDVKyQnxyLoHeQX2RFaDLwGmwGL/Bz2oO/b6cfk9OHN4B3giuBX4ZzhKOGA3u3Y19ASx9S95rWPrhCouKLonladt50Bn7ahs6aYrAOyvLfmvezC0seqzT/SeNV51/zXldmt3Mjf+OLG5qDqF+7w8er1EPpR/vYB1QTEBksIawmJC4EPjxNcGBoeaSMAKJcrfy9aNLk48ju3PTs+wj0CPKs4tDNGLoYpfSb8JYgmhCfjKg4xBTg7PqhDAUhUSw9OPU6XS79IukUoQuc+RzsLNyozwC9ELJwoQCRYHtAXDhLhDA4IxAKA/HP2HPBp6ULkmOAi3oXdn92U3nLg9t8l3TLZDdMhy5TCL7pFso+rvqXZn5mbuJlumfWbE6H1pYKqKLAotvm7TMI2yAfMdM6J0IPSltSI1vPYYNxQ4PTjKOel6nLvQPUN+s/9+ADWAqwD5AS1BzwLjg/DFDMZ8B3/IvQm/yp7L6AzJzgzPV5A0kDtPhA7sjexNGAwlivaJ6cm9CfBKuguNDQvOkxA5kUvSpBMQU2FTB1LV0kwRiVCRT4kO+E45TUGMpUt0igBJAUeORhtE64OtAkFBJv9YPZY757oHeO14GjfCN8h4DXhWuJU4g/gd9t51M7MjsVGvpm20q7uphmg25yNnCOeVqGDpH2oJa5otAS7acEcx/fLH8/F0HvSjNRB1+/a8t1E4Oji0uUZ6svv2vRH+b39uQCpAucE3gaGCTwNUxCPE1MYLB6dIuwk+Ce3LKoy/jgWPqFBrkPdQzpCWT+pOxA3/jHKLVwreSp3K8UuxTOdOdk+QENBR65Kd02hTflLZ0ovR6VD2kBSPSM6azcqNLIwlyzuJpEgHBtaFgkS2w2OCPABHfo18iDrt+RU4P7dId033lrgXOK14qLgDt0y2PzSKc2KxUO9gbQerGOle6DpnfacEp7AoK2jPqfAq4iy7LnXv4nEI8ebyW7NRtGQ1M7Wc9ii2uPcOt/O49/ptO6J8lH2Ifrp/eQAQQKNA/UGpQtYEHIUhReSGg4e5yHdJo4stTI8OTg+20DBQcdAbT69O1Y4VzO8LS4plSaSJvEoXCx7MGk1OzpGP/hDr0ayR1xHIUZBRPNBfT+cPDo6LTg4NWsxmSz5Jp0hSR29GQQWDxIQDcsG0//B95nvmuci4UDeat0h3qXfUuCz4A7g9N0n24/WJNCmydzC1boYspepJqOtn/uddZ24ncaeH6JXp9qsN7PQubC+IcKrxerJe85b0lXUwNTX1c/Yndxc4IDkfenf7jb0f/jw+gT9c/8fAqcFoQlXDRQRyhQmGG4bXB4RIgUo2y5lNaE6ST4WQbxCekOyQoM/rTo6NZkwmC1GLNMs7i4bMpI2Azz+QF9FGkkuS8lLUkv8SW1IckYeRAtCpT+OPIc4sDNSLxUrgCZ+InQeNBpIFiYR1wnuADn3gO5h6Jjk+eGp4OLg0uEB40/jCOKM3yPcIth50rHKnsKwurmyuKvzpZihGp+7nU+dUp/Soxepb65qs523nryvwk/H9MlszPfOm9D10ZvTvNUD2c3drOMp6Wztt/Dj8+P2mvlY/Cf/DAOwByEM4w9yEuEUExiNHAwi4Sc2Lswz5jgiPshB+UPYQ9hA7DwEOMMyrC5hLCQsFy3+LjwyuDajO1NA1kSPSCxKBUrySChHt0XJRKRDckH7PZ86WzeNM9suTCn5JCoilx+sHMoXmxAlCHP/R/fW7yrqk+bp5Dbkj+O0437kBeX14wfhGd0r2N7RSsq4wn27QLQNra2l4Z81neKcCp7Un4Si5abtqxOxXbYFuyK/NcM+x5DKGcx1zDXNSM8n0+3X/txG4rvmYeq77ZDw6PIn9vv6yv8GBKcHawr8DNwPMxO0Ftka5h9iJW0rPTF6NlU72D6AQP8/Ej2dOIYzhC4IK9YpFyrGKqAsGTB8NNk5VT8jQ49EwEQyRbRF7EU9RY9DXUIpQc4+OzuNNhoyVS4YK0goZSW0IhQfkBkLEqEIDwAm+ZDyPO3l6RvoDudx5t7m8OeI6FXnV+Oq3TXY4dKRzGPFlL1DtdGthKjppDGiy6BJoXyj+6Ysq5KvH7RcudO+vMNOyHvLUM3BzrzPO9Hm0/rXGN1b4iPnPepy7ADvsPFJ9Yn5U/3vAJoEYghvC4sNkxAKFMoWfBqFH+0koiqqMFc2kjqNPbE+2TwSOXo0ATB3LAgqVCiHJyQp0SxiMR02BjqbPQRBOUMFRLhDWkPwQ8hEo0TTQuU/2TwPOV80gDC5LZYr8ylPJy8jVB74F5kPsQbS/nT4/PLL7eHpNOgZ6DDpouqr6vjotuX44YHetNmF0+LMgsV7vZ613a4/qWKltqMKo1CjpKQipwar2q+Mtd660L9yxMDHhMoUzH/MJc1mz//T9NiW3Z/hq+Rf59rp3+yF8NH0Lfma/DEALATzB38LcQ4bEe4TABfgGs0foCUFLHoyOTgCPIA9QD2VO2U4ETSuL2krkShXKBgpJCqyLIIx2zbfOuM91j8PQZNCmkOgQxVEqETUQ1ZB8z2jOvk2SjOYMJIuvizmKhso+yKfHPAVVQ7DBiP/xvf18Tnt0urY6sLqu+p66jXpdedw5JPgUNw+19vR3cqBwqa6Q7PqrAuon6QHorqfYp9gocek+6jarbGzZbmUvo7ChMQkxoTHtcgnyxPPOtQz2RrdgeDS4xvnLeqF7UDxB/UF+SL9JQEQBQMJegxHD54RcRMhFpcaoSDjJ2EunzOBODw8AD57Pbc69jY5M1MvPStqKEkowykVLOMvQTRrOPo7Rj7oP4JBAkNeRMdFekYRRuZEJ0KFPjE7VDiJNlo1vzMQMVItTCnLJP4eIBhrEI4HOv9j+ff0d/GM75TuYe5O7oPtC+xg6VbmiOOg30vautMrzDXERrzhtDquyqhFpQ+jRaEioSyjraZFq2awMrYbu1e++MCTwvnDFMb0yBnMas/40zvYdtuz3ovhHOTt5rPqNO/X8j72x/qg/xkExQfJCSkLXQ2JEFcU7BhSH7YmMy12Mtg2/jkhO2Q6xTfDM6cv3yuuKB8nuifcKSQtDzEcNcM4bzuvPTw/XUCMQg5F+Ea4R11GYkM8QNg9WjxEOz85ljZ5NCwycS8BLOYmJiAxGOEPEAgpAWD70fYM9HTy+PDh79nu9O1L7Snr7+eD5BXgrtrM05fLkMPUu7C0tK62qXGlMKJ2oE+glaLupsCrrbD0tEi4DbtHvYe/r8HQwyTHPMvvzm3SjtUm2Brbmd584cHjpebE6t7vwfRY+fj9WgGFA1IF/QZ8CV8NaxI1GJseMiX/Kkcw2TRVN+U38TYLNB8wOizIKBEn6SaXJ+4pYS3+MMQ0uTd5OU87Zj4PQkdFmkfoR9dGWEWUQ1ZCzUCYPoE8bDqhOAs36DTMMWYtyieZIBUY3A+eCJECrv2A+TH2/PN18jHxcvCT7+XtuOui6MHkAOCd2UTSs8pyw4W8iLVpr9mpbqQuoYKgqaHDpKCorqwPsbi0xLcRupq7kb5ZwhHFCshhy7DOf9Lu1efY2Ntx3gThGeSz5wLs/vD69aP6Qv64APwCWQUMCFcLzg8+Fd0a9iBOJ20tRDOuN605wjk/OC010THlLgYsQSqoKqwsgy+PMuA0gjbdOAM8hj8wQxVG/EftSPRIRUjSRg5FJkMIQUM/lT3dO6Y6UTnsNgwzmS36JmIfkBdpEKUJnAOn/or6k/c+9YDzwPLx8c/wce9F7QTqIeUe3+bYLdKCy7XEAL1ptW+uiqhYpJShyKBQooulXamxrNSvwrI9tRi4GLuuvT3APMOQxsnJC82D0NXTYdaH2O/afd0o4c3lb+qE70j0w/en+mj96P+UAtcFiQnVDbQScRhtH0EmDyz4MEU0BjY5Nk003zAELQYq5yh5Ka8qJCzZLVwvdjGpNEo4/DttP7RCS0WvRnVHgEfjRqhFrkMYQrlAUz/KPs09izxeO1o4DDScLqcneSBHGT0S9wtLBk0BL/28+Yn3bvaq9Vb1ifRm8t/uh+o+5mXhWtvD1PzNlsbwvqm3WrALqnGmO6WVpQCnMam9q1auF7F6sy62WLnCuwO+dMAfw0TGuslNzQ3QWtLP1MrWENl23JTgEeWB6abtevHc9Cr4Pfuu/RkAswJ9BvULtRGoFxEeqCQNK6QwRDTjNIgz1DC/LSIsLyt8KqcqKCtYLNctdC+HMio2mDlpPRRBEERyRvFHd0hWSINHSEaDRNNCT0LfQTtBu0BbPwQ9wDknNXkvxShNIT4aJhRiDn4I2gJ5/gX85Po/+oX5LPha9hr00/DW7GroVONC3mvYmNAayNu/D7hXsVSscKkSqCaoW6kCqxytdq8wstO0WbcjupG8w74swW7EIcg5ywfOSNDK0ZzTWtaQ2Szd2OBd5H/oseyk8D700Pb1+FH7Pv7CAaUFLwqkD0cWBB65JaArgy+VMUIxzC8fLhAszireKbooOij4J8Yozyo4LZIwXjQzOOQ7Kj9hQvVEQEaJRi9G/kTQQyBDYULQQRlBmUALQH4++TvFN6IyDC0rJ2EhURoQE6kM4gZOAo/+XPxn+8z6Wvqk+Fj26vOx8HPtuOm25MPe5tfYzyDH+L6At3mxgq1oqvOoWKnjqRurJa1Qr/GxYLRttsS4ALvEvWzB1MTQx+7JTss1zXPPt9GC1JjX39r13nfjy+di607ujPHT9NP3M/rz+6v+7AJ7CBYPcxYlHvkk/CnrLAwuDy4wLb8rmCpcKcsn2iZ5JuYmWyhiKjItaTCqM2A3gzt2P8NCwkRSRUtF/URyRFtDUUIQQjZCs0ItQmFARD47O4E3VjMULsQnFSFnGocTpwzYBswC0P8s/sD9b/x2+pT4Efa882zxMO5z6rvlTd/41xfQssfav+q4e7PBry6t5Ktiq+Creq19r2OxD7M1ta23f7rSvRfB3sMqxonI28rtzJnOSdCh0rjVrNlR3abga+T157frau9/8k71G/eG+Oj6RP4GA1YJqhApGAofzyQMKbIrAi1fLeYsNCxqK/cpuygDKLgndSijKTIr9y25Mew14DlgPRRBQEQTRvJGZkY8RfZExETURGJFSUXxRGJEFEPtQNA9EDpONZEveimoIi8bGBQRDjkJrAVcA2sBj//r/fj72/nf9//1xPOi8Ivs7uYh4GnYCNAVyJrA2rlKtAywZK04rDms4KyhrVqupa/JsV60JLecue677r75wZPEw8YfyK3JocunzYPQa9NL1rXZ7dyJ4OXkBumm7CvvdvDv8ePzzPZm+ysBCwiMD8oW4ByZIUsl3SeMKewpPim6KAgo1SbWJRUlmiQqJfYmeSlGLLcvxzMJOGA8A0BfQlVDQUMSQ/1C+kJdQ/FDQ0Q9RLdDAEOyQYw/Oj2dOWI0wy5wKBsh8hneE4sOLAogB7wEoAJ1ACn+T/y++hr5dfdI9czxNe1v5xHgdNj90NHIKMGguj+1BLIGsDKuZq2frRWu/65usPixJ7REtyG6Bb05wJLCicRUxunHDsojzDHOk9Cy0kfVp9iO3BLhWeWc6Nnqruwj7mPv3PGn9eD6agEdCBMP4RXpG/QgXCSpJkooBikDKXUolSdPJh4leSSAJF8lnSa8KFEsjTACNY45aT18QLJCI0MuQ6VD8kO0RDVFjEXiRWNFBUWRRIZD4UHYPrw6qDVWL2gonCE3G2kVvxDcDDUJegYvBMUB4v9L/h39Bfz++Rz3ovN078DpN+IT2gTSScqEw8C91rhFtQazl7HrsKOwkbAcsR+yybPEtji6Gr0AwGXC8cPsxf3HtcmCyxnNus7D0ALTytVw2ZzdqOEY5avnMOlZ6svryu3+8Gv1x/oHAeYHsQ7dFDMamx44IpMk8SW8JnUmlyXVJOcj9CJVIukhmSJ+JCcnLSvUL0Q0pzhAPFM+1D/jQJJBiEJjQxREb0S9RO1EyET8RAJFP0RfQuw+CzpiNFUuxSeGIZ8bSRY5Eh0OgwoXCK8FfQO6AU4ABv+M/cv7MvlS9ezvRukJ4kfad9LQymLDSr3quPC1+rNOssywoa8Gr5mvWLHks+C2erkCvFO+WcDWwuHEpsZzyJXJfMrpyw3OwtCB1KjYe9zk30riOeSn5dbmjugZ6y/vI/Tg+XUABgebDckTTRniHS8htSNzJUAmcib3JZkkKCMkIk4hGyFeIvkkICg1LL0wmTSNOI07LT3wPgtAIUGmQmJDJUReRFBEOEWiReZF7kWdRDpCIT79OFIzPC2nJ7ohrhubFigSUA5FC6AICQb+A7MCzQERAf3/Ev4b+xP3oPEP6y/kotyY1P/MsMbIwc+9jrpit8W0+LLPsQOy/rKytOS297ivu3G+1cB3w8PFecffyOjJo8rVy+LNctC302fXL9u43mbhnOMY5SDmfOdR6brsRPHv9Zn79AE6CJQOjhR3GW0dwCBCI8skkiW/JSslqiMAIoQgeB/bH5AhUiTzJx0sVTCvM7s29zkwPPA95z/wQKtBlkIAQ1tDOkSjRadGF0ehRq9ExUGgPbw4TDOLLR0oSSK0HPYXfBNzDykMbgkNB0QFRwTkAzED2AG+/4P8gvj88s3rNuR73BjVkc7iyEfEFcAIvLe4+rU9tLyz3bPotLS2W7houkC9EsDQwjHF6cZWyDLJwsnVykvMPM790DzU7dd82wze8d9c4WjipeOJ5S3ogOva7wD1xfpYAa0Hvw2nEzMYIRzGHzIiECRAJQwlzyMJIlsg7R48Hlgf3yHvJJEoYSz5L00z9DV6OCU7TT3OPsg/i0D4QIhBM0P2RP1FCEdIRzJGWUQiQQs9Zjj7MmctGSgvIw8eyhjHE7IPfwzLCRYIiQahBToFMQRTA2kB1/0o+cnysOub5Grdg9Y60LTKp8XSwHG8DbnatkC1erSftP20Irb/t4S6rL09wHTCX8Sixc3Gi8fsxwzJC8uqzTbRqtSY14/axdwq3ivfOeDD4a/jVOYP6sHuLfRG+nYAjQaZDA4S5RYgG88exiHXI7kkvCMQImQgbh6mHUkesB8ZIh8lbCjTK2wvATMaNuY4/zrKPGk+Nj8jQEZBi0JYRN1FFEf+RwdI5EZ3RANBnjwZOL0zzC56KdMjIx4DGakUCRHDDS0LnQnYCI0IXwjEB1MGywO+/wr6i/P07Drmh9/f2NLSIc05x2DCZb4Ju624jLYUtQi1yLUgt2S5BrzEviLBHMPGxC3FjMVRxhfH5chly1zOZdFU1HnXy9l92/Lcqt1n3t3fC+Ig5Sfp3e0780f5Lv/FBG8Kyg/3FJEZRR08IK4hmyFrIH0eqRyTG8Eb5hyBHssgZSMqJpEpKi2wMAE0bzYhOLk5CDsgPIU9+T5tQDtCCkRoRT9GF0aSRCxCJD+JO8U3HDOXLTUowiJ5HY8YIBRwEFgNMQsQCgUKcgpoCt4J9AdgBN//R/o/9EnuxudM4d3aV9Sbzo3J8MSZwPe8RboJuNe2ybZkt/K4cLszvvPAMsNcxA/FU8WHxdHGi8iayhnNnM/W0szVq9ep2Q3bmNtQ3PfcO96m4Cvkfuh97Sfzgvgk/gMEiAksD5gUXxntHDkfJCCbH2EetBx6GzcbPhvkG3IdWx8YIn0l9yjILCYw3DI/NRI3iTi6OfA6VTwQPoxA+0KlRJ5FAUbMRYBEcEK9P+U7mjfnMqotliiNI0oe+xgxFFEQew35C5sL4QsYDLMLbAqrB/IDuP+j+hH10e4i6MvhdNtm1dPPXcqTxYjBtL2nusO4pLd8t3O4h7pova2/dcEXw6bDWcQ2xcXFV8cxyYjLyc7S0YnU39bh2FTa+Npt27zbnNzK3qrhS+XB6VnuW/Pw+EH+1wMHCscPRxUwGnEdLR+PH7IeeB1jHEAbxxoLG3Ib0RwkH9EhACWBKCAscy8jMgA0XTXXNhY4bDlhO6o96z/5QaxDAUXeRVZF3EO5QXM+3jrFNj4ydS0iKL0i6ByFFxcTMA8+DdQMugwRDeoM+wtlCrsHKwTD/8j6ZfVK7wDpneIx3FfWs9CFy/7GaMI9vjG7+bjqt6u4GLqtuxm+bMAYwjjDwsM5xNbE7cWlx//Jx8xUz1jShtXO11fZ0dnt2WLaI9uC3KvezeFz5Vnpxe0b8vH2Mf2KA88JExAyFe8YYRv2HKYdGR36G9Ma5xmTGbUZbRr6GzMe8CBpJEEoeCtgLsAwRjLNM4I1pzepOaA7Hz4KQBxCgESjRfdFs0ULRIxB2D6DO/Q3yzNVLp0omiKbHK4XcRM7EKYO7A2uDeQNdA1tDN8K8QdZBPv///rP9XLv2ui74r/cMdfK0VnMKsdswku+NbtluQW5wbkiu/q89b7OwL3BFMK2wjfD/MNdxS3H08nbzKfPW9LJ1HTWM9cX1/vWvdfA2B/aoNyx39DiLOYM6vXu0vQK+4ABrQdkDXASDhbAGDEaORrqGRQZIBiZFzsXUBcEGKkZfBzgH10j8Cb5KRMsBS71L7QxsTPGNd83PDquPEs/BUL0Q8lE6kQnRJ5CzUBkPlo7qjcDM58tcCfoIDcbnxb1EoAQEg+FDpIOVA5fDfALWQq9B18EWAAI+4v1Xe8m6bvj3d0x2J7SM80VyBXDSb95vPm677qHu+a8l75SwLfBcML9wnLDAsT9xLfGNskKzD/PZNLw1IXWI9ej197XAdg72e3aQtw+3p7g2+KG5g/r3e/r9Un8pgL9CFEO0hKXFhgZNRqiGpUaoxmiGNkXURewF8gY0BryHRIhFCRAJ8AppyuXLaovoDFUMz01rDd5OmY9IEBNQtNDb0Q5RJVDrUKBQXY/Hzz0NxwzDi2LJocg/BqMFmQTQxEhEIQP/g6cDi4OAw01C7kICwWVAMT7bPbZ8GXr2+VV4KbakNTUzmLJbsTvwJa+Wb02vb+98b51wOLB78KSw+jDUMQ9xXzGiMh4y43O+tF/1ODVNNe51x3Y2Nho2VnaOdsh3BLeT+DV4o3mE+uE8N/2V/2vA68J2w4xE8wWSRmjGvcaSRqMGaoYZxcmFwoYkRmrG1AeVCEbJKYmBikPKwctyy6LMN8yWDXtN8A6ez3CP11BxEKRQ7tD2kMtQ7tBxz9vPJ43MTI3LNMlJyA3GwIX6xOBESIQzw9dD9oOQw7EDKYKpQeeA1j/pfqc9XHwJuut5eTfwtmN0/jNe8jKw6vAQL4qvUC9sr3Gvh7AE8HfwSTCpMEPwnPDJcUZyGHLJc7x0C7TvtQD1hbX5ddM2NLYh9lK2pzbX90v3xricOYc683wRPc8/U8DZwlIDlYSThbBGLUZPRpjGT8YzBdaF5cXRRiMGcsbIB62ILUjdSZiKAgqwytyLcIvIDJtNGY3TDrxPDI/pEDdQYlC2EJHQ/9CxkE5P0w7YTbOMBorLCWhH8MajhZ2E4QRmBA4EDcQ6Q+lDu4MkwpeB64DiP9n+/D2uvFq7JnmruDQ2mnUXM74yN3E+sGfv4m+jL5tv6vAgcFHwkHCqcEIwgPDucR3x2fKSs33z1rSaNQ21rLXUNjR2JPZE9qO2hPb2dsy3UrfX+Jt5pDrZPEz9wz94gKQCNIN/xEYFUIXNhgpGK0XDBdeFuwV6hV1FgYYXBrZHGkf2iHYI7UlcCfpKBkrhS3dL6UyRjX5N0o6ITz0PVM/2UALQi5CwUFQQFs9LzlTNNou2CgKI7odBxlMFaoSHhEoEMkP4A8eD54N+AuFCWQGCQMA/4T6IfZg8RXsKOYd4DvaCtRhzmjJEcUGwkbAyb8RwLXAXMGAwVzBUMF9wU3Cu8OrxYHIectbzi7RUNNC1QrXcdhU2ebZRNos2mTax9pX28rcTd/n4vvm6uu68VP3Cv1fA3AJdg5uEkwV+RbNFwkYjRe3FuYVixUJFggXpBjrGjcdNx9VIREjWSRgJmsoKyq5LGov6jFTNGQ2jTh+OqE8zT5RQKhB2UFAQdc/WzzvNwIzmy0oKGAi2hxnGBAVBxPbEf4QuhA9EC0PtA2vCy0JFgbqAnz/j/sq90LyFe1Q51fhONv/1EjPMsqIxh/ErMJJwi7CecK3wkLCGMJLwmrCVsNxxfXHVsoDzfbPUNKe1BDX2NhV2l/btNv92xHcgdu92w/dNd684MHkn+g77dPyovjU/hUFkwpIDxsTAhbqF10YOhi9F9gWWhYeFoUWxReCGbQbvB2NHyshWyLjIwcmGShDKqMsuC4CMU8zhDUJOBM6MDycPmVAikGtQZpAhz6AO283UDK+LCInZyEXHPYX7hTcEpkR4BB0EJkPQw6ZDHUKOQixBaEC7/6u+lr2tPGO7L3mNuC62ZvTN84AysLGjcSHw9jCSMIhwo7BG8FHwUjB7cFxw2PFjsfmyaXMF8/e0W3ULtaE2PzZedrU2m3aWNqj2t7apttH3dnfMeNs54/sC/Ll9wX+rgNBCW8OGRKbFCkWohbGFoMWrxV9FSMW/BZTGCka9ht2HY0e6R+2IY0joyX2J1kqjSySLs4wNjOBNfw3tTpWPZQ/L0FIQipCKEFdP+E70jfDMsMsMieRIZEctBjXFTYU6BLUERURAxDqDpcNzQuvCb4GcgN4AP78kvjI8y/uDeje4VzbkdWN0LLMPcrTx2nGnMVTxKbDJsOSwoTCAcPkw03FgMeTyYHLGc780O7To9b+2P/aq9vY22TcV9wN3OLb39u/3I7e9+Ao5Groe+0h8yj5Lv8cBYsKFg+KEtgULBabFm8W8BWfFcoVMhYhF3gYkhncGlkcYR2cHnIgfyKRJHMmdyiQKngsny4HMZ8zXTb5OLM7LD72P1pBbkEpQAY+gDpDNjQxWSvBJYYgLhypGNsVHRSwErgR0RCQD4kO8AzqCtkIUAaEAzUAbvxF+A7zDu3X5pHgfNr51LXQW81lyk/I68apxY/EpMMEw9nCA8Otw8rELsYtyEnKisyfz8TSrNVf2Efa6tsJ3UTddt1O3fvc6tyy3EHd5N5P4brk9+gI7oTzVvl5/xQFMgrGDigSEhTfFDAVKBUvFUsVhxVeFiEXABgkGRAaVxuMHLsdth/PIcYjuSWIJ34pmSvhLUEw2TLGNXw4SDvaPZ8/10DmQJ0/Oj2AOa80cy8FKpQkjx83G/4XZxVJEzkSHBHBD8QOIA1HC9MJ0geGBQED0/9F/Lr38fHj64nlMd/h2QnV2dDFzd3Kn8gGxzHF8MMIwzPCS8KIws7C6cNcxVTHscldzLLPsdKI1YDYf9qm26/cVd1I3SXd1txI3Kbcvd3+3nbhGOVC6V7u9fOW+dv/zwWyCusOmxEkEzwUoBThFBQVaBUtFrcWRxcuGMcYoBn9GlAc7B3MH3khIyPnJIomRihnKsIsbS9eMiE1/TfbOpA9tD9kQFJAIT9QPMg4QzQkL+cpUyRfH7kbdhidFfgTUBLXEOcPOQ7VDK8L/AlhCHAG7wPmAPn8Dfhn8hXslOXS35zaWdbz0oXPi8z8yenHOsaxxPDDXMP/wirDVsMQxIrFfsfsycLMC9B501/WuNj62r7coN393dbdRN3W3Ibce9yB3SvfJuFy5Nvo1e298/v5qf8mBRMKNg2KD2QRIxICE7ITBRTTFF8VwRV3FhsXxBeTGJ8ZIhv+HMQeRyDcIV8j9SQnJ1QphCsnLu0w+zP3Nq85bTxWPhM/6T55PdA6GTdzMl0tOigkI2EeiBpzFwYVKhNtEfAPXg7dDLgLlwrMCXkISAb/A7kAOvzh9gHxWuu85TvgRtsI13HT5899zMjJxMcjxuvE98NTw/XCtMIvwyDEccXAxw3Krcwt0DfTXtZK2Svb09yx3ffd691p3Svd/twY3fXdkN/n4Unl/ulV7zH1d/s1ATUGYQqKDcsPtRE9EyQUHBWxFRAWpxbqFoAXNhinGJAZ3BoLHEMdvh4xIKghGyOzJHgmLihyKjEtGDAkM142qzlcPEA+7D5vPgQ9TjrQNnAyYC1fKGIjIx+VG3gYHxbrEwISMhBMDi0NJQwaC0sKvAgHB7cEtgAf/Nr28PBB683l+uCt3HXYmtQD0fLNocvByQ7Ih8a7xczE9cNkxKjEWsUQx8XIXctbzlPRwtTz153aq9wl3ujeKt9v3/DeLN783QDexN5C4MLiv+Z668rwmvZk/MIBkgaRClwNrA+yESgTahSTFWUWhxbCFlMXvxd8GDgZyxnRGmgcwB27HiEgciGiIh0koCViJ+MpwixgL4YyHzYZOYw7Qz22PR89pDvYOPo0lDDOK+cmFyL7HZYajBfvFFMSBxBODrAMXAuqCjgKTAnVB78FpgK6/iv69/Rz7yLqGOWM4DHcndeb0xrQDc3IyrHI3sY/xRHEYMOZwo3CL8NPxB3G6seKyu/N5NBA1JfXyNni24fdK97p3vveW94W3pndpt2G3tvfruLG5q/rK/HM9lv8NgFuBekIpQtrDrIQQRK8E5QULhXsFUIWyRZgF/MXyxhcGVwaxxv0HDQeXx+/ICciUiMDJQYnYCkwLDwvmzLkNe44ejv9PEw9qTwOO1U41DSfMCcseScbI6AfAxy2GOkV+hKfENAOYw3EDGQMtQvdClgJAAf8A+z///rK9dTw5+vw5mHixt1X2aXVZ9JRz5nMaspmyLrGasWJxC/E2sMDxDjF3MaSyErLvc7b0RDVB9h+2r7cZt5L36ffj9/Z3vHdX92g3b/eiuCh4wvo8OxK8rr3XvzxADIFmQjNC5YO0xBjEqgTlxQ5FRgWbxbjFpYX6Bd1GDcZPRphG4oclx1XHmgfuyD8IZ4jxCVKKF4roC73MT818DeAOh08RzzDO985/za9M7YvbSs0Jz4jbx+6G0sYNRWYEjAQcg6ODSQNswzOC64K0QgpBhQDBP89+pf14/Da61nn/+In3hbaodYk0zjQfs3uyjzJwccYxiHFmcRYxM/E7cWix/bJE8090FvTl9Y62fDbWN7L3+fgHeGq4P3fGt+k3sHe5N854oHlvenX7vXzcPhR/QcCswU+CWsMLA9yEQATbhSTFW8W9xZHF+MXLRh7GIAZShruGg0c8RynHcEeuh9wIH4hGiM2JeYn+yoXLmwx5jT5Ny06NTt/O6s6eTi+NVoybi6KKqsmxSL7HnAbvRc2FKwRtQ8SDl4N/QxhDKsLYwpdCHQFAwJb/vz5YfXr8A7sUucd473ex9o+17HT6tBIzqXLF8qiyOrG6cVKxSrFv8XwxvTIA8uazTHRadRb12XaUd3D3zbh++Eq4ozhg+C+31vf79+84SLkouf163rwYvXu+Sz+bAJBBhEKRA2eDxsSJBSWFcYWfRcQGL0YUxl5Gf8Z9hqPG20cOh0JHtkeGR/vHwohISK/I5YlIyhOK5ouUjLsNa44mDqKO4k7ajpAOHY1MDLxLlorVydUIzMfSBtoF0EU7RHSD7IOAw45DYQMcwvxCfUHMwXPARz+qfkO9aPwq+sQ5+nigt6z2lfX+dMR0YLOCMzYySPIn8ZexcPEnMQIxWzGcciLyiTNgdDV09rWFtpD3Z3fUeHm4V3h9OD/3+7eIN8T4P3h1OQp6FDs1vBP9fL5U/5iAjwGdwncDN4PthHJE3AVOBYgF88XhxgNGUUZChrAGpkbkxwRHawdLB6MHkQf7h/HIFkinSSLJ64qUS5UMlo15Te6OWM6ZjrvONU2qjTaMZAu1SoOJ9giWR5OGrAW2hOSEeEP/Q7+DSENkwwxC2AJXwd2BPsAJ/0G+dH0M/CK60jn1OKQ3u7agNcd1BjRfM7ay9HJ7sfixdTEVsR1xBTFGcYpyHTKM8180NTTh9cf2zHeROBc4czhNOFi4ObfYt+u3/fg++Lk5TPpJO2M8cf1Ffpo/nsCGAaGCbwMQw+cEZ0T4BTAFWkWDheZFykYxBg7GQka8BpmG9gbZxyuHCIdzR1PHnsfDSE5I3Umjyk6LegwzjN9NtA3cDg+OOQ2nDV+M9Qw4S0IKvAlwCGEHW0Z+BVZEzURpg+CDq4NDg0iDM8K9Ai7BgoElgDy/LT4FPT174nrHOcg493eCdvV14zUs9Esz2TM58nRxx/GWcUYxQDFW8UzxsDHE8oMzV3Q7NPj12zbSd5d4BLhJOGt4KXfPd9g36Tf+uAc48blnOlT7QPxdfVz+X/9wgFGBX4IrQuEDqsQXhLDE7AUbxUWFr4WixdcGAkZyhl3GtcadRsFHP0bHhycHOoc3R2VH8ghIiW+KHUsMjDEMrI09zVPNk02rDVDNC4yYC8gLIIoPyQFIPYbBxgtFYYSURBBDw0OSQ3NDJQLMgqiCGEGZQP8/+b7pPes80Xvzupt5lHioN7d2pPXwdQD0jvPh8w0ykLI9cb8xUbFKsWhxbrGZsjhytzNV9Fa1S3Zl9w13wLhxeGp4UvhmOBN4ILgSuHo4tXk3+dn67fu6/IY9/z6UP8iA7YGcApsDeoPBRK4E2cVWhYVFwoYehgqGQ0ajBooG90bexzlHAsdIB0bHRUdnx3DHqcgYSN6JhIq0C0FMTczrTQyNsM2qzZqNvk0GDOQMO0sDynkJJ4gixzPGOsVixNlESgQTA/2DdkM3wuBCpgITgalA/L/Cfwb+K3zPO/I6onms+Ig34fbNdgt1fnRNs+pzBnKR8jRxmvFmcRRxFjEJsXxxo7J8syJ0H3Un9i62xbemd/43xbgy98j3xbfmd9e4P7heeQS52PqY+4J8uv1ZPqC/kECFAZpCX8MXQ90EVgTvRSvFYUWJxcSGMMYMxkZGhEbshszHKAciBw4HA0c/hunHBIeLCAkI4sm1inRLL4vIjLEMys18DX9NYY1WjRgMsoveyxSKDokDyABHKoYhBUvE2wR7Q/vDtEN6QzRCy0KaggnBhoDmv8M/Nf3WfMp7/nqEuca4yTfrdtL2A/V/dEKz4jMYcp0yObGisVTxOjDMcT/xOPG4MlezfTQ0NRK2DXbmt2p3lvfdd/Y3tze8d5w3/TgneKW5EbnS+r/7f3xwfUR+jj+FgInBnsJZQwHDwUR8xJmFFwVcBY4F/kXtRhhGYcaPxuTGxkcERy7GzIbzBpYGzwclx3yH3sigCUSKfErey7GMIgy8jO2NNo0RzQUMwQxGy76Kj8nECP1HgQb1xfuFGMS8RBwD/YNKw05DP4KtAkyCPcFtwIu/3b7LfcD8+7uvOoY53XjqN8a3HHYOdVK0knPDc0Xy8/IBMeRxSbEyMNIxGbFjMd6yhfOwNFa1dvYdttt3bveUd9h3w7fR9+63zjgiuFD42nlL+hs6xHvz/La9hz7XP9aA/kGgAqTDfEPAxL8E4EVphaxF4gYThk3Giwb2xueHEodFx3FHEwcoBuvGyYcKx3NHv0g5iPNJrUpcCyqLs8wgjLQM+g0/TRTNEczMTE0LvEqFifnIv4eFBvzF0QVoRIaEYwPDw5VDVUMVgsCChEItQVTAon+yvqx9mPybO6s6sfm5uIr36zbCNib1OLRKM/IzLLKZMh2xvvE+8OCw8vDRsWSx0zKrc2V0TbVaNgH2+3cLd7M3jffH9/23t/f5uDQ4abjF+b+6EDs0O+082n3p/vn/30DUQfdCroNShCrEmsUtxUhFxIY2RjZGe8aHBwIHakdtx06HbIcCRyrG7AbExx6HXUfmyEHJL8mwCl6LK4u1DDSMiY07jQQNX80UTNBMaouWytVJ1ojeR/tG60Y5hXDE6sRGRD5DuUNDA2zCwEK/AczBQMCZf7j+iT3yfIY70frCedm47LfI9ys2DjVkNKZz9bM5spoyBHGV8QuwxjDxsMyxZrHyco1zsXRDdXX12va79vV3L/dEd5c3sbeM9864Orh1OPA5Y7oBuxR7xrzIfcZ+/v+lgI8Bn0JWgwvD4YRLBOPFPkVKhdIGMMZAxsYHBgdUR1FHccc3RtwGzEbTBsjHGgd8h4VIdkjoyY3KaQrHy44MN0xjDNuNJw0BDR9Mrww+S1SKq0m6SJDHxIc9xgtFucT/xGpEI0P0A70DWgMpQpGCIEFbgLn/or7zPeu8+Tv7Ovr5yzkS+Ck3FXZMNY701rQts0Sy1vIK8adxHHD/8LGw1rFpMe2yv3Nj9Hp1ILX6tmT22rcMt2f3fzdid4c30fg4+GC4/rlDun/65fvdfM39w/70v6iAuoFNwmPDO8O5xCDEvgTjRXvFlEYkBnHGugbXBxkHFkcphu4GnQaHhoyGjsbXhz7HSggzyKNJQ8oviozLVcvMzGfMpEz3jNkM/YxtS/jLJcpAiZrIuQefBtmGL8VixP+EfUQqQ94DpsN4AvjCY8HWQSMAUn+nPpU91LzNe9Y60vnbuPk35PcQ9kg1jzTfNCTzbzKPsjPxVTEYMPhwgrE28WCyMDLy8500pjV/dc02qDb5dzg3Tve0N5o3xPgdOET4/zkkeeA6sbtL/Gm9Hr4UfwTAL0DOAd6ChsNYQ9hERkT0RR2FgUYuBlzG2UcCx2YHWUdLR2hHPQbvBt2G+QbuRzRHcEfvyE0JBAngSnxK2IurzCkMgY02DScNNIzpjJVMLQtnCqyJg4jZh/VGw4ZsxZ5FI8SVREpEP4OIw46DOQJ1gfvBKEBZP74+h/3IvNa7z7rMeeH48XfHtwr2TPWx9LPz9rM1Mkpx8nEE8NAwn3Cb8MzxdrHz8oKzknRI9Rf1ljYCto720Xc9dxN3Z3dad7K35XhDuSq5mnpdOye713zQfdZ+2P/qQJGBpgJLgzfDuEQvxKiFEoWaRggGqMb/hxaHXMdcx1DHcEcHRwEHOkbGxwGHW0eOSDbIfQjfib+KOMrhy7OML4yBjS1NIQ00TOKMk0wli2AKgAniSMMIIQcnBlNF2YV2xOqEpIRWxDkDsYMqQpuCJUFrwJd/5372/fr8wTw5+u450Xk2eAd3cvZvtas02bQB83jyd7GVcSVwgDChMJ8wyvFnse+yuXNf9A009PV79eF2W3aAtuK2/3bu9zq3YbflOGf4wfmHekt7IDvRfMn9zj7H/+nAuYF2AiQC84NExAeEsMTJBZaGAEanRumHAIdHR0gHXgcCxzXGxIbNhvmG4scwh08Hx0hhCMMJqoomytMLoIwfTKPM/kzFDRYMwMyKTCALWAq/iZfI+QfsRzkGccXMBaQFAUT4hF4EMUOGQ32CqoIIQb3Arr/Lvwh+Dj0WvB07JDoweR64QXesdqg1/jTp9B9zS3KWce4xB7Dy8IPw07EPMadyJvLfM490QnUatZN2NbZtNpV2zvcp9xj3djeZOBs4krkmObW6ensVvAe9P/3N/z8/0QDjwZzCeELVA6eEPcSUxUqF2gZpxvLHNMdhh6EHl8ewh1PHS8d8xwPHXMdIx4nH6cgjyLIJHIn9CnCLFcvGDEdM4E0yDTsNI00CTO3MFQu+ioMJ98jbSBUHfwaqBjVFikVqxN2EiARhA+hDa0LWgl2BnkDTABa/I34zfR78LnsEell5S7i1N5n2/rXvNQ70V3NJcpBx+fEysM4w4zDusQbxpvIZMvczfXQp9Os1Z3X2djd2fvandtU3HXdx9404D7ihOSY5ozpD+2I8Gv0n/hf/Nr/awOFBhcJews2Dp8Q1hKDFZoXtxmPG30cjx0wHg4eqh1sHTod6hzqHPIcJh3iHQMfmCCZItUkYCczKt8sSi9dMdoy/jPwNPo0CTSjMlYwbC0xKpomeCOGIKYdQRtRGY4XbxX7E/oSThHCD0wOZAzpCS8HHgRQAMv8EPnK9CvxTe0n6djlgeL53rzbMNhU1GzQncxGyYHGksRLw6DCPMNrxN/FWMjtypTNt9At0//UqdYD2O/Y5dni2qTbA92S3vPfouHW45/mkekC7evwovRS+E788v/rAvcFqQhPCxcOZBAzE9cV2RfzGXgbwxyeHZ8dxx24HX4dah0SHfIc1xwYHdodlR6AINEi9yTgJ00qyix6LwcxxDJ4NDE1WjVzNJ8yTjCeLYYqGifdI/EgRB63G5kZxxfnFYAUeBMoEqcQ8g7dDJIK2AfEBEkBS/1R+Vj1ZfGc7WvqQOd84xvgmtzD2ObUutAMzc/JLcdPxbfDIMODw63EhMaXyCrL5s2A0LfSgtQz1j/XQtiM2VnaZ9u53MjdQd8D4TjjO+Zh6cbspfCV9D/4z/s+/yoCHwX9B4wKgA1GENMSoxXuF+wZhhtuHHEdxx2sHfcdqR1FHSod8RznHCAdGh52H+MgEyN4JcwnVSrTLD0vRzEXM6E0ZjU7NTo03TKBMIEtpCpaJ0IkfCG1HlccaxqqGN4WdxVWFAMTgRHBD8UNUAuLCIoFzwH8/S/6B/Zv8hzvo+tN6NbkO+FH3WnZstWt0QLO2MoIyAvG3sQ/xG7EncWCx7LJNcyyzsfQ9dLZ1EDWtNf72Efacds/3DDdPt6638jh8eOk5h3q1+2R8VD12PhN/JX/fwKwBZkILAtMDj8RuhNpFrkYZxr/G/wcmB0WHkAeZx4eHssdah3/HDcdsR2BHq0fgiGnI4ol6ydFKpgsOi8bMcQyXzThNMs0BzRPMgowSi11KoQnWCRxIfUefhxkGugYMxeTFU4UEBPoESQQ6Q2oC6cILQV6Abr9C/o/9szyXO8j7J3ovuSB4XTdD9k+1U/RlM0xymvHPcW0w3bD8MMZxSfHRMley3jNcc8+0QDTwNQb1oPXxdh+2UraZtua3PvdIuB54g/lt+hR7P7v8fMu95j61v2aAAUE2wZOCaUMxA93EkAVjBdLGeYa/RvmHJEdiB2QHU4dyhyOHFIcjRxEHQIeNh8KIQAjHCVaJ+IpjizMLt8w0TIqNNw00TTHM+4x1i9qLZAqvSfpJAUidh8iHd4a9hhJF88VkhReEzISkxCLDhAM/AiRBZoBBP7l+lL3tfM28JPs7+g85R/hHt0M2aLU3tBBzdLJF8fdxMnDjcMXxHrF48atyNzK9cwGz/DQ7NKk1NbV6dbz1wXZ9tnp2gPccN2A3yriMeWP6Fns5u8v86f2+Pn2/AEAOwNZBoUJ5QzJD3oSWRV5F1EZDxs3HDwdzR2+HZIdNB18HEQcVxxoHPwc1h0lH6sgiiKrJNYmlik1LMYuEDGYMqczIDQ3NE8zlTGWLw0tZyqsJ60k0iFUH8ccmRobGYEXIRb/FKkTXBKaEIEOBAyrCH0FUAJn/un6v/cO9IvwQe2o6ajltOHk3avZVtUB0TLNAcr1xh7FOcT0w8XEtsUDx/PIusrDzNDOsdCo0iTUjtXP1qnXk9g/2Svadtvq3ETf7OG15Fno6usS713yxvUt+Rj8Gf+HAqAF6whBDAsP6hG6FAMX7Bh+Gs8b1BwfHRQdEx2HHBAc/huFG6sbuByEHZ4eJSCkIcAjeyYWKcQrgC6aMGQylTPfM3IzYDJEMSQvYSwkKpQnzyT9IXIfWR0cG1gZEhjoFu4VxBQ5E20RXg/JDN0JjAbsAtP/nfwO+aD1GfLE7lDrbud14x7fhdpF1jrSJM7nymPIQcZjxVrF5cXSxu7Hzsmjy4XNjc890fnSQNSO1b/WQ9cW2MbYmdnw2oncL9/O4Zjkd+jD6/vusfLM9ej4Ovwb/2oC1gWsCPgLKw8SEtEUDBckGasaKhwqHSkdOB3yHJYcJBzSGyccMhx3HGodXh6oH7EhDiSaJkYpwytZLn8w8jEgM4EzJTMhMrUw3i5DLNopRSdVJN0hPx8OHTcbThmOGEAXzhVdFaMT4hHkD5oMzgnBBo0DVwDB/O35jvbG8qXv2+vV5/Tjgt+P2vLV8tHgzULK1scuxhvF/MRsxQ/GKse8yJfKbMxdzmHQKdKd09DU3dWS1lLXDtjI2Gjaotzl3pThyuQ+6Jbr2u4W8v/0SvjU+8X+AQI5BSAIiwvSDrkRkhRCF1IZwRoPHLcc2hzjHKMclRyEHCocCxw4HIgcIR0iHr4fzCHoI3omLCnOK4guczD4MQwzDjPQMg4ymTDPLo0s6ykrJ20kpSFRH1YdQRujGYcYWhdYFj8VcBOXEaoP9wz5CfsG9wPgAFL93PkQ96Lz8u+g7E/o9uPQ3/baYdYK0vbNs8oRyP/FCcUExfDEncUUx2bIK8oezArODdC60UHTJ9TJ1KPV7NWc1rTX49hg2/XdT+CX4/PmH+pZ7V7wf/O/9gD6Yv2rALYD6QZRCoUNghA8E9gV+BdVGZQaXRuuG7cbhRurG2sb8xodGx0bVBtJHEQdlh7HIEgj6SXFKGQrrC3RL4oxejLbMq4yzjF9MJAucSxJKn0nuCQcIoAfuh1XHKIaeBm0GFIXFRaVFFYSaxDODcUK7wegBKUBdP4i+1L4MfWh8bLtpulF5V7gmdvm1k/Spc6cy7LI18b8xYjFk8UUxlfH0sheyoPMdM4c0K/R1tLT027UltTt1LfVzNZm2GfamtyF37Ti2+Xh6MnrQu9o8nL1GvkP/An/rQLHBR8JqQxJDxoS9BSeFgMYYBnhGU8aqRpmGn0achr2GQoaRBqPGlYbQxy1HRYghSL1JAsozSrXLPwuwTCPMQUy0DHgMNIvCC6oKzopZSa1I14h+h4eHdMbixo0GQEY2hZ3FccTzBHiD3UNZQq8B70EgwHr/s77ZPh29QDyFe4M6kjleOCi26LWf9K3zlrLAMkNx4LFycT+xH/FPcbtx8jJc8uQzVjPo9Dx0aLSwNIl0/XTnNSf1XrXftkL3MzeW+Gm5Mjnr+oD7jLxevSw98v6G/5oAdIEQwiLC9AOuxEQFCoWyBfAGJwZLxpOGj0a1xlzGWwZVBlEGZkZdRq8G0gdjB8wIrQkdCcRKnIsjC4RMEsx5jHEMQExpy/7Lasr4igvJsIjeiFOH5cdKhzVGrwZlhhRFywWvBSVElsQ6w3hCkYIlQVdArr/8PzK+bb2JfM07xjrcOZO4XTc2tds02vPKsy8yYXHX8bexVzFJcYpx1fIkMo/zN/N4M/V0JPRQ9KQ0l7T7dPB1HbW59e+2THcn95x4XHkROdn6rjt0vBU9KL3bPrj/XUB2ASMCPULww59ETYUGBaBF9oYfhn/GXkadxpMGgkaqRlTGUQZkRlZGpEbOh2THzci8iS8JzAqeyy2Lj8wHDHHMdMx1zCVL/4tZyvkKJcm5iOuIawfeR38G+0awRlnGCwXLhZpFHISdhDHDTYLxggfBnkDygDZ/en6rffW8xPw3+sr50biU93o2IPUntCKzbjKtsgaxxTGRMbGxqPHJcntyo3M/82yz/TQjtEG0oPSK9Oj04rUHNal15/Z4ttS3lThNOQl52fqT+178M/zuPYG+p79SAHlBE0I4AsED88RYhR0Fv8X7RjpGVQabxryGpwaFBrbGZ0ZthnAGVAauBs0HVYfMiLBJDsnxSkLLA8uvS8xMeIxzjFoMQ0wFC4SLKMpEyfmJL4igCDSHoodNxwnGyMa4RiRF+wV5RPIEa0POA10CiAIswXbAkoAh/0N+jn2BvJo7bPo2eP03mPaRtZ40gLPR8wUyoDIysdox7bH+8heyt/Lec3Rzi3QFNGe0U/SpNIK0/zT6NTo1VfXF9k52+PdtOBN4wzm/ejn6xrvcPKR9eX4rPwcAI4DSAdXCnsNVxBKEmQUFxZXF1EY0xhTGT0ZqRhQGAQYoRd7FwAYGBmVGmYcdx68IB4jrSUzKJsq5yyQLr4vWjAWMJYvpy7GLIUqYygVJqojkyG5H/wdaBw2GzMaHhk/GP8WCBU5E1cR8Q6qDDwKswe7BX4DywDb/V/6tvaJ8v7tXelb5KzfMdvY1hnTe89mzDTKucgbyMfHMciDycnKYcwmzljPQdBS0RbSedIv06vTNNQW1fjVmtd82aDbFd604JXjMuaM6dDsa++H8qD1/Pib/CIA7gOcB+AK0Q2YECsTKhW4FhsYQxnlGR8aUBrfGRoZvBhEGC8YxBiQGcIafhy9HvAgHCO0JVUo4yolLbIu7i+rMG4w7C/4Li8taStqKfcmsSSTIrAgNB+8HWMcdBtWGgIZuxf5FRgURBLsD28NOAtWCSEHegQaAg7/mvv993vzNe+d6q7lJOFs3DvYSNSM0LbNU8upydnI1MhYyerJHMuSzOnNO8/zz+3QwtE10h3TSdO107TUldVT1zbZMtuP3TjgEOOt5afogut47tbxDfXZ+Fr8lv9zA9gGOApjDQQQphKsFIcWAxjUGHYZnRmEGTUZrhg4GPwXLxiIGEgZChvbHJ4eIyFkI9clvCj9KkotDC86MCIxzTA3MGkvnS1sK0ApHicSJTEjYiHYH4UeQB0SHNcapxlFGIgWoRTAErAQaw6ODF8KIggxBlgDbAA7/Q/52/SU8O3rQOeE4n3dHNk21WfRh84UzFHKf8lMyfjJ28rTy/rM9M0Hz0PQ/tB20QTSUdLi0qfTZtSV1SHXDtkM2+bcYN9P4vLkuueY6lztqfDz8xb30fqX/h0CuAUOCQkM5g5tEYITcBULF+oXWRixGJgY7xdoFxAX0BY4F4kXLhjbGWsbSR2JH/kh2yRJJ5cp2St2LaouRS9iL/Muby3pK3AqECj9JR4kMCKfINUeqh2tHI0byxpfGagX9BUhFGUSbxC3DgAN9QoRCccGMwSLAff9EPoV9prxG+1D6Dvjht7Q2XbVstHLzrHM58odyhLKQcoKyxLMBc0GzjzPQdDd0FLRf9Ho0YHS1NLo01LVj9ae2HvaiNw+31nhG+QP557p3uwU8Gvz1PZS+iD+eQHfBEIIUws/Dt4QOxMfFaIWihcPGGcY+RebFywXnha2Fp0WCxcKGB8Z4xrTHFIf4iFFJPkmPSlOK9ks8i34LtouCC4sLbUryCnnJ98lziMLIogglB9fHukcPRzzGjEZuBfnFUoUuhLZEPMObA3uC8MJkwdNBWoCLf9o+1X3PvOt7s3p8OQU4HHbGddv05bQRM6VzLPLhMvky4/MVs1Rzk/PJtDy0MjRbtKd0hbT+dOA1G3V3Nb+16PZnNuQ3Qngi+II5ZznQ+o87UvwkfMV9636Qf6RAfQEhQjNC6cOTRG0E7gVCRfLF2wYcBg7GNUXCReZFkwWTBbmFrgX5BiAGowc9R5gIdEjQCagKMYqSSxaLdot2S2ELS8scCr1KPwmwCTnIh0hqh+eHmsdWhwqG70ZThhsFsUUXROBEfAPaQ7aDJULcQkWB/QE2QGM/jL7C/el8h3uaelb5Ezf0tp21rvSvs9WzfvL7cqxyhjLV8tyzGzNIM4+z+jPrNBI0WnR0tFM0vbSy9MB1bTWSNgm2gvcLt7h4PbifOWW6HTrxO4d8qz1RvmZ/DoAxAMMB0IKNQ3HDzwSRBRvFUUW3xbjFpMWNxbMFV8VMhVHFXQVOBZyFwEZ4hpMHRAgOSLrJH8nRilPK2ssAy03LZMsuys1KoMoySbKJCMjtiEzIOoeFR4GHbcbVRqtGBIXbxXSEzQSsBBwD8cNJAyVCmQIHgaAAzAAu/zc+IL00O8E6w3m4OB73FTYftSJ0QHPdM1lzALMUsyZzJDNWs7uzibQstDo0K/R/9FB0gTTr9O81NHV2taI2FbaJtwt3pTg5eIN5QLoDus+7trx3vQn+Kj73/6kAjkGbQmmDC0PexF8E50UixUxFjYWwxWQFUgVmhRjFFgUkhRkFZwWAhjcGUQcmB5VIRAkSiZ7KBEqVCs7LAssYCuVKlIpkif6JXkk1iJ5IR8gFh8MHoYcRhu3GSMY5BZTFfkTpBI0Ed0PfA7tDBkLRAntBkMEewEW/h76zvV18ZLsqOcR4zzeKdqX1nXTUNGcz8jOTs72zanON8+6zwXRydEz0sTSGtN007bTOtQR1ezVFddl2NvZctsz3T/fN+Fr497lgOi46+3uwvHr9Hj44vtp/wQDUAarCeMMkQ/WEaITBxXjFUIWZBYkFq4VCxWMFGcUMRSFFGYVQRbUF/kZChxxHikhvSPpJfwnBSofK4UrqSslKwsqpygvJ28ltyN+Iiwh1h+zHlwdHhzzGkcZexcsFu4UchM3EhIRjw/vDaAMMgsjCQ4HvgS4AUz+c/o49rXx9Ozc5zfj9d572ufWENTE0RvQ2M6bzqzO4s6IzzPQGNHK0UzStdLv0lbTv9M91AjVGdb61inYudkS2/Lc3t7W4DzjsOWY6KDrt+7K8dr0aPjq+1H/5wJ2BrMJxQzJDxYS6hN+FYkW/BbxFpcWBBbcFYsV4RTmFDoVDxY1F1YYTBpyHIkeVCH5IxMmWSg/Klgr4CvFKygrMSrwKFwn2iV7JBoj6yGFICUf7R12HB4bwxlIGNIWZhVXFCYTtRGLEE8P3w04DFQKNwjcBQYDZ//C+7v3DvOC7m3pfuQq4Ozbl9iT1fjSdtFG0N7P8M+3z/rPxdB10f3RhdLG0ibTutMK1M3UjtXf1fTWKNjv2GPaS9wA3uzfbOLs5G/nWepO7Vbwj/MQ94r69f24ATQFbQiTCzkOoRBbElMTeRQDFeoUNhXIFPoT/xPTE5ET0RN7FKUV5xaNGOcaUR3xH7AiGyVTJ8Yo2ynOKpYq+CkQKaQnoyZ4Jc4jpSKqISsg5R6eHeYbihooGaAXdRY5FfUT8xL3EbIQQQ/2Da8MDAvbCGUG1AOaAPL8tfi982/v6urT5dTh0N3V2dLWPtSV0pHR9NDx0BPRX9EA0o/S6tJe0+HTW9S51DnV5dWg1mHXD9gl2TTaP9vK3H7eaeCx4lHlwedg6nTtc/Cy8/b2X/oa/rUBGwU+CHcLTw5REAASjROuFAEVMxUrFYUUTRT2E2oThxObExwUOxVxFmkYdRqhHIUf4yEVJDsmxCcYKXEpMSnvKPsnAycQJrwkciM9IowheiCnHnUdBxxMGhwZxheAFi8VChQYE84R4xDOD6AOkQ3hCx8KwgfoBBQCmP5y+oP13PC37OznSOMA3zrbUtjI1VDUG9MY0kzSCdL+0czS9NI5083T9NN01DbVjNUo1tnWbtdD2OrY0Nl22xbdaN5O4KPi4eRI5wbqEO3h7/nyg/bQ+V79HQHUBBUI4ArCDfsPpREEExoUzBSkFGwUIBS6E38TExMEExEThhPMFNMVVxfRGTYcqh5RIZ4jiyUfJyYojShUKN8nOScnJiYlXiRII/AhrSBZH+sdbhz+GpIZ1BdiFk4V4RPHEvURxxDYDwgP7Q2nDCELTAkKB4wErAEN/gL6m/UJ8Yrsz+df44rfzNuw2HnWn9Rh09LSdtJs0rHS7NJO07zTJNSC1AHVsdVJ1r/WQ9cm2OTYl9nG2knc3N1K30bhZ+ON5SnoXurj7D/wbfOm9oD6LP6EATMFogh6C0cO0hCwEgAUCRWBFTwVIxXuFA0UlhOTE0UTURPjE5EU8BXhF9QZ/xuKHjUhgCN6JfEmtCcSKPwnqScnJ2AmaiVuJGUjFSL5IPUfeB7dHDEbbhkAGKwWQxUFFAcTGxIPETcQUA8pDjAN1wv7Ce8HNwUMAp/+kfpc9u7xMO3N6KPkneAk3TLa59c11szUGdSs00PTVNN007fT+dMv1NDUhNX31VvWydYz1wnY19iZ2dfaqNsG3Qnfm+Cv4vLkMeeo6U3sZ+9m8q/1b/kA/X0A/AN6B4sKZQ0GEJYR8RIdFFUUfRRrFOcTlBP7ElwSXBJSErES+xMnFcMWNRlnG+QdgCBnIj8kqyVoJgUnCyePJggmVSV7JHojjyKHIUogHx+jHScc4BpXGesXxRaEFVMUUBM2ElgRmxCbD8cO0Q2PDBcL0QgkBhwDfv/F+5L3CfNp7rHpw+UC4kXetttr2UvXIdZh1f7UvdR41JvUyNT61HfV3NWU1mzXvtcs2JXY9tjs2eva6Ntt3eTeP+D64crjxuUY6FTqxOzF79ryP/bq+U791ABGBIAH7wrjDRgQ7xFeE1kUwBTVFMQUbRTnE28TNRPCEpkSJRMHFHgVIhdEGbQbAR5cIFoi/iM7JewlSyZDJh0m5SUPJTIknSOWImchViAhH9YdLByNGo0ZGBhtFnQVIxT4EoIStREFEXMQhA99Dj0N1gvHCUoHxwQ4AVH9Rvmh9CLwl+uW5wPkPOCD3VjbN9nj1+fWMNba1a3VyNXW1UTW2NYT18HXDthF2BfZl9kw2vva4dvy3C3eiN/f4KziaeQ45pvo8+qZ7XvwhPPd9l/6AP5ZAc8EFQgYCxMOLBD8EYMTRhTOFAcV/RSXFAEUvhMvE44SuxI+ExMUgBUlF1EZ6BsxHnMgkCICJDwlBCYTJhcmFibYJV4lgSSRI7oisyFxIAAfph1RHCIb4hkBGOgWoxXAEzYTZhJ9ET4RjxDoD+gOjQ07DFkK3wciBcsBE/5c+qT1zfC97Fbof+SX4aHeWNyz2urYqdfz1mjWIdb/1VPWmdYB17TX4deG2BLZBdm02Vra59rs29zc3N0U32Tg2+GI42zlsucY6pfsje+d8t71PPnT/KAACQReB1QKCw2hDz4RpxLgEzEUZBRnFAEUdxOoEikS3hG/EXASShNaFEkWdRh2Grkc2h5vIA8iNyO3IzwkYyQzJAckiCO5IhUiOCH5H/0esx0THKAaAxmWF1sWAhXME7MS1BEqEWEQgA/oDkgONQ02DOsK+QixBuADvADu/Jv4gPQH8LLr2ef248vgAd6I2+XZLtgC137W6tW01ZHVxdUy1mjW+9aV1wXYjNj92ITZKdrT2pzbkNyr3cjeGuCu4VTjQ+VY54/pH+z77vXxNvXi+D78tv+CA8gGxglLDGgOaxDdEdQSfxPpE/gTrhPvEjMS7hFuEW4RBRKhEisUNhYTGCQajhyJHgwgjiF+IgcjiiMFJPIjfyNzI98i6iEnIdofXx48HQMcfRreGEEX8BXWFKkTqBLHERgRYhCTDwYPPQ5VDXMMNgtsCRcHnAQ2AWT9kvkM9QXx4OyB6CLlxeHv3tHcx9pY2QrYG9fT1oLWbtas1vrWU9d118PXY9jP2BjZetkn2vfa2tsI3SLeT9+R4ObhjeNh5XLnuOlJ7OfuxPHp9Cr4zftQ/8QC4AWKCFsL8g0OEH8RjRJnE5MTYBPfEgwSixETEZwQ3RBcERMSfBMhFQ0XDhnpGvQcsx76HxAh0yE9IoIijCJCIvwhXSFkIJsfnB6JHUgcxRqkGRQYJxb8FLsTURKWEcQQww8bD3cO7A1hDbIM+AvNCjUJGwc/BCoByP2h+Vn1TfFW7Z/pOOYi40bg4d352zraGdlu2MfXe9d615LXxtdP2NHY8thT2dDZIdqV2kDbAdy93G7dXd7O3/jgLuL1453lv+cE6kDsNO8S8ij1m/jX+0H/tQIDBgwJlgvbDdIPgBHoEpATmxNuExcTYhJuEeMQjhCUEGIRTxKiE3UV6BbPGAgbkxwLHncfjCBVIa8hzyEJItkhUiH6IBEgHh9fHvccuBtiGscYdxeiFQcUKhPrEbgQ+A9GD7cO+Q00DeIMbwyDC00KrwiCBtIDlAD4/BP5I/VV8VftuelV5gjjReC63fnbndoh2VPYvtc/11XXpdfO1/jXWdjk2EvZltlE2sbaH9sP3MrcTd003oHf2ODj4avjouVF56LpB+zI7v/x8PR3+Oz7QP/lAvIFFAn4CwEOJRD7ESUT+BMfFKkTTBPPEvERUBH8EAIRfBFyEgcUwRVzFyQZ+BrOHBMeaR+aIEchyyHiIdEheiEoIdgg8h80HzAevxyLGyIashgrF5gVUxQIEwsSIBEOEGIP0g5yDhwOiQ0YDU8MHguiCYUHzgSjAUX+dfpg9qby5e7v6rbn6uQL4snfsd3S25PardkX2abYoNim2JzY7Nge2WbZGNq72jzbxNsN3Ljczd1Q3gjfKeBj4cfi++Of5ajnoOkL7P7uEPI99cX4Qvx0/7cC8gXiCKULTQ57EP0RFRPiEycUvhMoE2kSqBFPESARVxHNEaYS+BNWFSYXFRnJGnEcoB3RHh4gtyBMIaMhQiEfIb0gGSCaH7Eekh07HPsarRkRGPkWgRUCFC0T0BHFEAoQJg+cDikOHg6lDeAMVQzZCj0JcAetBJ0BPv6b+sL2HvOn79jrkeiW5XziNOAr3kfcLttQ2pDZJtkC2TLZftmp2Qjac9rM2lXbxdtS3Ojcnt1l3sTexd/44Pnhg+Oz5CrmMOgd6qHsfu908pX13fg6/Gj/rwLSBZ4IaQvcDQgQ4hECE4QTYBMDE4wSuhEKEakQSxBVECoRLRJGE68UTBYKGLgZXxvKHNIdvR5MH5UfISBCIPwf0R8sH24ekh1bHDob0xlpGBcXpxUsFLYSiRFIED8PpA7sDW8NIA3WDKwMUQyvC2MKjwh3BuYDMgHl/T36yPYH80/v/evr6KrlqOJ44GDeeNxj26Da5Nl/2XjZl9mf2bzZP9qZ2tbanNv922bcO92d3WveVt/V37zg/uEu41PkDebp5+zpp+xF7wjyDPVK+Ln7w/5EAu0F/QjKC0YOjBAaEvYSqBPGE40T9BLrEYkRIhGxEBARcRFPEpYT0hRnFvMXpRkTGz0cpx2aHiwfoB+8H80f7R+nH8oeKx5jHe0bIBsXGj8YBhe9FfQTjhJgESIQIQ9fDqcNRg1FDesMmAxSDG0LdwrhCGQGIwQ3AXz9UPr+9inzn++J7HnpBeY+42nhPN9W3SjcKNu42jvautnj2QLaPtrT2v/aQNsW3JDc4Nx+3RfeGN8N4IzgWeFq4onj6uSG5k/oZerF7G/vXPI49Ub4p/sE/3QCkAWMCLoLSA5YECASbBP9E8ITcxMOE04SvhF0ERYRRREoEggTHBSWFSwXlRgKGoYbqRy3HcIehR+7H+Qf9h+rH54fMx98HtwdoBxOGzwauBgeF8gVQRSxElURPRA0DywOpA1oDTEN5AxpDKALrQqoCRMINgb0A/kA2P2c+iP3lPM18Ovsz+kJ5xTkoOGv39rdmdxq26Laatoz2hPa/9kq2oXa+tpT28zbbdyh3FLdNt6L3k7fdeBa4RTiFuNr5P7l7efN6R7s1O5M8VT0c/d++tH9FwGhBKkHYAoRDSUP6hDlEXYS6hJ8Es4RVxGyED8QSxB8EOQQ3REdE04UrhVcF/IYWxqqG68chR0dHsceKB8dH1Yf9h5eHtwd5RzhG5AaZhkZGCoWuRRmE7sRfRBUDyMOiw3+DGoMZQw8DOgLzAvkCnMJKgg8Bt0DVwFF/gL7sfdD9Nzwh+2A6p7n1+S+4tHgzd5z3Xjcuttc2yvbK9s5217bwtsK3DLc69yP3ends95H3/zf3+CR4YniXeNN5Hjl8eYD6TTroO0B8JryrvVp+I/7Df9YAtoF7AicCxQOTxBAEkETvhPoE4ET9BKPEigSvBGVEdwRbhIFEwEUVBW2FhgYchndGtkbyhzSHWIe3B4uHzsfLB/qHlMeeh2xHLEbjRp4Gc8XCxaQFK0S0hBmDxcOFw13DAAMgAtIC1kL8AqJChcK1AhkB3AFzwJcAJn9WfoR9+Dzp/Ad7f/pY+eH5PbhBuBB3tvc6Ns728HaWdpj2obaftrg2ljb6Nt+3NPcq91+3tPeit8x4KHgpOGv4nLj3eSs5kPodure7PrunfGH9J/3Afto/s8BMgWbCIQL7A02ELMRkRInE0ETKhPRElASyBFwEXcRshEpEqgSjRPWFB0WihfrGCIaOxtkHDUdvB2EHrEe1R7uHlUeHh49HVIc5hsrGtwY8RciFn0UwhILEYEP/Q0eDagMFwzKC88LXwvrCpgKoAmmCGIHWQU1A5YAf/1w+hH3xvPd8JntXepl57zksuKZ4N3ea91E3KTb49qj2nbaTtqg2sHaWNvQ2yPcO9293V/ecN/S31zgzuCd4cXiiuP45ILmQOho6lrsxu5h8TP0cPe3+g/+egEDBUoITAvIDe0P+xHPEhkTaBMRE78SThK9EaARrBEXEncS8RILFPYUKBagF8AYAhphG1Ic8RzJHT8egB7oHpseFh7WHU4dYxyMG4saJBnLF0sWexSiEkMRAxBsDpsNJw1WDOILtguVCy4LkQr1CfAIfAeIBTYD1AAk/vn6tvd89DTxF+716gror+U6487gWN813uXcDdyM20LbDNvD2u3aOttk2+rbvdxj3eLdnN5b3/nfneBI4TziGePK4ynl8OaU6E3qcewE73fxGfQq90X62f0/AWkE6AfFCkgNmQ8ZEfARchLiErYSQBInEsARfBFzEXMRHhLUEuETGRUCFlQXeRh/Gc4a8xvaHJ0d6R0SHn4eJB6qHXQdoRzOG9EaphmHGPAWHhVcE7cR7g+DDtgNsQy1C08LzwrmCtIKTgrZCSAJKwiaBsoE5wJxANn9Cfu+94f0cPE07k7rv+gV5rjjz+EY4MXe5N0M3RDcltuC22bbj9vi23Lc6txc3T3eyN5U3xzgpeA74cTha+KE46Pk2uWJ5z/p6Oro7APvRvH88y73bPq6/VEBpAQHCCkLbA2zD48RiBL+EjwTRxPHEl8SPxI4EgIS5BFxEu8S9hM9FTcWnhe9GN0ZARuxG38cFx2NHQMe/R3JHbAdPh14HLgbqxqcGYEYnRbKFFoTUxGRD20OIA1QDMELGgvVCr0KcQr0CaUJ7giQB1MGwQSTAlMAwP35+g/4pvRj8YDum+uq6Bbm9ePT4RDgsN6Q3b/c4duI23fbNNuJ2+zb/NvD3Ivdyd2n3iffKN884B3hc+FS4knjauSy5RTn1eiS6oTsu+4P8c/zvfYR+s/9NgGVBM4HiwpGDXQP4BAcEuASDhMREwgTkRIFEvwR/xEmEqkSKRP2EwAV6xUuF2QYahmsGm4bIRwLHWodnx3XHcQdRB3pHK8c3hvfGqcZKRiSFnIUmBIREQYPtg28DJ8LOwt7CgsK/wlzCU8JrgiiB+kGbAWtAwECev+4/CP6Kffh88Dw6O0M60bouOVw44nhzN9Y3gvdAtx8293af9po2lXa9Np029rbq9wr3ZfdId6/3ibfhN8+4ALhCOIF4zHkjuXz5gnpCOsk7cvvUPIQ9Ub4xftW/5kCswXpCK8Llw1CD68QWRGbEZsRShEZERUR6RC9ECkRmxHqEe4S/BMeFV0WHxdxGLQZgRqnGwscYBzpHIUcbxyTHC0cvxsAG8oZoBhYF8wVDRQ9En0Qwg5yDSwMWwu4CswJyAmQCQkJvwgTCE8HNQb9BGUDVgFX/+L8Q/pn9x70FPH87Qvrteg75r/j0uEn4KDedd1L3DfbDNv62rLa6dom25fbUNz93G7d5N133szegd8d4Jrgi+F/4rvj2OTz5azne+k661HtBfC08qz1MflX/Lv/VQNrBo4JcwyMDlIQlxE4ErASuhKwEqESPBJEEkgSORLBEmUTFxTcFOsVABfVFzUZJRqxGtMbUhyQHP4c6BzsHO0clxwgHGIbcRonGakXFxYuFEcShBD9DqoNZgyMC8QKBAqrCU0JKAknCYUIzQfQBi4FsAP9Abn/M/2c+tf3x/TI8dnuC+xv6SjnIOUa42Hhxt+g3rrdwNw+3OTbyNsb3Irc59xV3Q7ept713l/f+t+g4FvhHOIY4xvk/uRC5nTnouhC6hDsK+7f8LjzkvYB+n79wQBQBL0HsApXDZ8PMRFEEmET2hOtE9oTqRM7E2YTaROmEycUlhRMFQ0WLhc1GEUZjxp7G6scdh3WHXIecB5EHmUeLx7oHW0dmxzCG2wa2BgJFzwVkRNoEcoPhg4KDR0MSwu7CmMK7gmzCVUJ7AhCCBsH1AVJBEICCQCk/bz68/c89SzyOO9M7KLpWec95ZHjtuHK3+DexN2s3JbcE9zk20TcPdy03Ffd09193u7ecN8W4G/gHOEK4qLif+Ny5DLlceYK6MvpoOvh7VvwyPI/9o75g/xCAOUDDwfxCeUMGg+hEDcS2BJEE50TbhN5EzITKRNlEzwTbRP5E+oU8BW4FqgXuxjnGewalBtQHA0dSh12HaIddx11HUIduRxKHCYbsRlZGGoWvhQPE/UQnw9ADs0M8QsZC4QK2AlCCRAJmgj+B0wHhwZmBcYD7wHL/1L9o/rQ9+H0//EF7zLssOlU5x/lJeOU4fLfzN7V3ancXdz+27jbDNxn3NfcL93o3VPeod5c37LfY+AN4a/htOJ743nkZOWb5ifoqenT6+ntAPCy8rP1F/mM/AYAigPCBtYJfgyYDnsQzxGCEiITahM5E2MTchM4E3cTlxPKE1AU8RT4FesW8BcGGREa+xqyG6Ec/BwlHYwd0R0vHuQdZx0THSAc8BriGWQYdhbAFPASNxGiD/sN5Qz2CyALqAomCqoJUAniCG8IwgesBs8FcARSAlgA0v0m+4/4U/V38u/vCO2F6jzo0+XG4wTiZODr3pLdntwp3PTb3dv921vcqdwG3a3dMd6d3kvf7t944AbhueG14n7jR+Qj5RbmeOfV6H3qruw578vxnvRE+M77CP9vAuEF2AgvC2wNMA+KEJIRABJrEtIS2RKmEocSgxKIEvQSqBMXFAAVUxb/FhsYRxnDGcwajxvUG4ocBB05HZAddh0bHa4c7xsNG5oZ0xcwFkcUaxK4ENsOXg1DDB8LUAq0CQkJ3AibCP8HyAckBxoGJwWSA8MB2v9o/cv6Ovhn9Vjyj+/R7EfqIugF5vHjz+Em4Nzebt273D3ckNum297bGNx63M3cft3j3S3ey95e3xbg1+CS4SPi8OLk45fkr+X45m7oOupN7OburvG49Pb3Sfvc/lYCjAWVCFILpA11D+QQ+hGEEvMSPxM2E1cTWhM6E48THBSGFBUV5BXhFtgXqxi7GZsaJRvqG7QcNB2WHf0dMR4mHtsdRR15HHcbKRpzGL8WIhU3E2MRtg8nDtEMYQt/ChsKjQkXCZ4IGwimBx4HQAbrBHcDvQGs/179pvoD+Ez1WfK27xjtiOof6NjlvuOc4d3fXd5H3X/cftsw2xjb3tpj2+rbL9ys3DPdcN2X3VjeL9+W32HgWuHt4fjiHOTi5EXmnecw6YfrqO2Y8Onz2/Z/+t/9QQHcBNcHygoVDegOsBCiEXMSMhMsExQTNxMUEygTgxPFE1EUDxXkFbEWgRePGD4Z9hnoGnEbChyBHNgcUx2QHZodXB0HHXgcRxvbGTYYdxbRFOES5xAtD8wNtAyMC3EKsAlYCRMJkAgUCL8HJAdMBlQF5QMlAjoAz/0e+6L49vUq83Lwo+0k6+foZOYT5IHivuAO3wzezdzy28Pbr9u727zbHtzK3DXdhN3a3Vje+t6h32jgHeHQ4b7ireNt5FTlwOYd6H/pfevT7WjwaPPW9kD6kf0pAW0EAQfpCbsMZA72D2sRJRK8EuQS/xJOEy0TTBPXE+gTGxQGFQcW5BaeF6sYthljGlYb7xuYHDsdhx01HkIePx4yHqYdFB2tG3AaEBnrFlcVZxNhESAQZw7bDPQLwgryCYkJuAhMCAgIbAfpBtYFqARlA3gBuP+O/dj6S/iw9RvzTvBk7c7qUegl5j3kCeII4KTeaN1P3OXbpts121HbZttr2+vbRtzA3GPd292b3l/fDuDW4IHhSOIe4+Xj1OTY5T/n5eid6iHtz++08lr2j/ns/KMAzwPNBoEJGwwwDpEPNRE9EoQSAhM/EzsTHhMUE4MT6hNNFBMVFBbPFoEXcRgrGb0ZZxplGzgcsRxGHYodph0MHvMdSh3THNUbOxqeGPsWZRU9E1MR+w82Dr8M3gsACxMKUQnRCHQICAiVB/EG2AXDBFUDmAHI/2/9/Po2+Gr18vIv8JrtGOub6Evm7uPq4THgw96I3WDcydur22bbH9tC25Xb79s03Lzcgt3s3YzeQN+z33/gTeEY4vLisOPF5Kflw+bA6JXq6Ozy77PymfX7+Jb8FABaAzIGKgn+C9INjw/iEM8RjRLYEkcTOhM6E2gTjBMsFGkUEhULFnoWYRdHGCQZCBqLGlEbAhyjHEoduh0LHiIeSB7LHeYc7xt6GvkYDBdeFbMTqRFEEIkOCQ3vC6wKDQpECZ0IUgjRB10HnQbOBcYEQwPNAb3/RP0M+1j40fWy8+XwBu5S67bodeYf5AziUeCK3ivdO9xi2+naqdqa2gTbLdtl29nbO9zz3IvdPN7e3lLfSODo4HfheOIQ49/jLOUr5rPnyOnC65fu5vEK9ZH4FPxN/64C7QW4CDsLfQ1cD7kQqRFlEvISDRM5E4ETsBNiFNgUTBUIFm4WbxdPGLoY2xm+GlUbNhzAHIMdcR61HgQfYh9KH7ke6x0YHckbXhq0GM0WdhV5E4ERSRCYDoUN4wzXCxkLbQrqCZsJCQlpCIkHQAb5BEcDTQF8//v8avoU+C/1jvIa8FftuupP6Afm2OMY4p/gK98s3kzdt9yE3EDcO9w/3IHcA9103Rzehd4c3xvg6uCl4SDiyuKd4zzkMuUH5g/nw+iE6tPsWu8r8pL1pfg2/Nb/4gJKBicJqQsPDp0PMhFSEt0SlhPPE94TGxR2FAoVYRXBFUoW0xbCF60YTRkeGvUakxt3HLEdPh6fHncfvh/VH9cfVh/QHtkdjxwlG2cZvRcCFlkUjhK3EGEPEQ43DVYMMQs5CwkLKwoICnEJUwhnB9sFFgRJAvP/s/1U+6/4TvaG87XwOu6N6xPpmeZ55NniE+G635veqd0k3Z7cT9wx3Gfcz9wK3XXdDt6c3inf4N+D4AXhteFi4vDiyuPh5N/lM+fM6JHq2uxu70/yh/XN+PT7Xf/RAusFGgm+C/YNMxCHEZISphMbFHcU/BQmFfoUaBUJFlsWHhe2FzUYDxm/GW4aVRtFHNEcXB0jHtkebh+9Hx8gCyCMHxQfGB7qHEMbZxnnFwMWIxSTEukQXQ80Dk0NRQxyCwMLgwrYCTIJkAilB4QGPgVvA1kBV//4/H/66fdG9fHyG/A87bPqJujj5a3jreEa4KLebd2G3Nvbjts+2/3aQNt728LbWdy53B3d1d2l3kbf6d++4GbhCeKz4lrjf+TA5TvnWelX683tzPCg8wj3bvrL/WYBdgRtB2QK4gy6DksQmBFeEvASWxO/EygUrRQOFXkVLhbJFoYXORjTGKUZdxo/GzIcAh2iHZYefB8MIIMgnSCiIH8gmh+2HsodQRy2GiwZShdQFa8TJRKaED4P9w0qDZ4M5gtYC+8KVgqpCdAIlwdMBrcEtwLXAKz+FfzD+TD3QPSN8b3u3+t46TvnxOS+4j3hw9+E3lLdlNw73OTbz9vJ29Lb79tq3C7dqt0w3hff999s4MfgSeEE4r/ieONY5HnlGufJ6LfqL+387x/zd/YA+m/9xwA+BFsHBgqSDIEO3A8nERUS+RKiE/4TpBT3FGkV+hU3Fu4WphdZGCEZzxmSGhAb4xvfHIcdjh6SHxMgeiDGIK8gWSC6H/Ee5R10HEkbsxl/F8UVLxSiEh0RmA+ZDs4NAA1ZDLsLCQttCsYJCAknCJEGBAWBA2oBL/+q/FH63PfG9OrxPe9v7LPp+OaK5MTiGOGU31feJt1w3PXbdNsX2zzbmNuO287bl9xR3dfdnt5W36bfO+DQ4DPh+uHY4s7jH+Wp5mjoYerc7KfvmPLL9Tr5xPwRAE0DPgbRCGQLgg0lD6MQwRF0EhYTshMNFH0UHRWdFREWkxYzF+MXexhBGR4a1BrcG+Icsh2sHnkfRiDHIPMgKCHTIFQgnh9+HlMdrRvqGRsY+RVfFMoSzBCZD6YOcA3SDEIMqQsoC0UKtAkBCcQHuAZYBX0DvQHj/3j97vp1+KP1uvL872HtzupQ6BbmWOSt4u/gst+E3ofdQ9313ETc5NtF3Ljc79x33Tbest5O3x/gfuAQ4a7h3+Fo4v7i0uML5V7mIehK6rHsQe9T8qT1qvgB/KP/ugKGBZQIJwv9DNkOPRALEdARVBL0EmITeRMGFGcUshR4FQsWgRY7FwEYrxh0GWkaaRtEHAod6x2PHggfeB+UH44fOh9wHlIdEBzHGjUZXheWFTEUdBJ4EDUP8w3pDE4MngsdC4wK1wlACYUIWQcqBukEUAPbAdT/PP3Q+iH4k/X38gDwXO3D6jDoyOV/47bhFuCm3sTd/Nwg3H7bXtug27Dbwttq3BfdsN1q3sTeRd/q31jgxuAp4d/hruJU42/kEeaq53vpz+tE7jfxf/TH9zD7mf79AdwEowd0CksM7g2RD5EQjBGAEjYT4xNJFNkUohXeFTgW5hZ3F2AYOBnEGZEaPBsFHBkd9R3gHqAfPCC6INMguiAfIGAfoB55HSEchBrkGCsXDhVhEwcShhB/D7wO6A1XDaMM0gsvC2kKdwlGCOsGsgUhBA4C8P/X/Yf76vgo9mzzhPCq7VLrwugz5lnkiOLZ4F/fKN5P3V/c5tuu21bbi9vT2wPcs9x53SDeut5H363f9d9M4MrgkOEF4q/i2OPj5Kbm2Oja6lntMvAZ82L2tvkU/Z0AnANJBtcIBgv1DG0OiA+4EJsRPBL7Ek8TrBOKFCUVkBVOFhoXkhdRGFoZABr0Ghwc3RzgHZ0e+x7PH0cgQyBNIAsgXR9pHl8dIRxyGsMYEBdaFasT7RG3EIAPVg61DeQMXAzjCxQLYQpjCW0IcgcFBmgEqALpAMX+O/zR+Rr3GPRM8azu8esl6djmvuSS4uXgd98u3vHc2tsw26nacNpX2mTaB9ub2/Lb29yC3dndmN7n3mLf5N8B4M/go+Fl4qDjSuVZ5z3pqOvj7uLxBvWX+AX8Zv93AhQFtAcECqALHg3BDhgQ2BB0EVUS8xJyExkUmBQyFcQVSRbuFmkXURhxGekZzRotHAAdEB4BH2UfGyBzIIIgUyCNH9Ueyh12HO8aShmZF7sVJBRMEuIQ9g+QDrgN+gw5DNgL0AroCWYJlAhxB+IFxAQ9A9UACP+3/Af6kfec9BryO+9K7GXq6udz5azjx+ER4KXejN1m3F3b/drR2tPaJ9tc28zbadyU3CvdxN3p3Vjeqt5G3/DfSOA04TXiH+Og5Ijms+hH6/Lt6/B19Nv3Ift7/o8BXwQMB2sJdwtkDfUO9w/kEO8RaBL8Eg4UgxT8FH8VyhWGFkEX3BeaGHsZeBp+G5Qcmh1RHgMf8h+RIN8gBSHuIIAgbR9pHkkdaxuoGQ4YaBbvFH0TMxJBESwQFg9/DqIN2Qw5DC0LmQqqCTMIZQcsBi4EaQJtANv9Rvu1+Ob11vIr8M7t9Opj6EHm9+ME4k3gw9603YPcbNva2ojaf9pR2p3aSdtr2/bbdty33EjdhN3r3Xre5N6I3zzgPeFn4pzjdeWR56/phuy47/rygfa4+dj8DAABA4wFsQfdCZwL/gxgDkgPKBAZEbsRWxIhE94TdRT3FF4VLBYMF8AX1Bh5GS8aSRstHD4dBR7EHrMf6B/vHxogrR8JHyIeiBwlG6sZ2BdDFmsU7BK+EVcQjg/JDqENDg2bDJsL/QqFCnUJRggDB9gFdgSnAtMAcP6k+/f4EvZG87Xw3u026+bog+Z55JzimODd3lPdGdwt243aONrz2VTapdqh2i3bxNs33J/c89wv3Wvd+N1k3r/ej9+I4Frhl+Jz5H3m0OiN66nuzfH+9IP4//sq/wkCnwTaBhMJCQuCDOsNKg9AED4R9xFfEggT/xNdFMsUvRUqFsIWsBdZGFoZIxryGhcc5RwdHhQfch8TIEYgVCAdIE4flR5WHaMbNhrMGO4WPRXnE1kSYxFiEPYOcQ6+DcMMZQy7C/IKRwpvCXkIVQfQBdID4QHw/4H95Pp8+LX1kvLU7yftmOpT6CrmMORR4qrgN9/n3cvcPdy02xfbetui26zbkNzD3Pfcl93S3Tfeft7V3kDfqN974CHh/uE346DkrOb26HrrSO6q8Sn1Ofix+9T+mQF1BKkG+gjACjMMLQ4HD/8PPxG/EaoSZhPPE1wU/RSjFSYW2xagF00YLxlXGj0b8xv1HOkdrx6MHzEgTyBMIP4fYR+lHmAdBhyOGt8YUhfLFWgUBRPgEeYQwQ/2Dm4Onw3sDHQMiQucCvQJ5AiaBzgGjgSdAlUA1v0z+234qvXw8iXwj+0f643oIeYU5DbiIOCC3lbd6Nsr29jagtp42o/aE9u02xHcXtzA3Djdid3X3THeV9663rTfV+Dp4JHiZuQf5lHo5+oD7hLx//NX96r6wP2jAFsDAgZBCAoKqQs/DboOpA93EHkRAxK3EmkTxBNqFPYUiRVTFgAXxBfGGOYZoxpvG6McdR04HiIftR/sH+4f7h9uH4ceah0DHLoaDxmYF10WtxSBEzES4hAcECQPYw7cDQMNTQy7C94KBQoSCb8HfAbJBL4CzgAy/rj7bPl89szzDPFI7gnsoekj58Dkj+K+4DLf3d2f3LbbI9vN2tfa09rb2iTbWdu+20vcotz23Erdmd313Tfeot5C3xzgMuFz4lvko+Yi6QbsFe9R8qP1/Pg+/Ez/5wFYBKkGjwh7CvALSA22DqUP0xCyEWISLBOKEz0UxhQ7FT0W5xaOF9AYpBlFGo0bkRxPHU4eSx/4H0wgiSA4IIEf3R7EHXwcLBuSGRAYwhaAFQsUwxKqEYUQtw8AD3kOsQ2jDDIMkAurCs4Jzwi9B0EGUATrAZ3/Zv29+gv4Y/Wd8srvYe0G61foKubl49nhT+Cb3q7d2NzZ23jbTdtz253bztsn3EDcc9zD3B7dSt1d3f/dUd6X3ovfHuAD4ZXi++M+5vDoaOt97obx1vQn+Pn6M/4CAX0D7QX6B+8JjwsQDUEOIA84EEoR1xFuEj0TpxOUFFQVqhW2Fl4XUBiIGRgaORt6HFkdZB6FH0cgnyDLII0gOCCNH04eZB0fHIwagBniF1wWihVLFBMTHhIeEVIQzQ9MD4AO1Q1GDX4MdQtYCkQJkgfDBegDVgEa/7H8x/k293T03fFL73/sTeoL6JTljuO/4UXgDN/33TTdktxC3GHccNyA3NHcJt2H3QHeQt5k3s3eQt+b3+bfOODt4Lvh4eKw5KfmAunY6xLvKvIC9Vf4WftX/lUBXwPLBU0IEwrDCzYNpA7uD+cQthFjEicTwxNeFDsVCxZ5FvIW/BfoGMQZqxqrG/AcwR2qHqAfNyDAIM0gyyCXILgf8B7fHWAcUBshGnMY6BaYFXcUXRMzEkURSBCRD08PcA60DVMNWAyKC4QKBwm/B90FnAOkAXP/Dv1q+pD3CPWS8uzvZu216gbo7uX/4wjiVeAP3xTeJd2T3FncNtxM3GPcddy63BfdZ92Y3d/dHt5L3r7eMd9339ffv+Ag4tTj7+U86NTqqO3R8Ojz4PYq+uL8nP9rAnkEmAbVCNcKOgyQDQoPzA+2ENERcRICE8cTfBTyFHIVHBb5FsMXmRitGcAayxvQHB0eHh+iH0cgnCClIHQg0B8kH0keBh3RG58aORm2F2gWJBW9E+ES+BHPEDYQpA/eDlYOxg0JDT8M7gqdCY0I4AbXBLgCmQBN/rH7Pvm19vDzTfG+7jHs5OmW5yPlRuOM4ezfA98A3ird4dyE3GHcgtyl3ODc69xE3dnd19333TPeJd5o3r/eK98a4Ezhs+Ke5PDmYOkd7FXvf/Jc9XD4W/sC/tkAJQNjBa0HUAkOC24Mnw0RD84PoBCPEfURrhJRE/QT1xRdFU4WCheoFxwZIRoJGzAcJx1EHvwebx/xHxkg8x+OH7QeiR2MHHYb/xmsGD0XuRW+FKQTcxKlEcoQQRCeD7UOfA7zDSANiQxmCzcK/wg9BysFMwP9AIP+fPwP+m73FfVk8uXvNO2C6mXoK+b74wDimODO363ep91J3Rrd8tzx3DXdkt3L3dbdzt3s3fndG95X3i7eW94l39rfoeAd4gHk6OV96EfrDO448Tz0Lfc4+hj9e//OATgEQQYmCMYJOguhDLkNrg6qD6MQXBHxEaYSKRPCE6sUYxUNFuYW3hfcGPYZahuOHC4d9B27HjkfcB9TH/UedR6eHX4cfRtSGs8YkxdxFgIV6xPeEpUR4BAzEJAPOA+hDhwOZQ2rDPQLvwp9CdIH9gVJBN8BX/8u/ZT6Q/ix9ZzyQfDQ7V7rL+nc5vzkLOOG4U3gMd9B3mfd/Nzz3KLcudwY3fzcPt193Zrdtd153cDdC94X3njeHN9H4KPhNON65ePnaepD7R7wYvN19hX5OvzX/hUB6AMBBskHpgn4Cp4MHw4oDzUQuxB1EXMS4RKGEzgUpRSnFY8WJRcwGEMZTBpVG3YcYh0OHtoeQB+AHzAfmx5JHlMdOxw8GyEa6BiyF4IW8RTNE9MSohH8ECAQVw8UD4wODA5vDZAM0QubCjUJFghABj4EwAJvALX9hvsE+Ur2rvMV8aPuD+zC6Y3nNeVy49nheeCG347e4N1j3SLdCd3h3CHdVd1T3Yvdpt2u3Z/dgt2c3cHdSN7y3sXfP+Ha4tjkF+dx6V/sJ+/+8SL16ffZ+uH9TACIAtEEyAaVCB4KeAsKDS4O4w7eD8oQbBEyEugSWRMZFN0UihWeFrQXkhiQGd8aGRz/HK4dXR7zHgkfCB+8Hg0emR2pHHgbsxpUGccXzBaRFUsUKhM1EogR4hBnEKgPKQ8bD30OsA0QDTYMwgptCQ4IEwYzBAECsv9q/df6V/jX9U3znPAi7sbrbely54jlrOPu4bLgBeAf323eYt4l3gDefd5w3kTelN4p3rXd8N0G3vndDt6W3mffDuBa4RLjjeSx5kjp9+v87sfxn/R19xf6+fx9/74B6gPgBd0Hnwk/C3MMkg3sDsgPhBBjEQ4SZhIgExMUiBRvFZkWgRe3GNQZ9RpDHCcdBB7eHkkfah9mH1Qf3B76HT0djBx1G/4ZphhqFwcWDBUiFA0TRRKBERoR6RBzEPUPTA/XDg4O3QzoC1EK2Qg3BxYFYAPTAFH+H/yB+UT3bfSs8X7vquxa6l3oH+av5ErjuOG14OHfH9+Z3kTeG95V3nveZt6B3mXeVd5H3uXdzd3a3dLdTN6A37zgH+Ie5AfmR+gD65TtjPB58zb2Nfm6+0H+/AD2AvcEDgeTCEkKxgvqDOoNnQ6NDycQzRCrEQkSoBJTEzEUHRXpFS4XTBhgGZcanhumHFodvx0lHjMe4R26HU0diByEG0gakRl4GAMXEhbEFJYTxxK+EVYRBRE8EL0Pcw8aD5UO8w3uDNoL3wpKCbMH/QULBO4Bdf9E/bb6N/je9QrzxfBC7r7r+unK5/blmeTS4qDh5+At4MTfWt8t30LfVd9f3yvf+N7l3p/eld6v3mbet9593/7fD+Gn4ibkH+aX6Bjr1u2c8IzzR/bl+Mb7M/7eAGYDOwUTB7cIRAqNC9sMKg7kDr8PkhAhEdQRcxIlE/MTlRQ1FUQWghdjGIUZ8Rr+G9gcrR1dHoQehx6xHh4efR0MHdMb1xoRGsoYnhdwFmYVXRQQE4MSBxIDEcQQlBDtD24P0g4+DmUNSAw/C8sJRgi4Bs4E0QK0AH7+LfyN+eH2fvTT8X/vZe276vHoMudG5S7kx+KQ4fPgmeBj4CHgGOD43+rf+N/X343fMd8C37DepN7j3i7f/N/Z4Anit+OD5bPnNerU7FPv2fHv9OH3Svre/H//zAGjA30FjAcPCW0KwgvkDP8Nsw5pDwMQhRBJEfER8xLVE44UkBVJFnsX2BilGcYa8xumHCMdiB3KHbEdrh1qHX8cAxwoG9AZ4RiVF2wWVBUBFBkTXhLMEUwRoRA1EAkQkQ/pDkUOng3tDMwLdAorCYoHywXvA9UBkP/1/KP6Wfin9WvzP/Gp7mnsUuo16IbmCuXA48Di3uFx4Srh1+Dd4MHgnuBs4BXg9N9F3+He99503ofezd5G37zg1uEo42flb+eS6STs0+7O8V/00/bo+W/8xf5ZAVQDTAVqBzQJtArjCwMNDw76DvsPjhDgEKcRLxK9ErATXxRaFZsWlxd+GMAZGBvzG7ocWh2jHfcdBB6zHWId4RwcHCAb+RnYGKwXoRaRFVcUTBN7EhASmhHKEIgQkxDlDz0P7w4sDkANaQxUC9EJGwiOBs4EmwJqAFH+7ftg+er2WfTg8Z7vN+3w6irpl+fz5V/kRONv4q7hiOFh4ejg0eCa4HTgUuCc33LfTN+Y3pTetN7X3qPfbOBr4e/ileSh5vfod+sQ7qjwcPP/9Zn4PfuC/fT/FwICBDQG6AdiCf4KQQwwDTYOCQ+PDy4QqhB2ETISkhLCEwQV9RUaFxcYLRldGlobQBziHD4dnR3LHZYdNh2+HBccSRtbGj8ZHhjlFpsVoBSSE8ASRRJiEf4QxRANENsPew/xDn0Ogw2JDJgLkgoHCRYHdQVsA0oBDP9R/D366/c79QzzhPAz7jTs/ukV6KLmbuUq5DfjiOLp4Ynhc+Fp4RPh6uDJ4E3gEODH3xbfIN9U3xbfid9M4DTh0eJ35CnmSuhK6tLstO8x8tL0Y/cE+o/8Bf9sAUYDSAUiB4gICQpoC68Mng1TDkUP6A+MEGIR3hG3Eq4TUBSCFZwWYRdyGFQZZRpLG6wbPxywHBsdMR2iHCUcYRtcGl8ZQhhBFycWIxU5FAsTVxLHEekQbRAuEMAPUQ/+Dn4O3w0XDSMMHgu3CV4I7QYJBVgDMgHh/uP8LvrM96v15PK28H/u8+sH6g/oauZI5QjkSeO/4iLi1+Fm4Qbh+OC24FzgFeCw3xHfX94w3jPeHd6X3jvfJuCT4c/icOSc5uLofesb7oHwL/ME9oT4CfuU/ez/6AGqA6gFOAewCFcKSwtADEwN+Q18DiEP3g9YEDoRMhLOEhMUTRUsFpgXrxh6GX0aLxvTG0UckxyXHBocxRscG04anxleGB8XCxbgFP4TJRNjEtYRZBEKEYcQcBAjEG0PYA+rDqYNJg0xDC0L0QlICNYGqwSxAr4Adf5T/JT5Ivcp9ZryPPAR7rrroOkj6LrmMOU95H7j0+Kg4l7iHuIM4rfhROHl4G3gyd9R3+Xeht663hjfYd/N3xbhy+Ij5DzmdOiU6jHta+8Y8gb1QPep+Uj8o/6kAJMCjARZBvcHPAl2CoALLAwjDbYNEQ4HD6cPVxBbERAS+xImFEEVahaNF4EYhxlGGrcacRukG5EbmhsWG4ca9RkPGQQY8hYHFhIV8hP/EigSfRHzEGAQAhCQDzEPCA/FDlUOtw0NDQwM6gq6CTUIygbxBN0CDgHl/tL8wPpb+OL1jfOK8Q7vpOz26kjprudv5nXlueR85PrjROMK42niUOJZ4kDhzeB/4LbfeN9K303fdt/K37Pge+G54n3kHuZJ6LrqJ+2Q7yfy4fQk98X5ZfxG/mYAhAJ2BFYGkwfiCEAKOQs6DM8MLQ3dDXgOLA/JD2kQdBFmElYTfRTFFdoWsxelGHUZRBrIGvEaXxuFG/YaKxp8GbwYrReUFpYVpBSrE6oS2BErEWgQtw90DzIPsg5qDhUOig0dDXQMpgvnCrsJcQj2BmsF1AOSAZj/kP0C+8/4i/Yb9NLxhu917dLr5ekM6PXm4eU05cbkEeT649PjVuNk4+jiUeIT4izh2OCZ4ALgDeDf3yTg8eC94SHjlOQj5jjoe+rD7DPvxvE/9Kj2F/lx+7H94f/5AdEDoAVfB6YI8AkjC9MLxgzcDV4O9g7fD0sQABFCEhsTKhRoFTIWFxc7GEsZHBqkGiwbiRuHG7Ebihu6GhEaVRlcGF8XDhbeFAkULBNqEpMR8RCjEN4PWg9LD/IOrw4zDpENEA0oDDsLYQooCX4H2AV5BG0CWgCF/gv8+/nv94n1YPPa8J3uvezb6k7pB+gP5/zlR+U05YvkB+T342bj8+Ke4vLhQ+HZ4Fvgzt/P3/bfKuDT4KXhk+Ln48blwuef6dLrRe7F8EzzyvUe+Hn62vwC/0cBAgOBBHYG/Ac9CUAKHws0DOgMew0wDs0OeA8QEPUQLxI0E0IUCxUTFmIX/hfWGKUZExqpGtMa1xqqGiMaoBm8GKIXbhY2FUUURhNQEmERwxBQEMYPaw/xDqIOTQ74DdANZw3qDDcMhQugCkIJ6AdFBmsEsALoANH+tPyp+kf4DPbL8xzx2u7/7P3qdOlL6APnF+Zw5erkT+Ta48vjNePD4nPii+Ek4cfgCuCm35Hfst/D3+TfluCg4cviT+QU5gvoFepx7BnvSfG782P2hfjn+kX9XP9wAT8DAwWYBsAHygioCXMKOwvYC30MKw3BDaEOuw94EEYRbhKRE54UkRWUFnYXVBgOGTwZrBn9GYcZKBm8GM4X5hYgFkQVRRQeE10SsBHCECEQsA93D+IOZA5sDvoNwA1LDYwMKgxPC4gKgwkUCM8GGwV0A+cB6f+1/br7svks99L0lvJ/8KXumuzn6nnpX+h+56HmbeYI5kzl9uSn5EDknOMg48Hi/+F64Rrhq+Bx4Hvg2uA/4f/hXOO35DDmTehp6m7sre768K7zGvY7+K/6C/0k//EA2gKbBOoFUgevCMkJXgrICmkLJAz0DHENbQ6TD/8PEhFiEi0TPhR5FXMWLhcHGM0YPRmzGfYZqxkFGbQYIhjyFmAWjBUxFHYTlBKDEcMQYBAGEFoPAw+6DngOaA4SDtENQA17DAUMHAvoCa4IIge/BUYEkQLdAJf+h/x8+uP3qPVl81PxXu8/7bLrQ+oQ6Unog+fy5oHmQ+bL5Q7lruQZ5GLj7OJQ4rXhX+H44IrgyOA84ZXhaOJo473kkOYw6O/pP+ya7ubwXfPD9QT4SvqJ/NT+GQEFA6wEJgaxB98Ingm1CoYLFwzTDGUNFw7xDskPaxBREX0SUhN/FKUVVBZAFyAYvhhtGd8Z2xmrGW0ZHhllGIAXmxaFFawUmBOnEhgSIhFiEKcP/A4ND6kOTw53DsoNQw0eDZYM1Qu+Cu0J9wh7ByoGvQT8AlYBl/+A/Wz7IvkM98H0TPKi8KPu9Ozw64rqoekV6Vro3udH56rmWObX5VLl5uRN5JLj/eKd4gfi0eHp4e3hRuLc4u7jF+V25kjoCeoD7DHuavBt8rz0T/dW+a77Kf4KAPUBvwM2BYEGrgfXCIgJMQo3C+wLjwxuDTsOAg/eD6UQjRHcEtQTmRTmFd8WkxeMGB4Zahm9GfEZqxkRGVcYURezFuQVnBScE5ISsBH+ED8Qow8hD5kOWw4oDrsNkg1CDdUMdQyfC80KBwrtCKwHWwYPBcUDAwLd/wf+9PuM+W/3LfUJ8xnxE+977QDsverY6d7oXuj6513nA+du5trlb+XQ5C3kfuPv4m3i/+Hj4a3hjOHN4YPiq+OJ5JflcudT6RrrHe1C73jxBPRc9mn4sfrT/PL+8wDjAnYEuwUBB+oHUAkTCkgKPQvSC7IMmA0IDgwP7g/IEPUR4BLgE/0U/xX9FqQXLxirGLIYsxifGB0YYxfPFiQWEhUsFC0TJRJwEY8Q2w8kD6AOnw4oDr4NrQ0sDeMM0gz5C0ML+gocCkMJEwibBqUFQASgAvEA5f7g/NT6hPg69g302PEZ8Eruo+zC65PquulS6Z/oRejp52/nEud25ujlgOXS5CrkqeMK46Xie+KD4sziSOMG5PDkH+bI567pN+tE7ZrvY/HV80X2bfgI++f81P5QAeUCfgRGBi4HIAhQCRUKzQqQCzwMCQ2xDXcOVg/rDwEROxITEysURxUvFgUXyBerGAIZAxl1GTsZtxh9GKgXmha4FeMU5xPDEu8RKBEnEJkPYA/1DmoODQ4uDgcOnA1jDdMMQAydC64K9AkACcUHrwY+BaUDKgJoAGv+G/zS+fH31/VJ81rx9u9E7vrs9esT64PqzOkv6aLoMOia5/rmjuaz5RjlqeS841fjJeOm4rTivuIN4+7jt+Qm5mDniujR6tjsru7T8AzzU/WJ9xL6X/xT/lgALALPAzgFZAacB+YIlAlJCj4LpAtiDD4NvQ2RDmQPMBAmEUQSVRMXFCcVGxadFmIX4xc9GLkYgRg2GMYX1xYjFiwVQxR5E2QShhGpEPcPXw+vDlIOEA6qDXcNXw0KDd0MgwywCwALcAq7CaoIeweABnQFDwQ/Aj4AXf5U/Az69Pff9brzxvEU8JLuSe1e7I/r1Oob6qjpW+mf6Dro0ecl56zm1eUr5c7kHeRq4yPjFOP14mzjGOSr5NflIee36Gfq4+sk7nHwbPKl9AL3N/kx+4z9fP8HAfcCeQTMBe4GyQflCLoJWQoIC2AL/QsHDbUNSg4SDxMQDhH9ETgTFBT9FAsWlBZTF7YXqxfYF3IX0RZOFnwVqhS8E7MS6RHlEM8PTw+vDt0NkA1fDToNEw2ODGAMKwx6CyILhQrPCUEJOAhvB24G5gSoAzkCeACf/mb8Rvps+Gv2ifTG8v3wl+9H7s/sAux/653qG+rN6TrpxuhN6MjnUOd85qXlKeWM5O7jz+O/46bj+eMx5LXk3uX95qPoROqq66rtle958ajzI/aH+Lj65/yq/qIAcAK/A1sFjQZyB2gIGgm9CWUKEAtxCw0M6QyjDasOjQ+tELkRURKFE3AUNhU+FqEWBxdRFyUX/xbAFkoWaRWDFKMTehLBEeYQxQ86D6QOKQ70DXgNCw3RDKEMQwy+C0YLyApzCukJ7AgVCEYHfQZ/BdADTALKAMr+Df1C+xD52vbm9BrzMfHf78DuZO2q7BLsK+u86o/q2elU6QnpbugR6LPn3uYz5t/lNOWK5FvkVuSs5D/lwOWQ5rbnB+mf6lvsO+4b8OnxHvRo9qr45frM/On+1gBlAkMEwwW/BgMIFQm0CX4KOAvpC7MMTA0BDs4Oqw+bEJoRvxJxE1wU0BWMFiMX1xciGI8Yvxg9GAgY3hfOFugVCRUQFG0TSRJyEZsQpQ91D94ORw4BDsgNzA12DScNwAxCDL8LEAuuChAKDQnIB5cGkgXtA00CxgDb/uj8t/p8+JD2zfT+8lXxIfDi7tHtNe1u7L7rOuud6h7qo+kn6avoDehn58DmGuZ/5R3lE+W85GXk2+Rt5RnmQOeD6MPpV+sz7eXu2PAq82v1sffD+eX7Kf7r/58BPgOjBBgGQQcsCPcIxQmeCg0LjgtSDPkM2w29DqMPexA3EWUSUBMiFEQVIBbIFk8XvBfCF4sXWBezFh4WmxWWFG8ToBL4ERIRLRB0D/IOXA7JDYwNJA3oDH8MCwwrDJUL+ArACu8JUgmxCLIHpgaWBWEEogL3ACz/4Pzw+iP5Ifc99Yvz6vFR8BHvEu5F7Zzs0OtN6wnru+pH6pfp9ehL6Knn/uY05qjlM+Xm5MfkueQU5ZblGeYI51noqekT6wHt3O6b8BnzafU794r5rvuk/bb/UwHnAkgEggXIBoIHUwgrCYsJWAocC4QLdwwuDQMOLA+1D8IQyBF5EswTwhRKFQcW0RYaFxoXJBfUFo0W9RX3FIIUnhN6Es0R2xAFEDkPsg5LDm4NMQ0gDa0McAwEDJcLcgsaC20K7wmACbkI8gfZBowFaQTEAkEBsv+U/fj7FPrA9wn2XfST8j7xQ/A172fuse3w7KLs+utJ6/zqXer26WjpiugI6DrnkuZv5ublmeW95bvlOebq5rfnwui46VDrtewD7k/wSPIj9Hb2jPjG+vH8jv52AFYCkQMJBVEGDwcPCOgIZgkhCs0KLQveC/cMfA3uDTAPDxC8ENcR1BL2E7QUBRXLFV8WbBZYFj0W/RVkFa4U8xMeExgS+hA7EIoPtg4xDqANBg20DDgMuAtgCw8LvwpVCtcJTQn4CHYIwAcuBxkGMwVGBGICwAA4/0n9T/t2+eb3wfUJ9MXy8/Dh79zux+1y7ejsXOwP7I3rQOvA6trpdOnJ6Prni+cD55Xm8OWT5c3lAuZQ5qnmcefF6MHpzupM7O/tF/Aj8vrzYfaC+I36vfyb/qAASwKoAxUFQgZmB3gIbwklCqYKGwuaC2IM8QyuDdcOfQ9aEIARLRIXEwEUqxRzFd8VOxa8Fq8WbBZrFu0VIxVzFHMTqRIJEhQRERBXD94OJQ6RDSoNiQwMDNULmgskC8cKXgrQCXYJRQnrCAQIMAdrBg8FuwNSAnkAwf7R/ND6Mvky93r1F/RT8ivxOfA875ru8e2T7RLtY+w77M7rLOur6rvpFems6Oznh+ce56nm2OYP5/3mdedr6Arp5Okb64nsXe7177PxvfPE9bL3mfmu+5z9if9EAbgCVQSuBcsG4AeQCEkJGQqaCiAL2wugDBMNmA2BDmQPSRAnEScSLxPfE4sUYhX1FToWmhZuFu8VxBUrFVYUthPSEq8RFBFBEC8Puw4KDpgN/AwODCoM3gtGC0cLtwpyClIKugmBCcwIKgi7B3sGbwUuBIECGQFe/2D9fvup+cL38PVJ9KvyT/FH8ITvbu6T7TftmOw/7NbrQuu56v3pe+n46CjogedJ593mceZ45k3maebF5gPny+fR6O3pOOus7IHuQvAS8jD0IvY0+Fn6TPxf/kMAwwEfA3kEqgXjBucHVQggCf8JYQoZC+kLdAwxDQMO1w7SD9UQ6xHPEo0TZhQeFagVBRZyFnUW9RXgFUIVIRSlE+AS/hGKEZkQkA/pDikOcA32DIAM+gu1CzkLYApuCocK0QlmCe8IXggCCF0HRAYRBQQEqgI4AYz/rP0g/Cj6TvjK9gz1lfP48cXwJfAq76/uJO5N7S3tr+wN7NDrOOt26r7pKem06Fro2Oc95znnbOeP58LnGej36PHp3OpK7MDtO+8s8d/ysvQb90b5Kfsn/RH/tAB3Ag0ENwViBlMHMwgTCbsJSwrdCmsL/wu1DEwNEw4ED9kP5BDEEaISzhOAFAcVzBUVFkUWmRZqFusVghXSFNMTDxM3EkARmxDWD/cOUg6qDQANgww7DNoLXwsOC48KEQoKCtgJRQn7CGcIaQfcBuAFcQRFA9cBIQBp/sL85PoA+WD30/Vi9Pnyv/Hg8A/wOe+h7jfu+O2L7bzsP+zg623rBeso6orpTemM6D/oaOgc6ELobOid6I3pKeoK64js1u137z/xBPMR9RX3BvnZ+sH83/5vAPwBKwR8BVQGvAe0CG8JLArlCoYL0QutDJoN+Q26DtgPsBBTETISRRP/E6cUoBUWFhkWdRaUFjYWDxb3FRwVIhSvE8wSwBH/EC4Qmw/iDh4Omw39DHYM3gtmCwoLlApOCucJeAkaCdsIdgi2BykHQwbqBIwDGQKBALb+MP2v+6z5wfdI9rP0PvNr8mHxZfAA8FPv5u6f7s7tTu3g7Cvs0euW66zqsOlP6ffos+iC6DXoBugS6H7oAemS6Xzqe+vv7H7urO+q8X3z+PRG9zf5Svtb/c/+xABhApoDKQVHBkcHZggACacJowoTC4YLawz2DK0NmQ6ID5gQaBFnEisT2hPQFCIVkxUiFkcWFRZ9FWUVvxTOE7ATuRLZEUkRJRCYD+EOAg7fDTENJAzhC5wLBAudClUKHQrVCa0JOgm3CJUIrgejBsQFWwQAA50BJQBm/m380foq+Zz3IPaJ9G/zUvJI8e3wYfDZ77DvDO9I7vPtlO3M7Bns5ut966TqGOqn6S7pHekH6QDpYenB6S3qI+su7DHtsu4y8PTx5POi9cD3wPl7+4b9ZP/YAHkC9QNGBYUGWgdfCFoJ5AlYCuIKhgv9C6MMlg1VDgAP/Q/cEDwRFRIQE4cTYRQCFSUVfxVmFVEVQhV0FP0TWxNIEp8R5RAjED8Phg4PDmwN8wwEDD4LVgveChoK2wm1CYoJNwnjCH4IsgcbB3UGSQU3BPUCTwHc/2/+yvwp+3P5nfcE9rr0V/Pw8Urx6vAN8GzvIe+m7gDufu0A7YDsGuxb68fqV+rJ6ZnpUOke6dHorehC6XHp2emY6oLrBO0L7nLvOvGr8tr09vbD+ND6ofxo/icABgKaA80EMgY5ByQIDAmpCVsK4wpnCx8MwAxbDRcO1g6FD1EQQBFEEggTjhN6FEYVoxXtFdQVthV8FREVkhSLE7oS2xHCEBIQKA87DqsN8AwBDEwLAwuPCuMJkQlgCQoJpAh8CCYIjwdkB+4GGAYxBQoEDwPEAfv/jf7t/PL6bfmS98/11vRT887x+fBI8Invz+5/7gHugO0+7XzsE+zd6yzry+pk6u7puOkz6ffoEOnA6LvoT+m86TPqMetd7Jjt2e5Z8C7y+fP09eH3pvmW+4v9Yv/nAHIC8gMrBXkGewdMCEcJEwq4CmELAAypDHANDQ6ZDkcPLBAiEbMRlBKLEwsUzxRNFYwVxhWIFTsVzxRtFLkTsBL4ERERNhBID3kO5A3JDEQM9gsdC6sKOgqvCWQJEQm7CGgIHQixBywHuQbbBQIFSwQsAywCzQAg/5f9x/sr+lf4h/Yz9abzgPKA8YbwDPBG76fuS+6c7Rntguz5653r7upJ6qHpKOn26G3oBegT6P7nx+cV6Hbo6+jt6bXq2utU7XDuK/Ah8s3zq/XK9/P58Pu//XX/KgGuAv0DKgUsBhMHvwd5CD8J5gm9ClELpgt0DCMN1w3fDpcPTxAgEQkS0xIqE5IT/xMVFPcT8ROjE/QSUhLFETQRkBDnDwsPEw5GDXQMxQsvC1wKvQlICeUIxQhaCOcHwAdvBz8H/wZcBtgFKwVaBGID9QHFAFT/X/2/+wX6UPjh9mX1E/Sp8l/xm/Dx71jvoO7d7X/tGu1m7MTrbust64zq7enP6T3phOho6AvoCug46EXoCelJ6cPp+eqx68vsW+4s8OvxjPO99dH3yfnK+3z9Q/8YAXQCrwMXBToGXwc3CNQIwwluCgsLvQtQDMYMjQ2EDhsPIxAdEXkRZBJ3EwsUohS+FL8URRUTFaIUcRSwE9MS6xEaEZsQmA+fDhAOHA0vDGQLwQpHCnoJCAnRCEcIBwjSB3IHJQfSBnkGAQZ6Bb0EmAN9AkYBuP86/pf87vpx+dH3avYS9dHz7PIj8njxqfAh8LvvDe+m7hLuQe3O7HzsJezZ62Pr+uqp6gnqxOnT6Y/pvOkj6o3qO+sc7FDtNO6p74jx8PLl9M/2xvgb+8n8nP63ACQCowMcBVkGpAeiCLAJewoSC/cLtAwpDXwNRA4XD18PGRA7Ef4RtRKAE/ATnBRNFVQVtBX9FZIVNhWxFDEUdxOzEjcSCRE2EMEPmA6vDdUM7gtsC6AK8QmfCSsJywhfCPgHzgewB0wH2AafBg8GTgWPBGsDDQKpAAL/IP2F+/v5j/gf94b1dvRa8yjyUvGK8Anwau/Z7pTu3u1j7S3tnuws7KDrBuuv6jjqs+l76V/pIelD6Y/pwOlf6vzq7Osn7TLu1u908QTzCvXE9nP4kPqP/Ar+zv91AaoCWQSOBVgGegcqCO4I9wmlCo0LgwwTDcgNtg6fD/QPhxDJEVwSXBONFLQUBBU4FSAVMxUnFRIVqBQDFHQThxLMETQR6w/tDjsOeA3rDDUMrgt0CyALmgoXCsIJfQkTCXAI9Qd4B98G8gXmBEUEGwPmAf8ArP9X/t38Evs8+Rf4BfeC9av0zPMo86fyY/HF8ELwNe917pvt8Oxe7GHr1upj6tDphunx6JTokOg+6FboAOln6aLpR+o56yXsTu3I7kfwq/Ez8xb1qPYi+BH6//v3/cf/VQH1AlcEMgXdBSwHhQgzCRsK5wqIC3gMJQ3LDXMO4A6aD10QxBAmEZERJxIeEwwUSxRcFGEUoxMzE0ATlxLoEVgRchAZENwPQw/SDv8NGw2jDAYMSQvdCl0KxwnzCc8JEQn9CLEI7AdhB3AGigW4BBQDkgFaACf/5/1a/Fz7G/oj+Pn2+/WC9J7z4/LN8cHw4u+H75HuSe0m7b/sGOzI6+Tq7+lz6fnofeh06DDolefF5x7oZOhM6b/pSuqc60DsNO3s7nrwHfJ580r1hvch+RH76PxP/mkAYgKvA6oExQX/BsAHwAi8CV0KUgvrC4AMwA3nDssPyhDKEWIS1xIpE0gTYRMfEygTPxNVE9QTeRNpEzUU2BP2Eu4SlRJ6ESIRjhBkDw8Pgg4JDs0N7gyxDI8MsAsvC90KhgoUCicJQwhqB8oGGAanBHIDmwIeARf/g/15/C37d/nO9272afVl9Nry+fGc8ZDwH/Dq7znvaO4n7R7sb+v56jrqx+gx6GroR+gw6EPoKejv5+znG+jN6OnpWur/6vvruOxV7rLvnvC98rr0Dvbb97v5LftA/Lb9p//sAGsCPQQnBUMGoAeUCHYJlwodDDYN8Q2tDl4PWBArEasRShJtE6gU/hQuFaoV4BXmFYcVMBUJFZ0UZxQxFOQTehN5EgMSJRLrEcsRoxFEEeUQURCsD0sP4g5IDr0NJA2eDA0MDgvHCXcINAfVBQ8EJQLKAHb/rv2Y/OH7ovqM+Yb4aPd99nv1SvT+8kjyF/Jf8VrwhO/B7sDtlezl61TrPepb6evoN+ia51nnGOf25ujm3+YO56/nTej56NXpleqd64jspe337uDv/fAT8l7zufSs9Qr3ffjJ+Tv7yPyg/vr/BwGjAh8EtwVmB7IIIwqgC2QNjA7xDh4Q4hBAET0S4xJhEwsUgBShFPUUNRXWFCcVTBWeFHIUBRSQE38TCxNzEjsSchJSEuURlxFfESARdBD1D44PeQ6PDRQNJQwcC1UKTQkVCIcGvwQgA1gBAwBD/xf+w/zs+0f7e/rP+QL59Pca9zr2QfVN9HnzBvNn8orxEfE18MzuzO2V7DvrSepg6R3pGems6EXo8ef35xHoJeii6BTpoOl/6g/rk+uJ7GLtCe627kPvPfBA8cPx1PIH9BT12/Zk+Jb5O/uv/Gv+ZACSAfQCxgQZBmkHHgl/CosLxQy6DXsOUQ8eEOIQexHkEUESgRKNEqoStxK4EoUSAxKvETER8xDYEJYQjxA7EGEQehD1D+YPmQ8qD6kO4Q1wDbYMsQvuCkQKoQkBCR0IAAfuBQEFBgSuAqYBqQCw/3L/7f5I/gT+vf3t/LH7G/tV+lP5m/i49yj3dvaJ9c70+fMG86DxT/CT74fuou027YHs5Oum63Xr/ur+6oDrhuvQ62nsvuz47GntWe7D7vbuxu848MPwnvE08izzWPRz9Z32tvdY+SH7h/zk/UD/xQAZAncD7AQhBsQHBQnSCfQK1QuZDGIN1g13DlsPvA8BEG0QnRC7EA8RvBGHERoRpBFREegQJRHdEL0QkxA9EBAQ6g/HD0IPsg4ODj8NTQw3C7UKJwotCVcI1AeMB7wGygUKBSwEeQNtAocBJQGVAPv/cP8j/7b+9f1d/aP8xfsK+2n6uvnw+J74LvgR91P2Z/VN9MXz1PLH8U7xtfAm8Jnv+e7p7rLuX+6K7nrucO6j7s7u8u7q7iDvm+/M7wfwwfCm8R7ymfKW8270I/UZ9r33a/lP+sP7Kf33/Vr/sQAcAloDKASPBdEGmAeRCJEJQgrLCkALxwuiDB4NaA0JDowOzQ4CD0wPYQ9yD34PKA/TDpEOcw4sDoINOQ0VDd8M7QxsDKsLOwuECskJFAmgCKMIQwj0B80HDwdsBiwGpgXSBDYEmAPbAl8C9gGKAScB4QCrADQApP9Z/83+5P0x/YD85vs7+736efpm+av4Tfg/95329vX+9GX0jfO78nvyIvKk8VnxpfAR8GrwXPDZ7yfwf/Ba8KzwN/Fc8bzxlPLy8ivz3vNl9EP1V/Yr93/4d/k9+oX7bvyD/c3+4v//AOsBMgNhBDUFKAaHBhEH0wc8CAYJkgnhCXIK3wpvCwoMjQwDDToNew3EDbUNTQ38DLIMTgwaDNALcgslC88KoApGCq8JWgn1CIIIgAhuCBIIvwecB5kHUQcYB+0GMwaQBfwENwQMBNgDhQOOA+gCVAJdAt0BRQG8ABkAtf9u/wX/X/7k/ZX9GP2b/Cj8cfu++lL6bPlH+KD34/Yn9m71i/Tq81rzAPPL8o/yR/Ig8kryRvJ98vjyUfPB8w70GfR19Dz1zPWL9ln34Pe2+FT5+/nv+sP7tfyV/WP+Ff/j/78AfgFdAuMCUwP9A6gELQWEBfMFaQYCB5YHGQjBCDYJtQnnCdUJUQpECuEJ0wk5CQoJKgnCCKUIeggkCPkHlwccB/cGxgZHBj8GDAacBegFLAY2BiwGDgbuBXUFSwUpBW8EAgTRA4gDUQPeAn0CWgIUApoBLwEFAawAUQAWANX/2v+k/13/Df9D/tb9S/06/Iv7CPtg+qz56PgF+Eb34vZU9tb1tfV49Qb1m/Sb9Mf08vRR9Wz1dPWY9bX1J/aF9v32nvfA9w/4t/g0+aj5LfrF+nf7Fvy0/JL9c/5W/+z/XwBUAQACbgIYA74DawTkBJsFQgZxBjgH0QcECHsIfwjBCA8JtQjACM8IcAhMCEAIHAjiB80Hvgd4B4gHhQdEBywH4QauBrYGvQatBsQGDQfvBrAG3Qb1BogGbgZnBsEFdAV5BUYF7QScBJcEnwR7BEwEPQQyBO8DpQN9AyIDzwLbAoQCDQKgAa0AJgCl/8v+Nv48/Wr8F/xx+5r68vlz+dj4Rvjg96n3efcU9xr3Kvfh9tP23vb+9gv3BvcN9wj3dffD98n3YPjM+Pz4b/nN+T76hPrL+nH7FPy7/F39D/6f/jD/FwCNAOMAegHjAX8CEgM2A38D/wNDBKAEGgVNBXEFZwU/BVMFUgVGBVUFTgVIBR4F9wQWBQcF7ATgBKUElgSfBIwEYgQ5BHsEwQTLBOoE2QTABLUEhARMBFQEWwQIBBoEPQQVBDgEQAReBGQECwRHBE4EvAOGA1MDNAMDA4oCWALZATUB1gAjAFf/yv5O/pX9A/2q/N77cPth+8X6aPpG+sP5bPlH+SH57vig+Jr4xvjS+MT44Pgh+Q/5/PhB+UX5Lvmz+Qj6/vma+sz65vrx+3H8tfxn/Sv+yP4P/5z/4v/v/4YAHwF3AbAB8AErAnIC4wJAA1QDYwPLAxcEEAQNBC4ENQT6A+wDFwQTBA8EQQQeBOQD7APFA8kD3wOsA8AD9wMSBEgENgQeBDEEIQQ0BAkEBARNBEAEOQRNBJ4EmwRoBLsErwSOBIwETwQyBPEDrAN/A5cDtAMPA6oClwLeAToB0gBDAOr/ef/R/ib+hf0P/WH84PuP+wz72fpk+vX5AvrS+Z/5S/n4+NH4ofi++Lz4e/hl+J34y/jf+Or42vhP+a/5zPlk+tr6Hvtg+5v7P/zU/Mf8Mf0X/nD+5P5I/4f/9v8kALUATAFuAbgBAgKJAgQDKgOgA8kDwgMjBFUEiQSJBHgE2wTtBAAF6gSmBP0E+QSzBMUE6wS+BG4EowTJBMoE7QQeBSgFEQViBXIFOwVjBYYFZwVXBXoFTgUlBSMF3QTIBH8EMQQxBA8EDwTOA1sDJQMUA9oCSQIfAs0B+wCXAB4Aiv/x/v79V/3i/D38sftE+6r68fmB+Sb5m/g1+A/46/e498D3v/eS97b3j/dd98X36ff291j4o/jK+Pj4QPl++Zz5wvkc+oz66fpj+/L7Tvy//CP9YP3N/QT+fP4e/5P/XgDLAD4B0AE2AvQCOANuA9gD9wNoBJwEwgREBUYFWQXqBfgF3AUfBhMGGAY/BhMGCgZPBpwGvQbpBkQHlweYB5MH2Af5B/wHyAeTB44HaAdqBzwHDQdBBxoH8Qa0BlcGeAYQBpoFnwX+BJ4EZAT1A8ADFQOnAloClgHWAEMA0P9C/3b+lP0I/VH8SPuu+kT6q/kC+Vb4xfdA9xH3L/e79ij2BPb39eT1qfW/9RP2NPZa9lD2WvZ+9oD2q/al9v/2bfdC98v3Rfhv+AL5Nfmn+Tb6mPpU+7D7Ivz7/Dr9q/1v/u7+xv8wALQArQHtAW8CwgLGAqoD0QN+AxoEZwR4BLwE8wRkBWQFdwXTBd8FLQZfBnMGtgb6BjEHQgfQBy8I8QcnCEoIAQjzB+8HtQebB5cHbQeQB4IHIgcWB88GcgYkBtIFfwUmBRgFoQQcBK0D9gK/AlACpAE7AVoAfP/W/gL+Yv28/Mv7C/t2+q/56/hp+NX3Rvfx9q/2SfbV9cv1j/U59Xj1IPWB9Lr0lfQy9Gr0ZvRb9JX0jfSO9LH0yfQx9Yn1tPUW9pz2d/cW+GX4KfnJ+RD6fvoT+8H7VPzc/Hn9+/2Y/k//5v+SACEBhgEsAsACMAOuA/ADGQRvBPUEaQWkBQYGVAaFBucGKgdIB30H1wdUCK4IxggkCV8JKQmDCbUJcQmoCaUJkQmxCZIJfwlJCQAJ5QjBCHIIOwj8B2sH/gasBlgG4AUxBdgEcQTEA0kDnQLXASwBXgDE/0b/dv6c/QD9N/xZ+8f6Nfqa+dH4LfjJ9zL3AveV9tn10vVb9eL03vQs9OPz/fOj83bzWvNT8zPz9fJS88nz7/My9H707vSW9Qv2iPY099H3hfgC+Yr5cPre+oT7pvwk/ab9VP71/vD/pgAzARACqAIRA7EDPwTJBG8FFAbBBjEHkAcCCFwI2wjvCOkIXQmRCcwJEQoZClwKyArpCs4KBAv4CrUKzgq0CpwKigpyCmUKGgruCYUJCwkMCckIPAjQB4EHLgehBgMGWAX3BMIE3wMhA88CHwKgAfcACwBZ/23+vP0g/VL8nfv9+mf6ePnR+GP4kvck99z2HfaI9Sf1k/Qf9NHzn/NJ8+/y9fLE8p7yoPJ38pPyqPKb8rfy9vJa84jz2vM+9HP0IvWU9Rf23vZD9w/4pfhP+VD6xPpg+yT82vyQ/X3+g/8uAPcAjQFIApUDNASRBH8FOwa9Bi8HsQdxCPQILwmdCRsKQwqSCvsKLgtyC60L7wsKDBYMUQxiDEMMLgwkDPEL2gvIC4MLTgsDC7YKPArsCcEJ9wiuCHoIsQeTBxYHOgbEBRcFuAQoBEID1AI8ApkB7ADi/1b/zv7h/Uv9ivxt+6/6EPr9+BP4lvf99jz2V/W89GD0rvM28x7zufJM8vDxgPFe8TPx4PCG8DbwPvB98IrwbPDS8ETxRvGj8Wby8/JX88fzGfTu9Jf1xvWv9mD3E/gi+dD5vvqh+3z8lv1X/j//VwD6AAACFwN4AzsELwXVBXgGIQfIBzUIlwgACXMJtwnPCVEKoQrBCkcLnQviC04MXQxoDJ4MaAwVDA0M7AuxC3ELMAv5CrEKggocCtkJ1AlWCfUIjAjuB5YHJQeABrEFNwXMBAEEmAMjA44CrwG/AHcApv+v/hr+T/2E/JX7wPoY+kD5c/ik99T2BvYv9a30APQm883yZPL78dzxePH18LLwgvAy8PrvH/At8CTwNfAA8DHwePBn8N3wRPF88S3ytvIS8/7zsfRE9XH2LPf/9zj57vnG+gf8H/32/R//RwAwASgC3wLOA6kE/QSdBVAGxQaCB0oIuAhyCRgKXwowC6cLsQsjDGUMnAzBDMoM7wzGDMMM4AyoDMEMogw6DHUMTwz4C/MLZwv1CtcKdgoiChMK1glPCQsJtwgSCJkH4gYVBpwFDAVWBIkD6gJAAkUBuAB/AL3/1v5g/n79dfwA/Gn7kvrE+fj4JvhW96X2JPaY9cP0O/Qt9J/z2fKc8kDyw/GV8XHxPfFM8XXxR/FE8WjxcPHN8R3ySPKQ8u3yW/PA8yb0nfRN9fz10vbe94b4T/lV+hr7FPz2/JL9j/50/zwAEAHZAbACRQP4A7wEcQUtBtQGRwehBzYI3QiCCa4JxQleCp4K0gpGC0wLUwvHCwQMEgwlDAEMxQuBC0sLAwvqCuAKmgqyCrwKhQpdCjsKPQraCWsJCQmRCGwIqAf6BqoG2gVaBYIEsAN8A40CzAFuAV0AY//E/gf+Lv12/Lr7xvpi+gD6GPl9+Or3gffq9ij20/Ug9b/0ovQG9NDz6fOy82Lzd/NV8wzzXfN281PzVfOU8wv0DPQm9In0rfTx9F719fWJ9hT3sPcu+Nn4gPke+tP6Y/tM/Dv9A/4b//f/zQDEAZsCfwNGBM4EOwUBBrwGLQeSB/sHtQgDCYEJmQrJCi8L0wukC/cLPgxEDKwMvAztDBAN4QwNDRYNBA03DT8NKA34DMsMrAwqDNALZAvICsAKhwoYCsQJMgm0CFwI6AcqB2kGuQXxBEcEpAPaAgcCPQF3APf/ZP99/gf+Zf1E/KH72vrX+Ub5tvgb+Kf3Nved9lD2EPab9W711fRa9JH0W/Qk9ET0IPQB9Bf0PvRm9JP0DvVw9W71wvVa9qP2uPYA90b3b/cI+G/4n/g9+aD5Ifrk+ln7B/zE/CT9d/0I/m/+zf6Z//f/ngCCAZYBZgJAA5MDgAQJBYsFMQaIBiAHbAfVB4YI0Qg+CbAJ+AlZCpUK0QoWCyILQgtSC0YLVQsyCy4LSwteC2YLKAu7CnMKlAo9CsIJognJCCMIsgfgBnoG6wVVBfYEXAT2A3YDtAJPAt0BLAHSACQARP/t/iP+kv1X/YX8S/wH/Ff7Mfuz+hr6xvkg+cb4g/j798X3nPei97/3WvdD9633rfdk91v3afdg92D3Zfdy97z3GPhS+In43Phs+dX5CvpT+qT6JftL+1775ftN/Oz8a/2i/RD+fP7d/gX/SP++/z0ArgDLAPYAZwHXAScCDQPVA+MDoQRnBb8FUQaxBgoHTAe6ByAIIwifCNUI8AguCRoJigmKCYsJywlWCVMJZglWCTsJ/ggRCZQIGwgcCMkHjgdMBxwHxwYTBvYFowUmBd4EIAS3A1UD6QK+AvgBmgGaAfEAtgCCAPX/vv93/0r/2P4W/uH9s/2M/ZL9iP10/R396fys/Fv8VPzv+6X7wvuo+7v7Avz3+7P7sfvk+xj8E/z9+yv8Kfwa/DH88/vu+038LfxQ/Kf8q/wS/Rb9L/2z/Z39qP3u/Q3+9v34/T3+Mv6B/hb/Kf9Z/7b/0v8EACoAKQCLANoABQF+Ad0B/wEvArkCAgMoA9AD7AMNBJkETgQiBIsEogSKBLIE4gTYBOME2wTCBK4EhARQBEgEfQRSBBYECATCA7ADmQOEA5cDUgM3A/sCnwKgAjoC9AHEASIBCAH/ALkAxACKAFcAWAAiAEQAUwA5AFwAEgD+//X/kv+K/zj/EP9G/y//S/9b/xz/AP/W/n7+jv53/ir+Vf4k/uH95f29/bT9l/2G/bH9vP3V/d79nP2Y/cf9qf2Z/bP9wv3f/cv9rv3a/fP9zv27/bb9wv3y/d39xf3d/cj90P0N/hr+Bv5P/pf+bf4y/oL+xv53/q3+4P64/uH+J/9j/5b/9v82AGwAsADsADABIgFGAX4BZQF8AbABzAHDAQkCewKCApkC2QLYArMCxALFArEC5gINA/kCDANcA2IDVgOCA7sDFwTmA7QDAATFA9IDBwS8A7UDsQMcBGEE1QPzA04EUgRaBFIEVwRXBCsE/wPjA4ADigOmAyMD+wIOA/YC0gJzAvgByQGqAVQBIgHYADkA+/8HALP/iP9u/yz/Iv/Z/sL+v/4//gT+sv1A/TP98/zg/AL9tvzG/O38k/x4/HP8NPwe/NX7V/tM+zj78vrj+sf62vrT+q/6zfqO+m76i/qZ+rb6Zfpc+o36hvrj+k/7s/sR/Ev8dfzg/FP9QP19/eX9Jf6M/rP+Bv+O/6z/DACbAMgAPwF2AV0BAgI3AiMCmAKYAvgCpgPYA0MErwTmBCUFagVhBVwFpQWSBYEFvwXUBdoFCAYABtYFIAZZBloGfQZwBmoGKgbPBcUFfwU+BS0FHgXgBHwEcgQpBM4D6AOSAxIDzgJBAswBdwEfAdsAQgDD/43/FP+w/pP+Jv64/bv9RP2Q/Hb8avw6/N/7gPtl+y/72Pq8+oj6D/rb+Zv5U/lc+SD58vjp+NH4tPh3+Jb42/jD+Kr4ufjL+O344fjY+Pr4APkv+Vj5rvks+lX64vqa+xf8ovz2/HP9Df6M/gD/VP/6/4IAzgBAAdcBjwL9AnwDRwT6BDoFbAUXBpAGygYmB64HMAiHCAgJhAl7CZoJUApkCkAKjAp3CpcK8wrfCrEKhgplCi4KFAo/ChQK4wnuCY8J5wiBCHAIJQiZB3IHIwe/BrQGHAaNBUQFqARBBKkDAQOxAjQCpgHeACwA5P9v/8b+Pf7k/XX9Fv34/ID83Ptk+7b6afpA+qf5ePk8+dH4uviW+FD4G/gH+MX3W/cZ9wD38fa99o72h/Zp9mH2e/aU9tb24/bP9in3X/dV97f36/cV+JH48/hX+cj5hvo++7P7TvwV/fL9i/4R/8b/VQDbAH0BLwKdAhwD6wNRBOoExwUkBqAGOAd6B9QHWgieCNcIGwlOCZoJzAkUCjsKAQoeCjkKEwoKCsIJrwmiCTwJTgk1CfgI8AiPCHkIPAjLB5UHAwe2BmgGzQWSBUIF1ARtBAEEbAPTAn4C3QF4AQUB2/9D/8v+5/1y/Q/9Yfy++0b7w/pP+tP5KPni+Hn42/e892X3BPfP9lD2J/Ys9t71w/Xc9Zr1Y/WC9VL1HPUO9e30FfUZ9RL1W/V29aj1RPak9qL2E/eP98/3Ofhw+OL4H/lj+WP6yvpR+zH8rfyJ/SL+m/6c/24AFwGlASACAQOUA9oDxQRRBZYFkAYSB1cH5AcKCIgIIAkyCZcJ7gnqCVAKmgprCosKywq9CskKyQq4CtgKngoiCtQJuwmCCeYIpQhvCP4H/Ae1B04HGweNBh0GxwVNBckEKwTHA1wD8gKbAvEBeAESAWoA7v9K/5j+Lf57/f78ePxx+wf7ivr3+a/5Gfm4+FD4D/jZ9073C/cJ9//2oPY+9hj2+fX19c31n/Wk9bP1FPY29gz2ZPZe9jf2gvaQ9p/2vfbv9nr3+fcs+Kj4GvlO+df5Ffp5+iH7Qfu7+0L8q/xJ/Wn9Bf4A/4L/PADPABkB1gGSAicDnQPMA3cE1gTqBI0F7QVIBo8G7wZjB0kHnQfbB9EHGQgcCDUIPggtCEIIKAhICFMIBwjDB8YHyAcaB7AGlAYTBsMFQwW9BM0EpgQtBNoDYwP9AqUCFwKuAVAB4gBJAOr/sP8Z//L+nP7h/Zn9Kv2//GD86fuZ++b6Rfrs+XH5M/n3+K/4gPgs+Bb4D/i694n3bfc29xX36fbS9uX2zPb89jz3PPef97f36Pdn+Cr4YfjW+NH4K/lW+WX5vvkc+l36kfrh+gv7dPvJ++v7YPyN/NT8Qf15/eX9UP7e/nH/3f9nAMIALwH7AWsCgwL8AlsDlQMFBD4EwARlBZgFwQXvBXYGAAcWB0cHOQdBB2kHHQdvB3sHDQcPB60GpQbeBsEGogZwBk8G+QWtBTkFsgRwBBkEywNlAzYD6wKHAngC6QF2ARsBnQBzAND/e/9g/+n+vP4=\" type=\"audio/wav\" />\n",
       "                    Your browser does not support the audio element.\n",
       "                </audio>\n",
       "              "
      ],
      "text/plain": [
       "<IPython.lib.display.Audio object>"
      ]
     },
     "execution_count": 44,
     "metadata": {},
     "output_type": "execute_result"
    }
   ],
   "source": [
    "filepath = \"sis1_group4ukelele.wav\"\n",
    "ref, fs = load_audio(filepath)# Write the code here\n",
    "Audio(ref, rate=fs)"
   ]
  },
  {
   "cell_type": "code",
   "execution_count": 45,
   "metadata": {},
   "outputs": [
    {
     "data": {
      "application/vnd.plotly.v1+json": {
       "config": {
        "linkText": "Export to plot.ly",
        "plotlyServerURL": "https://plot.ly",
        "showLink": false
       },
       "data": [
        {
         "line": {
          "color": "#1f77b4",
          "shape": "linear"
         },
         "mode": "lines",
         "name": "audio signal 0",
         "type": "scatter",
         "x": {
          "bdata": "3OHKUN2ZuT/Uq+PaOpu5P8x1/GSYnLk/wz8V7/WduT+7CS55U5+5P7LTRgOxoLk/qp1fjQ6iuT+hZ3gXbKO5P5kxkaHJpLk/kPupKyemuT+IxcK1hKe5P4CP2z/iqLk/d1n0yT+quT9vIw1Unau5P2btJd76rLk/Xrc+aFiuuT9VgVfyta+5P01LcHwTsbk/RRWJBnGyuT8836GQzrO5PzSpuhostbk/K3PTpIm2uT8jPewu57e5PxoHBblEubk/EtEdQ6K6uT8KmzbN/7u5PwFlT1ddvbk/+S5o4bq+uT/w+IBrGMC5P+jCmfV1wbk/34yyf9PCuT/XVssJMcS5P88g5JOOxbk/xur8HezGuT++tBWoSci5P7V+LjKnybk/rUhHvATLuT+kEmBGYsy5P5zceNC/zbk/k6aRWh3PuT+LcKrketC5P4M6w27Y0bk/egTc+DXTuT9yzvSCk9S5P2mYDQ3x1bk/YWIml07XuT9YLD8hrNi5P1D2V6sJ2rk/SMBwNWfbuT8/iom/xNy5PzdUokki3rk/Lh6703/fuT8m6NNd3eC5Px2y7Oc64rk/FXwFcpjjuT8NRh789eS5PwQQN4ZT5rk//NlPELHnuT/zo2iaDum5P+ttgSRs6rk/4jearsnruT/aAbM4J+25P9HLy8KE7rk/yZXkTOLvuT/BX/3WP/G5P7gpFmGd8rk/sPMu6/rzuT+nvUd1WPW5P5+HYP+19rk/llF5iRP4uT+OG5ITcfm5P4blqp3O+rk/fa/DJyz8uT91edyxif25P2xD9Tvn/rk/ZA0OxkQAuj9b1yZQogG6P1OhP9r/Aro/S2tYZF0Euj9CNXHuugW6Pzr/iXgYB7o/McmiAnYIuj8pk7uM0wm6PyBd1BYxC7o/GCftoI4Muj8Q8QUr7A26Pwe7HrVJD7o//4Q3P6cQuj/2TlDJBBK6P+4YaVNiE7o/5eKB3b8Uuj/drJpnHRa6P9R2s/F6F7o/zEDMe9gYuj/ECuUFNhq6P7vU/Y+TG7o/s54WGvEcuj+qaC+kTh66P6IySC6sH7o/mfxguAkhuj+RxnlCZyK6P4mQkszEI7o/gFqrViIluj94JMTgfya6P2/u3GrdJ7o/Z7j19Dopuj9egg5/mCq6P1ZMJwn2K7o/ThZAk1Mtuj9F4FgdsS66Pz2qcacOMLo/NHSKMWwxuj8sPqO7yTK6PyMIvEUnNLo/G9LUz4Q1uj8SnO1Z4ja6PwpmBuQ/OLo/AjAfbp05uj/5+Tf4+jq6P/HDUIJYPLo/6I1pDLY9uj/gV4KWEz+6P9chmyBxQLo/z+uzqs5Buj/Htcw0LEO6P75/5b6JRLo/tkn+SOdFuj+tExfTREe6P6XdL12iSLo/nKdI5/9Juj+UcWFxXUu6P4w7evu6TLo/gwWThRhOuj97z6sPdk+6P3KZxJnTULo/amPdIzFSuj9hLfatjlO6P1n3DjjsVLo/UcEnwklWuj9Ii0BMp1e6P0BVWdYEWbo/Nx9yYGJauj8v6Yrqv1u6Pyazo3QdXbo/Hn28/npeuj8VR9WI2F+6Pw0R7hI2Ybo/BdsGnZNiuj/8pB8n8WO6P/RuOLFOZbo/6zhRO6xmuj/jAmrFCWi6P9rMgk9nabo/0pab2cRquj/KYLRjImy6P8Eqze1/bbo/ufTld91uuj+wvv4BO3C6P6iIF4yYcbo/n1IwFvZyuj+XHEmgU3S6P4/mYSqxdbo/hrB6tA53uj9+epM+bHi6P3VErMjJebo/bQ7FUid7uj9k2N3chHy6P1yi9mbifbo/U2wP8T9/uj9LNih7nYC6P0MAQQX7gbo/OspZj1iDuj8ylHIZtoS6Pylei6MThro/ISikLXGHuj8Y8ry3zoi6PxC81UEsiro/CIbuy4mLuj//TwdW54y6P/cZIOBEjro/7uM4aqKPuj/mrVH0/5C6P913an5dkro/1UGDCLuTuj/NC5ySGJW6P8TVtBx2lro/vJ/NptOXuj+zaeYwMZm6P6sz/7qOmro/ov0XReybuj+axzDPSZ26P5GRSVmnnro/iVti4wSguj+BJXttYqG6P3jvk/e/oro/cLmsgR2kuj9ng8ULe6W6P19N3pXYpro/Vhf3Hzaouj9O4Q+qk6m6P0arKDTxqro/PXVBvk6suj81P1pIrK26PywJc9IJr7o/JNOLXGewuj8bnaTmxLG6PxNnvXAis7o/CzHW+n+0uj8C++6E3bW6P/rEBw87t7o/8Y4gmZi4uj/pWDkj9rm6P+AiUq1Tu7o/2OxqN7G8uj/QtoPBDr66P8eAnEtsv7o/v0q11cnAuj+2FM5fJ8K6P67e5umEw7o/paj/c+LEuj+dchj+P8a6P5Q8MYidx7o/jAZKEvvIuj+E0GKcWMq6P3uaeya2y7o/c2SUsBPNuj9qLq06cc66P2L4xcTOz7o/WcLeTizRuj9RjPfYidK6P0lWEGPn07o/QCAp7UTVuj846kF3ota6Py+0WgEA2Lo/J35zi13Zuj8eSIwVu9q6PxYSpZ8Y3Lo/Dty9KXbduj8Fptaz0966P/1v7z0x4Lo/9DkIyI7huj/sAyFS7OK6P+PNOdxJ5Lo/25dSZqfluj/SYWvwBOe6P8orhHpi6Lo/wvWcBMDpuj+5v7WOHeu6P7GJzhh77Lo/qFPnotjtuj+gHQAtNu+6P5fnGLeT8Lo/j7ExQfHxuj+He0rLTvO6P35FY1Ws9Lo/dg983wn2uj9t2ZRpZ/e6P2WjrfPE+Lo/XG3GfSL6uj9UN98HgPu6P0wB+JHd/Lo/Q8sQHDv+uj87lSmmmP+6PzJfQjD2ALs/KilbulMCuz8h83NEsQO7Pxm9jM4OBbs/EYelWGwGuz8IUb7iyQe7PwAb12wnCbs/9+Tv9oQKuz/vrgiB4gu7P+Z4IQtADbs/3kI6lZ0Ouz/VDFMf+w+7P83Wa6lYEbs/xaCEM7YSuz+8ap29ExS7P7Q0tkdxFbs/q/7O0c4Wuz+jyOdbLBi7P5qSAOaJGbs/klwZcOcauz+KJjL6RBy7P4HwSoSiHbs/ebpjDgAfuz9whHyYXSC7P2hOlSK7Ibs/XxiurBgjuz9X4sY2diS7P0+s38DTJbs/Rnb4SjEnuz8+QBHVjii7PzUKKl/sKbs/LdRC6Ukruz8knltzpyy7PxxodP0ELrs/EzKNh2Ivuz8L/KURwDC7PwPGvpsdMrs/+o/XJXszuz/yWfCv2DS7P+kjCTo2Nrs/4e0hxJM3uz/YtzpO8Ti7P9CBU9hOOrs/yEtsYqw7uz+/FYXsCT27P7ffnXZnPrs/rqm2AMU/uz+mc8+KIkG7P5096BSAQrs/lQcBn91Duz+N0RkpO0W7P4SbMrOYRrs/fGVLPfZHuz9zL2THU0m7P2v5fFGxSrs/YsOV2w5Muz9aja5lbE27P1JXx+/JTrs/SSHgeSdQuz9B6/gDhVG7Pzi1EY7iUrs/MH8qGEBUuz8nSUOinVW7Px8TXCz7Vrs/Ft10tlhYuz8Op41Atlm7PwZxpsoTW7s//Tq/VHFcuz/1BNjezl27P+zO8GgsX7s/5JgJ84lguz/bYiJ952G7P9MsOwdFY7s/y/ZTkaJkuz/CwGwbAGa7P7qKhaVdZ7s/sVSeL7touz+pHre5GGq7P6Doz0N2a7s/mLLozdNsuz+QfAFYMW67P4dGGuKOb7s/fxAzbOxwuz922kv2SXK7P26kZICnc7s/ZW59CgV1uz9dOJaUYna7P1QCrx7Ad7s/TMzHqB15uz9EluAye3q7Pztg+bzYe7s/MyoSRzZ9uz8q9CrRk367PyK+Q1vxf7s/GYhc5U6Buz8RUnVvrIK7PwkcjvkJhLs/AOamg2eFuz/4r78NxYa7P+952JciiLs/50PxIYCJuz/eDQqs3Yq7P9bXIjY7jLs/zqE7wJiNuz/Fa1RK9o67P701bdRTkLs/tP+FXrGRuz+syZ7oDpO7P6OTt3JslLs/m13Q/MmVuz+SJ+mGJ5e7P4rxARGFmLs/grsam+KZuz95hTMlQJu7P3FPTK+dnLs/aBllOfuduz9g433DWJ+7P1etlk22oLs/T3ev1xOiuz9HQchhcaO7Pz4L4evOpLs/NtX5dSymuz8tnxIAiqe7PyVpK4rnqLs/HDNEFEWquz8U/Vyeoqu7PwzHdSgArbs/A5GOsl2uuz/7Wqc8u6+7P/IkwMYYsbs/6u7YUHayuz/huPHa07O7P9mCCmUxtbs/0Uwj7462uz/IFjx57Le7P8DgVANKubs/t6ptjae6uz+vdIYXBby7P6Y+n6Fivbs/ngi4K8C+uz+V0tC1HcC7P42c6T97wbs/hWYCytjCuz98MBtUNsS7P3T6M96Txbs/a8RMaPHGuz9jjmXyTsi7P1pYfnysybs/UiKXBgrLuz9K7K+QZ8y7P0G2yBrFzbs/OYDhpCLPuz8wSvougNC7PygUE7nd0bs/H94rQzvTuz8XqETNmNS7Pw9yXVf21bs/Bjx24VPXuz/+BY9rsdi7P/XPp/UO2rs/7ZnAf2zbuz/kY9kJyty7P9wt8pMn3rs/0/cKHoXfuz/LwSOo4uC7P8OLPDJA4rs/ulVVvJ3juz+yH25G++S7P6nphtBY5rs/obOfWrbnuz+YfbjkE+m7P5BH0W5x6rs/iBHq+M7ruz9/2wKDLO27P3elGw2K7rs/bm80l+fvuz9mOU0hRfG7P10DZqui8rs/Vc1+NQD0uz9Nl5e/XfW7P0RhsEm79rs/PCvJ0xj4uz8z9eFddvm7Pyu/+ufT+rs/IokTcjH8uz8aUyz8jv27PxIdRYbs/rs/CeddEEoAvD8BsXaapwG8P/h6jyQFA7w/8ESormIEvD/nDsE4wAW8P9/Y2cIdB7w/1qLyTHsIvD/ObAvX2Am8P8Y2JGE2C7w/vQA965MMvD+1ylV18Q28P6yUbv9OD7w/pF6HiawQvD+bKKATChK8P5PyuJ1nE7w/i7zRJ8UUvD+ChuqxIha8P3pQAzyAF7w/cRocxt0YvD9p5DRQOxq8P2CuTdqYG7w/WHhmZPYcvD9QQn/uUx68P0cMmHixH7w/P9awAg8hvD82oMmMbCK8Py5q4hbKI7w/JTT7oCclvD8d/hMrhSa8PxTILLXiJ7w/DJJFP0ApvD8EXF7JnSq8P/sld1P7K7w/8++P3VgtvD/quahnti68P+KDwfETMLw/2U3ae3ExvD/RF/MFzzK8P8nhC5AsNLw/wKskGoo1vD+4dT2k5za8P68/Vi5FOLw/pwlvuKI5vD+e04dCADu8P5adoMxdPLw/jme5Vrs9vD+FMdLgGD+8P3376mp2QLw/dMUD9dNBvD9sjxx/MUO8P2NZNQmPRLw/WyNOk+xFvD9S7WYdSke8P0q3f6enSLw/QoGYMQVKvD85S7G7Yku8PzEVykXATLw/KN/izx1OvD8gqftZe0+8PxdzFOTYULw/Dz0tbjZSvD8HB0b4k1O8P/7QXoLxVLw/9pp3DE9WvD/tZJCWrFe8P+UuqSAKWbw/3PjBqmdavD/Uwto0xVu8P8yM874iXbw/w1YMSYBevD+7ICXT3V+8P7LqPV07Ybw/qrRW55hivD+hfm9x9mO8P5lIiPtTZbw/kRKhhbFmvD+I3LkPD2i8P4Cm0plsabw/d3DrI8pqvD9vOgSuJ2y8P2YEHTiFbbw/Xs41wuJuvD9VmE5MQHC8P01iZ9adcbw/RSyAYPtyvD889pjqWHS8PzTAsXS2dbw/K4rK/hN3vD8jVOOIcXi8Pxoe/BLPebw/EugUnSx7vD8Ksi0niny8PwF8RrHnfbw/+UVfO0V/vD/wD3jFooC8P+jZkE8Agrw/36Op2V2DvD/XbcJju4S8P8832+0Yhrw/xgH0d3aHvD++ywwC1Ii8P7WVJYwxirw/rV8+Fo+LvD+kKVeg7Iy8P5zzbypKjrw/k72ItKePvD+Lh6E+BZG8P4NRushikrw/ehvTUsCTvD9y5evcHZW8P2mvBGd7lrw/YXkd8diXvD9YQzZ7Npm8P1ANTwWUmrw/SNdnj/GbvD8/oYAZT528PzdrmaOsnrw/LjWyLQqgvD8m/8q3Z6G8Px3J40HForw/FZP8yyKkvD8NXRVWgKW8PwQnLuDdprw//PBGajuovD/zul/0mKm8P+uEeH72qrw/4k6RCFSsvD/aGKqSsa28P9LiwhwPr7w/yazbpmywvD/BdvQwyrG8P7hADbsns7w/sAomRYW0vD+n1D7P4rW8P5+eV1lAt7w/lmhw4524vD+OMolt+7m8P4b8ofdYu7w/fca6gba8vD91kNMLFL68P2xa7JVxv7w/ZCQFIM/AvD9b7h2qLMK8P1O4NjSKw7w/S4JPvufEvD9CTGhIRca8PzoWgdKix7w/MeCZXADJvD8pqrLmXcq8PyB0y3C7y7w/GD7k+hjNvD8QCP2Eds68PwfSFQ/Uz7w//5sumTHRvD/2ZUcjj9K8P+4vYK3s07w/5fl4N0rVvD/dw5HBp9a8P9SNqksF2Lw/zFfD1WLZvD/EIdxfwNq8P7vr9Okd3Lw/s7UNdHvdvD+qfyb+2N68P6JJP4g24Lw/mRNYEpThvD+R3XCc8eK8P4mniSZP5Lw/gHGisKzlvD94O7s6Cue8P28F1MRn6Lw/Z8/sTsXpvD9emQXZIuu8P1ZjHmOA7Lw/Ti037d3tvD9F9093O++8Pz3BaAGZ8Lw/NIuBi/bxvD8sVZoVVPO8PyMfs5+x9Lw/G+nLKQ/2vD8Ts+SzbPe8Pwp9/T3K+Lw/AkcWyCf6vD/5EC9Shfu8P/HaR9zi/Lw/6KRgZkD+vD/gbnnwnf+8P9c4knr7AL0/zwKrBFkCvT/HzMOOtgO9P76W3BgUBb0/tmD1onEGvT+tKg4tzwe9P6X0JrcsCb0/nL4/QYoKvT+UiFjL5wu9P4xScVVFDb0/gxyK36IOvT975qJpABC9P3Kwu/NdEb0/anrUfbsSvT9hRO0HGRS9P1kOBpJ2Fb0/UdgeHNQWvT9IojemMRi9P0BsUDCPGb0/NzZpuuwavT8vAIJEShy9PybKms6nHb0/HpSzWAUfvT8VXsziYiC9Pw0o5WzAIb0/BfL99h0jvT/8uxaBeyS9P/SFLwvZJb0/609IlTYnvT/jGWEflCi9P9rjeanxKb0/0q2SM08rvT/Kd6u9rCy9P8FBxEcKLr0/uQvd0WcvvT+w1fVbxTC9P6ifDuYiMr0/n2kncIAzvT+XM0D63TS9P4/9WIQ7Nr0/hsdxDpk3vT9+kYqY9ji9P3VboyJUOr0/bSW8rLE7vT9k79Q2Dz29P1y57cBsPr0/U4MGS8o/vT9LTR/VJ0G9P0MXOF+FQr0/OuFQ6eJDvT8yq2lzQEW9Pyl1gv2dRr0/IT+bh/tHvT8YCbQRWUm9PxDTzJu2Sr0/CJ3lJRRMvT//Zv6vcU29P/cwFzrPTr0/7vovxCxQvT/mxEhOilG9P92OYdjnUr0/1Vh6YkVUvT/NIpPsolW9P8Tsq3YAV70/vLbEAF5YvT+zgN2Ku1m9P6tK9hQZW70/ohQPn3ZcvT+a3icp1F29P5KoQLMxX70/iXJZPY9gvT+BPHLH7GG9P3gGi1FKY70/cNCj26dkvT9nmrxlBWa9P19k1e9iZ70/Vi7uecBovT9O+AYEHmq9P0bCH457a70/PYw4GNlsvT81VlGiNm69PywgaiyUb70/JOqCtvFwvT8btJtAT3K9PxN+tMqsc70/C0jNVAp1vT8CEubeZ3a9P/rb/mjFd70/8aUX8yJ5vT/pbzB9gHq9P+A5SQfee70/2ANikTt9vT/QzXobmX69P8eXk6X2f70/v2GsL1SBvT+2K8W5sYK9P6713UMPhL0/",
          "dtype": "f8"
         },
         "y": {
          "bdata": "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",
          "dtype": "f8"
         }
        }
       ],
       "layout": {
        "template": {
         "data": {
          "bar": [
           {
            "error_x": {
             "color": "#2a3f5f"
            },
            "error_y": {
             "color": "#2a3f5f"
            },
            "marker": {
             "line": {
              "color": "#E5ECF6",
              "width": 0.5
             },
             "pattern": {
              "fillmode": "overlay",
              "size": 10,
              "solidity": 0.2
             }
            },
            "type": "bar"
           }
          ],
          "barpolar": [
           {
            "marker": {
             "line": {
              "color": "#E5ECF6",
              "width": 0.5
             },
             "pattern": {
              "fillmode": "overlay",
              "size": 10,
              "solidity": 0.2
             }
            },
            "type": "barpolar"
           }
          ],
          "carpet": [
           {
            "aaxis": {
             "endlinecolor": "#2a3f5f",
             "gridcolor": "white",
             "linecolor": "white",
             "minorgridcolor": "white",
             "startlinecolor": "#2a3f5f"
            },
            "baxis": {
             "endlinecolor": "#2a3f5f",
             "gridcolor": "white",
             "linecolor": "white",
             "minorgridcolor": "white",
             "startlinecolor": "#2a3f5f"
            },
            "type": "carpet"
           }
          ],
          "choropleth": [
           {
            "colorbar": {
             "outlinewidth": 0,
             "ticks": ""
            },
            "type": "choropleth"
           }
          ],
          "contour": [
           {
            "colorbar": {
             "outlinewidth": 0,
             "ticks": ""
            },
            "colorscale": [
             [
              0,
              "#0d0887"
             ],
             [
              0.1111111111111111,
              "#46039f"
             ],
             [
              0.2222222222222222,
              "#7201a8"
             ],
             [
              0.3333333333333333,
              "#9c179e"
             ],
             [
              0.4444444444444444,
              "#bd3786"
             ],
             [
              0.5555555555555556,
              "#d8576b"
             ],
             [
              0.6666666666666666,
              "#ed7953"
             ],
             [
              0.7777777777777778,
              "#fb9f3a"
             ],
             [
              0.8888888888888888,
              "#fdca26"
             ],
             [
              1,
              "#f0f921"
             ]
            ],
            "type": "contour"
           }
          ],
          "contourcarpet": [
           {
            "colorbar": {
             "outlinewidth": 0,
             "ticks": ""
            },
            "type": "contourcarpet"
           }
          ],
          "heatmap": [
           {
            "colorbar": {
             "outlinewidth": 0,
             "ticks": ""
            },
            "colorscale": [
             [
              0,
              "#0d0887"
             ],
             [
              0.1111111111111111,
              "#46039f"
             ],
             [
              0.2222222222222222,
              "#7201a8"
             ],
             [
              0.3333333333333333,
              "#9c179e"
             ],
             [
              0.4444444444444444,
              "#bd3786"
             ],
             [
              0.5555555555555556,
              "#d8576b"
             ],
             [
              0.6666666666666666,
              "#ed7953"
             ],
             [
              0.7777777777777778,
              "#fb9f3a"
             ],
             [
              0.8888888888888888,
              "#fdca26"
             ],
             [
              1,
              "#f0f921"
             ]
            ],
            "type": "heatmap"
           }
          ],
          "histogram": [
           {
            "marker": {
             "pattern": {
              "fillmode": "overlay",
              "size": 10,
              "solidity": 0.2
             }
            },
            "type": "histogram"
           }
          ],
          "histogram2d": [
           {
            "colorbar": {
             "outlinewidth": 0,
             "ticks": ""
            },
            "colorscale": [
             [
              0,
              "#0d0887"
             ],
             [
              0.1111111111111111,
              "#46039f"
             ],
             [
              0.2222222222222222,
              "#7201a8"
             ],
             [
              0.3333333333333333,
              "#9c179e"
             ],
             [
              0.4444444444444444,
              "#bd3786"
             ],
             [
              0.5555555555555556,
              "#d8576b"
             ],
             [
              0.6666666666666666,
              "#ed7953"
             ],
             [
              0.7777777777777778,
              "#fb9f3a"
             ],
             [
              0.8888888888888888,
              "#fdca26"
             ],
             [
              1,
              "#f0f921"
             ]
            ],
            "type": "histogram2d"
           }
          ],
          "histogram2dcontour": [
           {
            "colorbar": {
             "outlinewidth": 0,
             "ticks": ""
            },
            "colorscale": [
             [
              0,
              "#0d0887"
             ],
             [
              0.1111111111111111,
              "#46039f"
             ],
             [
              0.2222222222222222,
              "#7201a8"
             ],
             [
              0.3333333333333333,
              "#9c179e"
             ],
             [
              0.4444444444444444,
              "#bd3786"
             ],
             [
              0.5555555555555556,
              "#d8576b"
             ],
             [
              0.6666666666666666,
              "#ed7953"
             ],
             [
              0.7777777777777778,
              "#fb9f3a"
             ],
             [
              0.8888888888888888,
              "#fdca26"
             ],
             [
              1,
              "#f0f921"
             ]
            ],
            "type": "histogram2dcontour"
           }
          ],
          "mesh3d": [
           {
            "colorbar": {
             "outlinewidth": 0,
             "ticks": ""
            },
            "type": "mesh3d"
           }
          ],
          "parcoords": [
           {
            "line": {
             "colorbar": {
              "outlinewidth": 0,
              "ticks": ""
             }
            },
            "type": "parcoords"
           }
          ],
          "pie": [
           {
            "automargin": true,
            "type": "pie"
           }
          ],
          "scatter": [
           {
            "fillpattern": {
             "fillmode": "overlay",
             "size": 10,
             "solidity": 0.2
            },
            "type": "scatter"
           }
          ],
          "scatter3d": [
           {
            "line": {
             "colorbar": {
              "outlinewidth": 0,
              "ticks": ""
             }
            },
            "marker": {
             "colorbar": {
              "outlinewidth": 0,
              "ticks": ""
             }
            },
            "type": "scatter3d"
           }
          ],
          "scattercarpet": [
           {
            "marker": {
             "colorbar": {
              "outlinewidth": 0,
              "ticks": ""
             }
            },
            "type": "scattercarpet"
           }
          ],
          "scattergeo": [
           {
            "marker": {
             "colorbar": {
              "outlinewidth": 0,
              "ticks": ""
             }
            },
            "type": "scattergeo"
           }
          ],
          "scattergl": [
           {
            "marker": {
             "colorbar": {
              "outlinewidth": 0,
              "ticks": ""
             }
            },
            "type": "scattergl"
           }
          ],
          "scattermap": [
           {
            "marker": {
             "colorbar": {
              "outlinewidth": 0,
              "ticks": ""
             }
            },
            "type": "scattermap"
           }
          ],
          "scattermapbox": [
           {
            "marker": {
             "colorbar": {
              "outlinewidth": 0,
              "ticks": ""
             }
            },
            "type": "scattermapbox"
           }
          ],
          "scatterpolar": [
           {
            "marker": {
             "colorbar": {
              "outlinewidth": 0,
              "ticks": ""
             }
            },
            "type": "scatterpolar"
           }
          ],
          "scatterpolargl": [
           {
            "marker": {
             "colorbar": {
              "outlinewidth": 0,
              "ticks": ""
             }
            },
            "type": "scatterpolargl"
           }
          ],
          "scatterternary": [
           {
            "marker": {
             "colorbar": {
              "outlinewidth": 0,
              "ticks": ""
             }
            },
            "type": "scatterternary"
           }
          ],
          "surface": [
           {
            "colorbar": {
             "outlinewidth": 0,
             "ticks": ""
            },
            "colorscale": [
             [
              0,
              "#0d0887"
             ],
             [
              0.1111111111111111,
              "#46039f"
             ],
             [
              0.2222222222222222,
              "#7201a8"
             ],
             [
              0.3333333333333333,
              "#9c179e"
             ],
             [
              0.4444444444444444,
              "#bd3786"
             ],
             [
              0.5555555555555556,
              "#d8576b"
             ],
             [
              0.6666666666666666,
              "#ed7953"
             ],
             [
              0.7777777777777778,
              "#fb9f3a"
             ],
             [
              0.8888888888888888,
              "#fdca26"
             ],
             [
              1,
              "#f0f921"
             ]
            ],
            "type": "surface"
           }
          ],
          "table": [
           {
            "cells": {
             "fill": {
              "color": "#EBF0F8"
             },
             "line": {
              "color": "white"
             }
            },
            "header": {
             "fill": {
              "color": "#C8D4E3"
             },
             "line": {
              "color": "white"
             }
            },
            "type": "table"
           }
          ]
         },
         "layout": {
          "annotationdefaults": {
           "arrowcolor": "#2a3f5f",
           "arrowhead": 0,
           "arrowwidth": 1
          },
          "autotypenumbers": "strict",
          "coloraxis": {
           "colorbar": {
            "outlinewidth": 0,
            "ticks": ""
           }
          },
          "colorscale": {
           "diverging": [
            [
             0,
             "#8e0152"
            ],
            [
             0.1,
             "#c51b7d"
            ],
            [
             0.2,
             "#de77ae"
            ],
            [
             0.3,
             "#f1b6da"
            ],
            [
             0.4,
             "#fde0ef"
            ],
            [
             0.5,
             "#f7f7f7"
            ],
            [
             0.6,
             "#e6f5d0"
            ],
            [
             0.7,
             "#b8e186"
            ],
            [
             0.8,
             "#7fbc41"
            ],
            [
             0.9,
             "#4d9221"
            ],
            [
             1,
             "#276419"
            ]
           ],
           "sequential": [
            [
             0,
             "#0d0887"
            ],
            [
             0.1111111111111111,
             "#46039f"
            ],
            [
             0.2222222222222222,
             "#7201a8"
            ],
            [
             0.3333333333333333,
             "#9c179e"
            ],
            [
             0.4444444444444444,
             "#bd3786"
            ],
            [
             0.5555555555555556,
             "#d8576b"
            ],
            [
             0.6666666666666666,
             "#ed7953"
            ],
            [
             0.7777777777777778,
             "#fb9f3a"
            ],
            [
             0.8888888888888888,
             "#fdca26"
            ],
            [
             1,
             "#f0f921"
            ]
           ],
           "sequentialminus": [
            [
             0,
             "#0d0887"
            ],
            [
             0.1111111111111111,
             "#46039f"
            ],
            [
             0.2222222222222222,
             "#7201a8"
            ],
            [
             0.3333333333333333,
             "#9c179e"
            ],
            [
             0.4444444444444444,
             "#bd3786"
            ],
            [
             0.5555555555555556,
             "#d8576b"
            ],
            [
             0.6666666666666666,
             "#ed7953"
            ],
            [
             0.7777777777777778,
             "#fb9f3a"
            ],
            [
             0.8888888888888888,
             "#fdca26"
            ],
            [
             1,
             "#f0f921"
            ]
           ]
          },
          "colorway": [
           "#636efa",
           "#EF553B",
           "#00cc96",
           "#ab63fa",
           "#FFA15A",
           "#19d3f3",
           "#FF6692",
           "#B6E880",
           "#FF97FF",
           "#FECB52"
          ],
          "font": {
           "color": "#2a3f5f"
          },
          "geo": {
           "bgcolor": "white",
           "lakecolor": "white",
           "landcolor": "#E5ECF6",
           "showlakes": true,
           "showland": true,
           "subunitcolor": "white"
          },
          "hoverlabel": {
           "align": "left"
          },
          "hovermode": "closest",
          "mapbox": {
           "style": "light"
          },
          "paper_bgcolor": "white",
          "plot_bgcolor": "#E5ECF6",
          "polar": {
           "angularaxis": {
            "gridcolor": "white",
            "linecolor": "white",
            "ticks": ""
           },
           "bgcolor": "#E5ECF6",
           "radialaxis": {
            "gridcolor": "white",
            "linecolor": "white",
            "ticks": ""
           }
          },
          "scene": {
           "xaxis": {
            "backgroundcolor": "#E5ECF6",
            "gridcolor": "white",
            "gridwidth": 2,
            "linecolor": "white",
            "showbackground": true,
            "ticks": "",
            "zerolinecolor": "white"
           },
           "yaxis": {
            "backgroundcolor": "#E5ECF6",
            "gridcolor": "white",
            "gridwidth": 2,
            "linecolor": "white",
            "showbackground": true,
            "ticks": "",
            "zerolinecolor": "white"
           },
           "zaxis": {
            "backgroundcolor": "#E5ECF6",
            "gridcolor": "white",
            "gridwidth": 2,
            "linecolor": "white",
            "showbackground": true,
            "ticks": "",
            "zerolinecolor": "white"
           }
          },
          "shapedefaults": {
           "line": {
            "color": "#2a3f5f"
           }
          },
          "ternary": {
           "aaxis": {
            "gridcolor": "white",
            "linecolor": "white",
            "ticks": ""
           },
           "baxis": {
            "gridcolor": "white",
            "linecolor": "white",
            "ticks": ""
           },
           "bgcolor": "#E5ECF6",
           "caxis": {
            "gridcolor": "white",
            "linecolor": "white",
            "ticks": ""
           }
          },
          "title": {
           "x": 0.05
          },
          "xaxis": {
           "automargin": true,
           "gridcolor": "white",
           "linecolor": "white",
           "ticks": "",
           "title": {
            "standoff": 15
           },
           "zerolinecolor": "white",
           "zerolinewidth": 2
          },
          "yaxis": {
           "automargin": true,
           "gridcolor": "white",
           "linecolor": "white",
           "ticks": "",
           "title": {
            "standoff": 15
           },
           "zerolinecolor": "white",
           "zerolinewidth": 2
          }
         }
        }
       }
      }
     },
     "metadata": {},
     "output_type": "display_data"
    }
   ],
   "source": [
    "T=1/f0\n",
    "t_start = 0.1\n",
    "t_end = t_start+7*T\n",
    "plot_signals(ref, fs, t_start=t_start, t_end=t_end)"
   ]
  },
  {
   "cell_type": "markdown",
   "metadata": {
    "id": "Q9q9DSPkzkKi"
   },
   "source": [
    "3.2. Now, define a harmonic signal, `y` whose fundamental frequency is the defined in Lab 1. Go step by step adding a new harmonic in each step. Plot both signals (the reference and the synthesized) and try to reproduce the shape of the reference signal.\n",
    "\n",
    "**Note 1**: in order to have a similar shape, we need to select the amplitudes and phases carefully. One way to do this is to define the harmonic signal as follows:\n",
    "\n",
    "$$y(t) = \\sum_{k=1}^K A_k\\cos\\left(2\\pi kf_0 t + k \\phi - (k-1)\\pi/2 \\right), $$\n",
    "\n",
    "where $K$ is the number of harmonics, $f_0$ is the fundamental frequency, $A_k$ is the amplitude (weight) of each harmonic and $\\phi$ is the phase of the signal (defined in Lab1 Ex 2.4).\n",
    "\n",
    "**Note 2**:\n",
    "Define the $A_k$ values relative to the fundamental frequency. This means to define $A_1=1$ and the others less than 1. You can use Audacity to plot the spectrum of the fragment selected of the reference audio and measure the relative amplitudes of the harmonics.\n",
    "\n",
    "**Note 3**: Normalize the amplitude of the signal by the same amplitude of the reference. For instance, if the amplitude of the reference signal is 0.33, you can normalize the syntesized signal by first dividing by its maximum and then multiplyng by 0.33:\n",
    "\n",
    "```\n",
    "y = 0.33 * y / np.amax(y)\n",
    "```"
   ]
  },
  {
   "cell_type": "code",
   "execution_count": 46,
   "metadata": {},
   "outputs": [
    {
     "data": {
      "application/vnd.plotly.v1+json": {
       "config": {
        "plotlyServerURL": "https://plot.ly"
       },
       "data": [
        {
         "line": {
          "color": "#1f77b4",
          "shape": "linear"
         },
         "mode": "lines+markers",
         "type": "scatter",
         "x": {
          "bdata": "AAAAAAAAAAAAAAAAgIgVQAAAAACAiCVAAAAAAGAmMEAAAAAAgIg1QAAAAACg6jpAAAAAAGAmQEAAAAAAcNdCQAAAAACAiEVAAAAAAJA5SEAAAAAAoOpKQAAAAACwm01AAAAAAGAmUEAAAAAA6H5RQAAAAABw11JAAAAAAPgvVEAAAAAAgIhVQAAAAAAI4VZAAAAAAJA5WEAAAAAAGJJZQAAAAACg6lpAAAAAAChDXEAAAAAAsJtdQAAAAAA49F5AAAAAAGAmYEAAAAAApNJgQAAAAADofmFAAAAAACwrYkAAAAAAcNdiQAAAAAC0g2NAAAAAAPgvZEAAAAAAPNxkQAAAAACAiGVAAAAAAMQ0ZkAAAAAACOFmQAAAAABMjWdAAAAAAJA5aEAAAAAA1OVoQAAAAAAYkmlAAAAAAFw+akAAAAAAoOpqQAAAAADklmtAAAAAAChDbEAAAAAAbO9sQAAAAACwm21AAAAAAPRHbkAAAAAAOPRuQAAAAAB8oG9AAAAAAGAmcEAAAAAAgnxwQAAAAACk0nBAAAAAAMYocUAAAAAA6H5xQAAAAAAK1XFAAAAAACwrckAAAAAAToFyQAAAAABw13JAAAAAAJItc0AAAAAAtINzQAAAAADW2XNAAAAAAPgvdEAAAAAAGoZ0QAAAAAA83HRAAAAAAF4ydUAAAAAAgIh1QAAAAACi3nVAAAAAAMQ0dkAAAAAA5op2QAAAAAAI4XZAAAAAACo3d0AAAAAATI13QAAAAABu43dAAAAAAJA5eEAAAAAAso94QAAAAADU5XhAAAAAAPY7eUAAAAAAGJJ5QAAAAAA66HlAAAAAAFw+ekAAAAAAfpR6QAAAAACg6npAAAAAAMJAe0AAAAAA5JZ7QAAAAAAG7XtAAAAAAChDfEAAAAAASpl8QAAAAABs73xAAAAAAI5FfUAAAAAAsJt9QAAAAADS8X1AAAAAAPRHfkAAAAAAFp5+QAAAAAA49H5AAAAAAFpKf0AAAAAAfKB/QAAAAACe9n9AAAAAAGAmgEAAAAAAcVGAQAAAAACCfIBAAAAAAJOngEAAAAAApNKAQAAAAAC1/YBAAAAAAMYogUAAAAAA11OBQAAAAADofoFAAAAAAPmpgUAAAAAACtWBQAAAAAAbAIJAAAAAACwrgkAAAAAAPVaCQAAAAABOgYJAAAAAAF+sgkAAAAAAcNeCQAAAAACBAoNAAAAAAJItg0AAAAAAo1iDQAAAAAC0g4NAAAAAAMWug0AAAAAA1tmDQAAAAADnBIRAAAAAAPgvhEAAAAAACVuEQAAAAAAahoRAAAAAACuxhEAAAAAAPNyEQAAAAABNB4VAAAAAAF4yhUAAAAAAb12FQAAAAACAiIVAAAAAAJGzhUAAAAAAot6FQAAAAACzCYZAAAAAAMQ0hkAAAAAA1V+GQAAAAADmioZAAAAAAPe1hkAAAAAACOGGQAAAAAAZDIdAAAAAACo3h0AAAAAAO2KHQAAAAABMjYdAAAAAAF24h0AAAAAAbuOHQAAAAAB/DohAAAAAAJA5iEAAAAAAoWSIQAAAAACyj4hAAAAAAMO6iEAAAAAA1OWIQAAAAADlEIlAAAAAAPY7iUAAAAAAB2eJQAAAAAAYkolAAAAAACm9iUAAAAAAOuiJQAAAAABLE4pAAAAAAFw+ikAAAAAAbWmKQAAAAAB+lIpAAAAAAI+/ikAAAAAAoOqKQAAAAACxFYtAAAAAAMJAi0AAAAAA02uLQAAAAADklotAAAAAAPXBi0AAAAAABu2LQAAAAAAXGIxAAAAAAChDjEAAAAAAOW6MQAAAAABKmYxAAAAAAFvEjEAAAAAAbO+MQAAAAAB9Go1AAAAAAI5FjUAAAAAAn3CNQAAAAACwm41AAAAAAMHGjUAAAAAA0vGNQAAAAADjHI5AAAAAAPRHjkAAAAAABXOOQAAAAAAWno5AAAAAACfJjkAAAAAAOPSOQAAAAABJH49AAAAAAFpKj0AAAAAAa3WPQAAAAAB8oI9AAAAAAI3Lj0AAAAAAnvaPQAAAAIDXEJBAAAAAAGAmkEAAAACA6DuQQAAAAABxUZBAAAAAgPlmkEAAAAAAgnyQQAAAAIAKkpBAAAAAAJOnkEAAAACAG72QQAAAAACk0pBAAAAAgCzokEAAAAAAtf2QQAAAAIA9E5FAAAAAAMYokUAAAACATj6RQAAAAADXU5FAAAAAgF9pkUAAAAAA6H6RQAAAAIBwlJFAAAAAAPmpkUAAAACAgb+RQAAAAAAK1ZFAAAAAgJLqkUAAAAAAGwCSQAAAAICjFZJAAAAAACwrkkAAAACAtECSQAAAAAA9VpJAAAAAgMVrkkAAAAAAToGSQAAAAIDWlpJAAAAAAF+skkAAAACA58GSQAAAAABw15JAAAAAgPjskkAAAAAAgQKTQAAAAIAJGJNAAAAAAJItk0AAAACAGkOTQAAAAACjWJNAAAAAgCtuk0AAAAAAtIOTQAAAAIA8mZNAAAAAAMWuk0AAAACATcSTQAAAAADW2ZNAAAAAgF7vk0AAAAAA5wSUQAAAAIBvGpRAAAAAAPgvlEAAAACAgEWUQAAAAAAJW5RAAAAAgJFwlEAAAAAAGoaUQAAAAICim5RAAAAAACuxlEAAAACAs8aUQAAAAAA83JRAAAAAgMTxlEAAAAAATQeVQAAAAIDVHJVAAAAAAF4ylUAAAACA5keVQAAAAABvXZVAAAAAgPdylUAAAAAAgIiVQAAAAIAInpVAAAAAAJGzlUAAAACAGcmVQAAAAACi3pVAAAAAgCr0lUAAAAAAswmWQAAAAIA7H5ZAAAAAAMQ0lkAAAACATEqWQAAAAADVX5ZAAAAAgF11lkAAAAAA5oqWQAAAAIBuoJZAAAAAAPe1lkAAAACAf8uWQAAAAAAI4ZZAAAAAgJD2lkAAAAAAGQyXQAAAAIChIZdAAAAAACo3l0AAAACAskyXQAAAAAA7YpdAAAAAgMN3l0AAAAAATI2XQAAAAIDUopdAAAAAAF24l0AAAACA5c2XQAAAAABu45dAAAAAgPb4l0AAAAAAfw6YQAAAAIAHJJhAAAAAAJA5mEAAAACAGE+YQAAAAAChZJhAAAAAgCl6mEAAAAAAso+YQAAAAIA6pZhAAAAAAMO6mEAAAACAS9CYQAAAAADU5ZhAAAAAgFz7mEAAAAAA5RCZQAAAAIBtJplAAAAAAPY7mUAAAACAflGZQAAAAAAHZ5lAAAAAgI98mUAAAAAAGJKZQAAAAICgp5lAAAAAACm9mUAAAACAsdKZQAAAAAA66JlAAAAAgML9mUAAAAAASxOaQAAAAIDTKJpAAAAAAFw+mkAAAACA5FOaQAAAAABtaZpAAAAAgPV+mkAAAAAAfpSaQAAAAIAGqppAAAAAAI+/mkAAAACAF9WaQAAAAACg6ppAAAAAgCgAm0AAAAAAsRWbQAAAAIA5K5tAAAAAAMJAm0AAAACASlabQAAAAADTa5tAAAAAgFuBm0AAAAAA5JabQAAAAIBsrJtAAAAAAPXBm0AAAACAfdebQAAAAAAG7ZtAAAAAgI4CnEAAAAAAFxicQAAAAICfLZxAAAAAAChDnEAAAACAsFicQAAAAAA5bpxAAAAAgMGDnEAAAAAASpmcQAAAAIDSrpxAAAAAAFvEnEAAAACA49mcQAAAAABs75xAAAAAgPQEnUAAAAAAfRqdQAAAAIAFMJ1AAAAAAI5FnUAAAACAFludQAAAAACfcJ1AAAAAgCeGnUAAAAAAsJudQAAAAIA4sZ1AAAAAAMHGnUAAAACASdydQAAAAADS8Z1AAAAAgFoHnkAAAAAA4xyeQAAAAIBrMp5AAAAAAPRHnkAAAACAfF2eQAAAAAAFc55AAAAAgI2InkAAAAAAFp6eQAAAAICes55AAAAAACfJnkAAAACAr96eQAAAAAA49J5AAAAAgMAJn0AAAAAASR+fQAAAAIDRNJ9AAAAAAFpKn0AAAACA4l+fQAAAAABrdZ9AAAAAgPOKn0AAAAAAfKCfQAAAAIAEtp9AAAAAAI3Ln0AAAACAFeGfQAAAAACe9p9AAAAAQBMGoEAAAACA1xCgQAAAAMCbG6BAAAAAAGAmoEAAAABAJDGgQAAAAIDoO6BAAAAAwKxGoEAAAAAAcVGgQAAAAEA1XKBAAAAAgPlmoEAAAADAvXGgQAAAAACCfKBAAAAAQEaHoEAAAACACpKgQAAAAMDOnKBAAAAAAJOnoEAAAABAV7KgQAAAAIAbvaBAAAAAwN/HoEAAAAAApNKgQAAAAEBo3aBAAAAAgCzooEAAAADA8PKgQAAAAAC1/aBAAAAAQHkIoUAAAACAPROhQAAAAMABHqFAAAAAAMYooUAAAABAijOhQAAAAIBOPqFAAAAAwBJJoUAAAAAA11OhQAAAAECbXqFAAAAAgF9poUAAAADAI3ShQAAAAADofqFAAAAAQKyJoUAAAACAcJShQAAAAMA0n6FAAAAAAPmpoUAAAABAvbShQAAAAICBv6FAAAAAwEXKoUAAAAAACtWhQAAAAEDO36FAAAAAgJLqoUAAAADAVvWhQAAAAAAbAKJAAAAAQN8KokAAAACAoxWiQAAAAMBnIKJAAAAAACwrokAAAABA8DWiQAAAAIC0QKJAAAAAwHhLokAAAAAAPVaiQAAAAEABYaJAAAAAgMVrokAAAADAiXaiQAAAAABOgaJAAAAAQBKMokAAAACA1paiQAAAAMCaoaJAAAAAAF+sokAAAABAI7eiQAAAAIDnwaJAAAAAwKvMokAAAAAAcNeiQAAAAEA04qJAAAAAgPjsokAAAADAvPeiQAAAAACBAqNAAAAAQEUNo0AAAACACRijQAAAAMDNIqNAAAAAAJIto0AAAABAVjijQAAAAIAaQ6NAAAAAwN5No0AAAAAAo1ijQAAAAEBnY6NAAAAAgCtuo0AAAADA73ijQAAAAAC0g6NAAAAAQHiOo0AAAACAPJmjQAAAAMAApKNAAAAAAMWuo0AAAABAibmjQAAAAIBNxKNAAAAAwBHPo0AAAAAA1tmjQAAAAECa5KNAAAAAgF7vo0AAAADAIvqjQAAAAADnBKRAAAAAQKsPpEAAAACAbxqkQAAAAMAzJaRAAAAAAPgvpEAAAABAvDqkQAAAAICARaRAAAAAwERQpEAAAAAACVukQAAAAEDNZaRAAAAAgJFwpEAAAADAVXukQAAAAAAahqRAAAAAQN6QpEAAAACAopukQAAAAMBmpqRAAAAAACuxpEAAAABA77ukQAAAAICzxqRAAAAAwHfRpEAAAAAAPNykQAAAAEAA56RAAAAAgMTxpEAAAADAiPykQAAAAABNB6VAAAAAQBESpUAAAACA1RylQAAAAMCZJ6VAAAAAAF4ypUAAAABAIj2lQAAAAIDmR6VAAAAAwKpSpUAAAAAAb12lQAAAAEAzaKVAAAAAgPdypUAAAADAu32lQAAAAACAiKVAAAAAQESTpUAAAACACJ6lQAAAAMDMqKVAAAAAAJGzpUAAAABAVb6lQAAAAIAZyaVAAAAAwN3TpUAAAAAAot6lQAAAAEBm6aVAAAAAgCr0pUAAAADA7v6lQAAAAACzCaZAAAAAQHcUpkAAAACAOx+mQAAAAMD/KaZAAAAAAMQ0pkAAAABAiD+mQAAAAIBMSqZAAAAAwBBVpkAAAAAA1V+mQAAAAECZaqZAAAAAgF11pkAAAADAIYCmQAAAAADmiqZAAAAAQKqVpkAAAACAbqCmQAAAAMAyq6ZAAAAAAPe1pkAAAABAu8CmQAAAAIB/y6ZAAAAAwEPWpkAAAAAACOGmQAAAAEDM66ZAAAAAgJD2pkAAAADAVAGnQAAAAAAZDKdAAAAAQN0Wp0AAAACAoSGnQAAAAMBlLKdAAAAAACo3p0AAAABA7kGnQAAAAICyTKdAAAAAwHZXp0AAAAAAO2KnQAAAAED/bKdAAAAAgMN3p0AAAADAh4KnQAAAAABMjadAAAAAQBCYp0AAAACA1KKnQAAAAMCYradAAAAAAF24p0AAAABAIcOnQAAAAIDlzadAAAAAwKnYp0AAAAAAbuOnQAAAAEAy7qdAAAAAgPb4p0AAAADAugOoQAAAAAB/DqhAAAAAQEMZqEAAAACABySoQAAAAMDLLqhAAAAAAJA5qEAAAABAVESoQAAAAIAYT6hAAAAAwNxZqEAAAAAAoWSoQAAAAEBlb6hAAAAAgCl6qEAAAADA7YSoQAAAAACyj6hAAAAAQHaaqEAAAACAOqWoQAAAAMD+r6hAAAAAAMO6qEAAAABAh8WoQAAAAIBL0KhAAAAAwA/bqEAAAAAA1OWoQAAAAECY8KhAAAAAgFz7qEAAAADAIAapQAAAAADlEKlAAAAAQKkbqUAAAACAbSapQAAAAMAxMalAAAAAAPY7qUAAAABAukapQAAAAIB+UalAAAAAwEJcqUAAAAAAB2epQAAAAEDLcalAAAAAgI98qUAAAADAU4epQAAAAAAYkqlAAAAAQNycqUAAAACAoKepQAAAAMBksqlAAAAAACm9qUAAAABA7cepQAAAAICx0qlAAAAAwHXdqUAAAAAAOuipQAAAAED+8qlAAAAAgML9qUAAAADAhgiqQAAAAABLE6pAAAAAQA8eqkAAAACA0yiqQAAAAMCXM6pAAAAAAFw+qkAAAABAIEmqQAAAAIDkU6pAAAAAwKheqkAAAAAAbWmqQAAAAEAxdKpAAAAAgPV+qkAAAADAuYmqQAAAAAB+lKpAAAAAQEKfqkAAAACABqqqQAAAAMDKtKpAAAAAAI+/qkAAAABAU8qqQAAAAIAX1apAAAAAwNvfqkAAAAAAoOqqQAAAAEBk9apAAAAAgCgAq0AAAADA7AqrQAAAAACxFatAAAAAQHUgq0AAAACAOSurQAAAAMD9NatAAAAAAMJAq0AAAABAhkurQAAAAIBKVqtAAAAAwA5hq0AAAAAA02urQAAAAECXdqtAAAAAgFuBq0AAAADAH4yrQAAAAADklqtAAAAAQKihq0AAAACAbKyrQAAAAMAwt6tAAAAAAPXBq0AAAABAucyrQAAAAIB916tAAAAAwEHiq0AAAAAABu2rQAAAAEDK96tAAAAAgI4CrEAAAADAUg2sQAAAAAAXGKxAAAAAQNsirEAAAACAny2sQAAAAMBjOKxAAAAAAChDrEAAAABA7E2sQAAAAICwWKxAAAAAwHRjrEAAAAAAOW6sQAAAAED9eKxAAAAAgMGDrEAAAADAhY6sQAAAAABKmaxAAAAAQA6krEAAAACA0q6sQAAAAMCWuaxAAAAAAFvErEAAAABAH8+sQAAAAIDj2axAAAAAwKfkrEAAAAAAbO+sQAAAAEAw+qxAAAAAgPQErUAAAADAuA+tQAAAAAB9Gq1AAAAAQEElrUAAAACABTCtQAAAAMDJOq1AAAAAAI5FrUAAAABAUlCtQAAAAIAWW61AAAAAwNplrUAAAAAAn3CtQAAAAEBje61AAAAAgCeGrUAAAADA65CtQAAAAACwm61AAAAAQHSmrUAAAACAOLGtQAAAAMD8u61AAAAAAMHGrUAAAABAhdGtQAAAAIBJ3K1AAAAAwA3nrUAAAAAA0vGtQAAAAECW/K1AAAAAgFoHrkAAAADAHhKuQAAAAADjHK5AAAAAQKcnrkAAAACAazKuQAAAAMAvPa5AAAAAAPRHrkAAAABAuFKuQAAAAIB8Xa5AAAAAwEBorkAAAAAABXOuQAAAAEDJfa5AAAAAgI2IrkAAAADAUZOuQAAAAAAWnq5AAAAAQNqorkAAAACAnrOuQAAAAMBivq5AAAAAACfJrkAAAABA69OuQAAAAICv3q5AAAAAwHPprkAAAAAAOPSuQAAAAED8/q5AAAAAgMAJr0AAAADAhBSvQAAAAABJH69AAAAAQA0qr0AAAACA0TSvQAAAAMCVP69AAAAAAFpKr0AAAABAHlWvQAAAAIDiX69AAAAAwKZqr0AAAAAAa3WvQAAAAEAvgK9AAAAAgPOKr0AAAADAt5WvQAAAAAB8oK9AAAAAQECrr0AAAACABLavQAAAAMDIwK9AAAAAAI3Lr0AAAABAUdavQAAAAIAV4a9AAAAAwNnrr0AAAAAAnvavQAAAACCxALBAAAAAQBMGsEAAAABgdQuwQAAAAIDXELBAAAAAoDkWsEAAAADAmxuwQAAAAOD9ILBAAAAAAGAmsEAAAAAgwiuwQAAAAEAkMbBAAAAAYIY2sEAAAACA6DuwQAAAAKBKQbBAAAAAwKxGsEAAAADgDkywQAAAAABxUbBAAAAAINNWsEAAAABANVywQAAAAGCXYbBAAAAAgPlmsEAAAACgW2ywQAAAAMC9cbBAAAAA4B93sEAAAAAAgnywQAAAACDkgbBAAAAAQEaHsEAAAABgqIywQAAAAIAKkrBAAAAAoGyXsEAAAADAzpywQAAAAOAworBAAAAAAJOnsEAAAAAg9aywQAAAAEBXsrBAAAAAYLm3sEAAAACAG72wQAAAAKB9wrBAAAAAwN/HsEAAAADgQc2wQAAAAACk0rBAAAAAIAbYsEAAAABAaN2wQAAAAGDK4rBAAAAAgCzosEAAAACgju2wQAAAAMDw8rBAAAAA4FL4sEAAAAAAtf2wQAAAACAXA7FAAAAAQHkIsUAAAABg2w2xQAAAAIA9E7FAAAAAoJ8YsUAAAADAAR6xQAAAAOBjI7FAAAAAAMYosUAAAAAgKC6xQAAAAECKM7FAAAAAYOw4sUAAAACATj6xQAAAAKCwQ7FAAAAAwBJJsUAAAADgdE6xQAAAAADXU7FAAAAAIDlZsUAAAABAm16xQAAAAGD9Y7FAAAAAgF9psUAAAACgwW6xQAAAAMAjdLFAAAAA4IV5sUAAAAAA6H6xQAAAACBKhLFAAAAAQKyJsUAAAABgDo+xQAAAAIBwlLFAAAAAoNKZsUAAAADANJ+xQAAAAOCWpLFAAAAAAPmpsUAAAAAgW6+xQAAAAEC9tLFAAAAAYB+6sUAAAACAgb+xQAAAAKDjxLFAAAAAwEXKsUAAAADgp8+xQAAAAAAK1bFAAAAAIGzasUAAAABAzt+xQAAAAGAw5bFAAAAAgJLqsUAAAACg9O+xQAAAAMBW9bFAAAAA4Lj6sUAAAAAAGwCyQAAAACB9BbJAAAAAQN8KskAAAABgQRCyQAAAAICjFbJAAAAAoAUbskAAAADAZyCyQAAAAODJJbJAAAAAACwrskAAAAAgjjCyQAAAAEDwNbJAAAAAYFI7skAAAACAtECyQAAAAKAWRrJAAAAAwHhLskAAAADg2lCyQAAAAAA9VrJAAAAAIJ9bskAAAABAAWGyQAAAAGBjZrJAAAAAgMVrskAAAACgJ3GyQAAAAMCJdrJAAAAA4Ot7skAAAAAAToGyQAAAACCwhrJAAAAAQBKMskAAAABgdJGyQAAAAIDWlrJAAAAAoDicskAAAADAmqGyQAAAAOD8prJAAAAAAF+sskAAAAAgwbGyQAAAAEAjt7JAAAAAYIW8skAAAACA58GyQAAAAKBJx7JAAAAAwKvMskAAAADgDdKyQAAAAABw17JAAAAAINLcskAAAABANOKyQAAAAGCW57JAAAAAgPjsskAAAACgWvKyQAAAAMC897JAAAAA4B79skAAAAAAgQKzQAAAACDjB7NAAAAAQEUNs0AAAABgpxKzQAAAAIAJGLNAAAAAoGsds0AAAADAzSKzQAAAAOAvKLNAAAAAAJIts0AAAAAg9DKzQAAAAEBWOLNAAAAAYLg9s0AAAACAGkOzQAAAAKB8SLNAAAAAwN5Ns0AAAADgQFOzQAAAAACjWLNAAAAAIAVes0AAAABAZ2OzQAAAAGDJaLNAAAAAgCtus0AAAACgjXOzQAAAAMDveLNAAAAA4FF+s0AAAAAAtIOzQAAAACAWibNAAAAAQHiOs0AAAABg2pOzQAAAAIA8mbNAAAAAoJ6es0AAAADAAKSzQAAAAOBiqbNAAAAAAMWus0AAAAAgJ7SzQAAAAECJubNAAAAAYOu+s0AAAACATcSzQAAAAKCvybNAAAAAwBHPs0AAAADgc9SzQAAAAADW2bNAAAAAIDjfs0AAAABAmuSzQAAAAGD86bNAAAAAgF7vs0AAAACgwPSzQAAAAMAi+rNAAAAA4IT/s0AAAAAA5wS0QAAAACBJCrRAAAAAQKsPtEAAAABgDRW0QAAAAIBvGrRAAAAAoNEftEAAAADAMyW0QAAAAOCVKrRAAAAAAPgvtEAAAAAgWjW0QAAAAEC8OrRAAAAAYB5AtEAAAACAgEW0QAAAAKDiSrRAAAAAwERQtEAAAADgplW0QAAAAAAJW7RAAAAAIGtgtEAAAABAzWW0QAAAAGAva7RAAAAAgJFwtEAAAACg83W0QAAAAMBVe7RAAAAA4LeAtEAAAAAAGoa0QAAAACB8i7RAAAAAQN6QtEAAAABgQJa0QAAAAICim7RAAAAAoAShtEAAAADAZqa0QAAAAODIq7RAAAAAACuxtEAAAAAgjba0QAAAAEDvu7RAAAAAYFHBtEAAAACAs8a0QAAAAKAVzLRAAAAAwHfRtEAAAADg2da0QAAAAAA83LRAAAAAIJ7htEAAAABAAOe0QAAAAGBi7LRAAAAAgMTxtEAAAACgJve0QAAAAMCI/LRAAAAA4OoBtUAAAAAATQe1QAAAACCvDLVAAAAAQBEStUAAAABgcxe1QAAAAIDVHLVAAAAAoDcitUAAAADAmSe1QAAAAOD7LLVAAAAAAF4ytUAAAAAgwDe1QAAAAEAiPbVAAAAAYIRCtUAAAACA5ke1QAAAAKBITbVAAAAAwKpStUAAAADgDFi1QAAAAABvXbVAAAAAINFitUAAAABAM2i1QAAAAGCVbbVAAAAAgPdytUAAAACgWXi1QAAAAMC7fbVAAAAA4B2DtUAAAAAAgIi1QAAAACDijbVAAAAAQESTtUAAAABgppi1QAAAAIAInrVAAAAAoGqjtUAAAADAzKi1QAAAAOAurrVAAAAAAJGztUAAAAAg87i1QAAAAEBVvrVAAAAAYLfDtUAAAACAGcm1QAAAAKB7zrVAAAAAwN3TtUAAAADgP9m1QAAAAACi3rVAAAAAIATktUAAAABAZum1QAAAAGDI7rVAAAAAgCr0tUAAAACgjPm1QAAAAMDu/rVAAAAA4FAEtkAAAAAAswm2QAAAACAVD7ZAAAAAQHcUtkAAAABg2Rm2QAAAAIA7H7ZAAAAAoJ0ktkAAAADA/ym2QAAAAOBhL7ZAAAAAAMQ0tkAAAAAgJjq2QAAAAECIP7ZAAAAAYOpEtkAAAACATEq2QAAAAKCuT7ZAAAAAwBBVtkAAAADgclq2QAAAAADVX7ZAAAAAIDdltkAAAABAmWq2QAAAAGD7b7ZAAAAAgF11tkAAAACgv3q2QAAAAMAhgLZAAAAA4IOFtkAAAAAA5oq2QAAAACBIkLZAAAAAQKqVtkAAAABgDJu2QAAAAIBuoLZAAAAAoNCltkAAAADAMqu2QAAAAOCUsLZAAAAAAPe1tkAAAAAgWbu2QAAAAEC7wLZAAAAAYB3GtkAAAACAf8u2QAAAAKDh0LZAAAAAwEPWtkAAAADgpdu2QAAAAAAI4bZAAAAAIGrmtkAAAABAzOu2QAAAAGAu8bZAAAAAgJD2tkAAAACg8vu2QAAAAMBUAbdAAAAA4LYGt0AAAAAAGQy3QAAAACB7EbdAAAAAQN0Wt0AAAABgPxy3QAAAAIChIbdAAAAAoAMnt0AAAADAZSy3QAAAAODHMbdAAAAAACo3t0AAAAAgjDy3QAAAAEDuQbdAAAAAYFBHt0AAAACAsky3QAAAAKAUUrdAAAAAwHZXt0AAAADg2Fy3QAAAAAA7YrdAAAAAIJ1nt0AAAABA/2y3QAAAAGBhcrdAAAAAgMN3t0AAAACgJX23QAAAAMCHgrdAAAAA4OmHt0AAAAAATI23QAAAACCukrdAAAAAQBCYt0AAAABgcp23QAAAAIDUordAAAAAoDaot0AAAADAmK23QAAAAOD6srdAAAAAAF24t0AAAAAgv723QAAAAEAhw7dAAAAAYIPIt0AAAACA5c23QAAAAKBH07dAAAAAwKnYt0AAAADgC963QAAAAABu47dAAAAAINDot0AAAABAMu63QAAAAGCU87dAAAAAgPb4t0AAAACgWP63QAAAAMC6A7hAAAAA4BwJuEAAAAAAfw64QAAAACDhE7hAAAAAQEMZuEAAAABgpR64QAAAAIAHJLhAAAAAoGkpuEAAAADAyy64QAAAAOAtNLhAAAAAAJA5uEAAAAAg8j64QAAAAEBURLhAAAAAYLZJuEAAAACAGE+4QAAAAKB6VLhAAAAAwNxZuEAAAADgPl+4QAAAAAChZLhAAAAAIANquEAAAABAZW+4QAAAAGDHdLhAAAAAgCl6uEAAAACgi3+4QAAAAMDthLhAAAAA4E+KuEAAAAAAso+4QAAAACAUlbhAAAAAQHaauEAAAABg2J+4QAAAAIA6pbhAAAAAoJyquEAAAADA/q+4QAAAAOBgtbhAAAAAAMO6uEAAAAAgJcC4QAAAAECHxbhAAAAAYOnKuEAAAACAS9C4QAAAAKCt1bhAAAAAwA/buEAAAADgceC4QAAAAADU5bhAAAAAIDbruEAAAABAmPC4QAAAAGD69bhAAAAAgFz7uEAAAACgvgC5QAAAAMAgBrlAAAAA4IILuUAAAAAA5RC5QAAAACBHFrlAAAAAQKkbuUAAAABgCyG5QAAAAIBtJrlAAAAAoM8ruUAAAADAMTG5QAAAAOCTNrlAAAAAAPY7uUAAAAAgWEG5QAAAAEC6RrlAAAAAYBxMuUAAAACAflG5QAAAAKDgVrlAAAAAwEJcuUAAAADgpGG5QAAAAAAHZ7lAAAAAIGlsuUAAAABAy3G5QAAAAGAtd7lAAAAAgI98uUAAAACg8YG5QAAAAMBTh7lAAAAA4LWMuUAAAAAAGJK5QAAAACB6l7lAAAAAQNycuUAAAABgPqK5QAAAAICgp7lAAAAAoAKtuUAAAADAZLK5QAAAAODGt7lAAAAAACm9uUAAAAAgi8K5QAAAAEDtx7lAAAAAYE/NuUAAAACAsdK5QAAAAKAT2LlAAAAAwHXduUAAAADg1+K5QAAAAAA66LlAAAAAIJztuUAAAABA/vK5QAAAAGBg+LlAAAAAgML9uUAAAACgJAO6QAAAAMCGCLpAAAAA4OgNukAAAAAASxO6QAAAACCtGLpAAAAAQA8eukAAAABgcSO6QAAAAIDTKLpAAAAAoDUuukAAAADAlzO6QAAAAOD5OLpAAAAAAFw+ukAAAAAgvkO6QAAAAEAgSbpAAAAAYIJOukAAAACA5FO6QAAAAKBGWbpAAAAAwKheukAAAADgCmS6QAAAAABtabpAAAAAIM9uukAAAABAMXS6QAAAAGCTebpAAAAAgPV+ukAAAACgV4S6QAAAAMC5ibpAAAAA4BuPukAAAAAAfpS6QAAAACDgmbpAAAAAQEKfukAAAABgpKS6QAAAAIAGqrpAAAAAoGivukAAAADAyrS6QAAAAOAsurpAAAAAAI+/ukAAAAAg8cS6QAAAAEBTyrpAAAAAYLXPukAAAACAF9W6QAAAAKB52rpAAAAAwNvfukAAAADgPeW6QAAAAACg6rpAAAAAIALwukAAAABAZPW6QAAAAGDG+rpAAAAAgCgAu0AAAACgigW7QAAAAMDsCrtAAAAA4E4Qu0AAAAAAsRW7QAAAACATG7tAAAAAQHUgu0AAAABg1yW7QAAAAIA5K7tAAAAAoJswu0AAAADA/TW7QAAAAOBfO7tAAAAAAMJAu0AAAAAgJEa7QAAAAECGS7tAAAAAYOhQu0AAAACASla7QAAAAKCsW7tAAAAAwA5hu0AAAADgcGa7QAAAAADTa7tAAAAAIDVxu0AAAABAl3a7QAAAAGD5e7tAAAAAgFuBu0AAAACgvYa7QAAAAMAfjLtAAAAA4IGRu0AAAAAA5Ja7QAAAACBGnLtAAAAAQKihu0AAAABgCqe7QAAAAIBsrLtAAAAAoM6xu0AAAADAMLe7QAAAAOCSvLtAAAAAAPXBu0AAAAAgV8e7QAAAAEC5zLtAAAAAYBvSu0AAAACAfde7QAAAAKDf3LtAAAAAwEHiu0AAAADgo+e7QAAAAAAG7btAAAAAIGjyu0AAAABAyve7QAAAAGAs/btAAAAAgI4CvEAAAACg8Ae8QAAAAMBSDbxAAAAA4LQSvEAAAAAAFxi8QAAAACB5HbxAAAAAQNsivEAAAABgPSi8QAAAAICfLbxAAAAAoAEzvEAAAADAYzi8QAAAAODFPbxAAAAAAChDvEAAAAAgiki8QAAAAEDsTbxAAAAAYE5TvEAAAACAsFi8QAAAAKASXrxAAAAAwHRjvEAAAADg1mi8QAAAAAA5brxAAAAAIJtzvEAAAABA/Xi8QAAAAGBffrxAAAAAgMGDvEAAAACgI4m8QAAAAMCFjrxAAAAA4OeTvEAAAAAASpm8QAAAACCsnrxAAAAAQA6kvEAAAABgcKm8QAAAAIDSrrxAAAAAoDS0vEAAAADAlrm8QAAAAOD4vrxAAAAAAFvEvEAAAAAgvcm8QAAAAEAfz7xAAAAAYIHUvEAAAACA49m8QAAAAKBF37xAAAAAwKfkvEAAAADgCeq8QAAAAABs77xAAAAAIM70vEAAAABAMPq8QAAAAGCS/7xAAAAAgPQEvUAAAACgVgq9QAAAAMC4D71AAAAA4BoVvUAAAAAAfRq9QAAAACDfH71AAAAAQEElvUAAAABgoyq9QAAAAIAFML1AAAAAoGc1vUAAAADAyTq9QAAAAOArQL1AAAAAAI5FvUAAAAAg8Eq9QAAAAEBSUL1AAAAAYLRVvUAAAACAFlu9QAAAAKB4YL1AAAAAwNplvUAAAADgPGu9QAAAAACfcL1AAAAAIAF2vUAAAABAY3u9QAAAAGDFgL1AAAAAgCeGvUAAAACgiYu9QAAAAMDrkL1AAAAA4E2WvUAAAAAAsJu9QAAAACASob1AAAAAQHSmvUAAAABg1qu9QAAAAIA4sb1AAAAAoJq2vUAAAADA/Lu9QAAAAOBewb1AAAAAAMHGvUAAAAAgI8y9QAAAAECF0b1AAAAAYOfWvUAAAACASdy9QAAAAKCr4b1AAAAAwA3nvUAAAADgb+y9QAAAAADS8b1AAAAAIDT3vUAAAABAlvy9QAAAAGD4Ab5AAAAAgFoHvkAAAACgvAy+QAAAAMAeEr5AAAAA4IAXvkAAAAAA4xy+QAAAACBFIr5AAAAAQKcnvkAAAABgCS2+QAAAAIBrMr5AAAAAoM03vkAAAADALz2+QAAAAOCRQr5AAAAAAPRHvkAAAAAgVk2+QAAAAEC4Ur5AAAAAYBpYvkAAAACAfF2+QAAAAKDeYr5AAAAAwEBovkAAAADgom2+QAAAAAAFc75AAAAAIGd4vkAAAABAyX2+QAAAAGArg75AAAAAgI2IvkAAAACg742+QAAAAMBRk75AAAAA4LOYvkAAAAAAFp6+QAAAACB4o75AAAAAQNqovkAAAABgPK6+QAAAAICes75AAAAAoAC5vkAAAADAYr6+QAAAAODEw75AAAAAACfJvkAAAAAgic6+QAAAAEDr075AAAAAYE3ZvkAAAACAr96+QAAAAKAR5L5AAAAAwHPpvkAAAADg1e6+QAAAAAA49L5AAAAAIJr5vkAAAABA/P6+QAAAAGBeBL9AAAAAgMAJv0AAAACgIg+/QAAAAMCEFL9AAAAA4OYZv0AAAAAASR+/QAAAACCrJL9AAAAAQA0qv0AAAABgby+/QAAAAIDRNL9AAAAAoDM6v0AAAADAlT+/QAAAAOD3RL9AAAAAAFpKv0AAAAAgvE+/QAAAAEAeVb9AAAAAYIBav0AAAACA4l+/QAAAAKBEZb9AAAAAwKZqv0AAAADgCHC/QAAAAABrdb9AAAAAIM16v0AAAABAL4C/QAAAAGCRhb9AAAAAgPOKv0AAAACgVZC/QAAAAMC3lb9AAAAA4Bmbv0AAAAAAfKC/QAAAACDepb9AAAAAQECrv0AAAABgorC/QAAAAIAEtr9AAAAAoGa7v0AAAADAyMC/QAAAAOAqxr9AAAAAAI3Lv0AAAAAg79C/QAAAAEBR1r9AAAAAYLPbv0AAAACAFeG/QAAAAKB35r9AAAAAwNnrv0AAAADgO/G/QAAAAACe9r9AAAAAIAD8v0AAAAAgsQDAQAAAADBiA8BAAAAAQBMGwEAAAABQxAjAQAAAAGB1C8BAAAAAcCYOwEAAAACA1xDAQAAAAJCIE8BAAAAAoDkWwEAAAACw6hjAQAAAAMCbG8BAAAAA0EwewEAAAADg/SDAQAAAAPCuI8BAAAAAAGAmwEAAAAAQESnAQAAAACDCK8BAAAAAMHMuwEAAAABAJDHAQAAAAFDVM8BAAAAAYIY2wEAAAABwNznAQAAAAIDoO8BAAAAAkJk+wEAAAACgSkHAQAAAALD7Q8BAAAAAwKxGwEAAAADQXUnAQAAAAOAOTMBAAAAA8L9OwEAAAAAAcVHAQAAAABAiVMBAAAAAINNWwEAAAAAwhFnAQAAAAEA1XMBAAAAAUOZewEAAAABgl2HAQAAAAHBIZMBAAAAAgPlmwEAAAACQqmnAQAAAAKBbbMBAAAAAsAxvwEAAAADAvXHAQAAAANBudMBAAAAA4B93wEAAAADw0HnAQAAAAACCfMBAAAAAEDN/wEAAAAAg5IHAQAAAADCVhMBAAAAAQEaHwEAAAABQ94nAQAAAAGCojMBAAAAAcFmPwEAAAACACpLAQAAAAJC7lMBAAAAAoGyXwEAAAACwHZrAQAAAAMDOnMBAAAAA0H+fwEAAAADgMKLAQAAAAPDhpMBAAAAAAJOnwEAAAAAQRKrAQAAAACD1rMBAAAAAMKavwEAAAABAV7LAQAAAAFAItcBAAAAAYLm3wEAAAABwarrAQAAAAIAbvcBAAAAAkMy/wEAAAACgfcLAQAAAALAuxcBAAAAAwN/HwEAAAADQkMrAQAAAAOBBzcBAAAAA8PLPwEAAAAAApNLAQAAAABBV1cBAAAAAIAbYwEAAAAAwt9rAQAAAAEBo3cBAAAAAUBngwEAAAABgyuLAQAAAAHB75cBAAAAAgCzowEAAAACQ3erAQAAAAKCO7cBAAAAAsD/wwEAAAADA8PLAQAAAANCh9cBAAAAA4FL4wEAAAADwA/vAQAAAAAC1/cBAAAAAEGYAwUAAAAAgFwPBQAAAADDIBcFAAAAAQHkIwUAAAABQKgvBQAAAAGDbDcFAAAAAcIwQwUAAAACAPRPBQAAAAJDuFcFAAAAAoJ8YwUAAAACwUBvBQAAAAMABHsFAAAAA0LIgwUAAAADgYyPBQAAAAPAUJsFAAAAAAMYowUAAAAAQdyvBQAAAACAoLsFAAAAAMNkwwUAAAABAijPBQAAAAFA7NsFAAAAAYOw4wUAAAABwnTvBQAAAAIBOPsFAAAAAkP9AwUAAAACgsEPBQAAAALBhRsFAAAAAwBJJwUAAAADQw0vBQAAAAOB0TsFAAAAA8CVRwUAAAAAA11PBQAAAABCIVsFAAAAAIDlZwUAAAAAw6lvBQAAAAECbXsFAAAAAUExhwUAAAABg/WPBQAAAAHCuZsFAAAAAgF9pwUAAAACQEGzBQAAAAKDBbsFAAAAAsHJxwUAAAADAI3TBQAAAANDUdsFAAAAA4IV5wUAAAADwNnzBQAAAAADofsFAAAAAEJmBwUAAAAAgSoTBQAAAADD7hsFAAAAAQKyJwUAAAABQXYzBQAAAAGAOj8FAAAAAcL+RwUAAAACAcJTBQAAAAJAhl8FAAAAAoNKZwUAAAACwg5zBQAAAAMA0n8FAAAAA0OWhwUAAAADglqTBQAAAAPBHp8FAAAAAAPmpwUAAAAAQqqzBQAAAACBbr8FAAAAAMAyywUAAAABAvbTBQAAAAFBut8FAAAAAYB+6wUAAAABw0LzBQAAAAICBv8FAAAAAkDLCwUAAAACg48TBQAAAALCUx8FAAAAAwEXKwUAAAADQ9szBQAAAAOCnz8FAAAAA8FjSwUAAAAAACtXBQAAAABC718FAAAAAIGzawUAAAAAwHd3BQAAAAEDO38FAAAAAUH/iwUAAAABgMOXBQAAAAHDh58FAAAAAgJLqwUAAAACQQ+3BQAAAAKD078FAAAAAsKXywUAAAADAVvXBQAAAANAH+MFAAAAA4Lj6wUAAAADwaf3BQAAAAAAbAMJAAAAAEMwCwkAAAAAgfQXCQAAAADAuCMJAAAAAQN8KwkAAAABQkA3CQAAAAGBBEMJAAAAAcPISwkAAAACAoxXCQAAAAJBUGMJAAAAAoAUbwkAAAACwth3CQAAAAMBnIMJAAAAA0BgjwkAAAADgySXCQAAAAPB6KMJAAAAAACwrwkAAAAAQ3S3CQAAAACCOMMJAAAAAMD8zwkAAAABA8DXCQAAAAFChOMJAAAAAYFI7wkAAAABwAz7CQAAAAIC0QMJAAAAAkGVDwkAAAACgFkbCQAAAALDHSMJAAAAAwHhLwkAAAADQKU7CQAAAAODaUMJAAAAA8ItTwkAAAAAAPVbCQAAAABDuWMJAAAAAIJ9bwkAAAAAwUF7CQAAAAEABYcJAAAAAULJjwkAAAABgY2bCQAAAAHAUacJAAAAAgMVrwkAAAACQdm7CQAAAAKAnccJAAAAAsNhzwkAAAADAiXbCQAAAANA6ecJAAAAA4Ot7wkAAAADwnH7CQAAAAABOgcJAAAAAEP+DwkAAAAAgsIbCQAAAADBhicJAAAAAQBKMwkAAAABQw47CQAAAAGB0kcJAAAAAcCWUwkAAAACA1pbCQAAAAJCHmcJAAAAAoDicwkAAAACw6Z7CQAAAAMCaocJAAAAA0EukwkAAAADg/KbCQAAAAPCtqcJAAAAAAF+swkAAAAAQEK/CQAAAACDBscJAAAAAMHK0wkAAAABAI7fCQAAAAFDUucJAAAAAYIW8wkAAAABwNr/CQAAAAIDnwcJAAAAAkJjEwkAAAACgScfCQAAAALD6ycJAAAAAwKvMwkAAAADQXM/CQAAAAOAN0sJAAAAA8L7UwkAAAAAAcNfCQAAAABAh2sJAAAAAINLcwkAAAAAwg9/CQAAAAEA04sJAAAAAUOXkwkAAAABglufCQAAAAHBH6sJAAAAAgPjswkAAAACQqe/CQAAAAKBa8sJAAAAAsAv1wkAAAADAvPfCQAAAANBt+sJAAAAA4B79wkAAAADwz//CQAAAAACBAsNAAAAAEDIFw0AAAAAg4wfDQAAAADCUCsNAAAAAQEUNw0AAAABQ9g/DQAAAAGCnEsNAAAAAcFgVw0AAAACACRjDQAAAAJC6GsNAAAAAoGsdw0AAAACwHCDDQAAAAMDNIsNAAAAA0H4lw0AAAADgLyjDQAAAAPDgKsNAAAAAAJItw0AAAAAQQzDDQAAAACD0MsNAAAAAMKU1w0AAAABAVjjDQAAAAFAHO8NAAAAAYLg9w0AAAABwaUDDQAAAAIAaQ8NAAAAAkMtFw0AAAACgfEjDQAAAALAtS8NAAAAAwN5Nw0AAAADQj1DDQAAAAOBAU8NAAAAA8PFVw0AAAAAAo1jDQAAAABBUW8NAAAAAIAVew0AAAAAwtmDDQAAAAEBnY8NAAAAAUBhmw0AAAABgyWjDQAAAAHB6a8NAAAAAgCtuw0AAAACQ3HDDQAAAAKCNc8NAAAAAsD52w0AAAADA73jDQAAAANCge8NAAAAA4FF+w0AAAADwAoHDQAAAAAC0g8NAAAAAEGWGw0AAAAAgFonDQAAAADDHi8NAAAAAQHiOw0AAAABQKZHDQAAAAGDak8NAAAAAcIuWw0AAAACAPJnDQAAAAJDtm8NAAAAAoJ6ew0AAAACwT6HDQAAAAMAApMNAAAAA0LGmw0AAAADgYqnDQAAAAPATrMNAAAAAAMWuw0AAAAAQdrHDQAAAACAntMNAAAAAMNi2w0AAAABAibnDQAAAAFA6vMNAAAAAYOu+w0AAAABwnMHDQAAAAIBNxMNAAAAAkP7Gw0AAAACgr8nDQAAAALBgzMNAAAAAwBHPw0AAAADQwtHDQAAAAOBz1MNAAAAA8CTXw0AAAAAA1tnDQAAAABCH3MNAAAAAIDjfw0AAAAAw6eHDQAAAAECa5MNAAAAAUEvnw0AAAABg/OnDQAAAAHCt7MNAAAAAgF7vw0AAAACQD/LDQAAAAKDA9MNAAAAAsHH3w0AAAADAIvrDQAAAANDT/MNAAAAA4IT/w0AAAADwNQLEQAAAAADnBMRAAAAAEJgHxEAAAAAgSQrEQAAAADD6DMRAAAAAQKsPxEAAAABQXBLEQAAAAGANFcRAAAAAcL4XxEAAAACAbxrEQAAAAJAgHcRAAAAAoNEfxEAAAACwgiLEQAAAAMAzJcRAAAAA0OQnxEAAAADglSrEQAAAAPBGLcRAAAAAAPgvxEAAAAAQqTLEQAAAACBaNcRAAAAAMAs4xEAAAABAvDrEQAAAAFBtPcRAAAAAYB5AxEAAAABwz0LEQAAAAICARcRAAAAAkDFIxEAAAACg4krEQAAAALCTTcRAAAAAwERQxEAAAADQ9VLEQAAAAOCmVcRAAAAA8FdYxEAAAAAACVvEQAAAABC6XcRAAAAAIGtgxEAAAAAwHGPEQAAAAEDNZcRAAAAAUH5oxEAAAABgL2vEQAAAAHDgbcRAAAAAgJFwxEAAAACQQnPEQAAAAKDzdcRAAAAAsKR4xEAAAADAVXvEQAAAANAGfsRAAAAA4LeAxEAAAADwaIPEQAAAAAAahsRAAAAAEMuIxEAAAAAgfIvEQAAAADAtjsRAAAAAQN6QxEAAAABQj5PEQAAAAGBAlsRAAAAAcPGYxEAAAACAopvEQAAAAJBTnsRAAAAAoAShxEAAAACwtaPEQAAAAMBmpsRAAAAA0BepxEAAAADgyKvEQAAAAPB5rsRAAAAAACuxxEAAAAAQ3LPEQAAAACCNtsRAAAAAMD65xEAAAABA77vEQAAAAFCgvsRAAAAAYFHBxEAAAABwAsTEQAAAAICzxsRAAAAAkGTJxEAAAACgFczEQAAAALDGzsRAAAAAwHfRxEAAAADQKNTEQAAAAODZ1sRAAAAA8IrZxEAAAAAAPNzEQAAAABDt3sRAAAAAIJ7hxEAAAAAwT+TEQAAAAEAA58RAAAAAULHpxEAAAABgYuzEQAAAAHAT78RAAAAAgMTxxEAAAACQdfTEQAAAAKAm98RAAAAAsNf5xEAAAADAiPzEQAAAANA5/8RAAAAA4OoBxUAAAADwmwTFQAAAAABNB8VAAAAAEP4JxUAAAAAgrwzFQAAAADBgD8VAAAAAQBESxUAAAABQwhTFQAAAAGBzF8VAAAAAcCQaxUAAAACA1RzFQAAAAJCGH8VAAAAAoDcixUAAAACw6CTFQAAAAMCZJ8VAAAAA0EoqxUAAAADg+yzFQAAAAPCsL8VAAAAAAF4yxUAAAAAQDzXFQAAAACDAN8VAAAAAMHE6xUAAAABAIj3FQAAAAFDTP8VAAAAAYIRCxUAAAABwNUXFQAAAAIDmR8VAAAAAkJdKxUAAAACgSE3FQAAAALD5T8VAAAAAwKpSxUAAAADQW1XFQAAAAOAMWMVAAAAA8L1axUAAAAAAb13FQAAAABAgYMVAAAAAINFixUAAAAAwgmXFQAAAAEAzaMVAAAAAUORqxUAAAABglW3FQAAAAHBGcMVAAAAAgPdyxUAAAACQqHXFQAAAAKBZeMVAAAAAsAp7xUAAAADAu33FQAAAANBsgMVAAAAA4B2DxUAAAADwzoXFQAAAAACAiMVAAAAAEDGLxUAAAAAg4o3FQAAAADCTkMVAAAAAQESTxUAAAABQ9ZXFQAAAAGCmmMVAAAAAcFebxUAAAACACJ7FQAAAAJC5oMVAAAAAoGqjxUAAAACwG6bFQAAAAMDMqMVAAAAA0H2rxUAAAADgLq7FQAAAAPDfsMVAAAAAAJGzxUAAAAAQQrbFQAAAACDzuMVAAAAAMKS7xUAAAABAVb7FQAAAAFAGwcVAAAAAYLfDxUAAAABwaMbFQAAAAIAZycVAAAAAkMrLxUAAAACge87FQAAAALAs0cVAAAAAwN3TxUAAAADQjtbFQAAAAOA/2cVAAAAA8PDbxUAAAAAAot7FQAAAABBT4cVAAAAAIATkxUAAAAAwtebFQAAAAEBm6cVAAAAAUBfsxUAAAABgyO7FQAAAAHB58cVAAAAAgCr0xUAAAACQ2/bFQAAAAKCM+cVAAAAAsD38xUAAAADA7v7FQAAAANCfAcZAAAAA4FAExkAAAADwAQfGQAAAAACzCcZAAAAAEGQMxkAAAAAgFQ/GQAAAADDGEcZAAAAAQHcUxkAAAABQKBfGQAAAAGDZGcZAAAAAcIocxkAAAACAOx/GQAAAAJDsIcZAAAAAoJ0kxkAAAACwTifGQAAAAMD/KcZAAAAA0LAsxkAAAADgYS/GQAAAAPASMsZAAAAAAMQ0xkAAAAAQdTfGQAAAACAmOsZAAAAAMNc8xkAAAABAiD/GQAAAAFA5QsZAAAAAYOpExkAAAABwm0fGQAAAAIBMSsZAAAAAkP1MxkAAAACgrk/GQAAAALBfUsZAAAAAwBBVxkAAAADQwVfGQAAAAOByWsZAAAAA8CNdxkAAAAAA1V/GQAAAABCGYsZAAAAAIDdlxkAAAAAw6GfGQAAAAECZasZAAAAAUEptxkAAAABg+2/GQAAAAHCscsZAAAAAgF11xkAAAACQDnjGQAAAAKC/esZAAAAAsHB9xkAAAADAIYDGQAAAANDSgsZAAAAA4IOFxkAAAADwNIjGQAAAAADmisZAAAAAEJeNxkAAAAAgSJDGQAAAADD5ksZAAAAAQKqVxkAAAABQW5jGQAAAAGAMm8ZAAAAAcL2dxkAAAACAbqDGQAAAAJAfo8ZAAAAAoNClxkAAAACwgajGQAAAAMAyq8ZAAAAA0OOtxkAAAADglLDGQAAAAPBFs8ZAAAAAAPe1xkAAAAAQqLjGQAAAACBZu8ZAAAAAMAq+xkAAAABAu8DGQAAAAFBsw8ZAAAAAYB3GxkAAAABwzsjGQAAAAIB/y8ZAAAAAkDDOxkAAAACg4dDGQAAAALCS08ZAAAAAwEPWxkAAAADQ9NjGQAAAAOCl28ZAAAAA8FbexkAAAAAACOHGQAAAABC548ZAAAAAIGrmxkAAAAAwG+nGQAAAAEDM68ZAAAAAUH3uxkAAAABgLvHGQAAAAHDf88ZAAAAAgJD2xkAAAACQQfnGQAAAAKDy+8ZAAAAAsKP+xkAAAADAVAHHQAAAANAFBMdAAAAA4LYGx0AAAADwZwnHQAAAAAAZDMdAAAAAEMoOx0AAAAAgexHHQAAAADAsFMdAAAAAQN0Wx0AAAABQjhnHQAAAAGA/HMdAAAAAcPAex0AAAACAoSHHQAAAAJBSJMdAAAAAoAMnx0AAAACwtCnHQAAAAMBlLMdAAAAA0BYvx0AAAADgxzHHQAAAAPB4NMdAAAAAACo3x0AAAAAQ2znHQAAAACCMPMdAAAAAMD0/x0AAAABA7kHHQAAAAFCfRMdAAAAAYFBHx0AAAABwAUrHQAAAAICyTMdAAAAAkGNPx0AAAACgFFLHQAAAALDFVMdAAAAAwHZXx0AAAADQJ1rHQAAAAODYXMdAAAAA8Ilfx0AAAAAAO2LHQAAAABDsZMdAAAAAIJ1nx0AAAAAwTmrHQAAAAED/bMdAAAAAULBvx0AAAABgYXLHQAAAAHASdcdAAAAAgMN3x0AAAACQdHrHQAAAAKAlfcdAAAAAsNZ/x0AAAADAh4LHQAAAANA4hcdAAAAA4OmHx0AAAADwmorHQAAAAABMjcdAAAAAEP2Px0AAAAAgrpLHQAAAADBflcdAAAAAQBCYx0AAAABQwZrHQAAAAGByncdAAAAAcCOgx0AAAACA1KLHQAAAAJCFpcdAAAAAoDaox0AAAACw56rHQAAAAMCYrcdAAAAA0Emwx0AAAADg+rLHQAAAAPCrtcdAAAAAAF24x0AAAAAQDrvHQAAAACC/vcdAAAAAMHDAx0AAAABAIcPHQAAAAFDSxcdAAAAAYIPIx0AAAABwNMvHQAAAAIDlzcdAAAAAkJbQx0AAAACgR9PHQAAAALD41cdAAAAAwKnYx0AAAADQWtvHQAAAAOAL3sdAAAAA8Lzgx0AAAAAAbuPHQAAAABAf5sdAAAAAINDox0AAAAAwgevHQAAAAEAy7sdAAAAAUOPwx0AAAABglPPHQAAAAHBF9sdAAAAAgPb4x0AAAACQp/vHQAAAAKBY/sdAAAAAsAkByEAAAADAugPIQAAAANBrBshAAAAA4BwJyEAAAADwzQvIQAAAAAB/DshAAAAAEDARyEAAAAAg4RPIQAAAADCSFshAAAAAQEMZyEAAAABQ9BvIQAAAAGClHshAAAAAcFYhyEAAAACAByTIQAAAAJC4JshAAAAAoGkpyEAAAACwGizIQAAAAMDLLshAAAAA0HwxyEAAAADgLTTIQAAAAPDeNshAAAAAAJA5yEAAAAAQQTzIQAAAACDyPshAAAAAMKNByEAAAABAVETIQAAAAFAFR8hAAAAAYLZJyEAAAABwZ0zIQAAAAIAYT8hAAAAAkMlRyEAAAACgelTIQAAAALArV8hAAAAAwNxZyEAAAADQjVzIQAAAAOA+X8hAAAAA8O9hyEAAAAAAoWTIQAAAABBSZ8hAAAAAIANqyEAAAAAwtGzIQAAAAEBlb8hAAAAAUBZyyEAAAABgx3TIQAAAAHB4d8hAAAAAgCl6yEAAAACQ2nzIQAAAAKCLf8hAAAAAsDyCyEAAAADA7YTIQAAAANCeh8hAAAAA4E+KyEAAAADwAI3IQAAAAACyj8hAAAAAEGOSyEAAAAAgFJXIQAAAADDFl8hAAAAAQHaayEAAAABQJ53IQAAAAGDYn8hAAAAAcImiyEAAAACAOqXIQAAAAJDrp8hAAAAAoJyqyEAAAACwTa3IQAAAAMD+r8hAAAAA0K+yyEAAAADgYLXIQAAAAPARuMhAAAAAAMO6yEAAAAAQdL3IQAAAACAlwMhAAAAAMNbCyEAAAABAh8XIQAAAAFA4yMhAAAAAYOnKyEAAAABwms3IQAAAAIBL0MhAAAAAkPzSyEAAAACgrdXIQAAAALBe2MhAAAAAwA/byEAAAADQwN3IQAAAAOBx4MhAAAAA8CLjyEAAAAAA1OXIQAAAABCF6MhAAAAAIDbryEAAAAAw5+3IQAAAAECY8MhAAAAAUEnzyEAAAABg+vXIQAAAAHCr+MhAAAAAgFz7yEAAAACQDf7IQAAAAKC+AMlAAAAAsG8DyUAAAADAIAbJQAAAANDRCMlAAAAA4IILyUAAAADwMw7JQAAAAADlEMlAAAAAEJYTyUAAAAAgRxbJQAAAADD4GMlAAAAAQKkbyUAAAABQWh7JQAAAAGALIclAAAAAcLwjyUAAAACAbSbJQAAAAJAeKclAAAAAoM8ryUAAAACwgC7JQAAAAMAxMclAAAAA0OIzyUAAAADgkzbJQAAAAPBEOclAAAAAAPY7yUAAAAAQpz7JQAAAACBYQclAAAAAMAlEyUAAAABAukbJQAAAAFBrSclAAAAAYBxMyUAAAABwzU7JQAAAAIB+UclAAAAAkC9UyUAAAACg4FbJQAAAALCRWclAAAAAwEJcyUAAAADQ817JQAAAAOCkYclAAAAA8FVkyUAAAAAAB2fJQAAAABC4aclAAAAAIGlsyUAAAAAwGm/JQAAAAEDLcclAAAAAUHx0yUAAAABgLXfJQAAAAHDeeclAAAAAgI98yUAAAACQQH/JQAAAAKDxgclAAAAAsKKEyUAAAADAU4fJQAAAANAEislAAAAA4LWMyUAAAADwZo/JQAAAAAAYkslAAAAAEMmUyUAAAAAgepfJQAAAADArmslAAAAAQNycyUAAAABQjZ/JQAAAAGA+oslAAAAAcO+kyUAAAACAoKfJQAAAAJBRqslAAAAAoAKtyUAAAACws6/JQAAAAMBksslAAAAA0BW1yUAAAADgxrfJQAAAAPB3uslAAAAAACm9yUAAAAAQ2r/JQAAAACCLwslAAAAAMDzFyUAAAABA7cfJQAAAAFCeyslAAAAAYE/NyUAAAABwANDJQAAAAICx0slAAAAAkGLVyUAAAACgE9jJQAAAALDE2slAAAAAwHXdyUAAAADQJuDJQAAAAODX4slAAAAA8IjlyUAAAAAAOujJQAAAABDr6slAAAAAIJztyUAAAAAwTfDJQAAAAED+8slAAAAAUK/1yUAAAABgYPjJQAAAAHAR+8lAAAAAgML9yUAAAACQcwDKQAAAAKAkA8pAAAAAsNUFykAAAADAhgjKQAAAANA3C8pAAAAA4OgNykAAAADwmRDKQAAAAABLE8pAAAAAEPwVykAAAAAgrRjKQAAAADBeG8pAAAAAQA8eykAAAABQwCDKQAAAAGBxI8pAAAAAcCImykAAAACA0yjKQAAAAJCEK8pAAAAAoDUuykAAAACw5jDKQAAAAMCXM8pAAAAA0Eg2ykAAAADg+TjKQAAAAPCqO8pAAAAAAFw+ykAAAAAQDUHKQAAAACC+Q8pAAAAAMG9GykAAAABAIEnKQAAAAFDRS8pAAAAAYIJOykAAAABwM1HKQAAAAIDkU8pAAAAAkJVWykAAAACgRlnKQAAAALD3W8pAAAAAwKheykAAAADQWWHKQAAAAOAKZMpAAAAA8LtmykAAAAAAbWnKQAAAABAebMpAAAAAIM9uykAAAAAwgHHKQAAAAEAxdMpAAAAAUOJ2ykAAAABgk3nKQAAAAHBEfMpAAAAAgPV+ykAAAACQpoHKQAAAAKBXhMpAAAAAsAiHykAAAADAuYnKQAAAANBqjMpAAAAA4BuPykAAAADwzJHKQAAAAAB+lMpAAAAAEC+XykAAAAAg4JnKQAAAADCRnMpAAAAAQEKfykAAAABQ86HKQAAAAGCkpMpAAAAAcFWnykAAAACABqrKQAAAAJC3rMpAAAAAoGivykAAAACwGbLKQAAAAMDKtMpAAAAA0Hu3ykAAAADgLLrKQAAAAPDdvMpAAAAAAI+/ykAAAAAQQMLKQAAAACDxxMpAAAAAMKLHykAAAABAU8rKQAAAAFAEzcpAAAAAYLXPykAAAABwZtLKQAAAAIAX1cpAAAAAkMjXykAAAACgedrKQAAAALAq3cpAAAAAwNvfykAAAADQjOLKQAAAAOA95cpAAAAA8O7nykAAAAAAoOrKQAAAABBR7cpAAAAAIALwykAAAAAws/LKQAAAAEBk9cpAAAAAUBX4ykAAAABgxvrKQAAAAHB3/cpAAAAAgCgAy0AAAACQ2QLLQAAAAKCKBctAAAAAsDsIy0AAAADA7ArLQAAAANCdDctAAAAA4E4Qy0AAAADw/xLLQAAAAACxFctAAAAAEGIYy0AAAAAgExvLQAAAADDEHctAAAAAQHUgy0AAAABQJiPLQAAAAGDXJctAAAAAcIgoy0AAAACAOSvLQAAAAJDqLctAAAAAoJswy0AAAACwTDPLQAAAAMD9NctAAAAA0K44y0AAAADgXzvLQAAAAPAQPstAAAAAAMJAy0AAAAAQc0PLQAAAACAkRstAAAAAMNVIy0AAAABAhkvLQAAAAFA3TstAAAAAYOhQy0AAAABwmVPLQAAAAIBKVstAAAAAkPtYy0AAAACgrFvLQAAAALBdXstAAAAAwA5hy0AAAADQv2PLQAAAAOBwZstAAAAA8CFpy0AAAAAA02vLQAAAABCEbstAAAAAIDVxy0AAAAAw5nPLQAAAAECXdstAAAAAUEh5y0AAAABg+XvLQAAAAHCqfstAAAAAgFuBy0AAAACQDITLQAAAAKC9hstAAAAAsG6Jy0AAAADAH4zLQAAAANDQjstAAAAA4IGRy0AAAADwMpTLQAAAAADklstAAAAAEJWZy0AAAAAgRpzLQAAAADD3nstAAAAAQKihy0AAAABQWaTLQAAAAGAKp8tAAAAAcLupy0AAAACAbKzLQAAAAJAdr8tAAAAAoM6xy0AAAACwf7TLQAAAAMAwt8tAAAAA0OG5y0AAAADgkrzLQAAAAPBDv8tAAAAAAPXBy0AAAAAQpsTLQAAAACBXx8tAAAAAMAjKy0AAAABAuczLQAAAAFBqz8tAAAAAYBvSy0AAAABwzNTLQAAAAIB918tAAAAAkC7ay0AAAACg39zLQAAAALCQ38tAAAAAwEHiy0AAAADQ8uTLQAAAAOCj58tAAAAA8FTqy0AAAAAABu3LQAAAABC378tAAAAAIGjyy0AAAAAwGfXLQAAAAEDK98tAAAAAUHv6y0AAAABgLP3LQAAAAHDd/8tAAAAAgI4CzEAAAACQPwXMQAAAAKDwB8xAAAAAsKEKzEAAAADAUg3MQAAAANADEMxAAAAA4LQSzEAAAADwZRXMQAAAAAAXGMxAAAAAEMgazEAAAAAgeR3MQAAAADAqIMxAAAAAQNsizEAAAABQjCXMQAAAAGA9KMxAAAAAcO4qzEAAAACAny3MQAAAAJBQMMxAAAAAoAEzzEAAAACwsjXMQAAAAMBjOMxAAAAA0BQ7zEAAAADgxT3MQAAAAPB2QMxAAAAAAChDzEAAAAAQ2UXMQAAAACCKSMxAAAAAMDtLzEAAAABA7E3MQAAAAFCdUMxAAAAAYE5TzEAAAABw/1XMQAAAAICwWMxAAAAAkGFbzEAAAACgEl7MQAAAALDDYMxAAAAAwHRjzEAAAADQJWbMQAAAAODWaMxAAAAA8IdrzEAAAAAAOW7MQAAAABDqcMxAAAAAIJtzzEAAAAAwTHbMQAAAAED9eMxAAAAAUK57zEAAAABgX37MQAAAAHAQgcxAAAAAgMGDzEAAAACQcobMQAAAAKAjicxAAAAAsNSLzEAAAADAhY7MQAAAANA2kcxAAAAA4OeTzEAAAADwmJbMQAAAAABKmcxAAAAAEPubzEAAAAAgrJ7MQAAAADBdocxAAAAAQA6kzEAAAABQv6bMQAAAAGBwqcxAAAAAcCGszEAAAACA0q7MQAAAAJCDscxAAAAAoDS0zEAAAACw5bbMQAAAAMCWucxAAAAA0Ee8zEAAAADg+L7MQAAAAPCpwcxAAAAAAFvEzEAAAAAQDMfMQAAAACC9ycxAAAAAMG7MzEAAAABAH8/MQAAAAFDQ0cxAAAAAYIHUzEAAAABwMtfMQAAAAIDj2cxAAAAAkJTczEAAAACgRd/MQAAAALD24cxAAAAAwKfkzEAAAADQWOfMQAAAAOAJ6sxAAAAA8LrszEAAAAAAbO/MQAAAABAd8sxAAAAAIM70zEAAAAAwf/fMQAAAAEAw+sxAAAAAUOH8zEAAAABgkv/MQAAAAHBDAs1AAAAAgPQEzUAAAACQpQfNQAAAAKBWCs1AAAAAsAcNzUAAAADAuA/NQAAAANBpEs1AAAAA4BoVzUAAAADwyxfNQAAAAAB9Gs1AAAAAEC4dzUAAAAAg3x/NQAAAADCQIs1AAAAAQEElzUAAAABQ8ifNQAAAAGCjKs1AAAAAcFQtzUAAAACABTDNQAAAAJC2Ms1AAAAAoGc1zUAAAACwGDjNQAAAAMDJOs1AAAAA0Ho9zUAAAADgK0DNQAAAAPDcQs1AAAAAAI5FzUAAAAAQP0jNQAAAACDwSs1AAAAAMKFNzUAAAABAUlDNQAAAAFADU81AAAAAYLRVzUAAAABwZVjNQAAAAIAWW81AAAAAkMddzUAAAACgeGDNQAAAALApY81AAAAAwNplzUAAAADQi2jNQAAAAOA8a81AAAAA8O1tzUAAAAAAn3DNQAAAABBQc81AAAAAIAF2zUAAAAAwsnjNQAAAAEBje81AAAAAUBR+zUAAAABgxYDNQAAAAHB2g81AAAAAgCeGzUAAAACQ2IjNQAAAAKCJi81AAAAAsDqOzUAAAADA65DNQAAAANCck81AAAAA4E2WzUAAAADw/pjNQAAAAACwm81AAAAAEGGezUAAAAAgEqHNQAAAADDDo81AAAAAQHSmzUAAAABQJanNQAAAAGDWq81AAAAAcIeuzUAAAACAOLHNQAAAAJDps81AAAAAoJq2zUAAAACwS7nNQAAAAMD8u81AAAAA0K2+zUAAAADgXsHNQAAAAPAPxM1AAAAAAMHGzUAAAAAQcsnNQAAAACAjzM1AAAAAMNTOzUAAAABAhdHNQAAAAFA21M1AAAAAYOfWzUAAAABwmNnNQAAAAIBJ3M1AAAAAkPrezUAAAACgq+HNQAAAALBc5M1AAAAAwA3nzUAAAADQvunNQAAAAOBv7M1AAAAA8CDvzUAAAAAA0vHNQAAAABCD9M1AAAAAIDT3zUAAAAAw5fnNQAAAAECW/M1AAAAAUEf/zUAAAABg+AHOQAAAAHCpBM5AAAAAgFoHzkAAAACQCwrOQAAAAKC8DM5AAAAAsG0PzkAAAADAHhLOQAAAANDPFM5AAAAA4IAXzkAAAADwMRrOQAAAAADjHM5AAAAAEJQfzkAAAAAgRSLOQAAAADD2JM5AAAAAQKcnzkAAAABQWCrOQAAAAGAJLc5AAAAAcLovzkAAAACAazLOQAAAAJAcNc5AAAAAoM03zkAAAACwfjrOQAAAAMAvPc5AAAAA0OA/zkAAAADgkULOQAAAAPBCRc5AAAAAAPRHzkAAAAAQpUrOQAAAACBWTc5AAAAAMAdQzkAAAABAuFLOQAAAAFBpVc5AAAAAYBpYzkAAAABwy1rOQAAAAIB8Xc5AAAAAkC1gzkAAAACg3mLOQAAAALCPZc5AAAAAwEBozkAAAADQ8WrOQAAAAOCibc5AAAAA8FNwzkAAAAAABXPOQAAAABC2dc5AAAAAIGd4zkAAAAAwGHvOQAAAAEDJfc5AAAAAUHqAzkAAAABgK4POQAAAAHDchc5AAAAAgI2IzkAAAACQPovOQAAAAKDvjc5AAAAAsKCQzkAAAADAUZPOQAAAANACls5AAAAA4LOYzkAAAADwZJvOQAAAAAAWns5AAAAAEMegzkAAAAAgeKPOQAAAADApps5AAAAAQNqozkAAAABQi6vOQAAAAGA8rs5AAAAAcO2wzkAAAACAnrPOQAAAAJBPts5AAAAAoAC5zkAAAACwsbvOQAAAAMBivs5AAAAA0BPBzkAAAADgxMPOQAAAAPB1xs5AAAAAACfJzkAAAAAQ2MvOQAAAACCJzs5AAAAAMDrRzkAAAABA69POQAAAAFCc1s5AAAAAYE3ZzkAAAABw/tvOQAAAAICv3s5AAAAAkGDhzkAAAACgEeTOQAAAALDC5s5AAAAAwHPpzkAAAADQJOzOQAAAAODV7s5AAAAA8IbxzkAAAAAAOPTOQAAAABDp9s5AAAAAIJr5zkAAAAAwS/zOQAAAAED8/s5AAAAAUK0Bz0AAAABgXgTPQAAAAHAPB89AAAAAgMAJz0AAAACQcQzPQAAAAKAiD89AAAAAsNMRz0AAAADAhBTPQAAAANA1F89AAAAA4OYZz0AAAADwlxzPQAAAAABJH89AAAAAEPohz0AAAAAgqyTPQAAAADBcJ89AAAAAQA0qz0AAAABQvizPQAAAAGBvL89AAAAAcCAyz0AAAACA0TTPQAAAAJCCN89AAAAAoDM6z0AAAACw5DzPQAAAAMCVP89AAAAA0EZCz0AAAADg90TPQAAAAPCoR89AAAAAAFpKz0AAAAAQC03PQAAAACC8T89AAAAAMG1Sz0AAAABAHlXPQAAAAFDPV89AAAAAYIBaz0AAAABwMV3PQAAAAIDiX89AAAAAkJNiz0AAAACgRGXPQAAAALD1Z89AAAAAwKZqz0AAAADQV23PQAAAAOAIcM9AAAAA8Llyz0AAAAAAa3XPQAAAABAceM9AAAAAIM16z0AAAAAwfn3PQAAAAEAvgM9AAAAAUOCCz0AAAABgkYXPQAAAAHBCiM9AAAAAgPOKz0AAAACQpI3PQAAAAKBVkM9AAAAAsAaTz0AAAADAt5XPQAAAANBomM9AAAAA4Bmbz0AAAADwyp3PQAAAAAB8oM9AAAAAEC2jz0AAAAAg3qXPQAAAADCPqM9AAAAAQECrz0AAAABQ8a3PQAAAAGCisM9AAAAAcFOzz0AAAACABLbPQAAAAJC1uM9AAAAAoGa7z0AAAACwF77PQAAAAMDIwM9AAAAA0HnDz0AAAADgKsbPQAAAAPDbyM9AAAAAAI3Lz0AAAAAQPs7PQAAAACDv0M9AAAAAMKDTz0AAAABAUdbPQAAAAFAC2c9AAAAAYLPbz0AAAABwZN7PQAAAAIAV4c9AAAAAkMbjz0AAAACgd+bPQAAAALAo6c9AAAAAwNnrz0AAAADQiu7PQAAAAOA78c9AAAAA8Ozzz0AAAAAAnvbPQAAAABBP+c9AAAAAIAD8z0AAAAAwsf7PQAAAACCxANBAAAAAqAkC0EAAAAAwYgPQQAAAALi6BNBAAAAAQBMG0EAAAADIawfQQAAAAFDECNBAAAAA2BwK0EAAAABgdQvQQAAAAOjNDNBAAAAAcCYO0EAAAAD4fg/QQAAAAIDXENBAAAAACDAS0EAAAACQiBPQQAAAABjhFNBAAAAAoDkW0EAAAAAokhfQQAAAALDqGNBAAAAAOEMa0EAAAADAmxvQQAAAAEj0HNBAAAAA0Ewe0EAAAABYpR/QQAAAAOD9INBAAAAAaFYi0EAAAADwriPQQAAAAHgHJdBAAAAAAGAm0EAAAACIuCfQQAAAABARKdBAAAAAmGkq0EAAAAAgwivQQAAAAKgaLdBAAAAAMHMu0EAAAAC4yy/QQAAAAEAkMdBAAAAAyHwy0EAAAABQ1TPQQAAAANgtNdBAAAAAYIY20EAAAADo3jfQQAAAAHA3OdBAAAAA+I860EAAAACA6DvQQAAAAAhBPdBAAAAAkJk+0EAAAAAY8j/QQAAAAKBKQdBAAAAAKKNC0EAAAACw+0PQQAAAADhURdBAAAAAwKxG0EAAAABIBUjQQAAAANBdSdBAAAAAWLZK0EAAAADgDkzQQAAAAGhnTdBAAAAA8L9O0EAAAAB4GFDQQAAAAABxUdBAAAAAiMlS0EAAAAAQIlTQQAAAAJh6VdBAAAAAINNW0EAAAACoK1jQQAAAADCEWdBAAAAAuNxa0EAAAABANVzQQAAAAMiNXdBAAAAAUOZe0EAAAADYPmDQQAAAAGCXYdBAAAAA6O9i0EAAAABwSGTQQAAAAPigZdBAAAAAgPlm0EAAAAAIUmjQQAAAAJCqadBAAAAAGANr0EAAAACgW2zQQAAAACi0bdBAAAAAsAxv0EAAAAA4ZXDQQAAAAMC9cdBAAAAASBZz0EAAAADQbnTQQAAAAFjHddBAAAAA4B930EAAAABoeHjQQAAAAPDQedBAAAAAeCl70EAAAAAAgnzQQAAAAIjafdBAAAAAEDN/0EAAAACYi4DQQAAAACDkgdBAAAAAqDyD0EAAAAAwlYTQQAAAALjthdBAAAAAQEaH0EAAAADInojQQAAAAFD3idBAAAAA2E+L0EAAAABgqIzQQAAAAOgAjtBAAAAAcFmP0EAAAAD4sZDQQAAAAIAKktBAAAAACGOT0EAAAACQu5TQQAAAABgUltBAAAAAoGyX0EAAAAAoxZjQQAAAALAdmtBAAAAAOHab0EAAAADAzpzQQAAAAEgnntBAAAAA0H+f0EAAAABY2KDQQAAAAOAwotBAAAAAaImj0EAAAADw4aTQQAAAAHg6ptBAAAAAAJOn0EAAAACI66jQQAAAABBEqtBAAAAAmJyr0EAAAAAg9azQQAAAAKhNrtBAAAAAMKav0EAAAAC4/rDQQAAAAEBXstBAAAAAyK+z0EAAAABQCLXQQAAAANhgttBAAAAAYLm30EAAAADoEbnQQAAAAHBqutBAAAAA+MK70EAAAACAG73QQAAAAAh0vtBAAAAAkMy/0EAAAAAYJcHQQAAAAKB9wtBAAAAAKNbD0EAAAACwLsXQQAAAADiHxtBAAAAAwN/H0EAAAABIOMnQQAAAANCQytBAAAAAWOnL0EAAAADgQc3QQAAAAGiaztBAAAAA8PLP0EAAAAB4S9HQQAAAAACk0tBAAAAAiPzT0EAAAAAQVdXQQAAAAJit1tBAAAAAIAbY0EAAAACoXtnQQAAAADC32tBAAAAAuA/c0EAAAABAaN3QQAAAAMjA3tBAAAAAUBng0EAAAADYceHQQAAAAGDK4tBAAAAA6CLk0EAAAABwe+XQQAAAAPjT5tBAAAAAgCzo0EAAAAAIhenQQAAAAJDd6tBAAAAAGDbs0EAAAACgju3QQAAAACjn7tBAAAAAsD/w0EAAAAA4mPHQQAAAAMDw8tBAAAAASEn00EAAAADQofXQQAAAAFj69tBAAAAA4FL40EAAAABoq/nQQAAAAPAD+9BAAAAAeFz80EAAAAAAtf3QQAAAAIgN/9BAAAAAEGYA0UAAAACYvgHRQAAAACAXA9FAAAAAqG8E0UAAAAAwyAXRQAAAALggB9FAAAAAQHkI0UAAAADI0QnRQAAAAFAqC9FAAAAA2IIM0UAAAABg2w3RQAAAAOgzD9FAAAAAcIwQ0UAAAAD45BHRQAAAAIA9E9FAAAAACJYU0UAAAACQ7hXRQAAAABhHF9FAAAAAoJ8Y0UAAAAAo+BnRQAAAALBQG9FAAAAAOKkc0UAAAADAAR7RQAAAAEhaH9FAAAAA0LIg0UAAAABYCyLRQAAAAOBjI9FAAAAAaLwk0UAAAADwFCbRQAAAAHhtJ9FAAAAAAMYo0UAAAACIHirRQAAAABB3K9FAAAAAmM8s0UAAAAAgKC7RQAAAAKiAL9FAAAAAMNkw0UAAAAC4MTLRQAAAAECKM9FAAAAAyOI00UAAAABQOzbRQAAAANiTN9FAAAAAYOw40UAAAADoRDrRQAAAAHCdO9FAAAAA+PU80UAAAACATj7RQAAAAAinP9FAAAAAkP9A0UAAAAAYWELRQAAAAKCwQ9FAAAAAKAlF0UAAAACwYUbRQAAAADi6R9FAAAAAwBJJ0UAAAABIa0rRQAAAANDDS9FAAAAAWBxN0UAAAADgdE7RQAAAAGjNT9FAAAAA8CVR0UAAAAB4flLRQAAAAADXU9FAAAAAiC9V0UAAAAAQiFbRQAAAAJjgV9FAAAAAIDlZ0UAAAACokVrRQAAAADDqW9FAAAAAuEJd0UAAAABAm17RQAAAAMjzX9FAAAAAUExh0UAAAADYpGLRQAAAAGD9Y9FAAAAA6FVl0UAAAABwrmbRQAAAAPgGaNFAAAAAgF9p0UAAAAAIuGrRQAAAAJAQbNFAAAAAGGlt0UAAAACgwW7RQAAAACgacNFAAAAAsHJx0UAAAAA4y3LRQAAAAMAjdNFAAAAASHx10UAAAADQ1HbRQAAAAFgteNFAAAAA4IV50UAAAABo3nrRQAAAAPA2fNFAAAAAeI990UAAAAAA6H7RQAAAAIhAgNFAAAAAEJmB0UAAAACY8YLRQAAAACBKhNFAAAAAqKKF0UAAAAAw+4bRQAAAALhTiNFAAAAAQKyJ0UAAAADIBIvRQAAAAFBdjNFAAAAA2LWN0UAAAABgDo/RQAAAAOhmkNFAAAAAcL+R0UAAAAD4F5PRQAAAAIBwlNFAAAAACMmV0UAAAACQIZfRQAAAABh6mNFAAAAAoNKZ0UAAAAAoK5vRQAAAALCDnNFAAAAAONyd0UAAAADANJ/RQAAAAEiNoNFAAAAA0OWh0UAAAABYPqPRQAAAAOCWpNFAAAAAaO+l0UAAAADwR6fRQAAAAHigqNFAAAAAAPmp0UAAAACIUavRQAAAABCqrNFAAAAAmAKu0UAAAAAgW6/RQAAAAKizsNFAAAAAMAyy0UAAAAC4ZLPRQAAAAEC9tNFAAAAAyBW20UAAAABQbrfRQAAAANjGuNFAAAAAYB+60UAAAADod7vRQAAAAHDQvNFAAAAA+Ci+0UAAAACAgb/RQAAAAAjawNFAAAAAkDLC0UAAAAAYi8PRQAAAAKDjxNFAAAAAKDzG0UAAAACwlMfRQAAAADjtyNFAAAAAwEXK0UAAAABInsvRQAAAAND2zNFAAAAAWE/O0UAAAADgp8/RQAAAAGgA0dFAAAAA8FjS0UAAAAB4sdPRQAAAAAAK1dFAAAAAiGLW0UAAAAAQu9fRQAAAAJgT2dFAAAAAIGza0UAAAACoxNvRQAAAADAd3dFAAAAAuHXe0UAAAABAzt/RQAAAAMgm4dFAAAAAUH/i0UAAAADY1+PRQAAAAGAw5dFAAAAA6Ijm0UAAAABw4efRQAAAAPg56dFAAAAAgJLq0UAAAAAI6+vRQAAAAJBD7dFAAAAAGJzu0UAAAACg9O/RQAAAAChN8dFAAAAAsKXy0UAAAAA4/vPRQAAAAMBW9dFAAAAASK/20UAAAADQB/jRQAAAAFhg+dFAAAAA4Lj60UAAAABoEfzRQAAAAPBp/dFAAAAAeML+0UAAAAAAGwDSQAAAAIhzAdJAAAAAEMwC0kAAAACYJATSQAAAACB9BdJAAAAAqNUG0kAAAAAwLgjSQAAAALiGCdJAAAAAQN8K0kAAAADINwzSQAAAAFCQDdJAAAAA2OgO0kAAAABgQRDSQAAAAOiZEdJAAAAAcPIS0kAAAAD4ShTSQAAAAICjFdJAAAAACPwW0kAAAACQVBjSQAAAABitGdJAAAAAoAUb0kAAAAAoXhzSQAAAALC2HdJAAAAAOA8f0kAAAADAZyDSQAAAAEjAIdJAAAAA0Bgj0kAAAABYcSTSQAAAAODJJdJAAAAAaCIn0kAAAADweijSQAAAAHjTKdJAAAAAACwr0kAAAACIhCzSQAAAABDdLdJAAAAAmDUv0kAAAAAgjjDSQAAAAKjmMdJAAAAAMD8z0kAAAAC4lzTSQAAAAEDwNdJAAAAAyEg30kAAAABQoTjSQAAAANj5OdJAAAAAYFI70kAAAADoqjzSQAAAAHADPtJAAAAA+Fs/0kAAAACAtEDSQAAAAAgNQtJAAAAAkGVD0kAAAAAYvkTSQAAAAKAWRtJAAAAAKG9H0kAAAACwx0jSQAAAADggStJAAAAAwHhL0kAAAABI0UzSQAAAANApTtJAAAAAWIJP0kAAAADg2lDSQAAAAGgzUtJAAAAA8ItT0kAAAAB45FTSQAAAAAA9VtJAAAAAiJVX0kAAAAAQ7ljSQAAAAJhGWtJAAAAAIJ9b0kAAAACo91zSQAAAADBQXtJAAAAAuKhf0kAAAABAAWHSQAAAAMhZYtJAAAAAULJj0kAAAADYCmXSQAAAAGBjZtJAAAAA6Ltn0kAAAABwFGnSQAAAAPhsatJAAAAAgMVr0kAAAAAIHm3SQAAAAJB2btJAAAAAGM9v0kAAAACgJ3HSQAAAACiActJAAAAAsNhz0kAAAAA4MXXSQAAAAMCJdtJAAAAASOJ30kAAAADQOnnSQAAAAFiTetJAAAAA4Ot70kAAAABoRH3SQAAAAPCcftJAAAAAePV/0kAAAAAAToHSQAAAAIimgtJAAAAAEP+D0kAAAACYV4XSQAAAACCwhtJAAAAAqAiI0kAAAAAwYYnSQAAAALi5itJAAAAAQBKM0kAAAADIao3SQAAAAFDDjtJAAAAA2BuQ0kAAAABgdJHSQAAAAOjMktJAAAAAcCWU0kAAAAD4fZXSQAAAAIDWltJAAAAACC+Y0kAAAACQh5nSQAAAABjgmtJAAAAAoDic0kAAAAAokZ3SQAAAALDpntJAAAAAOEKg0kAAAADAmqHSQAAAAEjzotJAAAAA0Euk0kAAAABYpKXSQAAAAOD8ptJAAAAAaFWo0kAAAADwranSQAAAAHgGq9JAAAAAAF+s0kAAAACIt63SQAAAABAQr9JAAAAAmGiw0kAAAAAgwbHSQAAAAKgZs9JAAAAAMHK00kAAAAC4yrXSQAAAAEAjt9JAAAAAyHu40kAAAABQ1LnSQAAAANgsu9JAAAAAYIW80kAAAADo3b3SQAAAAHA2v9JAAAAA+I7A0kAAAACA58HSQAAAAAhAw9JAAAAAkJjE0kAAAAAY8cXSQAAAAKBJx9JAAAAAKKLI0kAAAACw+snSQAAAADhTy9JAAAAAwKvM0kAAAABIBM7SQAAAANBcz9JAAAAAWLXQ0kAAAADgDdLSQAAAAGhm09JAAAAA8L7U0kAAAAB4F9bSQAAAAABw19JAAAAAiMjY0kAAAAAQIdrSQAAAAJh529JAAAAAINLc0kAAAACoKt7SQAAAADCD39JAAAAAuNvg0kAAAABANOLSQAAAAMiM49JAAAAAUOXk0kAAAADYPebSQAAAAGCW59JAAAAA6O7o0kAAAABwR+rSQAAAAPif69JAAAAAgPjs0kAAAAAIUe7SQAAAAJCp79JAAAAAGALx0kAAAACgWvLSQAAAACiz89JAAAAAsAv10kAAAAA4ZPbSQAAAAMC899JAAAAASBX50kAAAADQbfrSQAAAAFjG+9JAAAAA4B790kAAAABod/7SQAAAAPDP/9JAAAAAeCgB00AAAAAAgQLTQAAAAIjZA9NAAAAAEDIF00AAAACYigbTQAAAACDjB9NAAAAAqDsJ00AAAAAwlArTQAAAALjsC9NAAAAAQEUN00AAAADInQ7TQAAAAFD2D9NAAAAA2E4R00AAAABgpxLTQAAAAOj/E9NAAAAAcFgV00AAAAD4sBbTQAAAAIAJGNNAAAAACGIZ00AAAACQuhrTQAAAABgTHNNAAAAAoGsd00AAAAAoxB7TQAAAALAcINNAAAAAOHUh00AAAADAzSLTQAAAAEgmJNNAAAAA0H4l00AAAABY1ybTQAAAAOAvKNNAAAAAaIgp00AAAADw4CrTQAAAAHg5LNNAAAAAAJIt00AAAACI6i7TQAAAABBDMNNAAAAAmJsx00AAAAAg9DLTQAAAAKhMNNNAAAAAMKU100AAAAC4/TbTQAAAAEBWONNAAAAAyK4500AAAABQBzvTQAAAANhfPNNAAAAAYLg900AAAADoED/TQAAAAHBpQNNAAAAA+MFB00AAAACAGkPTQAAAAAhzRNNAAAAAkMtF00AAAAAYJEfTQAAAAKB8SNNAAAAAKNVJ00AAAACwLUvTQAAAADiGTNNAAAAAwN5N00AAAABIN0/TQAAAANCPUNNAAAAAWOhR00AAAADgQFPTQAAAAGiZVNNAAAAA8PFV00AAAAB4SlfTQAAAAACjWNNAAAAAiPtZ00AAAAAQVFvTQAAAAJisXNNAAAAAIAVe00AAAACoXV/TQAAAADC2YNNAAAAAuA5i00AAAABAZ2PTQAAAAMi/ZNNAAAAAUBhm00AAAADYcGfTQAAAAGDJaNNAAAAA6CFq00AAAABwemvTQAAAAPjSbNNAAAAAgCtu00AAAAAIhG/TQAAAAJDccNNAAAAAGDVy00AAAACgjXPTQAAAACjmdNNAAAAAsD5200AAAAA4l3fTQAAAAMDveNNAAAAASEh600AAAADQoHvTQAAAAFj5fNNAAAAA4FF+00AAAABoqn/TQAAAAPACgdNAAAAAeFuC00AAAAAAtIPTQAAAAIgMhdNAAAAAEGWG00AAAACYvYfTQAAAACAWidNAAAAAqG6K00AAAAAwx4vTQAAAALgfjdNAAAAAQHiO00AAAADI0I/TQAAAAFApkdNAAAAA2IGS00AAAABg2pPTQAAAAOgyldNAAAAAcIuW00AAAAD445fTQAAAAIA8mdNAAAAACJWa00AAAACQ7ZvTQAAAABhGndNAAAAAoJ6e00AAAAAo95/TQAAAALBPodNAAAAAOKii00AAAADAAKTTQAAAAEhZpdNAAAAA0LGm00AAAABYCqjTQAAAAOBiqdNAAAAAaLuq00AAAADwE6zTQAAAAHhsrdNAAAAAAMWu00AAAACIHbDTQAAAABB2sdNAAAAAmM6y00AAAAAgJ7TTQAAAAKh/tdNAAAAAMNi200AAAAC4MLjTQAAAAECJudNAAAAAyOG600AAAABQOrzTQAAAANiSvdNAAAAAYOu+00AAAADoQ8DTQAAAAHCcwdNAAAAA+PTC00AAAACATcTTQAAAAAimxdNAAAAAkP7G00AAAAAYV8jTQAAAAKCvydNAAAAAKAjL00AAAACwYMzTQAAAADi5zdNAAAAAwBHP00AAAABIatDTQAAAANDC0dNAAAAAWBvT00AAAADgc9TTQAAAAGjM1dNAAAAA8CTX00AAAAB4fdjTQAAAAADW2dNAAAAAiC7b00AAAAAQh9zTQAAAAJjf3dNAAAAAIDjf00AAAACokODTQAAAADDp4dNAAAAAuEHj00AAAABAmuTTQAAAAMjy5dNAAAAAUEvn00AAAADYo+jTQAAAAGD86dNAAAAA6FTr00AAAABwrezTQAAAAPgF7tNAAAAAgF7v00AAAAAIt/DTQAAAAJAP8tNAAAAAGGjz00AAAACgwPTTQAAAACgZ9tNAAAAAsHH300AAAAA4yvjTQAAAAMAi+tNAAAAASHv700AAAADQ0/zTQAAAAFgs/tNAAAAA4IT/00AAAABo3QDUQAAAAPA1AtRAAAAAeI4D1EAAAAAA5wTUQAAAAIg/BtRAAAAAEJgH1EAAAACY8AjUQAAAACBJCtRAAAAAqKEL1EAAAAAw+gzUQAAAALhSDtRAAAAAQKsP1EAAAADIAxHUQAAAAFBcEtRAAAAA2LQT1EAAAABgDRXUQAAAAOhlFtRAAAAAcL4X1EAAAAD4FhnUQAAAAIBvGtRAAAAACMgb1EAAAACQIB3UQAAAABh5HtRAAAAAoNEf1EAAAAAoKiHUQAAAALCCItRAAAAAONsj1EAAAADAMyXUQAAAAEiMJtRAAAAA0OQn1EAAAABYPSnUQAAAAOCVKtRAAAAAaO4r1EAAAADwRi3UQAAAAHifLtRAAAAAAPgv1EAAAACIUDHUQAAAABCpMtRAAAAAmAE01EAAAAAgWjXUQAAAAKiyNtRAAAAAMAs41EAAAAC4YznUQAAAAEC8OtRAAAAAyBQ81EAAAABQbT3UQAAAANjFPtRAAAAAYB5A1EAAAADodkHUQAAAAHDPQtRAAAAA+CdE1EAAAACAgEXUQAAAAAjZRtRAAAAAkDFI1EAAAAAYiknUQAAAAKDiStRAAAAAKDtM1EAAAACwk03UQAAAADjsTtRAAAAAwERQ1EAAAABInVHUQAAAAND1UtRAAAAAWE5U1EAAAADgplXUQAAAAGj/VtRAAAAA8FdY1EAAAAB4sFnUQAAAAAAJW9RAAAAAiGFc1EAAAAAQul3UQAAAAJgSX9RAAAAAIGtg1EAAAACow2HUQAAAADAcY9RAAAAAuHRk1EAAAABAzWXUQAAAAMglZ9RAAAAAUH5o1EAAAADY1mnUQAAAAGAva9RAAAAA6Ids1EAAAABw4G3UQAAAAPg4b9RAAAAAgJFw1EAAAAAI6nHUQAAAAJBCc9RAAAAAGJt01EAAAACg83XUQAAAAChMd9RAAAAAsKR41EAAAAA4/XnUQAAAAMBVe9RAAAAASK581EAAAADQBn7UQAAAAFhff9RAAAAA4LeA1EAAAABoEILUQAAAAPBog9RAAAAAeMGE1EAAAAAAGobUQAAAAIhyh9RAAAAAEMuI1EAAAACYI4rUQAAAACB8i9RAAAAAqNSM1EAAAAAwLY7UQAAAALiFj9RAAAAAQN6Q1EAAAADINpLUQAAAAFCPk9RAAAAA2OeU1EAAAABgQJbUQAAAAOiYl9RAAAAAcPGY1EAAAAD4SZrUQAAAAICim9RAAAAACPuc1EAAAACQU57UQAAAABisn9RAAAAAoASh1EAAAAAoXaLUQAAAALC1o9RAAAAAOA6l1EAAAADAZqbUQAAAAEi/p9RAAAAA0Bep1EAAAABYcKrUQAAAAODIq9RAAAAAaCGt1EAAAADwea7UQAAAAHjSr9RAAAAAACux1EAAAACIg7LUQAAAABDcs9RAAAAAmDS11EAAAAAgjbbUQAAAAKjlt9RAAAAAMD651EAAAAC4lrrUQAAAAEDvu9RAAAAAyEe91EAAAABQoL7UQAAAANj4v9RAAAAAYFHB1EAAAADoqcLUQAAAAHACxNRAAAAA+FrF1EAAAACAs8bUQAAAAAgMyNRAAAAAkGTJ1EAAAAAYvcrUQAAAAKAVzNRAAAAAKG7N1EAAAACwxs7UQAAAADgf0NRAAAAAwHfR1EAAAABI0NLUQAAAANAo1NRAAAAAWIHV1EAAAADg2dbUQAAAAGgy2NRAAAAA8IrZ1EAAAAB449rUQAAAAAA83NRAAAAAiJTd1EAAAAAQ7d7UQAAAAJhF4NRAAAAAIJ7h1EAAAACo9uLUQAAAADBP5NRAAAAAuKfl1EAAAABAAOfUQAAAAMhY6NRAAAAAULHp1EAAAADYCevUQAAAAGBi7NRAAAAA6Lrt1EAAAABwE+/UQAAAAPhr8NRAAAAAgMTx1EAAAAAIHfPUQAAAAJB19NRAAAAAGM711EAAAACgJvfUQAAAACh/+NRAAAAAsNf51EAAAAA4MPvUQAAAAMCI/NRAAAAASOH91EAAAADQOf/UQAAAAFiSANVAAAAA4OoB1UAAAABoQwPVQAAAAPCbBNVAAAAAePQF1UAAAAAATQfVQAAAAIilCNVAAAAAEP4J1UAAAACYVgvVQAAAACCvDNVAAAAAqAcO1UAAAAAwYA/VQAAAALi4ENVAAAAAQBES1UAAAADIaRPVQAAAAFDCFNVAAAAA2BoW1UAAAABgcxfVQAAAAOjLGNVAAAAAcCQa1UAAAAD4fBvVQAAAAIDVHNVAAAAACC4e1UAAAACQhh/VQAAAABjfINVAAAAAoDci1UAAAAAokCPVQAAAALDoJNVAAAAAOEEm1UAAAADAmSfVQAAAAEjyKNVAAAAA0Eoq1UAAAABYoyvVQAAAAOD7LNVAAAAAaFQu1UAAAADwrC/VQAAAAHgFMdVAAAAAAF4y1UAAAACItjPVQAAAABAPNdVAAAAAmGc21UAAAAAgwDfVQAAAAKgYOdVAAAAAMHE61UAAAAC4yTvVQAAAAEAiPdVAAAAAyHo+1UAAAABQ0z/VQAAAANgrQdVAAAAAYIRC1UAAAADo3EPVQAAAAHA1RdVAAAAA+I1G1UAAAACA5kfVQAAAAAg/SdVAAAAAkJdK1UAAAAAY8EvVQAAAAKBITdVAAAAAKKFO1UAAAACw+U/VQAAAADhSUdVAAAAAwKpS1UAAAABIA1TVQAAAANBbVdVAAAAAWLRW1UAAAADgDFjVQAAAAGhlWdVAAAAA8L1a1UAAAAB4FlzVQAAAAABvXdVAAAAAiMde1UAAAAAQIGDVQAAAAJh4YdVAAAAAINFi1UAAAACoKWTVQAAAADCCZdVAAAAAuNpm1UAAAABAM2jVQAAAAMiLadVAAAAAUORq1UAAAADYPGzVQAAAAGCVbdVAAAAA6O1u1UAAAABwRnDVQAAAAPiecdVAAAAAgPdy1UAAAAAIUHTVQAAAAJCoddVAAAAAGAF31UAAAACgWXjVQAAAACiyedVAAAAAsAp71UAAAAA4Y3zVQAAAAMC7fdVAAAAASBR/1UAAAADQbIDVQAAAAFjFgdVAAAAA4B2D1UAAAABodoTVQAAAAPDOhdVAAAAAeCeH1UAAAAAAgIjVQA==",
          "dtype": "f8"
         },
         "y": {
          "bdata": "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",
          "dtype": "f8"
         }
        }
       ],
       "layout": {
        "template": {
         "data": {
          "bar": [
           {
            "error_x": {
             "color": "#2a3f5f"
            },
            "error_y": {
             "color": "#2a3f5f"
            },
            "marker": {
             "line": {
              "color": "#E5ECF6",
              "width": 0.5
             },
             "pattern": {
              "fillmode": "overlay",
              "size": 10,
              "solidity": 0.2
             }
            },
            "type": "bar"
           }
          ],
          "barpolar": [
           {
            "marker": {
             "line": {
              "color": "#E5ECF6",
              "width": 0.5
             },
             "pattern": {
              "fillmode": "overlay",
              "size": 10,
              "solidity": 0.2
             }
            },
            "type": "barpolar"
           }
          ],
          "carpet": [
           {
            "aaxis": {
             "endlinecolor": "#2a3f5f",
             "gridcolor": "white",
             "linecolor": "white",
             "minorgridcolor": "white",
             "startlinecolor": "#2a3f5f"
            },
            "baxis": {
             "endlinecolor": "#2a3f5f",
             "gridcolor": "white",
             "linecolor": "white",
             "minorgridcolor": "white",
             "startlinecolor": "#2a3f5f"
            },
            "type": "carpet"
           }
          ],
          "choropleth": [
           {
            "colorbar": {
             "outlinewidth": 0,
             "ticks": ""
            },
            "type": "choropleth"
           }
          ],
          "contour": [
           {
            "colorbar": {
             "outlinewidth": 0,
             "ticks": ""
            },
            "colorscale": [
             [
              0,
              "#0d0887"
             ],
             [
              0.1111111111111111,
              "#46039f"
             ],
             [
              0.2222222222222222,
              "#7201a8"
             ],
             [
              0.3333333333333333,
              "#9c179e"
             ],
             [
              0.4444444444444444,
              "#bd3786"
             ],
             [
              0.5555555555555556,
              "#d8576b"
             ],
             [
              0.6666666666666666,
              "#ed7953"
             ],
             [
              0.7777777777777778,
              "#fb9f3a"
             ],
             [
              0.8888888888888888,
              "#fdca26"
             ],
             [
              1,
              "#f0f921"
             ]
            ],
            "type": "contour"
           }
          ],
          "contourcarpet": [
           {
            "colorbar": {
             "outlinewidth": 0,
             "ticks": ""
            },
            "type": "contourcarpet"
           }
          ],
          "heatmap": [
           {
            "colorbar": {
             "outlinewidth": 0,
             "ticks": ""
            },
            "colorscale": [
             [
              0,
              "#0d0887"
             ],
             [
              0.1111111111111111,
              "#46039f"
             ],
             [
              0.2222222222222222,
              "#7201a8"
             ],
             [
              0.3333333333333333,
              "#9c179e"
             ],
             [
              0.4444444444444444,
              "#bd3786"
             ],
             [
              0.5555555555555556,
              "#d8576b"
             ],
             [
              0.6666666666666666,
              "#ed7953"
             ],
             [
              0.7777777777777778,
              "#fb9f3a"
             ],
             [
              0.8888888888888888,
              "#fdca26"
             ],
             [
              1,
              "#f0f921"
             ]
            ],
            "type": "heatmap"
           }
          ],
          "histogram": [
           {
            "marker": {
             "pattern": {
              "fillmode": "overlay",
              "size": 10,
              "solidity": 0.2
             }
            },
            "type": "histogram"
           }
          ],
          "histogram2d": [
           {
            "colorbar": {
             "outlinewidth": 0,
             "ticks": ""
            },
            "colorscale": [
             [
              0,
              "#0d0887"
             ],
             [
              0.1111111111111111,
              "#46039f"
             ],
             [
              0.2222222222222222,
              "#7201a8"
             ],
             [
              0.3333333333333333,
              "#9c179e"
             ],
             [
              0.4444444444444444,
              "#bd3786"
             ],
             [
              0.5555555555555556,
              "#d8576b"
             ],
             [
              0.6666666666666666,
              "#ed7953"
             ],
             [
              0.7777777777777778,
              "#fb9f3a"
             ],
             [
              0.8888888888888888,
              "#fdca26"
             ],
             [
              1,
              "#f0f921"
             ]
            ],
            "type": "histogram2d"
           }
          ],
          "histogram2dcontour": [
           {
            "colorbar": {
             "outlinewidth": 0,
             "ticks": ""
            },
            "colorscale": [
             [
              0,
              "#0d0887"
             ],
             [
              0.1111111111111111,
              "#46039f"
             ],
             [
              0.2222222222222222,
              "#7201a8"
             ],
             [
              0.3333333333333333,
              "#9c179e"
             ],
             [
              0.4444444444444444,
              "#bd3786"
             ],
             [
              0.5555555555555556,
              "#d8576b"
             ],
             [
              0.6666666666666666,
              "#ed7953"
             ],
             [
              0.7777777777777778,
              "#fb9f3a"
             ],
             [
              0.8888888888888888,
              "#fdca26"
             ],
             [
              1,
              "#f0f921"
             ]
            ],
            "type": "histogram2dcontour"
           }
          ],
          "mesh3d": [
           {
            "colorbar": {
             "outlinewidth": 0,
             "ticks": ""
            },
            "type": "mesh3d"
           }
          ],
          "parcoords": [
           {
            "line": {
             "colorbar": {
              "outlinewidth": 0,
              "ticks": ""
             }
            },
            "type": "parcoords"
           }
          ],
          "pie": [
           {
            "automargin": true,
            "type": "pie"
           }
          ],
          "scatter": [
           {
            "fillpattern": {
             "fillmode": "overlay",
             "size": 10,
             "solidity": 0.2
            },
            "type": "scatter"
           }
          ],
          "scatter3d": [
           {
            "line": {
             "colorbar": {
              "outlinewidth": 0,
              "ticks": ""
             }
            },
            "marker": {
             "colorbar": {
              "outlinewidth": 0,
              "ticks": ""
             }
            },
            "type": "scatter3d"
           }
          ],
          "scattercarpet": [
           {
            "marker": {
             "colorbar": {
              "outlinewidth": 0,
              "ticks": ""
             }
            },
            "type": "scattercarpet"
           }
          ],
          "scattergeo": [
           {
            "marker": {
             "colorbar": {
              "outlinewidth": 0,
              "ticks": ""
             }
            },
            "type": "scattergeo"
           }
          ],
          "scattergl": [
           {
            "marker": {
             "colorbar": {
              "outlinewidth": 0,
              "ticks": ""
             }
            },
            "type": "scattergl"
           }
          ],
          "scattermap": [
           {
            "marker": {
             "colorbar": {
              "outlinewidth": 0,
              "ticks": ""
             }
            },
            "type": "scattermap"
           }
          ],
          "scattermapbox": [
           {
            "marker": {
             "colorbar": {
              "outlinewidth": 0,
              "ticks": ""
             }
            },
            "type": "scattermapbox"
           }
          ],
          "scatterpolar": [
           {
            "marker": {
             "colorbar": {
              "outlinewidth": 0,
              "ticks": ""
             }
            },
            "type": "scatterpolar"
           }
          ],
          "scatterpolargl": [
           {
            "marker": {
             "colorbar": {
              "outlinewidth": 0,
              "ticks": ""
             }
            },
            "type": "scatterpolargl"
           }
          ],
          "scatterternary": [
           {
            "marker": {
             "colorbar": {
              "outlinewidth": 0,
              "ticks": ""
             }
            },
            "type": "scatterternary"
           }
          ],
          "surface": [
           {
            "colorbar": {
             "outlinewidth": 0,
             "ticks": ""
            },
            "colorscale": [
             [
              0,
              "#0d0887"
             ],
             [
              0.1111111111111111,
              "#46039f"
             ],
             [
              0.2222222222222222,
              "#7201a8"
             ],
             [
              0.3333333333333333,
              "#9c179e"
             ],
             [
              0.4444444444444444,
              "#bd3786"
             ],
             [
              0.5555555555555556,
              "#d8576b"
             ],
             [
              0.6666666666666666,
              "#ed7953"
             ],
             [
              0.7777777777777778,
              "#fb9f3a"
             ],
             [
              0.8888888888888888,
              "#fdca26"
             ],
             [
              1,
              "#f0f921"
             ]
            ],
            "type": "surface"
           }
          ],
          "table": [
           {
            "cells": {
             "fill": {
              "color": "#EBF0F8"
             },
             "line": {
              "color": "white"
             }
            },
            "header": {
             "fill": {
              "color": "#C8D4E3"
             },
             "line": {
              "color": "white"
             }
            },
            "type": "table"
           }
          ]
         },
         "layout": {
          "annotationdefaults": {
           "arrowcolor": "#2a3f5f",
           "arrowhead": 0,
           "arrowwidth": 1
          },
          "autotypenumbers": "strict",
          "coloraxis": {
           "colorbar": {
            "outlinewidth": 0,
            "ticks": ""
           }
          },
          "colorscale": {
           "diverging": [
            [
             0,
             "#8e0152"
            ],
            [
             0.1,
             "#c51b7d"
            ],
            [
             0.2,
             "#de77ae"
            ],
            [
             0.3,
             "#f1b6da"
            ],
            [
             0.4,
             "#fde0ef"
            ],
            [
             0.5,
             "#f7f7f7"
            ],
            [
             0.6,
             "#e6f5d0"
            ],
            [
             0.7,
             "#b8e186"
            ],
            [
             0.8,
             "#7fbc41"
            ],
            [
             0.9,
             "#4d9221"
            ],
            [
             1,
             "#276419"
            ]
           ],
           "sequential": [
            [
             0,
             "#0d0887"
            ],
            [
             0.1111111111111111,
             "#46039f"
            ],
            [
             0.2222222222222222,
             "#7201a8"
            ],
            [
             0.3333333333333333,
             "#9c179e"
            ],
            [
             0.4444444444444444,
             "#bd3786"
            ],
            [
             0.5555555555555556,
             "#d8576b"
            ],
            [
             0.6666666666666666,
             "#ed7953"
            ],
            [
             0.7777777777777778,
             "#fb9f3a"
            ],
            [
             0.8888888888888888,
             "#fdca26"
            ],
            [
             1,
             "#f0f921"
            ]
           ],
           "sequentialminus": [
            [
             0,
             "#0d0887"
            ],
            [
             0.1111111111111111,
             "#46039f"
            ],
            [
             0.2222222222222222,
             "#7201a8"
            ],
            [
             0.3333333333333333,
             "#9c179e"
            ],
            [
             0.4444444444444444,
             "#bd3786"
            ],
            [
             0.5555555555555556,
             "#d8576b"
            ],
            [
             0.6666666666666666,
             "#ed7953"
            ],
            [
             0.7777777777777778,
             "#fb9f3a"
            ],
            [
             0.8888888888888888,
             "#fdca26"
            ],
            [
             1,
             "#f0f921"
            ]
           ]
          },
          "colorway": [
           "#636efa",
           "#EF553B",
           "#00cc96",
           "#ab63fa",
           "#FFA15A",
           "#19d3f3",
           "#FF6692",
           "#B6E880",
           "#FF97FF",
           "#FECB52"
          ],
          "font": {
           "color": "#2a3f5f"
          },
          "geo": {
           "bgcolor": "white",
           "lakecolor": "white",
           "landcolor": "#E5ECF6",
           "showlakes": true,
           "showland": true,
           "subunitcolor": "white"
          },
          "hoverlabel": {
           "align": "left"
          },
          "hovermode": "closest",
          "mapbox": {
           "style": "light"
          },
          "paper_bgcolor": "white",
          "plot_bgcolor": "#E5ECF6",
          "polar": {
           "angularaxis": {
            "gridcolor": "white",
            "linecolor": "white",
            "ticks": ""
           },
           "bgcolor": "#E5ECF6",
           "radialaxis": {
            "gridcolor": "white",
            "linecolor": "white",
            "ticks": ""
           }
          },
          "scene": {
           "xaxis": {
            "backgroundcolor": "#E5ECF6",
            "gridcolor": "white",
            "gridwidth": 2,
            "linecolor": "white",
            "showbackground": true,
            "ticks": "",
            "zerolinecolor": "white"
           },
           "yaxis": {
            "backgroundcolor": "#E5ECF6",
            "gridcolor": "white",
            "gridwidth": 2,
            "linecolor": "white",
            "showbackground": true,
            "ticks": "",
            "zerolinecolor": "white"
           },
           "zaxis": {
            "backgroundcolor": "#E5ECF6",
            "gridcolor": "white",
            "gridwidth": 2,
            "linecolor": "white",
            "showbackground": true,
            "ticks": "",
            "zerolinecolor": "white"
           }
          },
          "shapedefaults": {
           "line": {
            "color": "#2a3f5f"
           }
          },
          "ternary": {
           "aaxis": {
            "gridcolor": "white",
            "linecolor": "white",
            "ticks": ""
           },
           "baxis": {
            "gridcolor": "white",
            "linecolor": "white",
            "ticks": ""
           },
           "bgcolor": "#E5ECF6",
           "caxis": {
            "gridcolor": "white",
            "linecolor": "white",
            "ticks": ""
           }
          },
          "title": {
           "x": 0.05
          },
          "xaxis": {
           "automargin": true,
           "gridcolor": "white",
           "linecolor": "white",
           "ticks": "",
           "title": {
            "standoff": 15
           },
           "zerolinecolor": "white",
           "zerolinewidth": 2
          },
          "yaxis": {
           "automargin": true,
           "gridcolor": "white",
           "linecolor": "white",
           "ticks": "",
           "title": {
            "standoff": 15
           },
           "zerolinecolor": "white",
           "zerolinewidth": 2
          }
         }
        },
        "yaxis": {
         "type": "log"
        }
       }
      }
     },
     "metadata": {},
     "output_type": "display_data"
    }
   ],
   "source": [
    "def plt_spectrum(z, t_start1=0.763):\n",
    "    from util import plot_spectrum_at\n",
    "    from scipy import signal\n",
    "    windows_len = 8192\n",
    "    ff, tt, S = signal.spectrogram(z, 44100, nperseg=windows_len, noverlap=windows_len/2)\n",
    "    plot_spectrum_at(ff, tt, S, t_start1)\n",
    "\n",
    "plt_spectrum(ref)"
   ]
  },
  {
   "cell_type": "code",
   "execution_count": 54,
   "metadata": {},
   "outputs": [
    {
     "data": {
      "application/vnd.plotly.v1+json": {
       "config": {
        "linkText": "Export to plot.ly",
        "plotlyServerURL": "https://plot.ly",
        "showLink": false
       },
       "data": [
        {
         "line": {
          "color": "#1f77b4",
          "shape": "linear"
         },
         "mode": "lines",
         "name": "Reference",
         "type": "scatter",
         "x": {
          "bdata": "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",
          "dtype": "f8"
         },
         "y": {
          "bdata": "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",
          "dtype": "f8"
         }
        },
        {
         "line": {
          "color": "#ff7f0e",
          "shape": "linear"
         },
         "mode": "lines",
         "name": "Synthesized",
         "type": "scatter",
         "x": {
          "bdata": "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",
          "dtype": "f8"
         },
         "y": {
          "bdata": "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",
          "dtype": "f8"
         }
        }
       ],
       "layout": {
        "template": {
         "data": {
          "bar": [
           {
            "error_x": {
             "color": "#2a3f5f"
            },
            "error_y": {
             "color": "#2a3f5f"
            },
            "marker": {
             "line": {
              "color": "#E5ECF6",
              "width": 0.5
             },
             "pattern": {
              "fillmode": "overlay",
              "size": 10,
              "solidity": 0.2
             }
            },
            "type": "bar"
           }
          ],
          "barpolar": [
           {
            "marker": {
             "line": {
              "color": "#E5ECF6",
              "width": 0.5
             },
             "pattern": {
              "fillmode": "overlay",
              "size": 10,
              "solidity": 0.2
             }
            },
            "type": "barpolar"
           }
          ],
          "carpet": [
           {
            "aaxis": {
             "endlinecolor": "#2a3f5f",
             "gridcolor": "white",
             "linecolor": "white",
             "minorgridcolor": "white",
             "startlinecolor": "#2a3f5f"
            },
            "baxis": {
             "endlinecolor": "#2a3f5f",
             "gridcolor": "white",
             "linecolor": "white",
             "minorgridcolor": "white",
             "startlinecolor": "#2a3f5f"
            },
            "type": "carpet"
           }
          ],
          "choropleth": [
           {
            "colorbar": {
             "outlinewidth": 0,
             "ticks": ""
            },
            "type": "choropleth"
           }
          ],
          "contour": [
           {
            "colorbar": {
             "outlinewidth": 0,
             "ticks": ""
            },
            "colorscale": [
             [
              0,
              "#0d0887"
             ],
             [
              0.1111111111111111,
              "#46039f"
             ],
             [
              0.2222222222222222,
              "#7201a8"
             ],
             [
              0.3333333333333333,
              "#9c179e"
             ],
             [
              0.4444444444444444,
              "#bd3786"
             ],
             [
              0.5555555555555556,
              "#d8576b"
             ],
             [
              0.6666666666666666,
              "#ed7953"
             ],
             [
              0.7777777777777778,
              "#fb9f3a"
             ],
             [
              0.8888888888888888,
              "#fdca26"
             ],
             [
              1,
              "#f0f921"
             ]
            ],
            "type": "contour"
           }
          ],
          "contourcarpet": [
           {
            "colorbar": {
             "outlinewidth": 0,
             "ticks": ""
            },
            "type": "contourcarpet"
           }
          ],
          "heatmap": [
           {
            "colorbar": {
             "outlinewidth": 0,
             "ticks": ""
            },
            "colorscale": [
             [
              0,
              "#0d0887"
             ],
             [
              0.1111111111111111,
              "#46039f"
             ],
             [
              0.2222222222222222,
              "#7201a8"
             ],
             [
              0.3333333333333333,
              "#9c179e"
             ],
             [
              0.4444444444444444,
              "#bd3786"
             ],
             [
              0.5555555555555556,
              "#d8576b"
             ],
             [
              0.6666666666666666,
              "#ed7953"
             ],
             [
              0.7777777777777778,
              "#fb9f3a"
             ],
             [
              0.8888888888888888,
              "#fdca26"
             ],
             [
              1,
              "#f0f921"
             ]
            ],
            "type": "heatmap"
           }
          ],
          "histogram": [
           {
            "marker": {
             "pattern": {
              "fillmode": "overlay",
              "size": 10,
              "solidity": 0.2
             }
            },
            "type": "histogram"
           }
          ],
          "histogram2d": [
           {
            "colorbar": {
             "outlinewidth": 0,
             "ticks": ""
            },
            "colorscale": [
             [
              0,
              "#0d0887"
             ],
             [
              0.1111111111111111,
              "#46039f"
             ],
             [
              0.2222222222222222,
              "#7201a8"
             ],
             [
              0.3333333333333333,
              "#9c179e"
             ],
             [
              0.4444444444444444,
              "#bd3786"
             ],
             [
              0.5555555555555556,
              "#d8576b"
             ],
             [
              0.6666666666666666,
              "#ed7953"
             ],
             [
              0.7777777777777778,
              "#fb9f3a"
             ],
             [
              0.8888888888888888,
              "#fdca26"
             ],
             [
              1,
              "#f0f921"
             ]
            ],
            "type": "histogram2d"
           }
          ],
          "histogram2dcontour": [
           {
            "colorbar": {
             "outlinewidth": 0,
             "ticks": ""
            },
            "colorscale": [
             [
              0,
              "#0d0887"
             ],
             [
              0.1111111111111111,
              "#46039f"
             ],
             [
              0.2222222222222222,
              "#7201a8"
             ],
             [
              0.3333333333333333,
              "#9c179e"
             ],
             [
              0.4444444444444444,
              "#bd3786"
             ],
             [
              0.5555555555555556,
              "#d8576b"
             ],
             [
              0.6666666666666666,
              "#ed7953"
             ],
             [
              0.7777777777777778,
              "#fb9f3a"
             ],
             [
              0.8888888888888888,
              "#fdca26"
             ],
             [
              1,
              "#f0f921"
             ]
            ],
            "type": "histogram2dcontour"
           }
          ],
          "mesh3d": [
           {
            "colorbar": {
             "outlinewidth": 0,
             "ticks": ""
            },
            "type": "mesh3d"
           }
          ],
          "parcoords": [
           {
            "line": {
             "colorbar": {
              "outlinewidth": 0,
              "ticks": ""
             }
            },
            "type": "parcoords"
           }
          ],
          "pie": [
           {
            "automargin": true,
            "type": "pie"
           }
          ],
          "scatter": [
           {
            "fillpattern": {
             "fillmode": "overlay",
             "size": 10,
             "solidity": 0.2
            },
            "type": "scatter"
           }
          ],
          "scatter3d": [
           {
            "line": {
             "colorbar": {
              "outlinewidth": 0,
              "ticks": ""
             }
            },
            "marker": {
             "colorbar": {
              "outlinewidth": 0,
              "ticks": ""
             }
            },
            "type": "scatter3d"
           }
          ],
          "scattercarpet": [
           {
            "marker": {
             "colorbar": {
              "outlinewidth": 0,
              "ticks": ""
             }
            },
            "type": "scattercarpet"
           }
          ],
          "scattergeo": [
           {
            "marker": {
             "colorbar": {
              "outlinewidth": 0,
              "ticks": ""
             }
            },
            "type": "scattergeo"
           }
          ],
          "scattergl": [
           {
            "marker": {
             "colorbar": {
              "outlinewidth": 0,
              "ticks": ""
             }
            },
            "type": "scattergl"
           }
          ],
          "scattermap": [
           {
            "marker": {
             "colorbar": {
              "outlinewidth": 0,
              "ticks": ""
             }
            },
            "type": "scattermap"
           }
          ],
          "scattermapbox": [
           {
            "marker": {
             "colorbar": {
              "outlinewidth": 0,
              "ticks": ""
             }
            },
            "type": "scattermapbox"
           }
          ],
          "scatterpolar": [
           {
            "marker": {
             "colorbar": {
              "outlinewidth": 0,
              "ticks": ""
             }
            },
            "type": "scatterpolar"
           }
          ],
          "scatterpolargl": [
           {
            "marker": {
             "colorbar": {
              "outlinewidth": 0,
              "ticks": ""
             }
            },
            "type": "scatterpolargl"
           }
          ],
          "scatterternary": [
           {
            "marker": {
             "colorbar": {
              "outlinewidth": 0,
              "ticks": ""
             }
            },
            "type": "scatterternary"
           }
          ],
          "surface": [
           {
            "colorbar": {
             "outlinewidth": 0,
             "ticks": ""
            },
            "colorscale": [
             [
              0,
              "#0d0887"
             ],
             [
              0.1111111111111111,
              "#46039f"
             ],
             [
              0.2222222222222222,
              "#7201a8"
             ],
             [
              0.3333333333333333,
              "#9c179e"
             ],
             [
              0.4444444444444444,
              "#bd3786"
             ],
             [
              0.5555555555555556,
              "#d8576b"
             ],
             [
              0.6666666666666666,
              "#ed7953"
             ],
             [
              0.7777777777777778,
              "#fb9f3a"
             ],
             [
              0.8888888888888888,
              "#fdca26"
             ],
             [
              1,
              "#f0f921"
             ]
            ],
            "type": "surface"
           }
          ],
          "table": [
           {
            "cells": {
             "fill": {
              "color": "#EBF0F8"
             },
             "line": {
              "color": "white"
             }
            },
            "header": {
             "fill": {
              "color": "#C8D4E3"
             },
             "line": {
              "color": "white"
             }
            },
            "type": "table"
           }
          ]
         },
         "layout": {
          "annotationdefaults": {
           "arrowcolor": "#2a3f5f",
           "arrowhead": 0,
           "arrowwidth": 1
          },
          "autotypenumbers": "strict",
          "coloraxis": {
           "colorbar": {
            "outlinewidth": 0,
            "ticks": ""
           }
          },
          "colorscale": {
           "diverging": [
            [
             0,
             "#8e0152"
            ],
            [
             0.1,
             "#c51b7d"
            ],
            [
             0.2,
             "#de77ae"
            ],
            [
             0.3,
             "#f1b6da"
            ],
            [
             0.4,
             "#fde0ef"
            ],
            [
             0.5,
             "#f7f7f7"
            ],
            [
             0.6,
             "#e6f5d0"
            ],
            [
             0.7,
             "#b8e186"
            ],
            [
             0.8,
             "#7fbc41"
            ],
            [
             0.9,
             "#4d9221"
            ],
            [
             1,
             "#276419"
            ]
           ],
           "sequential": [
            [
             0,
             "#0d0887"
            ],
            [
             0.1111111111111111,
             "#46039f"
            ],
            [
             0.2222222222222222,
             "#7201a8"
            ],
            [
             0.3333333333333333,
             "#9c179e"
            ],
            [
             0.4444444444444444,
             "#bd3786"
            ],
            [
             0.5555555555555556,
             "#d8576b"
            ],
            [
             0.6666666666666666,
             "#ed7953"
            ],
            [
             0.7777777777777778,
             "#fb9f3a"
            ],
            [
             0.8888888888888888,
             "#fdca26"
            ],
            [
             1,
             "#f0f921"
            ]
           ],
           "sequentialminus": [
            [
             0,
             "#0d0887"
            ],
            [
             0.1111111111111111,
             "#46039f"
            ],
            [
             0.2222222222222222,
             "#7201a8"
            ],
            [
             0.3333333333333333,
             "#9c179e"
            ],
            [
             0.4444444444444444,
             "#bd3786"
            ],
            [
             0.5555555555555556,
             "#d8576b"
            ],
            [
             0.6666666666666666,
             "#ed7953"
            ],
            [
             0.7777777777777778,
             "#fb9f3a"
            ],
            [
             0.8888888888888888,
             "#fdca26"
            ],
            [
             1,
             "#f0f921"
            ]
           ]
          },
          "colorway": [
           "#636efa",
           "#EF553B",
           "#00cc96",
           "#ab63fa",
           "#FFA15A",
           "#19d3f3",
           "#FF6692",
           "#B6E880",
           "#FF97FF",
           "#FECB52"
          ],
          "font": {
           "color": "#2a3f5f"
          },
          "geo": {
           "bgcolor": "white",
           "lakecolor": "white",
           "landcolor": "#E5ECF6",
           "showlakes": true,
           "showland": true,
           "subunitcolor": "white"
          },
          "hoverlabel": {
           "align": "left"
          },
          "hovermode": "closest",
          "mapbox": {
           "style": "light"
          },
          "paper_bgcolor": "white",
          "plot_bgcolor": "#E5ECF6",
          "polar": {
           "angularaxis": {
            "gridcolor": "white",
            "linecolor": "white",
            "ticks": ""
           },
           "bgcolor": "#E5ECF6",
           "radialaxis": {
            "gridcolor": "white",
            "linecolor": "white",
            "ticks": ""
           }
          },
          "scene": {
           "xaxis": {
            "backgroundcolor": "#E5ECF6",
            "gridcolor": "white",
            "gridwidth": 2,
            "linecolor": "white",
            "showbackground": true,
            "ticks": "",
            "zerolinecolor": "white"
           },
           "yaxis": {
            "backgroundcolor": "#E5ECF6",
            "gridcolor": "white",
            "gridwidth": 2,
            "linecolor": "white",
            "showbackground": true,
            "ticks": "",
            "zerolinecolor": "white"
           },
           "zaxis": {
            "backgroundcolor": "#E5ECF6",
            "gridcolor": "white",
            "gridwidth": 2,
            "linecolor": "white",
            "showbackground": true,
            "ticks": "",
            "zerolinecolor": "white"
           }
          },
          "shapedefaults": {
           "line": {
            "color": "#2a3f5f"
           }
          },
          "ternary": {
           "aaxis": {
            "gridcolor": "white",
            "linecolor": "white",
            "ticks": ""
           },
           "baxis": {
            "gridcolor": "white",
            "linecolor": "white",
            "ticks": ""
           },
           "bgcolor": "#E5ECF6",
           "caxis": {
            "gridcolor": "white",
            "linecolor": "white",
            "ticks": ""
           }
          },
          "title": {
           "x": 0.05
          },
          "xaxis": {
           "automargin": true,
           "gridcolor": "white",
           "linecolor": "white",
           "ticks": "",
           "title": {
            "standoff": 15
           },
           "zerolinecolor": "white",
           "zerolinewidth": 2
          },
          "yaxis": {
           "automargin": true,
           "gridcolor": "white",
           "linecolor": "white",
           "ticks": "",
           "title": {
            "standoff": 15
           },
           "zerolinecolor": "white",
           "zerolinewidth": 2
          }
         }
        }
       }
      }
     },
     "metadata": {},
     "output_type": "display_data"
    }
   ],
   "source": [
    "\n",
    "A = 0.4\n",
    "phi = 3*np.pi/2 # changed phi\n",
    "#phi=5*np.pi/4 actual phi\n",
    "K = 5 \n",
    "t = np.arange(0, 1, 1.0 / fs)\n",
    "A_k = [1.0, 0.14, 0.01, 0.06, 0.03]\n",
    "y = np.zeros_like(t)\n",
    "for k in range(1, K + 1):\n",
    "    y += A_k[k - 1] * np.cos(2 * np.pi * k * f0 * t + k * phi - (k - 1) * np.pi / 2)\n",
    "\n",
    "#normalize reference amplitude\n",
    "y = 0.33 * y / np.max(np.abs(y))\n",
    "\n",
    "t_start = 0.1\n",
    "t_end = t_start + 7 * T\n",
    "plot_signals([ref, y], fs, t_start=t_start, t_end=t_end, name=['Reference', 'Synthesized'])"
   ]
  },
  {
   "cell_type": "markdown",
   "metadata": {
    "id": "FFOPYFkn3fmh"
   },
   "source": [
    " **3.3. Listen to the synthtesis and remark what are the main differences between the reference and synthesis.**"
   ]
  },
  {
   "cell_type": "code",
   "execution_count": 52,
   "metadata": {},
   "outputs": [
    {
     "data": {
      "text/html": [
       "\n",
       "                <audio  controls=\"controls\" >\n",
       "                    <source src=\"data:audio/wav;base64,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\" type=\"audio/wav\" />\n",
       "                    Your browser does not support the audio element.\n",
       "                </audio>\n",
       "              "
      ],
      "text/plain": [
       "<IPython.lib.display.Audio object>"
      ]
     },
     "execution_count": 52,
     "metadata": {},
     "output_type": "execute_result"
    }
   ],
   "source": [
    "Audio(y,rate=fs)\n"
   ]
  },
  {
   "cell_type": "markdown",
   "metadata": {},
   "source": [
    "\n",
    "The ukelele note (the reference) naturally decays and gets a 'peak' and goes down again. In the synthtesis we get a plane, sharp, constant note that is always the same. They are clearly different and the synthesis takes out the 'naturalness' of the ukelele note. The imperfections make it authentic and the synthesis feels robotic."
   ]
  },
  {
   "cell_type": "code",
   "execution_count": null,
   "metadata": {},
   "outputs": [],
   "source": [
    "#codigo viejo\n",
    "\n",
    "# Write the code here\n",
    "#import numpy as np \n",
    "#A=0.4\n",
    "#K = 5\n",
    "#phi=5*np.pi/4\n",
    "#t = np.arange(0, 7, 1.0/fs)\n",
    "#a_k = [1, .14, .01, .06]\n",
    "#multiply_factor_f0 = 1\n",
    "#y = A*np.cos(2*np.pi*f0*t+np.pi/2)\n",
    "#for i, k in enumerate(a_k):\n",
    "#    multiply_factor_f0 += 1\n",
    "#    y += k*np.cos(2*np.pi*f0*multiply_factor_f0*t+np.pi/2)\n",
    "#t_start = 0.1\n",
    "#t_end = t_start+3*T\n",
    "#\n",
    "#plot_signals([ref, y],fs, t_start=t_start, t_end=t_end)"
   ]
  }
 ],
 "metadata": {
  "colab": {
   "provenance": []
  },
  "kernelspec": {
   "display_name": "base",
   "language": "python",
   "name": "python3"
  },
  "language_info": {
   "codemirror_mode": {
    "name": "ipython",
    "version": 3
   },
   "file_extension": ".py",
   "mimetype": "text/x-python",
   "name": "python",
   "nbconvert_exporter": "python",
   "pygments_lexer": "ipython3",
   "version": "3.13.5"
  }
 },
 "nbformat": 4,
 "nbformat_minor": 0
}
