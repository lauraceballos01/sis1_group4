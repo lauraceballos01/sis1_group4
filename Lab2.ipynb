{
 "cells": [
  {
   "cell_type": "markdown",
   "metadata": {
    "id": "7FEkSsqqPhe2"
   },
   "source": [
    "### **Lab 2: Introduction to Complex Exponentials**\n",
    "\n",
    "The goal of this laboratory is to gain familiarity with complex numbers and their use in representing sinusoidal signals as complex exponentials.\n",
    "\n",
    "**Complex Numbers in Python**\n",
    "\n",
    "\n",
    "Python can be used to compute complex-valued formulas and also to display the results as a vector or “phasor” diagrams.\n",
    "\n",
    "Here are some of numpy package complex number functions (remember to import package):\n",
    "\n",
    "*conj ()*       Complex conjugate\n",
    "\n",
    "*abs ()*        Magnitude\n",
    "\n",
    "*angle ()*      Angle (or phase) in radians\n",
    "\n",
    "*real ()*       Real part\n",
    "\n",
    "*imag ()*       Imaginary part\n",
    "*j *        pre-defined as <math>&radic;-1</math>\n",
    "\n",
    "*x = 3 + 4j*    j sufix defines imaginary constant\n",
    "\n",
    "exp(1j<math>*</math>theta)  Function for the complex exponential\n",
    "\n",
    "Each of these functions takes a vector (or matrix) as its input argument and operates on each element of the vector.\n",
    "\n",
    "To display a complex number as a point in the complex plane you can directly use the provided function `plot_complex`. It can take a single number or a list of complex numbers as input. For instance, to display the complex number 2+1j:"
   ]
  },
  {
   "cell_type": "code",
   "execution_count": 1,
   "metadata": {
    "colab": {
     "base_uri": "https://localhost:8080/"
    },
    "executionInfo": {
     "elapsed": 3415,
     "status": "ok",
     "timestamp": 1702317970077,
     "user": {
      "displayName": "PEDRO RAMONEDA FRANCO",
      "userId": "10653804143244385715"
     },
     "user_tz": -60
    },
    "id": "uvmioytcPgyZ",
    "outputId": "1fce312e-20b9-4609-df57-1a92ba465e41"
   },
   "outputs": [],
   "source": [
    "import numpy as np\n",
    "from IPython.display import Audio\n",
    "\n",
    "from util import load_audio, save_audio, plot_signals, plot_complex"
   ]
  },
  {
   "cell_type": "code",
   "execution_count": 2,
   "metadata": {
    "colab": {
     "base_uri": "https://localhost:8080/",
     "height": 542
    },
    "executionInfo": {
     "elapsed": 17,
     "status": "ok",
     "timestamp": 1702317970078,
     "user": {
      "displayName": "PEDRO RAMONEDA FRANCO",
      "userId": "10653804143244385715"
     },
     "user_tz": -60
    },
    "id": "t_Yo8e9yPvT6",
    "outputId": "2c45e158-029d-4451-b750-96607dd5e655"
   },
   "outputs": [
    {
     "data": {
      "application/vnd.plotly.v1+json": {
       "config": {
        "plotlyServerURL": "https://plot.ly"
       },
       "data": [
        {
         "line": {
          "color": "rgb(150,150,150)",
          "dash": "dash",
          "shape": "linear"
         },
         "mode": "lines",
         "name": "unit circle",
         "type": "scatter",
         "x": {
          "bdata": "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",
          "dtype": "f8"
         },
         "y": {
          "bdata": "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",
          "dtype": "f8"
         }
        },
        {
         "marker": {
          "color": "#1f77b4"
         },
         "mode": "markers",
         "name": "z_0",
         "type": "scatter",
         "x": [
          2
         ],
         "y": [
          1
         ]
        }
       ],
       "layout": {
        "annotations": [
         {
          "arrowcolor": "#1f77b4",
          "arrowhead": 3,
          "arrowwidth": 1.5,
          "ax": 0,
          "axref": "x",
          "ay": 0,
          "ayref": "y",
          "showarrow": true,
          "text": "",
          "x": 2,
          "y": 1
         }
        ],
        "template": {
         "data": {
          "bar": [
           {
            "error_x": {
             "color": "#2a3f5f"
            },
            "error_y": {
             "color": "#2a3f5f"
            },
            "marker": {
             "line": {
              "color": "#E5ECF6",
              "width": 0.5
             },
             "pattern": {
              "fillmode": "overlay",
              "size": 10,
              "solidity": 0.2
             }
            },
            "type": "bar"
           }
          ],
          "barpolar": [
           {
            "marker": {
             "line": {
              "color": "#E5ECF6",
              "width": 0.5
             },
             "pattern": {
              "fillmode": "overlay",
              "size": 10,
              "solidity": 0.2
             }
            },
            "type": "barpolar"
           }
          ],
          "carpet": [
           {
            "aaxis": {
             "endlinecolor": "#2a3f5f",
             "gridcolor": "white",
             "linecolor": "white",
             "minorgridcolor": "white",
             "startlinecolor": "#2a3f5f"
            },
            "baxis": {
             "endlinecolor": "#2a3f5f",
             "gridcolor": "white",
             "linecolor": "white",
             "minorgridcolor": "white",
             "startlinecolor": "#2a3f5f"
            },
            "type": "carpet"
           }
          ],
          "choropleth": [
           {
            "colorbar": {
             "outlinewidth": 0,
             "ticks": ""
            },
            "type": "choropleth"
           }
          ],
          "contour": [
           {
            "colorbar": {
             "outlinewidth": 0,
             "ticks": ""
            },
            "colorscale": [
             [
              0,
              "#0d0887"
             ],
             [
              0.1111111111111111,
              "#46039f"
             ],
             [
              0.2222222222222222,
              "#7201a8"
             ],
             [
              0.3333333333333333,
              "#9c179e"
             ],
             [
              0.4444444444444444,
              "#bd3786"
             ],
             [
              0.5555555555555556,
              "#d8576b"
             ],
             [
              0.6666666666666666,
              "#ed7953"
             ],
             [
              0.7777777777777778,
              "#fb9f3a"
             ],
             [
              0.8888888888888888,
              "#fdca26"
             ],
             [
              1,
              "#f0f921"
             ]
            ],
            "type": "contour"
           }
          ],
          "contourcarpet": [
           {
            "colorbar": {
             "outlinewidth": 0,
             "ticks": ""
            },
            "type": "contourcarpet"
           }
          ],
          "heatmap": [
           {
            "colorbar": {
             "outlinewidth": 0,
             "ticks": ""
            },
            "colorscale": [
             [
              0,
              "#0d0887"
             ],
             [
              0.1111111111111111,
              "#46039f"
             ],
             [
              0.2222222222222222,
              "#7201a8"
             ],
             [
              0.3333333333333333,
              "#9c179e"
             ],
             [
              0.4444444444444444,
              "#bd3786"
             ],
             [
              0.5555555555555556,
              "#d8576b"
             ],
             [
              0.6666666666666666,
              "#ed7953"
             ],
             [
              0.7777777777777778,
              "#fb9f3a"
             ],
             [
              0.8888888888888888,
              "#fdca26"
             ],
             [
              1,
              "#f0f921"
             ]
            ],
            "type": "heatmap"
           }
          ],
          "histogram": [
           {
            "marker": {
             "pattern": {
              "fillmode": "overlay",
              "size": 10,
              "solidity": 0.2
             }
            },
            "type": "histogram"
           }
          ],
          "histogram2d": [
           {
            "colorbar": {
             "outlinewidth": 0,
             "ticks": ""
            },
            "colorscale": [
             [
              0,
              "#0d0887"
             ],
             [
              0.1111111111111111,
              "#46039f"
             ],
             [
              0.2222222222222222,
              "#7201a8"
             ],
             [
              0.3333333333333333,
              "#9c179e"
             ],
             [
              0.4444444444444444,
              "#bd3786"
             ],
             [
              0.5555555555555556,
              "#d8576b"
             ],
             [
              0.6666666666666666,
              "#ed7953"
             ],
             [
              0.7777777777777778,
              "#fb9f3a"
             ],
             [
              0.8888888888888888,
              "#fdca26"
             ],
             [
              1,
              "#f0f921"
             ]
            ],
            "type": "histogram2d"
           }
          ],
          "histogram2dcontour": [
           {
            "colorbar": {
             "outlinewidth": 0,
             "ticks": ""
            },
            "colorscale": [
             [
              0,
              "#0d0887"
             ],
             [
              0.1111111111111111,
              "#46039f"
             ],
             [
              0.2222222222222222,
              "#7201a8"
             ],
             [
              0.3333333333333333,
              "#9c179e"
             ],
             [
              0.4444444444444444,
              "#bd3786"
             ],
             [
              0.5555555555555556,
              "#d8576b"
             ],
             [
              0.6666666666666666,
              "#ed7953"
             ],
             [
              0.7777777777777778,
              "#fb9f3a"
             ],
             [
              0.8888888888888888,
              "#fdca26"
             ],
             [
              1,
              "#f0f921"
             ]
            ],
            "type": "histogram2dcontour"
           }
          ],
          "mesh3d": [
           {
            "colorbar": {
             "outlinewidth": 0,
             "ticks": ""
            },
            "type": "mesh3d"
           }
          ],
          "parcoords": [
           {
            "line": {
             "colorbar": {
              "outlinewidth": 0,
              "ticks": ""
             }
            },
            "type": "parcoords"
           }
          ],
          "pie": [
           {
            "automargin": true,
            "type": "pie"
           }
          ],
          "scatter": [
           {
            "fillpattern": {
             "fillmode": "overlay",
             "size": 10,
             "solidity": 0.2
            },
            "type": "scatter"
           }
          ],
          "scatter3d": [
           {
            "line": {
             "colorbar": {
              "outlinewidth": 0,
              "ticks": ""
             }
            },
            "marker": {
             "colorbar": {
              "outlinewidth": 0,
              "ticks": ""
             }
            },
            "type": "scatter3d"
           }
          ],
          "scattercarpet": [
           {
            "marker": {
             "colorbar": {
              "outlinewidth": 0,
              "ticks": ""
             }
            },
            "type": "scattercarpet"
           }
          ],
          "scattergeo": [
           {
            "marker": {
             "colorbar": {
              "outlinewidth": 0,
              "ticks": ""
             }
            },
            "type": "scattergeo"
           }
          ],
          "scattergl": [
           {
            "marker": {
             "colorbar": {
              "outlinewidth": 0,
              "ticks": ""
             }
            },
            "type": "scattergl"
           }
          ],
          "scattermap": [
           {
            "marker": {
             "colorbar": {
              "outlinewidth": 0,
              "ticks": ""
             }
            },
            "type": "scattermap"
           }
          ],
          "scattermapbox": [
           {
            "marker": {
             "colorbar": {
              "outlinewidth": 0,
              "ticks": ""
             }
            },
            "type": "scattermapbox"
           }
          ],
          "scatterpolar": [
           {
            "marker": {
             "colorbar": {
              "outlinewidth": 0,
              "ticks": ""
             }
            },
            "type": "scatterpolar"
           }
          ],
          "scatterpolargl": [
           {
            "marker": {
             "colorbar": {
              "outlinewidth": 0,
              "ticks": ""
             }
            },
            "type": "scatterpolargl"
           }
          ],
          "scatterternary": [
           {
            "marker": {
             "colorbar": {
              "outlinewidth": 0,
              "ticks": ""
             }
            },
            "type": "scatterternary"
           }
          ],
          "surface": [
           {
            "colorbar": {
             "outlinewidth": 0,
             "ticks": ""
            },
            "colorscale": [
             [
              0,
              "#0d0887"
             ],
             [
              0.1111111111111111,
              "#46039f"
             ],
             [
              0.2222222222222222,
              "#7201a8"
             ],
             [
              0.3333333333333333,
              "#9c179e"
             ],
             [
              0.4444444444444444,
              "#bd3786"
             ],
             [
              0.5555555555555556,
              "#d8576b"
             ],
             [
              0.6666666666666666,
              "#ed7953"
             ],
             [
              0.7777777777777778,
              "#fb9f3a"
             ],
             [
              0.8888888888888888,
              "#fdca26"
             ],
             [
              1,
              "#f0f921"
             ]
            ],
            "type": "surface"
           }
          ],
          "table": [
           {
            "cells": {
             "fill": {
              "color": "#EBF0F8"
             },
             "line": {
              "color": "white"
             }
            },
            "header": {
             "fill": {
              "color": "#C8D4E3"
             },
             "line": {
              "color": "white"
             }
            },
            "type": "table"
           }
          ]
         },
         "layout": {
          "annotationdefaults": {
           "arrowcolor": "#2a3f5f",
           "arrowhead": 0,
           "arrowwidth": 1
          },
          "autotypenumbers": "strict",
          "coloraxis": {
           "colorbar": {
            "outlinewidth": 0,
            "ticks": ""
           }
          },
          "colorscale": {
           "diverging": [
            [
             0,
             "#8e0152"
            ],
            [
             0.1,
             "#c51b7d"
            ],
            [
             0.2,
             "#de77ae"
            ],
            [
             0.3,
             "#f1b6da"
            ],
            [
             0.4,
             "#fde0ef"
            ],
            [
             0.5,
             "#f7f7f7"
            ],
            [
             0.6,
             "#e6f5d0"
            ],
            [
             0.7,
             "#b8e186"
            ],
            [
             0.8,
             "#7fbc41"
            ],
            [
             0.9,
             "#4d9221"
            ],
            [
             1,
             "#276419"
            ]
           ],
           "sequential": [
            [
             0,
             "#0d0887"
            ],
            [
             0.1111111111111111,
             "#46039f"
            ],
            [
             0.2222222222222222,
             "#7201a8"
            ],
            [
             0.3333333333333333,
             "#9c179e"
            ],
            [
             0.4444444444444444,
             "#bd3786"
            ],
            [
             0.5555555555555556,
             "#d8576b"
            ],
            [
             0.6666666666666666,
             "#ed7953"
            ],
            [
             0.7777777777777778,
             "#fb9f3a"
            ],
            [
             0.8888888888888888,
             "#fdca26"
            ],
            [
             1,
             "#f0f921"
            ]
           ],
           "sequentialminus": [
            [
             0,
             "#0d0887"
            ],
            [
             0.1111111111111111,
             "#46039f"
            ],
            [
             0.2222222222222222,
             "#7201a8"
            ],
            [
             0.3333333333333333,
             "#9c179e"
            ],
            [
             0.4444444444444444,
             "#bd3786"
            ],
            [
             0.5555555555555556,
             "#d8576b"
            ],
            [
             0.6666666666666666,
             "#ed7953"
            ],
            [
             0.7777777777777778,
             "#fb9f3a"
            ],
            [
             0.8888888888888888,
             "#fdca26"
            ],
            [
             1,
             "#f0f921"
            ]
           ]
          },
          "colorway": [
           "#636efa",
           "#EF553B",
           "#00cc96",
           "#ab63fa",
           "#FFA15A",
           "#19d3f3",
           "#FF6692",
           "#B6E880",
           "#FF97FF",
           "#FECB52"
          ],
          "font": {
           "color": "#2a3f5f"
          },
          "geo": {
           "bgcolor": "white",
           "lakecolor": "white",
           "landcolor": "#E5ECF6",
           "showlakes": true,
           "showland": true,
           "subunitcolor": "white"
          },
          "hoverlabel": {
           "align": "left"
          },
          "hovermode": "closest",
          "mapbox": {
           "style": "light"
          },
          "paper_bgcolor": "white",
          "plot_bgcolor": "#E5ECF6",
          "polar": {
           "angularaxis": {
            "gridcolor": "white",
            "linecolor": "white",
            "ticks": ""
           },
           "bgcolor": "#E5ECF6",
           "radialaxis": {
            "gridcolor": "white",
            "linecolor": "white",
            "ticks": ""
           }
          },
          "scene": {
           "xaxis": {
            "backgroundcolor": "#E5ECF6",
            "gridcolor": "white",
            "gridwidth": 2,
            "linecolor": "white",
            "showbackground": true,
            "ticks": "",
            "zerolinecolor": "white"
           },
           "yaxis": {
            "backgroundcolor": "#E5ECF6",
            "gridcolor": "white",
            "gridwidth": 2,
            "linecolor": "white",
            "showbackground": true,
            "ticks": "",
            "zerolinecolor": "white"
           },
           "zaxis": {
            "backgroundcolor": "#E5ECF6",
            "gridcolor": "white",
            "gridwidth": 2,
            "linecolor": "white",
            "showbackground": true,
            "ticks": "",
            "zerolinecolor": "white"
           }
          },
          "shapedefaults": {
           "line": {
            "color": "#2a3f5f"
           }
          },
          "ternary": {
           "aaxis": {
            "gridcolor": "white",
            "linecolor": "white",
            "ticks": ""
           },
           "baxis": {
            "gridcolor": "white",
            "linecolor": "white",
            "ticks": ""
           },
           "bgcolor": "#E5ECF6",
           "caxis": {
            "gridcolor": "white",
            "linecolor": "white",
            "ticks": ""
           }
          },
          "title": {
           "x": 0.05
          },
          "xaxis": {
           "automargin": true,
           "gridcolor": "white",
           "linecolor": "white",
           "ticks": "",
           "title": {
            "standoff": 15
           },
           "zerolinecolor": "white",
           "zerolinewidth": 2
          },
          "yaxis": {
           "automargin": true,
           "gridcolor": "white",
           "linecolor": "white",
           "ticks": "",
           "title": {
            "standoff": 15
           },
           "zerolinecolor": "white",
           "zerolinewidth": 2
          }
         }
        },
        "xaxis": {
         "title": {
          "text": "Real"
         }
        },
        "yaxis": {
         "scaleanchor": "x",
         "scaleratio": 1,
         "title": {
          "text": "Imaginary"
         }
        }
       }
      }
     },
     "metadata": {},
     "output_type": "display_data"
    }
   ],
   "source": [
    "z = 2 + 1j\n",
    "plot_complex(z)"
   ]
  },
  {
   "cell_type": "markdown",
   "metadata": {
    "id": "spPME9dPQcnu"
   },
   "source": [
    "And for displaying several complex numbers:"
   ]
  },
  {
   "cell_type": "code",
   "execution_count": 3,
   "metadata": {
    "colab": {
     "base_uri": "https://localhost:8080/",
     "height": 542
    },
    "executionInfo": {
     "elapsed": 14,
     "status": "ok",
     "timestamp": 1702317970078,
     "user": {
      "displayName": "PEDRO RAMONEDA FRANCO",
      "userId": "10653804143244385715"
     },
     "user_tz": -60
    },
    "id": "kCCRfQrhQhGU",
    "outputId": "dc3f16fe-5ec1-402e-eeab-1d019fcdbce6"
   },
   "outputs": [
    {
     "data": {
      "application/vnd.plotly.v1+json": {
       "config": {
        "plotlyServerURL": "https://plot.ly"
       },
       "data": [
        {
         "line": {
          "color": "rgb(150,150,150)",
          "dash": "dash",
          "shape": "linear"
         },
         "mode": "lines",
         "name": "unit circle",
         "type": "scatter",
         "x": {
          "bdata": "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",
          "dtype": "f8"
         },
         "y": {
          "bdata": "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",
          "dtype": "f8"
         }
        },
        {
         "marker": {
          "color": "#1f77b4"
         },
         "mode": "markers",
         "name": "z1",
         "type": "scatter",
         "x": [
          2
         ],
         "y": [
          1
         ]
        },
        {
         "marker": {
          "color": "#ff7f0e"
         },
         "mode": "markers",
         "name": "z2",
         "type": "scatter",
         "x": [
          0
         ],
         "y": [
          1
         ]
        },
        {
         "marker": {
          "color": "#2ca02c"
         },
         "mode": "markers",
         "name": "z3",
         "type": "scatter",
         "x": [
          0
         ],
         "y": [
          -0.5
         ]
        }
       ],
       "layout": {
        "annotations": [
         {
          "arrowcolor": "#1f77b4",
          "arrowhead": 3,
          "arrowwidth": 1.5,
          "ax": 0,
          "axref": "x",
          "ay": 0,
          "ayref": "y",
          "showarrow": true,
          "text": "",
          "x": 2,
          "y": 1
         },
         {
          "arrowcolor": "#ff7f0e",
          "arrowhead": 3,
          "arrowwidth": 1.5,
          "ax": 0,
          "axref": "x",
          "ay": 0,
          "ayref": "y",
          "showarrow": true,
          "text": "",
          "x": 0,
          "y": 1
         },
         {
          "arrowcolor": "#2ca02c",
          "arrowhead": 3,
          "arrowwidth": 1.5,
          "ax": 0,
          "axref": "x",
          "ay": 0,
          "ayref": "y",
          "showarrow": true,
          "text": "",
          "x": 0,
          "y": -0.5
         }
        ],
        "template": {
         "data": {
          "bar": [
           {
            "error_x": {
             "color": "#2a3f5f"
            },
            "error_y": {
             "color": "#2a3f5f"
            },
            "marker": {
             "line": {
              "color": "#E5ECF6",
              "width": 0.5
             },
             "pattern": {
              "fillmode": "overlay",
              "size": 10,
              "solidity": 0.2
             }
            },
            "type": "bar"
           }
          ],
          "barpolar": [
           {
            "marker": {
             "line": {
              "color": "#E5ECF6",
              "width": 0.5
             },
             "pattern": {
              "fillmode": "overlay",
              "size": 10,
              "solidity": 0.2
             }
            },
            "type": "barpolar"
           }
          ],
          "carpet": [
           {
            "aaxis": {
             "endlinecolor": "#2a3f5f",
             "gridcolor": "white",
             "linecolor": "white",
             "minorgridcolor": "white",
             "startlinecolor": "#2a3f5f"
            },
            "baxis": {
             "endlinecolor": "#2a3f5f",
             "gridcolor": "white",
             "linecolor": "white",
             "minorgridcolor": "white",
             "startlinecolor": "#2a3f5f"
            },
            "type": "carpet"
           }
          ],
          "choropleth": [
           {
            "colorbar": {
             "outlinewidth": 0,
             "ticks": ""
            },
            "type": "choropleth"
           }
          ],
          "contour": [
           {
            "colorbar": {
             "outlinewidth": 0,
             "ticks": ""
            },
            "colorscale": [
             [
              0,
              "#0d0887"
             ],
             [
              0.1111111111111111,
              "#46039f"
             ],
             [
              0.2222222222222222,
              "#7201a8"
             ],
             [
              0.3333333333333333,
              "#9c179e"
             ],
             [
              0.4444444444444444,
              "#bd3786"
             ],
             [
              0.5555555555555556,
              "#d8576b"
             ],
             [
              0.6666666666666666,
              "#ed7953"
             ],
             [
              0.7777777777777778,
              "#fb9f3a"
             ],
             [
              0.8888888888888888,
              "#fdca26"
             ],
             [
              1,
              "#f0f921"
             ]
            ],
            "type": "contour"
           }
          ],
          "contourcarpet": [
           {
            "colorbar": {
             "outlinewidth": 0,
             "ticks": ""
            },
            "type": "contourcarpet"
           }
          ],
          "heatmap": [
           {
            "colorbar": {
             "outlinewidth": 0,
             "ticks": ""
            },
            "colorscale": [
             [
              0,
              "#0d0887"
             ],
             [
              0.1111111111111111,
              "#46039f"
             ],
             [
              0.2222222222222222,
              "#7201a8"
             ],
             [
              0.3333333333333333,
              "#9c179e"
             ],
             [
              0.4444444444444444,
              "#bd3786"
             ],
             [
              0.5555555555555556,
              "#d8576b"
             ],
             [
              0.6666666666666666,
              "#ed7953"
             ],
             [
              0.7777777777777778,
              "#fb9f3a"
             ],
             [
              0.8888888888888888,
              "#fdca26"
             ],
             [
              1,
              "#f0f921"
             ]
            ],
            "type": "heatmap"
           }
          ],
          "histogram": [
           {
            "marker": {
             "pattern": {
              "fillmode": "overlay",
              "size": 10,
              "solidity": 0.2
             }
            },
            "type": "histogram"
           }
          ],
          "histogram2d": [
           {
            "colorbar": {
             "outlinewidth": 0,
             "ticks": ""
            },
            "colorscale": [
             [
              0,
              "#0d0887"
             ],
             [
              0.1111111111111111,
              "#46039f"
             ],
             [
              0.2222222222222222,
              "#7201a8"
             ],
             [
              0.3333333333333333,
              "#9c179e"
             ],
             [
              0.4444444444444444,
              "#bd3786"
             ],
             [
              0.5555555555555556,
              "#d8576b"
             ],
             [
              0.6666666666666666,
              "#ed7953"
             ],
             [
              0.7777777777777778,
              "#fb9f3a"
             ],
             [
              0.8888888888888888,
              "#fdca26"
             ],
             [
              1,
              "#f0f921"
             ]
            ],
            "type": "histogram2d"
           }
          ],
          "histogram2dcontour": [
           {
            "colorbar": {
             "outlinewidth": 0,
             "ticks": ""
            },
            "colorscale": [
             [
              0,
              "#0d0887"
             ],
             [
              0.1111111111111111,
              "#46039f"
             ],
             [
              0.2222222222222222,
              "#7201a8"
             ],
             [
              0.3333333333333333,
              "#9c179e"
             ],
             [
              0.4444444444444444,
              "#bd3786"
             ],
             [
              0.5555555555555556,
              "#d8576b"
             ],
             [
              0.6666666666666666,
              "#ed7953"
             ],
             [
              0.7777777777777778,
              "#fb9f3a"
             ],
             [
              0.8888888888888888,
              "#fdca26"
             ],
             [
              1,
              "#f0f921"
             ]
            ],
            "type": "histogram2dcontour"
           }
          ],
          "mesh3d": [
           {
            "colorbar": {
             "outlinewidth": 0,
             "ticks": ""
            },
            "type": "mesh3d"
           }
          ],
          "parcoords": [
           {
            "line": {
             "colorbar": {
              "outlinewidth": 0,
              "ticks": ""
             }
            },
            "type": "parcoords"
           }
          ],
          "pie": [
           {
            "automargin": true,
            "type": "pie"
           }
          ],
          "scatter": [
           {
            "fillpattern": {
             "fillmode": "overlay",
             "size": 10,
             "solidity": 0.2
            },
            "type": "scatter"
           }
          ],
          "scatter3d": [
           {
            "line": {
             "colorbar": {
              "outlinewidth": 0,
              "ticks": ""
             }
            },
            "marker": {
             "colorbar": {
              "outlinewidth": 0,
              "ticks": ""
             }
            },
            "type": "scatter3d"
           }
          ],
          "scattercarpet": [
           {
            "marker": {
             "colorbar": {
              "outlinewidth": 0,
              "ticks": ""
             }
            },
            "type": "scattercarpet"
           }
          ],
          "scattergeo": [
           {
            "marker": {
             "colorbar": {
              "outlinewidth": 0,
              "ticks": ""
             }
            },
            "type": "scattergeo"
           }
          ],
          "scattergl": [
           {
            "marker": {
             "colorbar": {
              "outlinewidth": 0,
              "ticks": ""
             }
            },
            "type": "scattergl"
           }
          ],
          "scattermap": [
           {
            "marker": {
             "colorbar": {
              "outlinewidth": 0,
              "ticks": ""
             }
            },
            "type": "scattermap"
           }
          ],
          "scattermapbox": [
           {
            "marker": {
             "colorbar": {
              "outlinewidth": 0,
              "ticks": ""
             }
            },
            "type": "scattermapbox"
           }
          ],
          "scatterpolar": [
           {
            "marker": {
             "colorbar": {
              "outlinewidth": 0,
              "ticks": ""
             }
            },
            "type": "scatterpolar"
           }
          ],
          "scatterpolargl": [
           {
            "marker": {
             "colorbar": {
              "outlinewidth": 0,
              "ticks": ""
             }
            },
            "type": "scatterpolargl"
           }
          ],
          "scatterternary": [
           {
            "marker": {
             "colorbar": {
              "outlinewidth": 0,
              "ticks": ""
             }
            },
            "type": "scatterternary"
           }
          ],
          "surface": [
           {
            "colorbar": {
             "outlinewidth": 0,
             "ticks": ""
            },
            "colorscale": [
             [
              0,
              "#0d0887"
             ],
             [
              0.1111111111111111,
              "#46039f"
             ],
             [
              0.2222222222222222,
              "#7201a8"
             ],
             [
              0.3333333333333333,
              "#9c179e"
             ],
             [
              0.4444444444444444,
              "#bd3786"
             ],
             [
              0.5555555555555556,
              "#d8576b"
             ],
             [
              0.6666666666666666,
              "#ed7953"
             ],
             [
              0.7777777777777778,
              "#fb9f3a"
             ],
             [
              0.8888888888888888,
              "#fdca26"
             ],
             [
              1,
              "#f0f921"
             ]
            ],
            "type": "surface"
           }
          ],
          "table": [
           {
            "cells": {
             "fill": {
              "color": "#EBF0F8"
             },
             "line": {
              "color": "white"
             }
            },
            "header": {
             "fill": {
              "color": "#C8D4E3"
             },
             "line": {
              "color": "white"
             }
            },
            "type": "table"
           }
          ]
         },
         "layout": {
          "annotationdefaults": {
           "arrowcolor": "#2a3f5f",
           "arrowhead": 0,
           "arrowwidth": 1
          },
          "autotypenumbers": "strict",
          "coloraxis": {
           "colorbar": {
            "outlinewidth": 0,
            "ticks": ""
           }
          },
          "colorscale": {
           "diverging": [
            [
             0,
             "#8e0152"
            ],
            [
             0.1,
             "#c51b7d"
            ],
            [
             0.2,
             "#de77ae"
            ],
            [
             0.3,
             "#f1b6da"
            ],
            [
             0.4,
             "#fde0ef"
            ],
            [
             0.5,
             "#f7f7f7"
            ],
            [
             0.6,
             "#e6f5d0"
            ],
            [
             0.7,
             "#b8e186"
            ],
            [
             0.8,
             "#7fbc41"
            ],
            [
             0.9,
             "#4d9221"
            ],
            [
             1,
             "#276419"
            ]
           ],
           "sequential": [
            [
             0,
             "#0d0887"
            ],
            [
             0.1111111111111111,
             "#46039f"
            ],
            [
             0.2222222222222222,
             "#7201a8"
            ],
            [
             0.3333333333333333,
             "#9c179e"
            ],
            [
             0.4444444444444444,
             "#bd3786"
            ],
            [
             0.5555555555555556,
             "#d8576b"
            ],
            [
             0.6666666666666666,
             "#ed7953"
            ],
            [
             0.7777777777777778,
             "#fb9f3a"
            ],
            [
             0.8888888888888888,
             "#fdca26"
            ],
            [
             1,
             "#f0f921"
            ]
           ],
           "sequentialminus": [
            [
             0,
             "#0d0887"
            ],
            [
             0.1111111111111111,
             "#46039f"
            ],
            [
             0.2222222222222222,
             "#7201a8"
            ],
            [
             0.3333333333333333,
             "#9c179e"
            ],
            [
             0.4444444444444444,
             "#bd3786"
            ],
            [
             0.5555555555555556,
             "#d8576b"
            ],
            [
             0.6666666666666666,
             "#ed7953"
            ],
            [
             0.7777777777777778,
             "#fb9f3a"
            ],
            [
             0.8888888888888888,
             "#fdca26"
            ],
            [
             1,
             "#f0f921"
            ]
           ]
          },
          "colorway": [
           "#636efa",
           "#EF553B",
           "#00cc96",
           "#ab63fa",
           "#FFA15A",
           "#19d3f3",
           "#FF6692",
           "#B6E880",
           "#FF97FF",
           "#FECB52"
          ],
          "font": {
           "color": "#2a3f5f"
          },
          "geo": {
           "bgcolor": "white",
           "lakecolor": "white",
           "landcolor": "#E5ECF6",
           "showlakes": true,
           "showland": true,
           "subunitcolor": "white"
          },
          "hoverlabel": {
           "align": "left"
          },
          "hovermode": "closest",
          "mapbox": {
           "style": "light"
          },
          "paper_bgcolor": "white",
          "plot_bgcolor": "#E5ECF6",
          "polar": {
           "angularaxis": {
            "gridcolor": "white",
            "linecolor": "white",
            "ticks": ""
           },
           "bgcolor": "#E5ECF6",
           "radialaxis": {
            "gridcolor": "white",
            "linecolor": "white",
            "ticks": ""
           }
          },
          "scene": {
           "xaxis": {
            "backgroundcolor": "#E5ECF6",
            "gridcolor": "white",
            "gridwidth": 2,
            "linecolor": "white",
            "showbackground": true,
            "ticks": "",
            "zerolinecolor": "white"
           },
           "yaxis": {
            "backgroundcolor": "#E5ECF6",
            "gridcolor": "white",
            "gridwidth": 2,
            "linecolor": "white",
            "showbackground": true,
            "ticks": "",
            "zerolinecolor": "white"
           },
           "zaxis": {
            "backgroundcolor": "#E5ECF6",
            "gridcolor": "white",
            "gridwidth": 2,
            "linecolor": "white",
            "showbackground": true,
            "ticks": "",
            "zerolinecolor": "white"
           }
          },
          "shapedefaults": {
           "line": {
            "color": "#2a3f5f"
           }
          },
          "ternary": {
           "aaxis": {
            "gridcolor": "white",
            "linecolor": "white",
            "ticks": ""
           },
           "baxis": {
            "gridcolor": "white",
            "linecolor": "white",
            "ticks": ""
           },
           "bgcolor": "#E5ECF6",
           "caxis": {
            "gridcolor": "white",
            "linecolor": "white",
            "ticks": ""
           }
          },
          "title": {
           "x": 0.05
          },
          "xaxis": {
           "automargin": true,
           "gridcolor": "white",
           "linecolor": "white",
           "ticks": "",
           "title": {
            "standoff": 15
           },
           "zerolinecolor": "white",
           "zerolinewidth": 2
          },
          "yaxis": {
           "automargin": true,
           "gridcolor": "white",
           "linecolor": "white",
           "ticks": "",
           "title": {
            "standoff": 15
           },
           "zerolinecolor": "white",
           "zerolinewidth": 2
          }
         }
        },
        "xaxis": {
         "title": {
          "text": "Real"
         }
        },
        "yaxis": {
         "scaleanchor": "x",
         "scaleratio": 1,
         "title": {
          "text": "Imaginary"
         }
        }
       }
      }
     },
     "metadata": {},
     "output_type": "display_data"
    }
   ],
   "source": [
    "z1 = 2 + 1j\n",
    "z2 = 1j\n",
    "z3 = -0.5j\n",
    "plot_complex([z1, z2, z3], name=['z1', 'z2', 'z3'])"
   ]
  },
  {
   "cell_type": "markdown",
   "metadata": {
    "id": "aOfR7uusRA13"
   },
   "source": [
    "# **Exercises**\n",
    "\n",
    "**1. Complex Numbers**\n",
    "\n",
    "To exercise your understanding of complex numbers, do the following:\n",
    "\n",
    "1.1. Define $z_1 = -1+j0.3$ and $z_2 = 0.8+j0.7$. Enter these in Python and plot them as points and vectors in the complex plane."
   ]
  },
  {
   "cell_type": "code",
   "execution_count": 4,
   "metadata": {
    "executionInfo": {
     "elapsed": 13,
     "status": "ok",
     "timestamp": 1702317970078,
     "user": {
      "displayName": "PEDRO RAMONEDA FRANCO",
      "userId": "10653804143244385715"
     },
     "user_tz": -60
    },
    "id": "oGUfC_09QFHN"
   },
   "outputs": [
    {
     "data": {
      "application/vnd.plotly.v1+json": {
       "config": {
        "plotlyServerURL": "https://plot.ly"
       },
       "data": [
        {
         "line": {
          "color": "rgb(150,150,150)",
          "dash": "dash",
          "shape": "linear"
         },
         "mode": "lines",
         "name": "unit circle",
         "type": "scatter",
         "x": {
          "bdata": "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",
          "dtype": "f8"
         },
         "y": {
          "bdata": "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",
          "dtype": "f8"
         }
        },
        {
         "marker": {
          "color": "#1f77b4"
         },
         "mode": "markers",
         "name": "z1",
         "type": "scatter",
         "x": [
          -1
         ],
         "y": [
          0.3
         ]
        },
        {
         "marker": {
          "color": "#ff7f0e"
         },
         "mode": "markers",
         "name": "z2",
         "type": "scatter",
         "x": [
          0.8
         ],
         "y": [
          0.7
         ]
        }
       ],
       "layout": {
        "annotations": [
         {
          "arrowcolor": "#1f77b4",
          "arrowhead": 3,
          "arrowwidth": 1.5,
          "ax": 0,
          "axref": "x",
          "ay": 0,
          "ayref": "y",
          "showarrow": true,
          "text": "",
          "x": -1,
          "y": 0.3
         },
         {
          "arrowcolor": "#ff7f0e",
          "arrowhead": 3,
          "arrowwidth": 1.5,
          "ax": 0,
          "axref": "x",
          "ay": 0,
          "ayref": "y",
          "showarrow": true,
          "text": "",
          "x": 0.8,
          "y": 0.7
         }
        ],
        "template": {
         "data": {
          "bar": [
           {
            "error_x": {
             "color": "#2a3f5f"
            },
            "error_y": {
             "color": "#2a3f5f"
            },
            "marker": {
             "line": {
              "color": "#E5ECF6",
              "width": 0.5
             },
             "pattern": {
              "fillmode": "overlay",
              "size": 10,
              "solidity": 0.2
             }
            },
            "type": "bar"
           }
          ],
          "barpolar": [
           {
            "marker": {
             "line": {
              "color": "#E5ECF6",
              "width": 0.5
             },
             "pattern": {
              "fillmode": "overlay",
              "size": 10,
              "solidity": 0.2
             }
            },
            "type": "barpolar"
           }
          ],
          "carpet": [
           {
            "aaxis": {
             "endlinecolor": "#2a3f5f",
             "gridcolor": "white",
             "linecolor": "white",
             "minorgridcolor": "white",
             "startlinecolor": "#2a3f5f"
            },
            "baxis": {
             "endlinecolor": "#2a3f5f",
             "gridcolor": "white",
             "linecolor": "white",
             "minorgridcolor": "white",
             "startlinecolor": "#2a3f5f"
            },
            "type": "carpet"
           }
          ],
          "choropleth": [
           {
            "colorbar": {
             "outlinewidth": 0,
             "ticks": ""
            },
            "type": "choropleth"
           }
          ],
          "contour": [
           {
            "colorbar": {
             "outlinewidth": 0,
             "ticks": ""
            },
            "colorscale": [
             [
              0,
              "#0d0887"
             ],
             [
              0.1111111111111111,
              "#46039f"
             ],
             [
              0.2222222222222222,
              "#7201a8"
             ],
             [
              0.3333333333333333,
              "#9c179e"
             ],
             [
              0.4444444444444444,
              "#bd3786"
             ],
             [
              0.5555555555555556,
              "#d8576b"
             ],
             [
              0.6666666666666666,
              "#ed7953"
             ],
             [
              0.7777777777777778,
              "#fb9f3a"
             ],
             [
              0.8888888888888888,
              "#fdca26"
             ],
             [
              1,
              "#f0f921"
             ]
            ],
            "type": "contour"
           }
          ],
          "contourcarpet": [
           {
            "colorbar": {
             "outlinewidth": 0,
             "ticks": ""
            },
            "type": "contourcarpet"
           }
          ],
          "heatmap": [
           {
            "colorbar": {
             "outlinewidth": 0,
             "ticks": ""
            },
            "colorscale": [
             [
              0,
              "#0d0887"
             ],
             [
              0.1111111111111111,
              "#46039f"
             ],
             [
              0.2222222222222222,
              "#7201a8"
             ],
             [
              0.3333333333333333,
              "#9c179e"
             ],
             [
              0.4444444444444444,
              "#bd3786"
             ],
             [
              0.5555555555555556,
              "#d8576b"
             ],
             [
              0.6666666666666666,
              "#ed7953"
             ],
             [
              0.7777777777777778,
              "#fb9f3a"
             ],
             [
              0.8888888888888888,
              "#fdca26"
             ],
             [
              1,
              "#f0f921"
             ]
            ],
            "type": "heatmap"
           }
          ],
          "histogram": [
           {
            "marker": {
             "pattern": {
              "fillmode": "overlay",
              "size": 10,
              "solidity": 0.2
             }
            },
            "type": "histogram"
           }
          ],
          "histogram2d": [
           {
            "colorbar": {
             "outlinewidth": 0,
             "ticks": ""
            },
            "colorscale": [
             [
              0,
              "#0d0887"
             ],
             [
              0.1111111111111111,
              "#46039f"
             ],
             [
              0.2222222222222222,
              "#7201a8"
             ],
             [
              0.3333333333333333,
              "#9c179e"
             ],
             [
              0.4444444444444444,
              "#bd3786"
             ],
             [
              0.5555555555555556,
              "#d8576b"
             ],
             [
              0.6666666666666666,
              "#ed7953"
             ],
             [
              0.7777777777777778,
              "#fb9f3a"
             ],
             [
              0.8888888888888888,
              "#fdca26"
             ],
             [
              1,
              "#f0f921"
             ]
            ],
            "type": "histogram2d"
           }
          ],
          "histogram2dcontour": [
           {
            "colorbar": {
             "outlinewidth": 0,
             "ticks": ""
            },
            "colorscale": [
             [
              0,
              "#0d0887"
             ],
             [
              0.1111111111111111,
              "#46039f"
             ],
             [
              0.2222222222222222,
              "#7201a8"
             ],
             [
              0.3333333333333333,
              "#9c179e"
             ],
             [
              0.4444444444444444,
              "#bd3786"
             ],
             [
              0.5555555555555556,
              "#d8576b"
             ],
             [
              0.6666666666666666,
              "#ed7953"
             ],
             [
              0.7777777777777778,
              "#fb9f3a"
             ],
             [
              0.8888888888888888,
              "#fdca26"
             ],
             [
              1,
              "#f0f921"
             ]
            ],
            "type": "histogram2dcontour"
           }
          ],
          "mesh3d": [
           {
            "colorbar": {
             "outlinewidth": 0,
             "ticks": ""
            },
            "type": "mesh3d"
           }
          ],
          "parcoords": [
           {
            "line": {
             "colorbar": {
              "outlinewidth": 0,
              "ticks": ""
             }
            },
            "type": "parcoords"
           }
          ],
          "pie": [
           {
            "automargin": true,
            "type": "pie"
           }
          ],
          "scatter": [
           {
            "fillpattern": {
             "fillmode": "overlay",
             "size": 10,
             "solidity": 0.2
            },
            "type": "scatter"
           }
          ],
          "scatter3d": [
           {
            "line": {
             "colorbar": {
              "outlinewidth": 0,
              "ticks": ""
             }
            },
            "marker": {
             "colorbar": {
              "outlinewidth": 0,
              "ticks": ""
             }
            },
            "type": "scatter3d"
           }
          ],
          "scattercarpet": [
           {
            "marker": {
             "colorbar": {
              "outlinewidth": 0,
              "ticks": ""
             }
            },
            "type": "scattercarpet"
           }
          ],
          "scattergeo": [
           {
            "marker": {
             "colorbar": {
              "outlinewidth": 0,
              "ticks": ""
             }
            },
            "type": "scattergeo"
           }
          ],
          "scattergl": [
           {
            "marker": {
             "colorbar": {
              "outlinewidth": 0,
              "ticks": ""
             }
            },
            "type": "scattergl"
           }
          ],
          "scattermap": [
           {
            "marker": {
             "colorbar": {
              "outlinewidth": 0,
              "ticks": ""
             }
            },
            "type": "scattermap"
           }
          ],
          "scattermapbox": [
           {
            "marker": {
             "colorbar": {
              "outlinewidth": 0,
              "ticks": ""
             }
            },
            "type": "scattermapbox"
           }
          ],
          "scatterpolar": [
           {
            "marker": {
             "colorbar": {
              "outlinewidth": 0,
              "ticks": ""
             }
            },
            "type": "scatterpolar"
           }
          ],
          "scatterpolargl": [
           {
            "marker": {
             "colorbar": {
              "outlinewidth": 0,
              "ticks": ""
             }
            },
            "type": "scatterpolargl"
           }
          ],
          "scatterternary": [
           {
            "marker": {
             "colorbar": {
              "outlinewidth": 0,
              "ticks": ""
             }
            },
            "type": "scatterternary"
           }
          ],
          "surface": [
           {
            "colorbar": {
             "outlinewidth": 0,
             "ticks": ""
            },
            "colorscale": [
             [
              0,
              "#0d0887"
             ],
             [
              0.1111111111111111,
              "#46039f"
             ],
             [
              0.2222222222222222,
              "#7201a8"
             ],
             [
              0.3333333333333333,
              "#9c179e"
             ],
             [
              0.4444444444444444,
              "#bd3786"
             ],
             [
              0.5555555555555556,
              "#d8576b"
             ],
             [
              0.6666666666666666,
              "#ed7953"
             ],
             [
              0.7777777777777778,
              "#fb9f3a"
             ],
             [
              0.8888888888888888,
              "#fdca26"
             ],
             [
              1,
              "#f0f921"
             ]
            ],
            "type": "surface"
           }
          ],
          "table": [
           {
            "cells": {
             "fill": {
              "color": "#EBF0F8"
             },
             "line": {
              "color": "white"
             }
            },
            "header": {
             "fill": {
              "color": "#C8D4E3"
             },
             "line": {
              "color": "white"
             }
            },
            "type": "table"
           }
          ]
         },
         "layout": {
          "annotationdefaults": {
           "arrowcolor": "#2a3f5f",
           "arrowhead": 0,
           "arrowwidth": 1
          },
          "autotypenumbers": "strict",
          "coloraxis": {
           "colorbar": {
            "outlinewidth": 0,
            "ticks": ""
           }
          },
          "colorscale": {
           "diverging": [
            [
             0,
             "#8e0152"
            ],
            [
             0.1,
             "#c51b7d"
            ],
            [
             0.2,
             "#de77ae"
            ],
            [
             0.3,
             "#f1b6da"
            ],
            [
             0.4,
             "#fde0ef"
            ],
            [
             0.5,
             "#f7f7f7"
            ],
            [
             0.6,
             "#e6f5d0"
            ],
            [
             0.7,
             "#b8e186"
            ],
            [
             0.8,
             "#7fbc41"
            ],
            [
             0.9,
             "#4d9221"
            ],
            [
             1,
             "#276419"
            ]
           ],
           "sequential": [
            [
             0,
             "#0d0887"
            ],
            [
             0.1111111111111111,
             "#46039f"
            ],
            [
             0.2222222222222222,
             "#7201a8"
            ],
            [
             0.3333333333333333,
             "#9c179e"
            ],
            [
             0.4444444444444444,
             "#bd3786"
            ],
            [
             0.5555555555555556,
             "#d8576b"
            ],
            [
             0.6666666666666666,
             "#ed7953"
            ],
            [
             0.7777777777777778,
             "#fb9f3a"
            ],
            [
             0.8888888888888888,
             "#fdca26"
            ],
            [
             1,
             "#f0f921"
            ]
           ],
           "sequentialminus": [
            [
             0,
             "#0d0887"
            ],
            [
             0.1111111111111111,
             "#46039f"
            ],
            [
             0.2222222222222222,
             "#7201a8"
            ],
            [
             0.3333333333333333,
             "#9c179e"
            ],
            [
             0.4444444444444444,
             "#bd3786"
            ],
            [
             0.5555555555555556,
             "#d8576b"
            ],
            [
             0.6666666666666666,
             "#ed7953"
            ],
            [
             0.7777777777777778,
             "#fb9f3a"
            ],
            [
             0.8888888888888888,
             "#fdca26"
            ],
            [
             1,
             "#f0f921"
            ]
           ]
          },
          "colorway": [
           "#636efa",
           "#EF553B",
           "#00cc96",
           "#ab63fa",
           "#FFA15A",
           "#19d3f3",
           "#FF6692",
           "#B6E880",
           "#FF97FF",
           "#FECB52"
          ],
          "font": {
           "color": "#2a3f5f"
          },
          "geo": {
           "bgcolor": "white",
           "lakecolor": "white",
           "landcolor": "#E5ECF6",
           "showlakes": true,
           "showland": true,
           "subunitcolor": "white"
          },
          "hoverlabel": {
           "align": "left"
          },
          "hovermode": "closest",
          "mapbox": {
           "style": "light"
          },
          "paper_bgcolor": "white",
          "plot_bgcolor": "#E5ECF6",
          "polar": {
           "angularaxis": {
            "gridcolor": "white",
            "linecolor": "white",
            "ticks": ""
           },
           "bgcolor": "#E5ECF6",
           "radialaxis": {
            "gridcolor": "white",
            "linecolor": "white",
            "ticks": ""
           }
          },
          "scene": {
           "xaxis": {
            "backgroundcolor": "#E5ECF6",
            "gridcolor": "white",
            "gridwidth": 2,
            "linecolor": "white",
            "showbackground": true,
            "ticks": "",
            "zerolinecolor": "white"
           },
           "yaxis": {
            "backgroundcolor": "#E5ECF6",
            "gridcolor": "white",
            "gridwidth": 2,
            "linecolor": "white",
            "showbackground": true,
            "ticks": "",
            "zerolinecolor": "white"
           },
           "zaxis": {
            "backgroundcolor": "#E5ECF6",
            "gridcolor": "white",
            "gridwidth": 2,
            "linecolor": "white",
            "showbackground": true,
            "ticks": "",
            "zerolinecolor": "white"
           }
          },
          "shapedefaults": {
           "line": {
            "color": "#2a3f5f"
           }
          },
          "ternary": {
           "aaxis": {
            "gridcolor": "white",
            "linecolor": "white",
            "ticks": ""
           },
           "baxis": {
            "gridcolor": "white",
            "linecolor": "white",
            "ticks": ""
           },
           "bgcolor": "#E5ECF6",
           "caxis": {
            "gridcolor": "white",
            "linecolor": "white",
            "ticks": ""
           }
          },
          "title": {
           "x": 0.05
          },
          "xaxis": {
           "automargin": true,
           "gridcolor": "white",
           "linecolor": "white",
           "ticks": "",
           "title": {
            "standoff": 15
           },
           "zerolinecolor": "white",
           "zerolinewidth": 2
          },
          "yaxis": {
           "automargin": true,
           "gridcolor": "white",
           "linecolor": "white",
           "ticks": "",
           "title": {
            "standoff": 15
           },
           "zerolinecolor": "white",
           "zerolinewidth": 2
          }
         }
        },
        "xaxis": {
         "title": {
          "text": "Real"
         }
        },
        "yaxis": {
         "scaleanchor": "x",
         "scaleratio": 1,
         "title": {
          "text": "Imaginary"
         }
        }
       }
      }
     },
     "metadata": {},
     "output_type": "display_data"
    }
   ],
   "source": [
    "z1=-1+0.3j\n",
    "z2=0.8+0.7j\n",
    "\n",
    "plot_complex([z1,z2],name=['z1','z2'])"
   ]
  },
  {
   "cell_type": "markdown",
   "metadata": {
    "id": "HI6f-fu7KD5a"
   },
   "source": [
    "1.2. Compute the conjugate z* and the inverse 1/z for both $z_1$ and $z_2$ and plot the results as vectors in the complex plane."
   ]
  },
  {
   "cell_type": "code",
   "execution_count": 5,
   "metadata": {
    "executionInfo": {
     "elapsed": 12,
     "status": "ok",
     "timestamp": 1702317970078,
     "user": {
      "displayName": "PEDRO RAMONEDA FRANCO",
      "userId": "10653804143244385715"
     },
     "user_tz": -60
    },
    "id": "Novsdl6JRX7z"
   },
   "outputs": [
    {
     "data": {
      "application/vnd.plotly.v1+json": {
       "config": {
        "plotlyServerURL": "https://plot.ly"
       },
       "data": [
        {
         "line": {
          "color": "rgb(150,150,150)",
          "dash": "dash",
          "shape": "linear"
         },
         "mode": "lines",
         "name": "unit circle",
         "type": "scatter",
         "x": {
          "bdata": "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",
          "dtype": "f8"
         },
         "y": {
          "bdata": "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",
          "dtype": "f8"
         }
        },
        {
         "marker": {
          "color": "#1f77b4"
         },
         "mode": "markers",
         "name": "z1_conjugate",
         "type": "scatter",
         "x": [
          -1
         ],
         "y": [
          -0.3
         ]
        },
        {
         "marker": {
          "color": "#ff7f0e"
         },
         "mode": "markers",
         "name": "z2_conjugate",
         "type": "scatter",
         "x": [
          0.8
         ],
         "y": [
          -0.7
         ]
        },
        {
         "marker": {
          "color": "#2ca02c"
         },
         "mode": "markers",
         "name": "z1_inverse",
         "type": "scatter",
         "x": [
          -0.9174311926605504
         ],
         "y": [
          -0.2752293577981651
         ]
        },
        {
         "marker": {
          "color": "#d62728"
         },
         "mode": "markers",
         "name": "z2_inverse",
         "type": "scatter",
         "x": [
          0.7079646017699115
         ],
         "y": [
          -0.6194690265486724
         ]
        }
       ],
       "layout": {
        "annotations": [
         {
          "arrowcolor": "#1f77b4",
          "arrowhead": 3,
          "arrowwidth": 1.5,
          "ax": 0,
          "axref": "x",
          "ay": 0,
          "ayref": "y",
          "showarrow": true,
          "text": "",
          "x": -1,
          "y": -0.3
         },
         {
          "arrowcolor": "#ff7f0e",
          "arrowhead": 3,
          "arrowwidth": 1.5,
          "ax": 0,
          "axref": "x",
          "ay": 0,
          "ayref": "y",
          "showarrow": true,
          "text": "",
          "x": 0.8,
          "y": -0.7
         },
         {
          "arrowcolor": "#2ca02c",
          "arrowhead": 3,
          "arrowwidth": 1.5,
          "ax": 0,
          "axref": "x",
          "ay": 0,
          "ayref": "y",
          "showarrow": true,
          "text": "",
          "x": -0.9174311926605504,
          "y": -0.2752293577981651
         },
         {
          "arrowcolor": "#d62728",
          "arrowhead": 3,
          "arrowwidth": 1.5,
          "ax": 0,
          "axref": "x",
          "ay": 0,
          "ayref": "y",
          "showarrow": true,
          "text": "",
          "x": 0.7079646017699115,
          "y": -0.6194690265486724
         }
        ],
        "template": {
         "data": {
          "bar": [
           {
            "error_x": {
             "color": "#2a3f5f"
            },
            "error_y": {
             "color": "#2a3f5f"
            },
            "marker": {
             "line": {
              "color": "#E5ECF6",
              "width": 0.5
             },
             "pattern": {
              "fillmode": "overlay",
              "size": 10,
              "solidity": 0.2
             }
            },
            "type": "bar"
           }
          ],
          "barpolar": [
           {
            "marker": {
             "line": {
              "color": "#E5ECF6",
              "width": 0.5
             },
             "pattern": {
              "fillmode": "overlay",
              "size": 10,
              "solidity": 0.2
             }
            },
            "type": "barpolar"
           }
          ],
          "carpet": [
           {
            "aaxis": {
             "endlinecolor": "#2a3f5f",
             "gridcolor": "white",
             "linecolor": "white",
             "minorgridcolor": "white",
             "startlinecolor": "#2a3f5f"
            },
            "baxis": {
             "endlinecolor": "#2a3f5f",
             "gridcolor": "white",
             "linecolor": "white",
             "minorgridcolor": "white",
             "startlinecolor": "#2a3f5f"
            },
            "type": "carpet"
           }
          ],
          "choropleth": [
           {
            "colorbar": {
             "outlinewidth": 0,
             "ticks": ""
            },
            "type": "choropleth"
           }
          ],
          "contour": [
           {
            "colorbar": {
             "outlinewidth": 0,
             "ticks": ""
            },
            "colorscale": [
             [
              0,
              "#0d0887"
             ],
             [
              0.1111111111111111,
              "#46039f"
             ],
             [
              0.2222222222222222,
              "#7201a8"
             ],
             [
              0.3333333333333333,
              "#9c179e"
             ],
             [
              0.4444444444444444,
              "#bd3786"
             ],
             [
              0.5555555555555556,
              "#d8576b"
             ],
             [
              0.6666666666666666,
              "#ed7953"
             ],
             [
              0.7777777777777778,
              "#fb9f3a"
             ],
             [
              0.8888888888888888,
              "#fdca26"
             ],
             [
              1,
              "#f0f921"
             ]
            ],
            "type": "contour"
           }
          ],
          "contourcarpet": [
           {
            "colorbar": {
             "outlinewidth": 0,
             "ticks": ""
            },
            "type": "contourcarpet"
           }
          ],
          "heatmap": [
           {
            "colorbar": {
             "outlinewidth": 0,
             "ticks": ""
            },
            "colorscale": [
             [
              0,
              "#0d0887"
             ],
             [
              0.1111111111111111,
              "#46039f"
             ],
             [
              0.2222222222222222,
              "#7201a8"
             ],
             [
              0.3333333333333333,
              "#9c179e"
             ],
             [
              0.4444444444444444,
              "#bd3786"
             ],
             [
              0.5555555555555556,
              "#d8576b"
             ],
             [
              0.6666666666666666,
              "#ed7953"
             ],
             [
              0.7777777777777778,
              "#fb9f3a"
             ],
             [
              0.8888888888888888,
              "#fdca26"
             ],
             [
              1,
              "#f0f921"
             ]
            ],
            "type": "heatmap"
           }
          ],
          "histogram": [
           {
            "marker": {
             "pattern": {
              "fillmode": "overlay",
              "size": 10,
              "solidity": 0.2
             }
            },
            "type": "histogram"
           }
          ],
          "histogram2d": [
           {
            "colorbar": {
             "outlinewidth": 0,
             "ticks": ""
            },
            "colorscale": [
             [
              0,
              "#0d0887"
             ],
             [
              0.1111111111111111,
              "#46039f"
             ],
             [
              0.2222222222222222,
              "#7201a8"
             ],
             [
              0.3333333333333333,
              "#9c179e"
             ],
             [
              0.4444444444444444,
              "#bd3786"
             ],
             [
              0.5555555555555556,
              "#d8576b"
             ],
             [
              0.6666666666666666,
              "#ed7953"
             ],
             [
              0.7777777777777778,
              "#fb9f3a"
             ],
             [
              0.8888888888888888,
              "#fdca26"
             ],
             [
              1,
              "#f0f921"
             ]
            ],
            "type": "histogram2d"
           }
          ],
          "histogram2dcontour": [
           {
            "colorbar": {
             "outlinewidth": 0,
             "ticks": ""
            },
            "colorscale": [
             [
              0,
              "#0d0887"
             ],
             [
              0.1111111111111111,
              "#46039f"
             ],
             [
              0.2222222222222222,
              "#7201a8"
             ],
             [
              0.3333333333333333,
              "#9c179e"
             ],
             [
              0.4444444444444444,
              "#bd3786"
             ],
             [
              0.5555555555555556,
              "#d8576b"
             ],
             [
              0.6666666666666666,
              "#ed7953"
             ],
             [
              0.7777777777777778,
              "#fb9f3a"
             ],
             [
              0.8888888888888888,
              "#fdca26"
             ],
             [
              1,
              "#f0f921"
             ]
            ],
            "type": "histogram2dcontour"
           }
          ],
          "mesh3d": [
           {
            "colorbar": {
             "outlinewidth": 0,
             "ticks": ""
            },
            "type": "mesh3d"
           }
          ],
          "parcoords": [
           {
            "line": {
             "colorbar": {
              "outlinewidth": 0,
              "ticks": ""
             }
            },
            "type": "parcoords"
           }
          ],
          "pie": [
           {
            "automargin": true,
            "type": "pie"
           }
          ],
          "scatter": [
           {
            "fillpattern": {
             "fillmode": "overlay",
             "size": 10,
             "solidity": 0.2
            },
            "type": "scatter"
           }
          ],
          "scatter3d": [
           {
            "line": {
             "colorbar": {
              "outlinewidth": 0,
              "ticks": ""
             }
            },
            "marker": {
             "colorbar": {
              "outlinewidth": 0,
              "ticks": ""
             }
            },
            "type": "scatter3d"
           }
          ],
          "scattercarpet": [
           {
            "marker": {
             "colorbar": {
              "outlinewidth": 0,
              "ticks": ""
             }
            },
            "type": "scattercarpet"
           }
          ],
          "scattergeo": [
           {
            "marker": {
             "colorbar": {
              "outlinewidth": 0,
              "ticks": ""
             }
            },
            "type": "scattergeo"
           }
          ],
          "scattergl": [
           {
            "marker": {
             "colorbar": {
              "outlinewidth": 0,
              "ticks": ""
             }
            },
            "type": "scattergl"
           }
          ],
          "scattermap": [
           {
            "marker": {
             "colorbar": {
              "outlinewidth": 0,
              "ticks": ""
             }
            },
            "type": "scattermap"
           }
          ],
          "scattermapbox": [
           {
            "marker": {
             "colorbar": {
              "outlinewidth": 0,
              "ticks": ""
             }
            },
            "type": "scattermapbox"
           }
          ],
          "scatterpolar": [
           {
            "marker": {
             "colorbar": {
              "outlinewidth": 0,
              "ticks": ""
             }
            },
            "type": "scatterpolar"
           }
          ],
          "scatterpolargl": [
           {
            "marker": {
             "colorbar": {
              "outlinewidth": 0,
              "ticks": ""
             }
            },
            "type": "scatterpolargl"
           }
          ],
          "scatterternary": [
           {
            "marker": {
             "colorbar": {
              "outlinewidth": 0,
              "ticks": ""
             }
            },
            "type": "scatterternary"
           }
          ],
          "surface": [
           {
            "colorbar": {
             "outlinewidth": 0,
             "ticks": ""
            },
            "colorscale": [
             [
              0,
              "#0d0887"
             ],
             [
              0.1111111111111111,
              "#46039f"
             ],
             [
              0.2222222222222222,
              "#7201a8"
             ],
             [
              0.3333333333333333,
              "#9c179e"
             ],
             [
              0.4444444444444444,
              "#bd3786"
             ],
             [
              0.5555555555555556,
              "#d8576b"
             ],
             [
              0.6666666666666666,
              "#ed7953"
             ],
             [
              0.7777777777777778,
              "#fb9f3a"
             ],
             [
              0.8888888888888888,
              "#fdca26"
             ],
             [
              1,
              "#f0f921"
             ]
            ],
            "type": "surface"
           }
          ],
          "table": [
           {
            "cells": {
             "fill": {
              "color": "#EBF0F8"
             },
             "line": {
              "color": "white"
             }
            },
            "header": {
             "fill": {
              "color": "#C8D4E3"
             },
             "line": {
              "color": "white"
             }
            },
            "type": "table"
           }
          ]
         },
         "layout": {
          "annotationdefaults": {
           "arrowcolor": "#2a3f5f",
           "arrowhead": 0,
           "arrowwidth": 1
          },
          "autotypenumbers": "strict",
          "coloraxis": {
           "colorbar": {
            "outlinewidth": 0,
            "ticks": ""
           }
          },
          "colorscale": {
           "diverging": [
            [
             0,
             "#8e0152"
            ],
            [
             0.1,
             "#c51b7d"
            ],
            [
             0.2,
             "#de77ae"
            ],
            [
             0.3,
             "#f1b6da"
            ],
            [
             0.4,
             "#fde0ef"
            ],
            [
             0.5,
             "#f7f7f7"
            ],
            [
             0.6,
             "#e6f5d0"
            ],
            [
             0.7,
             "#b8e186"
            ],
            [
             0.8,
             "#7fbc41"
            ],
            [
             0.9,
             "#4d9221"
            ],
            [
             1,
             "#276419"
            ]
           ],
           "sequential": [
            [
             0,
             "#0d0887"
            ],
            [
             0.1111111111111111,
             "#46039f"
            ],
            [
             0.2222222222222222,
             "#7201a8"
            ],
            [
             0.3333333333333333,
             "#9c179e"
            ],
            [
             0.4444444444444444,
             "#bd3786"
            ],
            [
             0.5555555555555556,
             "#d8576b"
            ],
            [
             0.6666666666666666,
             "#ed7953"
            ],
            [
             0.7777777777777778,
             "#fb9f3a"
            ],
            [
             0.8888888888888888,
             "#fdca26"
            ],
            [
             1,
             "#f0f921"
            ]
           ],
           "sequentialminus": [
            [
             0,
             "#0d0887"
            ],
            [
             0.1111111111111111,
             "#46039f"
            ],
            [
             0.2222222222222222,
             "#7201a8"
            ],
            [
             0.3333333333333333,
             "#9c179e"
            ],
            [
             0.4444444444444444,
             "#bd3786"
            ],
            [
             0.5555555555555556,
             "#d8576b"
            ],
            [
             0.6666666666666666,
             "#ed7953"
            ],
            [
             0.7777777777777778,
             "#fb9f3a"
            ],
            [
             0.8888888888888888,
             "#fdca26"
            ],
            [
             1,
             "#f0f921"
            ]
           ]
          },
          "colorway": [
           "#636efa",
           "#EF553B",
           "#00cc96",
           "#ab63fa",
           "#FFA15A",
           "#19d3f3",
           "#FF6692",
           "#B6E880",
           "#FF97FF",
           "#FECB52"
          ],
          "font": {
           "color": "#2a3f5f"
          },
          "geo": {
           "bgcolor": "white",
           "lakecolor": "white",
           "landcolor": "#E5ECF6",
           "showlakes": true,
           "showland": true,
           "subunitcolor": "white"
          },
          "hoverlabel": {
           "align": "left"
          },
          "hovermode": "closest",
          "mapbox": {
           "style": "light"
          },
          "paper_bgcolor": "white",
          "plot_bgcolor": "#E5ECF6",
          "polar": {
           "angularaxis": {
            "gridcolor": "white",
            "linecolor": "white",
            "ticks": ""
           },
           "bgcolor": "#E5ECF6",
           "radialaxis": {
            "gridcolor": "white",
            "linecolor": "white",
            "ticks": ""
           }
          },
          "scene": {
           "xaxis": {
            "backgroundcolor": "#E5ECF6",
            "gridcolor": "white",
            "gridwidth": 2,
            "linecolor": "white",
            "showbackground": true,
            "ticks": "",
            "zerolinecolor": "white"
           },
           "yaxis": {
            "backgroundcolor": "#E5ECF6",
            "gridcolor": "white",
            "gridwidth": 2,
            "linecolor": "white",
            "showbackground": true,
            "ticks": "",
            "zerolinecolor": "white"
           },
           "zaxis": {
            "backgroundcolor": "#E5ECF6",
            "gridcolor": "white",
            "gridwidth": 2,
            "linecolor": "white",
            "showbackground": true,
            "ticks": "",
            "zerolinecolor": "white"
           }
          },
          "shapedefaults": {
           "line": {
            "color": "#2a3f5f"
           }
          },
          "ternary": {
           "aaxis": {
            "gridcolor": "white",
            "linecolor": "white",
            "ticks": ""
           },
           "baxis": {
            "gridcolor": "white",
            "linecolor": "white",
            "ticks": ""
           },
           "bgcolor": "#E5ECF6",
           "caxis": {
            "gridcolor": "white",
            "linecolor": "white",
            "ticks": ""
           }
          },
          "title": {
           "x": 0.05
          },
          "xaxis": {
           "automargin": true,
           "gridcolor": "white",
           "linecolor": "white",
           "ticks": "",
           "title": {
            "standoff": 15
           },
           "zerolinecolor": "white",
           "zerolinewidth": 2
          },
          "yaxis": {
           "automargin": true,
           "gridcolor": "white",
           "linecolor": "white",
           "ticks": "",
           "title": {
            "standoff": 15
           },
           "zerolinecolor": "white",
           "zerolinewidth": 2
          }
         }
        },
        "xaxis": {
         "title": {
          "text": "Real"
         }
        },
        "yaxis": {
         "scaleanchor": "x",
         "scaleratio": 1,
         "title": {
          "text": "Imaginary"
         }
        }
       }
      }
     },
     "metadata": {},
     "output_type": "display_data"
    }
   ],
   "source": [
    "z1_conj=np.conj(z1)\n",
    "z2_conj=np.conj(z2)\n",
    "z1_inverse=1/z1\n",
    "z2_inverse=1/z2\n",
    "plot_complex([z1_conj,z2_conj,z1_inverse,z2_inverse],name=['z1_conjugate','z2_conjugate','z1_inverse','z2_inverse'])\n"
   ]
  },
  {
   "cell_type": "markdown",
   "metadata": {
    "id": "gjPVdnvuKD06"
   },
   "source": [
    "**2. Complex Exponentials**\n",
    "\n",
    "Now let's work with complex exponentials. In python is very easy to work with these type of signals:"
   ]
  },
  {
   "cell_type": "code",
   "execution_count": 6,
   "metadata": {
    "executionInfo": {
     "elapsed": 12,
     "status": "ok",
     "timestamp": 1702317970079,
     "user": {
      "displayName": "PEDRO RAMONEDA FRANCO",
      "userId": "10653804143244385715"
     },
     "user_tz": -60
    },
    "id": "kjkqiEqriy6R"
   },
   "outputs": [],
   "source": [
    "A = 0.4\n",
    "f0 = 457.12\n",
    "fs = 44100\n",
    "phi = np.pi/2\n",
    "t = np.arange(0, .1, 1.0/fs)\n",
    "x1 = A * np.exp(1j*(2*f0*np.pi*t + phi))"
   ]
  },
  {
   "cell_type": "markdown",
   "metadata": {
    "id": "uUmIGLWyi9Wg"
   },
   "source": [
    "Now we can plot the real and imaginary part of this signal:\n"
   ]
  },
  {
   "cell_type": "code",
   "execution_count": 7,
   "metadata": {
    "colab": {
     "base_uri": "https://localhost:8080/",
     "height": 542
    },
    "executionInfo": {
     "elapsed": 1589,
     "status": "ok",
     "timestamp": 1702317971655,
     "user": {
      "displayName": "PEDRO RAMONEDA FRANCO",
      "userId": "10653804143244385715"
     },
     "user_tz": -60
    },
    "id": "3qRWzLQ4i86e",
    "outputId": "74ecce8b-bb7c-4a29-ee26-1b8a35492cfb"
   },
   "outputs": [
    {
     "data": {
      "application/vnd.plotly.v1+json": {
       "config": {
        "linkText": "Export to plot.ly",
        "plotlyServerURL": "https://plot.ly",
        "showLink": false
       },
       "data": [
        {
         "line": {
          "color": "#1f77b4",
          "shape": "linear"
         },
         "mode": "lines",
         "name": "real part",
         "type": "scatter",
         "x": {
          "bdata": "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",
          "dtype": "f8"
         },
         "y": {
          "bdata": "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",
          "dtype": "f8"
         }
        },
        {
         "line": {
          "color": "#ff7f0e",
          "shape": "linear"
         },
         "mode": "lines",
         "name": "imag part",
         "type": "scatter",
         "x": {
          "bdata": "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",
          "dtype": "f8"
         },
         "y": {
          "bdata": "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",
          "dtype": "f8"
         }
        }
       ],
       "layout": {
        "template": {
         "data": {
          "bar": [
           {
            "error_x": {
             "color": "#2a3f5f"
            },
            "error_y": {
             "color": "#2a3f5f"
            },
            "marker": {
             "line": {
              "color": "#E5ECF6",
              "width": 0.5
             },
             "pattern": {
              "fillmode": "overlay",
              "size": 10,
              "solidity": 0.2
             }
            },
            "type": "bar"
           }
          ],
          "barpolar": [
           {
            "marker": {
             "line": {
              "color": "#E5ECF6",
              "width": 0.5
             },
             "pattern": {
              "fillmode": "overlay",
              "size": 10,
              "solidity": 0.2
             }
            },
            "type": "barpolar"
           }
          ],
          "carpet": [
           {
            "aaxis": {
             "endlinecolor": "#2a3f5f",
             "gridcolor": "white",
             "linecolor": "white",
             "minorgridcolor": "white",
             "startlinecolor": "#2a3f5f"
            },
            "baxis": {
             "endlinecolor": "#2a3f5f",
             "gridcolor": "white",
             "linecolor": "white",
             "minorgridcolor": "white",
             "startlinecolor": "#2a3f5f"
            },
            "type": "carpet"
           }
          ],
          "choropleth": [
           {
            "colorbar": {
             "outlinewidth": 0,
             "ticks": ""
            },
            "type": "choropleth"
           }
          ],
          "contour": [
           {
            "colorbar": {
             "outlinewidth": 0,
             "ticks": ""
            },
            "colorscale": [
             [
              0,
              "#0d0887"
             ],
             [
              0.1111111111111111,
              "#46039f"
             ],
             [
              0.2222222222222222,
              "#7201a8"
             ],
             [
              0.3333333333333333,
              "#9c179e"
             ],
             [
              0.4444444444444444,
              "#bd3786"
             ],
             [
              0.5555555555555556,
              "#d8576b"
             ],
             [
              0.6666666666666666,
              "#ed7953"
             ],
             [
              0.7777777777777778,
              "#fb9f3a"
             ],
             [
              0.8888888888888888,
              "#fdca26"
             ],
             [
              1,
              "#f0f921"
             ]
            ],
            "type": "contour"
           }
          ],
          "contourcarpet": [
           {
            "colorbar": {
             "outlinewidth": 0,
             "ticks": ""
            },
            "type": "contourcarpet"
           }
          ],
          "heatmap": [
           {
            "colorbar": {
             "outlinewidth": 0,
             "ticks": ""
            },
            "colorscale": [
             [
              0,
              "#0d0887"
             ],
             [
              0.1111111111111111,
              "#46039f"
             ],
             [
              0.2222222222222222,
              "#7201a8"
             ],
             [
              0.3333333333333333,
              "#9c179e"
             ],
             [
              0.4444444444444444,
              "#bd3786"
             ],
             [
              0.5555555555555556,
              "#d8576b"
             ],
             [
              0.6666666666666666,
              "#ed7953"
             ],
             [
              0.7777777777777778,
              "#fb9f3a"
             ],
             [
              0.8888888888888888,
              "#fdca26"
             ],
             [
              1,
              "#f0f921"
             ]
            ],
            "type": "heatmap"
           }
          ],
          "histogram": [
           {
            "marker": {
             "pattern": {
              "fillmode": "overlay",
              "size": 10,
              "solidity": 0.2
             }
            },
            "type": "histogram"
           }
          ],
          "histogram2d": [
           {
            "colorbar": {
             "outlinewidth": 0,
             "ticks": ""
            },
            "colorscale": [
             [
              0,
              "#0d0887"
             ],
             [
              0.1111111111111111,
              "#46039f"
             ],
             [
              0.2222222222222222,
              "#7201a8"
             ],
             [
              0.3333333333333333,
              "#9c179e"
             ],
             [
              0.4444444444444444,
              "#bd3786"
             ],
             [
              0.5555555555555556,
              "#d8576b"
             ],
             [
              0.6666666666666666,
              "#ed7953"
             ],
             [
              0.7777777777777778,
              "#fb9f3a"
             ],
             [
              0.8888888888888888,
              "#fdca26"
             ],
             [
              1,
              "#f0f921"
             ]
            ],
            "type": "histogram2d"
           }
          ],
          "histogram2dcontour": [
           {
            "colorbar": {
             "outlinewidth": 0,
             "ticks": ""
            },
            "colorscale": [
             [
              0,
              "#0d0887"
             ],
             [
              0.1111111111111111,
              "#46039f"
             ],
             [
              0.2222222222222222,
              "#7201a8"
             ],
             [
              0.3333333333333333,
              "#9c179e"
             ],
             [
              0.4444444444444444,
              "#bd3786"
             ],
             [
              0.5555555555555556,
              "#d8576b"
             ],
             [
              0.6666666666666666,
              "#ed7953"
             ],
             [
              0.7777777777777778,
              "#fb9f3a"
             ],
             [
              0.8888888888888888,
              "#fdca26"
             ],
             [
              1,
              "#f0f921"
             ]
            ],
            "type": "histogram2dcontour"
           }
          ],
          "mesh3d": [
           {
            "colorbar": {
             "outlinewidth": 0,
             "ticks": ""
            },
            "type": "mesh3d"
           }
          ],
          "parcoords": [
           {
            "line": {
             "colorbar": {
              "outlinewidth": 0,
              "ticks": ""
             }
            },
            "type": "parcoords"
           }
          ],
          "pie": [
           {
            "automargin": true,
            "type": "pie"
           }
          ],
          "scatter": [
           {
            "fillpattern": {
             "fillmode": "overlay",
             "size": 10,
             "solidity": 0.2
            },
            "type": "scatter"
           }
          ],
          "scatter3d": [
           {
            "line": {
             "colorbar": {
              "outlinewidth": 0,
              "ticks": ""
             }
            },
            "marker": {
             "colorbar": {
              "outlinewidth": 0,
              "ticks": ""
             }
            },
            "type": "scatter3d"
           }
          ],
          "scattercarpet": [
           {
            "marker": {
             "colorbar": {
              "outlinewidth": 0,
              "ticks": ""
             }
            },
            "type": "scattercarpet"
           }
          ],
          "scattergeo": [
           {
            "marker": {
             "colorbar": {
              "outlinewidth": 0,
              "ticks": ""
             }
            },
            "type": "scattergeo"
           }
          ],
          "scattergl": [
           {
            "marker": {
             "colorbar": {
              "outlinewidth": 0,
              "ticks": ""
             }
            },
            "type": "scattergl"
           }
          ],
          "scattermap": [
           {
            "marker": {
             "colorbar": {
              "outlinewidth": 0,
              "ticks": ""
             }
            },
            "type": "scattermap"
           }
          ],
          "scattermapbox": [
           {
            "marker": {
             "colorbar": {
              "outlinewidth": 0,
              "ticks": ""
             }
            },
            "type": "scattermapbox"
           }
          ],
          "scatterpolar": [
           {
            "marker": {
             "colorbar": {
              "outlinewidth": 0,
              "ticks": ""
             }
            },
            "type": "scatterpolar"
           }
          ],
          "scatterpolargl": [
           {
            "marker": {
             "colorbar": {
              "outlinewidth": 0,
              "ticks": ""
             }
            },
            "type": "scatterpolargl"
           }
          ],
          "scatterternary": [
           {
            "marker": {
             "colorbar": {
              "outlinewidth": 0,
              "ticks": ""
             }
            },
            "type": "scatterternary"
           }
          ],
          "surface": [
           {
            "colorbar": {
             "outlinewidth": 0,
             "ticks": ""
            },
            "colorscale": [
             [
              0,
              "#0d0887"
             ],
             [
              0.1111111111111111,
              "#46039f"
             ],
             [
              0.2222222222222222,
              "#7201a8"
             ],
             [
              0.3333333333333333,
              "#9c179e"
             ],
             [
              0.4444444444444444,
              "#bd3786"
             ],
             [
              0.5555555555555556,
              "#d8576b"
             ],
             [
              0.6666666666666666,
              "#ed7953"
             ],
             [
              0.7777777777777778,
              "#fb9f3a"
             ],
             [
              0.8888888888888888,
              "#fdca26"
             ],
             [
              1,
              "#f0f921"
             ]
            ],
            "type": "surface"
           }
          ],
          "table": [
           {
            "cells": {
             "fill": {
              "color": "#EBF0F8"
             },
             "line": {
              "color": "white"
             }
            },
            "header": {
             "fill": {
              "color": "#C8D4E3"
             },
             "line": {
              "color": "white"
             }
            },
            "type": "table"
           }
          ]
         },
         "layout": {
          "annotationdefaults": {
           "arrowcolor": "#2a3f5f",
           "arrowhead": 0,
           "arrowwidth": 1
          },
          "autotypenumbers": "strict",
          "coloraxis": {
           "colorbar": {
            "outlinewidth": 0,
            "ticks": ""
           }
          },
          "colorscale": {
           "diverging": [
            [
             0,
             "#8e0152"
            ],
            [
             0.1,
             "#c51b7d"
            ],
            [
             0.2,
             "#de77ae"
            ],
            [
             0.3,
             "#f1b6da"
            ],
            [
             0.4,
             "#fde0ef"
            ],
            [
             0.5,
             "#f7f7f7"
            ],
            [
             0.6,
             "#e6f5d0"
            ],
            [
             0.7,
             "#b8e186"
            ],
            [
             0.8,
             "#7fbc41"
            ],
            [
             0.9,
             "#4d9221"
            ],
            [
             1,
             "#276419"
            ]
           ],
           "sequential": [
            [
             0,
             "#0d0887"
            ],
            [
             0.1111111111111111,
             "#46039f"
            ],
            [
             0.2222222222222222,
             "#7201a8"
            ],
            [
             0.3333333333333333,
             "#9c179e"
            ],
            [
             0.4444444444444444,
             "#bd3786"
            ],
            [
             0.5555555555555556,
             "#d8576b"
            ],
            [
             0.6666666666666666,
             "#ed7953"
            ],
            [
             0.7777777777777778,
             "#fb9f3a"
            ],
            [
             0.8888888888888888,
             "#fdca26"
            ],
            [
             1,
             "#f0f921"
            ]
           ],
           "sequentialminus": [
            [
             0,
             "#0d0887"
            ],
            [
             0.1111111111111111,
             "#46039f"
            ],
            [
             0.2222222222222222,
             "#7201a8"
            ],
            [
             0.3333333333333333,
             "#9c179e"
            ],
            [
             0.4444444444444444,
             "#bd3786"
            ],
            [
             0.5555555555555556,
             "#d8576b"
            ],
            [
             0.6666666666666666,
             "#ed7953"
            ],
            [
             0.7777777777777778,
             "#fb9f3a"
            ],
            [
             0.8888888888888888,
             "#fdca26"
            ],
            [
             1,
             "#f0f921"
            ]
           ]
          },
          "colorway": [
           "#636efa",
           "#EF553B",
           "#00cc96",
           "#ab63fa",
           "#FFA15A",
           "#19d3f3",
           "#FF6692",
           "#B6E880",
           "#FF97FF",
           "#FECB52"
          ],
          "font": {
           "color": "#2a3f5f"
          },
          "geo": {
           "bgcolor": "white",
           "lakecolor": "white",
           "landcolor": "#E5ECF6",
           "showlakes": true,
           "showland": true,
           "subunitcolor": "white"
          },
          "hoverlabel": {
           "align": "left"
          },
          "hovermode": "closest",
          "mapbox": {
           "style": "light"
          },
          "paper_bgcolor": "white",
          "plot_bgcolor": "#E5ECF6",
          "polar": {
           "angularaxis": {
            "gridcolor": "white",
            "linecolor": "white",
            "ticks": ""
           },
           "bgcolor": "#E5ECF6",
           "radialaxis": {
            "gridcolor": "white",
            "linecolor": "white",
            "ticks": ""
           }
          },
          "scene": {
           "xaxis": {
            "backgroundcolor": "#E5ECF6",
            "gridcolor": "white",
            "gridwidth": 2,
            "linecolor": "white",
            "showbackground": true,
            "ticks": "",
            "zerolinecolor": "white"
           },
           "yaxis": {
            "backgroundcolor": "#E5ECF6",
            "gridcolor": "white",
            "gridwidth": 2,
            "linecolor": "white",
            "showbackground": true,
            "ticks": "",
            "zerolinecolor": "white"
           },
           "zaxis": {
            "backgroundcolor": "#E5ECF6",
            "gridcolor": "white",
            "gridwidth": 2,
            "linecolor": "white",
            "showbackground": true,
            "ticks": "",
            "zerolinecolor": "white"
           }
          },
          "shapedefaults": {
           "line": {
            "color": "#2a3f5f"
           }
          },
          "ternary": {
           "aaxis": {
            "gridcolor": "white",
            "linecolor": "white",
            "ticks": ""
           },
           "baxis": {
            "gridcolor": "white",
            "linecolor": "white",
            "ticks": ""
           },
           "bgcolor": "#E5ECF6",
           "caxis": {
            "gridcolor": "white",
            "linecolor": "white",
            "ticks": ""
           }
          },
          "title": {
           "x": 0.05
          },
          "xaxis": {
           "automargin": true,
           "gridcolor": "white",
           "linecolor": "white",
           "ticks": "",
           "title": {
            "standoff": 15
           },
           "zerolinecolor": "white",
           "zerolinewidth": 2
          },
          "yaxis": {
           "automargin": true,
           "gridcolor": "white",
           "linecolor": "white",
           "ticks": "",
           "title": {
            "standoff": 15
           },
           "zerolinecolor": "white",
           "zerolinewidth": 2
          }
         }
        }
       }
      }
     },
     "metadata": {},
     "output_type": "display_data"
    }
   ],
   "source": [
    "plot_signals([np.real(x1), np.imag(x1)], fs, name=['real part', 'imag part'])"
   ]
  },
  {
   "cell_type": "markdown",
   "metadata": {
    "id": "WbmSTmpIkU9B"
   },
   "source": [
    "2.1. Define a complex exponential with the same parameters that those from Lab 1 (Ex 3.1) and plot the real part."
   ]
  },
  {
   "cell_type": "code",
   "execution_count": 8,
   "metadata": {
    "executionInfo": {
     "elapsed": 14,
     "status": "ok",
     "timestamp": 1702317971656,
     "user": {
      "displayName": "PEDRO RAMONEDA FRANCO",
      "userId": "10653804143244385715"
     },
     "user_tz": -60
    },
    "id": "o3o5lc6WkTId"
   },
   "outputs": [
    {
     "ename": "NameError",
     "evalue": "name 'Y' is not defined",
     "output_type": "error",
     "traceback": [
      "\u001b[31m---------------------------------------------------------------------------\u001b[39m",
      "\u001b[31mNameError\u001b[39m                                 Traceback (most recent call last)",
      "\u001b[36mCell\u001b[39m\u001b[36m \u001b[39m\u001b[32mIn[8]\u001b[39m\u001b[32m, line 5\u001b[39m\n\u001b[32m      3\u001b[39m phi=\u001b[32m5\u001b[39m*(np.pi)/\u001b[32m4\u001b[39m\n\u001b[32m      4\u001b[39m X = A * np.exp(\u001b[32m1\u001b[39mj*(\u001b[32m2\u001b[39m * np.pi * f0 * t + phi))\n\u001b[32m----> \u001b[39m\u001b[32m5\u001b[39m plot_signals([np.real(\u001b[43mY\u001b[49m)],fs, name=[\u001b[33m'\u001b[39m\u001b[33mreal part\u001b[39m\u001b[33m'\u001b[39m])\n",
      "\u001b[31mNameError\u001b[39m: name 'Y' is not defined"
     ]
    }
   ],
   "source": [
    "A = 0.4\n",
    "f0 = 457.12\n",
    "phi=5*(np.pi)/4\n",
    "X = A * np.exp(1j*(2 * np.pi * f0 * t + phi))\n",
    "plot_signals([np.real(Y)],fs, name=['real part'])\n"
   ]
  },
  {
   "cell_type": "markdown",
   "metadata": {
    "id": "bU3RpE-gxOtj"
   },
   "source": [
    "**3. Harmonic signals**\n",
    "\n",
    "Now, we will work with harmonic signals. Until now, we have been working with simple sinusoids signals but most musical instruments sounds are harmonic. This means that they are formed by a sinusoid of the fundamental frequency plus sinusoids with frequencies multiples of it. For instance, we can define the following signal formed by the fundamental frequency plus the second and the third harmonic (note that each wave has a different phase).\n",
    "\n"
   ]
  },
  {
   "cell_type": "markdown",
   "metadata": {
    "id": "33AJ43U-yuv6"
   },
   "source": [
    "3.1. Load your reference audio signal and plot some periods (5-10) where the amplitude is stable. For instance see Ex. 2.3 from Lab 1."
   ]
  },
  {
   "cell_type": "code",
   "execution_count": null,
   "metadata": {
    "executionInfo": {
     "elapsed": 13,
     "status": "ok",
     "timestamp": 1702317971657,
     "user": {
      "displayName": "PEDRO RAMONEDA FRANCO",
      "userId": "10653804143244385715"
     },
     "user_tz": -60
    },
    "id": "KRd70D8Ayt26"
   },
   "outputs": [
    {
     "data": {
      "text/html": [
       "\n",
       "                <audio  controls=\"controls\" >\n",
       "                    <source src=\"data:audio/wav;base64,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\" type=\"audio/wav\" />\n",
       "                    Your browser does not support the audio element.\n",
       "                </audio>\n",
       "              "
      ],
      "text/plain": [
       "<IPython.lib.display.Audio object>"
      ]
     },
     "execution_count": 43,
     "metadata": {},
     "output_type": "execute_result"
    }
   ],
   "source": [
    "filepath = \"sis1_group4ukelele.wav\"\n",
    "ref, fs = load_audio(filepath)# Write the code here\n",
    "Audio(ref, rate=fs)"
   ]
  },
  {
   "cell_type": "code",
   "execution_count": null,
   "metadata": {},
   "outputs": [
    {
     "data": {
      "application/vnd.plotly.v1+json": {
       "config": {
        "linkText": "Export to plot.ly",
        "plotlyServerURL": "https://plot.ly",
        "showLink": false
       },
       "data": [
        {
         "line": {
          "color": "#1f77b4",
          "shape": "linear"
         },
         "mode": "lines",
         "name": "audio signal 0",
         "type": "scatter",
         "x": [
          0.1000040361640297,
          0.1000267128162211,
          0.10004938946841248,
          0.10007206612060388,
          0.10009474277279526,
          0.10011741942498666,
          0.10014009607717804,
          0.10016277272936944,
          0.10018544938156082,
          0.10020812603375222,
          0.1002308026859436,
          0.100253479338135,
          0.10027615599032638,
          0.10029883264251777,
          0.10032150929470916,
          0.10034418594690055,
          0.10036686259909194,
          0.10038953925128333,
          0.10041221590347472,
          0.10043489255566611,
          0.1004575692078575,
          0.10048024586004889,
          0.10050292251224029,
          0.10052559916443167,
          0.10054827581662307,
          0.10057095246881445,
          0.10059362912100585,
          0.10061630577319723,
          0.10063898242538862,
          0.10066165907758001,
          0.1006843357297714,
          0.1007070123819628,
          0.10072968903415418,
          0.10075236568634557,
          0.10077504233853696,
          0.10079771899072835,
          0.10082039564291974,
          0.10084307229511114,
          0.10086574894730252,
          0.10088842559949392,
          0.1009111022516853,
          0.1009337789038767,
          0.10095645555606808,
          0.10097913220825946,
          0.10100180886045086,
          0.10102448551264225,
          0.10104716216483364,
          0.10106983881702503,
          0.10109251546921642,
          0.10111519212140781,
          0.1011378687735992,
          0.10116054542579059,
          0.10118322207798199,
          0.10120589873017337,
          0.10122857538236477,
          0.10125125203455615,
          0.10127392868674755,
          0.10129660533893893,
          0.10131928199113031,
          0.10134195864332171,
          0.1013646352955131,
          0.10138731194770449,
          0.10140998859989588,
          0.10143266525208727,
          0.10145534190427866,
          0.10147801855647005,
          0.10150069520866144,
          0.10152337186085283,
          0.10154604851304422,
          0.10156872516523562,
          0.101591401817427,
          0.1016140784696184,
          0.10163675512180978,
          0.10165943177400116,
          0.10168210842619256,
          0.10170478507838394,
          0.10172746173057534,
          0.10175013838276672,
          0.10177281503495812,
          0.1017954916871495,
          0.1018181683393409,
          0.10184084499153229,
          0.10186352164372368,
          0.10188619829591507,
          0.10190887494810646,
          0.10193155160029785,
          0.10195422825248925,
          0.10197690490468063,
          0.10199958155687201,
          0.10202225820906341,
          0.1020449348612548,
          0.10206761151344619,
          0.10209028816563757,
          0.10211296481782897,
          0.10213564147002036,
          0.10215831812221175,
          0.10218099477440314,
          0.10220367142659453,
          0.10222634807878592,
          0.10224902473097731,
          0.1022717013831687,
          0.1022943780353601,
          0.10231705468755148,
          0.10233973133974286,
          0.10236240799193426,
          0.10238508464412564,
          0.10240776129631704,
          0.10243043794850842,
          0.10245311460069982,
          0.1024757912528912,
          0.1024984679050826,
          0.10252114455727399,
          0.10254382120946538,
          0.10256649786165677,
          0.10258917451384816,
          0.10261185116603955,
          0.10263452781823094,
          0.10265720447042233,
          0.10267988112261371,
          0.10270255777480511,
          0.10272523442699649,
          0.10274791107918789,
          0.10277058773137927,
          0.10279326438357067,
          0.10281594103576205,
          0.10283861768795345,
          0.10286129434014483,
          0.10288397099233623,
          0.10290664764452762,
          0.10292932429671901,
          0.1029520009489104,
          0.1029746776011018,
          0.10299735425329318,
          0.10302003090548456,
          0.10304270755767596,
          0.10306538420986734,
          0.10308806086205874,
          0.10311073751425012,
          0.10313341416644152,
          0.1031560908186329,
          0.1031787674708243,
          0.10320144412301568,
          0.10322412077520708,
          0.10324679742739847,
          0.10326947407958986,
          0.10329215073178125,
          0.10331482738397264,
          0.10333750403616403,
          0.10336018068835541,
          0.10338285734054681,
          0.10340553399273819,
          0.10342821064492959,
          0.10345088729712097,
          0.10347356394931237,
          0.10349624060150375,
          0.10351891725369515,
          0.10354159390588653,
          0.10356427055807793,
          0.10358694721026931,
          0.10360962386246071,
          0.1036323005146521,
          0.10365497716684348,
          0.10367765381903488,
          0.10370033047122626,
          0.10372300712341766,
          0.10374568377560904,
          0.10376836042780044,
          0.10379103707999182,
          0.10381371373218322,
          0.1038363903843746,
          0.103859067036566,
          0.10388174368875738,
          0.10390442034094878,
          0.10392709699314016,
          0.10394977364533156,
          0.10397245029752294,
          0.10399512694971433,
          0.10401780360190573,
          0.10404048025409711,
          0.1040631569062885,
          0.10408583355847989,
          0.10410851021067129,
          0.10413118686286267,
          0.10415386351505407,
          0.10417654016724545,
          0.10419921681943685,
          0.10422189347162823,
          0.10424457012381963,
          0.10426724677601101,
          0.10428992342820241,
          0.1043126000803938,
          0.10433527673258518,
          0.10435795338477658,
          0.10438063003696796,
          0.10440330668915936,
          0.10442598334135074,
          0.10444865999354214,
          0.10447133664573352,
          0.10449401329792492,
          0.1045166899501163,
          0.1045393666023077,
          0.10456204325449908,
          0.10458471990669048,
          0.10460739655888186,
          0.10463007321107326,
          0.10465274986326464,
          0.10467542651545603,
          0.10469810316764742,
          0.10472077981983881,
          0.1047434564720302,
          0.10476613312422159,
          0.10478880977641299,
          0.10481148642860437,
          0.10483416308079577,
          0.10485683973298715,
          0.10487951638517855,
          0.10490219303736993,
          0.10492486968956133,
          0.10494754634175271,
          0.10497022299394411,
          0.10499289964613549,
          0.10501557629832688,
          0.10503825295051827,
          0.10506092960270966,
          0.10508360625490105,
          0.10510628290709244,
          0.10512895955928384,
          0.10515163621147522,
          0.10517431286366662,
          0.105196989515858,
          0.1052196661680494,
          0.10524234282024078,
          0.10526501947243218,
          0.10528769612462356,
          0.10531037277681496,
          0.10533304942900634,
          0.10535572608119773,
          0.10537840273338912,
          0.1054010793855805,
          0.1054237560377719,
          0.10544643268996329,
          0.10546910934215468,
          0.10549178599434607,
          0.10551446264653747,
          0.10553713929872885,
          0.10555981595092025,
          0.10558249260311163,
          0.10560516925530303,
          0.10562784590749441,
          0.10565052255968581,
          0.10567319921187719,
          0.10569587586406858,
          0.10571855251625997,
          0.10574122916845136,
          0.10576390582064275,
          0.10578658247283414,
          0.10580925912502553,
          0.10583193577721692,
          0.10585461242940832,
          0.1058772890815997,
          0.1058999657337911,
          0.10592264238598248,
          0.10594531903817388,
          0.10596799569036526,
          0.10599067234255666,
          0.10601334899474804,
          0.10603602564693942,
          0.10605870229913082,
          0.1060813789513222,
          0.1061040556035136,
          0.10612673225570499,
          0.10614940890789638,
          0.10617208556008777,
          0.10619476221227916,
          0.10621743886447055,
          0.10624011551666195,
          0.10626279216885333,
          0.10628546882104473,
          0.10630814547323611,
          0.10633082212542751,
          0.10635349877761889,
          0.10637617542981027,
          0.10639885208200167,
          0.10642152873419305,
          0.10644420538638445,
          0.10646688203857584,
          0.10648955869076723,
          0.10651223534295862,
          0.10653491199515001,
          0.1065575886473414,
          0.1065802652995328,
          0.10660294195172418,
          0.10662561860391558,
          0.10664829525610696,
          0.10667097190829836,
          0.10669364856048974,
          0.10671632521268112,
          0.10673900186487252,
          0.1067616785170639,
          0.1067843551692553,
          0.10680703182144669,
          0.10682970847363808,
          0.10685238512582947,
          0.10687506177802086,
          0.10689773843021225,
          0.10692041508240364,
          0.10694309173459503,
          0.10696576838678643,
          0.10698844503897781,
          0.1070111216911692,
          0.10703379834336059,
          0.10705647499555197,
          0.10707915164774337,
          0.10710182829993475,
          0.10712450495212615,
          0.10714718160431753,
          0.10716985825650893,
          0.10719253490870032,
          0.10721521156089171,
          0.1072378882130831,
          0.1072605648652745,
          0.10728324151746588,
          0.10730591816965727,
          0.10732859482184866,
          0.10735127147404006,
          0.10737394812623144,
          0.10739662477842282,
          0.10741930143061422,
          0.1074419780828056,
          0.107464654734997,
          0.10748733138718838,
          0.10751000803937978,
          0.10753268469157116,
          0.10755536134376256,
          0.10757803799595395,
          0.10760071464814534,
          0.10762339130033673,
          0.10764606795252812,
          0.10766874460471951,
          0.10769142125691089,
          0.10771409790910229,
          0.10773677456129367,
          0.10775945121348507,
          0.10778212786567645,
          0.10780480451786785,
          0.10782748117005923,
          0.10785015782225063,
          0.10787283447444201,
          0.10789551112663341,
          0.1079181877788248,
          0.10794086443101619,
          0.10796354108320758,
          0.10798621773539897,
          0.10800889438759036,
          0.10803157103978174,
          0.10805424769197314,
          0.10807692434416452,
          0.10809960099635592,
          0.1081222776485473,
          0.1081449543007387,
          0.10816763095293008,
          0.10819030760512148,
          0.10821298425731286,
          0.10823566090950426,
          0.10825833756169564,
          0.10828101421388704,
          0.10830369086607843,
          0.10832636751826982,
          0.1083490441704612,
          0.10837172082265259,
          0.10839439747484399,
          0.10841707412703537,
          0.10843975077922677,
          0.10846242743141815,
          0.10848510408360955,
          0.10850778073580093,
          0.10853045738799233,
          0.10855313404018371,
          0.10857581069237511,
          0.1085984873445665,
          0.10862116399675789,
          0.10864384064894927,
          0.10866651730114067,
          0.10868919395333206,
          0.10871187060552344,
          0.10873454725771484,
          0.10875722390990622,
          0.10877990056209762,
          0.108802577214289,
          0.1088252538664804,
          0.10884793051867178,
          0.10887060717086318,
          0.10889328382305456,
          0.10891596047524596,
          0.10893863712743734,
          0.10896131377962874,
          0.10898399043182012,
          0.10900666708401152,
          0.1090293437362029,
          0.10905202038839429,
          0.10907469704058569,
          0.10909737369277707,
          0.10912005034496847,
          0.10914272699715985,
          0.10916540364935125,
          0.10918808030154263,
          0.10921075695373403,
          0.10923343360592541,
          0.10925611025811681,
          0.10927878691030819,
          0.10930146356249959,
          0.10932414021469097,
          0.10934681686688237,
          0.10936949351907375,
          0.10939217017126514,
          0.10941484682345654,
          0.10943752347564792,
          0.10946020012783932,
          0.1094828767800307,
          0.1095055534322221,
          0.10952823008441348,
          0.10955090673660488,
          0.10957358338879626,
          0.10959626004098766,
          0.10961893669317904,
          0.10964161334537044,
          0.10966428999756182,
          0.10968696664975322,
          0.1097096433019446,
          0.10973231995413599,
          0.10975499660632738,
          0.10977767325851877,
          0.10980034991071017,
          0.10982302656290155,
          0.10984570321509295,
          0.10986837986728433,
          0.10989105651947573,
          0.10991373317166711,
          0.10993640982385851,
          0.10995908647604989,
          0.10998176312824129,
          0.11000443978043267,
          0.11002711643262407,
          0.11004979308481545,
          0.11007246973700684,
          0.11009514638919823,
          0.11011782304138962,
          0.11014049969358101,
          0.1101631763457724,
          0.1101858529979638,
          0.11020852965015518,
          0.11023120630234658,
          0.11025388295453796,
          0.11027655960672936,
          0.11029923625892074,
          0.11032191291111214,
          0.11034458956330352,
          0.11036726621549492,
          0.1103899428676863,
          0.11041261951987769,
          0.11043529617206908,
          0.11045797282426047,
          0.11048064947645186,
          0.11050332612864325,
          0.11052600278083465,
          0.11054867943302603,
          0.11057135608521743,
          0.11059403273740881,
          0.1106167093896002,
          0.11063938604179159,
          0.11066206269398299,
          0.11068473934617437,
          0.11070741599836577,
          0.11073009265055715,
          0.11075276930274854,
          0.11077544595493993,
          0.11079812260713132,
          0.11082079925932271,
          0.1108434759115141,
          0.1108661525637055,
          0.11088882921589688,
          0.11091150586808828,
          0.11093418252027966,
          0.11095685917247106,
          0.11097953582466244,
          0.11100221247685384,
          0.11102488912904522,
          0.11104756578123662,
          0.111070242433428,
          0.11109291908561938,
          0.11111559573781078,
          0.11113827239000217,
          0.11116094904219356,
          0.11118362569438495,
          0.11120630234657634,
          0.11122897899876773,
          0.11125165565095912,
          0.11127433230315051,
          0.1112970089553419,
          0.11131968560753329,
          0.11134236225972469,
          0.11136503891191607,
          0.11138771556410747,
          0.11141039221629885,
          0.11143306886849023,
          0.11145574552068163,
          0.11147842217287302,
          0.11150109882506441,
          0.1115237754772558,
          0.1115464521294472,
          0.11156912878163858,
          0.11159180543382997,
          0.11161448208602136,
          0.11163715873821276,
          0.11165983539040414,
          0.11168251204259554,
          0.11170518869478692,
          0.11172786534697832,
          0.1117505419991697,
          0.11177321865136108,
          0.11179589530355248,
          0.11181857195574386,
          0.11184124860793526,
          0.11186392526012665,
          0.11188660191231804,
          0.11190927856450943,
          0.11193195521670082,
          0.11195463186889221,
          0.1119773085210836,
          0.11199998517327499,
          0.11202266182546639,
          0.11204533847765777,
          0.11206801512984915,
          0.11209069178204055,
          0.11211336843423193,
          0.11213604508642333,
          0.11215872173861471,
          0.11218139839080611,
          0.1122040750429975,
          0.11222675169518889,
          0.11224942834738028,
          0.11227210499957167,
          0.11229478165176306,
          0.11231745830395445,
          0.11234013495614584,
          0.11236281160833723,
          0.11238548826052862,
          0.11240816491272,
          0.1124308415649114,
          0.11245351821710278,
          0.11247619486929418,
          0.11249887152148556,
          0.11252154817367696,
          0.11254422482586834,
          0.11256690147805974,
          0.11258957813025113,
          0.11261225478244252,
          0.1126349314346339,
          0.1126576080868253,
          0.11268028473901669,
          0.11270296139120808,
          0.11272563804339947,
          0.11274831469559085,
          0.11277099134778225,
          0.11279366799997363,
          0.11281634465216503,
          0.11283902130435641,
          0.11286169795654781,
          0.1128843746087392,
          0.11290705126093059,
          0.11292972791312197,
          0.11295240456531337,
          0.11297508121750476,
          0.11299775786969615,
          0.11302043452188754,
          0.11304311117407893,
          0.11306578782627032,
          0.1130884644784617,
          0.1131111411306531,
          0.11313381778284448,
          0.11315649443503588,
          0.11317917108722726,
          0.11320184773941866,
          0.11322452439161004,
          0.11324720104380144,
          0.11326987769599282,
          0.11329255434818422,
          0.1133152310003756,
          0.113337907652567,
          0.11336058430475839,
          0.11338326095694978,
          0.11340593760914117,
          0.11342861426133255,
          0.11345129091352395,
          0.11347396756571533,
          0.11349664421790673,
          0.11351932087009811,
          0.11354199752228951,
          0.11356467417448089,
          0.11358735082667229,
          0.11361002747886367,
          0.11363270413105507,
          0.11365538078324645,
          0.11367805743543785,
          0.11370073408762923,
          0.11372341073982063,
          0.11374608739201202,
          0.1137687640442034,
          0.1137914406963948,
          0.11381411734858618,
          0.11383679400077758,
          0.11385947065296896,
          0.11388214730516036,
          0.11390482395735174,
          0.11392750060954314,
          0.11395017726173452,
          0.11397285391392592,
          0.1139955305661173,
          0.1140182072183087,
          0.11404088387050008,
          0.11406356052269148,
          0.11408623717488287,
          0.11410891382707425,
          0.11413159047926565,
          0.11415426713145703,
          0.11417694378364843,
          0.11419962043583981,
          0.11422229708803121,
          0.11424497374022259,
          0.11426765039241399,
          0.11429032704460537,
          0.11431300369679677,
          0.11433568034898815,
          0.11435835700117955,
          0.11438103365337093,
          0.11440371030556233,
          0.11442638695775371,
          0.1144490636099451,
          0.1144717402621365,
          0.11449441691432788,
          0.11451709356651928,
          0.11453977021871066,
          0.11456244687090206,
          0.11458512352309344,
          0.11460780017528484,
          0.11463047682747622,
          0.11465315347966762,
          0.114675830131859,
          0.1146985067840504,
          0.11472118343624178,
          0.11474386008843318,
          0.11476653674062456,
          0.11478921339281595,
          0.11481189004500734,
          0.11483456669719873,
          0.11485724334939013,
          0.11487992000158151,
          0.1149025966537729,
          0.11492527330596429,
          0.11494794995815569,
          0.11497062661034707,
          0.11499330326253847,
          0.11501597991472985,
          0.11503865656692125,
          0.11506133321911263,
          0.11508400987130403,
          0.11510668652349541,
          0.1151293631756868,
          0.1151520398278782,
          0.11517471648006958,
          0.11519739313226098,
          0.11522006978445236,
          0.11524274643664376,
          0.11526542308883514,
          0.11528809974102654
         ],
         "y": [
          0.22589784423024292,
          0.2494453744044983,
          0.2733041600337708,
          0.29223852912099,
          0.3094642714610779,
          0.3277687386623108,
          0.3403386429897034,
          0.3502241925349915,
          0.36134475032002566,
          0.3671827868571961,
          0.3713198260417664,
          0.3765106753459656,
          0.3788459853282654,
          0.38086145678670047,
          0.38578253546864627,
          0.3937603787532532,
          0.3994957760921204,
          0.401974971686908,
          0.3993654803386414,
          0.38837784091145633,
          0.37189274588734744,
          0.3484565571895325,
          0.32079761782796024,
          0.2900691584697449,
          0.25752156535298465,
          0.22682767668873902,
          0.1938672618022644,
          0.1623048142543518,
          0.135494406615802,
          0.11018436709553835,
          0.08736520568043825,
          0.06876128474385378,
          0.05331843653828737,
          0.03988915244252321,
          0.02979450980336305,
          0.0241946534267151,
          0.022005970870562757,
          0.01806681910664674,
          0.01044004717976686,
          -0.0014709874042785499,
          -0.019731704796246325,
          -0.04237908562510374,
          -0.07360130986063841,
          -0.11423236569254759,
          -0.15713519295542602,
          -0.2008485241779602,
          -0.24261683663218384,
          -0.2795224829563415,
          -0.3116551085361755,
          -0.3376905365833557,
          -0.36143285473673703,
          -0.3843225880512512,
          -0.40307230194895627,
          -0.41856438359110715,
          -0.42838210305064084,
          -0.4312474175342834,
          -0.43050939282267453,
          -0.42460972508280637,
          -0.4144613190540588,
          -0.4051024361500061,
          -0.3935151739963806,
          -0.3774291916736877,
          -0.36148614128916623,
          -0.34598190029948117,
          -0.33253020485728146,
          -0.32281715115397336,
          -0.31475466927378537,
          -0.3099033280262268,
          -0.30670828064768674,
          -0.3006326599964416,
          -0.2923708601841247,
          -0.2814065857776916,
          -0.2658404751667297,
          -0.2474803372272766,
          -0.22660083016245727,
          -0.20647281845896606,
          -0.19199318131296997,
          -0.18128186901896362,
          -0.1732662363895691,
          -0.16734570702402954,
          -0.16033345898478393,
          -0.14966243943064575,
          -0.1347298069843567,
          -0.11592466076701048,
          -0.09131294926493529,
          -0.062205259407452376,
          -0.029581729973248278,
          0.007609303390094009,
          0.043413217460223405,
          0.07772546569020387,
          0.11113994876057741,
          0.1368451670757019,
          0.1590588645091736,
          0.1796690777888977,
          0.193353350555011,
          0.20391922751576538,
          0.2106340483775818,
          0.2094840363612854,
          0.20248907366902466,
          0.19246428767354126,
          0.18295949259907837,
          0.17487281123311157,
          0.1709631041637146,
          0.17722934046895142,
          0.19153445521504517,
          0.20883994856984253,
          0.22938471594960327,
          0.2509531334987366,
          0.27126007834584354,
          0.29009204665333865,
          0.30507427016408084,
          0.31934171477467654,
          0.33444255152852176,
          0.34662395278126834,
          0.35512572089345096,
          0.3606440381160462,
          0.36495404997975467,
          0.36735719004780887,
          0.3705519990077698,
          0.3799838379970276,
          0.38994794646412967,
          0.39575188914448856,
          0.40164619246632693,
          0.4030670479884827,
          0.396919663344928,
          0.38647621432454227,
          0.36829596320302127,
          0.34517508307606815,
          0.31890254775197147,
          0.2882775620570862,
          0.2567200020900452,
          0.2267269448390686,
          0.19895630637318726,
          0.16997843543202515,
          0.1401851729503357,
          0.11182814398915407,
          0.0887611464610779,
          0.07066696444661257,
          0.055377777015277116,
          0.04574244776875612,
          0.03696459094197389,
          0.03184943953663942,
          0.02956538954884645,
          0.023714239989825452,
          0.018811519538470472,
          0.007984335815020767,
          -0.012232367599896226,
          -0.03871447285502318,
          -0.07472414215891722,
          -0.11485642632334593,
          -0.15491074761240844,
          -0.19557136734812622,
          -0.23460549553721313,
          -0.2701453610309875,
          -0.3013736649402893,
          -0.3299250050434387,
          -0.3572590990909851,
          -0.38201231201975705,
          -0.40117246350138547,
          -0.4136148138889587,
          -0.42267162045328976,
          -0.42703348835795285,
          -0.42621869286387326,
          -0.4241530342945373,
          -0.41768736084788205,
          -0.4071349545368469,
          -0.39289111336558225,
          -0.3750476284870422,
          -0.3605395003208435,
          -0.3480090542682922,
          -0.3371673270115173,
          -0.3300421877750671,
          -0.3234433575519836,
          -0.31924540242045285,
          -0.31708473404734494,
          -0.3107393427738464,
          -0.2994565411457336,
          -0.28461713036387326,
          -0.26456052502482297,
          -0.24504739483683471,
          -0.2284877940067566,
          -0.21172553738444214,
          -0.1992163105854309,
          -0.1913357420810974,
          -0.18566400250285034,
          -0.17968529900401,
          -0.17099327286570434,
          -0.16012829979746704,
          -0.1451750441440857,
          -0.12408143719523314,
          -0.09752947529642943,
          -0.06686646183817747,
          -0.03238660534708861,
          0.0026274279704773095,
          0.037043984328814714,
          0.07125263968617555,
          0.10209947386891481,
          0.12946360865742798,
          0.15339463511616822,
          0.1742134646526062,
          0.19098084727437134,
          0.20265477458150025,
          0.20765894213826294,
          0.20207088748128052,
          0.19260364333302613,
          0.18316441336781616,
          0.17207997599751587,
          0.16764872828633423,
          0.17124491492421265,
          0.17917292872578736,
          0.19282060424000855,
          0.20991378585011597,
          0.228564794456073,
          0.24780815402180786,
          0.2681587294688904,
          0.2883993939510071,
          0.30591052333027957,
          0.32173269549519656,
          0.3335848406902039,
          0.3437305049052918,
          0.3529038981548035,
          0.35742014208943484,
          0.36266094008595584,
          0.3690777377238953,
          0.3762571171870911,
          0.38644498149067996,
          0.3950399712672913,
          0.4019042805782044,
          0.4070849970927918,
          0.40727370539815066,
          0.40083771506459354,
          0.3871337727657044,
          0.3676034764400208,
          0.3427575186839783,
          0.31720107356221316,
          0.29255085745961307,
          0.2646073655238831,
          0.23454170981557007,
          0.20257871905476685,
          0.17040782729298706,
          0.14143925467640991,
          0.11683386126668092,
          0.09632592955739137,
          0.07782333651692507,
          0.06321221152455446,
          0.05437236586720583,
          0.050006444846698014,
          0.04836350241810915,
          0.04734664717824098,
          0.04391437331349489,
          0.03577845851094362,
          0.02144962111622926,
          -0.00147253712504271,
          -0.03372377594797972,
          -0.07045394619791868,
          -0.10770696839182738,
          -0.1457490368732727,
          -0.1836189671406067,
          -0.221258465851239,
          -0.2554773732075012,
          -0.2876603051075256,
          -0.32103723725169064,
          -0.34846765240519406,
          -0.37095696171610715,
          -0.38995272358744504,
          -0.40329832276194455,
          -0.41534084519236447,
          -0.42364770611613156,
          -0.4239168806919372,
          -0.41967684468119504,
          -0.41206998070567014,
          -0.3992691679844177,
          -0.38436800679057004,
          -0.36885709008067014,
          -0.35548764904826047,
          -0.3443067713627136,
          -0.33489650925486447,
          -0.3326221152195251,
          -0.33051556786387326,
          -0.32616466721384885,
          -0.32179505070536496,
          -0.31159180840342404,
          -0.29745561322062375,
          -0.2806924029239929,
          -0.2635380669483459,
          -0.24694544514506225,
          -0.22917265137522583,
          -0.21604198654978637,
          -0.20646697720377807,
          -0.19822639664500122,
          -0.1941651745685852,
          -0.1899765177616394,
          -0.18171364506571655,
          -0.16940504750101928,
          -0.15196997364848022,
          -0.12920958241312866,
          -0.10256702145426634,
          -0.07222122391550902,
          -0.03801459511607054,
          -0.004651968086651597,
          0.026978667174884046,
          0.059000189696856706,
          0.08928232947499391,
          0.11855023661763307,
          0.14456814089924927,
          0.16551583567769165,
          0.18227403918416138,
          0.190448339377948,
          0.19003599444539185,
          0.18330424586445923,
          0.1724117354503357,
          0.16206174651295777,
          0.15591460028798218,
          0.15694993296773072,
          0.16342216292531128,
          0.17249232093007202,
          0.18542617121846314,
          0.20014220038563843,
          0.21580177107960816,
          0.235050971900531,
          0.2553924874416077,
          0.27530139247090457,
          0.2940601662746155,
          0.3077925995937073,
          0.31737499991566775,
          0.3263979510417664,
          0.333801086341449,
          0.3399825648418152,
          0.34785919943959354,
          0.35607128897816775,
          0.36429410735280154,
          0.374495084678241,
          0.3847145394435608,
          0.3924657658687317,
          0.3972004012218201,
          0.3963273123851502,
          0.3877239779582703,
          0.37415831843526004,
          0.35701781073720096,
          0.33664637366444705,
          0.31534724990040897,
          0.2890066460719788,
          0.257795865928241,
          0.2273532704463684,
          0.19654959002644654,
          0.16665786067158814,
          0.13886814871937866,
          0.11379903117329714,
          0.09294551173359987,
          0.07545941630513307,
          0.0632862404933655,
          0.05690985480458376,
          0.05666726390034792,
          0.059079583083697526,
          0.05884474078328249,
          0.05580752650410768,
          0.0449766472926819,
          0.02475624838978883,
          -0.0007508440861022803,
          -0.03236383637278441,
          -0.06647056778757933,
          -0.10018569668619993,
          -0.1369987173923767,
          -0.17360562523692016,
          -0.2099965258487976,
          -0.24688440998881225,
          -0.27930683335154416,
          -0.30787998875468137,
          -0.3339716835865295,
          -0.35849994858591916,
          -0.3790510340580261,
          -0.3942868157276428,
          -0.40692824562876584,
          -0.41369098862498166,
          -0.4139866276630676,
          -0.4105642481693542,
          -0.40176803311198117,
          -0.38768107136576535,
          -0.3720653696903503,
          -0.3565093918690002,
          -0.3438267155536926,
          -0.33723694523661496,
          -0.33327407082407834,
          -0.33177727898447873,
          -0.3306368037113464,
          -0.32334274491160275,
          -0.31357592781870725,
          -0.3019316836246765,
          -0.28782493313639523,
          -0.2736174507984436,
          -0.25537699898569943,
          -0.23864168366282348,
          -0.22805864056437378,
          -0.21680385311930542,
          -0.2089443846592224,
          -0.2058696194538391,
          -0.2018086357960022,
          -0.19810730656474,
          -0.19094425877421264,
          -0.1772868080982483,
          -0.15738386353342895,
          -0.13293034275858764,
          -0.10468680104105833,
          -0.07266229828684691,
          -0.042371694649151595,
          -0.010523740852764878,
          0.022699530517169202,
          0.053894694243975846,
          0.08579605380208132,
          0.11645847121388551,
          0.14345675269276734,
          0.16356640616566773,
          0.17654424468190308,
          0.18173664370686646,
          0.1787201718440735,
          0.171779807006427,
          0.1622968272319519,
          0.15536540309102173,
          0.15389757910878296,
          0.1540389613261902,
          0.15771454135090943,
          0.16649716654927368,
          0.17729752818257447,
          0.19278209963948365,
          0.21199017325551148,
          0.2316407517543518,
          0.2532097653499329,
          0.2722539261928284,
          0.28758960524708865,
          0.30109053412587283,
          0.31140547553212283,
          0.31968277255208133,
          0.3264200047603333,
          0.33326309481770633,
          0.34114187518269656,
          0.35094195166737674,
          0.36497085848958133,
          0.3787285641780579,
          0.3881493167033875,
          0.3936482028117859,
          0.3958437995067322,
          0.39467411795765994,
          0.3873296336284363,
          0.3756740645518982,
          0.36041670600087283,
          0.33866494456441043,
          0.31440537730366824,
          0.28783279219777225,
          0.2582012967220032,
          0.22950547495991822,
          0.20102601805836792,
          0.17127137938649292,
          0.1412617520442688,
          0.11418026248128053,
          0.09227972785145876,
          0.07623105803639528,
          0.06770652094990846,
          0.06563490191609499,
          0.06717377463490602,
          0.06838672915608522,
          0.06615262786061403,
          0.05893665114552614,
          0.04337006369740602,
          0.022324855720111097,
          -0.0015923424610412452,
          -0.030344431007794177,
          -0.06183201512186888,
          -0.09717327793925169,
          -0.1349744244465149,
          -0.17081720074503784,
          -0.20665258606760864,
          -0.24089926918833618,
          -0.2724090262302673,
          -0.30328029831736447,
          -0.33036274155466916,
          -0.35321826180308225,
          -0.37486511906473996,
          -0.39212912758677365,
          -0.4028087302097595,
          -0.40916330059855344,
          -0.41003376683085324,
          -0.4045838757404602,
          -0.392838899696759,
          -0.3765526457676208,
          -0.3637215538868225,
          -0.35365707119791867,
          -0.3444082184681213,
          -0.341250125969342,
          -0.3373002453693664,
          -0.33243209561198117,
          -0.3292666121372497,
          -0.32038444718211057,
          -0.3099057122120178,
          -0.2966916008838928,
          -0.27828163346140744,
          -0.2611205025562561,
          -0.24576610764353637,
          -0.23256677826731567,
          -0.22120589455454712,
          -0.21302825650065307,
          -0.20939094265787964,
          -0.20680588921397094,
          -0.2050587578663147,
          -0.20012063225596313,
          -0.1877877159961975,
          -0.17155057629435425,
          -0.1510140343555725,
          -0.12578875264017944,
          -0.0998137637028015,
          -0.07150954445689085,
          -0.03994292458384398,
          -0.00988156040995482,
          0.02172702113301393,
          0.056714470779010026,
          0.08922022143513796,
          0.12031644145161745,
          0.1480814770808899,
          0.16647988120228882,
          0.17629247466237183,
          0.17846029559285279,
          0.17357617179066773,
          0.16664450923115845,
          0.1605275229564392,
          0.1540885523906433,
          0.15142935076863404,
          0.15292590418965454,
          0.1551983908763611,
          0.16295450488240357,
          0.17607980528981323,
          0.19121485510975952,
          0.2092300013652527,
          0.22902768412739868,
          0.24951070109517212,
          0.26830011168629764,
          0.28350466052205203,
          0.29402523795277713,
          0.3017447547069275,
          0.3100846366039002,
          0.31713765422017215,
          0.3246828869929993,
          0.33574705878407596,
          0.34868508139760135,
          0.36141770640523074,
          0.3730331019511902,
          0.3826478079906189,
          0.3901837424388611,
          0.3950609521022522,
          0.39205055991322635,
          0.3837006644359314,
          0.37162845889241336,
          0.3531182364574158,
          0.33285373011738895,
          0.3096893385997498,
          0.28409176627308963,
          0.2570297078242981,
          0.22693854132802124,
          0.1964210824123108,
          0.16346007147938843,
          0.13298803130299683,
          0.10794418612630007,
          0.08588248053700563,
          0.07487600604207155,
          0.072542484199115,
          0.07198088923604128,
          0.073899324332782,
          0.073022540008136,
          0.06775408545643923,
          0.0587856129756653,
          0.0437254265895569,
          0.02357023516804811,
          -0.001347724998883042,
          -0.0295087738880432,
          -0.05997521122782591,
          -0.09449357231943968,
          -0.13006002148478393,
          -0.16618282040446167,
          -0.20248455246775512,
          -0.2355714484104431,
          -0.26747042378275754,
          -0.29674596031992795,
          -0.32234436711161496,
          -0.3482860966572082,
          -0.3718469782718933,
          -0.389082853401593,
          -0.40161794861643674,
          -0.40761417588084103,
          -0.40333873471110226,
          -0.3952851935276306,
          -0.3863278075107849,
          -0.3726350708851135,
          -0.35949176987498166,
          -0.35005194386332394,
          -0.3436966582187927,
          -0.340643231476239,
          -0.33800453385203244,
          -0.33453423222391965,
          -0.32837301930277707,
          -0.3186717673191345,
          -0.30537027558176877,
          -0.2896381064304626,
          -0.2752248688587463,
          -0.2581657811054504,
          -0.24018305977671509,
          -0.22729427059977417,
          -0.2186017676243103,
          -0.215907280052594,
          -0.21529847821085815,
          -0.212719385231427,
          -0.20845145424692993,
          -0.2007010622867859,
          -0.18848103722422485,
          -0.1707591458210266,
          -0.15014344891398315,
          -0.12810439308970337,
          -0.1030953570255554,
          -0.07856399258463743,
          -0.05122894486277464,
          -0.015891258324078356,
          0.020020778571673597,
          0.055470521842547624,
          0.09089201251179811,
          0.1198512868037903,
          0.14100151816517945,
          0.1548185900798523,
          0.16375761786610718,
          0.1676592187038147,
          0.16453271666676636,
          0.15819888869435425,
          0.15168827334553833,
          0.1464661912074768,
          0.14461582461506958,
          0.14537614146382447,
          0.14943688670308228,
          0.1582006768336975,
          0.17077713767201538,
          0.18625837126881714,
          0.20589154521138306,
          0.2276281670680725,
          0.24580543795735474,
          0.2622380808940613,
          0.2756615237346375,
          0.2842820242992127,
          0.29290383616597293,
          0.3025618151775086,
          0.31468849936635135,
          0.3260453299632752,
          0.3371596888652527,
          0.3512646512141907,
          0.36210363665730594,
          0.3738205985179627,
          0.3873228386989319,
          0.39376192847401736,
          0.3956066922298157,
          0.3941023902049744,
          0.38474911013753055,
          0.3706317500224793,
          0.3553416089168274,
          0.3365115479579651,
          0.3163935498347962,
          0.29286235133320926,
          0.2619946555247986,
          0.2296491221538269,
          0.1956534937968933,
          0.16176539221913452,
          0.13389616767079468,
          0.10992961684376833,
          0.0917894200435364,
          0.08284085551411745,
          0.07872873107106325,
          0.07735925475270387,
          0.07854693690449831,
          0.07608037749440309,
          0.07026367942006227,
          0.06147783557088014,
          0.044915850555011
         ]
        }
       ],
       "layout": {
        "template": {
         "data": {
          "bar": [
           {
            "error_x": {
             "color": "#2a3f5f"
            },
            "error_y": {
             "color": "#2a3f5f"
            },
            "marker": {
             "line": {
              "color": "#E5ECF6",
              "width": 0.5
             },
             "pattern": {
              "fillmode": "overlay",
              "size": 10,
              "solidity": 0.2
             }
            },
            "type": "bar"
           }
          ],
          "barpolar": [
           {
            "marker": {
             "line": {
              "color": "#E5ECF6",
              "width": 0.5
             },
             "pattern": {
              "fillmode": "overlay",
              "size": 10,
              "solidity": 0.2
             }
            },
            "type": "barpolar"
           }
          ],
          "carpet": [
           {
            "aaxis": {
             "endlinecolor": "#2a3f5f",
             "gridcolor": "white",
             "linecolor": "white",
             "minorgridcolor": "white",
             "startlinecolor": "#2a3f5f"
            },
            "baxis": {
             "endlinecolor": "#2a3f5f",
             "gridcolor": "white",
             "linecolor": "white",
             "minorgridcolor": "white",
             "startlinecolor": "#2a3f5f"
            },
            "type": "carpet"
           }
          ],
          "choropleth": [
           {
            "colorbar": {
             "outlinewidth": 0,
             "ticks": ""
            },
            "type": "choropleth"
           }
          ],
          "contour": [
           {
            "colorbar": {
             "outlinewidth": 0,
             "ticks": ""
            },
            "colorscale": [
             [
              0,
              "#0d0887"
             ],
             [
              0.1111111111111111,
              "#46039f"
             ],
             [
              0.2222222222222222,
              "#7201a8"
             ],
             [
              0.3333333333333333,
              "#9c179e"
             ],
             [
              0.4444444444444444,
              "#bd3786"
             ],
             [
              0.5555555555555556,
              "#d8576b"
             ],
             [
              0.6666666666666666,
              "#ed7953"
             ],
             [
              0.7777777777777778,
              "#fb9f3a"
             ],
             [
              0.8888888888888888,
              "#fdca26"
             ],
             [
              1,
              "#f0f921"
             ]
            ],
            "type": "contour"
           }
          ],
          "contourcarpet": [
           {
            "colorbar": {
             "outlinewidth": 0,
             "ticks": ""
            },
            "type": "contourcarpet"
           }
          ],
          "heatmap": [
           {
            "colorbar": {
             "outlinewidth": 0,
             "ticks": ""
            },
            "colorscale": [
             [
              0,
              "#0d0887"
             ],
             [
              0.1111111111111111,
              "#46039f"
             ],
             [
              0.2222222222222222,
              "#7201a8"
             ],
             [
              0.3333333333333333,
              "#9c179e"
             ],
             [
              0.4444444444444444,
              "#bd3786"
             ],
             [
              0.5555555555555556,
              "#d8576b"
             ],
             [
              0.6666666666666666,
              "#ed7953"
             ],
             [
              0.7777777777777778,
              "#fb9f3a"
             ],
             [
              0.8888888888888888,
              "#fdca26"
             ],
             [
              1,
              "#f0f921"
             ]
            ],
            "type": "heatmap"
           }
          ],
          "heatmapgl": [
           {
            "colorbar": {
             "outlinewidth": 0,
             "ticks": ""
            },
            "colorscale": [
             [
              0,
              "#0d0887"
             ],
             [
              0.1111111111111111,
              "#46039f"
             ],
             [
              0.2222222222222222,
              "#7201a8"
             ],
             [
              0.3333333333333333,
              "#9c179e"
             ],
             [
              0.4444444444444444,
              "#bd3786"
             ],
             [
              0.5555555555555556,
              "#d8576b"
             ],
             [
              0.6666666666666666,
              "#ed7953"
             ],
             [
              0.7777777777777778,
              "#fb9f3a"
             ],
             [
              0.8888888888888888,
              "#fdca26"
             ],
             [
              1,
              "#f0f921"
             ]
            ],
            "type": "heatmapgl"
           }
          ],
          "histogram": [
           {
            "marker": {
             "pattern": {
              "fillmode": "overlay",
              "size": 10,
              "solidity": 0.2
             }
            },
            "type": "histogram"
           }
          ],
          "histogram2d": [
           {
            "colorbar": {
             "outlinewidth": 0,
             "ticks": ""
            },
            "colorscale": [
             [
              0,
              "#0d0887"
             ],
             [
              0.1111111111111111,
              "#46039f"
             ],
             [
              0.2222222222222222,
              "#7201a8"
             ],
             [
              0.3333333333333333,
              "#9c179e"
             ],
             [
              0.4444444444444444,
              "#bd3786"
             ],
             [
              0.5555555555555556,
              "#d8576b"
             ],
             [
              0.6666666666666666,
              "#ed7953"
             ],
             [
              0.7777777777777778,
              "#fb9f3a"
             ],
             [
              0.8888888888888888,
              "#fdca26"
             ],
             [
              1,
              "#f0f921"
             ]
            ],
            "type": "histogram2d"
           }
          ],
          "histogram2dcontour": [
           {
            "colorbar": {
             "outlinewidth": 0,
             "ticks": ""
            },
            "colorscale": [
             [
              0,
              "#0d0887"
             ],
             [
              0.1111111111111111,
              "#46039f"
             ],
             [
              0.2222222222222222,
              "#7201a8"
             ],
             [
              0.3333333333333333,
              "#9c179e"
             ],
             [
              0.4444444444444444,
              "#bd3786"
             ],
             [
              0.5555555555555556,
              "#d8576b"
             ],
             [
              0.6666666666666666,
              "#ed7953"
             ],
             [
              0.7777777777777778,
              "#fb9f3a"
             ],
             [
              0.8888888888888888,
              "#fdca26"
             ],
             [
              1,
              "#f0f921"
             ]
            ],
            "type": "histogram2dcontour"
           }
          ],
          "mesh3d": [
           {
            "colorbar": {
             "outlinewidth": 0,
             "ticks": ""
            },
            "type": "mesh3d"
           }
          ],
          "parcoords": [
           {
            "line": {
             "colorbar": {
              "outlinewidth": 0,
              "ticks": ""
             }
            },
            "type": "parcoords"
           }
          ],
          "pie": [
           {
            "automargin": true,
            "type": "pie"
           }
          ],
          "scatter": [
           {
            "fillpattern": {
             "fillmode": "overlay",
             "size": 10,
             "solidity": 0.2
            },
            "type": "scatter"
           }
          ],
          "scatter3d": [
           {
            "line": {
             "colorbar": {
              "outlinewidth": 0,
              "ticks": ""
             }
            },
            "marker": {
             "colorbar": {
              "outlinewidth": 0,
              "ticks": ""
             }
            },
            "type": "scatter3d"
           }
          ],
          "scattercarpet": [
           {
            "marker": {
             "colorbar": {
              "outlinewidth": 0,
              "ticks": ""
             }
            },
            "type": "scattercarpet"
           }
          ],
          "scattergeo": [
           {
            "marker": {
             "colorbar": {
              "outlinewidth": 0,
              "ticks": ""
             }
            },
            "type": "scattergeo"
           }
          ],
          "scattergl": [
           {
            "marker": {
             "colorbar": {
              "outlinewidth": 0,
              "ticks": ""
             }
            },
            "type": "scattergl"
           }
          ],
          "scattermapbox": [
           {
            "marker": {
             "colorbar": {
              "outlinewidth": 0,
              "ticks": ""
             }
            },
            "type": "scattermapbox"
           }
          ],
          "scatterpolar": [
           {
            "marker": {
             "colorbar": {
              "outlinewidth": 0,
              "ticks": ""
             }
            },
            "type": "scatterpolar"
           }
          ],
          "scatterpolargl": [
           {
            "marker": {
             "colorbar": {
              "outlinewidth": 0,
              "ticks": ""
             }
            },
            "type": "scatterpolargl"
           }
          ],
          "scatterternary": [
           {
            "marker": {
             "colorbar": {
              "outlinewidth": 0,
              "ticks": ""
             }
            },
            "type": "scatterternary"
           }
          ],
          "surface": [
           {
            "colorbar": {
             "outlinewidth": 0,
             "ticks": ""
            },
            "colorscale": [
             [
              0,
              "#0d0887"
             ],
             [
              0.1111111111111111,
              "#46039f"
             ],
             [
              0.2222222222222222,
              "#7201a8"
             ],
             [
              0.3333333333333333,
              "#9c179e"
             ],
             [
              0.4444444444444444,
              "#bd3786"
             ],
             [
              0.5555555555555556,
              "#d8576b"
             ],
             [
              0.6666666666666666,
              "#ed7953"
             ],
             [
              0.7777777777777778,
              "#fb9f3a"
             ],
             [
              0.8888888888888888,
              "#fdca26"
             ],
             [
              1,
              "#f0f921"
             ]
            ],
            "type": "surface"
           }
          ],
          "table": [
           {
            "cells": {
             "fill": {
              "color": "#EBF0F8"
             },
             "line": {
              "color": "white"
             }
            },
            "header": {
             "fill": {
              "color": "#C8D4E3"
             },
             "line": {
              "color": "white"
             }
            },
            "type": "table"
           }
          ]
         },
         "layout": {
          "annotationdefaults": {
           "arrowcolor": "#2a3f5f",
           "arrowhead": 0,
           "arrowwidth": 1
          },
          "autotypenumbers": "strict",
          "coloraxis": {
           "colorbar": {
            "outlinewidth": 0,
            "ticks": ""
           }
          },
          "colorscale": {
           "diverging": [
            [
             0,
             "#8e0152"
            ],
            [
             0.1,
             "#c51b7d"
            ],
            [
             0.2,
             "#de77ae"
            ],
            [
             0.3,
             "#f1b6da"
            ],
            [
             0.4,
             "#fde0ef"
            ],
            [
             0.5,
             "#f7f7f7"
            ],
            [
             0.6,
             "#e6f5d0"
            ],
            [
             0.7,
             "#b8e186"
            ],
            [
             0.8,
             "#7fbc41"
            ],
            [
             0.9,
             "#4d9221"
            ],
            [
             1,
             "#276419"
            ]
           ],
           "sequential": [
            [
             0,
             "#0d0887"
            ],
            [
             0.1111111111111111,
             "#46039f"
            ],
            [
             0.2222222222222222,
             "#7201a8"
            ],
            [
             0.3333333333333333,
             "#9c179e"
            ],
            [
             0.4444444444444444,
             "#bd3786"
            ],
            [
             0.5555555555555556,
             "#d8576b"
            ],
            [
             0.6666666666666666,
             "#ed7953"
            ],
            [
             0.7777777777777778,
             "#fb9f3a"
            ],
            [
             0.8888888888888888,
             "#fdca26"
            ],
            [
             1,
             "#f0f921"
            ]
           ],
           "sequentialminus": [
            [
             0,
             "#0d0887"
            ],
            [
             0.1111111111111111,
             "#46039f"
            ],
            [
             0.2222222222222222,
             "#7201a8"
            ],
            [
             0.3333333333333333,
             "#9c179e"
            ],
            [
             0.4444444444444444,
             "#bd3786"
            ],
            [
             0.5555555555555556,
             "#d8576b"
            ],
            [
             0.6666666666666666,
             "#ed7953"
            ],
            [
             0.7777777777777778,
             "#fb9f3a"
            ],
            [
             0.8888888888888888,
             "#fdca26"
            ],
            [
             1,
             "#f0f921"
            ]
           ]
          },
          "colorway": [
           "#636efa",
           "#EF553B",
           "#00cc96",
           "#ab63fa",
           "#FFA15A",
           "#19d3f3",
           "#FF6692",
           "#B6E880",
           "#FF97FF",
           "#FECB52"
          ],
          "font": {
           "color": "#2a3f5f"
          },
          "geo": {
           "bgcolor": "white",
           "lakecolor": "white",
           "landcolor": "#E5ECF6",
           "showlakes": true,
           "showland": true,
           "subunitcolor": "white"
          },
          "hoverlabel": {
           "align": "left"
          },
          "hovermode": "closest",
          "mapbox": {
           "style": "light"
          },
          "paper_bgcolor": "white",
          "plot_bgcolor": "#E5ECF6",
          "polar": {
           "angularaxis": {
            "gridcolor": "white",
            "linecolor": "white",
            "ticks": ""
           },
           "bgcolor": "#E5ECF6",
           "radialaxis": {
            "gridcolor": "white",
            "linecolor": "white",
            "ticks": ""
           }
          },
          "scene": {
           "xaxis": {
            "backgroundcolor": "#E5ECF6",
            "gridcolor": "white",
            "gridwidth": 2,
            "linecolor": "white",
            "showbackground": true,
            "ticks": "",
            "zerolinecolor": "white"
           },
           "yaxis": {
            "backgroundcolor": "#E5ECF6",
            "gridcolor": "white",
            "gridwidth": 2,
            "linecolor": "white",
            "showbackground": true,
            "ticks": "",
            "zerolinecolor": "white"
           },
           "zaxis": {
            "backgroundcolor": "#E5ECF6",
            "gridcolor": "white",
            "gridwidth": 2,
            "linecolor": "white",
            "showbackground": true,
            "ticks": "",
            "zerolinecolor": "white"
           }
          },
          "shapedefaults": {
           "line": {
            "color": "#2a3f5f"
           }
          },
          "ternary": {
           "aaxis": {
            "gridcolor": "white",
            "linecolor": "white",
            "ticks": ""
           },
           "baxis": {
            "gridcolor": "white",
            "linecolor": "white",
            "ticks": ""
           },
           "bgcolor": "#E5ECF6",
           "caxis": {
            "gridcolor": "white",
            "linecolor": "white",
            "ticks": ""
           }
          },
          "title": {
           "x": 0.05
          },
          "xaxis": {
           "automargin": true,
           "gridcolor": "white",
           "linecolor": "white",
           "ticks": "",
           "title": {
            "standoff": 15
           },
           "zerolinecolor": "white",
           "zerolinewidth": 2
          },
          "yaxis": {
           "automargin": true,
           "gridcolor": "white",
           "linecolor": "white",
           "ticks": "",
           "title": {
            "standoff": 15
           },
           "zerolinecolor": "white",
           "zerolinewidth": 2
          }
         }
        }
       }
      }
     },
     "metadata": {},
     "output_type": "display_data"
    }
   ],
   "source": [
    "T=1/f0\n",
    "t_start = 0.1\n",
    "t_end = t_start+7*T\n",
    "plot_signals(ref, fs, t_start=t_start, t_end=t_end)"
   ]
  },
  {
   "cell_type": "markdown",
   "metadata": {
    "id": "Q9q9DSPkzkKi"
   },
   "source": [
    "3.2. Now, define a harmonic signal, `y` whose fundamental frequency is the defined in Lab 1. Go step by step adding a new harmonic in each step. Plot both signals (the reference and the synthesized) and try to reproduce the shape of the reference signal.\n",
    "\n",
    "**Note 1**: in order to have a similar shape, we need to select the amplitudes and phases carefully. One way to do this is to define the harmonic signal as follows:\n",
    "\n",
    "$$y(t) = \\sum_{k=1}^K A_k\\cos\\left(2\\pi kf_0 t + k \\phi - (k-1)\\pi/2 \\right), $$\n",
    "\n",
    "where $K$ is the number of harmonics, $f_0$ is the fundamental frequency, $A_k$ is the amplitude (weight) of each harmonic and $\\phi$ is the phase of the signal (defined in Lab1 Ex 2.4).\n",
    "\n",
    "**Note 2**:\n",
    "Define the $A_k$ values relative to the fundamental frequency. This means to define $A_1=1$ and the others less than 1. You can use Audacity to plot the spectrum of the fragment selected of the reference audio and measure the relative amplitudes of the harmonics.\n",
    "\n",
    "**Note 3**: Normalize the amplitude of the signal by the same amplitude of the reference. For instance, if the amplitude of the reference signal is 0.33, you can normalize the syntesized signal by first dividing by its maximum and then multiplyng by 0.33:\n",
    "\n",
    "```\n",
    "y = 0.33 * y / np.amax(y)\n",
    "```"
   ]
  },
  {
   "cell_type": "code",
   "execution_count": null,
   "metadata": {},
   "outputs": [
    {
     "data": {
      "application/vnd.plotly.v1+json": {
       "config": {
        "plotlyServerURL": "https://plot.ly"
       },
       "data": [
        {
         "line": {
          "color": "#1f77b4",
          "shape": "linear"
         },
         "mode": "lines+markers",
         "type": "scatter",
         "x": [
          0,
          53.8330078125,
          107.666015625,
          161.4990234375,
          215.33203125,
          269.1650390625,
          322.998046875,
          376.8310546875,
          430.6640625,
          484.4970703125,
          538.330078125,
          592.1630859375,
          645.99609375,
          699.8291015625,
          753.662109375,
          807.4951171875,
          861.328125,
          915.1611328125,
          968.994140625,
          1022.8271484375,
          1076.66015625,
          1130.4931640625,
          1184.326171875,
          1238.1591796875,
          1291.9921875,
          1345.8251953125,
          1399.658203125,
          1453.4912109375,
          1507.32421875,
          1561.1572265625,
          1614.990234375,
          1668.8232421875,
          1722.65625,
          1776.4892578125,
          1830.322265625,
          1884.1552734375,
          1937.98828125,
          1991.8212890625,
          2045.654296875,
          2099.4873046875,
          2153.3203125,
          2207.1533203125,
          2260.986328125,
          2314.8193359375,
          2368.65234375,
          2422.4853515625,
          2476.318359375,
          2530.1513671875,
          2583.984375,
          2637.8173828125,
          2691.650390625,
          2745.4833984375,
          2799.31640625,
          2853.1494140625,
          2906.982421875,
          2960.8154296875,
          3014.6484375,
          3068.4814453125,
          3122.314453125,
          3176.1474609375,
          3229.98046875,
          3283.8134765625,
          3337.646484375,
          3391.4794921875,
          3445.3125,
          3499.1455078125,
          3552.978515625,
          3606.8115234375,
          3660.64453125,
          3714.4775390625,
          3768.310546875,
          3822.1435546875,
          3875.9765625,
          3929.8095703125,
          3983.642578125,
          4037.4755859375,
          4091.30859375,
          4145.1416015625,
          4198.974609375,
          4252.8076171875,
          4306.640625,
          4360.4736328125,
          4414.306640625,
          4468.1396484375,
          4521.97265625,
          4575.8056640625,
          4629.638671875,
          4683.4716796875,
          4737.3046875,
          4791.1376953125,
          4844.970703125,
          4898.8037109375,
          4952.63671875,
          5006.4697265625,
          5060.302734375,
          5114.1357421875,
          5167.96875,
          5221.8017578125,
          5275.634765625,
          5329.4677734375,
          5383.30078125,
          5437.1337890625,
          5490.966796875,
          5544.7998046875,
          5598.6328125,
          5652.4658203125,
          5706.298828125,
          5760.1318359375,
          5813.96484375,
          5867.7978515625,
          5921.630859375,
          5975.4638671875,
          6029.296875,
          6083.1298828125,
          6136.962890625,
          6190.7958984375,
          6244.62890625,
          6298.4619140625,
          6352.294921875,
          6406.1279296875,
          6459.9609375,
          6513.7939453125,
          6567.626953125,
          6621.4599609375,
          6675.29296875,
          6729.1259765625,
          6782.958984375,
          6836.7919921875,
          6890.625,
          6944.4580078125,
          6998.291015625,
          7052.1240234375,
          7105.95703125,
          7159.7900390625,
          7213.623046875,
          7267.4560546875,
          7321.2890625,
          7375.1220703125,
          7428.955078125,
          7482.7880859375,
          7536.62109375,
          7590.4541015625,
          7644.287109375,
          7698.1201171875,
          7751.953125,
          7805.7861328125,
          7859.619140625,
          7913.4521484375,
          7967.28515625,
          8021.1181640625,
          8074.951171875,
          8128.7841796875,
          8182.6171875,
          8236.4501953125,
          8290.283203125,
          8344.1162109375,
          8397.94921875,
          8451.7822265625,
          8505.615234375,
          8559.4482421875,
          8613.28125,
          8667.1142578125,
          8720.947265625,
          8774.7802734375,
          8828.61328125,
          8882.4462890625,
          8936.279296875,
          8990.1123046875,
          9043.9453125,
          9097.7783203125,
          9151.611328125,
          9205.4443359375,
          9259.27734375,
          9313.1103515625,
          9366.943359375,
          9420.7763671875,
          9474.609375,
          9528.4423828125,
          9582.275390625,
          9636.1083984375,
          9689.94140625,
          9743.7744140625,
          9797.607421875,
          9851.4404296875,
          9905.2734375,
          9959.1064453125,
          10012.939453125,
          10066.7724609375,
          10120.60546875,
          10174.4384765625,
          10228.271484375,
          10282.1044921875,
          10335.9375,
          10389.7705078125,
          10443.603515625,
          10497.4365234375,
          10551.26953125,
          10605.1025390625,
          10658.935546875,
          10712.7685546875,
          10766.6015625,
          10820.4345703125,
          10874.267578125,
          10928.1005859375,
          10981.93359375,
          11035.7666015625,
          11089.599609375,
          11143.4326171875,
          11197.265625,
          11251.0986328125,
          11304.931640625,
          11358.7646484375,
          11412.59765625,
          11466.4306640625,
          11520.263671875,
          11574.0966796875,
          11627.9296875,
          11681.7626953125,
          11735.595703125,
          11789.4287109375,
          11843.26171875,
          11897.0947265625,
          11950.927734375,
          12004.7607421875,
          12058.59375,
          12112.4267578125,
          12166.259765625,
          12220.0927734375,
          12273.92578125,
          12327.7587890625,
          12381.591796875,
          12435.4248046875,
          12489.2578125,
          12543.0908203125,
          12596.923828125,
          12650.7568359375,
          12704.58984375,
          12758.4228515625,
          12812.255859375,
          12866.0888671875,
          12919.921875,
          12973.7548828125,
          13027.587890625,
          13081.4208984375,
          13135.25390625,
          13189.0869140625,
          13242.919921875,
          13296.7529296875,
          13350.5859375,
          13404.4189453125,
          13458.251953125,
          13512.0849609375,
          13565.91796875,
          13619.7509765625,
          13673.583984375,
          13727.4169921875,
          13781.25,
          13835.0830078125,
          13888.916015625,
          13942.7490234375,
          13996.58203125,
          14050.4150390625,
          14104.248046875,
          14158.0810546875,
          14211.9140625,
          14265.7470703125,
          14319.580078125,
          14373.4130859375,
          14427.24609375,
          14481.0791015625,
          14534.912109375,
          14588.7451171875,
          14642.578125,
          14696.4111328125,
          14750.244140625,
          14804.0771484375,
          14857.91015625,
          14911.7431640625,
          14965.576171875,
          15019.4091796875,
          15073.2421875,
          15127.0751953125,
          15180.908203125,
          15234.7412109375,
          15288.57421875,
          15342.4072265625,
          15396.240234375,
          15450.0732421875,
          15503.90625,
          15557.7392578125,
          15611.572265625,
          15665.4052734375,
          15719.23828125,
          15773.0712890625,
          15826.904296875,
          15880.7373046875,
          15934.5703125,
          15988.4033203125,
          16042.236328125,
          16096.0693359375,
          16149.90234375,
          16203.7353515625,
          16257.568359375,
          16311.4013671875,
          16365.234375,
          16419.0673828125,
          16472.900390625,
          16526.7333984375,
          16580.56640625,
          16634.3994140625,
          16688.232421875,
          16742.0654296875,
          16795.8984375,
          16849.7314453125,
          16903.564453125,
          16957.3974609375,
          17011.23046875,
          17065.0634765625,
          17118.896484375,
          17172.7294921875,
          17226.5625,
          17280.3955078125,
          17334.228515625,
          17388.0615234375,
          17441.89453125,
          17495.7275390625,
          17549.560546875,
          17603.3935546875,
          17657.2265625,
          17711.0595703125,
          17764.892578125,
          17818.7255859375,
          17872.55859375,
          17926.3916015625,
          17980.224609375,
          18034.0576171875,
          18087.890625,
          18141.7236328125,
          18195.556640625,
          18249.3896484375,
          18303.22265625,
          18357.0556640625,
          18410.888671875,
          18464.7216796875,
          18518.5546875,
          18572.3876953125,
          18626.220703125,
          18680.0537109375,
          18733.88671875,
          18787.7197265625,
          18841.552734375,
          18895.3857421875,
          18949.21875,
          19003.0517578125,
          19056.884765625,
          19110.7177734375,
          19164.55078125,
          19218.3837890625,
          19272.216796875,
          19326.0498046875,
          19379.8828125,
          19433.7158203125,
          19487.548828125,
          19541.3818359375,
          19595.21484375,
          19649.0478515625,
          19702.880859375,
          19756.7138671875,
          19810.546875,
          19864.3798828125,
          19918.212890625,
          19972.0458984375,
          20025.87890625,
          20079.7119140625,
          20133.544921875,
          20187.3779296875,
          20241.2109375,
          20295.0439453125,
          20348.876953125,
          20402.7099609375,
          20456.54296875,
          20510.3759765625,
          20564.208984375,
          20618.0419921875,
          20671.875,
          20725.7080078125,
          20779.541015625,
          20833.3740234375,
          20887.20703125,
          20941.0400390625,
          20994.873046875,
          21048.7060546875,
          21102.5390625,
          21156.3720703125,
          21210.205078125,
          21264.0380859375,
          21317.87109375,
          21371.7041015625,
          21425.537109375,
          21479.3701171875,
          21533.203125,
          21587.0361328125,
          21640.869140625,
          21694.7021484375,
          21748.53515625,
          21802.3681640625,
          21856.201171875,
          21910.0341796875,
          21963.8671875,
          22017.7001953125,
          22071.533203125,
          22125.3662109375,
          22179.19921875,
          22233.0322265625,
          22286.865234375,
          22340.6982421875,
          22394.53125,
          22448.3642578125,
          22502.197265625,
          22556.0302734375,
          22609.86328125,
          22663.6962890625,
          22717.529296875,
          22771.3623046875,
          22825.1953125,
          22879.0283203125,
          22932.861328125,
          22986.6943359375,
          23040.52734375,
          23094.3603515625,
          23148.193359375,
          23202.0263671875,
          23255.859375,
          23309.6923828125,
          23363.525390625,
          23417.3583984375,
          23471.19140625,
          23525.0244140625,
          23578.857421875,
          23632.6904296875,
          23686.5234375,
          23740.3564453125,
          23794.189453125,
          23848.0224609375,
          23901.85546875,
          23955.6884765625,
          24009.521484375,
          24063.3544921875,
          24117.1875,
          24171.0205078125,
          24224.853515625,
          24278.6865234375,
          24332.51953125,
          24386.3525390625,
          24440.185546875,
          24494.0185546875,
          24547.8515625,
          24601.6845703125,
          24655.517578125,
          24709.3505859375,
          24763.18359375,
          24817.0166015625,
          24870.849609375,
          24924.6826171875,
          24978.515625,
          25032.3486328125,
          25086.181640625,
          25140.0146484375,
          25193.84765625,
          25247.6806640625,
          25301.513671875,
          25355.3466796875,
          25409.1796875,
          25463.0126953125,
          25516.845703125,
          25570.6787109375,
          25624.51171875,
          25678.3447265625,
          25732.177734375,
          25786.0107421875,
          25839.84375,
          25893.6767578125,
          25947.509765625,
          26001.3427734375,
          26055.17578125,
          26109.0087890625,
          26162.841796875,
          26216.6748046875,
          26270.5078125,
          26324.3408203125,
          26378.173828125,
          26432.0068359375,
          26485.83984375,
          26539.6728515625,
          26593.505859375,
          26647.3388671875,
          26701.171875,
          26755.0048828125,
          26808.837890625,
          26862.6708984375,
          26916.50390625,
          26970.3369140625,
          27024.169921875,
          27078.0029296875,
          27131.8359375,
          27185.6689453125,
          27239.501953125,
          27293.3349609375,
          27347.16796875,
          27401.0009765625,
          27454.833984375,
          27508.6669921875,
          27562.5,
          27616.3330078125,
          27670.166015625,
          27723.9990234375,
          27777.83203125,
          27831.6650390625,
          27885.498046875,
          27939.3310546875,
          27993.1640625,
          28046.9970703125,
          28100.830078125,
          28154.6630859375,
          28208.49609375,
          28262.3291015625,
          28316.162109375,
          28369.9951171875,
          28423.828125,
          28477.6611328125,
          28531.494140625,
          28585.3271484375,
          28639.16015625,
          28692.9931640625,
          28746.826171875,
          28800.6591796875,
          28854.4921875,
          28908.3251953125,
          28962.158203125,
          29015.9912109375,
          29069.82421875,
          29123.6572265625,
          29177.490234375,
          29231.3232421875,
          29285.15625,
          29338.9892578125,
          29392.822265625,
          29446.6552734375,
          29500.48828125,
          29554.3212890625,
          29608.154296875,
          29661.9873046875,
          29715.8203125,
          29769.6533203125,
          29823.486328125,
          29877.3193359375,
          29931.15234375,
          29984.9853515625,
          30038.818359375,
          30092.6513671875,
          30146.484375,
          30200.3173828125,
          30254.150390625,
          30307.9833984375,
          30361.81640625,
          30415.6494140625,
          30469.482421875,
          30523.3154296875,
          30577.1484375,
          30630.9814453125,
          30684.814453125,
          30738.6474609375,
          30792.48046875,
          30846.3134765625,
          30900.146484375,
          30953.9794921875,
          31007.8125,
          31061.6455078125,
          31115.478515625,
          31169.3115234375,
          31223.14453125,
          31276.9775390625,
          31330.810546875,
          31384.6435546875,
          31438.4765625,
          31492.3095703125,
          31546.142578125,
          31599.9755859375,
          31653.80859375,
          31707.6416015625,
          31761.474609375,
          31815.3076171875,
          31869.140625,
          31922.9736328125,
          31976.806640625,
          32030.6396484375,
          32084.47265625,
          32138.3056640625,
          32192.138671875,
          32245.9716796875,
          32299.8046875,
          32353.6376953125,
          32407.470703125,
          32461.3037109375,
          32515.13671875,
          32568.9697265625,
          32622.802734375,
          32676.6357421875,
          32730.46875,
          32784.3017578125,
          32838.134765625,
          32891.9677734375,
          32945.80078125,
          32999.6337890625,
          33053.466796875,
          33107.2998046875,
          33161.1328125,
          33214.9658203125,
          33268.798828125,
          33322.6318359375,
          33376.46484375,
          33430.2978515625,
          33484.130859375,
          33537.9638671875,
          33591.796875,
          33645.6298828125,
          33699.462890625,
          33753.2958984375,
          33807.12890625,
          33860.9619140625,
          33914.794921875,
          33968.6279296875,
          34022.4609375,
          34076.2939453125,
          34130.126953125,
          34183.9599609375,
          34237.79296875,
          34291.6259765625,
          34345.458984375,
          34399.2919921875,
          34453.125,
          34506.9580078125,
          34560.791015625,
          34614.6240234375,
          34668.45703125,
          34722.2900390625,
          34776.123046875,
          34829.9560546875,
          34883.7890625,
          34937.6220703125,
          34991.455078125,
          35045.2880859375,
          35099.12109375,
          35152.9541015625,
          35206.787109375,
          35260.6201171875,
          35314.453125,
          35368.2861328125,
          35422.119140625,
          35475.9521484375,
          35529.78515625,
          35583.6181640625,
          35637.451171875,
          35691.2841796875,
          35745.1171875,
          35798.9501953125,
          35852.783203125,
          35906.6162109375,
          35960.44921875,
          36014.2822265625,
          36068.115234375,
          36121.9482421875,
          36175.78125,
          36229.6142578125,
          36283.447265625,
          36337.2802734375,
          36391.11328125,
          36444.9462890625,
          36498.779296875,
          36552.6123046875,
          36606.4453125,
          36660.2783203125,
          36714.111328125,
          36767.9443359375,
          36821.77734375,
          36875.6103515625,
          36929.443359375,
          36983.2763671875,
          37037.109375,
          37090.9423828125,
          37144.775390625,
          37198.6083984375,
          37252.44140625,
          37306.2744140625,
          37360.107421875,
          37413.9404296875,
          37467.7734375,
          37521.6064453125,
          37575.439453125,
          37629.2724609375,
          37683.10546875,
          37736.9384765625,
          37790.771484375,
          37844.6044921875,
          37898.4375,
          37952.2705078125,
          38006.103515625,
          38059.9365234375,
          38113.76953125,
          38167.6025390625,
          38221.435546875,
          38275.2685546875,
          38329.1015625,
          38382.9345703125,
          38436.767578125,
          38490.6005859375,
          38544.43359375,
          38598.2666015625,
          38652.099609375,
          38705.9326171875,
          38759.765625,
          38813.5986328125,
          38867.431640625,
          38921.2646484375,
          38975.09765625,
          39028.9306640625,
          39082.763671875,
          39136.5966796875,
          39190.4296875,
          39244.2626953125,
          39298.095703125,
          39351.9287109375,
          39405.76171875,
          39459.5947265625,
          39513.427734375,
          39567.2607421875,
          39621.09375,
          39674.9267578125,
          39728.759765625,
          39782.5927734375,
          39836.42578125,
          39890.2587890625,
          39944.091796875,
          39997.9248046875,
          40051.7578125,
          40105.5908203125,
          40159.423828125,
          40213.2568359375,
          40267.08984375,
          40320.9228515625,
          40374.755859375,
          40428.5888671875,
          40482.421875,
          40536.2548828125,
          40590.087890625,
          40643.9208984375,
          40697.75390625,
          40751.5869140625,
          40805.419921875,
          40859.2529296875,
          40913.0859375,
          40966.9189453125,
          41020.751953125,
          41074.5849609375,
          41128.41796875,
          41182.2509765625,
          41236.083984375,
          41289.9169921875,
          41343.75,
          41397.5830078125,
          41451.416015625,
          41505.2490234375,
          41559.08203125,
          41612.9150390625,
          41666.748046875,
          41720.5810546875,
          41774.4140625,
          41828.2470703125,
          41882.080078125,
          41935.9130859375,
          41989.74609375,
          42043.5791015625,
          42097.412109375,
          42151.2451171875,
          42205.078125,
          42258.9111328125,
          42312.744140625,
          42366.5771484375,
          42420.41015625,
          42474.2431640625,
          42528.076171875,
          42581.9091796875,
          42635.7421875,
          42689.5751953125,
          42743.408203125,
          42797.2412109375,
          42851.07421875,
          42904.9072265625,
          42958.740234375,
          43012.5732421875,
          43066.40625,
          43120.2392578125,
          43174.072265625,
          43227.9052734375,
          43281.73828125,
          43335.5712890625,
          43389.404296875,
          43443.2373046875,
          43497.0703125,
          43550.9033203125,
          43604.736328125,
          43658.5693359375,
          43712.40234375,
          43766.2353515625,
          43820.068359375,
          43873.9013671875,
          43927.734375,
          43981.5673828125,
          44035.400390625,
          44089.2333984375,
          44143.06640625,
          44196.8994140625,
          44250.732421875,
          44304.5654296875,
          44358.3984375,
          44412.2314453125,
          44466.064453125,
          44519.8974609375,
          44573.73046875,
          44627.5634765625,
          44681.396484375,
          44735.2294921875,
          44789.0625,
          44842.8955078125,
          44896.728515625,
          44950.5615234375,
          45004.39453125,
          45058.2275390625,
          45112.060546875,
          45165.8935546875,
          45219.7265625,
          45273.5595703125,
          45327.392578125,
          45381.2255859375,
          45435.05859375,
          45488.8916015625,
          45542.724609375,
          45596.5576171875,
          45650.390625,
          45704.2236328125,
          45758.056640625,
          45811.8896484375,
          45865.72265625,
          45919.5556640625,
          45973.388671875,
          46027.2216796875,
          46081.0546875,
          46134.8876953125,
          46188.720703125,
          46242.5537109375,
          46296.38671875,
          46350.2197265625,
          46404.052734375,
          46457.8857421875,
          46511.71875,
          46565.5517578125,
          46619.384765625,
          46673.2177734375,
          46727.05078125,
          46780.8837890625,
          46834.716796875,
          46888.5498046875,
          46942.3828125,
          46996.2158203125,
          47050.048828125,
          47103.8818359375,
          47157.71484375,
          47211.5478515625,
          47265.380859375,
          47319.2138671875,
          47373.046875,
          47426.8798828125,
          47480.712890625,
          47534.5458984375,
          47588.37890625,
          47642.2119140625,
          47696.044921875,
          47749.8779296875,
          47803.7109375,
          47857.5439453125,
          47911.376953125,
          47965.2099609375,
          48019.04296875,
          48072.8759765625,
          48126.708984375,
          48180.5419921875,
          48234.375,
          48288.2080078125,
          48342.041015625,
          48395.8740234375,
          48449.70703125,
          48503.5400390625,
          48557.373046875,
          48611.2060546875,
          48665.0390625,
          48718.8720703125,
          48772.705078125,
          48826.5380859375,
          48880.37109375,
          48934.2041015625,
          48988.037109375,
          49041.8701171875,
          49095.703125,
          49149.5361328125,
          49203.369140625,
          49257.2021484375,
          49311.03515625,
          49364.8681640625,
          49418.701171875,
          49472.5341796875,
          49526.3671875,
          49580.2001953125,
          49634.033203125,
          49687.8662109375,
          49741.69921875,
          49795.5322265625,
          49849.365234375,
          49903.1982421875,
          49957.03125,
          50010.8642578125,
          50064.697265625,
          50118.5302734375,
          50172.36328125,
          50226.1962890625,
          50280.029296875,
          50333.8623046875,
          50387.6953125,
          50441.5283203125,
          50495.361328125,
          50549.1943359375,
          50603.02734375,
          50656.8603515625,
          50710.693359375,
          50764.5263671875,
          50818.359375,
          50872.1923828125,
          50926.025390625,
          50979.8583984375,
          51033.69140625,
          51087.5244140625,
          51141.357421875,
          51195.1904296875,
          51249.0234375,
          51302.8564453125,
          51356.689453125,
          51410.5224609375,
          51464.35546875,
          51518.1884765625,
          51572.021484375,
          51625.8544921875,
          51679.6875,
          51733.5205078125,
          51787.353515625,
          51841.1865234375,
          51895.01953125,
          51948.8525390625,
          52002.685546875,
          52056.5185546875,
          52110.3515625,
          52164.1845703125,
          52218.017578125,
          52271.8505859375,
          52325.68359375,
          52379.5166015625,
          52433.349609375,
          52487.1826171875,
          52541.015625,
          52594.8486328125,
          52648.681640625,
          52702.5146484375,
          52756.34765625,
          52810.1806640625,
          52864.013671875,
          52917.8466796875,
          52971.6796875,
          53025.5126953125,
          53079.345703125,
          53133.1787109375,
          53187.01171875,
          53240.8447265625,
          53294.677734375,
          53348.5107421875,
          53402.34375,
          53456.1767578125,
          53510.009765625,
          53563.8427734375,
          53617.67578125,
          53671.5087890625,
          53725.341796875,
          53779.1748046875,
          53833.0078125,
          53886.8408203125,
          53940.673828125,
          53994.5068359375,
          54048.33984375,
          54102.1728515625,
          54156.005859375,
          54209.8388671875,
          54263.671875,
          54317.5048828125,
          54371.337890625,
          54425.1708984375,
          54479.00390625,
          54532.8369140625,
          54586.669921875,
          54640.5029296875,
          54694.3359375,
          54748.1689453125,
          54802.001953125,
          54855.8349609375,
          54909.66796875,
          54963.5009765625,
          55017.333984375,
          55071.1669921875,
          55125,
          55178.8330078125,
          55232.666015625,
          55286.4990234375,
          55340.33203125,
          55394.1650390625,
          55447.998046875,
          55501.8310546875,
          55555.6640625,
          55609.4970703125,
          55663.330078125,
          55717.1630859375,
          55770.99609375,
          55824.8291015625,
          55878.662109375,
          55932.4951171875,
          55986.328125,
          56040.1611328125,
          56093.994140625,
          56147.8271484375,
          56201.66015625,
          56255.4931640625,
          56309.326171875,
          56363.1591796875,
          56416.9921875,
          56470.8251953125,
          56524.658203125,
          56578.4912109375,
          56632.32421875,
          56686.1572265625,
          56739.990234375,
          56793.8232421875,
          56847.65625,
          56901.4892578125,
          56955.322265625,
          57009.1552734375,
          57062.98828125,
          57116.8212890625,
          57170.654296875,
          57224.4873046875,
          57278.3203125,
          57332.1533203125,
          57385.986328125,
          57439.8193359375,
          57493.65234375,
          57547.4853515625,
          57601.318359375,
          57655.1513671875,
          57708.984375,
          57762.8173828125,
          57816.650390625,
          57870.4833984375,
          57924.31640625,
          57978.1494140625,
          58031.982421875,
          58085.8154296875,
          58139.6484375,
          58193.4814453125,
          58247.314453125,
          58301.1474609375,
          58354.98046875,
          58408.8134765625,
          58462.646484375,
          58516.4794921875,
          58570.3125,
          58624.1455078125,
          58677.978515625,
          58731.8115234375,
          58785.64453125,
          58839.4775390625,
          58893.310546875,
          58947.1435546875,
          59000.9765625,
          59054.8095703125,
          59108.642578125,
          59162.4755859375,
          59216.30859375,
          59270.1416015625,
          59323.974609375,
          59377.8076171875,
          59431.640625,
          59485.4736328125,
          59539.306640625,
          59593.1396484375,
          59646.97265625,
          59700.8056640625,
          59754.638671875,
          59808.4716796875,
          59862.3046875,
          59916.1376953125,
          59969.970703125,
          60023.8037109375,
          60077.63671875,
          60131.4697265625,
          60185.302734375,
          60239.1357421875,
          60292.96875,
          60346.8017578125,
          60400.634765625,
          60454.4677734375,
          60508.30078125,
          60562.1337890625,
          60615.966796875,
          60669.7998046875,
          60723.6328125,
          60777.4658203125,
          60831.298828125,
          60885.1318359375,
          60938.96484375,
          60992.7978515625,
          61046.630859375,
          61100.4638671875,
          61154.296875,
          61208.1298828125,
          61261.962890625,
          61315.7958984375,
          61369.62890625,
          61423.4619140625,
          61477.294921875,
          61531.1279296875,
          61584.9609375,
          61638.7939453125,
          61692.626953125,
          61746.4599609375,
          61800.29296875,
          61854.1259765625,
          61907.958984375,
          61961.7919921875,
          62015.625,
          62069.4580078125,
          62123.291015625,
          62177.1240234375,
          62230.95703125,
          62284.7900390625,
          62338.623046875,
          62392.4560546875,
          62446.2890625,
          62500.1220703125,
          62553.955078125,
          62607.7880859375,
          62661.62109375,
          62715.4541015625,
          62769.287109375,
          62823.1201171875,
          62876.953125,
          62930.7861328125,
          62984.619140625,
          63038.4521484375,
          63092.28515625,
          63146.1181640625,
          63199.951171875,
          63253.7841796875,
          63307.6171875,
          63361.4501953125,
          63415.283203125,
          63469.1162109375,
          63522.94921875,
          63576.7822265625,
          63630.615234375,
          63684.4482421875,
          63738.28125,
          63792.1142578125,
          63845.947265625,
          63899.7802734375,
          63953.61328125,
          64007.4462890625,
          64061.279296875,
          64115.1123046875,
          64168.9453125,
          64222.7783203125,
          64276.611328125,
          64330.4443359375,
          64384.27734375,
          64438.1103515625,
          64491.943359375,
          64545.7763671875,
          64599.609375,
          64653.4423828125,
          64707.275390625,
          64761.1083984375,
          64814.94140625,
          64868.7744140625,
          64922.607421875,
          64976.4404296875,
          65030.2734375,
          65084.1064453125,
          65137.939453125,
          65191.7724609375,
          65245.60546875,
          65299.4384765625,
          65353.271484375,
          65407.1044921875,
          65460.9375,
          65514.7705078125,
          65568.603515625,
          65622.4365234375,
          65676.26953125,
          65730.1025390625,
          65783.935546875,
          65837.7685546875,
          65891.6015625,
          65945.4345703125,
          65999.267578125,
          66053.1005859375,
          66106.93359375,
          66160.7666015625,
          66214.599609375,
          66268.4326171875,
          66322.265625,
          66376.0986328125,
          66429.931640625,
          66483.7646484375,
          66537.59765625,
          66591.4306640625,
          66645.263671875,
          66699.0966796875,
          66752.9296875,
          66806.7626953125,
          66860.595703125,
          66914.4287109375,
          66968.26171875,
          67022.0947265625,
          67075.927734375,
          67129.7607421875,
          67183.59375,
          67237.4267578125,
          67291.259765625,
          67345.0927734375,
          67398.92578125,
          67452.7587890625,
          67506.591796875,
          67560.4248046875,
          67614.2578125,
          67668.0908203125,
          67721.923828125,
          67775.7568359375,
          67829.58984375,
          67883.4228515625,
          67937.255859375,
          67991.0888671875,
          68044.921875,
          68098.7548828125,
          68152.587890625,
          68206.4208984375,
          68260.25390625,
          68314.0869140625,
          68367.919921875,
          68421.7529296875,
          68475.5859375,
          68529.4189453125,
          68583.251953125,
          68637.0849609375,
          68690.91796875,
          68744.7509765625,
          68798.583984375,
          68852.4169921875,
          68906.25,
          68960.0830078125,
          69013.916015625,
          69067.7490234375,
          69121.58203125,
          69175.4150390625,
          69229.248046875,
          69283.0810546875,
          69336.9140625,
          69390.7470703125,
          69444.580078125,
          69498.4130859375,
          69552.24609375,
          69606.0791015625,
          69659.912109375,
          69713.7451171875,
          69767.578125,
          69821.4111328125,
          69875.244140625,
          69929.0771484375,
          69982.91015625,
          70036.7431640625,
          70090.576171875,
          70144.4091796875,
          70198.2421875,
          70252.0751953125,
          70305.908203125,
          70359.7412109375,
          70413.57421875,
          70467.4072265625,
          70521.240234375,
          70575.0732421875,
          70628.90625,
          70682.7392578125,
          70736.572265625,
          70790.4052734375,
          70844.23828125,
          70898.0712890625,
          70951.904296875,
          71005.7373046875,
          71059.5703125,
          71113.4033203125,
          71167.236328125,
          71221.0693359375,
          71274.90234375,
          71328.7353515625,
          71382.568359375,
          71436.4013671875,
          71490.234375,
          71544.0673828125,
          71597.900390625,
          71651.7333984375,
          71705.56640625,
          71759.3994140625,
          71813.232421875,
          71867.0654296875,
          71920.8984375,
          71974.7314453125,
          72028.564453125,
          72082.3974609375,
          72136.23046875,
          72190.0634765625,
          72243.896484375,
          72297.7294921875,
          72351.5625,
          72405.3955078125,
          72459.228515625,
          72513.0615234375,
          72566.89453125,
          72620.7275390625,
          72674.560546875,
          72728.3935546875,
          72782.2265625,
          72836.0595703125,
          72889.892578125,
          72943.7255859375,
          72997.55859375,
          73051.3916015625,
          73105.224609375,
          73159.0576171875,
          73212.890625,
          73266.7236328125,
          73320.556640625,
          73374.3896484375,
          73428.22265625,
          73482.0556640625,
          73535.888671875,
          73589.7216796875,
          73643.5546875,
          73697.3876953125,
          73751.220703125,
          73805.0537109375,
          73858.88671875,
          73912.7197265625,
          73966.552734375,
          74020.3857421875,
          74074.21875,
          74128.0517578125,
          74181.884765625,
          74235.7177734375,
          74289.55078125,
          74343.3837890625,
          74397.216796875,
          74451.0498046875,
          74504.8828125,
          74558.7158203125,
          74612.548828125,
          74666.3818359375,
          74720.21484375,
          74774.0478515625,
          74827.880859375,
          74881.7138671875,
          74935.546875,
          74989.3798828125,
          75043.212890625,
          75097.0458984375,
          75150.87890625,
          75204.7119140625,
          75258.544921875,
          75312.3779296875,
          75366.2109375,
          75420.0439453125,
          75473.876953125,
          75527.7099609375,
          75581.54296875,
          75635.3759765625,
          75689.208984375,
          75743.0419921875,
          75796.875,
          75850.7080078125,
          75904.541015625,
          75958.3740234375,
          76012.20703125,
          76066.0400390625,
          76119.873046875,
          76173.7060546875,
          76227.5390625,
          76281.3720703125,
          76335.205078125,
          76389.0380859375,
          76442.87109375,
          76496.7041015625,
          76550.537109375,
          76604.3701171875,
          76658.203125,
          76712.0361328125,
          76765.869140625,
          76819.7021484375,
          76873.53515625,
          76927.3681640625,
          76981.201171875,
          77035.0341796875,
          77088.8671875,
          77142.7001953125,
          77196.533203125,
          77250.3662109375,
          77304.19921875,
          77358.0322265625,
          77411.865234375,
          77465.6982421875,
          77519.53125,
          77573.3642578125,
          77627.197265625,
          77681.0302734375,
          77734.86328125,
          77788.6962890625,
          77842.529296875,
          77896.3623046875,
          77950.1953125,
          78004.0283203125,
          78057.861328125,
          78111.6943359375,
          78165.52734375,
          78219.3603515625,
          78273.193359375,
          78327.0263671875,
          78380.859375,
          78434.6923828125,
          78488.525390625,
          78542.3583984375,
          78596.19140625,
          78650.0244140625,
          78703.857421875,
          78757.6904296875,
          78811.5234375,
          78865.3564453125,
          78919.189453125,
          78973.0224609375,
          79026.85546875,
          79080.6884765625,
          79134.521484375,
          79188.3544921875,
          79242.1875,
          79296.0205078125,
          79349.853515625,
          79403.6865234375,
          79457.51953125,
          79511.3525390625,
          79565.185546875,
          79619.0185546875,
          79672.8515625,
          79726.6845703125,
          79780.517578125,
          79834.3505859375,
          79888.18359375,
          79942.0166015625,
          79995.849609375,
          80049.6826171875,
          80103.515625,
          80157.3486328125,
          80211.181640625,
          80265.0146484375,
          80318.84765625,
          80372.6806640625,
          80426.513671875,
          80480.3466796875,
          80534.1796875,
          80588.0126953125,
          80641.845703125,
          80695.6787109375,
          80749.51171875,
          80803.3447265625,
          80857.177734375,
          80911.0107421875,
          80964.84375,
          81018.6767578125,
          81072.509765625,
          81126.3427734375,
          81180.17578125,
          81234.0087890625,
          81287.841796875,
          81341.6748046875,
          81395.5078125,
          81449.3408203125,
          81503.173828125,
          81557.0068359375,
          81610.83984375,
          81664.6728515625,
          81718.505859375,
          81772.3388671875,
          81826.171875,
          81880.0048828125,
          81933.837890625,
          81987.6708984375,
          82041.50390625,
          82095.3369140625,
          82149.169921875,
          82203.0029296875,
          82256.8359375,
          82310.6689453125,
          82364.501953125,
          82418.3349609375,
          82472.16796875,
          82526.0009765625,
          82579.833984375,
          82633.6669921875,
          82687.5,
          82741.3330078125,
          82795.166015625,
          82848.9990234375,
          82902.83203125,
          82956.6650390625,
          83010.498046875,
          83064.3310546875,
          83118.1640625,
          83171.9970703125,
          83225.830078125,
          83279.6630859375,
          83333.49609375,
          83387.3291015625,
          83441.162109375,
          83494.9951171875,
          83548.828125,
          83602.6611328125,
          83656.494140625,
          83710.3271484375,
          83764.16015625,
          83817.9931640625,
          83871.826171875,
          83925.6591796875,
          83979.4921875,
          84033.3251953125,
          84087.158203125,
          84140.9912109375,
          84194.82421875,
          84248.6572265625,
          84302.490234375,
          84356.3232421875,
          84410.15625,
          84463.9892578125,
          84517.822265625,
          84571.6552734375,
          84625.48828125,
          84679.3212890625,
          84733.154296875,
          84786.9873046875,
          84840.8203125,
          84894.6533203125,
          84948.486328125,
          85002.3193359375,
          85056.15234375,
          85109.9853515625,
          85163.818359375,
          85217.6513671875,
          85271.484375,
          85325.3173828125,
          85379.150390625,
          85432.9833984375,
          85486.81640625,
          85540.6494140625,
          85594.482421875,
          85648.3154296875,
          85702.1484375,
          85755.9814453125,
          85809.814453125,
          85863.6474609375,
          85917.48046875,
          85971.3134765625,
          86025.146484375,
          86078.9794921875,
          86132.8125,
          86186.6455078125,
          86240.478515625,
          86294.3115234375,
          86348.14453125,
          86401.9775390625,
          86455.810546875,
          86509.6435546875,
          86563.4765625,
          86617.3095703125,
          86671.142578125,
          86724.9755859375,
          86778.80859375,
          86832.6416015625,
          86886.474609375,
          86940.3076171875,
          86994.140625,
          87047.9736328125,
          87101.806640625,
          87155.6396484375,
          87209.47265625,
          87263.3056640625,
          87317.138671875,
          87370.9716796875,
          87424.8046875,
          87478.6376953125,
          87532.470703125,
          87586.3037109375,
          87640.13671875,
          87693.9697265625,
          87747.802734375,
          87801.6357421875,
          87855.46875,
          87909.3017578125,
          87963.134765625,
          88016.9677734375,
          88070.80078125,
          88124.6337890625,
          88178.466796875,
          88232.2998046875,
          88286.1328125,
          88339.9658203125,
          88393.798828125,
          88447.6318359375,
          88501.46484375,
          88555.2978515625,
          88609.130859375,
          88662.9638671875,
          88716.796875,
          88770.6298828125,
          88824.462890625,
          88878.2958984375,
          88932.12890625,
          88985.9619140625,
          89039.794921875,
          89093.6279296875,
          89147.4609375,
          89201.2939453125,
          89255.126953125,
          89308.9599609375,
          89362.79296875,
          89416.6259765625,
          89470.458984375,
          89524.2919921875,
          89578.125,
          89631.9580078125,
          89685.791015625,
          89739.6240234375,
          89793.45703125,
          89847.2900390625,
          89901.123046875,
          89954.9560546875,
          90008.7890625,
          90062.6220703125,
          90116.455078125,
          90170.2880859375,
          90224.12109375,
          90277.9541015625,
          90331.787109375,
          90385.6201171875,
          90439.453125,
          90493.2861328125,
          90547.119140625,
          90600.9521484375,
          90654.78515625,
          90708.6181640625,
          90762.451171875,
          90816.2841796875,
          90870.1171875,
          90923.9501953125,
          90977.783203125,
          91031.6162109375,
          91085.44921875,
          91139.2822265625,
          91193.115234375,
          91246.9482421875,
          91300.78125,
          91354.6142578125,
          91408.447265625,
          91462.2802734375,
          91516.11328125,
          91569.9462890625,
          91623.779296875,
          91677.6123046875,
          91731.4453125,
          91785.2783203125,
          91839.111328125,
          91892.9443359375,
          91946.77734375,
          92000.6103515625,
          92054.443359375,
          92108.2763671875,
          92162.109375,
          92215.9423828125,
          92269.775390625,
          92323.6083984375,
          92377.44140625,
          92431.2744140625,
          92485.107421875,
          92538.9404296875,
          92592.7734375,
          92646.6064453125,
          92700.439453125,
          92754.2724609375,
          92808.10546875,
          92861.9384765625,
          92915.771484375,
          92969.6044921875,
          93023.4375,
          93077.2705078125,
          93131.103515625,
          93184.9365234375,
          93238.76953125,
          93292.6025390625,
          93346.435546875,
          93400.2685546875,
          93454.1015625,
          93507.9345703125,
          93561.767578125,
          93615.6005859375,
          93669.43359375,
          93723.2666015625,
          93777.099609375,
          93830.9326171875,
          93884.765625,
          93938.5986328125,
          93992.431640625,
          94046.2646484375,
          94100.09765625,
          94153.9306640625,
          94207.763671875,
          94261.5966796875,
          94315.4296875,
          94369.2626953125,
          94423.095703125,
          94476.9287109375,
          94530.76171875,
          94584.5947265625,
          94638.427734375,
          94692.2607421875,
          94746.09375,
          94799.9267578125,
          94853.759765625,
          94907.5927734375,
          94961.42578125,
          95015.2587890625,
          95069.091796875,
          95122.9248046875,
          95176.7578125,
          95230.5908203125,
          95284.423828125,
          95338.2568359375,
          95392.08984375,
          95445.9228515625,
          95499.755859375,
          95553.5888671875,
          95607.421875,
          95661.2548828125,
          95715.087890625,
          95768.9208984375,
          95822.75390625,
          95876.5869140625,
          95930.419921875,
          95984.2529296875,
          96038.0859375,
          96091.9189453125,
          96145.751953125,
          96199.5849609375,
          96253.41796875,
          96307.2509765625,
          96361.083984375,
          96414.9169921875,
          96468.75,
          96522.5830078125,
          96576.416015625,
          96630.2490234375,
          96684.08203125,
          96737.9150390625,
          96791.748046875,
          96845.5810546875,
          96899.4140625,
          96953.2470703125,
          97007.080078125,
          97060.9130859375,
          97114.74609375,
          97168.5791015625,
          97222.412109375,
          97276.2451171875,
          97330.078125,
          97383.9111328125,
          97437.744140625,
          97491.5771484375,
          97545.41015625,
          97599.2431640625,
          97653.076171875,
          97706.9091796875,
          97760.7421875,
          97814.5751953125,
          97868.408203125,
          97922.2412109375,
          97976.07421875,
          98029.9072265625,
          98083.740234375,
          98137.5732421875,
          98191.40625,
          98245.2392578125,
          98299.072265625,
          98352.9052734375,
          98406.73828125,
          98460.5712890625,
          98514.404296875,
          98568.2373046875,
          98622.0703125,
          98675.9033203125,
          98729.736328125,
          98783.5693359375,
          98837.40234375,
          98891.2353515625,
          98945.068359375,
          98998.9013671875,
          99052.734375,
          99106.5673828125,
          99160.400390625,
          99214.2333984375,
          99268.06640625,
          99321.8994140625,
          99375.732421875,
          99429.5654296875,
          99483.3984375,
          99537.2314453125,
          99591.064453125,
          99644.8974609375,
          99698.73046875,
          99752.5634765625,
          99806.396484375,
          99860.2294921875,
          99914.0625,
          99967.8955078125,
          100021.728515625,
          100075.5615234375,
          100129.39453125,
          100183.2275390625,
          100237.060546875,
          100290.8935546875,
          100344.7265625,
          100398.5595703125,
          100452.392578125,
          100506.2255859375,
          100560.05859375,
          100613.8916015625,
          100667.724609375,
          100721.5576171875,
          100775.390625,
          100829.2236328125,
          100883.056640625,
          100936.8896484375,
          100990.72265625,
          101044.5556640625,
          101098.388671875,
          101152.2216796875,
          101206.0546875,
          101259.8876953125,
          101313.720703125,
          101367.5537109375,
          101421.38671875,
          101475.2197265625,
          101529.052734375,
          101582.8857421875,
          101636.71875,
          101690.5517578125,
          101744.384765625,
          101798.2177734375,
          101852.05078125,
          101905.8837890625,
          101959.716796875,
          102013.5498046875,
          102067.3828125,
          102121.2158203125,
          102175.048828125,
          102228.8818359375,
          102282.71484375,
          102336.5478515625,
          102390.380859375,
          102444.2138671875,
          102498.046875,
          102551.8798828125,
          102605.712890625,
          102659.5458984375,
          102713.37890625,
          102767.2119140625,
          102821.044921875,
          102874.8779296875,
          102928.7109375,
          102982.5439453125,
          103036.376953125,
          103090.2099609375,
          103144.04296875,
          103197.8759765625,
          103251.708984375,
          103305.5419921875,
          103359.375,
          103413.2080078125,
          103467.041015625,
          103520.8740234375,
          103574.70703125,
          103628.5400390625,
          103682.373046875,
          103736.2060546875,
          103790.0390625,
          103843.8720703125,
          103897.705078125,
          103951.5380859375,
          104005.37109375,
          104059.2041015625,
          104113.037109375,
          104166.8701171875,
          104220.703125,
          104274.5361328125,
          104328.369140625,
          104382.2021484375,
          104436.03515625,
          104489.8681640625,
          104543.701171875,
          104597.5341796875,
          104651.3671875,
          104705.2001953125,
          104759.033203125,
          104812.8662109375,
          104866.69921875,
          104920.5322265625,
          104974.365234375,
          105028.1982421875,
          105082.03125,
          105135.8642578125,
          105189.697265625,
          105243.5302734375,
          105297.36328125,
          105351.1962890625,
          105405.029296875,
          105458.8623046875,
          105512.6953125,
          105566.5283203125,
          105620.361328125,
          105674.1943359375,
          105728.02734375,
          105781.8603515625,
          105835.693359375,
          105889.5263671875,
          105943.359375,
          105997.1923828125,
          106051.025390625,
          106104.8583984375,
          106158.69140625,
          106212.5244140625,
          106266.357421875,
          106320.1904296875,
          106374.0234375,
          106427.8564453125,
          106481.689453125,
          106535.5224609375,
          106589.35546875,
          106643.1884765625,
          106697.021484375,
          106750.8544921875,
          106804.6875,
          106858.5205078125,
          106912.353515625,
          106966.1865234375,
          107020.01953125,
          107073.8525390625,
          107127.685546875,
          107181.5185546875,
          107235.3515625,
          107289.1845703125,
          107343.017578125,
          107396.8505859375,
          107450.68359375,
          107504.5166015625,
          107558.349609375,
          107612.1826171875,
          107666.015625,
          107719.8486328125,
          107773.681640625,
          107827.5146484375,
          107881.34765625,
          107935.1806640625,
          107989.013671875,
          108042.8466796875,
          108096.6796875,
          108150.5126953125,
          108204.345703125,
          108258.1787109375,
          108312.01171875,
          108365.8447265625,
          108419.677734375,
          108473.5107421875,
          108527.34375,
          108581.1767578125,
          108635.009765625,
          108688.8427734375,
          108742.67578125,
          108796.5087890625,
          108850.341796875,
          108904.1748046875,
          108958.0078125,
          109011.8408203125,
          109065.673828125,
          109119.5068359375,
          109173.33984375,
          109227.1728515625,
          109281.005859375,
          109334.8388671875,
          109388.671875,
          109442.5048828125,
          109496.337890625,
          109550.1708984375,
          109604.00390625,
          109657.8369140625,
          109711.669921875,
          109765.5029296875,
          109819.3359375,
          109873.1689453125,
          109927.001953125,
          109980.8349609375,
          110034.66796875,
          110088.5009765625,
          110142.333984375,
          110196.1669921875,
          110250,
          110303.8330078125,
          110357.666015625,
          110411.4990234375,
          110465.33203125,
          110519.1650390625,
          110572.998046875,
          110626.8310546875,
          110680.6640625,
          110734.4970703125,
          110788.330078125,
          110842.1630859375,
          110895.99609375,
          110949.8291015625,
          111003.662109375,
          111057.4951171875,
          111111.328125,
          111165.1611328125,
          111218.994140625,
          111272.8271484375,
          111326.66015625,
          111380.4931640625,
          111434.326171875,
          111488.1591796875,
          111541.9921875,
          111595.8251953125,
          111649.658203125,
          111703.4912109375,
          111757.32421875,
          111811.1572265625,
          111864.990234375,
          111918.8232421875,
          111972.65625,
          112026.4892578125,
          112080.322265625,
          112134.1552734375,
          112187.98828125,
          112241.8212890625,
          112295.654296875,
          112349.4873046875,
          112403.3203125,
          112457.1533203125,
          112510.986328125,
          112564.8193359375,
          112618.65234375,
          112672.4853515625,
          112726.318359375,
          112780.1513671875,
          112833.984375,
          112887.8173828125,
          112941.650390625,
          112995.4833984375,
          113049.31640625,
          113103.1494140625,
          113156.982421875,
          113210.8154296875,
          113264.6484375,
          113318.4814453125,
          113372.314453125,
          113426.1474609375,
          113479.98046875,
          113533.8134765625,
          113587.646484375,
          113641.4794921875,
          113695.3125,
          113749.1455078125,
          113802.978515625,
          113856.8115234375,
          113910.64453125,
          113964.4775390625,
          114018.310546875,
          114072.1435546875,
          114125.9765625,
          114179.8095703125,
          114233.642578125,
          114287.4755859375,
          114341.30859375,
          114395.1416015625,
          114448.974609375,
          114502.8076171875,
          114556.640625,
          114610.4736328125,
          114664.306640625,
          114718.1396484375,
          114771.97265625,
          114825.8056640625,
          114879.638671875,
          114933.4716796875,
          114987.3046875,
          115041.1376953125,
          115094.970703125,
          115148.8037109375,
          115202.63671875,
          115256.4697265625,
          115310.302734375,
          115364.1357421875,
          115417.96875,
          115471.8017578125,
          115525.634765625,
          115579.4677734375,
          115633.30078125,
          115687.1337890625,
          115740.966796875,
          115794.7998046875,
          115848.6328125,
          115902.4658203125,
          115956.298828125,
          116010.1318359375,
          116063.96484375,
          116117.7978515625,
          116171.630859375,
          116225.4638671875,
          116279.296875,
          116333.1298828125,
          116386.962890625,
          116440.7958984375,
          116494.62890625,
          116548.4619140625,
          116602.294921875,
          116656.1279296875,
          116709.9609375,
          116763.7939453125,
          116817.626953125,
          116871.4599609375,
          116925.29296875,
          116979.1259765625,
          117032.958984375,
          117086.7919921875,
          117140.625,
          117194.4580078125,
          117248.291015625,
          117302.1240234375,
          117355.95703125,
          117409.7900390625,
          117463.623046875,
          117517.4560546875,
          117571.2890625,
          117625.1220703125,
          117678.955078125,
          117732.7880859375,
          117786.62109375,
          117840.4541015625,
          117894.287109375,
          117948.1201171875,
          118001.953125,
          118055.7861328125,
          118109.619140625,
          118163.4521484375,
          118217.28515625,
          118271.1181640625,
          118324.951171875,
          118378.7841796875,
          118432.6171875,
          118486.4501953125,
          118540.283203125,
          118594.1162109375,
          118647.94921875,
          118701.7822265625,
          118755.615234375,
          118809.4482421875,
          118863.28125,
          118917.1142578125,
          118970.947265625,
          119024.7802734375,
          119078.61328125,
          119132.4462890625,
          119186.279296875,
          119240.1123046875,
          119293.9453125,
          119347.7783203125,
          119401.611328125,
          119455.4443359375,
          119509.27734375,
          119563.1103515625,
          119616.943359375,
          119670.7763671875,
          119724.609375,
          119778.4423828125,
          119832.275390625,
          119886.1083984375,
          119939.94140625,
          119993.7744140625,
          120047.607421875,
          120101.4404296875,
          120155.2734375,
          120209.1064453125,
          120262.939453125,
          120316.7724609375,
          120370.60546875,
          120424.4384765625,
          120478.271484375,
          120532.1044921875,
          120585.9375,
          120639.7705078125,
          120693.603515625,
          120747.4365234375,
          120801.26953125,
          120855.1025390625,
          120908.935546875,
          120962.7685546875,
          121016.6015625,
          121070.4345703125,
          121124.267578125,
          121178.1005859375,
          121231.93359375,
          121285.7666015625,
          121339.599609375,
          121393.4326171875,
          121447.265625,
          121501.0986328125,
          121554.931640625,
          121608.7646484375,
          121662.59765625,
          121716.4306640625,
          121770.263671875,
          121824.0966796875,
          121877.9296875,
          121931.7626953125,
          121985.595703125,
          122039.4287109375,
          122093.26171875,
          122147.0947265625,
          122200.927734375,
          122254.7607421875,
          122308.59375,
          122362.4267578125,
          122416.259765625,
          122470.0927734375,
          122523.92578125,
          122577.7587890625,
          122631.591796875,
          122685.4248046875,
          122739.2578125,
          122793.0908203125,
          122846.923828125,
          122900.7568359375,
          122954.58984375,
          123008.4228515625,
          123062.255859375,
          123116.0888671875,
          123169.921875,
          123223.7548828125,
          123277.587890625,
          123331.4208984375,
          123385.25390625,
          123439.0869140625,
          123492.919921875,
          123546.7529296875,
          123600.5859375,
          123654.4189453125,
          123708.251953125,
          123762.0849609375,
          123815.91796875,
          123869.7509765625,
          123923.583984375,
          123977.4169921875,
          124031.25,
          124085.0830078125,
          124138.916015625,
          124192.7490234375,
          124246.58203125,
          124300.4150390625,
          124354.248046875,
          124408.0810546875,
          124461.9140625,
          124515.7470703125,
          124569.580078125,
          124623.4130859375,
          124677.24609375,
          124731.0791015625,
          124784.912109375,
          124838.7451171875,
          124892.578125,
          124946.4111328125,
          125000.244140625,
          125054.0771484375,
          125107.91015625,
          125161.7431640625,
          125215.576171875,
          125269.4091796875,
          125323.2421875,
          125377.0751953125,
          125430.908203125,
          125484.7412109375,
          125538.57421875,
          125592.4072265625,
          125646.240234375,
          125700.0732421875,
          125753.90625,
          125807.7392578125,
          125861.572265625,
          125915.4052734375,
          125969.23828125,
          126023.0712890625,
          126076.904296875,
          126130.7373046875,
          126184.5703125,
          126238.4033203125,
          126292.236328125,
          126346.0693359375,
          126399.90234375,
          126453.7353515625,
          126507.568359375,
          126561.4013671875,
          126615.234375,
          126669.0673828125,
          126722.900390625,
          126776.7333984375,
          126830.56640625,
          126884.3994140625,
          126938.232421875,
          126992.0654296875,
          127045.8984375,
          127099.7314453125,
          127153.564453125,
          127207.3974609375,
          127261.23046875,
          127315.0634765625,
          127368.896484375,
          127422.7294921875,
          127476.5625,
          127530.3955078125,
          127584.228515625,
          127638.0615234375,
          127691.89453125,
          127745.7275390625,
          127799.560546875,
          127853.3935546875,
          127907.2265625,
          127961.0595703125,
          128014.892578125,
          128068.7255859375,
          128122.55859375,
          128176.3916015625,
          128230.224609375,
          128284.0576171875,
          128337.890625,
          128391.7236328125,
          128445.556640625,
          128499.3896484375,
          128553.22265625,
          128607.0556640625,
          128660.888671875,
          128714.7216796875,
          128768.5546875,
          128822.3876953125,
          128876.220703125,
          128930.0537109375,
          128983.88671875,
          129037.7197265625,
          129091.552734375,
          129145.3857421875,
          129199.21875,
          129253.0517578125,
          129306.884765625,
          129360.7177734375,
          129414.55078125,
          129468.3837890625,
          129522.216796875,
          129576.0498046875,
          129629.8828125,
          129683.7158203125,
          129737.548828125,
          129791.3818359375,
          129845.21484375,
          129899.0478515625,
          129952.880859375,
          130006.7138671875,
          130060.546875,
          130114.3798828125,
          130168.212890625,
          130222.0458984375,
          130275.87890625,
          130329.7119140625,
          130383.544921875,
          130437.3779296875,
          130491.2109375,
          130545.0439453125,
          130598.876953125,
          130652.7099609375,
          130706.54296875,
          130760.3759765625,
          130814.208984375,
          130868.0419921875,
          130921.875,
          130975.7080078125,
          131029.541015625,
          131083.3740234375,
          131137.20703125,
          131191.0400390625,
          131244.873046875,
          131298.7060546875,
          131352.5390625,
          131406.3720703125,
          131460.205078125,
          131514.0380859375,
          131567.87109375,
          131621.7041015625,
          131675.537109375,
          131729.3701171875,
          131783.203125,
          131837.0361328125,
          131890.869140625,
          131944.7021484375,
          131998.53515625,
          132052.3681640625,
          132106.201171875,
          132160.0341796875,
          132213.8671875,
          132267.7001953125,
          132321.533203125,
          132375.3662109375,
          132429.19921875,
          132483.0322265625,
          132536.865234375,
          132590.6982421875,
          132644.53125,
          132698.3642578125,
          132752.197265625,
          132806.0302734375,
          132859.86328125,
          132913.6962890625,
          132967.529296875,
          133021.3623046875,
          133075.1953125,
          133129.0283203125,
          133182.861328125,
          133236.6943359375,
          133290.52734375,
          133344.3603515625,
          133398.193359375,
          133452.0263671875,
          133505.859375,
          133559.6923828125,
          133613.525390625,
          133667.3583984375,
          133721.19140625,
          133775.0244140625,
          133828.857421875,
          133882.6904296875,
          133936.5234375,
          133990.3564453125,
          134044.189453125,
          134098.0224609375,
          134151.85546875,
          134205.6884765625,
          134259.521484375,
          134313.3544921875,
          134367.1875,
          134421.0205078125,
          134474.853515625,
          134528.6865234375,
          134582.51953125,
          134636.3525390625,
          134690.185546875,
          134744.0185546875,
          134797.8515625,
          134851.6845703125,
          134905.517578125,
          134959.3505859375,
          135013.18359375,
          135067.0166015625,
          135120.849609375,
          135174.6826171875,
          135228.515625,
          135282.3486328125,
          135336.181640625,
          135390.0146484375,
          135443.84765625,
          135497.6806640625,
          135551.513671875,
          135605.3466796875,
          135659.1796875,
          135713.0126953125,
          135766.845703125,
          135820.6787109375,
          135874.51171875,
          135928.3447265625,
          135982.177734375,
          136036.0107421875,
          136089.84375,
          136143.6767578125,
          136197.509765625,
          136251.3427734375,
          136305.17578125,
          136359.0087890625,
          136412.841796875,
          136466.6748046875,
          136520.5078125,
          136574.3408203125,
          136628.173828125,
          136682.0068359375,
          136735.83984375,
          136789.6728515625,
          136843.505859375,
          136897.3388671875,
          136951.171875,
          137005.0048828125,
          137058.837890625,
          137112.6708984375,
          137166.50390625,
          137220.3369140625,
          137274.169921875,
          137328.0029296875,
          137381.8359375,
          137435.6689453125,
          137489.501953125,
          137543.3349609375,
          137597.16796875,
          137651.0009765625,
          137704.833984375,
          137758.6669921875,
          137812.5,
          137866.3330078125,
          137920.166015625,
          137973.9990234375,
          138027.83203125,
          138081.6650390625,
          138135.498046875,
          138189.3310546875,
          138243.1640625,
          138296.9970703125,
          138350.830078125,
          138404.6630859375,
          138458.49609375,
          138512.3291015625,
          138566.162109375,
          138619.9951171875,
          138673.828125,
          138727.6611328125,
          138781.494140625,
          138835.3271484375,
          138889.16015625,
          138942.9931640625,
          138996.826171875,
          139050.6591796875,
          139104.4921875,
          139158.3251953125,
          139212.158203125,
          139265.9912109375,
          139319.82421875,
          139373.6572265625,
          139427.490234375,
          139481.3232421875,
          139535.15625,
          139588.9892578125,
          139642.822265625,
          139696.6552734375,
          139750.48828125,
          139804.3212890625,
          139858.154296875,
          139911.9873046875,
          139965.8203125,
          140019.6533203125,
          140073.486328125,
          140127.3193359375,
          140181.15234375,
          140234.9853515625,
          140288.818359375,
          140342.6513671875,
          140396.484375,
          140450.3173828125,
          140504.150390625,
          140557.9833984375,
          140611.81640625,
          140665.6494140625,
          140719.482421875,
          140773.3154296875,
          140827.1484375,
          140880.9814453125,
          140934.814453125,
          140988.6474609375,
          141042.48046875,
          141096.3134765625,
          141150.146484375,
          141203.9794921875,
          141257.8125,
          141311.6455078125,
          141365.478515625,
          141419.3115234375,
          141473.14453125,
          141526.9775390625,
          141580.810546875,
          141634.6435546875,
          141688.4765625,
          141742.3095703125,
          141796.142578125,
          141849.9755859375,
          141903.80859375,
          141957.6416015625,
          142011.474609375,
          142065.3076171875,
          142119.140625,
          142172.9736328125,
          142226.806640625,
          142280.6396484375,
          142334.47265625,
          142388.3056640625,
          142442.138671875,
          142495.9716796875,
          142549.8046875,
          142603.6376953125,
          142657.470703125,
          142711.3037109375,
          142765.13671875,
          142818.9697265625,
          142872.802734375,
          142926.6357421875,
          142980.46875,
          143034.3017578125,
          143088.134765625,
          143141.9677734375,
          143195.80078125,
          143249.6337890625,
          143303.466796875,
          143357.2998046875,
          143411.1328125,
          143464.9658203125,
          143518.798828125,
          143572.6318359375,
          143626.46484375,
          143680.2978515625,
          143734.130859375,
          143787.9638671875,
          143841.796875,
          143895.6298828125,
          143949.462890625,
          144003.2958984375,
          144057.12890625,
          144110.9619140625,
          144164.794921875,
          144218.6279296875,
          144272.4609375,
          144326.2939453125,
          144380.126953125,
          144433.9599609375,
          144487.79296875,
          144541.6259765625,
          144595.458984375,
          144649.2919921875,
          144703.125,
          144756.9580078125,
          144810.791015625,
          144864.6240234375,
          144918.45703125,
          144972.2900390625,
          145026.123046875,
          145079.9560546875,
          145133.7890625,
          145187.6220703125,
          145241.455078125,
          145295.2880859375,
          145349.12109375,
          145402.9541015625,
          145456.787109375,
          145510.6201171875,
          145564.453125,
          145618.2861328125,
          145672.119140625,
          145725.9521484375,
          145779.78515625,
          145833.6181640625,
          145887.451171875,
          145941.2841796875,
          145995.1171875,
          146048.9501953125,
          146102.783203125,
          146156.6162109375,
          146210.44921875,
          146264.2822265625,
          146318.115234375,
          146371.9482421875,
          146425.78125,
          146479.6142578125,
          146533.447265625,
          146587.2802734375,
          146641.11328125,
          146694.9462890625,
          146748.779296875,
          146802.6123046875,
          146856.4453125,
          146910.2783203125,
          146964.111328125,
          147017.9443359375,
          147071.77734375,
          147125.6103515625,
          147179.443359375,
          147233.2763671875,
          147287.109375,
          147340.9423828125,
          147394.775390625,
          147448.6083984375,
          147502.44140625,
          147556.2744140625,
          147610.107421875,
          147663.9404296875,
          147717.7734375,
          147771.6064453125,
          147825.439453125,
          147879.2724609375,
          147933.10546875,
          147986.9384765625,
          148040.771484375,
          148094.6044921875,
          148148.4375,
          148202.2705078125,
          148256.103515625,
          148309.9365234375,
          148363.76953125,
          148417.6025390625,
          148471.435546875,
          148525.2685546875,
          148579.1015625,
          148632.9345703125,
          148686.767578125,
          148740.6005859375,
          148794.43359375,
          148848.2666015625,
          148902.099609375,
          148955.9326171875,
          149009.765625,
          149063.5986328125,
          149117.431640625,
          149171.2646484375,
          149225.09765625,
          149278.9306640625,
          149332.763671875,
          149386.5966796875,
          149440.4296875,
          149494.2626953125,
          149548.095703125,
          149601.9287109375,
          149655.76171875,
          149709.5947265625,
          149763.427734375,
          149817.2607421875,
          149871.09375,
          149924.9267578125,
          149978.759765625,
          150032.5927734375,
          150086.42578125,
          150140.2587890625,
          150194.091796875,
          150247.9248046875,
          150301.7578125,
          150355.5908203125,
          150409.423828125,
          150463.2568359375,
          150517.08984375,
          150570.9228515625,
          150624.755859375,
          150678.5888671875,
          150732.421875,
          150786.2548828125,
          150840.087890625,
          150893.9208984375,
          150947.75390625,
          151001.5869140625,
          151055.419921875,
          151109.2529296875,
          151163.0859375,
          151216.9189453125,
          151270.751953125,
          151324.5849609375,
          151378.41796875,
          151432.2509765625,
          151486.083984375,
          151539.9169921875,
          151593.75,
          151647.5830078125,
          151701.416015625,
          151755.2490234375,
          151809.08203125,
          151862.9150390625,
          151916.748046875,
          151970.5810546875,
          152024.4140625,
          152078.2470703125,
          152132.080078125,
          152185.9130859375,
          152239.74609375,
          152293.5791015625,
          152347.412109375,
          152401.2451171875,
          152455.078125,
          152508.9111328125,
          152562.744140625,
          152616.5771484375,
          152670.41015625,
          152724.2431640625,
          152778.076171875,
          152831.9091796875,
          152885.7421875,
          152939.5751953125,
          152993.408203125,
          153047.2412109375,
          153101.07421875,
          153154.9072265625,
          153208.740234375,
          153262.5732421875,
          153316.40625,
          153370.2392578125,
          153424.072265625,
          153477.9052734375,
          153531.73828125,
          153585.5712890625,
          153639.404296875,
          153693.2373046875,
          153747.0703125,
          153800.9033203125,
          153854.736328125,
          153908.5693359375,
          153962.40234375,
          154016.2353515625,
          154070.068359375,
          154123.9013671875,
          154177.734375,
          154231.5673828125,
          154285.400390625,
          154339.2333984375,
          154393.06640625,
          154446.8994140625,
          154500.732421875,
          154554.5654296875,
          154608.3984375,
          154662.2314453125,
          154716.064453125,
          154769.8974609375,
          154823.73046875,
          154877.5634765625,
          154931.396484375,
          154985.2294921875,
          155039.0625,
          155092.8955078125,
          155146.728515625,
          155200.5615234375,
          155254.39453125,
          155308.2275390625,
          155362.060546875,
          155415.8935546875,
          155469.7265625,
          155523.5595703125,
          155577.392578125,
          155631.2255859375,
          155685.05859375,
          155738.8916015625,
          155792.724609375,
          155846.5576171875,
          155900.390625,
          155954.2236328125,
          156008.056640625,
          156061.8896484375,
          156115.72265625,
          156169.5556640625,
          156223.388671875,
          156277.2216796875,
          156331.0546875,
          156384.8876953125,
          156438.720703125,
          156492.5537109375,
          156546.38671875,
          156600.2197265625,
          156654.052734375,
          156707.8857421875,
          156761.71875,
          156815.5517578125,
          156869.384765625,
          156923.2177734375,
          156977.05078125,
          157030.8837890625,
          157084.716796875,
          157138.5498046875,
          157192.3828125,
          157246.2158203125,
          157300.048828125,
          157353.8818359375,
          157407.71484375,
          157461.5478515625,
          157515.380859375,
          157569.2138671875,
          157623.046875,
          157676.8798828125,
          157730.712890625,
          157784.5458984375,
          157838.37890625,
          157892.2119140625,
          157946.044921875,
          157999.8779296875,
          158053.7109375,
          158107.5439453125,
          158161.376953125,
          158215.2099609375,
          158269.04296875,
          158322.8759765625,
          158376.708984375,
          158430.5419921875,
          158484.375,
          158538.2080078125,
          158592.041015625,
          158645.8740234375,
          158699.70703125,
          158753.5400390625,
          158807.373046875,
          158861.2060546875,
          158915.0390625,
          158968.8720703125,
          159022.705078125,
          159076.5380859375,
          159130.37109375,
          159184.2041015625,
          159238.037109375,
          159291.8701171875,
          159345.703125,
          159399.5361328125,
          159453.369140625,
          159507.2021484375,
          159561.03515625,
          159614.8681640625,
          159668.701171875,
          159722.5341796875,
          159776.3671875,
          159830.2001953125,
          159884.033203125,
          159937.8662109375,
          159991.69921875,
          160045.5322265625,
          160099.365234375,
          160153.1982421875,
          160207.03125,
          160260.8642578125,
          160314.697265625,
          160368.5302734375,
          160422.36328125,
          160476.1962890625,
          160530.029296875,
          160583.8623046875,
          160637.6953125,
          160691.5283203125,
          160745.361328125,
          160799.1943359375,
          160853.02734375,
          160906.8603515625,
          160960.693359375,
          161014.5263671875,
          161068.359375,
          161122.1923828125,
          161176.025390625,
          161229.8583984375,
          161283.69140625,
          161337.5244140625,
          161391.357421875,
          161445.1904296875,
          161499.0234375,
          161552.8564453125,
          161606.689453125,
          161660.5224609375,
          161714.35546875,
          161768.1884765625,
          161822.021484375,
          161875.8544921875,
          161929.6875,
          161983.5205078125,
          162037.353515625,
          162091.1865234375,
          162145.01953125,
          162198.8525390625,
          162252.685546875,
          162306.5185546875,
          162360.3515625,
          162414.1845703125,
          162468.017578125,
          162521.8505859375,
          162575.68359375,
          162629.5166015625,
          162683.349609375,
          162737.1826171875,
          162791.015625,
          162844.8486328125,
          162898.681640625,
          162952.5146484375,
          163006.34765625,
          163060.1806640625,
          163114.013671875,
          163167.8466796875,
          163221.6796875,
          163275.5126953125,
          163329.345703125,
          163383.1787109375,
          163437.01171875,
          163490.8447265625,
          163544.677734375,
          163598.5107421875,
          163652.34375,
          163706.1767578125,
          163760.009765625,
          163813.8427734375,
          163867.67578125,
          163921.5087890625,
          163975.341796875,
          164029.1748046875,
          164083.0078125,
          164136.8408203125,
          164190.673828125,
          164244.5068359375,
          164298.33984375,
          164352.1728515625,
          164406.005859375,
          164459.8388671875,
          164513.671875,
          164567.5048828125,
          164621.337890625,
          164675.1708984375,
          164729.00390625,
          164782.8369140625,
          164836.669921875,
          164890.5029296875,
          164944.3359375,
          164998.1689453125,
          165052.001953125,
          165105.8349609375,
          165159.66796875,
          165213.5009765625,
          165267.333984375,
          165321.1669921875,
          165375,
          165428.8330078125,
          165482.666015625,
          165536.4990234375,
          165590.33203125,
          165644.1650390625,
          165697.998046875,
          165751.8310546875,
          165805.6640625,
          165859.4970703125,
          165913.330078125,
          165967.1630859375,
          166020.99609375,
          166074.8291015625,
          166128.662109375,
          166182.4951171875,
          166236.328125,
          166290.1611328125,
          166343.994140625,
          166397.8271484375,
          166451.66015625,
          166505.4931640625,
          166559.326171875,
          166613.1591796875,
          166666.9921875,
          166720.8251953125,
          166774.658203125,
          166828.4912109375,
          166882.32421875,
          166936.1572265625,
          166989.990234375,
          167043.8232421875,
          167097.65625,
          167151.4892578125,
          167205.322265625,
          167259.1552734375,
          167312.98828125,
          167366.8212890625,
          167420.654296875,
          167474.4873046875,
          167528.3203125,
          167582.1533203125,
          167635.986328125,
          167689.8193359375,
          167743.65234375,
          167797.4853515625,
          167851.318359375,
          167905.1513671875,
          167958.984375,
          168012.8173828125,
          168066.650390625,
          168120.4833984375,
          168174.31640625,
          168228.1494140625,
          168281.982421875,
          168335.8154296875,
          168389.6484375,
          168443.4814453125,
          168497.314453125,
          168551.1474609375,
          168604.98046875,
          168658.8134765625,
          168712.646484375,
          168766.4794921875,
          168820.3125,
          168874.1455078125,
          168927.978515625,
          168981.8115234375,
          169035.64453125,
          169089.4775390625,
          169143.310546875,
          169197.1435546875,
          169250.9765625,
          169304.8095703125,
          169358.642578125,
          169412.4755859375,
          169466.30859375,
          169520.1416015625,
          169573.974609375,
          169627.8076171875,
          169681.640625,
          169735.4736328125,
          169789.306640625,
          169843.1396484375,
          169896.97265625,
          169950.8056640625,
          170004.638671875,
          170058.4716796875,
          170112.3046875,
          170166.1376953125,
          170219.970703125,
          170273.8037109375,
          170327.63671875,
          170381.4697265625,
          170435.302734375,
          170489.1357421875,
          170542.96875,
          170596.8017578125,
          170650.634765625,
          170704.4677734375,
          170758.30078125,
          170812.1337890625,
          170865.966796875,
          170919.7998046875,
          170973.6328125,
          171027.4658203125,
          171081.298828125,
          171135.1318359375,
          171188.96484375,
          171242.7978515625,
          171296.630859375,
          171350.4638671875,
          171404.296875,
          171458.1298828125,
          171511.962890625,
          171565.7958984375,
          171619.62890625,
          171673.4619140625,
          171727.294921875,
          171781.1279296875,
          171834.9609375,
          171888.7939453125,
          171942.626953125,
          171996.4599609375,
          172050.29296875,
          172104.1259765625,
          172157.958984375,
          172211.7919921875,
          172265.625,
          172319.4580078125,
          172373.291015625,
          172427.1240234375,
          172480.95703125,
          172534.7900390625,
          172588.623046875,
          172642.4560546875,
          172696.2890625,
          172750.1220703125,
          172803.955078125,
          172857.7880859375,
          172911.62109375,
          172965.4541015625,
          173019.287109375,
          173073.1201171875,
          173126.953125,
          173180.7861328125,
          173234.619140625,
          173288.4521484375,
          173342.28515625,
          173396.1181640625,
          173449.951171875,
          173503.7841796875,
          173557.6171875,
          173611.4501953125,
          173665.283203125,
          173719.1162109375,
          173772.94921875,
          173826.7822265625,
          173880.615234375,
          173934.4482421875,
          173988.28125,
          174042.1142578125,
          174095.947265625,
          174149.7802734375,
          174203.61328125,
          174257.4462890625,
          174311.279296875,
          174365.1123046875,
          174418.9453125,
          174472.7783203125,
          174526.611328125,
          174580.4443359375,
          174634.27734375,
          174688.1103515625,
          174741.943359375,
          174795.7763671875,
          174849.609375,
          174903.4423828125,
          174957.275390625,
          175011.1083984375,
          175064.94140625,
          175118.7744140625,
          175172.607421875,
          175226.4404296875,
          175280.2734375,
          175334.1064453125,
          175387.939453125,
          175441.7724609375,
          175495.60546875,
          175549.4384765625,
          175603.271484375,
          175657.1044921875,
          175710.9375,
          175764.7705078125,
          175818.603515625,
          175872.4365234375,
          175926.26953125,
          175980.1025390625,
          176033.935546875,
          176087.7685546875,
          176141.6015625,
          176195.4345703125,
          176249.267578125,
          176303.1005859375,
          176356.93359375,
          176410.7666015625,
          176464.599609375,
          176518.4326171875,
          176572.265625,
          176626.0986328125,
          176679.931640625,
          176733.7646484375,
          176787.59765625,
          176841.4306640625,
          176895.263671875,
          176949.0966796875,
          177002.9296875,
          177056.7626953125,
          177110.595703125,
          177164.4287109375,
          177218.26171875,
          177272.0947265625,
          177325.927734375,
          177379.7607421875,
          177433.59375,
          177487.4267578125,
          177541.259765625,
          177595.0927734375,
          177648.92578125,
          177702.7587890625,
          177756.591796875,
          177810.4248046875,
          177864.2578125,
          177918.0908203125,
          177971.923828125,
          178025.7568359375,
          178079.58984375,
          178133.4228515625,
          178187.255859375,
          178241.0888671875,
          178294.921875,
          178348.7548828125,
          178402.587890625,
          178456.4208984375,
          178510.25390625,
          178564.0869140625,
          178617.919921875,
          178671.7529296875,
          178725.5859375,
          178779.4189453125,
          178833.251953125,
          178887.0849609375,
          178940.91796875,
          178994.7509765625,
          179048.583984375,
          179102.4169921875,
          179156.25,
          179210.0830078125,
          179263.916015625,
          179317.7490234375,
          179371.58203125,
          179425.4150390625,
          179479.248046875,
          179533.0810546875,
          179586.9140625,
          179640.7470703125,
          179694.580078125,
          179748.4130859375,
          179802.24609375,
          179856.0791015625,
          179909.912109375,
          179963.7451171875,
          180017.578125,
          180071.4111328125,
          180125.244140625,
          180179.0771484375,
          180232.91015625,
          180286.7431640625,
          180340.576171875,
          180394.4091796875,
          180448.2421875,
          180502.0751953125,
          180555.908203125,
          180609.7412109375,
          180663.57421875,
          180717.4072265625,
          180771.240234375,
          180825.0732421875,
          180878.90625,
          180932.7392578125,
          180986.572265625,
          181040.4052734375,
          181094.23828125,
          181148.0712890625,
          181201.904296875,
          181255.7373046875,
          181309.5703125,
          181363.4033203125,
          181417.236328125,
          181471.0693359375,
          181524.90234375,
          181578.7353515625,
          181632.568359375,
          181686.4013671875,
          181740.234375,
          181794.0673828125,
          181847.900390625,
          181901.7333984375,
          181955.56640625,
          182009.3994140625,
          182063.232421875,
          182117.0654296875,
          182170.8984375,
          182224.7314453125,
          182278.564453125,
          182332.3974609375,
          182386.23046875,
          182440.0634765625,
          182493.896484375,
          182547.7294921875,
          182601.5625,
          182655.3955078125,
          182709.228515625,
          182763.0615234375,
          182816.89453125,
          182870.7275390625,
          182924.560546875,
          182978.3935546875,
          183032.2265625,
          183086.0595703125,
          183139.892578125,
          183193.7255859375,
          183247.55859375,
          183301.3916015625,
          183355.224609375,
          183409.0576171875,
          183462.890625,
          183516.7236328125,
          183570.556640625,
          183624.3896484375,
          183678.22265625,
          183732.0556640625,
          183785.888671875,
          183839.7216796875,
          183893.5546875,
          183947.3876953125,
          184001.220703125,
          184055.0537109375,
          184108.88671875,
          184162.7197265625,
          184216.552734375,
          184270.3857421875,
          184324.21875,
          184378.0517578125,
          184431.884765625,
          184485.7177734375,
          184539.55078125,
          184593.3837890625,
          184647.216796875,
          184701.0498046875,
          184754.8828125,
          184808.7158203125,
          184862.548828125,
          184916.3818359375,
          184970.21484375,
          185024.0478515625,
          185077.880859375,
          185131.7138671875,
          185185.546875,
          185239.3798828125,
          185293.212890625,
          185347.0458984375,
          185400.87890625,
          185454.7119140625,
          185508.544921875,
          185562.3779296875,
          185616.2109375,
          185670.0439453125,
          185723.876953125,
          185777.7099609375,
          185831.54296875,
          185885.3759765625,
          185939.208984375,
          185993.0419921875,
          186046.875,
          186100.7080078125,
          186154.541015625,
          186208.3740234375,
          186262.20703125,
          186316.0400390625,
          186369.873046875,
          186423.7060546875,
          186477.5390625,
          186531.3720703125,
          186585.205078125,
          186639.0380859375,
          186692.87109375,
          186746.7041015625,
          186800.537109375,
          186854.3701171875,
          186908.203125,
          186962.0361328125,
          187015.869140625,
          187069.7021484375,
          187123.53515625,
          187177.3681640625,
          187231.201171875,
          187285.0341796875,
          187338.8671875,
          187392.7001953125,
          187446.533203125,
          187500.3662109375,
          187554.19921875,
          187608.0322265625,
          187661.865234375,
          187715.6982421875,
          187769.53125,
          187823.3642578125,
          187877.197265625,
          187931.0302734375,
          187984.86328125,
          188038.6962890625,
          188092.529296875,
          188146.3623046875,
          188200.1953125,
          188254.0283203125,
          188307.861328125,
          188361.6943359375,
          188415.52734375,
          188469.3603515625,
          188523.193359375,
          188577.0263671875,
          188630.859375,
          188684.6923828125,
          188738.525390625,
          188792.3583984375,
          188846.19140625,
          188900.0244140625,
          188953.857421875,
          189007.6904296875,
          189061.5234375,
          189115.3564453125,
          189169.189453125,
          189223.0224609375,
          189276.85546875,
          189330.6884765625,
          189384.521484375,
          189438.3544921875,
          189492.1875,
          189546.0205078125,
          189599.853515625,
          189653.6865234375,
          189707.51953125,
          189761.3525390625,
          189815.185546875,
          189869.0185546875,
          189922.8515625,
          189976.6845703125,
          190030.517578125,
          190084.3505859375,
          190138.18359375,
          190192.0166015625,
          190245.849609375,
          190299.6826171875,
          190353.515625,
          190407.3486328125,
          190461.181640625,
          190515.0146484375,
          190568.84765625,
          190622.6806640625,
          190676.513671875,
          190730.3466796875,
          190784.1796875,
          190838.0126953125,
          190891.845703125,
          190945.6787109375,
          190999.51171875,
          191053.3447265625,
          191107.177734375,
          191161.0107421875,
          191214.84375,
          191268.6767578125,
          191322.509765625,
          191376.3427734375,
          191430.17578125,
          191484.0087890625,
          191537.841796875,
          191591.6748046875,
          191645.5078125,
          191699.3408203125,
          191753.173828125,
          191807.0068359375,
          191860.83984375,
          191914.6728515625,
          191968.505859375,
          192022.3388671875,
          192076.171875,
          192130.0048828125,
          192183.837890625,
          192237.6708984375,
          192291.50390625,
          192345.3369140625,
          192399.169921875,
          192453.0029296875,
          192506.8359375,
          192560.6689453125,
          192614.501953125,
          192668.3349609375,
          192722.16796875,
          192776.0009765625,
          192829.833984375,
          192883.6669921875,
          192937.5,
          192991.3330078125,
          193045.166015625,
          193098.9990234375,
          193152.83203125,
          193206.6650390625,
          193260.498046875,
          193314.3310546875,
          193368.1640625,
          193421.9970703125,
          193475.830078125,
          193529.6630859375,
          193583.49609375,
          193637.3291015625,
          193691.162109375,
          193744.9951171875,
          193798.828125,
          193852.6611328125,
          193906.494140625,
          193960.3271484375,
          194014.16015625,
          194067.9931640625,
          194121.826171875,
          194175.6591796875,
          194229.4921875,
          194283.3251953125,
          194337.158203125,
          194390.9912109375,
          194444.82421875,
          194498.6572265625,
          194552.490234375,
          194606.3232421875,
          194660.15625,
          194713.9892578125,
          194767.822265625,
          194821.6552734375,
          194875.48828125,
          194929.3212890625,
          194983.154296875,
          195036.9873046875,
          195090.8203125,
          195144.6533203125,
          195198.486328125,
          195252.3193359375,
          195306.15234375,
          195359.9853515625,
          195413.818359375,
          195467.6513671875,
          195521.484375,
          195575.3173828125,
          195629.150390625,
          195682.9833984375,
          195736.81640625,
          195790.6494140625,
          195844.482421875,
          195898.3154296875,
          195952.1484375,
          196005.9814453125,
          196059.814453125,
          196113.6474609375,
          196167.48046875,
          196221.3134765625,
          196275.146484375,
          196328.9794921875,
          196382.8125,
          196436.6455078125,
          196490.478515625,
          196544.3115234375,
          196598.14453125,
          196651.9775390625,
          196705.810546875,
          196759.6435546875,
          196813.4765625,
          196867.3095703125,
          196921.142578125,
          196974.9755859375,
          197028.80859375,
          197082.6416015625,
          197136.474609375,
          197190.3076171875,
          197244.140625,
          197297.9736328125,
          197351.806640625,
          197405.6396484375,
          197459.47265625,
          197513.3056640625,
          197567.138671875,
          197620.9716796875,
          197674.8046875,
          197728.6376953125,
          197782.470703125,
          197836.3037109375,
          197890.13671875,
          197943.9697265625,
          197997.802734375,
          198051.6357421875,
          198105.46875,
          198159.3017578125,
          198213.134765625,
          198266.9677734375,
          198320.80078125,
          198374.6337890625,
          198428.466796875,
          198482.2998046875,
          198536.1328125,
          198589.9658203125,
          198643.798828125,
          198697.6318359375,
          198751.46484375,
          198805.2978515625,
          198859.130859375,
          198912.9638671875,
          198966.796875,
          199020.6298828125,
          199074.462890625,
          199128.2958984375,
          199182.12890625,
          199235.9619140625,
          199289.794921875,
          199343.6279296875,
          199397.4609375,
          199451.2939453125,
          199505.126953125,
          199558.9599609375,
          199612.79296875,
          199666.6259765625,
          199720.458984375,
          199774.2919921875,
          199828.125,
          199881.9580078125,
          199935.791015625,
          199989.6240234375,
          200043.45703125,
          200097.2900390625,
          200151.123046875,
          200204.9560546875,
          200258.7890625,
          200312.6220703125,
          200366.455078125,
          200420.2880859375,
          200474.12109375,
          200527.9541015625,
          200581.787109375,
          200635.6201171875,
          200689.453125,
          200743.2861328125,
          200797.119140625,
          200850.9521484375,
          200904.78515625,
          200958.6181640625,
          201012.451171875,
          201066.2841796875,
          201120.1171875,
          201173.9501953125,
          201227.783203125,
          201281.6162109375,
          201335.44921875,
          201389.2822265625,
          201443.115234375,
          201496.9482421875,
          201550.78125,
          201604.6142578125,
          201658.447265625,
          201712.2802734375,
          201766.11328125,
          201819.9462890625,
          201873.779296875,
          201927.6123046875,
          201981.4453125,
          202035.2783203125,
          202089.111328125,
          202142.9443359375,
          202196.77734375,
          202250.6103515625,
          202304.443359375,
          202358.2763671875,
          202412.109375,
          202465.9423828125,
          202519.775390625,
          202573.6083984375,
          202627.44140625,
          202681.2744140625,
          202735.107421875,
          202788.9404296875,
          202842.7734375,
          202896.6064453125,
          202950.439453125,
          203004.2724609375,
          203058.10546875,
          203111.9384765625,
          203165.771484375,
          203219.6044921875,
          203273.4375,
          203327.2705078125,
          203381.103515625,
          203434.9365234375,
          203488.76953125,
          203542.6025390625,
          203596.435546875,
          203650.2685546875,
          203704.1015625,
          203757.9345703125,
          203811.767578125,
          203865.6005859375,
          203919.43359375,
          203973.2666015625,
          204027.099609375,
          204080.9326171875,
          204134.765625,
          204188.5986328125,
          204242.431640625,
          204296.2646484375,
          204350.09765625,
          204403.9306640625,
          204457.763671875,
          204511.5966796875,
          204565.4296875,
          204619.2626953125,
          204673.095703125,
          204726.9287109375,
          204780.76171875,
          204834.5947265625,
          204888.427734375,
          204942.2607421875,
          204996.09375,
          205049.9267578125,
          205103.759765625,
          205157.5927734375,
          205211.42578125,
          205265.2587890625,
          205319.091796875,
          205372.9248046875,
          205426.7578125,
          205480.5908203125,
          205534.423828125,
          205588.2568359375,
          205642.08984375,
          205695.9228515625,
          205749.755859375,
          205803.5888671875,
          205857.421875,
          205911.2548828125,
          205965.087890625,
          206018.9208984375,
          206072.75390625,
          206126.5869140625,
          206180.419921875,
          206234.2529296875,
          206288.0859375,
          206341.9189453125,
          206395.751953125,
          206449.5849609375,
          206503.41796875,
          206557.2509765625,
          206611.083984375,
          206664.9169921875,
          206718.75,
          206772.5830078125,
          206826.416015625,
          206880.2490234375,
          206934.08203125,
          206987.9150390625,
          207041.748046875,
          207095.5810546875,
          207149.4140625,
          207203.2470703125,
          207257.080078125,
          207310.9130859375,
          207364.74609375,
          207418.5791015625,
          207472.412109375,
          207526.2451171875,
          207580.078125,
          207633.9111328125,
          207687.744140625,
          207741.5771484375,
          207795.41015625,
          207849.2431640625,
          207903.076171875,
          207956.9091796875,
          208010.7421875,
          208064.5751953125,
          208118.408203125,
          208172.2412109375,
          208226.07421875,
          208279.9072265625,
          208333.740234375,
          208387.5732421875,
          208441.40625,
          208495.2392578125,
          208549.072265625,
          208602.9052734375,
          208656.73828125,
          208710.5712890625,
          208764.404296875,
          208818.2373046875,
          208872.0703125,
          208925.9033203125,
          208979.736328125,
          209033.5693359375,
          209087.40234375,
          209141.2353515625,
          209195.068359375,
          209248.9013671875,
          209302.734375,
          209356.5673828125,
          209410.400390625,
          209464.2333984375,
          209518.06640625,
          209571.8994140625,
          209625.732421875,
          209679.5654296875,
          209733.3984375,
          209787.2314453125,
          209841.064453125,
          209894.8974609375,
          209948.73046875,
          210002.5634765625,
          210056.396484375,
          210110.2294921875,
          210164.0625,
          210217.8955078125,
          210271.728515625,
          210325.5615234375,
          210379.39453125,
          210433.2275390625,
          210487.060546875,
          210540.8935546875,
          210594.7265625,
          210648.5595703125,
          210702.392578125,
          210756.2255859375,
          210810.05859375,
          210863.8916015625,
          210917.724609375,
          210971.5576171875,
          211025.390625,
          211079.2236328125,
          211133.056640625,
          211186.8896484375,
          211240.72265625,
          211294.5556640625,
          211348.388671875,
          211402.2216796875,
          211456.0546875,
          211509.8876953125,
          211563.720703125,
          211617.5537109375,
          211671.38671875,
          211725.2197265625,
          211779.052734375,
          211832.8857421875,
          211886.71875,
          211940.5517578125,
          211994.384765625,
          212048.2177734375,
          212102.05078125,
          212155.8837890625,
          212209.716796875,
          212263.5498046875,
          212317.3828125,
          212371.2158203125,
          212425.048828125,
          212478.8818359375,
          212532.71484375,
          212586.5478515625,
          212640.380859375,
          212694.2138671875,
          212748.046875,
          212801.8798828125,
          212855.712890625,
          212909.5458984375,
          212963.37890625,
          213017.2119140625,
          213071.044921875,
          213124.8779296875,
          213178.7109375,
          213232.5439453125,
          213286.376953125,
          213340.2099609375,
          213394.04296875,
          213447.8759765625,
          213501.708984375,
          213555.5419921875,
          213609.375,
          213663.2080078125,
          213717.041015625,
          213770.8740234375,
          213824.70703125,
          213878.5400390625,
          213932.373046875,
          213986.2060546875,
          214040.0390625,
          214093.8720703125,
          214147.705078125,
          214201.5380859375,
          214255.37109375,
          214309.2041015625,
          214363.037109375,
          214416.8701171875,
          214470.703125,
          214524.5361328125,
          214578.369140625,
          214632.2021484375,
          214686.03515625,
          214739.8681640625,
          214793.701171875,
          214847.5341796875,
          214901.3671875,
          214955.2001953125,
          215009.033203125,
          215062.8662109375,
          215116.69921875,
          215170.5322265625,
          215224.365234375,
          215278.1982421875,
          215332.03125,
          215385.8642578125,
          215439.697265625,
          215493.5302734375,
          215547.36328125,
          215601.1962890625,
          215655.029296875,
          215708.8623046875,
          215762.6953125,
          215816.5283203125,
          215870.361328125,
          215924.1943359375,
          215978.02734375,
          216031.8603515625,
          216085.693359375,
          216139.5263671875,
          216193.359375,
          216247.1923828125,
          216301.025390625,
          216354.8583984375,
          216408.69140625,
          216462.5244140625,
          216516.357421875,
          216570.1904296875,
          216624.0234375,
          216677.8564453125,
          216731.689453125,
          216785.5224609375,
          216839.35546875,
          216893.1884765625,
          216947.021484375,
          217000.8544921875,
          217054.6875,
          217108.5205078125,
          217162.353515625,
          217216.1865234375,
          217270.01953125,
          217323.8525390625,
          217377.685546875,
          217431.5185546875,
          217485.3515625,
          217539.1845703125,
          217593.017578125,
          217646.8505859375,
          217700.68359375,
          217754.5166015625,
          217808.349609375,
          217862.1826171875,
          217916.015625,
          217969.8486328125,
          218023.681640625,
          218077.5146484375,
          218131.34765625,
          218185.1806640625,
          218239.013671875,
          218292.8466796875,
          218346.6796875,
          218400.5126953125,
          218454.345703125,
          218508.1787109375,
          218562.01171875,
          218615.8447265625,
          218669.677734375,
          218723.5107421875,
          218777.34375,
          218831.1767578125,
          218885.009765625,
          218938.8427734375,
          218992.67578125,
          219046.5087890625,
          219100.341796875,
          219154.1748046875,
          219208.0078125,
          219261.8408203125,
          219315.673828125,
          219369.5068359375,
          219423.33984375,
          219477.1728515625,
          219531.005859375,
          219584.8388671875,
          219638.671875,
          219692.5048828125,
          219746.337890625,
          219800.1708984375,
          219854.00390625,
          219907.8369140625,
          219961.669921875,
          220015.5029296875,
          220069.3359375,
          220123.1689453125,
          220177.001953125,
          220230.8349609375,
          220284.66796875,
          220338.5009765625,
          220392.333984375,
          220446.1669921875,
          220500
         ],
         "y": [
          0.005299840972894239,
          0.0040991974678463985,
          0.013240889920428999,
          0.0034071884077704483,
          0.012862770323592922,
          0.013426318791249494,
          0.003009738009361961,
          0.010170178026904366,
          0.0047642874991369,
          0.007731670479423636,
          0.0073683876613850965,
          0.004453292838433134,
          0.0065201404396127375,
          0.0015841395487808476,
          0.002504402042299923,
          0.005012089437049871,
          0.002579392343295743,
          0.005036554177879453,
          0.004113765474735915,
          0.002671205951185052,
          0.010100307396682313,
          0.00989115673609636,
          0.001917865825884332,
          0.0011273918927940953,
          0.0019098257879269058,
          0.00276534904748498,
          0.0010364294319705335,
          0.0028746072278632144,
          0.002275638674711388,
          0.0026615124326283255,
          0.0017251047258616896,
          0.0061202174502148635,
          0.005978454743802592,
          0.0019570303485822974,
          0.0035602929667769207,
          0.005414903113546334,
          0.004846128533847927,
          0.008033791064551337,
          0.003589369771065403,
          0.001960430385280435,
          0.0015500862419994496,
          0.002545541910149281,
          0.0028151015302285915,
          0.0013785740369619192,
          0.004231343686394026,
          0.0030962686115510625,
          0.0022135194826566036,
          0.00039559896888882425,
          0.0025656133267800947,
          0.00348248108039628,
          0.004382302583908538,
          0.0023800631195664587,
          0.0008923381929113659,
          0.005061574233335227,
          0.007610427519926207,
          0.006516079698524271,
          0.003225532192143752,
          0.010529241932164916,
          0.009701089083902197,
          0.00739512005307421,
          0.0015431346778764024,
          0.01067409916491399,
          0.009897610100201506,
          0.01280934950524167,
          0.016338208321814734,
          0.022839263788763373,
          0.008588852225679665,
          0.03509541174989878,
          0.08355233710558213,
          0.0883780036927868,
          0.02761636956329057,
          0.09520021675020025,
          0.15744178303476764,
          0.314067993629404,
          0.28543099444824477,
          0.12514492542972905,
          0.4872175604528418,
          1,
          0.4445634546398705,
          0.11803160111893068,
          0.12012973987243826,
          0.06257466360828781,
          0.0572553535278901,
          0.031885394842636985,
          0.023141918321989623,
          0.01066057125642244,
          0.009379016750967773,
          0.0041173787697979525,
          0.004034282079262881,
          0.001176310194187749,
          0.0012029827836719789,
          0.002157249691386576,
          0.0024153704239989137,
          0.0013834643441827652,
          0.0018876911708090068,
          0.0024451040413974155,
          0.0012855054507528263,
          0.001686452426567821,
          0.002480222711009384,
          0.000479534780471953,
          0.0020711452172271117,
          0.0019722208372310594,
          0.0020641158559400043,
          0.0004791977305099346,
          0.0012541890727225454,
          0.002250199715672731,
          0.0006971060839486295,
          0.0018737161708300436,
          0.0011960536832800015,
          0.0018356755537262918,
          0.001757176507975031,
          0.0006526070649956729,
          0.00047380274073723593,
          0.0019708319087906605,
          0.002986978307792723,
          0.00114485386135861,
          0.0013632257717843997,
          0.0006872124386928119,
          0.0012525908934094415,
          0.0003490938991313345,
          0.0004057269713816249,
          0.000843892851676751,
          0.0011348823655702375,
          0.001580731441258753,
          0.001241465211809127,
          0.0010400225562911824,
          0.0011715131075675524,
          0.0006088489858590186,
          0.0008968119368613968,
          0.0009473356447204029,
          0.0011020799124653187,
          0.0015469017790378783,
          0.0007554998238209779,
          0.001954607748928734,
          0.0014105377814111616,
          0.001173670210206256,
          0.0030054503811385307,
          0.004065532448589914,
          0.002713176485135586,
          0.0019302431357984104,
          0.006506707033117289,
          0.006262120788216195,
          0.002665410387597369,
          0.004573993589554662,
          0.013182602413887733,
          0.021411862823265272,
          0.0313919156446407,
          0.031566375056617677,
          0.03191237996980287,
          0.03072672977695607,
          0.013995561123081396,
          0.03915706473382639,
          0.008353933505857353,
          0.09199931582754814,
          0.14533707067681498,
          0.06895844605420023,
          0.015151228932558967,
          0.02144296692472045,
          0.01457375205741903,
          0.006504292119217321,
          0.008199728937630737,
          0.0024024383396754724,
          0.005275108250630823,
          0.00022938699312608453,
          0.0020238796083043007,
          0.001498135067821126,
          0.0019831456288299395,
          0.0006226316429721847,
          0.0019470204652301865,
          0.0018860895935401715,
          0.001196976036295653,
          0.0017122819149317067,
          0.002004205747599491,
          0.0009006730087608514,
          0.000700651092902644,
          0.0004174533582970976,
          0.0010260128988213942,
          0.00045001712680259375,
          0.0007531514071050494,
          0.00019565874184988738,
          0.001146238837820284,
          0.00031700739216265755,
          0.0004307113094670364,
          0.0006238149161791015,
          0.0007899886527842299,
          0.0014390824589887241,
          0.00017622260481921323,
          0.00015502256431433215,
          0.001967661038198861,
          0.0005932398952459678,
          0.0008925750237732036,
          0.00024064533837743547,
          0.00017262130735052453,
          0.0011188799528978727,
          0.001015381297563243,
          0.0008562882986493263,
          0.0012184649340738105,
          0.0014143944406671124,
          0.0008764163251956445,
          0.0008177208925924307,
          0.0007210769016643367,
          0.0010549496637533844,
          0.0012771924789007738,
          0.0020692705054576677,
          0.0012289169068805054,
          0.001106575066788622,
          0.0013505158567368044,
          0.0010225566550554222,
          0.00045304094961205955,
          0.001465731838501732,
          0.0021452684679540758,
          0.0012126913932214958,
          0.00007527718477427413,
          0.0010563364473881389,
          0.001431639400880784,
          0.0018388057506968749,
          0.0019653966279495057,
          0.0019926533716389185,
          0.0026771619702000466,
          0.002769472540081881,
          0.0012578934475700459,
          0.0009157005802569096,
          0.003503249778513318,
          0.0039024037464132216,
          0.004446929185860665,
          0.002832315247445604,
          0.003801478542983044,
          0.001522953779548418,
          0.002519494246866799,
          0.00121593821890045,
          0.0077661539349151865,
          0.012299969791092,
          0.0102523680623881,
          0.002238805544582705,
          0.0026963961310290763,
          0.0003872110448243364,
          0.001311402215504374,
          0.00042973514940972194,
          0.0013536170191135474,
          0.0005784355876873522,
          0.000508170351447353,
          0.0005390055435250109,
          0.0005336658992772744,
          0.00018485762691493543,
          0.0009967451988918577,
          0.0005341594895859993,
          0.0007019825110227319,
          0.00007053281033991822,
          0.0008558536144576196,
          0.0005750324075879866,
          0.00007121674729598112,
          0.0005619097124084719,
          0.0007169138697473846,
          0.0003618499559431538,
          0.0010729553503944134,
          0.0004139419795519117,
          0.00029776513441277,
          0.0009346508857679082,
          0.00018295393234627676,
          0.0007371720384540789,
          0.00019044778249159732,
          0.0008748409686893308,
          0.000317830395985154,
          0.00036199664523410655,
          0.0005876076764568365,
          0.00045178348213022586,
          0.0002553210579559223,
          0.0002988482407410077,
          0.0012850699175831213,
          0.00017392382729320422,
          0.00020025282859393348,
          0.0013225209644231754,
          0.0006400481975138711,
          0.00033344455158892006,
          0.000926399946747107,
          0.0004955712451775187,
          0.0003439908612030742,
          0.0006247991755775094,
          0.0004997938762881022,
          0.0009321636505324564,
          0.0009760497348896908,
          0.000648465430775213,
          0.0001508415429862725,
          0.00035386240876579837,
          0.0006543948150456899,
          0.0007736644040676141,
          0.0012388238912098598,
          0.0008215045428912718,
          0.001125958912219954,
          0.000449062699455485,
          0.0011065777550775487,
          0.0016037618550133884,
          0.002859330737434006,
          0.004146802911146032,
          0.003907478874074687,
          0.0030858395493232474,
          0.0019155297398886465,
          0.0011240940481271435,
          0.0009970774766302568,
          0.0010334387869523835,
          0.0008936890878012319,
          0.0014721740970223397,
          0.003386308964816232,
          0.0020940863382569626,
          0.0073925364724889645,
          0.007224807282850343,
          0.014751167630972109,
          0.02965787923212899,
          0.08747620368050844,
          0.06463118711993575,
          0.01635602028197358,
          0.014418327591242506,
          0.004892921688009971,
          0.007109015475100494,
          0.002616468843484455,
          0.0032569868197990623,
          0.0011039244108159447,
          0.0020610328001400722,
          0.0006076850146753128,
          0.0015255749134481216,
          0.0006786014673027255,
          0.0007375738582709323,
          0.0008457698543629283,
          0.00044236352314127653,
          0.0008008630025536979,
          0.0008597002538102571,
          0.0008002964443178997,
          0.0004980053988618153,
          0.0005226947001538523,
          0.0007222106455497015,
          0.0008852136370543582,
          0.0009614511393362356,
          0.0003764659731758849,
          0.0006274770473436807,
          0.0006585205354957631,
          0.0002491160667026794,
          0.0004318352633260784,
          0.00033507547214228593,
          0.00041035830247309474,
          0.0005786205718348928,
          0.000519648419902914,
          0.0007354100029705066,
          0.0008043819638765205,
          0.0006094726857969413,
          0.0006918780901209587,
          0.0009197095280873307,
          0.0005706804359835076,
          0.0004083888258404701,
          0.0007530516227783118,
          0.0003559614559881644,
          0.00011275810593275116,
          0.0010461416012360748,
          0.0011387351480354527,
          0.0009808698324782702,
          0.0006748814162853508,
          0.0004634396764041761,
          0.0009755084502642625,
          0.0010257949963712522,
          0.00042497211697752686,
          0.000815338639660177,
          0.0009046361595308833,
          0.0008569077201110849,
          0.00038285659347823297,
          0.000765693886477921,
          0.001195615018690767,
          0.001474599671692263,
          0.0016584689911525498,
          0.0014917816800261402,
          0.0023397603507248348,
          0.0027204445560123787,
          0.002785805446234954,
          0.0016828929901913673,
          0.0013024591644944675,
          0.001239415408512609,
          0.0012784679831428212,
          0.0013573700463543055,
          0.0005725353523204317,
          0.00010611243224850827,
          0.0006639382456021539,
          0.0006088685113966456,
          0.0005812324542221756,
          0.00020869261407177,
          0.0003777581702737685,
          0.0009616138159329545,
          0.00045992888334251374,
          0.004275213023289911,
          0.004289474307915215,
          0.0014654325870271652,
          0.0010250016040193265,
          0.0010191509800454432,
          0.00048758352979253,
          0.0002739496586923115,
          0.00041496318627644605,
          0.0005615056465552413,
          0.00028703633992847063,
          0.00013638427119658518,
          0.00026018566450627446,
          0.000597372210702055,
          0.000867836157686868,
          0.0007836596706065191,
          0.00041039634086032965,
          0.00030770956829838175,
          0.00045812566873026207,
          0.00025754148531397794,
          0.00025944542405519007,
          0.00024350316872917682,
          0.0006004940773991291,
          0.00033241305820783367,
          0.00000686332621495557,
          0.0007612565263492672,
          0.0005155581786744945,
          0.0005686144109016343,
          0.0005007062408145384,
          0.0007095956220612555,
          0.0007870646410964269,
          0.0005973875291567085,
          0.00040998098240605944,
          0.0006778940447707506,
          0.0007613787214497378,
          0.00047001257966539735,
          0.0003083958896787396,
          0.0003034102454529352,
          0.0005820271380898902,
          0.00080279358392917,
          0.0005294960040761346,
          0.0004522431242458979,
          0.00022529677913019224,
          0.0003950354795692837,
          0.00040072658285723856,
          0.0008136590339393589,
          0.0006053739090906319,
          0.0002686328558666068,
          0.0003689164601569769,
          0.00029722320967765333,
          0.00007294013975289936,
          0.0004917644195379324,
          0.0005473421947575532,
          0.0006049070062314776,
          0.00030039578657622664,
          0.0004889825349852797,
          0.0011557158105763726,
          0.001464070274826797,
          0.0013991479522542205,
          0.0005533434526143975,
          0.0003426568491258204,
          0.0009385142799552633,
          0.0004159562285773936,
          0.0002081166037655251,
          0.0002718611085633493,
          0.00041874195195635026,
          0.00027219710435414355,
          0.00015268811352667862,
          0.00021506264910367196,
          0.00018191148179647358,
          0.00012794582247978976,
          0.0005946854036222106,
          0.0003363504907262411,
          0.00013214042671746862,
          0.0004684721214409713,
          0.000593274395492903,
          0.001235816013719869,
          0.0011858471146341117,
          0.0030189438185509194,
          0.010839220053527714,
          0.008433254421270468,
          0.0021706703519549153,
          0.0017525396975718685,
          0.0013514979603860902,
          0.0005881805013249362,
          0.0002687493449498976,
          0.0004844985510030742,
          0.00035882202595865256,
          0.00016733242168819046,
          0.0002438681210076769,
          0.00017872255961108076,
          0.00010367136380695454,
          0.00022685332270595184,
          0.0003781300475446416,
          0.0008204967561954008,
          0.0005046333475443252,
          0.0001979335663364623,
          0.00033250999576791066,
          0.0001357215527479026,
          0.00020101796796933593,
          0.0003865914201576727,
          0.00016368862375626942,
          0.0000905604785143651,
          0.0004881741534494796,
          0.0000633487845843506,
          0.00017531863501693337,
          0.00037174051141047063,
          0.00011973962184017558,
          0.00019074512950713793,
          0.00024939688281715074,
          0.0004353539065992352,
          0.00027296313404794536,
          0.000291401183635616,
          0.000522732501562651,
          0.00018769308870650978,
          0.00034403455608594986,
          0.0001990011655269786,
          0.0001197758853577431,
          0.00044951806717754905,
          0.000013236483384820906,
          0.00014831007232431043,
          0.00032184748032101115,
          0.00017660397388951854,
          0.0002557723363268951,
          0.000334887970110278,
          0.00033906797701684766,
          0.00008998746557159816,
          0.0003188915139316489,
          0.00020597548098303252,
          0.0000363470122658111,
          0.00013431281229920442,
          0.00015290881094054274,
          0.00020190682338839754,
          0.0007194998181381213,
          0.0003609181780079622,
          0.0005990176338669117,
          0.000443505934119087,
          0.0005572226615202545,
          0.0005952268374315708,
          0.0001506869473221758,
          0.0005229294339162282,
          0.0002407601167920697,
          0.00021288604926325664,
          0.00016662154847050338,
          0.0003008216660182243,
          0.0001782913528553482,
          0.00007882596076530854,
          0.00017241286201630042,
          0.0004683612782038407,
          0.00044923722094040015,
          0.0004206779963529533,
          0.0006347019777424436,
          0.0008118391113186475,
          0.00023953534166192952,
          0.0005655322919661314,
          0.0004446054654770248,
          0.002642360843853835,
          0.004110263653083359,
          0.0024768892226829024,
          0.0014502689066837886,
          0.0017455283229901506,
          0.0009740124003280033,
          0.0010757209471206528,
          0.0012011784239357635,
          0.0013115265915379767,
          0.0007432316662738031,
          0.0009946504021476192,
          0.0005208407733927387,
          0.00014398010431512475,
          0.0004915779796429502,
          0.0005292786241652688,
          0.0005049126351616231,
          0.00019516243166185085,
          0.00029649034630165305,
          0.0003868334344506628,
          0.0004627859722964294,
          0.0008180663842169301,
          0.0006927580281194252,
          0.0005377633507572424,
          0.000570160016723965,
          0.0007944379284468602,
          0.0004744048693198293,
          0.0006301502123599886,
          0.0009998343412155471,
          0.0006717005787463762,
          0.0006248704779187133,
          0.0005773782351981894,
          0.0006947191859475559,
          0.0010021154552955361,
          0.0007202385236205914,
          0.0007683659685421793,
          0.0003745045544388908,
          0.0006038374082953812,
          0.0007812314508151231,
          0.0006494555048369982,
          0.0006783799002903559,
          0.00037771714058842997,
          0.00037663414413383387,
          0.0002949899922316692,
          0.00035655844662667405,
          0.0006269363787538318,
          0.0005591433283989624,
          0.0004959981611065016,
          0.0004906165815923972,
          0.0005467057259636345,
          0.0007673901948713873,
          0.0011851135640219266,
          0.0011553296362905028,
          0.001187322588323293,
          0.0010758700218253224,
          0.0007944373979565194,
          0.0007273569226258062,
          0.000676764776301615,
          0.0007282272055626576,
          0.00020326064738170467,
          0.0004550424391509819,
          0.00032287285366098834,
          0.00021252703146928975,
          0.00023744603985747343,
          0.00007769623401125626,
          0.00009848213058823132,
          0.00023226635277237068,
          0.0002225622582497779,
          0.0002393306485717848,
          0.00025749423974080255,
          0.00016891836924102515,
          0.0004173438113631105,
          0.0003021877515374783,
          0.00018271983682014266,
          0.00017417842589617874,
          0.00007297305700058479,
          0.00016376365702058132,
          0.0003944414424843793,
          0.00009781801633725046,
          0.0004982818311340767,
          0.00018826404390016253,
          0.0005169340807978341,
          0.0004536197579407011,
          0.0005288052473796605,
          0.000249031849702298,
          0.00010501605363500113,
          0.00021417897871633254,
          0.0005892056037352455,
          0.0002348722383649391,
          0.0001397144355031279,
          0.00013585316802206213,
          0.00023737686130836501,
          0.00022053298661343175,
          0.0002663842530466687,
          0.0003080817295558955,
          0.00020851269891448878,
          0.00010276004940015497,
          0.00036106067584066096,
          0.00009394177448003307,
          0.00024858878261436996,
          0.00016235285262014912,
          0.0001226403589578569,
          0.00004334514759106802,
          0.00024875315256855354,
          0.00020461444173594087,
          0.00016147449829015338,
          0.0002542592262519265,
          0.0004916600461036679,
          0.0003328432647693694,
          0.00028561186633772965,
          0.00018193787636129304,
          0.0006296451117794204,
          0.0001247346035206498,
          0.0007606573859757074,
          0.0005121989118455032,
          0.000741274758843894,
          0.0004596409063736286,
          0.00039903692426869155,
          0.0005744385240228651,
          0.000501575557387648,
          0.000905342094192149,
          0.0004921956272175621,
          0.00013194650079108376,
          0.0005714456279458239,
          0.0004406766236534207,
          0.0007748052965600752,
          0.0007593314693783673,
          0.0009983905367690583,
          0.0012642850848697791,
          0.0013000219622863291,
          0.000994146442912476,
          0.0013210174505595101,
          0.0009843869340891143,
          0.0011247905586576907,
          0.0010162277967861236,
          0.000881742522528883,
          0.0003228084376341241,
          0.0004627167725868217,
          0.0004902682076754332,
          0.000337932384069239,
          0.00022225650353883728,
          0.0001706588098854308,
          0.00009238176163334246,
          0.0003471343938141448,
          0.0005599042562355516,
          0.0002341530864475275,
          0.00013834997898250743,
          0.00008679339222171734,
          0.00020957958285246643,
          0.00010859446353156617,
          0.00040033277697110056,
          0.00027374652817148957,
          0.00029136373599499335,
          0.000046610493934498794,
          0.0004183215097780295,
          0.00014337284131821581,
          0.0004128894429585414,
          0.00024886379900498234,
          0.001109861947742682,
          0.0015236549016689194,
          0.0010307876840951013,
          0.0002099335714828539,
          0.00038997561167801226,
          0.00023539660825583046,
          0.00016390541910138028,
          0.00020238049680714983,
          0.00024179028375715972,
          0.0002158455227361549,
          0.0003202386590247426,
          0.00041775472227482756,
          0.0005115725281278204,
          0.00009637515209709205,
          0.00022465750306171705,
          0.0000111718105555164,
          0.000572328364167797,
          0.000240842389414346,
          0.0002627338997934471,
          0.000100706774066016,
          0.000411949295897321,
          0.0002172051656602021,
          0.00020614622598612138,
          0.00043955530793813403,
          0.00028066069343016996,
          0.00012131094527483123,
          0.0003314965059731988,
          0.00035751979399476343,
          0.0003653574834046602,
          0.00003610031036650574,
          0.00011393073464516359,
          0.0002059369774904022,
          0.0002026871853908288,
          0.00034756675544912616,
          0.0004570168736566483,
          0.00030909135290876634,
          0.00024336927614510083,
          0.000046214876341548016,
          0.0002759947176010776,
          0.00019187495527558815,
          0.00015633212676793948,
          0.00015060666023617082,
          0.00027118535127305905,
          0.0007284648990208591,
          0.0006070633260178355,
          0.0008123146354116946,
          0.0006088027821300254,
          0.0007232805227970508,
          0.0006281450369895476,
          0.0006283068572089121,
          0.0004692026746301859,
          0.0005136530506728798,
          0.00022387627645422949,
          0.00010172186834320909,
          0.00012575589550583812,
          0.00010863764842603793,
          0.0003953573001015449,
          0.00007808173727051839,
          0.0003390273213806255,
          0.0002640679461704171,
          0.00026870794419270273,
          0.0001467684147193752,
          0.0001895846533101965,
          0.00024458196042985707,
          0.00020680564726516113,
          0.00008387408225002982,
          0.00016819515498814203,
          0.00015015468641177128,
          0.00034362156722951375,
          0.00020220140873843605,
          0.0004305263215726476,
          0.00010917975209177904,
          0.00007095172062228255,
          0.0003684403789118504,
          0.00014946970887294762,
          0.00010376217635628622,
          0.00015754070526487071,
          0.00024373768420207255,
          0.0004484089732634307,
          0.00013426599745595535,
          0.0002885711432414462,
          0.00026588065899634065,
          0.0001149643391360212,
          0.00013536617525874926,
          0.00010033818819400031,
          0.00003020080176801787,
          0.00023613011330195834,
          0.0001999805047319063,
          0.00010381532613347925,
          0.00023670326154608877,
          0.00023331545221074977,
          0.00025008836174239134,
          0.00038255131667288325,
          0.00019024672285844482,
          0.0002642214405271862,
          0.0002571494492895349,
          0.0002800627256223477,
          0.0004123703135469228,
          0.00017565975236367624,
          0.00035661633899305257,
          0.00017230822263808291,
          0.0001854552927972893,
          0.00027651608086849103,
          0.00007323028548970366,
          0.0001843149798212871,
          0.0002596929264171511,
          0.00020467826931591537,
          0.00012033939548842097,
          0.00035892390583620106,
          0.00019743511545683884,
          0.00007847805646985267,
          0.0002487902924180594,
          0.0002324527700525372,
          0.00045093482354653815,
          0.00016883536550558353,
          0.0001080508256233495,
          0.00008077525945133224,
          0.00042068062849657053,
          0.0002714758308889717,
          0.0002814123784267472,
          0.00015760761470444813,
          0.00032238611952131616,
          0.0003173758334335637,
          0.00013167244990829727,
          0.0003020919093457932,
          0.0005313741044932232,
          0.00018570297517048244,
          0.00039566088565910464,
          0.0006210743157579259,
          0.0002978404900115905,
          0.0004050808098889541,
          0.00013892401968138834,
          0.0003653723661024729,
          0.0002946521320656896,
          0.0003568892813398466,
          0.000030035085738512142,
          0.00010123427376880794,
          0.0003323575512294518,
          0.000045536382365955005,
          0.0003260757710895139,
          0.00041808020487491747,
          0.00043429506717561497,
          0.0000925133059018023,
          0.00031323318279063436,
          0.000028645484946759488,
          0.000047039527638380634,
          0.0003576176440423563,
          0.0002075907196468708,
          0.000452443911762371,
          0.0002704474998609235,
          0.00020064805372627494,
          0.0002922227707465585,
          0.00026986223984150104,
          0.00012836958699442123,
          0.00039347582879663745,
          0.00019125623583058499,
          0.00026591276761212104,
          0.00035002301143178865,
          0.00015376211403272908,
          0.00008936858506607911,
          0.000152418680100215,
          0.00033874144571205964,
          0.00024798623521044526,
          0.0002471924338892495,
          0.00037846821058102936,
          0.00037683889485952947,
          0.00019174909778570736,
          0.0001098411170557328,
          0.00020927932276721577,
          0.0003533352005258866,
          0.00021397316994900317,
          0.00009050627115769415,
          0.00024743331547401337,
          0.00014413070049362395,
          0.00031532475395429696,
          0.0002652182523780626,
          0.0004883493977639892,
          0.00008331845636052849,
          0.00008200692854884061,
          0.00016242155822924844,
          0.00032177808107029094,
          0.0003215829442616113,
          0.00024115643389717765,
          0.0001833862747823277,
          0.00008051609415496459,
          0.0002747083086425104,
          0.0002872201645849895,
          0.00020002200721044565,
          0.0001240167862804981,
          0.00021767338336926538,
          0.0004224945933921931,
          0.0003485308582898896,
          0.0003549808700559065,
          0.00047596701302328394,
          0.0006482200726024394,
          0.0007231113233940403,
          0.00040256694419182746,
          0.0002754003860070237,
          0.0004912940046670486,
          0.00043020615012823177,
          0.00018563264166767846,
          0.0006650360669842003,
          0.0003631642863124569,
          0.00044133006053138695,
          0.00036839650412573465,
          0.00006615840587879992,
          0.0002665087565586044,
          0.00021791680891202083,
          0.00007553907114173735,
          0.0001253568718332457,
          0.00008160861094920245,
          0.0001538130544918334,
          0.00017359223639703013,
          0.00015194605130048206,
          0.0002662141167512639,
          0.0004138375054746155,
          0.00018241727613881856,
          0.00010608103625594844,
          0.00006492841570150019,
          0.00023823313861320337,
          0.00017968009197654293,
          0.00009771851191108268,
          0.00008992231633326007,
          0.00015287506252422653,
          0.0003315640222345043,
          0.00007754523306843424,
          0.0002094329621124343,
          0.00005197235340925072,
          0.00038400334278102037,
          0.00020122160266785734,
          0.0001441536436621437,
          0.0002930099793821999,
          0.0002325801095649834,
          0.0002731716276165936,
          0.0002831599322977492,
          0.00042776320383650193,
          0.00039116519157870186,
          0.00018885038003957648,
          0.00004721006194599574,
          0.00017927757999834719,
          0.00031012584080044437,
          0.000242904869118557,
          0.00032563882960868015,
          0.00026315678533224115,
          0.00044397268078637757,
          0.00016693042789045208,
          0.00024035669715574917,
          0.000005306821429449434,
          0.00015742979915433193,
          0.00024024388413050406,
          0.0002175300299088203,
          0.0002645584039385177,
          0.000398908196259767,
          0.0000970034229421876,
          0.0002181298605394938,
          0.0001608947214642459,
          0.0002421209129748376,
          0.00022754684140252843,
          0.00016031950217659373,
          0.00033521029418561414,
          0.00024987514079258683,
          0.0002754870187862608,
          0.00007413917157843049,
          0.0001409239678282967,
          0.00019317333468949965,
          0.000451450026377426,
          0.00008967146304049797,
          0.00020279793584593143,
          0.00010895820446866374,
          0.0001454550397413712,
          0.0002683214481710368,
          0.00020445302891081634,
          0.00016236244873146614,
          0.00036102743081710815,
          0.00027942681207756664,
          0.00010226585045911712,
          0.0001600015602366076,
          0.0001230241917554479,
          0.00016995069100300168,
          0.0002175022112813721,
          0.00022458592486895404,
          0.00013010840898995918,
          0.00013537712227194826,
          0.00000763902396673892,
          0.00006952374333945374,
          0.00014844036732962313,
          0.00013041270148386017,
          0.00015002235754353884,
          0.000299034657836439,
          0.000053295336764639745,
          0.00007573760433839382,
          0.00022354332378055845,
          0.00033462313067322846,
          0.0001965924270629015,
          0.0001809035450619611,
          0.0001395784165783116,
          0.00006220232331776553,
          0.00009021333059923931,
          0.00021704434446629016,
          0.00032218980554370603,
          0.00012329120657482976,
          0.00012667465921601033,
          0.00045149519625896264,
          0.0000884525249703849,
          0.00007434438565473882,
          0.00019644232554354878,
          0.00028396742577380867,
          0.0001038114667809888,
          0.000054385999960596784,
          0.000053248063464376565,
          0.00027051740966828813,
          0.00006597200236222069,
          0.0003198671117466014,
          0.0001104608108521196,
          0.00009152566194684246,
          0.00023542729244841606,
          0.00005392118364070917,
          0.00009785228189514974,
          0.00006929006641343205,
          0.00012700849897878544,
          0.00014577888886033557,
          0.00020523862393285658,
          0.00019221075730893085,
          0.0001551501026110966,
          0.0003147438642624132,
          0.00007972526597359676,
          0.00020851160037334708,
          0.0000863376835504953,
          0.00008318403979962985,
          0.00007072193931223706,
          0.00004498617289849319,
          0.0002882049488760733,
          0.0002379771107749558,
          0.00006393865269374849,
          0.0001209992319843976,
          0.0002543886806909812,
          0.00008625070524179074,
          0.00016682879164616442,
          0.00004994869169339595,
          0.0002495677425503901,
          0.00043440852818241437,
          0.00017469726510753277,
          0.00004524111918014992,
          0.0002348788467854333,
          0.0003787845713534751,
          0.0002903755287167146,
          0.00024347342553328623,
          0.0003937423070926051,
          0.0002592749776589072,
          0.0005843105443135038,
          0.00028439232867402225,
          0.00020139751348346316,
          0.00023512672588355492,
          0.0001590031795913933,
          0.00020882757071350981,
          0.00016503621422004754,
          0.000240119962380926,
          0.0005650958258567959,
          0.00046573891015853664,
          0.0004333811266760679,
          0.0002001819019881071,
          0.0003398328603196427,
          0.0005615523791469189,
          0.00045437382320987364,
          0.0002402543321717116,
          0.00027998865357857055,
          0.000131542437580636,
          0.00003168256723885002,
          0.0004550674792996896,
          0.00010723375439493586,
          0.00011537467846786202,
          0.0004711977921750336,
          0.0001706358685752949,
          0.00013200236657441694,
          0.00018026383002590947,
          0.00006147527819863827,
          0.00014168779857945618,
          0.0002274191174628988,
          0.00012025975547805147,
          0.00014432922013345398,
          0.00008550006802019942,
          0.00011239752126410691,
          0.00018409829138717903,
          0.0001508603717880111,
          0.0002189129785848231,
          0.00006591416672150419,
          0.0000700196926071709,
          0.00010594386508645043,
          0.00023405971518090091,
          0.0001815613847296701,
          0.00025665112124767384,
          0.0000723222660520665,
          0.00014337300580397018,
          0.0001461658491130045,
          0.00012478762950302556,
          0.00005053068196562513,
          0.00012275583631735616,
          0.00018628151308501596,
          0.0001110155314487149,
          0.00021991746565992653,
          0.00016645329238143308,
          0.000043941675516961526,
          0.00015678185135515997,
          0.00014843201773515917,
          0.00022554202200633118,
          0.0001956169148590925,
          0.00019048615360792813,
          0.00016199785564359345,
          0.00009100792345798236,
          0.00005160624784335934,
          0.00004897809584005684,
          0.00003441284720407194,
          0.00018879787067071994,
          0.00005893189111554406,
          0.00011069732717424986,
          0.00028138653927142646,
          0.00009483490342249355,
          0.00011091083482853889,
          0.000009466505128064438,
          0.0002730374869868761,
          0.00033117342028044096,
          0.00010918884858532209,
          0.00020924341300122135,
          0.00006791034711822718,
          0.000304588896717927,
          0.00028246975759383666,
          0.00015938802627145295,
          0.0002658842647762848,
          0.00012126804037864854,
          0.00026701926503937815,
          0.00022779527699455689,
          0.0002335651285218824,
          0.00007911926729706712,
          0.0002241816973919713,
          0.00038777290967977686,
          0.0003076205078812716,
          0.00023730837419484868,
          0.00022271555130700028,
          0.0002448758746918521,
          0.0002756481895191656,
          0.00035857399352861235,
          0.00030257252410792826,
          0.00013133471031640591,
          0.00023887422140202614,
          0.00011681622830228046,
          0.00005032283926509721,
          0.00018420401830744314,
          0.0000587480969350568,
          0.0001761476422934299,
          0.00004667628014429744,
          0.00023118876523688735,
          0.0001510386131989522,
          0.00024292142100992286,
          0.00009915108382757345,
          0.00020686554283746883,
          0.00012143438531802077,
          0.00020664382311480286,
          0.00003156693314174007,
          0.0001414321892731889,
          0.00020218089016386178,
          0.00015048018124053894,
          0.00006982302827560999,
          0.00010005045457826192,
          0.00021129169250707616,
          0.00013688813930346088,
          0.00006947329984631603,
          0.00019688785414571737,
          0.0002780370012611305,
          0.00017485079799988736,
          0.00017942349237608728,
          0.00013869700023196206,
          0.00014331605405614887,
          0.0003366570074520876,
          0.000030021001016432648,
          0.00015043784372581855,
          0.00009276013118352026,
          0.00010779129105862218,
          0.00010398970315540876,
          0.0000394943417132496,
          0.000087308093421187,
          0.000015637759433525675,
          0.0002365056840704451,
          0.00007100854919125617,
          0.00017473297165806963,
          0.000038946484865258095,
          0.00022998574975520414,
          0.0004697495907227607,
          0.00010599572754456228,
          0.00021067495611198786,
          0.00008996537583691585,
          0.000025748339721658487,
          0.00004563345612617846,
          0.0002968132486163952,
          0.0001716675344480663,
          0.00012901426601884996,
          0.0001955621137497829,
          0.0002743445803441871,
          0.00028226866216747923,
          0.00021830168796785647,
          0.00013366327987946583,
          0.00010466189084852312,
          0.00017770003483663307,
          0.00025459752166349416,
          0.00008221969567013881,
          0.00029413203033286286,
          0.00035727199848751786,
          0.00039761327765087284,
          0.0002630405714294404,
          0.00037851035250943086,
          0.0003107481536385925,
          0.00015914291993629766,
          0.0002774317909796641,
          0.000307638461175856,
          0.00014854341845594644,
          0.0003214509205547313,
          0.00013520664382965823,
          0.0002925382498746366,
          0.00025554103663520797,
          0.000053520492764262705,
          0.00012831575414806387,
          0.0002168356994410956,
          0.00023215940254649,
          0.0002664175161311218,
          0.00009678394969694528,
          0.00011643758916186268,
          0.00022422494640537716,
          0.0001732194786909736,
          0.00006642604039579407,
          0.0002794766877533355,
          0.0001179384721110944,
          0.00013496738368516217,
          0.000047053674633400154,
          0.0002650196637887707,
          0.00006277813396717935,
          0.00006887877598172739,
          0.0002032089066659068,
          0.000017658764689393085,
          0.000194115484129218,
          0.00013521949786248614,
          0.00007425585562091207,
          0.0001816220512021369,
          0.00019341151511313495,
          0.00017276454770551354,
          0.00020062986508990547,
          0.00005335600987201413,
          0.00021319297062418607,
          0.0002531179965107488,
          0.000060133043284010025,
          0.00013582283597042994,
          0.0002620222242994355,
          0.0000724115141773179,
          0.00013111225793963454,
          0.00006368361600489264,
          0.0002122247758956727,
          0.0002127321016232845,
          0.0005149111179106659,
          0.0002854195340482415,
          0.00007237501199259175,
          0.00018292308953176388,
          0.00019152477357418067,
          0.00022876703032952952,
          0.00010764761184810535,
          0.00041663399622701773,
          0.00009391342628149871,
          0.00012476702436901965,
          0.00012990183145308837,
          0.00011975604940507717,
          0.00013525042700335258,
          0.00005914144915612015,
          0.00008264160460279857,
          0.00016685739202515335,
          0.00008486127228225401,
          0.0001534008287051658,
          0.0002403570927747646,
          0.000320283075343703,
          0.00014358580851957188,
          0.00024814326712115916,
          0.0001385734628741646,
          0.0002211582327751598,
          0.00012538570910973002,
          0.00032066100959229855,
          0.0002317784941738558,
          0.0001055877547705554,
          0.00017183515090170285,
          0.00022161374778969506,
          0.00003748654735671721,
          0.00025440066855559506,
          0.00028159968998469606,
          0.0002710415796641033,
          0.00020583080153838037,
          0.0002866417668373759,
          0.00012631773420654252,
          0.0002313333494216874,
          0.00022348911896657937,
          0.00023274738817383544,
          0.00011233395088246325,
          0.0003088466765763369,
          0.00016383777963936062,
          0.00019347314339584446,
          0.000044343265326392434,
          0.00029389561819380725,
          0.00020531021179688688,
          0.00017063062577654903,
          0.00026768286628281164,
          0.0001531294930507767,
          0.0002315905251730531,
          0.00009655667832842987,
          0.0001296981821831478,
          0.0002592653911115841,
          0.00025243757134104115,
          0.00026612670367892664,
          0.00008771040549295474,
          0.00010413018821396647,
          0.00009963236752951257,
          0.000058353390468657355,
          0.00011777073730962165,
          0.00013050087193356165,
          0.0000797498526503058,
          0.00013591372932236746,
          0.00020799055761673446,
          0.00007649786015288078,
          0.00014016595554022893,
          0.00022123919140085402,
          0.000045335126958767344,
          0.00014037156861948193,
          0.00014351195313651977,
          0.00011956632948552953,
          0.00011210572216933633,
          0.000038215447207935674,
          0.0002933417597678427,
          0.000015051396611961794,
          0.00018732624202791534,
          0.00017513578135602695,
          0.00016293795855244658,
          0.00004478051878032497,
          0.00016856010336390955,
          0.00020572003494590812,
          0.00009066189485667172,
          0.00023536296445185687,
          0.0002427198405619689,
          0.00022685511394292227,
          0.0001280735051208274,
          0.00009745751255390572,
          0.0003024694364762287,
          0.00032878532488753176,
          0.0003199923440679949,
          0.0003547400576123946,
          0.0003526107409811582,
          0.00030303138095348284,
          0.00024299805449437068,
          0.00016260431362963212,
          0.0002127205273116281,
          0.0003327965874430327,
          0.0002921581689727641,
          0.00016522385720539327,
          0.00044848521934470965,
          0.0002749957362846742,
          0.0002946422905519407,
          0.0003648831055015872,
          0.0005584031976539695,
          0.0003486278740435206,
          0.0003335675144779854,
          0.00021960467257171195,
          0.0002767156620164747,
          0.0005325401917007936,
          0.00011147747488161866,
          0.00031339122599129804,
          0.0001371264144235753,
          0.00009425494995245885,
          0.0002029489361753869,
          0.0001797208446544463,
          0.00026296266771095824,
          0.00033660634058637663,
          0.00021352355565295165,
          0.0004658815550848517,
          0.0001686927369466112,
          0.000293546788799346,
          0.0001436118565205994,
          0.00017771217774028368,
          0.00015758305732413205,
          0.00018199450628508603,
          0.00009384727334288646,
          0.00013793313265452164,
          0.00019752422825408247,
          0.00012275535812799002,
          0.00006286580764468735,
          0.00004702436151145417,
          0.00012256565637421403,
          0.0001806200452381845,
          0.00023218201419309475,
          0.000269878719121047,
          0.00009025072863730296,
          0.00009709195428853682,
          0.00014829463278996993,
          0.00013471920890663195,
          0.00010482548856147718,
          0.00005769005105826844,
          0.00008063791577959211,
          0.00013473568454018832,
          0.0002796669082319522,
          0.00021502302265021057,
          0.0002873248621398148,
          0.000365999659454788,
          0.00046413656343919957,
          0.00007535766713783673,
          0.00005213089297881615,
          0.00007777317456656001,
          0.00010547091678675135,
          0.00006701232887314968,
          0.00004257017678016741,
          0.00016582939739320286,
          0.00010350964110063466,
          0.0001509373425251984,
          0.00016463118887078836,
          0.000044568287058144945,
          0.00014995763836278956,
          0.000017287533925694536,
          0.00030403625133884344,
          0.00010603532913204738,
          0.00018105416614458056,
          0.00028119119533214073,
          0.00021744908188087712,
          0.00021874587734896578,
          0.00002124323834548401,
          0.00014529758210115841,
          0.00004434431407305121,
          0.0000778759277198174,
          0.00015133642410060909,
          0.00016829490190009257,
          0.00009167710891084418,
          0.0002451896722226891,
          0.00025597876332985453,
          0.00019940597276630687,
          0.00016303021639474302,
          0.00013599678845553837,
          0.00009217966888002578,
          0.00009996213990390644,
          0.00014819377496784946,
          0.00015938068728140424,
          0.0002296896636197596,
          0.0002883978289960826,
          0.00016412440139928187,
          0.00018312887828378127,
          0.0003309792987913876,
          0.00006323469173543195,
          0.0000821394699979847,
          0.0002058926361810613,
          0.00022572027370197442,
          0.00013848562472297627,
          0.00028522017963974035,
          0.0003024496915831324,
          0.00014164397017666532,
          0.0002726378305684183,
          0.0002884339400294099,
          0.00008477910733815354,
          0.00012816281672624625,
          0.00016615378697496018,
          0.00014780200861392852,
          0.00021162060465136932,
          0.00020762267049628048,
          0.0001542327458873938,
          0.00012058552642809479,
          0.000404880749811907,
          0.00011167609412840821,
          0.00010236194979920924,
          0.00021670609621808983,
          0.0001872047226100893,
          0.00005602879586695168,
          0.00009081635035525837,
          0.00029520087013321176,
          0.000022980090096114255,
          0.00009065668473888105,
          0.0002704251727748225,
          0.0002695797173170966,
          0.0000360258359407339,
          0.00005919683945249919,
          0.00011876037000236378,
          0.00009421391386678682,
          0.0002343315534182937,
          0.00020192616432897104,
          0.00012356872289921413,
          0.00008457604699457948,
          0.00021806579765490963,
          0.00020600863494554589,
          0.00015332234721458806,
          0.00009975728511135126,
          0.0003294136537168462,
          0.00014054379280079306,
          0.00023271299650089213,
          0.0001049053877213378,
          0.0001263554169197128,
          0.00018550166645793544,
          0.00010137680221826115,
          0.00020411126448621734,
          0.00014476904217790092,
          0.00015163027955440245,
          0.00020154229292425045,
          0.00020013397021416445,
          0.00007667107760072122,
          0.0002704024831241278,
          0.00021738048574364941,
          0.00018953621114873814,
          0.00009120041133223433,
          0.00002064158606392555,
          0.00011745833816263536,
          0.00007137057781524925,
          0.00012546253127631928,
          0.00012199622299706611,
          0.00009247393640224568,
          0.00020047241732114654,
          0.00009036546104725133,
          0.0001484008689224643,
          0.00021043127093582387,
          0.00009600466188244962,
          0.0003347419025088083,
          0.00026584781475805745,
          0.00009627905909649768,
          0.00017677087399790031,
          0.0000653745712503868,
          0.00013233382019623403,
          0.00020089599823059902,
          0.00011119335909341745,
          0.00008250701998338498,
          0.00015729185026720337,
          0.00015696518122915396,
          0.000131498149032581,
          0.0000194181170627473,
          0.00004975068302761772,
          0.00008783348336164656,
          0.0001299720513794945,
          0.00013811408640934596,
          0.00018079782317563682,
          0.00009031299420944887,
          0.00025063132031538817,
          0.00017419741469656166,
          0.000040361716752476844,
          0.00017650549031689947,
          0.0002154869957307054,
          0.00006466743494075984,
          0.00038428458210915584,
          0.00021104649763155293,
          0.00009898147987190921,
          0.00007925672938033292,
          0.00009903471014629886,
          0.00006484885339673838,
          0.00019231138696122727,
          0.0000721070498882888,
          0.00019741709406519183,
          0.00021132699776475183,
          0.0000598224645171347,
          0.0000439396465236972,
          0.0001580803152902035,
          0.0001687619029847483,
          0.0002680537975673426,
          0.00007674151145928828,
          0.00033048193748388955,
          0.00014294742645367832,
          0.0001994607338926252,
          0.0002572573462170766,
          0.00005794283782008014,
          0.0003011322992423162,
          0.00011658865839444477,
          0.00019520106618581913,
          0.00010876429151672743,
          0.00009444264834631208,
          0.00018911290135682792,
          0.0000571936565222088,
          0.00017424821577257868,
          0.00017167552976327186,
          0.00012302429934300273,
          0.00008772769464273675,
          0.00015606829478067517,
          0.000521683898855002,
          0.000053309103758907927,
          0.00024422599975439124,
          0.00013653769711759214,
          0.00021771199232936694,
          0.00012718248979710632,
          0.00014029260524269085,
          0.00011951519292951652,
          0.00008691384188410565,
          0.00010090040831092374,
          0.00013878338203004718,
          0.00008829008507624258,
          0.00010564848553037373,
          0.00023063820636450347,
          0.0002631940526536001,
          0.00007786788527958777,
          0.0001733474199620976,
          0.00015842580503622888,
          0.00011863946336724593,
          0.0001577596471078107,
          0.00018008738743231998,
          0.00006184726094482118,
          0.0002588602854059508,
          0.0002493060173101002,
          0.00009537168137210353,
          0.00009810959701687931,
          0.00025487495481152014,
          0.0000756106190756134,
          0.000044389370684721096,
          0.00012543700471239836,
          0.0002866510599682017,
          0.00009179776816783751,
          0.00018302722444031005,
          0.0002825509054834032,
          0.00017333629250374029,
          0.0002854155692008103,
          0.0003062535038421787,
          0.00042992831021917413,
          0.00013827504054871777,
          0.00033651905090025446,
          0.0003448792056051866,
          0.00018410067764235597,
          0.00013638218556669837,
          0.00020351518145748183,
          0.0001938892940162254,
          0.00021325942059701984,
          0.000036528267257651346,
          0.00016047831788301462,
          0.0001133103508759524,
          0.00019833649689394325,
          0.00005103450516555395,
          0.00010751696195401238,
          0.00023954131709550964,
          0.00003829708554623086,
          0.00016401699407559052,
          0.0001832634670242978,
          0.00030824686664050776,
          0.00004125181776885323,
          0.00010166638294470418,
          0.000011991288098597053,
          0.00026296812596537375,
          0.0001725579649064983,
          0.00027895045685461455,
          0.00005957354390866135,
          0.00019062980087779393,
          0.0003015956441795744,
          0.0002279815650880861,
          0.0002344464108901214,
          0.00011261800429917215,
          0.00024260930548888042,
          0.0001600494445028071,
          0.0000320584945047581,
          0.00016798384764617975,
          0.00017450742465034157,
          0.00012895664256344137,
          0.0003009959396063312,
          0.00022375529891653626,
          0.0002182596570003705,
          0.00011851235288907393,
          0.000007762101192818354,
          0.00009414734557388062,
          0.00005811080213877025,
          0.0001745224610456172,
          0.00007256786035339283,
          0.00013443724681635989,
          0.00014868850076923406,
          0.00004500083456578756,
          0.0001055978519056113,
          0.00015890498358189643,
          0.00035893473267243275,
          0.00023801907327474745,
          0.00024173805567548473,
          0.0003059898304490459,
          0.0003172615638807291,
          0.00008004112742499989,
          0.00017538592606578164,
          0.00009103875968651822,
          0.00032600234584456814,
          0.00025585039095334913,
          0.00010275913422750905,
          0.00017800639943735724,
          0.00019232768763496186,
          0.00014232792495460662,
          0.0002575997346262911,
          0.00038128693960511083,
          0.0001614271066101446,
          0.00014529970418159419,
          0.0001203469628353452,
          0.00017807627642722645,
          0.00018769506394941844,
          0.00011447329933393362,
          0.0001180894326570586,
          0.00011915266562510217,
          0.00032248345426156617,
          0.000040580536630652805,
          0.00010773187077127562,
          0.00017258991084006462,
          0.00014959677050012523,
          0.0002515413594217214,
          0.00010350850162504906,
          0.0001812142367749776,
          0.0001623564525602742,
          0.0000388535693812073,
          0.00007879869845899871,
          0.00026062861967209976,
          0.00023168201456880914,
          0.0001341788619724351,
          0.00012935349122891716,
          0.00016981087227152704,
          0.00024396403340556125,
          0.00016575201421783486,
          0.00021099395763635824,
          0.0001455505596412381,
          0.00015316762654216787,
          0.00011593092374146797,
          0.00004501549696982508,
          0.00013184652833919964,
          0.0002211321967796835,
          0.00016935555096785076,
          0.00013826381255303748,
          0.00012569446853885537,
          0.00026477571137484886,
          0.000431387271731126,
          0.00007724332613378429,
          0.00010393282314827611,
          0.00012114416776422171,
          0.00018916148498911807,
          0.00008132025951357857,
          0.00015838625380505992,
          0.00011645788549682657,
          0.00024235852907155195,
          0.00029985860990562255,
          0.00023689414700414353,
          0.00021651277268994719,
          0.00033322156885606677,
          0.00017085407335664052,
          0.00016096964130972506,
          0.00020887412851931277,
          0.00010479994954283037,
          0.00013047660566142987,
          0.00012938863498611653,
          0.0001824701257688028,
          0.00020334208214852257,
          0.00023188953760987436,
          0.00007356957151619277,
          0.00022035467959019873,
          0.0002200154093486757,
          0.00015518624735173038,
          0.00016269433274261272,
          0.00008072493858860725,
          0.00032420445353556466,
          0.00018765256512313588,
          0.00028201562626200784,
          0.00016330181618313863,
          0.00026653172347470763,
          0.00013532217414766225,
          0.00015814926327080146,
          0.00016847353215778703,
          0.000020809385616710598,
          0.0000540759276615933,
          0.00013762663736464626,
          0.0000675142726500123,
          0.00008092433014397193,
          0.00006683454841474071,
          0.0002065830569505408,
          0.00019054170693970785,
          0.0001429303429124151,
          0.00008473641064024845,
          0.0002554045363984449,
          0.00010993427872995694,
          0.0001587366658962679,
          0.00023913910895485344,
          0.00013385257263780152,
          0.00015843981641223205,
          0.000011366745889534129,
          0.0001198172654119472,
          0.0003006963547047241,
          0.00024254831460995035,
          0.00023411600861831755,
          0.00016319737818908786,
          0.00009116321300759948,
          0.00005987713158511694,
          0.00031431842942269587,
          0.00009948175479051484,
          0.00015068164789822655,
          0.00021253993401294444,
          0.00011538936442248592,
          0.0002188440843008517,
          0.0002737863228122045,
          0.0001862629935646638,
          0.00021903831845116202,
          0.00010952358845291281,
          0.00009175410020951795,
          0.00020440124970079075,
          0.00021150350418252777,
          0.00018566539839313514,
          0.00011942692458918342,
          0.00010807372050622111,
          0.0001358822742763756,
          0.00012192656823431313,
          0.00023468427198300668,
          0.0002854645300297483,
          0.000059101110450623727,
          0.00006221174476414133,
          0.00030055070235159937,
          0.0002199700850677008,
          0.00015748028199085722,
          0.0001698660176916425,
          0.00003627648640631017,
          0.00005051985569926963,
          0.00010876289192263014,
          0.000054327698627572057,
          0.00017117059732635532,
          0.0002477064929192661,
          0.00036642812457150775,
          0.00011438119956127986,
          0.00020145182695909905,
          0.0000492983489981169,
          0.00016525839020491379,
          0.00018817907118084942,
          0.0000321248341388635,
          0.00019299991852251078,
          0.0001407248051564281,
          0.00004594137976978,
          0.00020147243929905485,
          0.00033007170459649154,
          0.00018932863049431743,
          0.00017863050467136325,
          0.00013469542652254943,
          0.00002790089899393434,
          0.00014115536831500354,
          0.000192880054509595,
          0.00014866874498829525,
          0.00022806723685301583,
          0.000045022634552062815,
          0.000312720369244146,
          0.0001910336809109063,
          0.0002199166194271713,
          0.0003700481256974456,
          0.0002943598464013839,
          0.0002214160526944137,
          0.00012603758335682686,
          0.0001447411952452175,
          0.0002170896480295237,
          0.00010263012976764686,
          0.00003244529738492569,
          0.00012380453435111816,
          0.000027020933886934678,
          0.000055916276549811295,
          0.00039314959058164844,
          0.0001178934282905714,
          0.0002323523721400562,
          0.00010077110676037402,
          0.0001783955253902766,
          0.00010652268259423216,
          0.00017948263085695108,
          0.00011438701291124281,
          0.00016647610624001368,
          0.0003023587019001083,
          0.0002455117767763917,
          0.00010606124842987927,
          0.00027957413986126145,
          0.0003997874584884756,
          0.00036266889990566763,
          0.00022076135166137416,
          0.00029001422687950114,
          0.00041685936833242104,
          0.0004246093866436486,
          0.00028143245150280956,
          0.00037203776356455997,
          0.0003876757679590522,
          0.00036772948025258733,
          0.00009482746766412248,
          0.00043838975672684456,
          0.0003181069891792421,
          0.0003594539645769186,
          0.00024613199796270533,
          0.00018854039266421457,
          0.000262949097185448,
          0.00014662954772968884,
          0.00017144707343047465,
          0.0001251418163329668,
          0.00004836960371445595,
          0.00039070179834277966,
          0.00021647088185602545,
          0.00008400148737397807,
          0.0001216813645886586,
          0.00012022453955272614,
          0.00020882213437467683,
          0.0001675479064715092,
          0.0001940389327569116,
          0.00011784022160597264,
          0.00015254604933222492,
          0.0001861325036649775,
          0.0001928689080021234,
          0.00023390494173950517,
          0.00024132512477760966,
          0.00016533585162288464,
          0.00026180004487666116,
          0.000066384246157088,
          0.00014923829215264192,
          0.0003227159684201058,
          0.00011031558473697594,
          0.0002884349893263025,
          0.00010201478482767666,
          0.00012215274609080087,
          0.00014196066778047868,
          0.00009959433220730743,
          0.00018632687122284824,
          0.00014906634990162297,
          0.0001261388023710236,
          0.000008139312133177743,
          0.0001899790946771977,
          0.00024379727156311826,
          0.00011984428344965875,
          0.00025477442150101555,
          0.00013241374450808748,
          0.00021200413974202016,
          0.00011747965828512626,
          0.00010767886225287184,
          0.000267497876328152,
          0.00012779949714135987,
          0.00001657674412097775,
          0.0002887015520494401,
          0.00032966551053396166,
          0.0002724335067294901,
          0.0002503976062544035,
          0.00031361626537925835,
          0.00022811935950558564,
          0.00008470217120582498,
          0.00012864291124449405,
          0.000057233317845402015,
          0.00003718909186348422,
          0.0001190283782240149,
          0.00014660690978774674,
          0.00025660911212221725,
          0.00015810705013551935,
          0.000037001504826075874,
          0.00016614316761813237,
          0.000042935054349922533,
          0.000056341304892423335,
          0.00022754388760495533,
          0.00021859558048327216,
          0.00009847600920385648,
          0.00008752135970630405,
          0.0002526210939599757,
          0.00005826976528406737,
          0.00016038300834241446,
          0.0002626234195668461,
          0.00005762572828709208,
          0.0002384997004316832,
          0.00007262581374591928,
          0.0002530065775313138,
          0.00014992699278369912,
          0.00011604379455875335,
          0.00006676768325923208,
          0.00027617059182168905,
          0.00021987402081515456,
          0.000221460909425724,
          0.00017863648820643207,
          0.000250417308606092,
          0.00029029725873917566,
          0.00009233332782504608,
          0.00018765733950231698,
          0.0001954771801509313,
          0.0001850186343070134,
          0.0002466733273861398,
          0.00026971372627329144,
          0.000489819936899523,
          0.0001641609904545859,
          0.00027055008879067207,
          0.00009980579631394765,
          0.0001354577615251413,
          0.00006542864547836607,
          0.0002206600979935216,
          0.00006047210525259948,
          0.00011264896129123664,
          0.0002900460254216444,
          0.0002509667131143487,
          0.00017771131277278463,
          0.00018419441697660458,
          0.000023557049968821356,
          0.0003689958896813373,
          0.0003032537583326674,
          0.0003638887023776636,
          0.00016798454106457992,
          0.00004869725123244656,
          0.0001471980116163963,
          0.00006114307317900357,
          0.00010750646496390078,
          0.0001526671210851071,
          0.000105388260427102,
          0.000164275790879441,
          0.00014543065475502003,
          0.00006488323945746815,
          0.00004156451027454338,
          0.00020175545424574561,
          0.00024670121857307104,
          0.00013524500530853392,
          0.00018634245661836732,
          0.00019484159831050006,
          0.00012687365549177694,
          0.00024823616373447193,
          0.000005839509807577752,
          0.0003182786956868472,
          0.0003422255742881012,
          0.0003239108620508358,
          0.00013835077569074628,
          0.00003928716934587232,
          0.00022311117913748768,
          0.00031679722226185135,
          0.00017810707842872407,
          0.000056837780240891866,
          0.000013509861278381892,
          0.00013884250102569632,
          0.00012796812561042428,
          0.00009428738169031374,
          0.00008992595078485137,
          0.00023470235463219496,
          0.0002374646381715939,
          0.00015627409915768413,
          0.0001217834749326664,
          0.00016532051843095585,
          0.00006164160941153217,
          0.00024396429108030832,
          0.00015275614940447071,
          0.00017451171564295136,
          0.00019377820320118513,
          0.0001000319427882478,
          0.0001498667342209164,
          0.0002150371634862023,
          0.00016113724749552895,
          0.000041051265089610626,
          0.00019370206156858044,
          0.00008892333500716737,
          0.00012241440160776394,
          0.000047438235611679955,
          0.00008382227952167687,
          0.00025575875877080565,
          0.00027624911332539605,
          0.00020636310833322256,
          0.000049953840455058875,
          0.00008423669070382343,
          0.00019331804029556769,
          0.0002372661911258341,
          0.00011571539008307687,
          0.00005796850417391337,
          0.00018341069132819262,
          0.000098256600405496,
          0.00017624465090668298,
          0.00025584516616149205,
          0.00029602073375962487,
          0.0001358803449309911,
          0.00011714033497663747,
          0.00019490786926471134,
          0.00013683124315900494,
          0.0001379460932890786,
          0.0001524377941969123,
          0.000039771250262064594,
          0.00017770164613111687,
          0.0002383810282873668,
          0.00016632497202373025,
          0.00009010208613958978,
          0.0002633487522165398,
          0.00010126621615302925,
          0.00018850277801209863,
          0.00014177684058934992,
          0.00015477732979898208,
          0.00028755988764535295,
          0.00003937497046247036,
          0.00009877933628310821,
          0.00005698573971901673,
          0.00034093537471923107,
          0.00013995305291361412,
          0.00011338374143982956,
          0.0003375681043349215,
          0.0004111028082732886,
          0.00023870877400841855,
          0.0002652418995859886,
          0.00031415638868958026,
          0.00018193064088304584,
          0.0001965043355095986,
          0.00014745820850693852,
          0.00007959382341004495,
          0.000044861366938601496,
          0.00018985769367221587,
          0.0002275589876600951,
          0.00007882928390740403,
          0.000050530135170233675,
          0.00008948208766905693,
          0.000026764101175794112,
          0.00011871720162503127,
          0.0003299360744906469,
          0.00030827591686048066,
          0.0002001703067319748,
          0.00026370534726233053,
          0.00020769215573216958,
          0.0002330504475154629,
          0.00012278844687423207,
          0.00024249045562551216,
          0.00010965360794649972,
          0.00014552522060796029,
          0.000038557092894010806,
          0.0002398312580915266,
          0.00024767415801846314,
          0.00004204344511311153,
          0.00019731778433226273,
          0.00016610157133960268,
          0.0003398132412101039,
          0.0002056039568097494,
          0.00019018652300383925,
          0.0002096861714499435,
          0.00028269001951477076,
          0.0001018364694663376,
          0.00014147644251270232,
          0.0001798641156489329,
          0.000303057839597697,
          0.0002236635661676679,
          0.0001452438246638878,
          0.00017001093272692153,
          0.0000804845015643961,
          0.0002557631136489896,
          0.00045584515918207054,
          0.00013203928213494477,
          0.00007944196656519603,
          0.0001071877761856633,
          0.0002888930073198808,
          0.00012018741025727716,
          0.00026439047772275223,
          0.0003833727696923332,
          0.0001378132919976618,
          0.00017639868450979143,
          0.00006972374838784071,
          0.00009746785826008676,
          0.00022758871717602107,
          0.0002449904482948333,
          0.0001098208039259154,
          0.00021875465448386742,
          0.0002575854446470962,
          0.0001614861680718547,
          0.00030974780671108777,
          0.0001740579805551666,
          0.00016658879060141345,
          0.0000915200097005636,
          0.0002971123937190107,
          0.00012639588862238183,
          0.0003150817663244249,
          0.00034553844776828154,
          0.00017313605785861173,
          0.000023613675807853203,
          0.00003742503806601855,
          0.00006883317133279837,
          0.00009324488819134961,
          0.0001292750665363234,
          0.00015753900909773778,
          0.0001385755477246074,
          0.00011879644343553335,
          0.00008309478061280175,
          0.00013029071583803316,
          0.00027699139216549786,
          0.00011149987436583218,
          0.00013970713429695784,
          0.0002383926686811387,
          0.00010755756059263176,
          0.00021075389522947057,
          0.00036073294692330583,
          0.0002465493158380789,
          0.00004956577782465897,
          0.0001524346490691608,
          0.00019644470565546195,
          0.00020566634070605903,
          0.0000989640206232911,
          0.00022268429546358148,
          0.00021729490374362823,
          0.00032411735201365636,
          0.00021207279169543306,
          0.00016930493520073692,
          0.000315028385799909,
          0.0002953740555492241,
          0.000143263617716411,
          0.00016740390835481186,
          0.0000863871665636087,
          0.00029488635073719483,
          0.0000691821111020009,
          0.0002266253583444813,
          0.00020030948326170092,
          0.00025807010990708425,
          0.000045800051924341415,
          0.0001269105450731673,
          0.0001522950568852858,
          0.00005915717322177329,
          0.00007737710338734543,
          0.000035408407001793566,
          0.0000733635385452954,
          0.00011156551369781095,
          0.00010406087446689843,
          0.00024986155755456457,
          0.00006752942279300415,
          0.00027633351032729754,
          0.00034220859066065357,
          0.000055026129080951736,
          0.000022666049271765212,
          0.00011337748885593157,
          0.00017870376682423692,
          0.00017984206531595985,
          0.00012272945337266794,
          0.0002728415916326186,
          0.00007454333110277345,
          0.00012845114205071935,
          0.0000673820909479261,
          0.00011812277723906448,
          0.00019594077566177553,
          0.00009177967959479586,
          0.00019342441397893692,
          0.0002047326297607404,
          0.000048942080299546485,
          0.0001749579484203632,
          0.0001776680721663806,
          0.00003800793499850671,
          0.00022102733330464657,
          0.0001603554775031863,
          0.00015242131113443467,
          0.00035806397120913285,
          0.000116543503830956,
          0.00005241421439077216,
          0.0000799412841921633,
          0.00013709093706545066,
          0.00027727258964971616,
          0.0001744199286708894,
          0.000102961602986457,
          0.0002448731755590829,
          0.00015657900734768367,
          0.00012797042190347123,
          0.00008216679749492703,
          0.00007083373587828367,
          0.0000643280479366909,
          0.00018059388542119006,
          0.00005013380849376065,
          0.00009840924396541773,
          0.00016126088516906124,
          0.00024396687621676017,
          0.00011788388728727387,
          0.0001589456476801333,
          0.00022519967009219957,
          0.00037850821536276153,
          0.00006175381008388653,
          0.0002532585516929963,
          0.00007152784533816147,
          0.00023131425386218067,
          0.00009371844753707713,
          0.0002758927273823759,
          0.00008117452107630246,
          0.0002112950705503281,
          0.00031924074083699856,
          0.00010019433084644541,
          0.0002084321025503395,
          0.00013189589340873367,
          0.00003261968438392565,
          0.00014412921750650383,
          0.00005661634426919652,
          0.00006923818766382239,
          0.00025988102845433026,
          0.00004341265242573807,
          0.00006783180569875029,
          0.00015042930974155095,
          0.000028640833830441905,
          0.000254284555771236,
          0.00006943148029517868,
          0.00024818005691617005,
          0.00013237029580373698,
          0.000042611231378791285,
          0.0001999215669402004,
          0.00007398762445531204,
          0.00010676119169016314,
          0.00028351552756894,
          0.0000982187669365478,
          0.00012167005592622328,
          0.0001819594521268505,
          0.00015512750169624007,
          0.00019700192858798494,
          0.0002721902600588288,
          0.0002535847090394427,
          0.00022959073092791347,
          0.00025043682225602524,
          0.00017786552951799028,
          0.00037736749773263135,
          0.0001933166153161741,
          0.00038076632751486694,
          0.0003802834321700187,
          0.0001795935478846263,
          0.00025496874538318486,
          0.00037009588326497806,
          0.00013842310920759808,
          0.00029865914517193096,
          0.00033508757267859614,
          0.00018504772963602025,
          0.0003503496898442955,
          0.00008253074609979442,
          0.00014955690940941026,
          0.00014081236045077918,
          0.00036616178343814107,
          0.00022216615577463816,
          0.00025633048224210723,
          0.00021718592571455208,
          0.00017365166854160156,
          0.00003511650313338471,
          0.00012127765363658659,
          0.000199089091417558,
          0.0001833220994687914,
          0.00006972955230088333,
          0.0001506145007066859,
          0.0001922555519337122,
          0.00009740430235802629,
          0.0001957170143450394,
          0.00005430330207290122,
          0.00018978986468928623,
          0.000034651640460943005,
          0.00006144893431394388,
          0.00021338296498570614,
          0.0002706593257560941,
          0.00019688356128176444,
          0.00010727181142084009,
          0.0002748482671289113,
          0.00012078846549907273,
          0.0002146444814307262,
          0.0002320558119395406,
          0.0002807465686241078,
          0.0002789319711036416,
          0.00027581047792929887,
          0.00009609368567871647,
          0.00030114473718455986,
          0.00037446631421528736,
          0.00018112795691309393,
          0.000379329294208842,
          0.00028774369682822145,
          0.0001723510575334336,
          0.00005776150010267503,
          0.00016131601679507927,
          0.0000789274990333484,
          0.00020807666256669307,
          0.00019935215284786663,
          0.00028118126091721516,
          0.00013924262564066745,
          0.00018738287714696838,
          0.00020182961079095137,
          0.000014860648263025112,
          0.00015746741909067192,
          0.0003016209400845775,
          0.0002369467067432174,
          0.00007741171746790984,
          0.0002104064024935081,
          0.00006127882141825185,
          0.00013039852254679083,
          0.0000610680892696299,
          0.00019425623557221917,
          0.0002152818513996041,
          0.00025447236643905076,
          0.000052517824133391006,
          0.00028992964535503343,
          0.00025764239307059055,
          0.00037533791287467,
          0.0003547966605279953,
          0.00012846164167383363,
          0.00007465238604759717,
          0.0001494786360431117,
          0.00024084830041678996,
          0.0003324698963122441,
          0.00020952773441300522,
          0.00025857694034292196,
          0.00019077355440767833,
          0.000051090373327150315,
          0.00018468316029940398,
          0.0003015497155869924,
          0.00034123950032733454,
          0.00039613690756358467,
          0.0002165386611996674,
          0.00004132117138489813,
          0.00008704211634128815,
          0.0003781009469122955,
          0.00034618715126922953,
          0.0000760587131719767,
          0.00010193348795742791,
          0.000230726877294099,
          0.00007913528194724448,
          0.00021653865993820497,
          0.00026414881226142985,
          0.00007327937036757542,
          0.00023889973410318546,
          0.00016313990355561376,
          0.0002876254410316985,
          0.00018557210601429175,
          0.00019353256172009226,
          0.00018154596995416684,
          0.00028357487038316363,
          0.00022942098807057803,
          0.0003378314438947088,
          0.00007216039826317296,
          0.0003390926322608979,
          0.00018867271899392738,
          0.0003863454956313129,
          0.0004118705305657535,
          0.00009806240902935476,
          0.0003402734736576864,
          0.000004353945391506967,
          0.00014345916741544478,
          0.00018857664703248456,
          0.0000872712475297886,
          0.00023229545106230124,
          0.0001534784821714676,
          0.00010171368396062259,
          0.000294409282627731,
          0.00018141348585031243,
          0.00021264607385972702,
          0.000057289496980522484,
          0.0002264069579851661,
          0.00015767722099451582,
          0.00011228174501956113,
          0.00014985011562657758,
          0.000044530625540031865,
          0.0001633117650974301,
          0.00003533870264696713,
          0.00014252367906840245,
          0.0004089729632167076,
          0.0001314193366110647,
          0.00024508272581965653,
          0.00018329704828294648,
          0.00018265276945873617,
          0.00012269339809324416,
          0.00020846602126978767,
          0.00007199056837192967,
          0.00046033358190026343,
          0.00039325290187954725,
          0.0002818121030735903,
          0.00013868204921186752,
          0.000259113455230734,
          0.00009705825511536207,
          0.00019659819341751934,
          0.00018822995908402866,
          0.00039168209874989365,
          0.00022939679176554748,
          0.0002560945963844932,
          0.0004395347939948817,
          0.00028477449508783424,
          0.00012500987647710813,
          0.000036562324545682775,
          0.0001536883198217791,
          0.0001385798842269404,
          0.00016430381512398898,
          0.0001612283338170599,
          0.00012626628947307243,
          0.00008283930129036023,
          0.000032130276750946066,
          0.00019494427730789337,
          0.00020016191756796754,
          0.00015829350429721667,
          0.00005487032355786301,
          0.000045695332876876287,
          0.00009849856031809794,
          0.000043034520928237045,
          0.00027109847416905157,
          0.00007013818478360179,
          0.00013704741154709006,
          0.0002770560726716574,
          0.00011033149461440802,
          0.00026251789689688703,
          0.00034678867105606396,
          0.000044832545448376584,
          0.00014886591168181617,
          0.00029840527198468376,
          0.00017701881699466686,
          0.00015268727886115076,
          0.00001882349309978568,
          0.00014980735103716238,
          0.000027959547240239734,
          0.00019286110542772342,
          0.00031675162651840117,
          0.00015433423144720933,
          0.00020871288092344498,
          0.0003881698806390943,
          0.00020224299098366648,
          0.0003570567145377313,
          0.0002214607940126303,
          0.00008216767487204024,
          0.00006098798027525099,
          0.0004245826157739299,
          0.00020858072602647577,
          0.00023061409078515877,
          0.00012395607632417912,
          0.00006826538430571835,
          0.00011255618008969242,
          0.00015524568028778214,
          0.0000868955492999312,
          0.0004079708450491869,
          0.00023037916642900034,
          0.00031764860092136596,
          0.0002679549242742384,
          0.00007259809606525158,
          0.000006817894547929894,
          0.00020188426338645636,
          0.00008813070037837053,
          0.0000855774008876582,
          0.00023660673990436783,
          0.0001333229477076819,
          0.00006125494945546936,
          0.00004413607732880789,
          0.000041177455072004035,
          0.00018592592771000032,
          0.00011765315242673499,
          0.00021601117022834772,
          0.0002810324466192526,
          0.00020634619541557453,
          0.000331166303568387,
          0.00024217371490217748,
          0.0002717916508430645,
          0.00024371082482324918,
          0.0000815446053999709,
          0.0002409814074019892,
          0.0001392112641852338,
          0.00014962947433361348,
          0.00012434580840222913,
          0.0004988771083079783,
          0.00013535761475267548,
          0.00011299136388138416,
          0.00019543062375161513,
          0.0002316011037272289,
          0.00010445054725364796,
          0.0002103382903181042,
          0.00018630763440348185,
          0.00031126870092794927,
          0.00010170713293652121,
          0.0002382135439522165,
          0.0002613106241793591,
          0.00008376413822669035,
          0.00005910767309287567,
          0.00016846975698843597,
          0.00021891196761152676,
          0.000023190254587785935,
          0.000049869550841952116,
          0.00012676654706648602,
          0.00005435012016904809,
          0.00009470499863139168,
          0.000006225797862579744,
          0.0001653407799683937,
          0.0001872929069123175,
          0.00021870523484808152,
          0.00021086731496979073,
          0.00034814520192468884,
          0.00023911692503665707,
          0.0001511971734673984,
          0.00010965908563239126,
          0.00009509469077914532,
          0.000053789803183233575,
          0.00022862444460469537,
          0.00027319302155643006,
          0.00010146877025954893,
          0.00009958577748778864,
          0.00028571932528246175,
          0.00021349091700553007,
          0.00012933908379820247,
          0.00013951792417366026,
          0.00015563570486566244,
          0.00009642552455772519,
          0.00016073987878569219,
          0.00015030064819900916,
          0.00028722716713953976,
          0.0002922866808096283,
          0.0002968237898797382,
          0.00018687624809617408,
          0.00018616810391906753,
          0.000053586807591592245,
          0.00008628708536842679,
          0.00016194734632970272,
          0.00019526797743779517,
          0.0002649849517453759,
          0.00006308342615165474,
          0.0002204561584475469,
          0.00021554025253516242,
          0.00011798043047661588,
          0.00007718380047856903,
          0.0003090213823262392,
          0.00013518532534404667,
          0.00018987661346973504,
          0.00024679159926075685,
          0.0001311596226987435,
          0.0005103580866511419,
          0.0002364642811950321,
          0.00019587096124500293,
          0.0003375014527335039,
          0.00019639795193247443,
          0.00010931598765828607,
          0.00016863189987551805,
          0.0003472095530206078,
          0.00010882109062748689,
          0.000131655873603939,
          0.0001526694539374706,
          0.000061009652724666605,
          0.00018932686769908714,
          0.00011049258956511958,
          0.00021592614625797794,
          0.00003471656670533062,
          0.00015862226639517672,
          0.0002000726151409664,
          0.000026398854324327462,
          0.0002898990518882777,
          0.00028829821994985193,
          0.00011198820507424479,
          0.0000938235405428797,
          0.00014955259740317495,
          0.000027094816742080423,
          0.00047609312073738463,
          0.0002792442336607552,
          0.00017487580738942887,
          0.0005722505292346088,
          0.00019177191087110213,
          0.00010864988136373165,
          0.00015950244224555507,
          0.000051685997681744427,
          0.00012400274983327754,
          0.00023600331336823507,
          0.0002785693442297884,
          0.000538352194837894,
          0.0002107897436948685,
          0.00019779520125114036,
          0.00004935578068986901,
          0.0003104230357492878,
          0.00016903457853500816,
          0.00036918201710277646,
          0.00016358082447013908,
          0.00013733242395859858,
          0.00021445067624866496,
          0.00006188318923534753,
          0.00008311471441992654,
          0.0001189845478254517,
          0.00010538066443149982,
          0.0002892320175617806,
          0.00018665226769943945,
          0.0001513572167711287,
          0.0001126374507988196,
          0.00013566912725941388,
          0.00012490348695540384,
          0.00025400356627745303,
          0.00012068382024277959,
          0.00020141105329287966,
          0.00022077787007319274,
          0.00015201149470449543,
          0.000264082193067074,
          0.00030861069393581,
          0.00011275765714236475,
          0.0003503440853317755,
          0.000045332523154128056,
          0.0002617388452994574,
          0.00018698975356849773,
          0.0001261091778763971,
          0.00020697875286104436,
          0.00019425602898262011,
          0.0002575940799316957,
          0.00021089127987389627,
          0.0001141354263761449,
          0.000306980913944031,
          0.00017186591301790235,
          0.00034509252321962975,
          0.00023596837730532525,
          0.00013544378224818592,
          0.00013616819384942516,
          0.00023832408331607037,
          0.00021406205123030892,
          0.00008992591846876788,
          0.00017674955601798846,
          0.00009910230969517177,
          0.00014642145689484898,
          0.00020495585790415675,
          0.00023241670309373307,
          0.00018968735313513183,
          0.00025529475011588817,
          0.00014515360730987085,
          0.00021464682035119095,
          0.00028250617753986814,
          0.00018989973993357792,
          0.00031836447346362087,
          0.00028383432993017336,
          0.00012143881768917447,
          0.000006871059484497764,
          0.00007236721453100508,
          0.00033778989605555323,
          0.00007270247121111725,
          0.0001108016992692745,
          0.00021286950555401946,
          0.00023879914351365627,
          0.00010993227017449907,
          0.00027981038154495147,
          0.0002491517683842258,
          0.00011595760335266847,
          0.00022473502198636165,
          0.00039059771277737387,
          0.00012039209762620249,
          0.00007596701020678596,
          0.0003707449316722026,
          0.00021464246962830429,
          0.00022259172903405704,
          0.00020550340324184687,
          0.00027621988743596046,
          0.00011021323089721545,
          0.00032962226177723613,
          0.00015859655982555253,
          0.00020486160411829212,
          0.00021770571637894697,
          0.00012307579475312718,
          0.00021202638582981363,
          0.0001884489817758488,
          0.0002110224612344745,
          0.00014483850247690904,
          0.00012774432677534677,
          0.0002811000016451396,
          0.0002983133245013331,
          0.0000881304523231026,
          0.00011485377339603976,
          0.00022500367224480473,
          0.00017080479147635268,
          0.0004890065727066951,
          0.00008279494506467259,
          0.00016391434569470664,
          0.00020694107785354575,
          0.00007419860081790791,
          0.00013852896376223762,
          0.00008133980181672193,
          0.00011153458262415348,
          0.00003152007705534118,
          0.000041485155377077266,
          0.00008470701212983696,
          0.000055057960296367685,
          0.00018848851429756732,
          0.00020470893448628158,
          0.0001265254480295922,
          0.0003563764703765559,
          0.0002737332791098946,
          0.0002948697264422343,
          0.00047290986765517116,
          0.00028599057646338426,
          0.00039843969341421455,
          0.00013136036753532492,
          0.00007547231514828548,
          0.00030989421767957945,
          0.00007971183102100897,
          0.00015989759430967118,
          0.0002771875189232504,
          0.00012221876112280546,
          0.0003322950426133188,
          0.000239576866431604,
          0.00025420040133553886,
          0.00029168834425729147,
          0.00016015729794673948,
          0.0001720867165144644,
          0.00009171330797263491,
          0.0002786323528801806,
          0.00021694144767804558,
          0.0002626141616139853,
          0.00011814862638486744,
          0.00027853061613540634,
          0.00015519679370232413,
          0.000226848551216357,
          0.00016251331244760791,
          0.000055356344684776404,
          0.0001350692411323521,
          0.00010613543209396705,
          0.00023414282389090242,
          0.00015308807418787127,
          0.0001183425264500815,
          0.00011077990128664536,
          0.00019354186197934978,
          0.00033012605956477605,
          0.00005423118683685868,
          0.0003692789788541611,
          0.00017609094271328423,
          0.00044157676905591005,
          0.00022598465799837956,
          0.00011366601200759504,
          0.0002769647716443341,
          0.00020652105921890323,
          0.00014346016384101637,
          0.00005149139442807898,
          0.00009481060220716617,
          0.00028467984191460463,
          0.0002971368023894635,
          0.00020287520526663823,
          0.0002390824825583725,
          0.0002936887535971084,
          0.0001633041336684342,
          0.00013198080219270985,
          0.00011194424073984304,
          0.00002722998096085034,
          0.0002080494403712166,
          0.00025833178745702276,
          0.0002356445546144438,
          0.0003168866380365396,
          0.00022766065257125685,
          0.0001688200324640353,
          0.00018170236114139986,
          0.00011198802370083844,
          0.0001733871836046546,
          0.00003143005769483947,
          0.0002523650041019641,
          0.00038373660961689947,
          0.00016863155654087472,
          0.00039254411898029967,
          0.0002693510748673147,
          0.00008086039898060795,
          0.0003123292718142314,
          0.00034387851237811405,
          0.00017063250295037703,
          0.00022711711685119003,
          0.00020309163554097358,
          0.00007690794801627093,
          0.00009151573051555729,
          0.00011781983311234554,
          0.00008487486062364977,
          0.000032059500126478086,
          0.00024465691430928,
          0.0004014600662443939,
          0.00031184920566004835,
          0.0000689601569292906,
          0.00015613113530754525,
          0.000265323562039524,
          0.00020493136904300977,
          0.00011253084991171633,
          0.00020907846958488133,
          0.00012948536517825738,
          0.000009743714710859986,
          0.00009631039448195646,
          0.00011171938860516188,
          0.0001571493624391695,
          0.00019446015742360213,
          0.0001265567132581552,
          0.00024265151634570873,
          0.00011294246037960236,
          0.00008994597264908727,
          0.00012240553939736897,
          0.00013973263327557626,
          0.00008499310935319817,
          0.00018251928468529597,
          0.00014238251799292604,
          0.00011447094768556196,
          0.00026720382719652095,
          0.00010137105754774401,
          0.00028355862314072825,
          0.00013980709166593327,
          0.00012972726767853727,
          0.00007846546447968941,
          0.00011954367847902138,
          0.00010468732075620839,
          0.00036697174103138177,
          0.00019299566579581955,
          0.00014289913821818157,
          0.00027098735063492527,
          0.0001586537318912539,
          0.00027585218953352027,
          0.00006963522376908066,
          0.00010955672630261615,
          0.00008025622127897127,
          0.00017973169942747747,
          0.00019949719453813303,
          0.00010395766411191704,
          0.0004524818091908339,
          0.00044994942864847847,
          0.00011421987584703177,
          0.00021358095251652125,
          0.00007020811821028579,
          0.00012056926789102314,
          0.0003762021839108003,
          0.00023885051501445193,
          0.00018233889167422365,
          0.00024628709412844693,
          0.00014650450670641155,
          0.0000786238202274364,
          0.000051949844985978486,
          0.0002722663193926412,
          0.00014364523929376872,
          0.00008836517021575585,
          0.0002673668932859692,
          0.0001470074985808123,
          0.00046335234315608264,
          0.000197605921244494,
          0.000382186498135486,
          0.00006859502614189247,
          0.00024365750626883942,
          0.00009350384593171011,
          0.00012889953609576414,
          0.000223275107115793,
          0.00029316901577631333,
          0.00027077070128757384,
          0.00017588826714291575,
          0.00022034679076958,
          0.00011785877607106196,
          0.00004980673173000224,
          0.00021304609063716045,
          0.00022243080263040392,
          0.00021210885865438704,
          0.00023970369907240323,
          0.00033399620750034403,
          0.0000384708471035712,
          0.00031949396608056305,
          0.00007328786760359908,
          0.00007356175543629064,
          0.00004319199757963611,
          0.00023151213642272404,
          0.00013443392724666253,
          0.0003224964557209694,
          0.0001621866273809963,
          0.000301964591239738,
          0.0003462140449638681,
          0.0001564190397616332,
          0.0002096716291244667,
          0.00013654634131155967,
          0.00021332343549099623,
          0.0001400671875597405,
          0.00012758473643147925,
          0.00010633678984971919,
          0.00006431596108185814,
          0.00019114032724011255,
          0.00009961576292457504,
          0.00010876408947343802,
          0.00031496678377948225,
          0.0002033317889998161,
          0.0001792349962413061,
          0.00005815769906708567,
          0.00019145739499170438,
          0.000009993369656193273,
          0.00017605635114131726,
          0.00007694374771981522,
          0.00018360768292465554,
          0.0000829291592397265,
          0.00027308714767488673,
          0.00012845556982189716,
          0.00015458398056620234,
          0.00033244365287423365,
          0.00035000065175507336,
          0.00014880755428033844,
          0.0001956936676446972,
          0.000195488807094234,
          0.0000925661026299071,
          0.0004132420280278214,
          0.00012555730257466258,
          0.00010539886747946169,
          0.0001808786257091724,
          0.0003969234708358805,
          0.00013088913840658337,
          0.00006692544577365037,
          0.00023142245989347826,
          0.0002661221312624841,
          0.0002310580669873645,
          0.00009885075176079445,
          0.00027426365560543204,
          0.0001998795740869162,
          0.00041459702172686564,
          0.000130285516810282,
          0.0001734186736848938,
          0.00026678573220754537,
          0.0002113134782117841,
          0.00016361513816818917,
          0.00016200527773586334,
          0.0001808355549836993,
          0.0003794974955220054,
          0.00037623425616950133,
          0.0002132939420362499,
          0.0002136455157000355,
          0.00018741616915856984,
          0.00003617257294161967,
          0.0004156861211683799,
          0.0005000393682635271,
          0.0002568377590906876,
          0.00008418525856976205,
          0.00007888313108502689,
          0.00025912377884245824,
          0.00017665243899569588,
          0.0002618495670657191,
          0.00007796366291607169,
          0.0003593816060893267,
          0.00017747728929608662,
          0.00023262896425101665,
          0.0002832524252969993,
          0.0004338162010271939,
          0.00008613116408393082,
          0.00016977393665617324,
          0.0002613738012125392,
          0.00021426267090376516,
          0.0002644826697991365,
          0.00032279875692786187,
          0.00028108175294961436,
          0.00011975159766729421,
          0.00010353560205806233,
          0.00022267568000636394,
          0.0000859074477887868,
          0.00014113280334453963,
          0.00034505423542163566,
          0.0000541129879086827,
          0.00008974223419215666,
          0.0002566242265303585,
          0.0002048724198958912,
          0.0001252565689682277,
          0.00023669893695311202,
          0.00019515498644042615,
          0.00016319052408444136,
          0.0000779466740228051,
          0.00006505326767399141,
          0.0004000160708921178,
          0.00010076160171037217,
          0.0002129010394917846,
          0.00011027349197251086,
          0.00031611917664842165,
          0.00004943476008356796,
          0.0003109490539234741,
          0.00033203245886182056,
          0.00009424535372195619,
          0.00006882899273800276,
          0.00033340455879180377,
          0.0003360756485504808,
          0.00019216787224870545,
          0.0001763267796494,
          0.000030736060562564565,
          0.00008957800282579037,
          0.00016815941111788816,
          0.0001696198687734154,
          0.00001864569837989058,
          0.0001051940977662885,
          0.00024629421917142107,
          0.00015533538562812756,
          0.0001401403196449659,
          0.00028470001426842925,
          0.00006296525598133665,
          0.00043171546612916694,
          0.0002690664180001381,
          0.00003073418618111203,
          0.00032708748881991856,
          0.00011704090618988987,
          0.00010437431890828502,
          0.0001277182685084784,
          0.00016632540203309263,
          0.00025102158156741167,
          0.00022800247826943785,
          0.00027084361556006597,
          0.00021633129953852208,
          0.0003401820133897944,
          0.0002926545141605716,
          0.0002918797814385842,
          0.0001276899453766682,
          0.00010699675002074278,
          0.00019401713094618445,
          0.00030715768684954546,
          0.000028412763177636953,
          0.00005529041076446652,
          0.00007227164793643405,
          0.00019377056291536808,
          0.000026352509381383246,
          0.00008092302565612277,
          0.00038695595511039244,
          0.0001541099402554254,
          0.00010568864167541537,
          0.00026013590941074255,
          0.0003650879890863848,
          0.00003943972860775599,
          0.0002275181375860282,
          0.0002374655942242833,
          0.00024070309226659138,
          0.00019098905916860973,
          0.00015897358826437035,
          0.00023888254482289496,
          0.0002455772859572073,
          0.000122274454284805,
          0.00006152336228782648,
          0.00033156919600471374,
          0.00014075678838003513,
          0.00020827818945402284,
          0.0002657858488977488,
          0.0001278598146357179,
          0.0003146473826448407,
          0.00023566140001394557,
          0.00019936535984166215,
          0.0003377436669665812,
          0.00033449271977714965,
          0.00033526816393907114,
          0.0001335296149752069,
          0.00015578809722088785,
          0.00016210900315509691,
          0.00014224674752119423,
          0.0000797008658903525,
          0.00028378149340469095,
          0.0002131415912530624,
          0.0001804609250000656,
          0.0001675900145909684,
          0.0005369007859114585,
          0.00006813669470755238,
          0.0002941698941858981,
          0.0002319637463343004,
          0.00021018723875065588,
          0.00020413707841537685,
          0.0002850584787172317,
          0.000048326221492348074,
          0.00026357245846583843,
          0.0001924538419543674,
          0.00011263941990245024,
          0.00006524718692073333,
          0.00010961276503937322,
          0.00010766729329254418,
          0.0001500253170987874,
          0.00016673656779952778,
          0.000028675417295849215,
          0.00022169985410643142,
          0.000028326398719208413,
          0.00012291036332800448,
          0.00031404216699068907,
          0.00011563414503050585,
          0.00011001082469886879,
          0.00012132277435704989,
          0.0002779104534581972,
          0.00014572863917274058,
          0.0001485414339993518,
          0.00027342622749430893,
          0.00016945680557321278,
          0.0004224935897558929,
          0.00025613041609084855,
          0.00025277869376541875,
          0.00023811090853919896,
          0.0005457207687951577,
          0.0002264786846820688,
          0.000044834537515852525,
          0.0005547701322239737,
          0.0002297561075645427,
          0.0002479439278956302,
          0.00010601017615040341,
          0.0001726256091795662,
          0.00033633868018369636,
          0.0002264567886891725,
          0.0001228417840968119,
          0.00012374297051911224,
          0.00014446252363044644,
          0.00014994998580052416,
          0.00017352915194201405,
          0.0002034909392774549,
          0.0001157033572301746,
          0.000342029414239373,
          0.000262489449049663,
          0.0003614708780685721,
          0.0002315086481041985,
          0.000031154871190618927,
          0.0002520248262329722,
          0.00009336984892224375,
          0.0001350107749797176,
          0.00020621453045974083,
          0.00023953621375364024,
          0.00009247278928521503,
          0.00022804485058346843,
          0.00017704125796609422,
          0.00009864581834897982,
          0.00011153312691800615,
          0.00022912102687226723,
          0.00011390651212243111,
          0.00022152971528240924,
          0.00008038222923894905,
          0.00028686621293209046,
          0.0001987079673929177,
          0.00014670466706852715,
          0.00011192984670400597,
          0.0002399573365782765,
          0.00032913527256753873,
          0.0001759608355059728,
          0.00017966370484683996,
          0.00030306514247144034,
          0.00033548317350730024,
          0.0002288395272267658,
          0.00007499178444649973,
          0.00007484652129424237,
          0.00023543439986639395,
          0.0001675583595121413,
          0.00017066429686654004,
          0.00008001797801207634,
          0.00004925734168936968,
          0.00011942582621343564,
          0.00019791150492188655,
          0.00010339579287574573,
          0.00006076455635582772,
          0.00020409347674893877,
          0.00005614505543584835,
          0.0001710304120343979,
          0.00034207678095991124,
          0.00024298926356328593,
          0.00009880879723567741,
          0.00005782307712761991,
          0.00018545747897126847,
          0.0001310721006646541,
          0.00017357080336563634,
          0.00013408436762206644,
          0.00011259229263953737,
          0.0001775132505228747,
          0.00024671197162507986,
          0.00015413232019493257,
          0.00004185403312514296,
          0.00027386407885403617,
          0.00014734725306686478,
          0.000019023263941540015,
          0.00016707482848700057,
          0.00019561199830274358,
          0.0001716983210021873,
          0.00014467071746181596,
          0.00018796186667424908,
          0.000134114969593022,
          0.00017225263249380363,
          0.0001343543603696759,
          0.00026392050824585296,
          0.00004300766060119288,
          0.00018143456084605933,
          0.0000735722979094879,
          0.00014065219383474918,
          0.00006223621248440383,
          0.0002214577218400543,
          0.00013661607552642823,
          0.0001524903801090773,
          0.00028458930198699744,
          0.00044903358349317294,
          0.00031956457180975183,
          0.00031364587921762095,
          0.00016794900403714394,
          0.00025428071121736274,
          0.00025127525295336997,
          0.0001642626595827866,
          0.00007811708266430875,
          0.0002789982379121321,
          0.00013494686421002252,
          0.00014835790575649802,
          0.00008875443227070236,
          0.00012761405472036964,
          0.000026669137363198634,
          0.0002816152504174984,
          0.0002459199743663537,
          0.00020415865698405195,
          0.00033851742462806685,
          0.0002197805583315946,
          0.00018799035820278077,
          0.00013300706508841248,
          0.00013111934371904505,
          0.00007502191607758591,
          0.00018723157373491596,
          0.00012029452677427205,
          0.00017886005465519235,
          0.0000975272033671039,
          0.00010414008901264249,
          0.0003570076507393202,
          0.00027161950782891484,
          0.00009542649931662309,
          0.00016881890934813964,
          0.00020250807326747052,
          0.0001479593303071201,
          0.0001211815587161537,
          0.0002742064133556031,
          0.00011414417747065651,
          0.00008998915204112906,
          0.00020987979217378325,
          0.00007155840713603312,
          0.0002217725156329132,
          0.000054643089366897886,
          0.00010905941818270958,
          0.00009863803974188554,
          0.00008995030471578505,
          0.0002852319455653452,
          0.00016800105259944892,
          0.00009385671555144885,
          0.0001948104179021571,
          0.00026250233612968156,
          0.00024152743981086184,
          0.0002276324583431931,
          0.00018603512345790314,
          0.00001768212233345836,
          0.00007767701734628971,
          0.00010640383862187543,
          0.000017187118000236654,
          0.00016431317751941616,
          0.00020645944382370853,
          0.00007969667062824858,
          0.00021135888983437812,
          0.00008403066720288464,
          0.00011223535100717231,
          0.0001752740549771211,
          0.00008309297808056323,
          0.00010421924333313066,
          0.0001984983137254081,
          0.00019730558040012366,
          0.00021480679202180784,
          0.00008624408733743235,
          0.00019240606087677793,
          0.00012951961580313456,
          0.00016698452417701447,
          0.00020042693628323375,
          0.00007624115240237969,
          0.00025108626283658407,
          0.0001808159816013228,
          0.00003641192408129041,
          0.00010404285801816263,
          0.00016979119166075967,
          0.00036679594373832376,
          0.00017178992342322254,
          0.00012299786038301474,
          0.0001240946450949767,
          0.00014469896424967903,
          0.0002776663591727541,
          0.00010022475319952657,
          0.00012695339128917466,
          0.000043920332416158516,
          0.0001281501932342296,
          0.00017581329995347117,
          0.00021407168152063293,
          0.00006362362401177034,
          0.00032440434311121195,
          0.0002185599589471078,
          0.00015251480327022662,
          0.00015251164750825988,
          0.0001005429562953079,
          0.000088352333442387,
          0.0001806260101453265,
          0.0000918488343015372,
          0.00020113405319254198,
          0.00005686662278020682,
          0.0001602982850461421,
          0.00020145670747750296,
          0.00009658427572703591,
          0.00008919480386505869,
          0.00012423754774193338,
          0.00012434895777314642,
          0.00004734808894731478,
          0.00004993157890465786,
          0.00014959142232575653,
          0.00008916979452959278,
          0.00002497691746555668,
          0.00007138390521481657,
          0.00020009271914079834,
          0.00012794886387919728,
          0.00021354694997531933,
          0.0001948119312857056,
          0.00006265293706748292,
          0.00012786120739213979,
          0.00006178621136443314,
          0.00016600254583823017,
          0.00012816231329917523,
          0.00003498958574705853,
          0.0000776799548347756,
          0.00032843411282955327,
          0.00016592421518888922,
          0.00003830290191586726,
          0.00008036254672258397,
          0.00005723866681571681,
          0.0000404860628045621,
          0.00006969015375025038,
          0.00009588958212628349,
          0.00014824545149666306,
          0.00010087268856589227,
          0.000014967232106568704,
          0.00019252795576007529,
          0.0001104533429567818,
          0.00020645532119527936,
          0.00011362006100066262,
          0.00007351972716487036,
          0.00010127218146865307,
          0.0000582416447253764,
          0.0001248797329764877,
          0.00019380968466086227,
          0.0001305488790117679,
          0.00007344256488556594,
          0.0000919530786343975,
          0.0001045307546995051,
          0.00008556786655307026,
          0.00010964526199498643,
          0.00003816850264033793,
          0.0000644917159249317,
          0.000037673864976108104,
          0.0000843330834815047,
          0.00010071171011422769,
          0.00009867404944000318,
          0.0001314658472975686,
          0.00014511430208162204,
          0.000014579642055818599,
          0.0001607544287437364,
          0.00008732054338068275,
          0.00006498655783641706,
          0.000026672769356984622,
          0.000046442502346781496,
          0.00006045144838689372,
          0.000173226360243753,
          0.00007667720447355644,
          0.000028715060870728748,
          0.000033367677064296976,
          0.000026095244727606693,
          0.00018668355238331006,
          0.0001223064855477425,
          0.00007993267139106757,
          0.000017878199334891174,
          0.00007832691556971738,
          0.00004614317679426358,
          0.0001566671031584686,
          0.00016163839959953255,
          0.00006144525097326683,
          0.0000728859534028863,
          0.00011611510950396663,
          0.00003773818780546724,
          0.00013254709707350204,
          0.00009777083458075321,
          0.00006797079759935026,
          0.00012168221914015708,
          0.00003773308854340495,
          0.00003145048869915304,
          0.00015773051120530863,
          0.0001526072533035226,
          0.00014541442300512183,
          0.00010537209702266792,
          0.0000874718902776404,
          0.00003686817342816715,
          0.00003123855669325422,
          0.00004737655185932816,
          0.00010809453542565969,
          0.00006997495059303366,
          0.00012176004608306602,
          0.00008833374546321025,
          0.00008078324252146942,
          0.0000693526573055721,
          0.000019104736735746935,
          0.00010989298155351244,
          0.00007942990507285847,
          0.000011455622011481113,
          0.00005720365968820837,
          0.00007409939604700825,
          0.00010751559156025029,
          0.00010624289889975876,
          0.00003912802474702429,
          0.00008570608154696247,
          0.00010219739015394727,
          0.00007946574389335418,
          0.00012116329275947886,
          0.000050086359068440726,
          0.00008970216535898439,
          0.000046339415536447636,
          0.000045553772141854946,
          0.000025314459075973954,
          0.000021794566959871647,
          0.000060971710627823184,
          0.00006067420185784338,
          0.0000990935339425166,
          0.00007418734262692232,
          0.000044521154148448274,
          0.00012755306434005586,
          0.000051809888637014286,
          0.000021771019089981446,
          0.00010381515139511215,
          0.00007101015357343252,
          0.00008473524393279643,
          0.0000913113102312714,
          0.00006841412838144916,
          0.000030414738159082592,
          0.00003158258898248534,
          0.00000775749453993739,
          0.00006299775628428016,
          0.000012470248884162976,
          0.00008649537306817117,
          0.00007880222419739597,
          0.00006838162480863012,
          0.00004452432126490257,
          0.00004035729212121577,
          0.0000195466351979194,
          0.00005344085517881079,
          0.00006320860285138155,
          0.000020794507946592886,
          0.00004172738280869677,
          0.00005994648222256018,
          0.0000978968121932307,
          0.00003760659549898092,
          0.000041444404034403155,
          0.0000911953962527293,
          0.00004510701903693473,
          0.00008100240779152602,
          0.000010627450805595764,
          0.000016100398334315356,
          0.000023660136825291962,
          0.000009415292992109021,
          0.000012828992611560756,
          0.00010737093580724492,
          0.00002525292472284249,
          0.0000533874759079733,
          0.000026354896471472897,
          0.00005689598269924958,
          0.00009082387301550174,
          0.0000594193806712939,
          0.0000314484291145947,
          0.00006066567569822703,
          0.00001768048857273791,
          0.00009598477341793698,
          0.000054461045913819526,
          0.000020848325496994773,
          0.000056427235481877914,
          0.00012617163482019834,
          0.00003516195444450893,
          0.00004895502940899975,
          0.00006651200214576476,
          0.0001049287899241295,
          0.00006686455628779643,
          0.00002269508546592088,
          0.00006455718384419295,
          0.000054716594272264864,
          0.000041853007609647674,
          0.00000706049101678536,
          0.000013247020781438848,
          0.000048686890386586476,
          0.00002553101672762171,
          0.00002594198860895317,
          0.0000422537473862996,
          0.000025053609971471247,
          0.00005551110707180884,
          0.000052265408568481546,
          0.000059655553761161475,
          0.000016647364339226295,
          0.00005578606758439009,
          0.00004700685689554787,
          0.00004074569056552562,
          0.00005677904451616717,
          0.00007339027560379875,
          0.00003877092897097356,
          0.000019424008734902967,
          0.00008601029478160169,
          0.000048405918305820276,
          0.000025272060245417295,
          0.00006549974977803194,
          0.00007674199476558656,
          0.00003433877064155366,
          0.00003145931268523868,
          0.00001737041843131358,
          0.000027411673361704732,
          0.0000855562581512663,
          0.000018045511644434286,
          0.00006578119285003145,
          0.000055530196489110164,
          0.00006973386924824689,
          0.00007899370424823368,
          0.000045991272083785475,
          0.0000383250607774658,
          0.00008131796562859348,
          0.000013827078280693834,
          0.00003472336106565245,
          0.00001116836378561553,
          0.00004023757315635356,
          0.00006629382724247866,
          0.000017326479206547307,
          0.00006649947684569971,
          0.000032093816552809444,
          0.000020638087173344726,
          0.00005014166032864234,
          0.000003305388324144203,
          0.000012844488499831399,
          0.00006202553156173669,
          0.00004041397189196321,
          0.00002345496963860081,
          0.000020810657208263666,
          0.00002639283467171292,
          0.00005161122402210746,
          0.00008525807434752636,
          0.000024617443469371578,
          0.00001602051528751545,
          0.000021469388834375624,
          0.00003059547951524952,
          0.00003732757104037044,
          0.000025394902260204884,
          0.000008914907172072149,
          0.000031996913428888086,
          0.00004492354102912345,
          0.00003639243995239663,
          0.00003655219534952844,
          0.00004317166288881589,
          0.000032419269998960915,
          0.0000068259557923370125,
          0.000060854006277926886,
          0.00001877332929117879,
          0.0000272078981847929,
          0.00005654709353566038,
          0.00003325541631404513,
          0.000004712950829970041,
          0.000020991695957580024,
          0.000048482092490066056,
          0.000010911968940244163,
          0.00002134133393174606,
          0.0000017229400126452902,
          0.00001588471889538436,
          0.00005076807703508221,
          0.000025392027301658767,
          0.00004729771402684851,
          0.000030265401890308107,
          0.000005037151746792713,
          0.000010730885549146701,
          0.000005237443896692715,
          0.000005712997326312473,
          0.000025056538457857677,
          0.00002428498237338902,
          0.000006596462597051078,
          0.000028164863716584064,
          0.00003394885562572204,
          0.000017533275976277993,
          0.00002559610580895849,
          0.000052761802915504135,
          0.000015474796749534185,
          0.000017884994640816745,
          0.00002098791549948179,
          0.000010627586878433953,
          0.000023304913233861697,
          0.00002710147972141347,
          0.000012167687603095939,
          0.00001857598014306003,
          0.000004890343838205197,
          0.000045418150630309954,
          0.00004397665231140499,
          0.0000168981986590118,
          0.000005470631751592506,
          0.000027603210901413802,
          0.00003153660042474627,
          0.00003592306885681635,
          0.00002033388600596449,
          0.00002487734842951759,
          0.0000389447428276641,
          0.00003310265483411253,
          0.000014265492859007495,
          0.00004274739663480165,
          0.00001267317702484686,
          0.000013570384235341155,
          0.000014459595698505357,
          0.00002216592093275144,
          0.000029466147366545374,
          0.000016696403094377065,
          0.00002576800389899961,
          0.000026549606395467137,
          0.000017483596107003994,
          0.000010265310710838764,
          0.000010965548682674691,
          0.00004492147919124609,
          0.000008523276510419782,
          0.000011347534459058114,
          0.000027626255159640727,
          0.000015837651493702337,
          0.000011412654910826774,
          0.000011462924542904996,
          0.000013834801787524732,
          0.000018103648345900116,
          0.000008972428048087808,
          0.00001808188252331601,
          0.00000912994135053227,
          0.000007129687016099993,
          0.000022112298392475782,
          0.000008452044378747958,
          0.000014639467961894353,
          0.000004335974501834931,
          0.000017150963348620565,
          0.000015268638099027678,
          0.000014914317393451165,
          0.000028336636512698253,
          0.000002781301448786214,
          0.00003448296390584183,
          0.000008393769566825215,
          0.000017157077789231154,
          0.000036512510130089,
          0.000010611966503285337,
          0.000011899299275915453,
          0.000010124924447506621,
          0.000012630441220361602,
          0.0000037365656531330784,
          0.000010606745090724877,
          0.0000024386819572721967,
          0.000003519108771434039,
          0.000004002602901630093,
          0.000024101318127448563,
          0.000005926010431083486,
          0.00001662086592577615,
          0.00001813920034425263,
          0.000007631887431660953,
          0.000014780169117933962,
          0.000005511300115107753,
          0.000008558459583539494,
          0.00000612989256278692,
          0.0000030405533719301825,
          0.000019719528596008086,
          0.000010130846156279702,
          0.000015000753511129794,
          0.000009276396073358803,
          0.000005587148549890386,
          0.000006055093947253075,
          0.000008020990835464159,
          0.000012895945015753144,
          0.00001731282714035318,
          0.000004571527164757471,
          0.000008798837286257608,
          0.000008583081203565902,
          0.000027798807782161714,
          0.000009797810829384635,
          0.000004800844167482627,
          0.000017041575337020408,
          0.00001241102141756443,
          0.00001901037818336963,
          0.000008350359782411266,
          0.00001002065980434996,
          0.000023153004122923333,
          0.0000066089078268308535,
          0.00000827376711254696,
          0.00001039006313097862,
          0.0000056318800029333984,
          0.000007491887683021367,
          0.000005982503464874673,
          0.0000025601760143298127,
          0.000016017299250231443,
          0.000008555637628311555,
          0.0000063799553267482,
          0.000004924222327651597,
          9.898634047331916e-7,
          0.0000054827568779399825,
          0.0000042024021985792625,
          0.00000835444639303372,
          0.000009262786975482223,
          0.000007680959337977955,
          0.000006852149575228739,
          0.000010827682338989711,
          0.000009375341793717346,
          0.000009355058754462451,
          0.00000318431960901867,
          0.0000027057173674630037,
          0.000005858950246506262,
          0.0000045096773240596215,
          0.000008774965468231823,
          0.0000026772158956684023,
          0.000005344516914227833,
          0.000007922555256467532,
          0.000006112368762418385,
          0.000012251801489867623,
          0.000002974257942916968,
          0.000010723388517593213,
          0.00001108807530541196,
          0.0000061151579588068206,
          0.0000030515136854445224,
          0.0000020201595078286743,
          0.00000510610722589782,
          0.000008263974659926039,
          0.000007995631910190607,
          0.000009003873711171212,
          0.0000016291275391774405,
          0.000009521069958958942,
          0.000012468108183661048,
          0.000010120755363399864,
          0.000007520883070583759,
          0.000016844109192579427,
          0.00000555190422559525,
          0.0000048429410353039405,
          0.000008367157043881312,
          0.0000039745514261118,
          0.000004816092314778696,
          0.000005070712309496899,
          0.000011721706178158787,
          0.000007114625575849777,
          0.000005218990236704882,
          0.0000013900510315184633,
          0.000004152262957843399,
          0.000005851410509267611,
          0.000002445597844778305,
          0.000002166684540921327,
          0.0000028306112329897747,
          0.0000019604465965888433,
          0.0000023035686338975283,
          0.000004954140483327008,
          0.00000375905084947882,
          0.0000024871559981137124,
          0.000002093847220864464,
          0.0000045093659448203824,
          0.000007034856292131245,
          0.000005543467166470971,
          0.000001426625871984616,
          0.0000026660503960558595,
          6.740779520818683e-7,
          0.0000012244299092897635,
          0.000007338302174948313,
          0.000004405458442278296,
          0.0000017179512541489735,
          0.00000318606598623076,
          8.415565707339614e-7,
          0.0000023281896280201595,
          0.00000644793281190588,
          0.0000049250031458879575,
          0.0000013594791919917706,
          0.000002701910744001991,
          9.915209590936576e-7,
          0.000004413454712606922,
          0.0000025417655138746125,
          8.009418466090615e-7,
          0.0000020357025754351496,
          0.0000018485833378975138,
          8.727413283893963e-7,
          0.000003763873882043949,
          0.000002088551408538755,
          0.0000030550803110378383,
          0.000002865644336465683,
          0.000002558636222721473,
          0.000006558625442718346,
          0.0000056734734082213205,
          0.0000014008766007158174,
          0.0000025136535346129172,
          0.0000033558899533450624,
          0.000004474667383675329,
          0.0000019421961922840944,
          0.000005878812757095135,
          0.00000802341333421645,
          0.0000035942089403905183,
          0.000004479150971410615,
          0.000005208888129940751,
          0.000003025241098039189,
          0.000003866420422164317,
          0.0000043364098495001875,
          0.00000289467139268607,
          0.0000015591202531718803,
          0.000002139873553185678,
          5.631850048094881e-7,
          3.215443800779946e-7,
          0.000005289683204959902,
          0.000001825252157024153,
          0.0000033668738297396416,
          0.0000025535455797349223,
          0.000004397490405605306,
          0.0000021315658256139943,
          0.0000012134471686224808,
          0.000001460114980605186,
          0.0000030106832862272098,
          2.4563083773445234e-7,
          0.0000023104757794835348,
          0.0000016469181682371755,
          3.510482720348541e-7,
          0.000002461076201059953,
          0.000002121808454396744,
          0.0000028082438891169997,
          0.00000268093715418051,
          6.096257238975094e-7,
          0.000002733619252661974,
          0.0000018028089094656548,
          0.0000015818113479247205,
          0.0000011377823067031971,
          9.995734160398568e-7,
          0.0000010629885538577745,
          4.4518041937888086e-7,
          0.0000018092702912283792,
          0.0000030866321751549695,
          0.0000018022212674673568,
          3.097831208584876e-7,
          0.0000020540571186083696,
          8.9543784020098e-7,
          0.000001470996529544648,
          5.941492948374421e-7,
          0.0000017116638048017178,
          0.000003637935548995222,
          7.780217603413274e-7,
          0.0000021495215016104053,
          0.00000293215763606011,
          0.0000016334134013431785,
          0.0000025121661993368423,
          0.0000010854770978227225,
          0.0000012111448592531118,
          0.000004067194603246264,
          0.0000012527625437807573,
          3.3086108385871173e-7,
          0.0000013729570723813962,
          0.0000021472071757978473,
          0.0000015812308969447965,
          0.0000013104063277872667,
          7.747166484745719e-7,
          6.670017024032398e-7,
          1.371458955335891e-7,
          0.0000018180593585479333,
          8.714966723144575e-7,
          0.000001966180852304992,
          0.0000013227307440489538,
          3.758891200735974e-7,
          4.5723217374612715e-7,
          5.526583920745135e-7,
          0.0000010758000208615113,
          0.0000017229254101125623,
          0.000002605334249887122,
          0.0000015454937952741324,
          6.898561555654722e-7,
          0.000002194993249132484,
          4.0711225308160836e-7,
          2.666323901305838e-7,
          4.845846797647485e-7,
          5.691500240190412e-7,
          4.1797294313532925e-7,
          8.314306339468492e-7,
          7.80341713514727e-7,
          2.0869674809574486e-7,
          5.211950074807397e-7,
          0.000002237972552752716,
          0.0000012498428071651033,
          6.695996997822527e-7,
          0.0000016519996927817658,
          0.0000012403110249100753,
          0.0000017275369009398233,
          4.262470865026737e-7,
          5.475055314223494e-7,
          0.0000012651713844675397,
          4.6409582947768173e-7,
          5.838866019230853e-7,
          7.725654544504953e-8,
          6.547153646666563e-7,
          7.845666338807334e-7,
          2.6340172039872846e-7,
          6.705918257956019e-7,
          3.523286905033348e-7,
          9.396594992971141e-7,
          1.631468608889087e-7,
          6.619882607144283e-7,
          4.194316830516868e-7,
          5.847231312504729e-7,
          9.067284456644652e-7,
          3.6915819181890775e-7,
          7.652329974194558e-7,
          0.000001261753558072148,
          5.165584016350168e-7,
          7.798755363833457e-7,
          5.079453431639665e-7,
          4.5203110152721086e-7,
          8.921129573033888e-7,
          6.379394897700925e-7,
          5.764016234368238e-7,
          7.179566598740027e-7,
          8.362085257701796e-7,
          6.29742669016448e-7,
          6.450390832300922e-7,
          0.00000240640258268719,
          0.0000030230033267464703,
          8.54111013098929e-7,
          0.0000016618511980692489,
          8.956893457900468e-7,
          5.627160411761468e-7,
          0.000001011490244514174,
          6.443524555130307e-7,
          5.542834237533102e-7,
          4.3096333079626e-7,
          3.3837358701546785e-7,
          9.601203828623549e-7,
          5.351393130017675e-7,
          5.091957762374229e-7,
          2.4754746880855424e-7,
          3.4837611222114424e-7,
          3.762131707712361e-7,
          3.1866891033602046e-7,
          1.2690179501471395e-7,
          3.4946852238498167e-7,
          2.908373392368452e-7,
          1.7272631404263827e-7,
          5.492969718028835e-7,
          5.398015673918058e-7,
          1.607270558760987e-7,
          1.280598513245031e-7,
          3.9414789162118267e-7,
          1.99685218367118e-7,
          1.8385033074010854e-7,
          2.7534956983101943e-7,
          6.988979880652388e-8,
          1.0999143157656896e-7,
          2.33933684108856e-8,
          1.360431528370029e-7,
          2.044678683421333e-7,
          4.338443894366865e-7,
          1.4022940130825787e-7,
          4.3440583174771505e-7,
          2.0710837171587405e-7,
          9.472502288876577e-8,
          1.4955505742120856e-7,
          5.529448135406122e-8,
          2.7335134247961345e-7,
          2.9695889659046524e-7,
          1.226945520259213e-7,
          1.6995793685586676e-7,
          1.9531630111700874e-7,
          4.1072918210355367e-7,
          1.26042818607217e-7,
          2.813054171454596e-7,
          2.542678236745215e-7,
          3.206047566385536e-7,
          1.7177732837524567e-7,
          2.60994277005183e-7,
          1.538008388343025e-7,
          3.368767313957052e-7,
          1.7859451074923483e-7,
          1.0950972124108736e-7,
          3.608903786894843e-8,
          1.6660815703550293e-7,
          1.7828830896722517e-7,
          3.318297841972719e-8,
          6.17095002658982e-8,
          7.343541498153234e-8,
          2.472365611770413e-7,
          2.799425322087211e-7,
          1.128905951039525e-7,
          8.814997096960125e-8,
          6.404475471364744e-8,
          8.309321718861541e-8,
          1.5664934272063177e-7,
          1.0235970578704438e-7,
          3.616395712990688e-8,
          1.5256509316657322e-7,
          6.382298735233906e-8,
          5.2437689182106134e-8,
          1.5335853223508323e-7,
          2.1616196759560349e-7,
          2.4233962811848955e-7,
          1.5318067335087372e-7,
          7.978314819158792e-8,
          3.220130028232804e-8,
          1.1237246623630013e-7,
          1.1059873932936741e-7,
          1.6931208562975583e-7,
          4.2742586899091335e-8,
          1.6489538293798327e-7,
          1.5320679138545654e-7,
          9.619771453191397e-8,
          1.0605246427866803e-7,
          3.889589029859546e-8,
          1.165160130625441e-7,
          5.833406680576268e-8,
          2.435780383090569e-8,
          4.735304692043589e-8,
          4.364534350423337e-8,
          1.573519734125949e-7,
          6.361670786144825e-8,
          1.3967414204537725e-7,
          1.5482646077234247e-7,
          1.539953802894974e-7,
          1.5322376139533016e-7,
          6.713312833901042e-8,
          2.567699592080773e-7,
          2.2442560520559496e-7,
          2.051760226111274e-7,
          8.674936913446737e-8,
          1.7735660657358963e-7,
          8.448973558133395e-8,
          4.007069329091915e-8,
          4.577454838881575e-8,
          4.27423278560624e-8,
          1.818479393645217e-8,
          2.974279521094109e-8,
          4.217095957745279e-8,
          5.773961789300631e-8,
          1.4390835551825635e-9,
          1.9726270925598526e-8,
          2.5231336644346682e-8,
          3.127706418244853e-8,
          3.637637940425259e-8,
          7.731374397165937e-8,
          3.5135162304556263e-8,
          4.055535615085352e-8,
          4.5321669966582374e-8,
          4.7249177685282856e-8,
          7.922891608648856e-8,
          1.5133563089636084e-7,
          4.202118946880852e-7,
          4.74727577205015e-7,
          2.5201103963504887e-7,
          1.245959146422656e-7,
          8.1105471105034e-8,
          8.179390205563739e-8,
          1.193969356718569e-7,
          1.3561660347530873e-7,
          8.156551969910868e-8,
          1.191909629036285e-7,
          5.1642372086783495e-8,
          2.4540909028275517e-8,
          3.3056646988642e-8,
          2.3924469972308773e-8,
          8.831951291185734e-9,
          9.872734938692438e-8,
          7.651618757093128e-8,
          1.966721369352339e-7,
          1.9719210781890566e-7,
          1.922500801613486e-7,
          1.0071164254468625e-7,
          5.489106117973144e-7,
          6.792475884942941e-7,
          5.746040470553803e-7,
          0.0000010349867003255923,
          5.279673941922059e-7,
          0.000002696166431118226,
          0.0000027866329029389177,
          7.392722700867089e-7,
          5.851291819571111e-7,
          1.7021954526828068e-7,
          1.6396489596125578e-7,
          1.4752991912435806e-7,
          8.572291841410964e-8,
          2.0556148659912467e-8,
          4.902186059467757e-8,
          7.303595775627064e-8,
          2.7530139663857927e-8,
          4.535319532831251e-8,
          7.0867940095679085e-9,
          4.676456833512166e-9,
          3.4015306240184804e-8,
          1.779429071517936e-8,
          2.287428645314395e-8,
          4.917833560737861e-8,
          6.7707631185212775e-9,
          4.811727789954559e-8,
          1.1410337506238276e-8,
          1.5450043839176343e-8,
          5.032286338030387e-8,
          6.80753083797316e-8,
          9.411486425039566e-8,
          8.874001112718644e-8
         ]
        }
       ],
       "layout": {
        "template": {
         "data": {
          "bar": [
           {
            "error_x": {
             "color": "#2a3f5f"
            },
            "error_y": {
             "color": "#2a3f5f"
            },
            "marker": {
             "line": {
              "color": "#E5ECF6",
              "width": 0.5
             },
             "pattern": {
              "fillmode": "overlay",
              "size": 10,
              "solidity": 0.2
             }
            },
            "type": "bar"
           }
          ],
          "barpolar": [
           {
            "marker": {
             "line": {
              "color": "#E5ECF6",
              "width": 0.5
             },
             "pattern": {
              "fillmode": "overlay",
              "size": 10,
              "solidity": 0.2
             }
            },
            "type": "barpolar"
           }
          ],
          "carpet": [
           {
            "aaxis": {
             "endlinecolor": "#2a3f5f",
             "gridcolor": "white",
             "linecolor": "white",
             "minorgridcolor": "white",
             "startlinecolor": "#2a3f5f"
            },
            "baxis": {
             "endlinecolor": "#2a3f5f",
             "gridcolor": "white",
             "linecolor": "white",
             "minorgridcolor": "white",
             "startlinecolor": "#2a3f5f"
            },
            "type": "carpet"
           }
          ],
          "choropleth": [
           {
            "colorbar": {
             "outlinewidth": 0,
             "ticks": ""
            },
            "type": "choropleth"
           }
          ],
          "contour": [
           {
            "colorbar": {
             "outlinewidth": 0,
             "ticks": ""
            },
            "colorscale": [
             [
              0,
              "#0d0887"
             ],
             [
              0.1111111111111111,
              "#46039f"
             ],
             [
              0.2222222222222222,
              "#7201a8"
             ],
             [
              0.3333333333333333,
              "#9c179e"
             ],
             [
              0.4444444444444444,
              "#bd3786"
             ],
             [
              0.5555555555555556,
              "#d8576b"
             ],
             [
              0.6666666666666666,
              "#ed7953"
             ],
             [
              0.7777777777777778,
              "#fb9f3a"
             ],
             [
              0.8888888888888888,
              "#fdca26"
             ],
             [
              1,
              "#f0f921"
             ]
            ],
            "type": "contour"
           }
          ],
          "contourcarpet": [
           {
            "colorbar": {
             "outlinewidth": 0,
             "ticks": ""
            },
            "type": "contourcarpet"
           }
          ],
          "heatmap": [
           {
            "colorbar": {
             "outlinewidth": 0,
             "ticks": ""
            },
            "colorscale": [
             [
              0,
              "#0d0887"
             ],
             [
              0.1111111111111111,
              "#46039f"
             ],
             [
              0.2222222222222222,
              "#7201a8"
             ],
             [
              0.3333333333333333,
              "#9c179e"
             ],
             [
              0.4444444444444444,
              "#bd3786"
             ],
             [
              0.5555555555555556,
              "#d8576b"
             ],
             [
              0.6666666666666666,
              "#ed7953"
             ],
             [
              0.7777777777777778,
              "#fb9f3a"
             ],
             [
              0.8888888888888888,
              "#fdca26"
             ],
             [
              1,
              "#f0f921"
             ]
            ],
            "type": "heatmap"
           }
          ],
          "heatmapgl": [
           {
            "colorbar": {
             "outlinewidth": 0,
             "ticks": ""
            },
            "colorscale": [
             [
              0,
              "#0d0887"
             ],
             [
              0.1111111111111111,
              "#46039f"
             ],
             [
              0.2222222222222222,
              "#7201a8"
             ],
             [
              0.3333333333333333,
              "#9c179e"
             ],
             [
              0.4444444444444444,
              "#bd3786"
             ],
             [
              0.5555555555555556,
              "#d8576b"
             ],
             [
              0.6666666666666666,
              "#ed7953"
             ],
             [
              0.7777777777777778,
              "#fb9f3a"
             ],
             [
              0.8888888888888888,
              "#fdca26"
             ],
             [
              1,
              "#f0f921"
             ]
            ],
            "type": "heatmapgl"
           }
          ],
          "histogram": [
           {
            "marker": {
             "pattern": {
              "fillmode": "overlay",
              "size": 10,
              "solidity": 0.2
             }
            },
            "type": "histogram"
           }
          ],
          "histogram2d": [
           {
            "colorbar": {
             "outlinewidth": 0,
             "ticks": ""
            },
            "colorscale": [
             [
              0,
              "#0d0887"
             ],
             [
              0.1111111111111111,
              "#46039f"
             ],
             [
              0.2222222222222222,
              "#7201a8"
             ],
             [
              0.3333333333333333,
              "#9c179e"
             ],
             [
              0.4444444444444444,
              "#bd3786"
             ],
             [
              0.5555555555555556,
              "#d8576b"
             ],
             [
              0.6666666666666666,
              "#ed7953"
             ],
             [
              0.7777777777777778,
              "#fb9f3a"
             ],
             [
              0.8888888888888888,
              "#fdca26"
             ],
             [
              1,
              "#f0f921"
             ]
            ],
            "type": "histogram2d"
           }
          ],
          "histogram2dcontour": [
           {
            "colorbar": {
             "outlinewidth": 0,
             "ticks": ""
            },
            "colorscale": [
             [
              0,
              "#0d0887"
             ],
             [
              0.1111111111111111,
              "#46039f"
             ],
             [
              0.2222222222222222,
              "#7201a8"
             ],
             [
              0.3333333333333333,
              "#9c179e"
             ],
             [
              0.4444444444444444,
              "#bd3786"
             ],
             [
              0.5555555555555556,
              "#d8576b"
             ],
             [
              0.6666666666666666,
              "#ed7953"
             ],
             [
              0.7777777777777778,
              "#fb9f3a"
             ],
             [
              0.8888888888888888,
              "#fdca26"
             ],
             [
              1,
              "#f0f921"
             ]
            ],
            "type": "histogram2dcontour"
           }
          ],
          "mesh3d": [
           {
            "colorbar": {
             "outlinewidth": 0,
             "ticks": ""
            },
            "type": "mesh3d"
           }
          ],
          "parcoords": [
           {
            "line": {
             "colorbar": {
              "outlinewidth": 0,
              "ticks": ""
             }
            },
            "type": "parcoords"
           }
          ],
          "pie": [
           {
            "automargin": true,
            "type": "pie"
           }
          ],
          "scatter": [
           {
            "fillpattern": {
             "fillmode": "overlay",
             "size": 10,
             "solidity": 0.2
            },
            "type": "scatter"
           }
          ],
          "scatter3d": [
           {
            "line": {
             "colorbar": {
              "outlinewidth": 0,
              "ticks": ""
             }
            },
            "marker": {
             "colorbar": {
              "outlinewidth": 0,
              "ticks": ""
             }
            },
            "type": "scatter3d"
           }
          ],
          "scattercarpet": [
           {
            "marker": {
             "colorbar": {
              "outlinewidth": 0,
              "ticks": ""
             }
            },
            "type": "scattercarpet"
           }
          ],
          "scattergeo": [
           {
            "marker": {
             "colorbar": {
              "outlinewidth": 0,
              "ticks": ""
             }
            },
            "type": "scattergeo"
           }
          ],
          "scattergl": [
           {
            "marker": {
             "colorbar": {
              "outlinewidth": 0,
              "ticks": ""
             }
            },
            "type": "scattergl"
           }
          ],
          "scattermapbox": [
           {
            "marker": {
             "colorbar": {
              "outlinewidth": 0,
              "ticks": ""
             }
            },
            "type": "scattermapbox"
           }
          ],
          "scatterpolar": [
           {
            "marker": {
             "colorbar": {
              "outlinewidth": 0,
              "ticks": ""
             }
            },
            "type": "scatterpolar"
           }
          ],
          "scatterpolargl": [
           {
            "marker": {
             "colorbar": {
              "outlinewidth": 0,
              "ticks": ""
             }
            },
            "type": "scatterpolargl"
           }
          ],
          "scatterternary": [
           {
            "marker": {
             "colorbar": {
              "outlinewidth": 0,
              "ticks": ""
             }
            },
            "type": "scatterternary"
           }
          ],
          "surface": [
           {
            "colorbar": {
             "outlinewidth": 0,
             "ticks": ""
            },
            "colorscale": [
             [
              0,
              "#0d0887"
             ],
             [
              0.1111111111111111,
              "#46039f"
             ],
             [
              0.2222222222222222,
              "#7201a8"
             ],
             [
              0.3333333333333333,
              "#9c179e"
             ],
             [
              0.4444444444444444,
              "#bd3786"
             ],
             [
              0.5555555555555556,
              "#d8576b"
             ],
             [
              0.6666666666666666,
              "#ed7953"
             ],
             [
              0.7777777777777778,
              "#fb9f3a"
             ],
             [
              0.8888888888888888,
              "#fdca26"
             ],
             [
              1,
              "#f0f921"
             ]
            ],
            "type": "surface"
           }
          ],
          "table": [
           {
            "cells": {
             "fill": {
              "color": "#EBF0F8"
             },
             "line": {
              "color": "white"
             }
            },
            "header": {
             "fill": {
              "color": "#C8D4E3"
             },
             "line": {
              "color": "white"
             }
            },
            "type": "table"
           }
          ]
         },
         "layout": {
          "annotationdefaults": {
           "arrowcolor": "#2a3f5f",
           "arrowhead": 0,
           "arrowwidth": 1
          },
          "autotypenumbers": "strict",
          "coloraxis": {
           "colorbar": {
            "outlinewidth": 0,
            "ticks": ""
           }
          },
          "colorscale": {
           "diverging": [
            [
             0,
             "#8e0152"
            ],
            [
             0.1,
             "#c51b7d"
            ],
            [
             0.2,
             "#de77ae"
            ],
            [
             0.3,
             "#f1b6da"
            ],
            [
             0.4,
             "#fde0ef"
            ],
            [
             0.5,
             "#f7f7f7"
            ],
            [
             0.6,
             "#e6f5d0"
            ],
            [
             0.7,
             "#b8e186"
            ],
            [
             0.8,
             "#7fbc41"
            ],
            [
             0.9,
             "#4d9221"
            ],
            [
             1,
             "#276419"
            ]
           ],
           "sequential": [
            [
             0,
             "#0d0887"
            ],
            [
             0.1111111111111111,
             "#46039f"
            ],
            [
             0.2222222222222222,
             "#7201a8"
            ],
            [
             0.3333333333333333,
             "#9c179e"
            ],
            [
             0.4444444444444444,
             "#bd3786"
            ],
            [
             0.5555555555555556,
             "#d8576b"
            ],
            [
             0.6666666666666666,
             "#ed7953"
            ],
            [
             0.7777777777777778,
             "#fb9f3a"
            ],
            [
             0.8888888888888888,
             "#fdca26"
            ],
            [
             1,
             "#f0f921"
            ]
           ],
           "sequentialminus": [
            [
             0,
             "#0d0887"
            ],
            [
             0.1111111111111111,
             "#46039f"
            ],
            [
             0.2222222222222222,
             "#7201a8"
            ],
            [
             0.3333333333333333,
             "#9c179e"
            ],
            [
             0.4444444444444444,
             "#bd3786"
            ],
            [
             0.5555555555555556,
             "#d8576b"
            ],
            [
             0.6666666666666666,
             "#ed7953"
            ],
            [
             0.7777777777777778,
             "#fb9f3a"
            ],
            [
             0.8888888888888888,
             "#fdca26"
            ],
            [
             1,
             "#f0f921"
            ]
           ]
          },
          "colorway": [
           "#636efa",
           "#EF553B",
           "#00cc96",
           "#ab63fa",
           "#FFA15A",
           "#19d3f3",
           "#FF6692",
           "#B6E880",
           "#FF97FF",
           "#FECB52"
          ],
          "font": {
           "color": "#2a3f5f"
          },
          "geo": {
           "bgcolor": "white",
           "lakecolor": "white",
           "landcolor": "#E5ECF6",
           "showlakes": true,
           "showland": true,
           "subunitcolor": "white"
          },
          "hoverlabel": {
           "align": "left"
          },
          "hovermode": "closest",
          "mapbox": {
           "style": "light"
          },
          "paper_bgcolor": "white",
          "plot_bgcolor": "#E5ECF6",
          "polar": {
           "angularaxis": {
            "gridcolor": "white",
            "linecolor": "white",
            "ticks": ""
           },
           "bgcolor": "#E5ECF6",
           "radialaxis": {
            "gridcolor": "white",
            "linecolor": "white",
            "ticks": ""
           }
          },
          "scene": {
           "xaxis": {
            "backgroundcolor": "#E5ECF6",
            "gridcolor": "white",
            "gridwidth": 2,
            "linecolor": "white",
            "showbackground": true,
            "ticks": "",
            "zerolinecolor": "white"
           },
           "yaxis": {
            "backgroundcolor": "#E5ECF6",
            "gridcolor": "white",
            "gridwidth": 2,
            "linecolor": "white",
            "showbackground": true,
            "ticks": "",
            "zerolinecolor": "white"
           },
           "zaxis": {
            "backgroundcolor": "#E5ECF6",
            "gridcolor": "white",
            "gridwidth": 2,
            "linecolor": "white",
            "showbackground": true,
            "ticks": "",
            "zerolinecolor": "white"
           }
          },
          "shapedefaults": {
           "line": {
            "color": "#2a3f5f"
           }
          },
          "ternary": {
           "aaxis": {
            "gridcolor": "white",
            "linecolor": "white",
            "ticks": ""
           },
           "baxis": {
            "gridcolor": "white",
            "linecolor": "white",
            "ticks": ""
           },
           "bgcolor": "#E5ECF6",
           "caxis": {
            "gridcolor": "white",
            "linecolor": "white",
            "ticks": ""
           }
          },
          "title": {
           "x": 0.05
          },
          "xaxis": {
           "automargin": true,
           "gridcolor": "white",
           "linecolor": "white",
           "ticks": "",
           "title": {
            "standoff": 15
           },
           "zerolinecolor": "white",
           "zerolinewidth": 2
          },
          "yaxis": {
           "automargin": true,
           "gridcolor": "white",
           "linecolor": "white",
           "ticks": "",
           "title": {
            "standoff": 15
           },
           "zerolinecolor": "white",
           "zerolinewidth": 2
          }
         }
        },
        "yaxis": {
         "type": "log"
        }
       }
      }
     },
     "metadata": {},
     "output_type": "display_data"
    }
   ],
   "source": [
    "def plt_spectrum(z, t_start1=0.763):\n",
    "    from util import plot_spectrum_at\n",
    "    from scipy import signal\n",
    "    windows_len = 8192\n",
    "    ff, tt, S = signal.spectrogram(z, 441000, nperseg=windows_len, noverlap=windows_len/2)\n",
    "    plot_spectrum_at(ff, tt, S, t_start1)\n",
    "\n",
    "plt_spectrum(ref)"
   ]
  },
  {
   "cell_type": "code",
   "execution_count": null,
   "metadata": {
    "executionInfo": {
     "elapsed": 13,
     "status": "ok",
     "timestamp": 1702317971657,
     "user": {
      "displayName": "PEDRO RAMONEDA FRANCO",
      "userId": "10653804143244385715"
     },
     "user_tz": -60
    },
    "id": "-1LHtBuyZ9q6"
   },
   "outputs": [
    {
     "data": {
      "application/vnd.plotly.v1+json": {
       "config": {
        "linkText": "Export to plot.ly",
        "plotlyServerURL": "https://plot.ly",
        "showLink": false
       },
       "data": [
        {
         "line": {
          "color": "#1f77b4",
          "shape": "linear"
         },
         "mode": "lines",
         "name": "audio signal 0",
         "type": "scatter",
         "x": [
          0.1000040361640297,
          0.1000267128162211,
          0.10004938946841248,
          0.10007206612060388,
          0.10009474277279526,
          0.10011741942498666,
          0.10014009607717804,
          0.10016277272936944,
          0.10018544938156082,
          0.10020812603375222,
          0.1002308026859436,
          0.100253479338135,
          0.10027615599032638,
          0.10029883264251777,
          0.10032150929470916,
          0.10034418594690055,
          0.10036686259909194,
          0.10038953925128333,
          0.10041221590347472,
          0.10043489255566611,
          0.1004575692078575,
          0.10048024586004889,
          0.10050292251224029,
          0.10052559916443167,
          0.10054827581662307,
          0.10057095246881445,
          0.10059362912100585,
          0.10061630577319723,
          0.10063898242538862,
          0.10066165907758001,
          0.1006843357297714,
          0.1007070123819628,
          0.10072968903415418,
          0.10075236568634557,
          0.10077504233853696,
          0.10079771899072835,
          0.10082039564291974,
          0.10084307229511114,
          0.10086574894730252,
          0.10088842559949392,
          0.1009111022516853,
          0.1009337789038767,
          0.10095645555606808,
          0.10097913220825946,
          0.10100180886045086,
          0.10102448551264225,
          0.10104716216483364,
          0.10106983881702503,
          0.10109251546921642,
          0.10111519212140781,
          0.1011378687735992,
          0.10116054542579059,
          0.10118322207798199,
          0.10120589873017337,
          0.10122857538236477,
          0.10125125203455615,
          0.10127392868674755,
          0.10129660533893893,
          0.10131928199113031,
          0.10134195864332171,
          0.1013646352955131,
          0.10138731194770449,
          0.10140998859989588,
          0.10143266525208727,
          0.10145534190427866,
          0.10147801855647005,
          0.10150069520866144,
          0.10152337186085283,
          0.10154604851304422,
          0.10156872516523562,
          0.101591401817427,
          0.1016140784696184,
          0.10163675512180978,
          0.10165943177400116,
          0.10168210842619256,
          0.10170478507838394,
          0.10172746173057534,
          0.10175013838276672,
          0.10177281503495812,
          0.1017954916871495,
          0.1018181683393409,
          0.10184084499153229,
          0.10186352164372368,
          0.10188619829591507,
          0.10190887494810646,
          0.10193155160029785,
          0.10195422825248925,
          0.10197690490468063,
          0.10199958155687201,
          0.10202225820906341,
          0.1020449348612548,
          0.10206761151344619,
          0.10209028816563757,
          0.10211296481782897,
          0.10213564147002036,
          0.10215831812221175,
          0.10218099477440314,
          0.10220367142659453,
          0.10222634807878592,
          0.10224902473097731,
          0.1022717013831687,
          0.1022943780353601,
          0.10231705468755148,
          0.10233973133974286,
          0.10236240799193426,
          0.10238508464412564,
          0.10240776129631704,
          0.10243043794850842,
          0.10245311460069982,
          0.1024757912528912,
          0.1024984679050826,
          0.10252114455727399,
          0.10254382120946538,
          0.10256649786165677,
          0.10258917451384816,
          0.10261185116603955,
          0.10263452781823094,
          0.10265720447042233,
          0.10267988112261371,
          0.10270255777480511,
          0.10272523442699649,
          0.10274791107918789,
          0.10277058773137927,
          0.10279326438357067,
          0.10281594103576205,
          0.10283861768795345,
          0.10286129434014483,
          0.10288397099233623,
          0.10290664764452762,
          0.10292932429671901,
          0.1029520009489104,
          0.1029746776011018,
          0.10299735425329318,
          0.10302003090548456,
          0.10304270755767596,
          0.10306538420986734,
          0.10308806086205874,
          0.10311073751425012,
          0.10313341416644152,
          0.1031560908186329,
          0.1031787674708243,
          0.10320144412301568,
          0.10322412077520708,
          0.10324679742739847,
          0.10326947407958986,
          0.10329215073178125,
          0.10331482738397264,
          0.10333750403616403,
          0.10336018068835541,
          0.10338285734054681,
          0.10340553399273819,
          0.10342821064492959,
          0.10345088729712097,
          0.10347356394931237,
          0.10349624060150375,
          0.10351891725369515,
          0.10354159390588653,
          0.10356427055807793,
          0.10358694721026931,
          0.10360962386246071,
          0.1036323005146521,
          0.10365497716684348,
          0.10367765381903488,
          0.10370033047122626,
          0.10372300712341766,
          0.10374568377560904,
          0.10376836042780044,
          0.10379103707999182,
          0.10381371373218322,
          0.1038363903843746,
          0.103859067036566,
          0.10388174368875738,
          0.10390442034094878,
          0.10392709699314016,
          0.10394977364533156,
          0.10397245029752294,
          0.10399512694971433,
          0.10401780360190573,
          0.10404048025409711,
          0.1040631569062885,
          0.10408583355847989,
          0.10410851021067129,
          0.10413118686286267,
          0.10415386351505407,
          0.10417654016724545,
          0.10419921681943685,
          0.10422189347162823,
          0.10424457012381963,
          0.10426724677601101,
          0.10428992342820241,
          0.1043126000803938,
          0.10433527673258518,
          0.10435795338477658,
          0.10438063003696796,
          0.10440330668915936,
          0.10442598334135074,
          0.10444865999354214,
          0.10447133664573352,
          0.10449401329792492,
          0.1045166899501163,
          0.1045393666023077,
          0.10456204325449908,
          0.10458471990669048,
          0.10460739655888186,
          0.10463007321107326,
          0.10465274986326464,
          0.10467542651545603,
          0.10469810316764742,
          0.10472077981983881,
          0.1047434564720302,
          0.10476613312422159,
          0.10478880977641299,
          0.10481148642860437,
          0.10483416308079577,
          0.10485683973298715,
          0.10487951638517855,
          0.10490219303736993,
          0.10492486968956133,
          0.10494754634175271,
          0.10497022299394411,
          0.10499289964613549,
          0.10501557629832688,
          0.10503825295051827,
          0.10506092960270966,
          0.10508360625490105,
          0.10510628290709244,
          0.10512895955928384,
          0.10515163621147522,
          0.10517431286366662,
          0.105196989515858,
          0.1052196661680494,
          0.10524234282024078,
          0.10526501947243218,
          0.10528769612462356,
          0.10531037277681496,
          0.10533304942900634,
          0.10535572608119773,
          0.10537840273338912,
          0.1054010793855805,
          0.1054237560377719,
          0.10544643268996329,
          0.10546910934215468,
          0.10549178599434607,
          0.10551446264653747,
          0.10553713929872885,
          0.10555981595092025,
          0.10558249260311163,
          0.10560516925530303,
          0.10562784590749441,
          0.10565052255968581,
          0.10567319921187719,
          0.10569587586406858,
          0.10571855251625997,
          0.10574122916845136,
          0.10576390582064275,
          0.10578658247283414,
          0.10580925912502553,
          0.10583193577721692,
          0.10585461242940832,
          0.1058772890815997,
          0.1058999657337911,
          0.10592264238598248,
          0.10594531903817388,
          0.10596799569036526,
          0.10599067234255666,
          0.10601334899474804,
          0.10603602564693942,
          0.10605870229913082,
          0.1060813789513222,
          0.1061040556035136,
          0.10612673225570499,
          0.10614940890789638,
          0.10617208556008777,
          0.10619476221227916,
          0.10621743886447055,
          0.10624011551666195,
          0.10626279216885333,
          0.10628546882104473,
          0.10630814547323611,
          0.10633082212542751,
          0.10635349877761889,
          0.10637617542981027,
          0.10639885208200167,
          0.10642152873419305,
          0.10644420538638445,
          0.10646688203857584,
          0.10648955869076723,
          0.10651223534295862,
          0.10653491199515001
         ],
         "y": [
          0.22589784423024292,
          0.2494453744044983,
          0.2733041600337708,
          0.29223852912099,
          0.3094642714610779,
          0.3277687386623108,
          0.3403386429897034,
          0.3502241925349915,
          0.36134475032002566,
          0.3671827868571961,
          0.3713198260417664,
          0.3765106753459656,
          0.3788459853282654,
          0.38086145678670047,
          0.38578253546864627,
          0.3937603787532532,
          0.3994957760921204,
          0.401974971686908,
          0.3993654803386414,
          0.38837784091145633,
          0.37189274588734744,
          0.3484565571895325,
          0.32079761782796024,
          0.2900691584697449,
          0.25752156535298465,
          0.22682767668873902,
          0.1938672618022644,
          0.1623048142543518,
          0.135494406615802,
          0.11018436709553835,
          0.08736520568043825,
          0.06876128474385378,
          0.05331843653828737,
          0.03988915244252321,
          0.02979450980336305,
          0.0241946534267151,
          0.022005970870562757,
          0.01806681910664674,
          0.01044004717976686,
          -0.0014709874042785499,
          -0.019731704796246325,
          -0.04237908562510374,
          -0.07360130986063841,
          -0.11423236569254759,
          -0.15713519295542602,
          -0.2008485241779602,
          -0.24261683663218384,
          -0.2795224829563415,
          -0.3116551085361755,
          -0.3376905365833557,
          -0.36143285473673703,
          -0.3843225880512512,
          -0.40307230194895627,
          -0.41856438359110715,
          -0.42838210305064084,
          -0.4312474175342834,
          -0.43050939282267453,
          -0.42460972508280637,
          -0.4144613190540588,
          -0.4051024361500061,
          -0.3935151739963806,
          -0.3774291916736877,
          -0.36148614128916623,
          -0.34598190029948117,
          -0.33253020485728146,
          -0.32281715115397336,
          -0.31475466927378537,
          -0.3099033280262268,
          -0.30670828064768674,
          -0.3006326599964416,
          -0.2923708601841247,
          -0.2814065857776916,
          -0.2658404751667297,
          -0.2474803372272766,
          -0.22660083016245727,
          -0.20647281845896606,
          -0.19199318131296997,
          -0.18128186901896362,
          -0.1732662363895691,
          -0.16734570702402954,
          -0.16033345898478393,
          -0.14966243943064575,
          -0.1347298069843567,
          -0.11592466076701048,
          -0.09131294926493529,
          -0.062205259407452376,
          -0.029581729973248278,
          0.007609303390094009,
          0.043413217460223405,
          0.07772546569020387,
          0.11113994876057741,
          0.1368451670757019,
          0.1590588645091736,
          0.1796690777888977,
          0.193353350555011,
          0.20391922751576538,
          0.2106340483775818,
          0.2094840363612854,
          0.20248907366902466,
          0.19246428767354126,
          0.18295949259907837,
          0.17487281123311157,
          0.1709631041637146,
          0.17722934046895142,
          0.19153445521504517,
          0.20883994856984253,
          0.22938471594960327,
          0.2509531334987366,
          0.27126007834584354,
          0.29009204665333865,
          0.30507427016408084,
          0.31934171477467654,
          0.33444255152852176,
          0.34662395278126834,
          0.35512572089345096,
          0.3606440381160462,
          0.36495404997975467,
          0.36735719004780887,
          0.3705519990077698,
          0.3799838379970276,
          0.38994794646412967,
          0.39575188914448856,
          0.40164619246632693,
          0.4030670479884827,
          0.396919663344928,
          0.38647621432454227,
          0.36829596320302127,
          0.34517508307606815,
          0.31890254775197147,
          0.2882775620570862,
          0.2567200020900452,
          0.2267269448390686,
          0.19895630637318726,
          0.16997843543202515,
          0.1401851729503357,
          0.11182814398915407,
          0.0887611464610779,
          0.07066696444661257,
          0.055377777015277116,
          0.04574244776875612,
          0.03696459094197389,
          0.03184943953663942,
          0.02956538954884645,
          0.023714239989825452,
          0.018811519538470472,
          0.007984335815020767,
          -0.012232367599896226,
          -0.03871447285502318,
          -0.07472414215891722,
          -0.11485642632334593,
          -0.15491074761240844,
          -0.19557136734812622,
          -0.23460549553721313,
          -0.2701453610309875,
          -0.3013736649402893,
          -0.3299250050434387,
          -0.3572590990909851,
          -0.38201231201975705,
          -0.40117246350138547,
          -0.4136148138889587,
          -0.42267162045328976,
          -0.42703348835795285,
          -0.42621869286387326,
          -0.4241530342945373,
          -0.41768736084788205,
          -0.4071349545368469,
          -0.39289111336558225,
          -0.3750476284870422,
          -0.3605395003208435,
          -0.3480090542682922,
          -0.3371673270115173,
          -0.3300421877750671,
          -0.3234433575519836,
          -0.31924540242045285,
          -0.31708473404734494,
          -0.3107393427738464,
          -0.2994565411457336,
          -0.28461713036387326,
          -0.26456052502482297,
          -0.24504739483683471,
          -0.2284877940067566,
          -0.21172553738444214,
          -0.1992163105854309,
          -0.1913357420810974,
          -0.18566400250285034,
          -0.17968529900401,
          -0.17099327286570434,
          -0.16012829979746704,
          -0.1451750441440857,
          -0.12408143719523314,
          -0.09752947529642943,
          -0.06686646183817747,
          -0.03238660534708861,
          0.0026274279704773095,
          0.037043984328814714,
          0.07125263968617555,
          0.10209947386891481,
          0.12946360865742798,
          0.15339463511616822,
          0.1742134646526062,
          0.19098084727437134,
          0.20265477458150025,
          0.20765894213826294,
          0.20207088748128052,
          0.19260364333302613,
          0.18316441336781616,
          0.17207997599751587,
          0.16764872828633423,
          0.17124491492421265,
          0.17917292872578736,
          0.19282060424000855,
          0.20991378585011597,
          0.228564794456073,
          0.24780815402180786,
          0.2681587294688904,
          0.2883993939510071,
          0.30591052333027957,
          0.32173269549519656,
          0.3335848406902039,
          0.3437305049052918,
          0.3529038981548035,
          0.35742014208943484,
          0.36266094008595584,
          0.3690777377238953,
          0.3762571171870911,
          0.38644498149067996,
          0.3950399712672913,
          0.4019042805782044,
          0.4070849970927918,
          0.40727370539815066,
          0.40083771506459354,
          0.3871337727657044,
          0.3676034764400208,
          0.3427575186839783,
          0.31720107356221316,
          0.29255085745961307,
          0.2646073655238831,
          0.23454170981557007,
          0.20257871905476685,
          0.17040782729298706,
          0.14143925467640991,
          0.11683386126668092,
          0.09632592955739137,
          0.07782333651692507,
          0.06321221152455446,
          0.05437236586720583,
          0.050006444846698014,
          0.04836350241810915,
          0.04734664717824098,
          0.04391437331349489,
          0.03577845851094362,
          0.02144962111622926,
          -0.00147253712504271,
          -0.03372377594797972,
          -0.07045394619791868,
          -0.10770696839182738,
          -0.1457490368732727,
          -0.1836189671406067,
          -0.221258465851239,
          -0.2554773732075012,
          -0.2876603051075256,
          -0.32103723725169064,
          -0.34846765240519406,
          -0.37095696171610715,
          -0.38995272358744504,
          -0.40329832276194455,
          -0.41534084519236447,
          -0.42364770611613156,
          -0.4239168806919372,
          -0.41967684468119504,
          -0.41206998070567014,
          -0.3992691679844177,
          -0.38436800679057004,
          -0.36885709008067014,
          -0.35548764904826047,
          -0.3443067713627136,
          -0.33489650925486447,
          -0.3326221152195251,
          -0.33051556786387326,
          -0.32616466721384885,
          -0.32179505070536496,
          -0.31159180840342404,
          -0.29745561322062375,
          -0.2806924029239929,
          -0.2635380669483459,
          -0.24694544514506225,
          -0.22917265137522583,
          -0.21604198654978637,
          -0.20646697720377807
         ]
        },
        {
         "line": {
          "color": "#ff7f0e",
          "shape": "linear"
         },
         "mode": "lines",
         "name": "audio signal 1",
         "type": "scatter",
         "x": [
          0.1000040361640297,
          0.1000267128162211,
          0.10004938946841248,
          0.10007206612060388,
          0.10009474277279526,
          0.10011741942498666,
          0.10014009607717804,
          0.10016277272936944,
          0.10018544938156082,
          0.10020812603375222,
          0.1002308026859436,
          0.100253479338135,
          0.10027615599032638,
          0.10029883264251777,
          0.10032150929470916,
          0.10034418594690055,
          0.10036686259909194,
          0.10038953925128333,
          0.10041221590347472,
          0.10043489255566611,
          0.1004575692078575,
          0.10048024586004889,
          0.10050292251224029,
          0.10052559916443167,
          0.10054827581662307,
          0.10057095246881445,
          0.10059362912100585,
          0.10061630577319723,
          0.10063898242538862,
          0.10066165907758001,
          0.1006843357297714,
          0.1007070123819628,
          0.10072968903415418,
          0.10075236568634557,
          0.10077504233853696,
          0.10079771899072835,
          0.10082039564291974,
          0.10084307229511114,
          0.10086574894730252,
          0.10088842559949392,
          0.1009111022516853,
          0.1009337789038767,
          0.10095645555606808,
          0.10097913220825946,
          0.10100180886045086,
          0.10102448551264225,
          0.10104716216483364,
          0.10106983881702503,
          0.10109251546921642,
          0.10111519212140781,
          0.1011378687735992,
          0.10116054542579059,
          0.10118322207798199,
          0.10120589873017337,
          0.10122857538236477,
          0.10125125203455615,
          0.10127392868674755,
          0.10129660533893893,
          0.10131928199113031,
          0.10134195864332171,
          0.1013646352955131,
          0.10138731194770449,
          0.10140998859989588,
          0.10143266525208727,
          0.10145534190427866,
          0.10147801855647005,
          0.10150069520866144,
          0.10152337186085283,
          0.10154604851304422,
          0.10156872516523562,
          0.101591401817427,
          0.1016140784696184,
          0.10163675512180978,
          0.10165943177400116,
          0.10168210842619256,
          0.10170478507838394,
          0.10172746173057534,
          0.10175013838276672,
          0.10177281503495812,
          0.1017954916871495,
          0.1018181683393409,
          0.10184084499153229,
          0.10186352164372368,
          0.10188619829591507,
          0.10190887494810646,
          0.10193155160029785,
          0.10195422825248925,
          0.10197690490468063,
          0.10199958155687201,
          0.10202225820906341,
          0.1020449348612548,
          0.10206761151344619,
          0.10209028816563757,
          0.10211296481782897,
          0.10213564147002036,
          0.10215831812221175,
          0.10218099477440314,
          0.10220367142659453,
          0.10222634807878592,
          0.10224902473097731,
          0.1022717013831687,
          0.1022943780353601,
          0.10231705468755148,
          0.10233973133974286,
          0.10236240799193426,
          0.10238508464412564,
          0.10240776129631704,
          0.10243043794850842,
          0.10245311460069982,
          0.1024757912528912,
          0.1024984679050826,
          0.10252114455727399,
          0.10254382120946538,
          0.10256649786165677,
          0.10258917451384816,
          0.10261185116603955,
          0.10263452781823094,
          0.10265720447042233,
          0.10267988112261371,
          0.10270255777480511,
          0.10272523442699649,
          0.10274791107918789,
          0.10277058773137927,
          0.10279326438357067,
          0.10281594103576205,
          0.10283861768795345,
          0.10286129434014483,
          0.10288397099233623,
          0.10290664764452762,
          0.10292932429671901,
          0.1029520009489104,
          0.1029746776011018,
          0.10299735425329318,
          0.10302003090548456,
          0.10304270755767596,
          0.10306538420986734,
          0.10308806086205874,
          0.10311073751425012,
          0.10313341416644152,
          0.1031560908186329,
          0.1031787674708243,
          0.10320144412301568,
          0.10322412077520708,
          0.10324679742739847,
          0.10326947407958986,
          0.10329215073178125,
          0.10331482738397264,
          0.10333750403616403,
          0.10336018068835541,
          0.10338285734054681,
          0.10340553399273819,
          0.10342821064492959,
          0.10345088729712097,
          0.10347356394931237,
          0.10349624060150375,
          0.10351891725369515,
          0.10354159390588653,
          0.10356427055807793,
          0.10358694721026931,
          0.10360962386246071,
          0.1036323005146521,
          0.10365497716684348,
          0.10367765381903488,
          0.10370033047122626,
          0.10372300712341766,
          0.10374568377560904,
          0.10376836042780044,
          0.10379103707999182,
          0.10381371373218322,
          0.1038363903843746,
          0.103859067036566,
          0.10388174368875738,
          0.10390442034094878,
          0.10392709699314016,
          0.10394977364533156,
          0.10397245029752294,
          0.10399512694971433,
          0.10401780360190573,
          0.10404048025409711,
          0.1040631569062885,
          0.10408583355847989,
          0.10410851021067129,
          0.10413118686286267,
          0.10415386351505407,
          0.10417654016724545,
          0.10419921681943685,
          0.10422189347162823,
          0.10424457012381963,
          0.10426724677601101,
          0.10428992342820241,
          0.1043126000803938,
          0.10433527673258518,
          0.10435795338477658,
          0.10438063003696796,
          0.10440330668915936,
          0.10442598334135074,
          0.10444865999354214,
          0.10447133664573352,
          0.10449401329792492,
          0.1045166899501163,
          0.1045393666023077,
          0.10456204325449908,
          0.10458471990669048,
          0.10460739655888186,
          0.10463007321107326,
          0.10465274986326464,
          0.10467542651545603,
          0.10469810316764742,
          0.10472077981983881,
          0.1047434564720302,
          0.10476613312422159,
          0.10478880977641299,
          0.10481148642860437,
          0.10483416308079577,
          0.10485683973298715,
          0.10487951638517855,
          0.10490219303736993,
          0.10492486968956133,
          0.10494754634175271,
          0.10497022299394411,
          0.10499289964613549,
          0.10501557629832688,
          0.10503825295051827,
          0.10506092960270966,
          0.10508360625490105,
          0.10510628290709244,
          0.10512895955928384,
          0.10515163621147522,
          0.10517431286366662,
          0.105196989515858,
          0.1052196661680494,
          0.10524234282024078,
          0.10526501947243218,
          0.10528769612462356,
          0.10531037277681496,
          0.10533304942900634,
          0.10535572608119773,
          0.10537840273338912,
          0.1054010793855805,
          0.1054237560377719,
          0.10544643268996329,
          0.10546910934215468,
          0.10549178599434607,
          0.10551446264653747,
          0.10553713929872885,
          0.10555981595092025,
          0.10558249260311163,
          0.10560516925530303,
          0.10562784590749441,
          0.10565052255968581,
          0.10567319921187719,
          0.10569587586406858,
          0.10571855251625997,
          0.10574122916845136,
          0.10576390582064275,
          0.10578658247283414,
          0.10580925912502553,
          0.10583193577721692,
          0.10585461242940832,
          0.1058772890815997,
          0.1058999657337911,
          0.10592264238598248,
          0.10594531903817388,
          0.10596799569036526,
          0.10599067234255666,
          0.10601334899474804,
          0.10603602564693942,
          0.10605870229913082,
          0.1060813789513222,
          0.1061040556035136,
          0.10612673225570499,
          0.10614940890789638,
          0.10617208556008777,
          0.10619476221227916,
          0.10621743886447055,
          0.10624011551666195,
          0.10626279216885333,
          0.10628546882104473,
          0.10630814547323611,
          0.10633082212542751,
          0.10635349877761889,
          0.10637617542981027,
          0.10639885208200167,
          0.10642152873419305,
          0.10644420538638445,
          0.10646688203857584,
          0.10648955869076723,
          0.10651223534295862,
          0.10653491199515001
         ],
         "y": [
          -0.1462714950903332,
          -0.022599981017612354,
          0.10528069300309847,
          0.23448624598480527,
          0.36247249615281324,
          0.4871317646057649,
          0.606828746410517,
          0.7203748421652947,
          0.82694691600802,
          0.9259627493933388,
          1.0169304107570023,
          1.0992918191207894,
          1.1722816047843065,
          1.234820859605852,
          1.285461668814718,
          1.3223928059284753,
          1.3435102272392807,
          1.346548732590098,
          1.3292641355666466,
          1.289649259266793,
          1.2261626945576507,
          1.137947008970368,
          1.0250132391186224,
          0.8883710524146301,
          0.7300886885444945,
          0.5532732238791115,
          0.36196919897471724,
          0.16098145312347414,
          -0.04436467222541605,
          -0.24850651340276578,
          -0.44594716774496906,
          -0.6315530543502931,
          -0.8008210667069893,
          -0.9500934021255835,
          -1.0767032499588403,
          -1.1790412229468343,
          -1.256540039523851,
          -1.3095827334569896,
          -1.3393467931682521,
          -1.3476023990263528,
          -1.3364867594639716,
          -1.308278075771478,
          -1.2651917613407415,
          -1.2092183276150874,
          -1.14201718876297,
          -1.0648740929660516,
          -0.9787226633726374,
          -0.884223395459437,
          -0.7818871641184185,
          -0.6722255035583776,
          -0.5559071333441216,
          -0.43389969709879767,
          -0.30757749538957513,
          -0.17877992300594728,
          -0.04981093101559223,
          0.0766234842886247,
          0.19753573281452835,
          0.3098243687553003,
          0.4104729642739009,
          0.49676018779567177,
          0.5664595040845597,
          0.6180075737403081,
          0.6506233406728041,
          0.6643646561875503,
          0.6601155885988867,
          0.6395046449438898,
          0.6047612397093706,
          0.5585241328532631,
          0.5036205486148333,
          0.4428377465617141,
          0.37870961822288884,
          0.3133393349417981,
          0.24827533085364614,
          0.18445235580655764,
          0.12220255386237393,
          0.061334221042659516,
          0.0012688343238723935,
          -0.05877913875160988,
          -0.11959960740397545,
          -0.18178374288915045,
          -0.24554277306639574,
          -0.3105687895756009,
          -0.3759532841694688,
          -0.44017310460434755,
          -0.5011464857769521,
          -0.5563545044183622,
          -0.6030164893266756,
          -0.6383023050803408,
          -0.6595605995438999,
          -0.6645404599667438,
          -0.6515846249777887,
          -0.6197753691822375,
          -0.5690190940844571,
          -0.5000620001477427,
          -0.41443630759422256,
          -0.3143435879594293,
          -0.20248811591476257,
          -0.08187808356182474,
          0.04438447940853477,
          0.17330347752875233,
          0.3021581671059291,
          0.42862586993707974,
          0.5508470691657276,
          0.6674285605257061,
          0.7773873608398917,
          0.8800447873269915,
          0.9748857902386393,
          1.0614026314598288,
          1.138943912133023,
          1.2065895448808845,
          1.2630695690469194,
          1.3067399931500734,
          1.3356226065271102,
          1.3475085866262435,
          1.3401184915487458,
          1.3113046394819032,
          1.259276645183277,
          1.1828275787777596,
          1.0815372059654609,
          0.9559301955348962,
          0.8075709209930275,
          0.6390821775473277,
          0.4540822178301567,
          0.2570422668291551,
          0.0530743222349229,
          -0.15233419743159654,
          -0.353617217577338,
          -0.5454333773561563,
          -0.7229505507570956,
          -0.8820879078607896,
          -1.0196960478745414,
          -1.133661754480699,
          -1.2229312042221925,
          -1.2874532579064728,
          -1.3280519908730002,
          -1.3462441098621942,
          -1.3440217121194766,
          -1.323623493748176,
          -1.287317762552114,
          -1.237218459569972,
          -1.1751510960934468,
          -1.102579543546056,
          -1.0205976174299378,
          -0.9299821214612642,
          -0.831297235584858,
          -0.725034556050772,
          -0.6117693092783735,
          -0.4923116531437949,
          -0.36783270583687233,
          -0.23994791111877475,
          -0.11074522915851348,
          0.017248098730664886,
          0.14115950350312526,
          0.25791814342382713,
          0.36444133172793297,
          0.4578419509601796,
          0.5356357708346408,
          0.5959271443693448,
          0.6375534255676399,
          0.6601724406795595,
          0.664283037995908,
          0.6511755403635539,
          0.6228161136989767,
          0.5816758843543745,
          0.5305213662045185,
          0.47218678638085954,
          0.4093507963051275,
          0.34433961533683977,
          0.2789759169175513,
          0.2144880124315467,
          0.1514876095446137,
          0.09001727384042926,
          0.029661451649790005,
          -0.030291721646385335,
          -0.0906559056739005,
          -0.15214082481655597,
          -0.2151579881696483,
          -0.2796593283937482,
          -0.3450267906128034,
          -0.4100255832190933,
          -0.4728271583517021,
          -0.5311007161865218,
          -0.5821648845802664,
          -0.6231849599811043,
          -0.6513963598076391,
          -0.6643322221454504,
          -0.6600326740452426,
          -0.6372152112967185,
          -0.5953896810545665,
          -0.5349071015908851,
          -0.4569383807899495,
          -0.36338618393802996,
          -0.2567399925546907,
          -0.13989007387603442,
          -0.015920048893854052,
          0.11210040832217721,
          0.24130167378202308,
          0.36916073270879796,
          0.49359452329953324,
          0.6129925182581044,
          0.726187910301538,
          0.8323737239599627,
          0.9309764239828933,
          1.0215044533971336,
          1.1033920807226942,
          1.1758596378972477,
          1.2378095982512123,
          1.287774136231986,
          1.3239242190760043,
          1.3441434891497828,
          1.3461629194803801,
          1.327745235838274,
          1.2869021437690642,
          1.2221231219849065,
          1.1325924167881616,
          1.0183711460872773,
          0.8805240972971419,
          0.7211756318086864,
          0.5434856150966549,
          0.35154382435092585,
          0.15018908341737297,
          -0.055233354518488084,
          -0.25915665393904397,
          -0.45609583075083926,
          -0.6409443127414501,
          -0.8092388388895294,
          -0.9573710023547108,
          -1.08272893861405,
          -1.1837594295078542,
          -1.2599483450057678,
          -1.3117250985121698,
          -1.3403038626229817,
          -1.3474799687784214,
          -1.3354036323486285,
          -1.3063545461130555,
          -1.2625398536570844,
          -1.205934686758378,
          -1.1381792018465584,
          -1.0605394519988698,
          -0.973932191300978,
          -0.87900659825821,
          -0.7762696756010997,
          -0.6662373885850748,
          -0.5495909297680901,
          -0.42731711539613604,
          -0.3008138525536967,
          -0.17194564641218152,
          -0.04303980028256553,
          0.08317931991156359,
          0.20371355720957235,
          0.31546079299824115,
          0.4154149358962454,
          0.500875995931244,
          0.569648637700179,
          0.6202083893270315,
          0.651817707516537,
          0.6645790495520795,
          0.6594184621044439,
          0.6380002950742028,
          0.6025807374180377,
          0.5558142013328137,
          0.500531480142083,
          0.4395115520923544,
          0.3752695801016222,
          0.30988198778942727,
          0.24486564329983165,
          0.18112255244942405,
          0.11895463738963977,
          0.05814586847146454,
          -0.0018980108296009516,
          -0.06196793802720489,
          -0.12284830364418409,
          -0.18511444431668694,
          -0.24895318485186352,
          -0.31402635007085317,
          -0.37939268060611786,
          -0.44349749035384917,
          -0.5042323351476594,
          -0.5590596618026624,
          -0.6051906369046353,
          -0.6397988218991503,
          -0.6602486407136767,
          -0.6643160627211596,
          -0.6503797503739823,
          -0.6175640031506106,
          -0.5658198364210858,
          -0.49593693249237547,
          -0.40948631307853656,
          -0.3087006557332851
         ]
        }
       ],
       "layout": {
        "template": {
         "data": {
          "bar": [
           {
            "error_x": {
             "color": "#2a3f5f"
            },
            "error_y": {
             "color": "#2a3f5f"
            },
            "marker": {
             "line": {
              "color": "#E5ECF6",
              "width": 0.5
             },
             "pattern": {
              "fillmode": "overlay",
              "size": 10,
              "solidity": 0.2
             }
            },
            "type": "bar"
           }
          ],
          "barpolar": [
           {
            "marker": {
             "line": {
              "color": "#E5ECF6",
              "width": 0.5
             },
             "pattern": {
              "fillmode": "overlay",
              "size": 10,
              "solidity": 0.2
             }
            },
            "type": "barpolar"
           }
          ],
          "carpet": [
           {
            "aaxis": {
             "endlinecolor": "#2a3f5f",
             "gridcolor": "white",
             "linecolor": "white",
             "minorgridcolor": "white",
             "startlinecolor": "#2a3f5f"
            },
            "baxis": {
             "endlinecolor": "#2a3f5f",
             "gridcolor": "white",
             "linecolor": "white",
             "minorgridcolor": "white",
             "startlinecolor": "#2a3f5f"
            },
            "type": "carpet"
           }
          ],
          "choropleth": [
           {
            "colorbar": {
             "outlinewidth": 0,
             "ticks": ""
            },
            "type": "choropleth"
           }
          ],
          "contour": [
           {
            "colorbar": {
             "outlinewidth": 0,
             "ticks": ""
            },
            "colorscale": [
             [
              0,
              "#0d0887"
             ],
             [
              0.1111111111111111,
              "#46039f"
             ],
             [
              0.2222222222222222,
              "#7201a8"
             ],
             [
              0.3333333333333333,
              "#9c179e"
             ],
             [
              0.4444444444444444,
              "#bd3786"
             ],
             [
              0.5555555555555556,
              "#d8576b"
             ],
             [
              0.6666666666666666,
              "#ed7953"
             ],
             [
              0.7777777777777778,
              "#fb9f3a"
             ],
             [
              0.8888888888888888,
              "#fdca26"
             ],
             [
              1,
              "#f0f921"
             ]
            ],
            "type": "contour"
           }
          ],
          "contourcarpet": [
           {
            "colorbar": {
             "outlinewidth": 0,
             "ticks": ""
            },
            "type": "contourcarpet"
           }
          ],
          "heatmap": [
           {
            "colorbar": {
             "outlinewidth": 0,
             "ticks": ""
            },
            "colorscale": [
             [
              0,
              "#0d0887"
             ],
             [
              0.1111111111111111,
              "#46039f"
             ],
             [
              0.2222222222222222,
              "#7201a8"
             ],
             [
              0.3333333333333333,
              "#9c179e"
             ],
             [
              0.4444444444444444,
              "#bd3786"
             ],
             [
              0.5555555555555556,
              "#d8576b"
             ],
             [
              0.6666666666666666,
              "#ed7953"
             ],
             [
              0.7777777777777778,
              "#fb9f3a"
             ],
             [
              0.8888888888888888,
              "#fdca26"
             ],
             [
              1,
              "#f0f921"
             ]
            ],
            "type": "heatmap"
           }
          ],
          "heatmapgl": [
           {
            "colorbar": {
             "outlinewidth": 0,
             "ticks": ""
            },
            "colorscale": [
             [
              0,
              "#0d0887"
             ],
             [
              0.1111111111111111,
              "#46039f"
             ],
             [
              0.2222222222222222,
              "#7201a8"
             ],
             [
              0.3333333333333333,
              "#9c179e"
             ],
             [
              0.4444444444444444,
              "#bd3786"
             ],
             [
              0.5555555555555556,
              "#d8576b"
             ],
             [
              0.6666666666666666,
              "#ed7953"
             ],
             [
              0.7777777777777778,
              "#fb9f3a"
             ],
             [
              0.8888888888888888,
              "#fdca26"
             ],
             [
              1,
              "#f0f921"
             ]
            ],
            "type": "heatmapgl"
           }
          ],
          "histogram": [
           {
            "marker": {
             "pattern": {
              "fillmode": "overlay",
              "size": 10,
              "solidity": 0.2
             }
            },
            "type": "histogram"
           }
          ],
          "histogram2d": [
           {
            "colorbar": {
             "outlinewidth": 0,
             "ticks": ""
            },
            "colorscale": [
             [
              0,
              "#0d0887"
             ],
             [
              0.1111111111111111,
              "#46039f"
             ],
             [
              0.2222222222222222,
              "#7201a8"
             ],
             [
              0.3333333333333333,
              "#9c179e"
             ],
             [
              0.4444444444444444,
              "#bd3786"
             ],
             [
              0.5555555555555556,
              "#d8576b"
             ],
             [
              0.6666666666666666,
              "#ed7953"
             ],
             [
              0.7777777777777778,
              "#fb9f3a"
             ],
             [
              0.8888888888888888,
              "#fdca26"
             ],
             [
              1,
              "#f0f921"
             ]
            ],
            "type": "histogram2d"
           }
          ],
          "histogram2dcontour": [
           {
            "colorbar": {
             "outlinewidth": 0,
             "ticks": ""
            },
            "colorscale": [
             [
              0,
              "#0d0887"
             ],
             [
              0.1111111111111111,
              "#46039f"
             ],
             [
              0.2222222222222222,
              "#7201a8"
             ],
             [
              0.3333333333333333,
              "#9c179e"
             ],
             [
              0.4444444444444444,
              "#bd3786"
             ],
             [
              0.5555555555555556,
              "#d8576b"
             ],
             [
              0.6666666666666666,
              "#ed7953"
             ],
             [
              0.7777777777777778,
              "#fb9f3a"
             ],
             [
              0.8888888888888888,
              "#fdca26"
             ],
             [
              1,
              "#f0f921"
             ]
            ],
            "type": "histogram2dcontour"
           }
          ],
          "mesh3d": [
           {
            "colorbar": {
             "outlinewidth": 0,
             "ticks": ""
            },
            "type": "mesh3d"
           }
          ],
          "parcoords": [
           {
            "line": {
             "colorbar": {
              "outlinewidth": 0,
              "ticks": ""
             }
            },
            "type": "parcoords"
           }
          ],
          "pie": [
           {
            "automargin": true,
            "type": "pie"
           }
          ],
          "scatter": [
           {
            "fillpattern": {
             "fillmode": "overlay",
             "size": 10,
             "solidity": 0.2
            },
            "type": "scatter"
           }
          ],
          "scatter3d": [
           {
            "line": {
             "colorbar": {
              "outlinewidth": 0,
              "ticks": ""
             }
            },
            "marker": {
             "colorbar": {
              "outlinewidth": 0,
              "ticks": ""
             }
            },
            "type": "scatter3d"
           }
          ],
          "scattercarpet": [
           {
            "marker": {
             "colorbar": {
              "outlinewidth": 0,
              "ticks": ""
             }
            },
            "type": "scattercarpet"
           }
          ],
          "scattergeo": [
           {
            "marker": {
             "colorbar": {
              "outlinewidth": 0,
              "ticks": ""
             }
            },
            "type": "scattergeo"
           }
          ],
          "scattergl": [
           {
            "marker": {
             "colorbar": {
              "outlinewidth": 0,
              "ticks": ""
             }
            },
            "type": "scattergl"
           }
          ],
          "scattermapbox": [
           {
            "marker": {
             "colorbar": {
              "outlinewidth": 0,
              "ticks": ""
             }
            },
            "type": "scattermapbox"
           }
          ],
          "scatterpolar": [
           {
            "marker": {
             "colorbar": {
              "outlinewidth": 0,
              "ticks": ""
             }
            },
            "type": "scatterpolar"
           }
          ],
          "scatterpolargl": [
           {
            "marker": {
             "colorbar": {
              "outlinewidth": 0,
              "ticks": ""
             }
            },
            "type": "scatterpolargl"
           }
          ],
          "scatterternary": [
           {
            "marker": {
             "colorbar": {
              "outlinewidth": 0,
              "ticks": ""
             }
            },
            "type": "scatterternary"
           }
          ],
          "surface": [
           {
            "colorbar": {
             "outlinewidth": 0,
             "ticks": ""
            },
            "colorscale": [
             [
              0,
              "#0d0887"
             ],
             [
              0.1111111111111111,
              "#46039f"
             ],
             [
              0.2222222222222222,
              "#7201a8"
             ],
             [
              0.3333333333333333,
              "#9c179e"
             ],
             [
              0.4444444444444444,
              "#bd3786"
             ],
             [
              0.5555555555555556,
              "#d8576b"
             ],
             [
              0.6666666666666666,
              "#ed7953"
             ],
             [
              0.7777777777777778,
              "#fb9f3a"
             ],
             [
              0.8888888888888888,
              "#fdca26"
             ],
             [
              1,
              "#f0f921"
             ]
            ],
            "type": "surface"
           }
          ],
          "table": [
           {
            "cells": {
             "fill": {
              "color": "#EBF0F8"
             },
             "line": {
              "color": "white"
             }
            },
            "header": {
             "fill": {
              "color": "#C8D4E3"
             },
             "line": {
              "color": "white"
             }
            },
            "type": "table"
           }
          ]
         },
         "layout": {
          "annotationdefaults": {
           "arrowcolor": "#2a3f5f",
           "arrowhead": 0,
           "arrowwidth": 1
          },
          "autotypenumbers": "strict",
          "coloraxis": {
           "colorbar": {
            "outlinewidth": 0,
            "ticks": ""
           }
          },
          "colorscale": {
           "diverging": [
            [
             0,
             "#8e0152"
            ],
            [
             0.1,
             "#c51b7d"
            ],
            [
             0.2,
             "#de77ae"
            ],
            [
             0.3,
             "#f1b6da"
            ],
            [
             0.4,
             "#fde0ef"
            ],
            [
             0.5,
             "#f7f7f7"
            ],
            [
             0.6,
             "#e6f5d0"
            ],
            [
             0.7,
             "#b8e186"
            ],
            [
             0.8,
             "#7fbc41"
            ],
            [
             0.9,
             "#4d9221"
            ],
            [
             1,
             "#276419"
            ]
           ],
           "sequential": [
            [
             0,
             "#0d0887"
            ],
            [
             0.1111111111111111,
             "#46039f"
            ],
            [
             0.2222222222222222,
             "#7201a8"
            ],
            [
             0.3333333333333333,
             "#9c179e"
            ],
            [
             0.4444444444444444,
             "#bd3786"
            ],
            [
             0.5555555555555556,
             "#d8576b"
            ],
            [
             0.6666666666666666,
             "#ed7953"
            ],
            [
             0.7777777777777778,
             "#fb9f3a"
            ],
            [
             0.8888888888888888,
             "#fdca26"
            ],
            [
             1,
             "#f0f921"
            ]
           ],
           "sequentialminus": [
            [
             0,
             "#0d0887"
            ],
            [
             0.1111111111111111,
             "#46039f"
            ],
            [
             0.2222222222222222,
             "#7201a8"
            ],
            [
             0.3333333333333333,
             "#9c179e"
            ],
            [
             0.4444444444444444,
             "#bd3786"
            ],
            [
             0.5555555555555556,
             "#d8576b"
            ],
            [
             0.6666666666666666,
             "#ed7953"
            ],
            [
             0.7777777777777778,
             "#fb9f3a"
            ],
            [
             0.8888888888888888,
             "#fdca26"
            ],
            [
             1,
             "#f0f921"
            ]
           ]
          },
          "colorway": [
           "#636efa",
           "#EF553B",
           "#00cc96",
           "#ab63fa",
           "#FFA15A",
           "#19d3f3",
           "#FF6692",
           "#B6E880",
           "#FF97FF",
           "#FECB52"
          ],
          "font": {
           "color": "#2a3f5f"
          },
          "geo": {
           "bgcolor": "white",
           "lakecolor": "white",
           "landcolor": "#E5ECF6",
           "showlakes": true,
           "showland": true,
           "subunitcolor": "white"
          },
          "hoverlabel": {
           "align": "left"
          },
          "hovermode": "closest",
          "mapbox": {
           "style": "light"
          },
          "paper_bgcolor": "white",
          "plot_bgcolor": "#E5ECF6",
          "polar": {
           "angularaxis": {
            "gridcolor": "white",
            "linecolor": "white",
            "ticks": ""
           },
           "bgcolor": "#E5ECF6",
           "radialaxis": {
            "gridcolor": "white",
            "linecolor": "white",
            "ticks": ""
           }
          },
          "scene": {
           "xaxis": {
            "backgroundcolor": "#E5ECF6",
            "gridcolor": "white",
            "gridwidth": 2,
            "linecolor": "white",
            "showbackground": true,
            "ticks": "",
            "zerolinecolor": "white"
           },
           "yaxis": {
            "backgroundcolor": "#E5ECF6",
            "gridcolor": "white",
            "gridwidth": 2,
            "linecolor": "white",
            "showbackground": true,
            "ticks": "",
            "zerolinecolor": "white"
           },
           "zaxis": {
            "backgroundcolor": "#E5ECF6",
            "gridcolor": "white",
            "gridwidth": 2,
            "linecolor": "white",
            "showbackground": true,
            "ticks": "",
            "zerolinecolor": "white"
           }
          },
          "shapedefaults": {
           "line": {
            "color": "#2a3f5f"
           }
          },
          "ternary": {
           "aaxis": {
            "gridcolor": "white",
            "linecolor": "white",
            "ticks": ""
           },
           "baxis": {
            "gridcolor": "white",
            "linecolor": "white",
            "ticks": ""
           },
           "bgcolor": "#E5ECF6",
           "caxis": {
            "gridcolor": "white",
            "linecolor": "white",
            "ticks": ""
           }
          },
          "title": {
           "x": 0.05
          },
          "xaxis": {
           "automargin": true,
           "gridcolor": "white",
           "linecolor": "white",
           "ticks": "",
           "title": {
            "standoff": 15
           },
           "zerolinecolor": "white",
           "zerolinewidth": 2
          },
          "yaxis": {
           "automargin": true,
           "gridcolor": "white",
           "linecolor": "white",
           "ticks": "",
           "title": {
            "standoff": 15
           },
           "zerolinecolor": "white",
           "zerolinewidth": 2
          }
         }
        }
       }
      }
     },
     "metadata": {},
     "output_type": "display_data"
    }
   ],
   "source": [
    "# Write the code here\n",
    "K = 5\n",
    "t = np.arange(0, 1, 1.0/fs)\n",
    "a_k = [1, .14, .01, .06]\n",
    "multiply_factor_f0 = 1\n",
    "y = A*np.cos(2*np.pi*f0*t+np.pi/2)\n",
    "for i, k in enumerate(a_k):\n",
    "    multiply_factor_f0 += 1\n",
    "    y += k*np.cos(2*np.pi*f0*multiply_factor_f0*t+np.pi/2)\n",
    "    decay_amplitude -= 0.2\n",
    "t_start = 0.1\n",
    "t_end = t_start+3*T\n",
    "\n",
    "plot_signals([ref, y],fs, t_start=t_start, t_end=t_end)"
   ]
  },
  {
   "cell_type": "markdown",
   "metadata": {
    "id": "FFOPYFkn3fmh"
   },
   "source": [
    "3.3. Listen to the synthtesis and remark what are the main differences between the reference and synthesis."
   ]
  },
  {
   "cell_type": "code",
   "execution_count": null,
   "metadata": {
    "colab": {
     "base_uri": "https://localhost:8080/",
     "height": 176
    },
    "executionInfo": {
     "elapsed": 13,
     "status": "error",
     "timestamp": 1702317971657,
     "user": {
      "displayName": "PEDRO RAMONEDA FRANCO",
      "userId": "10653804143244385715"
     },
     "user_tz": -60
    },
    "id": "Jztm9rOd3etP",
    "outputId": "97312be1-7d6a-4034-e147-9fcac5de1e7c"
   },
   "outputs": [],
   "source": []
  },
  {
   "cell_type": "markdown",
   "metadata": {
    "id": "2S9SR2Ev3lZn"
   },
   "source": [
    "[Double click to enter your answer]"
   ]
  }
 ],
 "metadata": {
  "colab": {
   "provenance": []
  },
  "kernelspec": {
   "display_name": "Python 3",
   "language": "python",
   "name": "python3"
  },
  "language_info": {
   "codemirror_mode": {
    "name": "ipython",
    "version": 3
   },
   "file_extension": ".py",
   "mimetype": "text/x-python",
   "name": "python",
   "nbconvert_exporter": "python",
   "pygments_lexer": "ipython3",
   "version": "3.12.5"
  }
 },
 "nbformat": 4,
 "nbformat_minor": 0
}
